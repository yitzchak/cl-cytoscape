{
 "cells": [
  {
   "cell_type": "code",
   "execution_count": 1,
   "metadata": {},
   "outputs": [
    {
     "name": "stdout",
     "output_type": "stream",
     "text": [
      "To load \"cl-cytoscape\":\n",
      "  Load 1 ASDF system:\n",
      "    cl-cytoscape\n",
      "\n",
      "; Loading \"cl-cytoscape\"\n",
      "[package cytoscape]...."
     ]
    },
    {
     "data": {
      "text/plain": [
       "(:CL-CYTOSCAPE)"
      ]
     },
     "execution_count": 1,
     "metadata": {},
     "output_type": "execute_result"
    },
    {
     "name": "stdout",
     "output_type": "stream",
     "text": [
      "\n"
     ]
    }
   ],
   "source": [
    "(ql:quickload :cl-cytoscape)"
   ]
  },
  {
   "cell_type": "code",
   "execution_count": 2,
   "metadata": {},
   "outputs": [
    {
     "data": {
      "text/plain": [
       "C"
      ]
     },
     "execution_count": 2,
     "metadata": {},
     "output_type": "execute_result"
    },
    {
     "data": {
      "text/plain": [
       "NIL"
      ]
     },
     "execution_count": 2,
     "metadata": {},
     "output_type": "execute_result"
    }
   ],
   "source": [
    "(defparameter c (make-instance 'cytoscape::cytoscape-widget :graph-layouts (list (make-instance 'cytoscape:cola-layout))))\n",
    "\n",
    "(cytoscape:add-graph c (jsown:parse (alexandria:read-file-into-string \"colaData.json\")))"
   ]
  },
  {
   "cell_type": "code",
   "execution_count": 3,
   "metadata": {},
   "outputs": [
    {
     "data": {
      "application/vnd.jupyter.widget-view+json": {
       "model_id": "5b2a46feef5d4eb59df7547921dc836f",
       "version_major": 2,
       "version_minor": 0
      },
      "text/plain": [
       "A Jupyter Widget"
      ]
     },
     "metadata": {},
     "output_type": "display_data"
    }
   ],
   "source": [
    "c"
   ]
  },
  {
   "cell_type": "code",
   "execution_count": null,
   "metadata": {},
   "outputs": [],
   "source": []
  }
 ],
 "metadata": {
  "kernelspec": {
   "display_name": "Common Lisp (clasp)",
   "language": "common-lisp",
   "name": "common-lisp_clasp"
  },
  "language_info": {
   "codemirror_mode": "text/x-common-lisp",
   "file_extension": ".lisp",
   "mimetype": "text/x-common-lisp",
   "name": "common-lisp",
   "pygments_lexer": "common-lisp",
   "version": "cclasp-boehm-0.4.2-2722-gc7cf406d8-cst"
  },
  "widgets": {
   "application/vnd.jupyter.widget-state+json": {
    "state": {
     "02846f724eb54c602df56d6deac25c18": {
      "model_module": "cl-cytoscape",
      "model_module_version": "^0.1.96",
      "model_name": "ElementModel",
      "state": {
       "_model_module_version": "^0.1.96",
       "_view_module_version": "^0.1.96",
       "data": {
        "id": "179",
        "label": "ADP"
       },
       "position": {
        "x": 889.485894703936,
        "y": 190.33425864090805
       }
      }
     },
     "045824a90d9d488764bb1e0db90f5eaf": {
      "model_module": "cl-cytoscape",
      "model_module_version": "^0.1.96",
      "model_name": "ElementModel",
      "state": {
       "_model_module_version": "^0.1.96",
       "_view_module_version": "^0.1.96",
       "data": {
        "id": "104",
        "label": "G6P transporter"
       },
       "position": {
        "x": 484.6432545693329,
        "y": 106.75380231814684
       }
      }
     },
     "08b5cc284b60438e70db8e86dbb79618": {
      "model_module": "cl-cytoscape",
      "model_module_version": "^0.1.96",
      "model_name": "ElementModel",
      "state": {
       "_model_module_version": "^0.1.96",
       "_view_module_version": "^0.1.96",
       "data": {
        "source": "178",
        "target": "189"
       },
       "group": "edges"
      }
     },
     "0d89eef87fec40615a72c93cafbf1856": {
      "model_module": "cl-cytoscape",
      "model_module_version": "^0.1.96",
      "model_name": "ElementModel",
      "state": {
       "_model_module_version": "^0.1.96",
       "_view_module_version": "^0.1.96",
       "data": {
        "source": "178",
        "target": "179"
       },
       "group": "edges"
      }
     },
     "0f00da928c00479315bcc7b67cd4151e": {
      "model_module": "cl-cytoscape",
      "model_module_version": "^0.1.96",
      "model_name": "ElementModel",
      "state": {
       "_model_module_version": "^0.1.96",
       "_view_module_version": "^0.1.96",
       "data": {
        "source": "28",
        "target": "30"
       },
       "group": "edges"
      }
     },
     "0f011bb82c50487d38b8c94ced033a36": {
      "model_module": "cl-cytoscape",
      "model_module_version": "^0.1.96",
      "model_name": "ElementModel",
      "state": {
       "_model_module_version": "^0.1.96",
       "_view_module_version": "^0.1.96",
       "data": {
        "source": "2",
        "target": "6"
       },
       "group": "edges"
      }
     },
     "11f0a39134a44df79d22f547eae0a811": {
      "model_module": "cl-cytoscape",
      "model_module_version": "^0.1.96",
      "model_name": "ElementModel",
      "state": {
       "_model_module_version": "^0.1.96",
       "_view_module_version": "^0.1.96",
       "data": {
        "source": "130",
        "target": "164"
       },
       "group": "edges"
      }
     },
     "1891b714f52f434e60530d4e285bca81": {
      "model_module": "cl-cytoscape",
      "model_module_version": "^0.1.96",
      "model_name": "ElementModel",
      "state": {
       "_model_module_version": "^0.1.96",
       "_view_module_version": "^0.1.96",
       "data": {
        "source": "2",
        "target": "1"
       },
       "group": "edges"
      }
     },
     "199a936485184f53a9044d2bd1dadab6": {
      "model_module": "cl-cytoscape",
      "model_module_version": "^0.1.96",
      "model_name": "ElementModel",
      "state": {
       "_model_module_version": "^0.1.96",
       "_view_module_version": "^0.1.96",
       "data": {
        "source": "46",
        "target": "30"
       },
       "group": "edges"
      }
     },
     "19badf5966f141fe5ce149dec2aedab1": {
      "model_module": "cl-cytoscape",
      "model_module_version": "^0.1.96",
      "model_name": "ElementModel",
      "state": {
       "_model_module_version": "^0.1.96",
       "_view_module_version": "^0.1.96",
       "data": {
        "source": "36",
        "target": "38"
       },
       "group": "edges"
      }
     },
     "1adb1b2de3a54d56ca66479cd9ac592a": {
      "model_module": "cl-cytoscape",
      "model_module_version": "^0.1.96",
      "model_name": "ElementModel",
      "state": {
       "_model_module_version": "^0.1.96",
       "_view_module_version": "^0.1.96",
       "data": {
        "id": "66",
        "label": "PP"
       },
       "position": {
        "x": 784.6432605693329,
        "y": 195.98246502333305
       }
      }
     },
     "21045e6202854c851c1b0141fe58e00e": {
      "model_module": "cl-cytoscape",
      "model_module_version": "^0.1.96",
      "model_name": "ElementModel",
      "state": {
       "_model_module_version": "^0.1.96",
       "_view_module_version": "^0.1.96",
       "data": {
        "id": "86",
        "label": "phospho- glucomutase (cPGM)"
       },
       "position": {
        "x": 984.6432645693327,
        "y": 249.39708673183281
       }
      }
     },
     "22a5083a273545d8ba0b0c953c4d8396": {
      "model_module": "cl-cytoscape",
      "model_module_version": "^0.1.96",
      "model_name": "ElementModel",
      "state": {
       "_model_module_version": "^0.1.96",
       "_view_module_version": "^0.1.96",
       "data": {
        "id": "12",
        "label": "fructokinase"
       },
       "position": {
        "x": 475.2171785234328,
        "y": 310.6160432008394
       }
      }
     },
     "24216e0c18de420197369f218666fb95": {
      "model_module": "cl-cytoscape",
      "model_module_version": "^0.1.96",
      "model_name": "ElementModel",
      "state": {
       "_model_module_version": "^0.1.96",
       "_view_module_version": "^0.1.96",
       "data": {
        "source": "80",
        "target": "89"
       },
       "group": "edges"
      }
     },
     "24e1f2f5e32c40f329923734cbe5034a": {
      "model_module": "cl-cytoscape",
      "model_module_version": "^0.1.96",
      "model_name": "ElementModel",
      "state": {
       "_model_module_version": "^0.1.96",
       "_view_module_version": "^0.1.96",
       "data": {
        "source": "33",
        "target": "10"
       },
       "group": "edges"
      }
     },
     "259317aec492408404688c183ec40995": {
      "model_module": "@jupyter-widgets/base",
      "model_module_version": "1.2.0",
      "model_name": "LayoutModel",
      "state": {}
     },
     "26bfd8e585e748a75d5594166f130250": {
      "model_module": "cl-cytoscape",
      "model_module_version": "^0.1.96",
      "model_name": "ElementModel",
      "state": {
       "_model_module_version": "^0.1.96",
       "_view_module_version": "^0.1.96",
       "data": {
        "source": "86",
        "target": "80"
       },
       "group": "edges"
      }
     },
     "29624a47d2f84ce973e10f2bfb961679": {
      "model_module": "cl-cytoscape",
      "model_module_version": "^0.1.96",
      "model_name": "ElementModel",
      "state": {
       "_model_module_version": "^0.1.96",
       "_view_module_version": "^0.1.96",
       "data": {
        "source": "102",
        "target": "104"
       },
       "group": "edges"
      }
     },
     "2bfc6ae8dad84b1aa627d5a18e472fdb": {
      "model_module": "cl-cytoscape",
      "model_module_version": "^0.1.96",
      "model_name": "ElementModel",
      "state": {
       "_model_module_version": "^0.1.96",
       "_view_module_version": "^0.1.96",
       "data": {
        "source": "149",
        "target": "156"
       },
       "group": "edges"
      }
     },
     "2e69495e7cd84fb4b5755fae0924ff0f": {
      "model_module": "cl-cytoscape",
      "model_module_version": "^0.1.96",
      "model_name": "ElementModel",
      "state": {
       "_model_module_version": "^0.1.96",
       "_view_module_version": "^0.1.96",
       "data": {
        "source": "44",
        "target": "38"
       },
       "group": "edges"
      }
     },
     "2ebe8c5ebdc946f33ad0bd1ad70e0af9": {
      "model_module": "cl-cytoscape",
      "model_module_version": "^0.1.96",
      "model_name": "ElementModel",
      "state": {
       "_model_module_version": "^0.1.96",
       "_view_module_version": "^0.1.96",
       "data": {
        "id": "14",
        "label": "fructose 6-phosphate"
       },
       "position": {
        "x": 682.1956408502674,
        "y": 229.69343488722134
       }
      }
     },
     "2f56af2f881548496e862cf5554f158a": {
      "model_module": "cl-cytoscape",
      "model_module_version": "^0.1.96",
      "model_name": "ElementModel",
      "state": {
       "_model_module_version": "^0.1.96",
       "_view_module_version": "^0.1.96",
       "data": {
        "source": "104",
        "target": "109"
       },
       "group": "edges"
      }
     },
     "2fc7e5b83e724d1ad27cdb1cd2f596a2": {
      "model_module": "cl-cytoscape",
      "model_module_version": "^0.1.96",
      "model_name": "ElementModel",
      "state": {
       "_model_module_version": "^0.1.96",
       "_view_module_version": "^0.1.96",
       "data": {
        "source": "6",
        "target": "33"
       },
       "group": "edges"
      }
     },
     "362cea1d7404468a313c3d844fb19ad1": {
      "model_module": "cl-cytoscape",
      "model_module_version": "^0.1.96",
      "model_name": "ElementModel",
      "state": {
       "_model_module_version": "^0.1.96",
       "_view_module_version": "^0.1.96",
       "data": {
        "id": "158",
        "label": "P"
       },
       "position": {
        "x": 734.6432595693328,
        "y": 209.51363611267084
       }
      }
     },
     "3b4fd0fa241149644df3a4a0b8a593e2": {
      "model_module": "cl-cytoscape",
      "model_module_version": "^0.1.96",
      "model_name": "ElementModel",
      "state": {
       "_model_module_version": "^0.1.96",
       "_view_module_version": "^0.1.96",
       "data": {
        "source": "121",
        "target": "115"
       },
       "group": "edges"
      }
     },
     "3c07f57f950c41ba4aea90c3f51d9a45": {
      "model_module": "cl-cytoscape",
      "model_module_version": "^0.1.96",
      "model_name": "ElementModel",
      "state": {
       "_model_module_version": "^0.1.96",
       "_view_module_version": "^0.1.96",
       "data": {
        "source": "141",
        "target": "128"
       },
       "group": "edges"
      }
     },
     "406c67fcc1d94e54eae436dd05f3c4a1": {
      "model_module": "cl-cytoscape",
      "model_module_version": "^0.1.96",
      "model_name": "ElementModel",
      "state": {
       "_model_module_version": "^0.1.96",
       "_view_module_version": "^0.1.96",
       "data": {
        "source": "136",
        "target": "148"
       },
       "group": "edges"
      }
     },
     "42151da23fba47e904142eef221af9b0": {
      "model_module": "cl-cytoscape",
      "model_module_version": "^0.1.96",
      "model_name": "ElementModel",
      "state": {
       "_model_module_version": "^0.1.96",
       "_view_module_version": "^0.1.96",
       "data": {
        "source": "121",
        "target": "89"
       },
       "group": "edges"
      }
     },
     "425649fb815941a7d5c29c05867071b3": {
      "model_module": "cl-cytoscape",
      "model_module_version": "^0.1.96",
      "model_name": "CytoscapeStyleModel",
      "state": {
       "_model_module_version": "^0.1.96"
      }
     },
     "4371ebe744de402410d5ca2a40ec0d40": {
      "model_module": "cl-cytoscape",
      "model_module_version": "^0.1.96",
      "model_name": "ElementModel",
      "state": {
       "_model_module_version": "^0.1.96",
       "_view_module_version": "^0.1.96",
       "data": {
        "source": "30",
        "target": "47"
       },
       "group": "edges"
      }
     },
     "4435db20564d4701b58ec3a75dedbf26": {
      "model_module": "cl-cytoscape",
      "model_module_version": "^0.1.96",
      "model_name": "ElementModel",
      "state": {
       "_model_module_version": "^0.1.96",
       "_view_module_version": "^0.1.96",
       "data": {
        "source": "89",
        "target": "90"
       },
       "group": "edges"
      }
     },
     "467eb6ce71a74bd677feaa69d7b4904a": {
      "model_module": "cl-cytoscape",
      "model_module_version": "^0.1.96",
      "model_name": "ElementModel",
      "state": {
       "_model_module_version": "^0.1.96",
       "_view_module_version": "^0.1.96",
       "data": {
        "id": "149",
        "label": "P"
       },
       "position": {
        "x": 889.485894703936,
        "y": 140.33425764090805
       }
      }
     },
     "46a0735b7e9a4194b35fe20354d63b73": {
      "model_module": "cl-cytoscape",
      "model_module_version": "^0.1.96",
      "model_name": "ElementModel",
      "state": {
       "_model_module_version": "^0.1.96",
       "_view_module_version": "^0.1.96",
       "data": {
        "source": "128",
        "target": "130"
       },
       "group": "edges"
      }
     },
     "4990c92682e442da1de5aec14cbd83ad": {
      "model_module": "cl-cytoscape",
      "model_module_version": "^0.1.96",
      "model_name": "ElementModel",
      "state": {
       "_model_module_version": "^0.1.96",
       "_view_module_version": "^0.1.96",
       "data": {
        "id": "30",
        "label": "hexokinase"
       },
       "position": {
        "x": 684.6432585693329,
        "y": 179.6934338872214
       }
      }
     },
     "4b5b5ce6811342fd7a3e29800575dcff": {
      "model_module": "cl-cytoscape",
      "model_module_version": "^0.1.96",
      "model_name": "ElementModel",
      "state": {
       "_model_module_version": "^0.1.96",
       "_view_module_version": "^0.1.96",
       "data": {
        "id": "8",
        "label": "invertase"
       },
       "position": {
        "x": 479.3838452734329,
        "y": 256.7674463049427
       }
      }
     },
     "4ba0d9fa728c417dfb9aca87175f5475": {
      "model_module": "cl-cytoscape",
      "model_module_version": "^0.1.96",
      "model_name": "ElementModel",
      "state": {
       "_model_module_version": "^0.1.96",
       "_view_module_version": "^0.1.96",
       "data": {
        "source": "76",
        "target": "66"
       },
       "group": "edges"
      }
     },
     "4d0d35491619440e8520cff446bd0a7a": {
      "model_module": "cl-cytoscape",
      "model_module_version": "^0.1.96",
      "model_name": "ElementModel",
      "state": {
       "_model_module_version": "^0.1.96",
       "_view_module_version": "^0.1.96",
       "data": {
        "id": "10",
        "label": "fructose"
       },
       "position": {
        "x": 783.5505180234328,
        "y": 295.98246702333296
       }
      }
     },
     "4db65edf83b742d839661d513c29ecce": {
      "model_module": "cl-cytoscape",
      "model_module_version": "^0.1.96",
      "model_name": "ElementModel",
      "state": {
       "_model_module_version": "^0.1.96",
       "_view_module_version": "^0.1.96",
       "data": {
        "source": "184",
        "target": "178"
       },
       "group": "edges"
      }
     },
     "500b984497dc467d41d33cd39921ed6d": {
      "model_module": "cl-cytoscape",
      "model_module_version": "^0.1.96",
      "model_name": "ElementModel",
      "state": {
       "_model_module_version": "^0.1.96",
       "_view_module_version": "^0.1.96",
       "data": {
        "id": "166",
        "label": "ADP"
       },
       "position": {
        "x": 324.38472606380964,
        "y": 263.6549409250578
       }
      }
     },
     "5065219bb73d4597d2183ac5b43f2493": {
      "model_module": "cl-cytoscape",
      "model_module_version": "^0.1.96",
      "model_name": "ElementModel",
      "state": {
       "_model_module_version": "^0.1.96",
       "_view_module_version": "^0.1.96",
       "data": {
        "source": "30",
        "target": "22"
       },
       "group": "edges"
      }
     },
     "55f49ce48e0f47e40383e94643ae2604": {
      "model_module": "cl-cytoscape",
      "model_module_version": "^0.1.96",
      "model_name": "ElementModel",
      "state": {
       "_model_module_version": "^0.1.96",
       "_view_module_version": "^0.1.96",
       "data": {
        "source": "38",
        "target": "41"
       },
       "group": "edges"
      }
     },
     "56d1a18f12b64073221ad157f1669936": {
      "model_module": "cl-cytoscape",
      "model_module_version": "^0.1.96",
      "model_name": "ElementModel",
      "state": {
       "_model_module_version": "^0.1.96",
       "_view_module_version": "^0.1.96",
       "data": {
        "id": "44",
        "label": "fructose 6-phosphate"
       },
       "position": {
        "x": 429.3838442734329,
        "y": 239.7109564551638
       }
      }
     },
     "5731b41afd074af5b8aaf2509711b141": {
      "model_module": "cl-cytoscape",
      "model_module_version": "^0.1.96",
      "model_name": "ElementModel",
      "state": {
       "_model_module_version": "^0.1.96",
       "_view_module_version": "^0.1.96",
       "data": {
        "id": "41",
        "label": "UDP"
       },
       "position": {
        "x": 884.6432625693327,
        "y": 242.40446121266078
       }
      }
     },
     "58d0167b1acc46ca2617141f52a888f1": {
      "model_module": "cl-cytoscape",
      "model_module_version": "^0.1.96",
      "model_name": "ElementModel",
      "state": {
       "_model_module_version": "^0.1.96",
       "_view_module_version": "^0.1.96",
       "data": {
        "source": "71",
        "target": "76"
       },
       "group": "edges"
      }
     },
     "5a18db57b76a4494af8978ab7ecf2c63": {
      "model_module": "cl-cytoscape",
      "model_module_version": "^0.1.96",
      "model_name": "ElementModel",
      "state": {
       "_model_module_version": "^0.1.96",
       "_view_module_version": "^0.1.96",
       "data": {
        "id": "6",
        "label": "sucrose"
       },
       "position": {
        "x": 789.485892703936,
        "y": 145.98246402333305
       }
      }
     },
     "5b2a46feef5d4eb59df7547921dc836f": {
      "model_module": "cl-cytoscape",
      "model_module_version": "^0.1.96",
      "model_name": "CytoscapeModel",
      "state": {
       "_model_module_version": "^0.1.96",
       "_view_module_version": "^0.1.96",
       "box_selection_enabled": true,
       "desktop_tap_threshold": 4,
       "elements": [
        "IPY_MODEL_c93cdb0866504b3f5ee37e7023ed9be5",
        "IPY_MODEL_eb8f95e7d2ff4cb0eccb829063245d25",
        "IPY_MODEL_d8cc67155dcd4fca8b6be2b0355cd06b",
        "IPY_MODEL_5a18db57b76a4494af8978ab7ecf2c63",
        "IPY_MODEL_4b5b5ce6811342fd7a3e29800575dcff",
        "IPY_MODEL_4d0d35491619440e8520cff446bd0a7a",
        "IPY_MODEL_22a5083a273545d8ba0b0c953c4d8396",
        "IPY_MODEL_2ebe8c5ebdc946f33ad0bd1ad70e0af9",
        "IPY_MODEL_ecb2024e49264f4682592dce87e75dc2",
        "IPY_MODEL_e19de8bfda5c4a34aafb364349bc30d9",
        "IPY_MODEL_6cd36b794ba847d074d7376a579ee0c6",
        "IPY_MODEL_4990c92682e442da1de5aec14cbd83ad",
        "IPY_MODEL_7f4a07d602d649288725e6ab6d750462",
        "IPY_MODEL_8cc33f01c5db439f0529b41aa46459bc",
        "IPY_MODEL_a1d4317e3269491f839f225640e1f1a5",
        "IPY_MODEL_5731b41afd074af5b8aaf2509711b141",
        "IPY_MODEL_56d1a18f12b64073221ad157f1669936",
        "IPY_MODEL_f3a578570f4c454e39e7baabeca2113f",
        "IPY_MODEL_f3e98de5cecf4e9b9ad595a02a5a427b",
        "IPY_MODEL_8d2190fef4444f74f9190e7c7218f432",
        "IPY_MODEL_ad1e7c46f49d496e8dd39a37e73127d2",
        "IPY_MODEL_1adb1b2de3a54d56ca66479cd9ac592a",
        "IPY_MODEL_76692f82589e43ca251b425187cd27cb",
        "IPY_MODEL_beba5a19566b49dce024a3dd40fa3ece",
        "IPY_MODEL_e95d41bad1e64e391222c191ee8ab0bc",
        "IPY_MODEL_21045e6202854c851c1b0141fe58e00e",
        "IPY_MODEL_de99cdc8554c4c4bc8b5ba4c347669c8",
        "IPY_MODEL_86ff78dd837f4f1abfe9613452c23322",
        "IPY_MODEL_6bcee3fa7cca43852f4ae614264dbeba",
        "IPY_MODEL_9be57ddc71bf49ae35e68e0f7939251e",
        "IPY_MODEL_6f45ae9b8ce94f91f0bb8ce4547f6255",
        "IPY_MODEL_045824a90d9d488764bb1e0db90f5eaf",
        "IPY_MODEL_c0f7533a307d4b373d9baa7cf0c2d787",
        "IPY_MODEL_8470ad21f1254f25596001028a2b601c",
        "IPY_MODEL_82d2c66485454203565e5255cff70ba0",
        "IPY_MODEL_e0429af1bda64f77b04f2a9e19bfa22f",
        "IPY_MODEL_fe7cfb8c3e4c4a65af4303ccc05ddf04",
        "IPY_MODEL_8f0c668e74494a00674ba21370e2da78",
        "IPY_MODEL_a6d9c70d39b1486e4f0679d88a3be7d3",
        "IPY_MODEL_91e462e28c594d05792aebf7fc002109",
        "IPY_MODEL_467eb6ce71a74bd677feaa69d7b4904a",
        "IPY_MODEL_c45a154212b249e0c30168374b324463",
        "IPY_MODEL_362cea1d7404468a313c3d844fb19ad1",
        "IPY_MODEL_c89faadf05d246e3b28cd55fb6f268d0",
        "IPY_MODEL_500b984497dc467d41d33cd39921ed6d",
        "IPY_MODEL_9356e7010712463771991d6e4e5dc8ad",
        "IPY_MODEL_faa0faf0bc824c230aa6d515181ec8ad",
        "IPY_MODEL_02846f724eb54c602df56d6deac25c18",
        "IPY_MODEL_be1cdf35b574404aa727d8a412b1e36a",
        "IPY_MODEL_e6ab5247df5442b4bcf139d11152abc0",
        "IPY_MODEL_1891b714f52f434e60530d4e285bca81",
        "IPY_MODEL_d56d33582e054590c2811f8062294aa7",
        "IPY_MODEL_0f011bb82c50487d38b8c94ced033a36",
        "IPY_MODEL_eaeb3d66988a43cf8fd7da82459a7f9a",
        "IPY_MODEL_85814798884244fa6d6b32456acdbaea",
        "IPY_MODEL_8babd35ef69b4415fb0d0a659578e831",
        "IPY_MODEL_873e490b8f144919a6bf1c684f5ea571",
        "IPY_MODEL_617eb240b28049a0889865a8fdc67b9b",
        "IPY_MODEL_e688f04e1b0146737a7260e781b084af",
        "IPY_MODEL_0f00da928c00479315bcc7b67cd4151e",
        "IPY_MODEL_5065219bb73d4597d2183ac5b43f2493",
        "IPY_MODEL_2fc7e5b83e724d1ad27cdb1cd2f596a2",
        "IPY_MODEL_24e1f2f5e32c40f329923734cbe5034a",
        "IPY_MODEL_ad343d65b0e446ea52a9db24f0fe433e",
        "IPY_MODEL_19badf5966f141fe5ce149dec2aedab1",
        "IPY_MODEL_8cab89b780e9421fa434670e945c7445",
        "IPY_MODEL_55f49ce48e0f47e40383e94643ae2604",
        "IPY_MODEL_9db14486a4c74f5aef464e4e321c68cd",
        "IPY_MODEL_2e69495e7cd84fb4b5755fae0924ff0f",
        "IPY_MODEL_cfadaf4e250d48f69f036e99515a23be",
        "IPY_MODEL_b2352afb2adf4e4a4f649eeca12a9737",
        "IPY_MODEL_199a936485184f53a9044d2bd1dadab6",
        "IPY_MODEL_4371ebe744de402410d5ca2a40ec0d40",
        "IPY_MODEL_58d0167b1acc46ca2617141f52a888f1",
        "IPY_MODEL_4ba0d9fa728c417dfb9aca87175f5475",
        "IPY_MODEL_61c881bb7589415a4df07cab3fac9375",
        "IPY_MODEL_af9d2a70fcd447e543dccf6a56356775",
        "IPY_MODEL_9f813cc0659c45625fd6b1997876572c",
        "IPY_MODEL_26bfd8e585e748a75d5594166f130250",
        "IPY_MODEL_e4462b9e39db44b21ed34abefdfa1e3c",
        "IPY_MODEL_4435db20564d4701b58ec3a75dedbf26",
        "IPY_MODEL_29624a47d2f84ce973e10f2bfb961679",
        "IPY_MODEL_24216e0c18de420197369f218666fb95",
        "IPY_MODEL_2f56af2f881548496e862cf5554f158a",
        "IPY_MODEL_cbb4f67b83c74f8b1e4066a74109341a",
        "IPY_MODEL_42151da23fba47e904142eef221af9b0",
        "IPY_MODEL_3b4fd0fa241149644df3a4a0b8a593e2",
        "IPY_MODEL_6e34d5d5de284e57d6c3139a2511d8f7",
        "IPY_MODEL_46a0735b7e9a4194b35fe20354d63b73",
        "IPY_MODEL_3c07f57f950c41ba4aea90c3f51d9a45",
        "IPY_MODEL_f54e1f2acb2e43b32460be51a34fe3e5",
        "IPY_MODEL_406c67fcc1d94e54eae436dd05f3c4a1",
        "IPY_MODEL_5c9a09d6d14748e7fdf47cb30f920a2d",
        "IPY_MODEL_2bfc6ae8dad84b1aa627d5a18e472fdb",
        "IPY_MODEL_c45c8d3754e74d2df7254aaefd623b9f",
        "IPY_MODEL_11f0a39134a44df79d22f547eae0a811",
        "IPY_MODEL_83b63881185843c509d1cdc75b3a5f96",
        "IPY_MODEL_0d89eef87fec40615a72c93cafbf1856",
        "IPY_MODEL_4db65edf83b742d839661d513c29ecce",
        "IPY_MODEL_08b5cc284b60438e70db8e86dbb79618",
        "IPY_MODEL_6ecafde3f931480b87bf8a449b5b13e3",
        "IPY_MODEL_c39bba3df3644f4277d6b745220ffdfb",
        "IPY_MODEL_76864e44a14a40766b56ceb8c17ee8eb",
        "IPY_MODEL_e9eef35025fe48528e7eca43aadae1c7",
        "IPY_MODEL_86b4fdbbfe97484d3f5234bba06e379a"
       ],
       "graph_layouts": [
        "IPY_MODEL_5ed393995e4448415d60f8e441548fba"
       ],
       "layout": "IPY_MODEL_259317aec492408404688c183ec40995",
       "max_zoom": 9.999999999999999e+49,
       "min_zoom": 1.0000000000000001e-50,
       "pan": {
        "x": -186.5211239955188,
        "y": -52.34348813640466
       },
       "style": "IPY_MODEL_425649fb815941a7d5c29c05867071b3",
       "tooltip_source": "tooltip",
       "zoom": 1.292809724591477
      }
     },
     "5c9a09d6d14748e7fdf47cb30f920a2d": {
      "model_module": "cl-cytoscape",
      "model_module_version": "^0.1.96",
      "model_name": "ElementModel",
      "state": {
       "_model_module_version": "^0.1.96",
       "_view_module_version": "^0.1.96",
       "data": {
        "source": "148",
        "target": "149"
       },
       "group": "edges"
      }
     },
     "5ed393995e4448415d60f8e441548fba": {
      "model_module": "cl-cytoscape",
      "model_module_version": "^0.1.96",
      "model_name": "ColaLayoutModel",
      "state": {
       "_model_module_version": "^0.1.96",
       "_view_module_version": "^0.1.96"
      }
     },
     "617eb240b28049a0889865a8fdc67b9b": {
      "model_module": "cl-cytoscape",
      "model_module_version": "^0.1.96",
      "model_name": "ElementModel",
      "state": {
       "_model_module_version": "^0.1.96",
       "_view_module_version": "^0.1.96",
       "data": {
        "source": "20",
        "target": "22"
       },
       "group": "edges"
      }
     },
     "61c881bb7589415a4df07cab3fac9375": {
      "model_module": "cl-cytoscape",
      "model_module_version": "^0.1.96",
      "model_name": "ElementModel",
      "state": {
       "_model_module_version": "^0.1.96",
       "_view_module_version": "^0.1.96",
       "data": {
        "source": "76",
        "target": "36"
       },
       "group": "edges"
      }
     },
     "6bcee3fa7cca43852f4ae614264dbeba": {
      "model_module": "cl-cytoscape",
      "model_module_version": "^0.1.96",
      "model_name": "ElementModel",
      "state": {
       "_model_module_version": "^0.1.96",
       "_view_module_version": "^0.1.96",
       "data": {
        "id": "95",
        "label": "P"
       },
       "position": {
        "x": 989.485896703936,
        "y": 199.3970857318328
       }
      }
     },
     "6cd36b794ba847d074d7376a579ee0c6": {
      "model_module": "cl-cytoscape",
      "model_module_version": "^0.1.96",
      "model_name": "ElementModel",
      "state": {
       "_model_module_version": "^0.1.96",
       "_view_module_version": "^0.1.96",
       "data": {
        "id": "28",
        "label": "glucose"
       },
       "position": {
        "x": 282.19563285026726,
        "y": 163.65493892505785
       }
      }
     },
     "6e34d5d5de284e57d6c3139a2511d8f7": {
      "model_module": "cl-cytoscape",
      "model_module_version": "^0.1.96",
      "model_name": "ElementModel",
      "state": {
       "_model_module_version": "^0.1.96",
       "_view_module_version": "^0.1.96",
       "data": {
        "source": "121",
        "target": "128"
       },
       "group": "edges"
      }
     },
     "6ecafde3f931480b87bf8a449b5b13e3": {
      "model_module": "cl-cytoscape",
      "model_module_version": "^0.1.96",
      "model_name": "ElementModel",
      "state": {
       "_model_module_version": "^0.1.96",
       "_view_module_version": "^0.1.96",
       "data": {
        "source": "141",
        "target": "178"
       },
       "group": "edges"
      }
     },
     "6f45ae9b8ce94f91f0bb8ce4547f6255": {
      "model_module": "cl-cytoscape",
      "model_module_version": "^0.1.96",
      "model_name": "ElementModel",
      "state": {
       "_model_module_version": "^0.1.96",
       "_view_module_version": "^0.1.96",
       "data": {
        "id": "103",
        "label": "P"
       },
       "position": {
        "x": 939.485895703936,
        "y": 186.1938554974026
       }
      }
     },
     "76692f82589e43ca251b425187cd27cb": {
      "model_module": "cl-cytoscape",
      "model_module_version": "^0.1.96",
      "model_name": "ElementModel",
      "state": {
       "_model_module_version": "^0.1.96",
       "_view_module_version": "^0.1.96",
       "data": {
        "id": "71",
        "label": "UTP"
       },
       "position": {
        "x": 834.6432615693329,
        "y": 200.24596194153787
       }
      }
     },
     "76864e44a14a40766b56ceb8c17ee8eb": {
      "model_module": "cl-cytoscape",
      "model_module_version": "^0.1.96",
      "model_name": "ElementModel",
      "state": {
       "_model_module_version": "^0.1.96",
       "_view_module_version": "^0.1.96",
       "data": {
        "source": "10",
        "target": "12"
       },
       "group": "edges"
      }
     },
     "7f4a07d602d649288725e6ab6d750462": {
      "model_module": "cl-cytoscape",
      "model_module_version": "^0.1.96",
      "model_name": "ElementModel",
      "state": {
       "_model_module_version": "^0.1.96",
       "_view_module_version": "^0.1.96",
       "data": {
        "id": "33",
        "label": "sucrose synthase"
       },
       "position": {
        "x": 332.19563385026726,
        "y": 187.41280124300815
       }
      }
     },
     "82d2c66485454203565e5255cff70ba0": {
      "model_module": "cl-cytoscape",
      "model_module_version": "^0.1.96",
      "model_name": "ElementModel",
      "state": {
       "_model_module_version": "^0.1.96",
       "_view_module_version": "^0.1.96",
       "data": {
        "id": "121",
        "label": "glucose 1-phosphate"
       },
       "position": {
        "x": 332.19563385026726,
        "y": 137.41280024300815
       }
      }
     },
     "83b63881185843c509d1cdc75b3a5f96": {
      "model_module": "cl-cytoscape",
      "model_module_version": "^0.1.96",
      "model_name": "ElementModel",
      "state": {
       "_model_module_version": "^0.1.96",
       "_view_module_version": "^0.1.96",
       "data": {
        "source": "164",
        "target": "166"
       },
       "group": "edges"
      }
     },
     "8470ad21f1254f25596001028a2b601c": {
      "model_module": "cl-cytoscape",
      "model_module_version": "^0.1.96",
      "model_name": "ElementModel",
      "state": {
       "_model_module_version": "^0.1.96",
       "_view_module_version": "^0.1.96",
       "data": {
        "id": "115",
        "label": "phospho- glucomutase (cPGM)"
       },
       "position": {
        "x": 425.2171775234328,
        "y": 289.71095745516374
       }
      }
     },
     "85814798884244fa6d6b32456acdbaea": {
      "model_module": "cl-cytoscape",
      "model_module_version": "^0.1.96",
      "model_name": "ElementModel",
      "state": {
       "_model_module_version": "^0.1.96",
       "_view_module_version": "^0.1.96",
       "data": {
        "source": "8",
        "target": "10"
       },
       "group": "edges"
      }
     },
     "86b4fdbbfe97484d3f5234bba06e379a": {
      "model_module": "cl-cytoscape",
      "model_module_version": "^0.1.96",
      "model_name": "ElementModel",
      "state": {
       "_model_module_version": "^0.1.96",
       "_view_module_version": "^0.1.96",
       "data": {
        "source": "22",
        "target": "104"
       },
       "group": "edges"
      }
     },
     "86ff78dd837f4f1abfe9613452c23322": {
      "model_module": "cl-cytoscape",
      "model_module_version": "^0.1.96",
      "model_name": "ElementModel",
      "state": {
       "_model_module_version": "^0.1.96",
       "_view_module_version": "^0.1.96",
       "data": {
        "id": "90",
        "label": "P"
       },
       "position": {
        "x": 934.6432635693328,
        "y": 240.33425964090802
       }
      }
     },
     "873e490b8f144919a6bf1c684f5ea571": {
      "model_module": "cl-cytoscape",
      "model_module_version": "^0.1.96",
      "model_name": "ElementModel",
      "state": {
       "_model_module_version": "^0.1.96",
       "_view_module_version": "^0.1.96",
       "data": {
        "source": "14",
        "target": "20"
       },
       "group": "edges"
      }
     },
     "8babd35ef69b4415fb0d0a659578e831": {
      "model_module": "cl-cytoscape",
      "model_module_version": "^0.1.96",
      "model_name": "ElementModel",
      "state": {
       "_model_module_version": "^0.1.96",
       "_view_module_version": "^0.1.96",
       "data": {
        "source": "12",
        "target": "14"
       },
       "group": "edges"
      }
     },
     "8cab89b780e9421fa434670e945c7445": {
      "model_module": "cl-cytoscape",
      "model_module_version": "^0.1.96",
      "model_name": "ElementModel",
      "state": {
       "_model_module_version": "^0.1.96",
       "_view_module_version": "^0.1.96",
       "data": {
        "source": "38",
        "target": "4"
       },
       "group": "edges"
      }
     },
     "8cc33f01c5db439f0529b41aa46459bc": {
      "model_module": "cl-cytoscape",
      "model_module_version": "^0.1.96",
      "model_name": "ElementModel",
      "state": {
       "_model_module_version": "^0.1.96",
       "_view_module_version": "^0.1.96",
       "data": {
        "id": "36",
        "label": "UDP - glucose"
       },
       "position": {
        "x": 484.6432545693329,
        "y": 156.75380331814685
       }
      }
     },
     "8d2190fef4444f74f9190e7c7218f432": {
      "model_module": "cl-cytoscape",
      "model_module_version": "^0.1.96",
      "model_name": "ElementModel",
      "state": {
       "_model_module_version": "^0.1.96",
       "_view_module_version": "^0.1.96",
       "data": {
        "id": "52",
        "label": "ATP"
       },
       "position": {
        "x": 834.6432615693329,
        "y": 250.2459629415379
       }
      }
     },
     "8f0c668e74494a00674ba21370e2da78": {
      "model_module": "cl-cytoscape",
      "model_module_version": "^0.1.96",
      "model_name": "ElementModel",
      "state": {
       "_model_module_version": "^0.1.96",
       "_view_module_version": "^0.1.96",
       "data": {
        "id": "136",
        "label": "PP"
       },
       "position": {
        "x": 584.643256569333,
        "y": 160.70041868352143
       }
      }
     },
     "91e462e28c594d05792aebf7fc002109": {
      "model_module": "cl-cytoscape",
      "model_module_version": "^0.1.96",
      "model_name": "ElementModel",
      "state": {
       "_model_module_version": "^0.1.96",
       "_view_module_version": "^0.1.96",
       "data": {
        "id": "148",
        "label": "inorganic diphosphatase"
       },
       "position": {
        "x": 582.1956388502673,
        "y": 214.93181680798423
       }
      }
     },
     "9356e7010712463771991d6e4e5dc8ad": {
      "model_module": "cl-cytoscape",
      "model_module_version": "^0.1.96",
      "model_name": "ElementModel",
      "state": {
       "_model_module_version": "^0.1.96",
       "_view_module_version": "^0.1.96",
       "data": {
        "id": "172",
        "label": "starch"
       },
       "position": {
        "x": 532.1956378502673,
        "y": 256.75380531814693
       }
      }
     },
     "9be57ddc71bf49ae35e68e0f7939251e": {
      "model_module": "cl-cytoscape",
      "model_module_version": "^0.1.96",
      "model_name": "ElementModel",
      "state": {
       "_model_module_version": "^0.1.96",
       "_view_module_version": "^0.1.96",
       "data": {
        "id": "102",
        "label": "P"
       },
       "position": {
        "x": 282.19563285026726,
        "y": 213.65493992505785
       }
      }
     },
     "9db14486a4c74f5aef464e4e321c68cd": {
      "model_module": "cl-cytoscape",
      "model_module_version": "^0.1.96",
      "model_name": "ElementModel",
      "state": {
       "_model_module_version": "^0.1.96",
       "_view_module_version": "^0.1.96",
       "data": {
        "source": "41",
        "target": "33"
       },
       "group": "edges"
      }
     },
     "9f813cc0659c45625fd6b1997876572c": {
      "model_module": "cl-cytoscape",
      "model_module_version": "^0.1.96",
      "model_name": "ElementModel",
      "state": {
       "_model_module_version": "^0.1.96",
       "_view_module_version": "^0.1.96",
       "data": {
        "source": "22",
        "target": "86"
       },
       "group": "edges"
      }
     },
     "a1d4317e3269491f839f225640e1f1a5": {
      "model_module": "cl-cytoscape",
      "model_module_version": "^0.1.96",
      "model_name": "ElementModel",
      "state": {
       "_model_module_version": "^0.1.96",
       "_view_module_version": "^0.1.96",
       "data": {
        "id": "38",
        "label": "sucrose phosphate synthase"
       },
       "position": {
        "x": 732.1956418502673,
        "y": 259.5136371126709
       }
      }
     },
     "a6d9c70d39b1486e4f0679d88a3be7d3": {
      "model_module": "cl-cytoscape",
      "model_module_version": "^0.1.96",
      "model_name": "ElementModel",
      "state": {
       "_model_module_version": "^0.1.96",
       "_view_module_version": "^0.1.96",
       "data": {
        "id": "141",
        "label": "ATP"
       },
       "position": {
        "x": 689.4858907039358,
        "y": 129.6934328872214
       }
      }
     },
     "ad1e7c46f49d496e8dd39a37e73127d2": {
      "model_module": "cl-cytoscape",
      "model_module_version": "^0.1.96",
      "model_name": "ElementModel",
      "state": {
       "_model_module_version": "^0.1.96",
       "_view_module_version": "^0.1.96",
       "data": {
        "id": "57",
        "label": "ADP"
       },
       "position": {
        "x": 739.485891703936,
        "y": 144.30123824456385
       }
      }
     },
     "ad343d65b0e446ea52a9db24f0fe433e": {
      "model_module": "cl-cytoscape",
      "model_module_version": "^0.1.96",
      "model_name": "ElementModel",
      "state": {
       "_model_module_version": "^0.1.96",
       "_view_module_version": "^0.1.96",
       "data": {
        "source": "33",
        "target": "36"
       },
       "group": "edges"
      }
     },
     "af9d2a70fcd447e543dccf6a56356775": {
      "model_module": "cl-cytoscape",
      "model_module_version": "^0.1.96",
      "model_name": "ElementModel",
      "state": {
       "_model_module_version": "^0.1.96",
       "_view_module_version": "^0.1.96",
       "data": {
        "source": "80",
        "target": "76"
       },
       "group": "edges"
      }
     },
     "b2352afb2adf4e4a4f649eeca12a9737": {
      "model_module": "cl-cytoscape",
      "model_module_version": "^0.1.96",
      "model_name": "ElementModel",
      "state": {
       "_model_module_version": "^0.1.96",
       "_view_module_version": "^0.1.96",
       "data": {
        "source": "12",
        "target": "57"
       },
       "group": "edges"
      }
     },
     "be1cdf35b574404aa727d8a412b1e36a": {
      "model_module": "cl-cytoscape",
      "model_module_version": "^0.1.96",
      "model_name": "ElementModel",
      "state": {
       "_model_module_version": "^0.1.96",
       "_view_module_version": "^0.1.96",
       "data": {
        "id": "184",
        "label": "ADP"
       },
       "position": {
        "x": 432.19563585026725,
        "y": 189.71095545516377
       }
      }
     },
     "beba5a19566b49dce024a3dd40fa3ece": {
      "model_module": "cl-cytoscape",
      "model_module_version": "^0.1.96",
      "model_name": "ElementModel",
      "state": {
       "_model_module_version": "^0.1.96",
       "_view_module_version": "^0.1.96",
       "data": {
        "id": "76",
        "label": "UDP glucose pyrophosphorylase"
       },
       "position": {
        "x": 662.8427131194676,
        "y": 79.6934318872214
       }
      }
     },
     "c0f7533a307d4b373d9baa7cf0c2d787": {
      "model_module": "cl-cytoscape",
      "model_module_version": "^0.1.96",
      "model_name": "ElementModel",
      "state": {
       "_model_module_version": "^0.1.96",
       "_view_module_version": "^0.1.96",
       "data": {
        "id": "109",
        "label": "glucose 6-phosphate"
       },
       "position": {
        "x": 789.485892703936,
        "y": 95.98246302333307
       }
      }
     },
     "c39bba3df3644f4277d6b745220ffdfb": {
      "model_module": "cl-cytoscape",
      "model_module_version": "^0.1.96",
      "model_name": "ElementModel",
      "state": {
       "_model_module_version": "^0.1.96",
       "_view_module_version": "^0.1.96",
       "data": {
        "source": "104",
        "target": "103"
       },
       "group": "edges"
      }
     },
     "c45a154212b249e0c30168374b324463": {
      "model_module": "cl-cytoscape",
      "model_module_version": "^0.1.96",
      "model_name": "ElementModel",
      "state": {
       "_model_module_version": "^0.1.96",
       "_view_module_version": "^0.1.96",
       "data": {
        "id": "156",
        "label": "phosphate transporter"
       },
       "position": {
        "x": 989.485896703936,
        "y": 149.3970847318328
       }
      }
     },
     "c45c8d3754e74d2df7254aaefd623b9f": {
      "model_module": "cl-cytoscape",
      "model_module_version": "^0.1.96",
      "model_name": "ElementModel",
      "state": {
       "_model_module_version": "^0.1.96",
       "_view_module_version": "^0.1.96",
       "data": {
        "source": "156",
        "target": "158"
       },
       "group": "edges"
      }
     },
     "c89faadf05d246e3b28cd55fb6f268d0": {
      "model_module": "cl-cytoscape",
      "model_module_version": "^0.1.96",
      "model_name": "ElementModel",
      "state": {
       "_model_module_version": "^0.1.96",
       "_view_module_version": "^0.1.96",
       "data": {
        "id": "164",
        "label": "starch synthase (simpl.)"
       },
       "position": {
        "x": 839.4858937039356,
        "y": 150.24596094153787
       }
      }
     },
     "c93cdb0866504b3f5ee37e7023ed9be5": {
      "model_module": "cl-cytoscape",
      "model_module_version": "^0.1.96",
      "model_name": "ElementModel",
      "state": {
       "_model_module_version": "^0.1.96",
       "_view_module_version": "^0.1.96",
       "data": {
        "id": "1",
        "label": "P"
       },
       "position": {
        "x": 632.1956398502672,
        "y": 210.70041968352143
       }
      }
     },
     "cbb4f67b83c74f8b1e4066a74109341a": {
      "model_module": "cl-cytoscape",
      "model_module_version": "^0.1.96",
      "model_name": "ElementModel",
      "state": {
       "_model_module_version": "^0.1.96",
       "_view_module_version": "^0.1.96",
       "data": {
        "source": "115",
        "target": "109"
       },
       "group": "edges"
      }
     },
     "cfadaf4e250d48f69f036e99515a23be": {
      "model_module": "cl-cytoscape",
      "model_module_version": "^0.1.96",
      "model_name": "ElementModel",
      "state": {
       "_model_module_version": "^0.1.96",
       "_view_module_version": "^0.1.96",
       "data": {
        "source": "52",
        "target": "12"
       },
       "group": "edges"
      }
     },
     "d56d33582e054590c2811f8062294aa7": {
      "model_module": "cl-cytoscape",
      "model_module_version": "^0.1.96",
      "model_name": "ElementModel",
      "state": {
       "_model_module_version": "^0.1.96",
       "_view_module_version": "^0.1.96",
       "data": {
        "source": "4",
        "target": "2"
       },
       "group": "edges"
      }
     },
     "d8cc67155dcd4fca8b6be2b0355cd06b": {
      "model_module": "cl-cytoscape",
      "model_module_version": "^0.1.96",
      "model_name": "ElementModel",
      "state": {
       "_model_module_version": "^0.1.96",
       "_view_module_version": "^0.1.96",
       "data": {
        "id": "4",
        "label": "sucrose 6-phosphate"
       },
       "position": {
        "x": 379.3838432734329,
        "y": 237.41280224300817
       }
      }
     },
     "de99cdc8554c4c4bc8b5ba4c347669c8": {
      "model_module": "cl-cytoscape",
      "model_module_version": "^0.1.96",
      "model_name": "ElementModel",
      "state": {
       "_model_module_version": "^0.1.96",
       "_view_module_version": "^0.1.96",
       "data": {
        "id": "89",
        "label": "G1P transporter"
       },
       "position": {
        "x": 733.5505170234329,
        "y": 310.6865031278007
       }
      }
     },
     "e0429af1bda64f77b04f2a9e19bfa22f": {
      "model_module": "cl-cytoscape",
      "model_module_version": "^0.1.96",
      "model_name": "ElementModel",
      "state": {
       "_model_module_version": "^0.1.96",
       "_view_module_version": "^0.1.96",
       "data": {
        "id": "128",
        "label": "ADPglucose pyrophosphorylase (pAGPase)"
       },
       "position": {
        "x": 682.1956408502674,
        "y": 279.6934358872213
       }
      }
     },
     "e19de8bfda5c4a34aafb364349bc30d9": {
      "model_module": "cl-cytoscape",
      "model_module_version": "^0.1.96",
      "model_name": "ElementModel",
      "state": {
       "_model_module_version": "^0.1.96",
       "_view_module_version": "^0.1.96",
       "data": {
        "id": "22",
        "label": "glucose 6-phosphate"
       },
       "position": {
        "x": 382.19563485026725,
        "y": 161.73582488322927
       }
      }
     },
     "e4462b9e39db44b21ed34abefdfa1e3c": {
      "model_module": "cl-cytoscape",
      "model_module_version": "^0.1.96",
      "model_name": "ElementModel",
      "state": {
       "_model_module_version": "^0.1.96",
       "_view_module_version": "^0.1.96",
       "data": {
        "source": "95",
        "target": "89"
       },
       "group": "edges"
      }
     },
     "e688f04e1b0146737a7260e781b084af": {
      "model_module": "cl-cytoscape",
      "model_module_version": "^0.1.96",
      "model_name": "ElementModel",
      "state": {
       "_model_module_version": "^0.1.96",
       "_view_module_version": "^0.1.96",
       "data": {
        "source": "8",
        "target": "28"
       },
       "group": "edges"
      }
     },
     "e6ab5247df5442b4bcf139d11152abc0": {
      "model_module": "cl-cytoscape",
      "model_module_version": "^0.1.96",
      "model_name": "ElementModel",
      "state": {
       "_model_module_version": "^0.1.96",
       "_view_module_version": "^0.1.96",
       "data": {
        "id": "189",
        "label": "ATP"
       },
       "position": {
        "x": 634.643257569333,
        "y": 158.61717083209967
       }
      }
     },
     "e95d41bad1e64e391222c191ee8ab0bc": {
      "model_module": "cl-cytoscape",
      "model_module_version": "^0.1.96",
      "model_name": "ElementModel",
      "state": {
       "_model_module_version": "^0.1.96",
       "_view_module_version": "^0.1.96",
       "data": {
        "id": "80",
        "label": "glucose 1-phosphate"
       },
       "position": {
        "x": 534.6432555693328,
        "y": 156.740162331351
       }
      }
     },
     "e9eef35025fe48528e7eca43aadae1c7": {
      "model_module": "cl-cytoscape",
      "model_module_version": "^0.1.96",
      "model_name": "ElementModel",
      "state": {
       "_model_module_version": "^0.1.96",
       "_view_module_version": "^0.1.96",
       "data": {
        "source": "164",
        "target": "172"
       },
       "group": "edges"
      }
     },
     "eaeb3d66988a43cf8fd7da82459a7f9a": {
      "model_module": "cl-cytoscape",
      "model_module_version": "^0.1.96",
      "model_name": "ElementModel",
      "state": {
       "_model_module_version": "^0.1.96",
       "_view_module_version": "^0.1.96",
       "data": {
        "source": "6",
        "target": "8"
       },
       "group": "edges"
      }
     },
     "eb8f95e7d2ff4cb0eccb829063245d25": {
      "model_module": "cl-cytoscape",
      "model_module_version": "^0.1.96",
      "model_name": "ElementModel",
      "state": {
       "_model_module_version": "^0.1.96",
       "_view_module_version": "^0.1.96",
       "data": {
        "id": "2",
        "tooltip": "sucrose phosphate phosphatase"
       },
       "position": {
        "x": 532.1956378502673,
        "y": 206.75380431814688
       }
      }
     },
     "ecb2024e49264f4682592dce87e75dc2": {
      "model_module": "cl-cytoscape",
      "model_module_version": "^0.1.96",
      "model_name": "ElementModel",
      "state": {
       "_model_module_version": "^0.1.96",
       "_view_module_version": "^0.1.96",
       "data": {
        "id": "20",
        "label": "phosphoglucose isomerase"
       },
       "position": {
        "x": 384.6432525693329,
        "y": 111.73582388322926
       }
      }
     },
     "f3a578570f4c454e39e7baabeca2113f": {
      "model_module": "cl-cytoscape",
      "model_module_version": "^0.1.96",
      "model_name": "ElementModel",
      "state": {
       "_model_module_version": "^0.1.96",
       "_view_module_version": "^0.1.96",
       "data": {
        "id": "46",
        "label": "ATP"
       },
       "position": {
        "x": 434.6432535693329,
        "y": 139.7109544551638
       }
      }
     },
     "f3e98de5cecf4e9b9ad595a02a5a427b": {
      "model_module": "cl-cytoscape",
      "model_module_version": "^0.1.96",
      "model_name": "ElementModel",
      "state": {
       "_model_module_version": "^0.1.96",
       "_view_module_version": "^0.1.96",
       "data": {
        "id": "47",
        "label": "ATP"
       },
       "position": {
        "x": 482.19563685026725,
        "y": 206.7674453049427
       }
      }
     },
     "f54e1f2acb2e43b32460be51a34fe3e5": {
      "model_module": "cl-cytoscape",
      "model_module_version": "^0.1.96",
      "model_name": "ElementModel",
      "state": {
       "_model_module_version": "^0.1.96",
       "_view_module_version": "^0.1.96",
       "data": {
        "source": "128",
        "target": "136"
       },
       "group": "edges"
      }
     },
     "faa0faf0bc824c230aa6d515181ec8ad": {
      "model_module": "cl-cytoscape",
      "model_module_version": "^0.1.96",
      "model_name": "ElementModel",
      "state": {
       "_model_module_version": "^0.1.96",
       "_view_module_version": "^0.1.96",
       "data": {
        "id": "178",
        "label": "ATP/ADP transporter"
       },
       "position": {
        "x": 632.1956398502672,
        "y": 260.7004206835214
       }
      }
     },
     "fe7cfb8c3e4c4a65af4303ccc05ddf04": {
      "model_module": "cl-cytoscape",
      "model_module_version": "^0.1.96",
      "model_name": "ElementModel",
      "state": {
       "_model_module_version": "^0.1.96",
       "_view_module_version": "^0.1.96",
       "data": {
        "id": "130",
        "label": "ADP - glucose"
       },
       "position": {
        "x": 784.6432605693329,
        "y": 245.9824660233331
       }
      }
     }
    },
    "version_major": 2,
    "version_minor": 0
   }
  }
 },
 "nbformat": 4,
 "nbformat_minor": 4
}
