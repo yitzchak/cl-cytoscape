{
 "cells": [
  {
   "cell_type": "code",
   "execution_count": 1,
   "metadata": {},
   "outputs": [
    {
     "name": "stdout",
     "output_type": "stream",
     "text": [
      "To load \"cl-cytoscape\":\n",
      "  Load 1 ASDF system:\n",
      "    cl-cytoscape\n",
      "\n",
      "; Loading \"cl-cytoscape\"\n",
      "...."
     ]
    },
    {
     "data": {
      "text/plain": [
       "(:CL-CYTOSCAPE)"
      ]
     },
     "execution_count": 1,
     "metadata": {},
     "output_type": "execute_result"
    },
    {
     "name": "stdout",
     "output_type": "stream",
     "text": [
      "\n"
     ]
    }
   ],
   "source": [
    "(ql:quickload :cl-cytoscape)"
   ]
  },
  {
   "cell_type": "code",
   "execution_count": 2,
   "metadata": {},
   "outputs": [
    {
     "data": {
      "text/plain": [
       "C"
      ]
     },
     "execution_count": 2,
     "metadata": {},
     "output_type": "execute_result"
    },
    {
     "data": {
      "text/plain": [
       "NIL"
      ]
     },
     "execution_count": 2,
     "metadata": {},
     "output_type": "execute_result"
    }
   ],
   "source": [
    "(defparameter c (make-instance 'cytoscape::cytoscape-widget :graph-layouts (list (make-instance 'cytoscape:cola-layout))))\n",
    "\n",
    "(cytoscape:add-graph c (jsown:parse (alexandria:read-file-into-string \"colaData.json\")))"
   ]
  },
  {
   "cell_type": "code",
   "execution_count": 3,
   "metadata": {},
   "outputs": [
    {
     "data": {
      "application/vnd.jupyter.widget-view+json": {
       "model_id": "daf380ce200f44f09a60ab2d360d832e",
       "version_major": 2,
       "version_minor": 0
      },
      "text/plain": [
       "A Jupyter Widget"
      ]
     },
     "metadata": {},
     "output_type": "display_data"
    }
   ],
   "source": [
    "c"
   ]
  },
  {
   "cell_type": "code",
   "execution_count": null,
   "metadata": {},
   "outputs": [],
   "source": []
  }
 ],
 "metadata": {
  "kernelspec": {
   "display_name": "Common Lisp (clasp)",
   "language": "common-lisp",
   "name": "common-lisp_clasp"
  },
  "language_info": {
   "codemirror_mode": "text/x-common-lisp",
   "file_extension": ".lisp",
   "mimetype": "text/x-common-lisp",
   "name": "common-lisp",
   "pygments_lexer": "common-lisp",
   "version": "cclasp-boehm-0.4.2-2722-gc7cf406d8-cst"
  },
  "widgets": {
   "application/vnd.jupyter.widget-state+json": {
    "state": {
     "004430ac698947d9727b1c8728b71825": {
      "model_module": "cl-cytoscape",
      "model_module_version": "^0.1.96",
      "model_name": "ElementModel",
      "state": {
       "_model_module_version": "^0.1.96",
       "_view_module_version": "^0.1.96",
       "data": {
        "source": "12",
        "target": "57"
       },
       "group": "edges"
      }
     },
     "01574e0ac2eb4a9dff6dbff55c0f7c87": {
      "model_module": "cl-cytoscape",
      "model_module_version": "^0.1.96",
      "model_name": "ElementModel",
      "state": {
       "_model_module_version": "^0.1.96",
       "_view_module_version": "^0.1.96",
       "data": {
        "id": "4",
        "label": "sucrose 6-phosphate"
       },
       "position": {
        "x": -256.03714486198163,
        "y": 36.89705858322798
       }
      }
     },
     "0271dcc7930645874a30224c164ccdbe": {
      "model_module": "cl-cytoscape",
      "model_module_version": "^0.1.96",
      "model_name": "ElementModel",
      "state": {
       "_model_module_version": "^0.1.96",
       "_view_module_version": "^0.1.96",
       "data": {
        "source": "102",
        "target": "104"
       },
       "group": "edges"
      }
     },
     "081a7ecb575348d7123d35b377520a7a": {
      "model_module": "cl-cytoscape",
      "model_module_version": "^0.1.96",
      "model_name": "ElementModel",
      "state": {
       "_model_module_version": "^0.1.96",
       "_view_module_version": "^0.1.96",
       "data": {
        "id": "10",
        "label": "fructose"
       },
       "position": {
        "x": 148.1295298880184,
        "y": 96.24429689869943
       }
      }
     },
     "0aee0f17c3ef4a21b8121df7cb0bfa61": {
      "model_module": "cl-cytoscape",
      "model_module_version": "^0.1.96",
      "model_name": "ElementModel",
      "state": {
       "_model_module_version": "^0.1.96",
       "_view_module_version": "^0.1.96",
       "data": {
        "source": "164",
        "target": "172"
       },
       "group": "edges"
      }
     },
     "0f21c4033c7f4702390ed33c9306d60c": {
      "model_module": "cl-cytoscape",
      "model_module_version": "^0.1.96",
      "model_name": "ElementModel",
      "state": {
       "_model_module_version": "^0.1.96",
       "_view_module_version": "^0.1.96",
       "data": {
        "source": "86",
        "target": "80"
       },
       "group": "edges"
      }
     },
     "0f85659fe18548d9059bad6edbbdd454": {
      "model_module": "cl-cytoscape",
      "model_module_version": "^0.1.96",
      "model_name": "ElementModel",
      "state": {
       "_model_module_version": "^0.1.96",
       "_view_module_version": "^0.1.96",
       "data": {
        "id": "20",
        "label": "phosphoglucose isomerase"
       },
       "position": {
        "x": -250.77773556608153,
        "y": -89.71589219925058
       }
      }
     },
     "1003a934e9254b16ba87088f9caffa27": {
      "model_module": "cl-cytoscape",
      "model_module_version": "^0.1.96",
      "model_name": "ElementModel",
      "state": {
       "_model_module_version": "^0.1.96",
       "_view_module_version": "^0.1.96",
       "data": {
        "source": "52",
        "target": "12"
       },
       "group": "edges"
      }
     },
     "10b81c9800104edb1f89fc84cc21b0d4": {
      "model_module": "cl-cytoscape",
      "model_module_version": "^0.1.96",
      "model_name": "ElementModel",
      "state": {
       "_model_module_version": "^0.1.96",
       "_view_module_version": "^0.1.96",
       "data": {
        "id": "90",
        "label": "P"
       },
       "position": {
        "x": 299.2222754339184,
        "y": 40.18790631058161
       }
      }
     },
     "12ae36eccaf3479b566e82a380a5ca06": {
      "model_module": "cl-cytoscape",
      "model_module_version": "^0.1.96",
      "model_name": "ElementModel",
      "state": {
       "_model_module_version": "^0.1.96",
       "_view_module_version": "^0.1.96",
       "data": {
        "source": "71",
        "target": "76"
       },
       "group": "edges"
      }
     },
     "14f664e0802344e37a24799fe6f90dab": {
      "model_module": "cl-cytoscape",
      "model_module_version": "^0.1.96",
      "model_name": "ElementModel",
      "state": {
       "_model_module_version": "^0.1.96",
       "_view_module_version": "^0.1.96",
       "data": {
        "id": "33",
        "label": "sucrose synthase"
       },
       "position": {
        "x": -303.2253542851472,
        "y": -13.102942416772015
       }
      }
     },
     "16727fd8cee74e40fc42b8fde7b301b7": {
      "model_module": "cl-cytoscape",
      "model_module_version": "^0.1.96",
      "model_name": "ElementModel",
      "state": {
       "_model_module_version": "^0.1.96",
       "_view_module_version": "^0.1.96",
       "data": {
        "source": "80",
        "target": "76"
       },
       "group": "edges"
      }
     },
     "16731b6e34bb4005ce2a799de4be2d7c": {
      "model_module": "cl-cytoscape",
      "model_module_version": "^0.1.96",
      "model_name": "ElementModel",
      "state": {
       "_model_module_version": "^0.1.96",
       "_view_module_version": "^0.1.96",
       "data": {
        "id": "41",
        "label": "UDP"
       },
       "position": {
        "x": 249.2222744339184,
        "y": 41.844067567983764
       }
      }
     },
     "1a40b619d08940bd2457ec0ca9e238e6": {
      "model_module": "cl-cytoscape",
      "model_module_version": "^0.1.96",
      "model_name": "ElementModel",
      "state": {
       "_model_module_version": "^0.1.96",
       "_view_module_version": "^0.1.96",
       "data": {
        "source": "128",
        "target": "136"
       },
       "group": "edges"
      }
     },
     "1a78c1a4b9ef48f4b18a6f964ebdbfec": {
      "model_module": "cl-cytoscape",
      "model_module_version": "^0.1.96",
      "model_name": "ElementModel",
      "state": {
       "_model_module_version": "^0.1.96",
       "_view_module_version": "^0.1.96",
       "data": {
        "source": "8",
        "target": "10"
       },
       "group": "edges"
      }
     },
     "1f57eec020254581d91d52b6e840e8f5": {
      "model_module": "cl-cytoscape",
      "model_module_version": "^0.1.96",
      "model_name": "ElementModel",
      "state": {
       "_model_module_version": "^0.1.96",
       "_view_module_version": "^0.1.96",
       "data": {
        "id": "184",
        "label": "ADP"
       },
       "position": {
        "x": -203.22535228514724,
        "y": -8.698742294761365
       }
      }
     },
     "1fd4815b6ec045cf9052c6730bbc77ca": {
      "model_module": "cl-cytoscape",
      "model_module_version": "^0.1.96",
      "model_name": "ElementModel",
      "state": {
       "_model_module_version": "^0.1.96",
       "_view_module_version": "^0.1.96",
       "data": {
        "source": "121",
        "target": "128"
       },
       "group": "edges"
      }
     },
     "2247ccd4945d4de3e46af6b35cb16084": {
      "model_module": "cl-cytoscape",
      "model_module_version": "^0.1.96",
      "model_name": "ElementModel",
      "state": {
       "_model_module_version": "^0.1.96",
       "_view_module_version": "^0.1.96",
       "data": {
        "id": "6",
        "label": "sucrose"
       },
       "position": {
        "x": 154.06490456852134,
        "y": -53.755706101300554
       }
      }
     },
     "253f200d8b3c433420eef23ed0093cf2": {
      "model_module": "cl-cytoscape",
      "model_module_version": "^0.1.96",
      "model_name": "ElementModel",
      "state": {
       "_model_module_version": "^0.1.96",
       "_view_module_version": "^0.1.96",
       "data": {
        "id": "158",
        "label": "P"
       },
       "position": {
        "x": 99.22227143391842,
        "y": 11.246665203084888
       }
      }
     },
     "27998c997ba14ae019027187bc6929ad": {
      "model_module": "cl-cytoscape",
      "model_module_version": "^0.1.96",
      "model_name": "ElementModel",
      "state": {
       "_model_module_version": "^0.1.96",
       "_view_module_version": "^0.1.96",
       "data": {
        "source": "6",
        "target": "33"
       },
       "group": "edges"
      }
     },
     "2b5274304bd345fb36c2172497704c58": {
      "model_module": "cl-cytoscape",
      "model_module_version": "^0.1.96",
      "model_name": "ElementModel",
      "state": {
       "_model_module_version": "^0.1.96",
       "_view_module_version": "^0.1.96",
       "data": {
        "id": "22",
        "label": "glucose 6-phosphate"
       },
       "position": {
        "x": -253.22535328514724,
        "y": -39.71589119925059
       }
      }
     },
     "2b7f737e641144ed70db615f05f066a8": {
      "model_module": "cl-cytoscape",
      "model_module_version": "^0.1.96",
      "model_name": "ElementModel",
      "state": {
       "_model_module_version": "^0.1.96",
       "_view_module_version": "^0.1.96",
       "data": {
        "source": "121",
        "target": "89"
       },
       "group": "edges"
      }
     },
     "2c27ef07efca4834040173fbe99e8b20": {
      "model_module": "cl-cytoscape",
      "model_module_version": "^0.1.96",
      "model_name": "ElementModel",
      "state": {
       "_model_module_version": "^0.1.96",
       "_view_module_version": "^0.1.96",
       "data": {
        "source": "8",
        "target": "28"
       },
       "group": "edges"
      }
     },
     "2e62de67fea9463b283f077e2fbf857f": {
      "model_module": "cl-cytoscape",
      "model_module_version": "^0.1.96",
      "model_name": "ElementModel",
      "state": {
       "_model_module_version": "^0.1.96",
       "_view_module_version": "^0.1.96",
       "data": {
        "source": "149",
        "target": "156"
       },
       "group": "edges"
      }
     },
     "32f2e3083489455fcb77e5d5dcce1301": {
      "model_module": "cl-cytoscape",
      "model_module_version": "^0.1.96",
      "model_name": "ElementModel",
      "state": {
       "_model_module_version": "^0.1.96",
       "_view_module_version": "^0.1.96",
       "data": {
        "id": "86",
        "label": "phospho- glucomutase (cPGM)"
       },
       "position": {
        "x": 349.22227643391835,
        "y": 49.333541464376474
       }
      }
     },
     "37a50e62091d45699e8e816212114009": {
      "model_module": "cl-cytoscape",
      "model_module_version": "^0.1.96",
      "model_name": "ElementModel",
      "state": {
       "_model_module_version": "^0.1.96",
       "_view_module_version": "^0.1.96",
       "data": {
        "id": "178",
        "label": "ATP/ADP transporter"
       },
       "position": {
        "x": -3.2253482851472484,
        "y": 60.720205330121985
       }
      }
     },
     "3805db8f08aa485de87f203ff83c74b6": {
      "model_module": "cl-cytoscape",
      "model_module_version": "^0.1.96",
      "model_name": "ElementModel",
      "state": {
       "_model_module_version": "^0.1.96",
       "_view_module_version": "^0.1.96",
       "data": {
        "source": "128",
        "target": "130"
       },
       "group": "edges"
      }
     },
     "385768b507b945849484ed4cba2ec4af": {
      "model_module": "cl-cytoscape",
      "model_module_version": "^0.1.96",
      "model_name": "ElementModel",
      "state": {
       "_model_module_version": "^0.1.96",
       "_view_module_version": "^0.1.96",
       "data": {
        "source": "33",
        "target": "10"
       },
       "group": "edges"
      }
     },
     "3fc2f67d4cc146071812544ef525d859": {
      "model_module": "cl-cytoscape",
      "model_module_version": "^0.1.96",
      "model_name": "ElementModel",
      "state": {
       "_model_module_version": "^0.1.96",
       "_view_module_version": "^0.1.96",
       "data": {
        "id": "30",
        "label": "hexokinase"
       },
       "position": {
        "x": 49.222270433918425,
        "y": -22.231178757510104
       }
      }
     },
     "42de2df756c248df047865b1af50b924": {
      "model_module": "cl-cytoscape",
      "model_module_version": "^0.1.96",
      "model_name": "ElementModel",
      "state": {
       "_model_module_version": "^0.1.96",
       "_view_module_version": "^0.1.96",
       "data": {
        "source": "30",
        "target": "22"
       },
       "group": "edges"
      }
     },
     "43c41ea8aa444d9a9b6abb45ddf4fa98": {
      "model_module": "cl-cytoscape",
      "model_module_version": "^0.1.96",
      "model_name": "ElementModel",
      "state": {
       "_model_module_version": "^0.1.96",
       "_view_module_version": "^0.1.96",
       "data": {
        "id": "103",
        "label": "P"
       },
       "position": {
        "x": 304.0649075685214,
        "y": -13.124417204222707
       }
      }
     },
     "49a2211e06ab440755ecb9514411c373": {
      "model_module": "cl-cytoscape",
      "model_module_version": "^0.1.96",
      "model_name": "ElementModel",
      "state": {
       "_model_module_version": "^0.1.96",
       "_view_module_version": "^0.1.96",
       "data": {
        "id": "121",
        "label": "glucose 1-phosphate"
       },
       "position": {
        "x": -303.2253542851472,
        "y": -63.102943416772014
       }
      }
     },
     "4a1aed9930074d6e886b80d88df223ff": {
      "model_module": "cl-cytoscape",
      "model_module_version": "^0.1.96",
      "model_name": "CytoscapeStyleModel",
      "state": {
       "_model_module_version": "^0.1.96"
      }
     },
     "4ad507fcfd9840a6101f702568c7c4ef": {
      "model_module": "cl-cytoscape",
      "model_module_version": "^0.1.96",
      "model_name": "ElementModel",
      "state": {
       "_model_module_version": "^0.1.96",
       "_view_module_version": "^0.1.96",
       "data": {
        "id": "172",
        "label": "starch"
       },
       "position": {
        "x": -103.22535028514726,
        "y": 56.690942100030334
       }
      }
     },
     "4ca0e39d179a4ad7becc8d1641bba12b": {
      "model_module": "cl-cytoscape",
      "model_module_version": "^0.1.96",
      "model_name": "ElementModel",
      "state": {
       "_model_module_version": "^0.1.96",
       "_view_module_version": "^0.1.96",
       "data": {
        "source": "89",
        "target": "90"
       },
       "group": "edges"
      }
     },
     "4cce6b8fa91b4d7087bc41226ed0e329": {
      "model_module": "cl-cytoscape",
      "model_module_version": "^0.1.96",
      "model_name": "ElementModel",
      "state": {
       "_model_module_version": "^0.1.96",
       "_view_module_version": "^0.1.96",
       "data": {
        "id": "44",
        "label": "fructose 6-phosphate"
       },
       "position": {
        "x": -206.03714386198155,
        "y": 41.30125870523863
       }
      }
     },
     "516e2860c84848920a26be7a38bda0ad": {
      "model_module": "cl-cytoscape",
      "model_module_version": "^0.1.96",
      "model_name": "ElementModel",
      "state": {
       "_model_module_version": "^0.1.96",
       "_view_module_version": "^0.1.96",
       "data": {
        "id": "8",
        "label": "invertase"
       },
       "position": {
        "x": -156.03714286198158,
        "y": 56.701854889467064
       }
      }
     },
     "520c47d9727d48d9fe828c501b03020d": {
      "model_module": "cl-cytoscape",
      "model_module_version": "^0.1.96",
      "model_name": "ElementModel",
      "state": {
       "_model_module_version": "^0.1.96",
       "_view_module_version": "^0.1.96",
       "data": {
        "source": "30",
        "target": "47"
       },
       "group": "edges"
      }
     },
     "544727773384456da6c1cb8f15f4089e": {
      "model_module": "cl-cytoscape",
      "model_module_version": "^0.1.96",
      "model_name": "ColaLayoutModel",
      "state": {
       "_model_module_version": "^0.1.96",
       "_view_module_version": "^0.1.96",
       "handle_disconnected": false,
       "unconst_iter": null,
       "ungrabify_while_simulating": false
      }
     },
     "55b71b173c72463b27c5ba87b42b270a": {
      "model_module": "cl-cytoscape",
      "model_module_version": "^0.1.96",
      "model_name": "ElementModel",
      "state": {
       "_model_module_version": "^0.1.96",
       "_view_module_version": "^0.1.96",
       "data": {
        "id": "12",
        "label": "fructokinase"
       },
       "position": {
        "x": -160.20380961198157,
        "y": 110.55045178536368
       }
      }
     },
     "56c021a3a5294ba6d28032b0ae06468f": {
      "model_module": "cl-cytoscape",
      "model_module_version": "^0.1.96",
      "model_name": "ElementModel",
      "state": {
       "_model_module_version": "^0.1.96",
       "_view_module_version": "^0.1.96",
       "data": {
        "source": "6",
        "target": "8"
       },
       "group": "edges"
      }
     },
     "56f2060abdfb4b396de48c519ac155d0": {
      "model_module": "cl-cytoscape",
      "model_module_version": "^0.1.96",
      "model_name": "ElementModel",
      "state": {
       "_model_module_version": "^0.1.96",
       "_view_module_version": "^0.1.96",
       "data": {
        "id": "46",
        "label": "ATP"
       },
       "position": {
        "x": -200.77773456608156,
        "y": -58.69874329476136
       }
      }
     },
     "6243f1c82f204fdc5dd2842170d7c1b7": {
      "model_module": "cl-cytoscape",
      "model_module_version": "^0.1.96",
      "model_name": "ElementModel",
      "state": {
       "_model_module_version": "^0.1.96",
       "_view_module_version": "^0.1.96",
       "data": {
        "source": "141",
        "target": "178"
       },
       "group": "edges"
      }
     },
     "672d0893a8514e0ecb6294f58a21eb2a": {
      "model_module": "cl-cytoscape",
      "model_module_version": "^0.1.96",
      "model_name": "ElementModel",
      "state": {
       "_model_module_version": "^0.1.96",
       "_view_module_version": "^0.1.96",
       "data": {
        "id": "95",
        "label": "P"
       },
       "position": {
        "x": 354.06490856852133,
        "y": -0.6664595356235239
       }
      }
     },
     "69a4d3c8d08b40b8a2bea2522745d91f": {
      "model_module": "cl-cytoscape",
      "model_module_version": "^0.1.96",
      "model_name": "ElementModel",
      "state": {
       "_model_module_version": "^0.1.96",
       "_view_module_version": "^0.1.96",
       "data": {
        "id": "128",
        "label": "ADPglucose pyrophosphorylase (pAGPase)"
       },
       "position": {
        "x": 46.77465271485275,
        "y": 77.76882324248989
       }
      }
     },
     "6c4d1dcf691345414a2e7d283a61048c": {
      "model_module": "cl-cytoscape",
      "model_module_version": "^0.1.96",
      "model_name": "ElementModel",
      "state": {
       "_model_module_version": "^0.1.96",
       "_view_module_version": "^0.1.96",
       "data": {
        "source": "164",
        "target": "166"
       },
       "group": "edges"
      }
     },
     "6f1083b84a6044972a5ae97fa30209b2": {
      "model_module": "cl-cytoscape",
      "model_module_version": "^0.1.96",
      "model_name": "ElementModel",
      "state": {
       "_model_module_version": "^0.1.96",
       "_view_module_version": "^0.1.96",
       "data": {
        "source": "76",
        "target": "36"
       },
       "group": "edges"
      }
     },
     "7134e3b2c9a14f2604d2d2fb2a9a0202": {
      "model_module": "cl-cytoscape",
      "model_module_version": "^0.1.96",
      "model_name": "ElementModel",
      "state": {
       "_model_module_version": "^0.1.96",
       "_view_module_version": "^0.1.96",
       "data": {
        "source": "80",
        "target": "89"
       },
       "group": "edges"
      }
     },
     "71dd1b7813364ca0abf9b499997af5ff": {
      "model_module": "cl-cytoscape",
      "model_module_version": "^0.1.96",
      "model_name": "ElementModel",
      "state": {
       "_model_module_version": "^0.1.96",
       "_view_module_version": "^0.1.96",
       "data": {
        "source": "115",
        "target": "109"
       },
       "group": "edges"
      }
     },
     "722edcef30764e881f9c67646b5e9cab": {
      "model_module": "cl-cytoscape",
      "model_module_version": "^0.1.96",
      "model_name": "ElementModel",
      "state": {
       "_model_module_version": "^0.1.96",
       "_view_module_version": "^0.1.96",
       "data": {
        "id": "136",
        "label": "PP"
       },
       "position": {
        "x": -50.77773156608157,
        "y": -39.27979666987801
       }
      }
     },
     "74e2bbede5f84e59bfe6897ffb69018b": {
      "model_module": "cl-cytoscape",
      "model_module_version": "^0.1.96",
      "model_name": "ElementModel",
      "state": {
       "_model_module_version": "^0.1.96",
       "_view_module_version": "^0.1.96",
       "data": {
        "id": "166",
        "label": "ADP"
       },
       "position": {
        "x": -311.0362620716048,
        "y": 62.76391123656631
       }
      }
     },
     "79829fff9ff644a952afee520c30ab24": {
      "model_module": "cl-cytoscape",
      "model_module_version": "^0.1.96",
      "model_name": "ElementModel",
      "state": {
       "_model_module_version": "^0.1.96",
       "_view_module_version": "^0.1.96",
       "data": {
        "source": "28",
        "target": "30"
       },
       "group": "edges"
      }
     },
     "7c5d81571e5c420e6cbf3aefb57c7fd6": {
      "model_module": "cl-cytoscape",
      "model_module_version": "^0.1.96",
      "model_name": "ElementModel",
      "state": {
       "_model_module_version": "^0.1.96",
       "_view_module_version": "^0.1.96",
       "data": {
        "id": "66",
        "label": "PP"
       },
       "position": {
        "x": 149.22227243391842,
        "y": -3.7557051013005527
       }
      }
     },
     "7ddc90fff3674d8c4e16540a971b9476": {
      "model_module": "cl-cytoscape",
      "model_module_version": "^0.1.96",
      "model_name": "ElementModel",
      "state": {
       "_model_module_version": "^0.1.96",
       "_view_module_version": "^0.1.96",
       "data": {
        "source": "41",
        "target": "33"
       },
       "group": "edges"
      }
     },
     "8314048ebec1405d8b3cc901fa63bb9e": {
      "model_module": "cl-cytoscape",
      "model_module_version": "^0.1.96",
      "model_name": "ElementModel",
      "state": {
       "_model_module_version": "^0.1.96",
       "_view_module_version": "^0.1.96",
       "data": {
        "id": "104",
        "label": "G6P transporter"
       },
       "position": {
        "x": -150.77773356608157,
        "y": -93.30906089996965
       }
      }
     },
     "84b09dbeb8bf420ba1d8c2174d547f3a": {
      "model_module": "cl-cytoscape",
      "model_module_version": "^0.1.96",
      "model_name": "ElementModel",
      "state": {
       "_model_module_version": "^0.1.96",
       "_view_module_version": "^0.1.96",
       "data": {
        "source": "130",
        "target": "164"
       },
       "group": "edges"
      }
     },
     "858d1bc4d4b848dbac16a4f3002172f1": {
      "model_module": "cl-cytoscape",
      "model_module_version": "^0.1.96",
      "model_name": "ElementModel",
      "state": {
       "_model_module_version": "^0.1.96",
       "_view_module_version": "^0.1.96",
       "data": {
        "id": "130",
        "label": "ADP - glucose"
       },
       "position": {
        "x": 149.22227243391842,
        "y": 46.24429589869944
       }
      }
     },
     "8895d4825b0847002cb3738e683052cf": {
      "model_module": "cl-cytoscape",
      "model_module_version": "^0.1.96",
      "model_name": "ElementModel",
      "state": {
       "_model_module_version": "^0.1.96",
       "_view_module_version": "^0.1.96",
       "data": {
        "source": "10",
        "target": "12"
       },
       "group": "edges"
      }
     },
     "8c151ad79e8141f83ec11cb5c945fd9e": {
      "model_module": "cl-cytoscape",
      "model_module_version": "^0.1.96",
      "model_name": "ElementModel",
      "state": {
       "_model_module_version": "^0.1.96",
       "_view_module_version": "^0.1.96",
       "data": {
        "id": "189",
        "label": "ATP"
       },
       "position": {
        "x": -0.777730566081568,
        "y": -40.94639495101543
       }
      }
     },
     "8cbc5137e76e40854b69ef27f3c42c42": {
      "model_module": "cl-cytoscape",
      "model_module_version": "^0.1.96",
      "model_name": "ElementModel",
      "state": {
       "_model_module_version": "^0.1.96",
       "_view_module_version": "^0.1.96",
       "data": {
        "id": "102",
        "label": "P"
       },
       "position": {
        "x": -353.22535528514726,
        "y": 12.763910236566318
       }
      }
     },
     "8eba1222acde4821dc524a062b76da1c": {
      "model_module": "cl-cytoscape",
      "model_module_version": "^0.1.96",
      "model_name": "ElementModel",
      "state": {
       "_model_module_version": "^0.1.96",
       "_view_module_version": "^0.1.96",
       "data": {
        "id": "141",
        "label": "ATP"
       },
       "position": {
        "x": 54.06490256852134,
        "y": -72.2311797575101
       }
      }
     },
     "8ffad5c7cd9c4dfa8e2d787eb5ba5cb4": {
      "model_module": "cl-cytoscape",
      "model_module_version": "^0.1.96",
      "model_name": "ElementModel",
      "state": {
       "_model_module_version": "^0.1.96",
       "_view_module_version": "^0.1.96",
       "data": {
        "source": "136",
        "target": "148"
       },
       "group": "edges"
      }
     },
     "90c234403fe54f633186164614f0d95a": {
      "model_module": "cl-cytoscape",
      "model_module_version": "^0.1.96",
      "model_name": "ElementModel",
      "state": {
       "_model_module_version": "^0.1.96",
       "_view_module_version": "^0.1.96",
       "data": {
        "id": "115",
        "label": "phospho- glucomutase (cPGM)"
       },
       "position": {
        "x": -210.2038106119816,
        "y": 91.30125970523864
       }
      }
     },
     "929c9d7d8d224b2835ad40b144ed0a0f": {
      "model_module": "cl-cytoscape",
      "model_module_version": "^0.1.96",
      "model_name": "ElementModel",
      "state": {
       "_model_module_version": "^0.1.96",
       "_view_module_version": "^0.1.96",
       "data": {
        "source": "12",
        "target": "14"
       },
       "group": "edges"
      }
     },
     "92baa118f8f949b126469695c262b9b2": {
      "model_module": "cl-cytoscape",
      "model_module_version": "^0.1.96",
      "model_name": "ElementModel",
      "state": {
       "_model_module_version": "^0.1.96",
       "_view_module_version": "^0.1.96",
       "data": {
        "source": "121",
        "target": "115"
       },
       "group": "edges"
      }
     },
     "92f9e1730998431929ef27974537a1b9": {
      "model_module": "cl-cytoscape",
      "model_module_version": "^0.1.96",
      "model_name": "ElementModel",
      "state": {
       "_model_module_version": "^0.1.96",
       "_view_module_version": "^0.1.96",
       "data": {
        "id": "2",
        "tooltip": "sucrose phosphate phosphatase"
       },
       "position": {
        "x": -103.22535028514726,
        "y": 6.690941100030344
       }
      }
     },
     "93a60e769ce445d40f0f20c6a018d8f9": {
      "model_module": "cl-cytoscape",
      "model_module_version": "^0.1.96",
      "model_name": "ElementModel",
      "state": {
       "_model_module_version": "^0.1.96",
       "_view_module_version": "^0.1.96",
       "data": {
        "source": "104",
        "target": "103"
       },
       "group": "edges"
      }
     },
     "9ab55d2e7a1b47611aa68c2eeffdc27e": {
      "model_module": "cl-cytoscape",
      "model_module_version": "^0.1.96",
      "model_name": "ElementModel",
      "state": {
       "_model_module_version": "^0.1.96",
       "_view_module_version": "^0.1.96",
       "data": {
        "id": "36",
        "label": "UDP - glucose"
       },
       "position": {
        "x": -150.77773356608157,
        "y": -43.30905989996965
       }
      }
     },
     "a1ec4a2b967c42a18fe045f99df88e0b": {
      "model_module": "cl-cytoscape",
      "model_module_version": "^0.1.96",
      "model_name": "ElementModel",
      "state": {
       "_model_module_version": "^0.1.96",
       "_view_module_version": "^0.1.96",
       "data": {
        "source": "178",
        "target": "179"
       },
       "group": "edges"
      }
     },
     "a487de034d004b4b60ad89b129eaff2a": {
      "model_module": "cl-cytoscape",
      "model_module_version": "^0.1.96",
      "model_name": "ElementModel",
      "state": {
       "_model_module_version": "^0.1.96",
       "_view_module_version": "^0.1.96",
       "data": {
        "source": "46",
        "target": "30"
       },
       "group": "edges"
      }
     },
     "a599e0cff9d1426f9b0d9eff54f471b2": {
      "model_module": "cl-cytoscape",
      "model_module_version": "^0.1.96",
      "model_name": "ElementModel",
      "state": {
       "_model_module_version": "^0.1.96",
       "_view_module_version": "^0.1.96",
       "data": {
        "source": "22",
        "target": "86"
       },
       "group": "edges"
      }
     },
     "a771e6c7b4284f0887ded7196ebfa7d4": {
      "model_module": "cl-cytoscape",
      "model_module_version": "^0.1.96",
      "model_name": "ElementModel",
      "state": {
       "_model_module_version": "^0.1.96",
       "_view_module_version": "^0.1.96",
       "data": {
        "id": "52",
        "label": "ATP"
       },
       "position": {
        "x": 199.22227343391842,
        "y": 50.34647225434202
       }
      }
     },
     "a9ccee49f3424c03f8bfcc17790cb6d3": {
      "model_module": "cl-cytoscape",
      "model_module_version": "^0.1.96",
      "model_name": "ElementModel",
      "state": {
       "_model_module_version": "^0.1.96",
       "_view_module_version": "^0.1.96",
       "data": {
        "source": "156",
        "target": "158"
       },
       "group": "edges"
      }
     },
     "ac38cb7ac0da470898a65173d04d0fdc": {
      "model_module": "cl-cytoscape",
      "model_module_version": "^0.1.96",
      "model_name": "ElementModel",
      "state": {
       "_model_module_version": "^0.1.96",
       "_view_module_version": "^0.1.96",
       "data": {
        "id": "80",
        "label": "glucose 1-phosphate"
       },
       "position": {
        "x": -100.77773256608157,
        "y": -43.31997268940636
       }
      }
     },
     "ac56cf4fe85c4da9f0f24f05fab54cef": {
      "model_module": "cl-cytoscape",
      "model_module_version": "^0.1.96",
      "model_name": "ElementModel",
      "state": {
       "_model_module_version": "^0.1.96",
       "_view_module_version": "^0.1.96",
       "data": {
        "source": "148",
        "target": "149"
       },
       "group": "edges"
      }
     },
     "ae71a1ede9994e31b4ae60366aae19bc": {
      "model_module": "cl-cytoscape",
      "model_module_version": "^0.1.96",
      "model_name": "ElementModel",
      "state": {
       "_model_module_version": "^0.1.96",
       "_view_module_version": "^0.1.96",
       "data": {
        "id": "57",
        "label": "ADP"
       },
       "position": {
        "x": 104.06490356852134,
        "y": -53.965732665022124
       }
      }
     },
     "aea97a11921d4ef5d052233659b576e6": {
      "model_module": "cl-cytoscape",
      "model_module_version": "^0.1.96",
      "model_name": "ElementModel",
      "state": {
       "_model_module_version": "^0.1.96",
       "_view_module_version": "^0.1.96",
       "data": {
        "id": "179",
        "label": "ADP"
       },
       "position": {
        "x": 254.0649065685213,
        "y": -9.812094689418386
       }
      }
     },
     "b19eb44214cc4f91031e2b2230361ad9": {
      "model_module": "cl-cytoscape",
      "model_module_version": "^0.1.96",
      "model_name": "ElementModel",
      "state": {
       "_model_module_version": "^0.1.96",
       "_view_module_version": "^0.1.96",
       "data": {
        "source": "38",
        "target": "4"
       },
       "group": "edges"
      }
     },
     "b29c60ef270840d3259b076eb449b8e6": {
      "model_module": "cl-cytoscape",
      "model_module_version": "^0.1.96",
      "model_name": "ElementModel",
      "state": {
       "_model_module_version": "^0.1.96",
       "_view_module_version": "^0.1.96",
       "data": {
        "source": "95",
        "target": "89"
       },
       "group": "edges"
      }
     },
     "b2e94eeb19334192517e06679926e31c": {
      "model_module": "cl-cytoscape",
      "model_module_version": "^0.1.96",
      "model_name": "ElementModel",
      "state": {
       "_model_module_version": "^0.1.96",
       "_view_module_version": "^0.1.96",
       "data": {
        "source": "76",
        "target": "66"
       },
       "group": "edges"
      }
     },
     "b43ec08e8f5d475660fc9460ee9a3a55": {
      "model_module": "cl-cytoscape",
      "model_module_version": "^0.1.96",
      "model_name": "ElementModel",
      "state": {
       "_model_module_version": "^0.1.96",
       "_view_module_version": "^0.1.96",
       "data": {
        "source": "38",
        "target": "41"
       },
       "group": "edges"
      }
     },
     "ba87d9a076f0407cf52cc13793340111": {
      "model_module": "cl-cytoscape",
      "model_module_version": "^0.1.96",
      "model_name": "ElementModel",
      "state": {
       "_model_module_version": "^0.1.96",
       "_view_module_version": "^0.1.96",
       "data": {
        "id": "14",
        "label": "fructose 6-phosphate"
       },
       "position": {
        "x": 46.77465271485275,
        "y": 27.768822242489893
       }
      }
     },
     "be18289aaa2048fd226536f3855bca23": {
      "model_module": "cl-cytoscape",
      "model_module_version": "^0.1.96",
      "model_name": "ElementModel",
      "state": {
       "_model_module_version": "^0.1.96",
       "_view_module_version": "^0.1.96",
       "data": {
        "source": "36",
        "target": "38"
       },
       "group": "edges"
      }
     },
     "be6aec4fcbff4757e0d322634df49f5b": {
      "model_module": "cl-cytoscape",
      "model_module_version": "^0.1.96",
      "model_name": "ElementModel",
      "state": {
       "_model_module_version": "^0.1.96",
       "_view_module_version": "^0.1.96",
       "data": {
        "id": "148",
        "label": "inorganic diphosphatase"
       },
       "position": {
        "x": -53.22534928514724,
        "y": 14.1183023140161
       }
      }
     },
     "c0c01b1e5e8c49555fdcd53f761cec04": {
      "model_module": "cl-cytoscape",
      "model_module_version": "^0.1.96",
      "model_name": "ElementModel",
      "state": {
       "_model_module_version": "^0.1.96",
       "_view_module_version": "^0.1.96",
       "data": {
        "source": "14",
        "target": "20"
       },
       "group": "edges"
      }
     },
     "c2946d36c6704758c456e51823dde5b3": {
      "model_module": "cl-cytoscape",
      "model_module_version": "^0.1.96",
      "model_name": "ElementModel",
      "state": {
       "_model_module_version": "^0.1.96",
       "_view_module_version": "^0.1.96",
       "data": {
        "source": "2",
        "target": "6"
       },
       "group": "edges"
      }
     },
     "c4d5a2273b0f4caf798f377714e1b5f5": {
      "model_module": "cl-cytoscape",
      "model_module_version": "^0.1.96",
      "model_name": "ElementModel",
      "state": {
       "_model_module_version": "^0.1.96",
       "_view_module_version": "^0.1.96",
       "data": {
        "id": "76",
        "label": "UDP glucose pyrophosphorylase"
       },
       "position": {
        "x": 27.421724984052883,
        "y": -122.2311807575101
       }
      }
     },
     "c51d4e3696a24adcc36038ac32e68300": {
      "model_module": "cl-cytoscape",
      "model_module_version": "^0.1.96",
      "model_name": "ElementModel",
      "state": {
       "_model_module_version": "^0.1.96",
       "_view_module_version": "^0.1.96",
       "data": {
        "source": "22",
        "target": "104"
       },
       "group": "edges"
      }
     },
     "c5ac2f12a10c49c6ae5f1872c93e36b9": {
      "model_module": "cl-cytoscape",
      "model_module_version": "^0.1.96",
      "model_name": "ElementModel",
      "state": {
       "_model_module_version": "^0.1.96",
       "_view_module_version": "^0.1.96",
       "data": {
        "id": "164",
        "label": "starch synthase (simpl.)"
       },
       "position": {
        "x": 204.06490556852134,
        "y": -49.65352974565798
       }
      }
     },
     "c6e2707cf21643dc74af588e182e278e": {
      "model_module": "cl-cytoscape",
      "model_module_version": "^0.1.96",
      "model_name": "ElementModel",
      "state": {
       "_model_module_version": "^0.1.96",
       "_view_module_version": "^0.1.96",
       "data": {
        "id": "156",
        "label": "phosphate transporter"
       },
       "position": {
        "x": 354.06490856852133,
        "y": -50.66646053562352
       }
      }
     },
     "cc1dfd6bc17048c134f6cdb9855aa1f4": {
      "model_module": "cl-cytoscape",
      "model_module_version": "^0.1.96",
      "model_name": "ElementModel",
      "state": {
       "_model_module_version": "^0.1.96",
       "_view_module_version": "^0.1.96",
       "data": {
        "id": "109",
        "label": "glucose 6-phosphate"
       },
       "position": {
        "x": 154.06490456852134,
        "y": -103.75570710130056
       }
      }
     },
     "d03ed6e8d8de4afdf1666fc03c049628": {
      "model_module": "@jupyter-widgets/base",
      "model_module_version": "1.2.0",
      "model_name": "LayoutModel",
      "state": {}
     },
     "d1a4901edb324e6c0f8f58259413cac1": {
      "model_module": "cl-cytoscape",
      "model_module_version": "^0.1.96",
      "model_name": "ElementModel",
      "state": {
       "_model_module_version": "^0.1.96",
       "_view_module_version": "^0.1.96",
       "data": {
        "source": "44",
        "target": "38"
       },
       "group": "edges"
      }
     },
     "d5004e58f17e4381ebd736996cbe7f47": {
      "model_module": "cl-cytoscape",
      "model_module_version": "^0.1.96",
      "model_name": "ElementModel",
      "state": {
       "_model_module_version": "^0.1.96",
       "_view_module_version": "^0.1.96",
       "data": {
        "id": "149",
        "label": "P"
       },
       "position": {
        "x": 254.0649065685213,
        "y": -59.81209568941838
       }
      }
     },
     "d626428cf9c3409bc004ca5bee2e5b95": {
      "model_module": "cl-cytoscape",
      "model_module_version": "^0.1.96",
      "model_name": "ElementModel",
      "state": {
       "_model_module_version": "^0.1.96",
       "_view_module_version": "^0.1.96",
       "data": {
        "source": "178",
        "target": "189"
       },
       "group": "edges"
      }
     },
     "daf380ce200f44f09a60ab2d360d832e": {
      "model_module": "cl-cytoscape",
      "model_module_version": "^0.1.96",
      "model_name": "CytoscapeModel",
      "state": {
       "_model_module_version": "^0.1.96",
       "_view_module_version": "^0.1.96",
       "box_selection_enabled": true,
       "desktop_tap_threshold": 4,
       "elements": [
        "IPY_MODEL_e4cb316d93714bf3917f31da0d224287",
        "IPY_MODEL_92f9e1730998431929ef27974537a1b9",
        "IPY_MODEL_01574e0ac2eb4a9dff6dbff55c0f7c87",
        "IPY_MODEL_2247ccd4945d4de3e46af6b35cb16084",
        "IPY_MODEL_516e2860c84848920a26be7a38bda0ad",
        "IPY_MODEL_081a7ecb575348d7123d35b377520a7a",
        "IPY_MODEL_55b71b173c72463b27c5ba87b42b270a",
        "IPY_MODEL_ba87d9a076f0407cf52cc13793340111",
        "IPY_MODEL_0f85659fe18548d9059bad6edbbdd454",
        "IPY_MODEL_2b5274304bd345fb36c2172497704c58",
        "IPY_MODEL_f0919c4c6031455f946c0aa0c8d25643",
        "IPY_MODEL_3fc2f67d4cc146071812544ef525d859",
        "IPY_MODEL_14f664e0802344e37a24799fe6f90dab",
        "IPY_MODEL_9ab55d2e7a1b47611aa68c2eeffdc27e",
        "IPY_MODEL_dfcca96e6c514a5650c7fdbc3f693706",
        "IPY_MODEL_16731b6e34bb4005ce2a799de4be2d7c",
        "IPY_MODEL_4cce6b8fa91b4d7087bc41226ed0e329",
        "IPY_MODEL_56f2060abdfb4b396de48c519ac155d0",
        "IPY_MODEL_f86cafa141ca43772139d13d9eec3f1c",
        "IPY_MODEL_a771e6c7b4284f0887ded7196ebfa7d4",
        "IPY_MODEL_ae71a1ede9994e31b4ae60366aae19bc",
        "IPY_MODEL_7c5d81571e5c420e6cbf3aefb57c7fd6",
        "IPY_MODEL_f18b8e2e9f5a4f8023a9d5e7f9ef51eb",
        "IPY_MODEL_c4d5a2273b0f4caf798f377714e1b5f5",
        "IPY_MODEL_ac38cb7ac0da470898a65173d04d0fdc",
        "IPY_MODEL_32f2e3083489455fcb77e5d5dcce1301",
        "IPY_MODEL_e0ea1453f2ce4ae9998ec2cf02ea9598",
        "IPY_MODEL_10b81c9800104edb1f89fc84cc21b0d4",
        "IPY_MODEL_672d0893a8514e0ecb6294f58a21eb2a",
        "IPY_MODEL_8cbc5137e76e40854b69ef27f3c42c42",
        "IPY_MODEL_43c41ea8aa444d9a9b6abb45ddf4fa98",
        "IPY_MODEL_8314048ebec1405d8b3cc901fa63bb9e",
        "IPY_MODEL_cc1dfd6bc17048c134f6cdb9855aa1f4",
        "IPY_MODEL_90c234403fe54f633186164614f0d95a",
        "IPY_MODEL_49a2211e06ab440755ecb9514411c373",
        "IPY_MODEL_69a4d3c8d08b40b8a2bea2522745d91f",
        "IPY_MODEL_858d1bc4d4b848dbac16a4f3002172f1",
        "IPY_MODEL_722edcef30764e881f9c67646b5e9cab",
        "IPY_MODEL_8eba1222acde4821dc524a062b76da1c",
        "IPY_MODEL_be6aec4fcbff4757e0d322634df49f5b",
        "IPY_MODEL_d5004e58f17e4381ebd736996cbe7f47",
        "IPY_MODEL_c6e2707cf21643dc74af588e182e278e",
        "IPY_MODEL_253f200d8b3c433420eef23ed0093cf2",
        "IPY_MODEL_c5ac2f12a10c49c6ae5f1872c93e36b9",
        "IPY_MODEL_74e2bbede5f84e59bfe6897ffb69018b",
        "IPY_MODEL_4ad507fcfd9840a6101f702568c7c4ef",
        "IPY_MODEL_37a50e62091d45699e8e816212114009",
        "IPY_MODEL_aea97a11921d4ef5d052233659b576e6",
        "IPY_MODEL_1f57eec020254581d91d52b6e840e8f5",
        "IPY_MODEL_8c151ad79e8141f83ec11cb5c945fd9e",
        "IPY_MODEL_ee96c7a5472445a51a2f67da3ed8fd30",
        "IPY_MODEL_f5fa5298fb354b4d4b75e2318413857e",
        "IPY_MODEL_c2946d36c6704758c456e51823dde5b3",
        "IPY_MODEL_56c021a3a5294ba6d28032b0ae06468f",
        "IPY_MODEL_1a78c1a4b9ef48f4b18a6f964ebdbfec",
        "IPY_MODEL_929c9d7d8d224b2835ad40b144ed0a0f",
        "IPY_MODEL_c0c01b1e5e8c49555fdcd53f761cec04",
        "IPY_MODEL_eccfb39772f449ea4caae6f0ee2d57b4",
        "IPY_MODEL_2c27ef07efca4834040173fbe99e8b20",
        "IPY_MODEL_79829fff9ff644a952afee520c30ab24",
        "IPY_MODEL_42de2df756c248df047865b1af50b924",
        "IPY_MODEL_27998c997ba14ae019027187bc6929ad",
        "IPY_MODEL_385768b507b945849484ed4cba2ec4af",
        "IPY_MODEL_db6c7d15553b46bb2c276a899fcdd2d1",
        "IPY_MODEL_be18289aaa2048fd226536f3855bca23",
        "IPY_MODEL_b19eb44214cc4f91031e2b2230361ad9",
        "IPY_MODEL_b43ec08e8f5d475660fc9460ee9a3a55",
        "IPY_MODEL_7ddc90fff3674d8c4e16540a971b9476",
        "IPY_MODEL_d1a4901edb324e6c0f8f58259413cac1",
        "IPY_MODEL_1003a934e9254b16ba87088f9caffa27",
        "IPY_MODEL_004430ac698947d9727b1c8728b71825",
        "IPY_MODEL_a487de034d004b4b60ad89b129eaff2a",
        "IPY_MODEL_520c47d9727d48d9fe828c501b03020d",
        "IPY_MODEL_12ae36eccaf3479b566e82a380a5ca06",
        "IPY_MODEL_b2e94eeb19334192517e06679926e31c",
        "IPY_MODEL_6f1083b84a6044972a5ae97fa30209b2",
        "IPY_MODEL_16727fd8cee74e40fc42b8fde7b301b7",
        "IPY_MODEL_a599e0cff9d1426f9b0d9eff54f471b2",
        "IPY_MODEL_0f21c4033c7f4702390ed33c9306d60c",
        "IPY_MODEL_b29c60ef270840d3259b076eb449b8e6",
        "IPY_MODEL_4ca0e39d179a4ad7becc8d1641bba12b",
        "IPY_MODEL_0271dcc7930645874a30224c164ccdbe",
        "IPY_MODEL_7134e3b2c9a14f2604d2d2fb2a9a0202",
        "IPY_MODEL_f27141b5387746d0b8720d4032e4841a",
        "IPY_MODEL_71dd1b7813364ca0abf9b499997af5ff",
        "IPY_MODEL_2b7f737e641144ed70db615f05f066a8",
        "IPY_MODEL_92baa118f8f949b126469695c262b9b2",
        "IPY_MODEL_1fd4815b6ec045cf9052c6730bbc77ca",
        "IPY_MODEL_3805db8f08aa485de87f203ff83c74b6",
        "IPY_MODEL_e3751b3fe5734edbe0237ceeaa06dd2f",
        "IPY_MODEL_1a40b619d08940bd2457ec0ca9e238e6",
        "IPY_MODEL_8ffad5c7cd9c4dfa8e2d787eb5ba5cb4",
        "IPY_MODEL_ac56cf4fe85c4da9f0f24f05fab54cef",
        "IPY_MODEL_2e62de67fea9463b283f077e2fbf857f",
        "IPY_MODEL_a9ccee49f3424c03f8bfcc17790cb6d3",
        "IPY_MODEL_84b09dbeb8bf420ba1d8c2174d547f3a",
        "IPY_MODEL_6c4d1dcf691345414a2e7d283a61048c",
        "IPY_MODEL_a1ec4a2b967c42a18fe045f99df88e0b",
        "IPY_MODEL_e79920d4dce44703545eacbc84ab34b0",
        "IPY_MODEL_d626428cf9c3409bc004ca5bee2e5b95",
        "IPY_MODEL_6243f1c82f204fdc5dd2842170d7c1b7",
        "IPY_MODEL_93a60e769ce445d40f0f20c6a018d8f9",
        "IPY_MODEL_8895d4825b0847002cb3738e683052cf",
        "IPY_MODEL_0aee0f17c3ef4a21b8121df7cb0bfa61",
        "IPY_MODEL_c51d4e3696a24adcc36038ac32e68300"
       ],
       "graph_layouts": [
        "IPY_MODEL_544727773384456da6c1cb8f15f4089e"
       ],
       "layout": "IPY_MODEL_d03ed6e8d8de4afdf1666fc03c049628",
       "max_zoom": 9.999999999999999e+49,
       "min_zoom": 1.0000000000000001e-50,
       "pan": {
        "x": 634.9647527599651,
        "y": 206.2553001755224
       },
       "style": "IPY_MODEL_4a1aed9930074d6e886b80d88df223ff",
       "tooltip_source": "tooltip",
       "zoom": 1.2750762831485576
      }
     },
     "db6c7d15553b46bb2c276a899fcdd2d1": {
      "model_module": "cl-cytoscape",
      "model_module_version": "^0.1.96",
      "model_name": "ElementModel",
      "state": {
       "_model_module_version": "^0.1.96",
       "_view_module_version": "^0.1.96",
       "data": {
        "source": "33",
        "target": "36"
       },
       "group": "edges"
      }
     },
     "dfcca96e6c514a5650c7fdbc3f693706": {
      "model_module": "cl-cytoscape",
      "model_module_version": "^0.1.96",
      "model_name": "ElementModel",
      "state": {
       "_model_module_version": "^0.1.96",
       "_view_module_version": "^0.1.96",
       "data": {
        "id": "38",
        "label": "sucrose phosphate synthase"
       },
       "position": {
        "x": 96.77465371485273,
        "y": 61.24666620308488
       }
      }
     },
     "e0ea1453f2ce4ae9998ec2cf02ea9598": {
      "model_module": "cl-cytoscape",
      "model_module_version": "^0.1.96",
      "model_name": "ElementModel",
      "state": {
       "_model_module_version": "^0.1.96",
       "_view_module_version": "^0.1.96",
       "data": {
        "id": "89",
        "label": "G1P transporter"
       },
       "position": {
        "x": 98.1295288880184,
        "y": 112.41953221821468
       }
      }
     },
     "e3751b3fe5734edbe0237ceeaa06dd2f": {
      "model_module": "cl-cytoscape",
      "model_module_version": "^0.1.96",
      "model_name": "ElementModel",
      "state": {
       "_model_module_version": "^0.1.96",
       "_view_module_version": "^0.1.96",
       "data": {
        "source": "141",
        "target": "128"
       },
       "group": "edges"
      }
     },
     "e4cb316d93714bf3917f31da0d224287": {
      "model_module": "cl-cytoscape",
      "model_module_version": "^0.1.96",
      "model_name": "ElementModel",
      "state": {
       "_model_module_version": "^0.1.96",
       "_view_module_version": "^0.1.96",
       "data": {
        "id": "1",
        "label": "P"
       },
       "position": {
        "x": -3.2253482851472484,
        "y": 10.720204330121987
       }
      }
     },
     "e79920d4dce44703545eacbc84ab34b0": {
      "model_module": "cl-cytoscape",
      "model_module_version": "^0.1.96",
      "model_name": "ElementModel",
      "state": {
       "_model_module_version": "^0.1.96",
       "_view_module_version": "^0.1.96",
       "data": {
        "source": "184",
        "target": "178"
       },
       "group": "edges"
      }
     },
     "eccfb39772f449ea4caae6f0ee2d57b4": {
      "model_module": "cl-cytoscape",
      "model_module_version": "^0.1.96",
      "model_name": "ElementModel",
      "state": {
       "_model_module_version": "^0.1.96",
       "_view_module_version": "^0.1.96",
       "data": {
        "source": "20",
        "target": "22"
       },
       "group": "edges"
      }
     },
     "ee96c7a5472445a51a2f67da3ed8fd30": {
      "model_module": "cl-cytoscape",
      "model_module_version": "^0.1.96",
      "model_name": "ElementModel",
      "state": {
       "_model_module_version": "^0.1.96",
       "_view_module_version": "^0.1.96",
       "data": {
        "source": "2",
        "target": "1"
       },
       "group": "edges"
      }
     },
     "f0919c4c6031455f946c0aa0c8d25643": {
      "model_module": "cl-cytoscape",
      "model_module_version": "^0.1.96",
      "model_name": "ElementModel",
      "state": {
       "_model_module_version": "^0.1.96",
       "_view_module_version": "^0.1.96",
       "data": {
        "id": "28",
        "label": "glucose"
       },
       "position": {
        "x": -353.22535528514726,
        "y": -37.23609076343368
       }
      }
     },
     "f18b8e2e9f5a4f8023a9d5e7f9ef51eb": {
      "model_module": "cl-cytoscape",
      "model_module_version": "^0.1.96",
      "model_name": "ElementModel",
      "state": {
       "_model_module_version": "^0.1.96",
       "_view_module_version": "^0.1.96",
       "data": {
        "id": "71",
        "label": "UTP"
       },
       "position": {
        "x": 199.22227343391842,
        "y": 0.346471254342017
       }
      }
     },
     "f27141b5387746d0b8720d4032e4841a": {
      "model_module": "cl-cytoscape",
      "model_module_version": "^0.1.96",
      "model_name": "ElementModel",
      "state": {
       "_model_module_version": "^0.1.96",
       "_view_module_version": "^0.1.96",
       "data": {
        "source": "104",
        "target": "109"
       },
       "group": "edges"
      }
     },
     "f5fa5298fb354b4d4b75e2318413857e": {
      "model_module": "cl-cytoscape",
      "model_module_version": "^0.1.96",
      "model_name": "ElementModel",
      "state": {
       "_model_module_version": "^0.1.96",
       "_view_module_version": "^0.1.96",
       "data": {
        "source": "4",
        "target": "2"
       },
       "group": "edges"
      }
     },
     "f86cafa141ca43772139d13d9eec3f1c": {
      "model_module": "cl-cytoscape",
      "model_module_version": "^0.1.96",
      "model_name": "ElementModel",
      "state": {
       "_model_module_version": "^0.1.96",
       "_view_module_version": "^0.1.96",
       "data": {
        "id": "47",
        "label": "ATP"
       },
       "position": {
        "x": -153.22535128514724,
        "y": 6.701853889467055
       }
      }
     }
    },
    "version_major": 2,
    "version_minor": 0
   }
  }
 },
 "nbformat": 4,
 "nbformat_minor": 4
}
