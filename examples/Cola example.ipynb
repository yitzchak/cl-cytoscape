{
 "cells": [
  {
   "cell_type": "code",
   "execution_count": 1,
   "metadata": {},
   "outputs": [
    {
     "name": "stdout",
     "output_type": "stream",
     "text": [
      "To load \"cytoscape-clj\":\n",
      "  Load 1 ASDF system:\n",
      "    cytoscape-clj\n",
      "\n",
      "; Loading \"cytoscape-clj\"\n",
      "[package cytoscape]...."
     ]
    },
    {
     "data": {
      "text/plain": [
       "(:CYTOSCAPE-CLJ)"
      ]
     },
     "execution_count": 1,
     "metadata": {},
     "output_type": "execute_result"
    },
    {
     "name": "stdout",
     "output_type": "stream",
     "text": [
      "\n"
     ]
    }
   ],
   "source": [
    "(ql:quickload :cytoscape-clj)"
   ]
  },
  {
   "cell_type": "code",
   "execution_count": 2,
   "metadata": {},
   "outputs": [
    {
     "data": {
      "text/plain": [
       "C"
      ]
     },
     "execution_count": 2,
     "metadata": {},
     "output_type": "execute_result"
    },
    {
     "data": {
      "text/plain": [
       "NIL"
      ]
     },
     "execution_count": 2,
     "metadata": {},
     "output_type": "execute_result"
    }
   ],
   "source": [
    "(defparameter c (make-instance 'cytoscape::cytoscape-widget :graph-layouts (list (make-instance 'cytoscape:cola-layout))))\n",
    "\n",
    "(cytoscape:add-graph c (jsown:parse (alexandria:read-file-into-string \"colaData.json\")))"
   ]
  },
  {
   "cell_type": "code",
   "execution_count": 3,
   "metadata": {},
   "outputs": [
    {
     "data": {
      "application/vnd.jupyter.widget-view+json": {
       "model_id": "62576bd3d60549561a91d7641e631bc2",
       "version_major": 2,
       "version_minor": 0
      },
      "text/plain": [
       "A Jupyter Widget"
      ]
     },
     "metadata": {},
     "output_type": "display_data"
    }
   ],
   "source": [
    "c"
   ]
  },
  {
   "cell_type": "code",
   "execution_count": null,
   "metadata": {},
   "outputs": [],
   "source": []
  },
  {
   "cell_type": "code",
   "execution_count": null,
   "metadata": {},
   "outputs": [],
   "source": []
  }
 ],
 "metadata": {
  "kernelspec": {
   "display_name": "Common Lisp (clasp)",
   "language": "common-lisp",
   "name": "common-lisp_clasp"
  },
  "language_info": {
   "codemirror_mode": "text/x-common-lisp",
   "file_extension": ".lisp",
   "mimetype": "text/x-common-lisp",
   "name": "common-lisp",
   "pygments_lexer": "common-lisp",
   "version": "cclasp-boehm-0.4.2-2722-gc7cf406d8-cst"
  },
  "widgets": {
   "application/vnd.jupyter.widget-state+json": {
    "state": {
     "04ecef970bd240cbd5b3db56c3b089d6": {
      "model_module": "cytoscape-clj",
      "model_module_version": "^0.2.0",
      "model_name": "ElementModel",
      "state": {
       "_model_module_version": "^0.2.0",
       "_view_module_version": "^0.2.0",
       "data": {
        "id": "46",
        "label": "ATP"
       },
       "position": {
        "x": -200.77773456608156,
        "y": -58.69874329476136
       }
      }
     },
     "07217460463540e5bd7dec1c0be514b5": {
      "model_module": "cytoscape-clj",
      "model_module_version": "^0.2.0",
      "model_name": "ElementModel",
      "state": {
       "_model_module_version": "^0.2.0",
       "_view_module_version": "^0.2.0",
       "data": {
        "source": "121",
        "target": "89"
       },
       "group": "edges"
      }
     },
     "0ccdd276a82546d0c80088c7496b3493": {
      "model_module": "cytoscape-clj",
      "model_module_version": "^0.2.0",
      "model_name": "ElementModel",
      "state": {
       "_model_module_version": "^0.2.0",
       "_view_module_version": "^0.2.0",
       "data": {
        "source": "128",
        "target": "130"
       },
       "group": "edges"
      }
     },
     "0d99f9d845c840036263c2790b9e179a": {
      "model_module": "cytoscape-clj",
      "model_module_version": "^0.2.0",
      "model_name": "ElementModel",
      "state": {
       "_model_module_version": "^0.2.0",
       "_view_module_version": "^0.2.0",
       "data": {
        "source": "22",
        "target": "104"
       },
       "group": "edges"
      }
     },
     "17111ea09a294faea8449fe51e28ad2e": {
      "model_module": "cytoscape-clj",
      "model_module_version": "^0.2.0",
      "model_name": "ElementModel",
      "state": {
       "_model_module_version": "^0.2.0",
       "_view_module_version": "^0.2.0",
       "data": {
        "source": "76",
        "target": "66"
       },
       "group": "edges"
      }
     },
     "191bf9cc424145b2ed4923b0c6d391eb": {
      "model_module": "cytoscape-clj",
      "model_module_version": "^0.2.0",
      "model_name": "ElementModel",
      "state": {
       "_model_module_version": "^0.2.0",
       "_view_module_version": "^0.2.0",
       "data": {
        "source": "148",
        "target": "149"
       },
       "group": "edges"
      }
     },
     "19cbd1f44626481fadbe9e52c271b615": {
      "model_module": "cytoscape-clj",
      "model_module_version": "^0.2.0",
      "model_name": "ElementModel",
      "state": {
       "_model_module_version": "^0.2.0",
       "_view_module_version": "^0.2.0",
       "data": {
        "id": "179",
        "label": "ADP"
       },
       "position": {
        "x": 254.0649065685213,
        "y": -9.812094689418386
       }
      }
     },
     "1a01a24d4c98427c5c7b75de65b7ddab": {
      "model_module": "cytoscape-clj",
      "model_module_version": "^0.2.0",
      "model_name": "ElementModel",
      "state": {
       "_model_module_version": "^0.2.0",
       "_view_module_version": "^0.2.0",
       "data": {
        "id": "158",
        "label": "P"
       },
       "position": {
        "x": 99.22227143391842,
        "y": 11.246665203084888
       }
      }
     },
     "1a325e5dffd441d0858c9f8982b206fd": {
      "model_module": "cytoscape-clj",
      "model_module_version": "^0.2.0",
      "model_name": "ElementModel",
      "state": {
       "_model_module_version": "^0.2.0",
       "_view_module_version": "^0.2.0",
       "data": {
        "source": "2",
        "target": "1"
       },
       "group": "edges"
      }
     },
     "1b12097797c847be9b27bcf97397d5bb": {
      "model_module": "cytoscape-clj",
      "model_module_version": "^0.2.0",
      "model_name": "ElementModel",
      "state": {
       "_model_module_version": "^0.2.0",
       "_view_module_version": "^0.2.0",
       "data": {
        "id": "166",
        "label": "ADP"
       },
       "position": {
        "x": -311.0362620716048,
        "y": 62.76391123656631
       }
      }
     },
     "1d05285a0d484f676fa9949b2aac2d1f": {
      "model_module": "cytoscape-clj",
      "model_module_version": "^0.2.0",
      "model_name": "ElementModel",
      "state": {
       "_model_module_version": "^0.2.0",
       "_view_module_version": "^0.2.0",
       "data": {
        "source": "14",
        "target": "20"
       },
       "group": "edges"
      }
     },
     "1d4b000deeb142492dd41bf3523b60bb": {
      "model_module": "@jupyter-widgets/base",
      "model_module_version": "1.2.0",
      "model_name": "LayoutModel",
      "state": {}
     },
     "1e0964b1909544851aa5c9f007a4eb43": {
      "model_module": "cytoscape-clj",
      "model_module_version": "^0.2.0",
      "model_name": "ElementModel",
      "state": {
       "_model_module_version": "^0.2.0",
       "_view_module_version": "^0.2.0",
       "data": {
        "id": "6",
        "label": "sucrose"
       },
       "position": {
        "x": 154.06490456852134,
        "y": -53.755706101300554
       }
      }
     },
     "205f9c1d2b964136606a354c25937c7e": {
      "model_module": "cytoscape-clj",
      "model_module_version": "^0.2.0",
      "model_name": "ElementModel",
      "state": {
       "_model_module_version": "^0.2.0",
       "_view_module_version": "^0.2.0",
       "data": {
        "id": "102",
        "label": "P"
       },
       "position": {
        "x": -353.22535528514726,
        "y": 12.763910236566318
       }
      }
     },
     "249b309fa509453e2be2bb827a3614f3": {
      "model_module": "cytoscape-clj",
      "model_module_version": "^0.2.0",
      "model_name": "ElementModel",
      "state": {
       "_model_module_version": "^0.2.0",
       "_view_module_version": "^0.2.0",
       "data": {
        "source": "71",
        "target": "76"
       },
       "group": "edges"
      }
     },
     "27645aa3f6b3404cf3b6c2260d3b3ab1": {
      "model_module": "cytoscape-clj",
      "model_module_version": "^0.2.0",
      "model_name": "ElementModel",
      "state": {
       "_model_module_version": "^0.2.0",
       "_view_module_version": "^0.2.0",
       "data": {
        "id": "20",
        "label": "phosphoglucose isomerase"
       },
       "position": {
        "x": -250.77773556608153,
        "y": -89.71589219925058
       }
      }
     },
     "2a642054111444fd71cfb70211926abb": {
      "model_module": "cytoscape-clj",
      "model_module_version": "^0.2.0",
      "model_name": "ElementModel",
      "state": {
       "_model_module_version": "^0.2.0",
       "_view_module_version": "^0.2.0",
       "data": {
        "source": "121",
        "target": "115"
       },
       "group": "edges"
      }
     },
     "2d4e54763a19497e463a84582582b8db": {
      "model_module": "cytoscape-clj",
      "model_module_version": "^0.2.0",
      "model_name": "ElementModel",
      "state": {
       "_model_module_version": "^0.2.0",
       "_view_module_version": "^0.2.0",
       "data": {
        "id": "128",
        "label": "ADPglucose pyrophosphorylase (pAGPase)"
       },
       "position": {
        "x": 46.77465271485275,
        "y": 77.76882324248989
       }
      }
     },
     "2dce86ac82b54e8732ac9f01b1672350": {
      "model_module": "cytoscape-clj",
      "model_module_version": "^0.2.0",
      "model_name": "ElementModel",
      "state": {
       "_model_module_version": "^0.2.0",
       "_view_module_version": "^0.2.0",
       "data": {
        "source": "10",
        "target": "12"
       },
       "group": "edges"
      }
     },
     "32d1522fe7264cacd2325dbef4acc796": {
      "model_module": "cytoscape-clj",
      "model_module_version": "^0.2.0",
      "model_name": "ElementModel",
      "state": {
       "_model_module_version": "^0.2.0",
       "_view_module_version": "^0.2.0",
       "data": {
        "source": "6",
        "target": "8"
       },
       "group": "edges"
      }
     },
     "32e89a9449d94f91ff92cf6b46feb992": {
      "model_module": "cytoscape-clj",
      "model_module_version": "^0.2.0",
      "model_name": "ElementModel",
      "state": {
       "_model_module_version": "^0.2.0",
       "_view_module_version": "^0.2.0",
       "data": {
        "id": "1",
        "label": "P"
       },
       "position": {
        "x": -3.2253482851472484,
        "y": 10.720204330121987
       }
      }
     },
     "374ad5eb4af24cb58e638c4a583ce993": {
      "model_module": "cytoscape-clj",
      "model_module_version": "^0.2.0",
      "model_name": "ElementModel",
      "state": {
       "_model_module_version": "^0.2.0",
       "_view_module_version": "^0.2.0",
       "data": {
        "source": "12",
        "target": "14"
       },
       "group": "edges"
      }
     },
     "388f85252a7c44cedd30ad6471763624": {
      "model_module": "cytoscape-clj",
      "model_module_version": "^0.2.0",
      "model_name": "ElementModel",
      "state": {
       "_model_module_version": "^0.2.0",
       "_view_module_version": "^0.2.0",
       "data": {
        "id": "41",
        "label": "UDP"
       },
       "position": {
        "x": 249.2222744339184,
        "y": 41.844067567983764
       }
      }
     },
     "3919adb36e2949d7976aedf011ae917c": {
      "model_module": "cytoscape-clj",
      "model_module_version": "^0.2.0",
      "model_name": "ElementModel",
      "state": {
       "_model_module_version": "^0.2.0",
       "_view_module_version": "^0.2.0",
       "data": {
        "source": "33",
        "target": "10"
       },
       "group": "edges"
      }
     },
     "3c29195a44a049357f246a7caa02eead": {
      "model_module": "cytoscape-clj",
      "model_module_version": "^0.2.0",
      "model_name": "ElementModel",
      "state": {
       "_model_module_version": "^0.2.0",
       "_view_module_version": "^0.2.0",
       "data": {
        "source": "130",
        "target": "164"
       },
       "group": "edges"
      }
     },
     "4197a17e9c6b46ca73fc5a3294b4e800": {
      "model_module": "cytoscape-clj",
      "model_module_version": "^0.2.0",
      "model_name": "ElementModel",
      "state": {
       "_model_module_version": "^0.2.0",
       "_view_module_version": "^0.2.0",
       "data": {
        "source": "136",
        "target": "148"
       },
       "group": "edges"
      }
     },
     "46dee9ae7e5e47342898170faeb1f410": {
      "model_module": "cytoscape-clj",
      "model_module_version": "^0.2.0",
      "model_name": "ElementModel",
      "state": {
       "_model_module_version": "^0.2.0",
       "_view_module_version": "^0.2.0",
       "data": {
        "source": "33",
        "target": "36"
       },
       "group": "edges"
      }
     },
     "46e5df64d16d470fb93bc917ac5f5010": {
      "model_module": "cytoscape-clj",
      "model_module_version": "^0.2.0",
      "model_name": "ElementModel",
      "state": {
       "_model_module_version": "^0.2.0",
       "_view_module_version": "^0.2.0",
       "data": {
        "id": "136",
        "label": "PP"
       },
       "position": {
        "x": -50.77773156608157,
        "y": -39.27979666987801
       }
      }
     },
     "48b421e58e2d4f83bfd4dad6a09c0b1e": {
      "model_module": "cytoscape-clj",
      "model_module_version": "^0.2.0",
      "model_name": "ElementModel",
      "state": {
       "_model_module_version": "^0.2.0",
       "_view_module_version": "^0.2.0",
       "data": {
        "id": "47",
        "label": "ATP"
       },
       "position": {
        "x": -153.22535128514724,
        "y": 6.701853889467055
       }
      }
     },
     "494190725c77432dbabfbce2542afe81": {
      "model_module": "cytoscape-clj",
      "model_module_version": "^0.2.0",
      "model_name": "ElementModel",
      "state": {
       "_model_module_version": "^0.2.0",
       "_view_module_version": "^0.2.0",
       "data": {
        "source": "8",
        "target": "28"
       },
       "group": "edges"
      }
     },
     "4961718b2e6a47f8ebd39d97bf227635": {
      "model_module": "cytoscape-clj",
      "model_module_version": "^0.2.0",
      "model_name": "ElementModel",
      "state": {
       "_model_module_version": "^0.2.0",
       "_view_module_version": "^0.2.0",
       "data": {
        "source": "36",
        "target": "38"
       },
       "group": "edges"
      }
     },
     "4bc3a24d34f24c03bdde3ddea9dffb33": {
      "model_module": "cytoscape-clj",
      "model_module_version": "^0.2.0",
      "model_name": "ElementModel",
      "state": {
       "_model_module_version": "^0.2.0",
       "_view_module_version": "^0.2.0",
       "data": {
        "id": "164",
        "label": "starch synthase (simpl.)"
       },
       "position": {
        "x": 204.06490556852134,
        "y": -49.65352974565798
       }
      }
     },
     "4dbc0424a4c642e2624cee699b2ed78f": {
      "model_module": "cytoscape-clj",
      "model_module_version": "^0.2.0",
      "model_name": "ElementModel",
      "state": {
       "_model_module_version": "^0.2.0",
       "_view_module_version": "^0.2.0",
       "data": {
        "source": "44",
        "target": "38"
       },
       "group": "edges"
      }
     },
     "4e991b4854d8477998850a237642ffc2": {
      "model_module": "cytoscape-clj",
      "model_module_version": "^0.2.0",
      "model_name": "ElementModel",
      "state": {
       "_model_module_version": "^0.2.0",
       "_view_module_version": "^0.2.0",
       "data": {
        "source": "89",
        "target": "90"
       },
       "group": "edges"
      }
     },
     "514a29a968814bef9fdf96bf104109e0": {
      "model_module": "cytoscape-clj",
      "model_module_version": "^0.2.0",
      "model_name": "ElementModel",
      "state": {
       "_model_module_version": "^0.2.0",
       "_view_module_version": "^0.2.0",
       "data": {
        "id": "172",
        "label": "starch"
       },
       "position": {
        "x": -103.22535028514726,
        "y": 56.690942100030334
       }
      }
     },
     "5159cede397b4a70d5c92c4d41c69e7b": {
      "model_module": "cytoscape-clj",
      "model_module_version": "^0.2.0",
      "model_name": "ElementModel",
      "state": {
       "_model_module_version": "^0.2.0",
       "_view_module_version": "^0.2.0",
       "data": {
        "source": "178",
        "target": "189"
       },
       "group": "edges"
      }
     },
     "54af1a17c730437525aa96f469859286": {
      "model_module": "cytoscape-clj",
      "model_module_version": "^0.2.0",
      "model_name": "ElementModel",
      "state": {
       "_model_module_version": "^0.2.0",
       "_view_module_version": "^0.2.0",
       "data": {
        "source": "156",
        "target": "158"
       },
       "group": "edges"
      }
     },
     "54bd91c7d5114410736ec7573392c60e": {
      "model_module": "cytoscape-clj",
      "model_module_version": "^0.2.0",
      "model_name": "ElementModel",
      "state": {
       "_model_module_version": "^0.2.0",
       "_view_module_version": "^0.2.0",
       "data": {
        "id": "76",
        "label": "UDP glucose pyrophosphorylase"
       },
       "position": {
        "x": 27.421724984052883,
        "y": -122.2311807575101
       }
      }
     },
     "57eb7cff2f4d42de4f52d902fa37b3e9": {
      "model_module": "cytoscape-clj",
      "model_module_version": "^0.2.0",
      "model_name": "ElementModel",
      "state": {
       "_model_module_version": "^0.2.0",
       "_view_module_version": "^0.2.0",
       "data": {
        "source": "95",
        "target": "89"
       },
       "group": "edges"
      }
     },
     "60b74bc690a04e660476fcea03b39ada": {
      "model_module": "cytoscape-clj",
      "model_module_version": "^0.2.0",
      "model_name": "ElementModel",
      "state": {
       "_model_module_version": "^0.2.0",
       "_view_module_version": "^0.2.0",
       "data": {
        "source": "80",
        "target": "76"
       },
       "group": "edges"
      }
     },
     "62576bd3d60549561a91d7641e631bc2": {
      "model_module": "cytoscape-clj",
      "model_module_version": "^0.2.0",
      "model_name": "CytoscapeModel",
      "state": {
       "_model_module_version": "^0.2.0",
       "_view_module_version": "^0.2.0",
       "box_selection_enabled": true,
       "desktop_tap_threshold": 4,
       "elements": [
        "IPY_MODEL_32e89a9449d94f91ff92cf6b46feb992",
        "IPY_MODEL_f55ad67ffc2e454607d7408696446cfb",
        "IPY_MODEL_7c696d085bf140818898a40d9457ad36",
        "IPY_MODEL_1e0964b1909544851aa5c9f007a4eb43",
        "IPY_MODEL_6f900fb70a0c45d39a66b31e1331ad15",
        "IPY_MODEL_90fa480d16ab407ea32d01c9d2be80d3",
        "IPY_MODEL_e974fd47c40549b8860c954e45f0ea9d",
        "IPY_MODEL_856570a058784067feee78126ab128d3",
        "IPY_MODEL_27645aa3f6b3404cf3b6c2260d3b3ab1",
        "IPY_MODEL_a3523dbac559422526597462085aac8f",
        "IPY_MODEL_6c7b5a81b0e54f830f54ddfce87ca385",
        "IPY_MODEL_995d38a4539a4ed10f934e1034fdc3fd",
        "IPY_MODEL_87d3b4ce199949732b96e8313317c57b",
        "IPY_MODEL_cdd3c71250414123bff1bc5bc8f5e1a9",
        "IPY_MODEL_f263374fafd5493b5d92a0808725474f",
        "IPY_MODEL_388f85252a7c44cedd30ad6471763624",
        "IPY_MODEL_e6be3b5f19ff4710bd922e645632169c",
        "IPY_MODEL_04ecef970bd240cbd5b3db56c3b089d6",
        "IPY_MODEL_48b421e58e2d4f83bfd4dad6a09c0b1e",
        "IPY_MODEL_c39e096551634c249e2c1b65b791054e",
        "IPY_MODEL_9b54bc30ffb641a685053ffe8241f6af",
        "IPY_MODEL_72f401e5a29344ce30b8f86b57be9882",
        "IPY_MODEL_703f154c6ed44a48e7a2decf1c7f7a2e",
        "IPY_MODEL_54bd91c7d5114410736ec7573392c60e",
        "IPY_MODEL_86e8ecff9d7b464074e693394dfbeae5",
        "IPY_MODEL_bec267caca8545b4189f1a6180c2d82b",
        "IPY_MODEL_f5fc469585154d96a221475716f53a57",
        "IPY_MODEL_acc4003a2dd24c7741230c549a407c01",
        "IPY_MODEL_8b39bbf6e74443950fe2072d883e9e5b",
        "IPY_MODEL_205f9c1d2b964136606a354c25937c7e",
        "IPY_MODEL_fa56a6680da1435a43051cb23a7fb540",
        "IPY_MODEL_e2baa80ace5e44f08821e0f64f51a3e3",
        "IPY_MODEL_b8bf4559abdc45a9ebcd2255ab205f71",
        "IPY_MODEL_d36d2a169d46418bd195aa2988a59e5e",
        "IPY_MODEL_fb6f91afada549fca3af02a57397a19d",
        "IPY_MODEL_2d4e54763a19497e463a84582582b8db",
        "IPY_MODEL_68e85e10ee644198daef298a0c8e9d9e",
        "IPY_MODEL_46e5df64d16d470fb93bc917ac5f5010",
        "IPY_MODEL_e15dd1895e5c4f56d618ad900bb1e21d",
        "IPY_MODEL_a7c15b264ed8414d76f4c8c8f52d2fdb",
        "IPY_MODEL_f99b2b8b579e41aeef29ee6f4f13329d",
        "IPY_MODEL_7e517a96cadb43a95f07fb983d7e4f16",
        "IPY_MODEL_1a01a24d4c98427c5c7b75de65b7ddab",
        "IPY_MODEL_4bc3a24d34f24c03bdde3ddea9dffb33",
        "IPY_MODEL_1b12097797c847be9b27bcf97397d5bb",
        "IPY_MODEL_514a29a968814bef9fdf96bf104109e0",
        "IPY_MODEL_ec3f7d760a644a18c6dd70fd450d84c1",
        "IPY_MODEL_19cbd1f44626481fadbe9e52c271b615",
        "IPY_MODEL_ab368171d7f14217037b1492e2d1c219",
        "IPY_MODEL_6e117ff55eed41a49b28a52f900b62c9",
        "IPY_MODEL_1a325e5dffd441d0858c9f8982b206fd",
        "IPY_MODEL_e9ee5a7130ef400cac247bb4abd277a2",
        "IPY_MODEL_a619fb86cfc542d22098fadb83246e27",
        "IPY_MODEL_32d1522fe7264cacd2325dbef4acc796",
        "IPY_MODEL_7796f7e76b7a418b1b69dfd784ade913",
        "IPY_MODEL_374ad5eb4af24cb58e638c4a583ce993",
        "IPY_MODEL_1d05285a0d484f676fa9949b2aac2d1f",
        "IPY_MODEL_732169404d9048503986ab149060591a",
        "IPY_MODEL_494190725c77432dbabfbce2542afe81",
        "IPY_MODEL_e8ef9fea022542dbd3ca3b298d4fb3e2",
        "IPY_MODEL_7561e2a5a35145d13b71d5e084a5ce50",
        "IPY_MODEL_bceff95ab3a14ad746a99135163fe462",
        "IPY_MODEL_3919adb36e2949d7976aedf011ae917c",
        "IPY_MODEL_46dee9ae7e5e47342898170faeb1f410",
        "IPY_MODEL_4961718b2e6a47f8ebd39d97bf227635",
        "IPY_MODEL_c07c540b06604826585adb81220cfab8",
        "IPY_MODEL_cb542804d77e437ff3876963e60eaa65",
        "IPY_MODEL_fee208869a3c451c19e037adb2b2b337",
        "IPY_MODEL_4dbc0424a4c642e2624cee699b2ed78f",
        "IPY_MODEL_b3f1c336524044ff0b52c3df3ba5a25c",
        "IPY_MODEL_ad873c5db16f487c39e2a2abc46fc39a",
        "IPY_MODEL_cd6a8492ae9f47fbb4f065d75a658be9",
        "IPY_MODEL_690fb216f5244efc809ee956de6c54d4",
        "IPY_MODEL_249b309fa509453e2be2bb827a3614f3",
        "IPY_MODEL_17111ea09a294faea8449fe51e28ad2e",
        "IPY_MODEL_67418fbcea9c429b344a3c332cdfe955",
        "IPY_MODEL_60b74bc690a04e660476fcea03b39ada",
        "IPY_MODEL_e584246a1c0140d62a2915df9592d311",
        "IPY_MODEL_9df4de839c6042701fcd6dcfcff581bc",
        "IPY_MODEL_57eb7cff2f4d42de4f52d902fa37b3e9",
        "IPY_MODEL_4e991b4854d8477998850a237642ffc2",
        "IPY_MODEL_dcffc78def34437b95f62382ed15b2fc",
        "IPY_MODEL_a55dc081623d42edeec0c748c0e3e861",
        "IPY_MODEL_ad5bf5f1f0df4e33710ca7cb87bbbe57",
        "IPY_MODEL_c6c25fa869fb42da0f1c8edd51a8e6ff",
        "IPY_MODEL_07217460463540e5bd7dec1c0be514b5",
        "IPY_MODEL_2a642054111444fd71cfb70211926abb",
        "IPY_MODEL_8b4c3982d57d41fc11e27cf4067ca8cf",
        "IPY_MODEL_0ccdd276a82546d0c80088c7496b3493",
        "IPY_MODEL_8a41f9e7aa8c45847d6f5d87386e8fb6",
        "IPY_MODEL_861f71357d994b76cc6084579c2fdbde",
        "IPY_MODEL_4197a17e9c6b46ca73fc5a3294b4e800",
        "IPY_MODEL_191bf9cc424145b2ed4923b0c6d391eb",
        "IPY_MODEL_dc119ce1188747f8b5bf584395f57cd1",
        "IPY_MODEL_54af1a17c730437525aa96f469859286",
        "IPY_MODEL_3c29195a44a049357f246a7caa02eead",
        "IPY_MODEL_9dd68a780a714287986fef762e21aa28",
        "IPY_MODEL_77c87f51b0bc4d90b0ffc03239cdd460",
        "IPY_MODEL_b1af5885d0d54c212d7d4415e6e29b34",
        "IPY_MODEL_5159cede397b4a70d5c92c4d41c69e7b",
        "IPY_MODEL_ffdc575cc44741538fa519ea851a4584",
        "IPY_MODEL_b7bc641278e54ba47cb87999b233d127",
        "IPY_MODEL_2dce86ac82b54e8732ac9f01b1672350",
        "IPY_MODEL_b80bf18e9fb64dd47e4c02a0df6f5c9c",
        "IPY_MODEL_0d99f9d845c840036263c2790b9e179a"
       ],
       "graph_layouts": [
        "IPY_MODEL_d908eaf1b56b46a0ac18a35629c22b9c"
       ],
       "layout": "IPY_MODEL_1d4b000deeb142492dd41bf3523b60bb",
       "max_zoom": 9.999999999999999e+49,
       "min_zoom": 1.0000000000000001e-50,
       "pan": {
        "x": 599.3444033466906,
        "y": 183.28123980784477
       },
       "style": "IPY_MODEL_c87f27e3e01746f2457b942b5bec8592",
       "tooltip_source": "tooltip",
       "zoom": 1.0801169075509616
      }
     },
     "67418fbcea9c429b344a3c332cdfe955": {
      "model_module": "cytoscape-clj",
      "model_module_version": "^0.2.0",
      "model_name": "ElementModel",
      "state": {
       "_model_module_version": "^0.2.0",
       "_view_module_version": "^0.2.0",
       "data": {
        "source": "76",
        "target": "36"
       },
       "group": "edges"
      }
     },
     "68e85e10ee644198daef298a0c8e9d9e": {
      "model_module": "cytoscape-clj",
      "model_module_version": "^0.2.0",
      "model_name": "ElementModel",
      "state": {
       "_model_module_version": "^0.2.0",
       "_view_module_version": "^0.2.0",
       "data": {
        "id": "130",
        "label": "ADP - glucose"
       },
       "position": {
        "x": 149.22227243391842,
        "y": 46.24429589869944
       }
      }
     },
     "690fb216f5244efc809ee956de6c54d4": {
      "model_module": "cytoscape-clj",
      "model_module_version": "^0.2.0",
      "model_name": "ElementModel",
      "state": {
       "_model_module_version": "^0.2.0",
       "_view_module_version": "^0.2.0",
       "data": {
        "source": "30",
        "target": "47"
       },
       "group": "edges"
      }
     },
     "6c7b5a81b0e54f830f54ddfce87ca385": {
      "model_module": "cytoscape-clj",
      "model_module_version": "^0.2.0",
      "model_name": "ElementModel",
      "state": {
       "_model_module_version": "^0.2.0",
       "_view_module_version": "^0.2.0",
       "data": {
        "id": "28",
        "label": "glucose"
       },
       "position": {
        "x": -353.22535528514726,
        "y": -37.23609076343368
       }
      }
     },
     "6e117ff55eed41a49b28a52f900b62c9": {
      "model_module": "cytoscape-clj",
      "model_module_version": "^0.2.0",
      "model_name": "ElementModel",
      "state": {
       "_model_module_version": "^0.2.0",
       "_view_module_version": "^0.2.0",
       "data": {
        "id": "189",
        "label": "ATP"
       },
       "position": {
        "x": -0.777730566081568,
        "y": -40.94639495101543
       }
      }
     },
     "6f900fb70a0c45d39a66b31e1331ad15": {
      "model_module": "cytoscape-clj",
      "model_module_version": "^0.2.0",
      "model_name": "ElementModel",
      "state": {
       "_model_module_version": "^0.2.0",
       "_view_module_version": "^0.2.0",
       "data": {
        "id": "8",
        "label": "invertase"
       },
       "position": {
        "x": -156.03714286198158,
        "y": 56.701854889467064
       }
      }
     },
     "703f154c6ed44a48e7a2decf1c7f7a2e": {
      "model_module": "cytoscape-clj",
      "model_module_version": "^0.2.0",
      "model_name": "ElementModel",
      "state": {
       "_model_module_version": "^0.2.0",
       "_view_module_version": "^0.2.0",
       "data": {
        "id": "71",
        "label": "UTP"
       },
       "position": {
        "x": 199.22227343391842,
        "y": 0.346471254342017
       }
      }
     },
     "72f401e5a29344ce30b8f86b57be9882": {
      "model_module": "cytoscape-clj",
      "model_module_version": "^0.2.0",
      "model_name": "ElementModel",
      "state": {
       "_model_module_version": "^0.2.0",
       "_view_module_version": "^0.2.0",
       "data": {
        "id": "66",
        "label": "PP"
       },
       "position": {
        "x": 149.22227243391842,
        "y": -3.7557051013005527
       }
      }
     },
     "732169404d9048503986ab149060591a": {
      "model_module": "cytoscape-clj",
      "model_module_version": "^0.2.0",
      "model_name": "ElementModel",
      "state": {
       "_model_module_version": "^0.2.0",
       "_view_module_version": "^0.2.0",
       "data": {
        "source": "20",
        "target": "22"
       },
       "group": "edges"
      }
     },
     "7561e2a5a35145d13b71d5e084a5ce50": {
      "model_module": "cytoscape-clj",
      "model_module_version": "^0.2.0",
      "model_name": "ElementModel",
      "state": {
       "_model_module_version": "^0.2.0",
       "_view_module_version": "^0.2.0",
       "data": {
        "source": "30",
        "target": "22"
       },
       "group": "edges"
      }
     },
     "7796f7e76b7a418b1b69dfd784ade913": {
      "model_module": "cytoscape-clj",
      "model_module_version": "^0.2.0",
      "model_name": "ElementModel",
      "state": {
       "_model_module_version": "^0.2.0",
       "_view_module_version": "^0.2.0",
       "data": {
        "source": "8",
        "target": "10"
       },
       "group": "edges"
      }
     },
     "77c87f51b0bc4d90b0ffc03239cdd460": {
      "model_module": "cytoscape-clj",
      "model_module_version": "^0.2.0",
      "model_name": "ElementModel",
      "state": {
       "_model_module_version": "^0.2.0",
       "_view_module_version": "^0.2.0",
       "data": {
        "source": "178",
        "target": "179"
       },
       "group": "edges"
      }
     },
     "7c696d085bf140818898a40d9457ad36": {
      "model_module": "cytoscape-clj",
      "model_module_version": "^0.2.0",
      "model_name": "ElementModel",
      "state": {
       "_model_module_version": "^0.2.0",
       "_view_module_version": "^0.2.0",
       "data": {
        "id": "4",
        "label": "sucrose 6-phosphate"
       },
       "position": {
        "x": -256.03714486198163,
        "y": 36.89705858322798
       }
      }
     },
     "7e517a96cadb43a95f07fb983d7e4f16": {
      "model_module": "cytoscape-clj",
      "model_module_version": "^0.2.0",
      "model_name": "ElementModel",
      "state": {
       "_model_module_version": "^0.2.0",
       "_view_module_version": "^0.2.0",
       "data": {
        "id": "156",
        "label": "phosphate transporter"
       },
       "position": {
        "x": 354.06490856852133,
        "y": -50.66646053562352
       }
      }
     },
     "856570a058784067feee78126ab128d3": {
      "model_module": "cytoscape-clj",
      "model_module_version": "^0.2.0",
      "model_name": "ElementModel",
      "state": {
       "_model_module_version": "^0.2.0",
       "_view_module_version": "^0.2.0",
       "data": {
        "id": "14",
        "label": "fructose 6-phosphate"
       },
       "position": {
        "x": 46.77465271485275,
        "y": 27.768822242489893
       }
      }
     },
     "861f71357d994b76cc6084579c2fdbde": {
      "model_module": "cytoscape-clj",
      "model_module_version": "^0.2.0",
      "model_name": "ElementModel",
      "state": {
       "_model_module_version": "^0.2.0",
       "_view_module_version": "^0.2.0",
       "data": {
        "source": "128",
        "target": "136"
       },
       "group": "edges"
      }
     },
     "86e8ecff9d7b464074e693394dfbeae5": {
      "model_module": "cytoscape-clj",
      "model_module_version": "^0.2.0",
      "model_name": "ElementModel",
      "state": {
       "_model_module_version": "^0.2.0",
       "_view_module_version": "^0.2.0",
       "data": {
        "id": "80",
        "label": "glucose 1-phosphate"
       },
       "position": {
        "x": -100.77773256608157,
        "y": -43.31997268940636
       }
      }
     },
     "87d3b4ce199949732b96e8313317c57b": {
      "model_module": "cytoscape-clj",
      "model_module_version": "^0.2.0",
      "model_name": "ElementModel",
      "state": {
       "_model_module_version": "^0.2.0",
       "_view_module_version": "^0.2.0",
       "data": {
        "id": "33",
        "label": "sucrose synthase"
       },
       "position": {
        "x": -303.2253542851472,
        "y": -13.102942416772015
       }
      }
     },
     "8a41f9e7aa8c45847d6f5d87386e8fb6": {
      "model_module": "cytoscape-clj",
      "model_module_version": "^0.2.0",
      "model_name": "ElementModel",
      "state": {
       "_model_module_version": "^0.2.0",
       "_view_module_version": "^0.2.0",
       "data": {
        "source": "141",
        "target": "128"
       },
       "group": "edges"
      }
     },
     "8b39bbf6e74443950fe2072d883e9e5b": {
      "model_module": "cytoscape-clj",
      "model_module_version": "^0.2.0",
      "model_name": "ElementModel",
      "state": {
       "_model_module_version": "^0.2.0",
       "_view_module_version": "^0.2.0",
       "data": {
        "id": "95",
        "label": "P"
       },
       "position": {
        "x": 354.06490856852133,
        "y": -0.6664595356235239
       }
      }
     },
     "8b4c3982d57d41fc11e27cf4067ca8cf": {
      "model_module": "cytoscape-clj",
      "model_module_version": "^0.2.0",
      "model_name": "ElementModel",
      "state": {
       "_model_module_version": "^0.2.0",
       "_view_module_version": "^0.2.0",
       "data": {
        "source": "121",
        "target": "128"
       },
       "group": "edges"
      }
     },
     "90fa480d16ab407ea32d01c9d2be80d3": {
      "model_module": "cytoscape-clj",
      "model_module_version": "^0.2.0",
      "model_name": "ElementModel",
      "state": {
       "_model_module_version": "^0.2.0",
       "_view_module_version": "^0.2.0",
       "data": {
        "id": "10",
        "label": "fructose"
       },
       "position": {
        "x": 148.1295298880184,
        "y": 96.24429689869943
       }
      }
     },
     "995d38a4539a4ed10f934e1034fdc3fd": {
      "model_module": "cytoscape-clj",
      "model_module_version": "^0.2.0",
      "model_name": "ElementModel",
      "state": {
       "_model_module_version": "^0.2.0",
       "_view_module_version": "^0.2.0",
       "data": {
        "id": "30",
        "label": "hexokinase"
       },
       "position": {
        "x": 49.222270433918425,
        "y": -22.231178757510104
       }
      }
     },
     "9b54bc30ffb641a685053ffe8241f6af": {
      "model_module": "cytoscape-clj",
      "model_module_version": "^0.2.0",
      "model_name": "ElementModel",
      "state": {
       "_model_module_version": "^0.2.0",
       "_view_module_version": "^0.2.0",
       "data": {
        "id": "57",
        "label": "ADP"
       },
       "position": {
        "x": 104.06490356852134,
        "y": -53.965732665022124
       }
      }
     },
     "9dd68a780a714287986fef762e21aa28": {
      "model_module": "cytoscape-clj",
      "model_module_version": "^0.2.0",
      "model_name": "ElementModel",
      "state": {
       "_model_module_version": "^0.2.0",
       "_view_module_version": "^0.2.0",
       "data": {
        "source": "164",
        "target": "166"
       },
       "group": "edges"
      }
     },
     "9df4de839c6042701fcd6dcfcff581bc": {
      "model_module": "cytoscape-clj",
      "model_module_version": "^0.2.0",
      "model_name": "ElementModel",
      "state": {
       "_model_module_version": "^0.2.0",
       "_view_module_version": "^0.2.0",
       "data": {
        "source": "86",
        "target": "80"
       },
       "group": "edges"
      }
     },
     "a3523dbac559422526597462085aac8f": {
      "model_module": "cytoscape-clj",
      "model_module_version": "^0.2.0",
      "model_name": "ElementModel",
      "state": {
       "_model_module_version": "^0.2.0",
       "_view_module_version": "^0.2.0",
       "data": {
        "id": "22",
        "label": "glucose 6-phosphate"
       },
       "position": {
        "x": -253.22535328514724,
        "y": -39.71589119925059
       }
      }
     },
     "a55dc081623d42edeec0c748c0e3e861": {
      "model_module": "cytoscape-clj",
      "model_module_version": "^0.2.0",
      "model_name": "ElementModel",
      "state": {
       "_model_module_version": "^0.2.0",
       "_view_module_version": "^0.2.0",
       "data": {
        "source": "80",
        "target": "89"
       },
       "group": "edges"
      }
     },
     "a619fb86cfc542d22098fadb83246e27": {
      "model_module": "cytoscape-clj",
      "model_module_version": "^0.2.0",
      "model_name": "ElementModel",
      "state": {
       "_model_module_version": "^0.2.0",
       "_view_module_version": "^0.2.0",
       "data": {
        "source": "2",
        "target": "6"
       },
       "group": "edges"
      }
     },
     "a7c15b264ed8414d76f4c8c8f52d2fdb": {
      "model_module": "cytoscape-clj",
      "model_module_version": "^0.2.0",
      "model_name": "ElementModel",
      "state": {
       "_model_module_version": "^0.2.0",
       "_view_module_version": "^0.2.0",
       "data": {
        "id": "148",
        "label": "inorganic diphosphatase"
       },
       "position": {
        "x": -53.22534928514724,
        "y": 14.1183023140161
       }
      }
     },
     "ab368171d7f14217037b1492e2d1c219": {
      "model_module": "cytoscape-clj",
      "model_module_version": "^0.2.0",
      "model_name": "ElementModel",
      "state": {
       "_model_module_version": "^0.2.0",
       "_view_module_version": "^0.2.0",
       "data": {
        "id": "184",
        "label": "ADP"
       },
       "position": {
        "x": -203.22535228514724,
        "y": -8.698742294761365
       }
      }
     },
     "acc4003a2dd24c7741230c549a407c01": {
      "model_module": "cytoscape-clj",
      "model_module_version": "^0.2.0",
      "model_name": "ElementModel",
      "state": {
       "_model_module_version": "^0.2.0",
       "_view_module_version": "^0.2.0",
       "data": {
        "id": "90",
        "label": "P"
       },
       "position": {
        "x": 299.2222754339184,
        "y": 40.18790631058161
       }
      }
     },
     "ad5bf5f1f0df4e33710ca7cb87bbbe57": {
      "model_module": "cytoscape-clj",
      "model_module_version": "^0.2.0",
      "model_name": "ElementModel",
      "state": {
       "_model_module_version": "^0.2.0",
       "_view_module_version": "^0.2.0",
       "data": {
        "source": "104",
        "target": "109"
       },
       "group": "edges"
      }
     },
     "ad873c5db16f487c39e2a2abc46fc39a": {
      "model_module": "cytoscape-clj",
      "model_module_version": "^0.2.0",
      "model_name": "ElementModel",
      "state": {
       "_model_module_version": "^0.2.0",
       "_view_module_version": "^0.2.0",
       "data": {
        "source": "12",
        "target": "57"
       },
       "group": "edges"
      }
     },
     "b1af5885d0d54c212d7d4415e6e29b34": {
      "model_module": "cytoscape-clj",
      "model_module_version": "^0.2.0",
      "model_name": "ElementModel",
      "state": {
       "_model_module_version": "^0.2.0",
       "_view_module_version": "^0.2.0",
       "data": {
        "source": "184",
        "target": "178"
       },
       "group": "edges"
      }
     },
     "b3f1c336524044ff0b52c3df3ba5a25c": {
      "model_module": "cytoscape-clj",
      "model_module_version": "^0.2.0",
      "model_name": "ElementModel",
      "state": {
       "_model_module_version": "^0.2.0",
       "_view_module_version": "^0.2.0",
       "data": {
        "source": "52",
        "target": "12"
       },
       "group": "edges"
      }
     },
     "b7bc641278e54ba47cb87999b233d127": {
      "model_module": "cytoscape-clj",
      "model_module_version": "^0.2.0",
      "model_name": "ElementModel",
      "state": {
       "_model_module_version": "^0.2.0",
       "_view_module_version": "^0.2.0",
       "data": {
        "source": "104",
        "target": "103"
       },
       "group": "edges"
      }
     },
     "b80bf18e9fb64dd47e4c02a0df6f5c9c": {
      "model_module": "cytoscape-clj",
      "model_module_version": "^0.2.0",
      "model_name": "ElementModel",
      "state": {
       "_model_module_version": "^0.2.0",
       "_view_module_version": "^0.2.0",
       "data": {
        "source": "164",
        "target": "172"
       },
       "group": "edges"
      }
     },
     "b8bf4559abdc45a9ebcd2255ab205f71": {
      "model_module": "cytoscape-clj",
      "model_module_version": "^0.2.0",
      "model_name": "ElementModel",
      "state": {
       "_model_module_version": "^0.2.0",
       "_view_module_version": "^0.2.0",
       "data": {
        "id": "109",
        "label": "glucose 6-phosphate"
       },
       "position": {
        "x": 154.06490456852134,
        "y": -103.75570710130056
       }
      }
     },
     "bceff95ab3a14ad746a99135163fe462": {
      "model_module": "cytoscape-clj",
      "model_module_version": "^0.2.0",
      "model_name": "ElementModel",
      "state": {
       "_model_module_version": "^0.2.0",
       "_view_module_version": "^0.2.0",
       "data": {
        "source": "6",
        "target": "33"
       },
       "group": "edges"
      }
     },
     "bec267caca8545b4189f1a6180c2d82b": {
      "model_module": "cytoscape-clj",
      "model_module_version": "^0.2.0",
      "model_name": "ElementModel",
      "state": {
       "_model_module_version": "^0.2.0",
       "_view_module_version": "^0.2.0",
       "data": {
        "id": "86",
        "label": "phospho- glucomutase (cPGM)"
       },
       "position": {
        "x": 349.22227643391835,
        "y": 49.333541464376474
       }
      }
     },
     "c07c540b06604826585adb81220cfab8": {
      "model_module": "cytoscape-clj",
      "model_module_version": "^0.2.0",
      "model_name": "ElementModel",
      "state": {
       "_model_module_version": "^0.2.0",
       "_view_module_version": "^0.2.0",
       "data": {
        "source": "38",
        "target": "4"
       },
       "group": "edges"
      }
     },
     "c39e096551634c249e2c1b65b791054e": {
      "model_module": "cytoscape-clj",
      "model_module_version": "^0.2.0",
      "model_name": "ElementModel",
      "state": {
       "_model_module_version": "^0.2.0",
       "_view_module_version": "^0.2.0",
       "data": {
        "id": "52",
        "label": "ATP"
       },
       "position": {
        "x": 199.22227343391842,
        "y": 50.34647225434202
       }
      }
     },
     "c6c25fa869fb42da0f1c8edd51a8e6ff": {
      "model_module": "cytoscape-clj",
      "model_module_version": "^0.2.0",
      "model_name": "ElementModel",
      "state": {
       "_model_module_version": "^0.2.0",
       "_view_module_version": "^0.2.0",
       "data": {
        "source": "115",
        "target": "109"
       },
       "group": "edges"
      }
     },
     "c87f27e3e01746f2457b942b5bec8592": {
      "model_module": "cytoscape-clj",
      "model_module_version": "^0.2.0",
      "model_name": "CytoscapeStyleModel",
      "state": {
       "_model_module_version": "^0.2.0"
      }
     },
     "cb542804d77e437ff3876963e60eaa65": {
      "model_module": "cytoscape-clj",
      "model_module_version": "^0.2.0",
      "model_name": "ElementModel",
      "state": {
       "_model_module_version": "^0.2.0",
       "_view_module_version": "^0.2.0",
       "data": {
        "source": "38",
        "target": "41"
       },
       "group": "edges"
      }
     },
     "cd6a8492ae9f47fbb4f065d75a658be9": {
      "model_module": "cytoscape-clj",
      "model_module_version": "^0.2.0",
      "model_name": "ElementModel",
      "state": {
       "_model_module_version": "^0.2.0",
       "_view_module_version": "^0.2.0",
       "data": {
        "source": "46",
        "target": "30"
       },
       "group": "edges"
      }
     },
     "cdd3c71250414123bff1bc5bc8f5e1a9": {
      "model_module": "cytoscape-clj",
      "model_module_version": "^0.2.0",
      "model_name": "ElementModel",
      "state": {
       "_model_module_version": "^0.2.0",
       "_view_module_version": "^0.2.0",
       "data": {
        "id": "36",
        "label": "UDP - glucose"
       },
       "position": {
        "x": -150.77773356608157,
        "y": -43.30905989996965
       }
      }
     },
     "d36d2a169d46418bd195aa2988a59e5e": {
      "model_module": "cytoscape-clj",
      "model_module_version": "^0.2.0",
      "model_name": "ElementModel",
      "state": {
       "_model_module_version": "^0.2.0",
       "_view_module_version": "^0.2.0",
       "data": {
        "id": "115",
        "label": "phospho- glucomutase (cPGM)"
       },
       "position": {
        "x": -210.2038106119816,
        "y": 91.30125970523864
       }
      }
     },
     "d908eaf1b56b46a0ac18a35629c22b9c": {
      "model_module": "cytoscape-clj",
      "model_module_version": "^0.2.0",
      "model_name": "ColaLayoutModel",
      "state": {
       "_model_module_version": "^0.2.0",
       "_view_module_version": "^0.2.0",
       "handle_disconnected": false,
       "unconst_iter": null,
       "ungrabify_while_simulating": false
      }
     },
     "dc119ce1188747f8b5bf584395f57cd1": {
      "model_module": "cytoscape-clj",
      "model_module_version": "^0.2.0",
      "model_name": "ElementModel",
      "state": {
       "_model_module_version": "^0.2.0",
       "_view_module_version": "^0.2.0",
       "data": {
        "source": "149",
        "target": "156"
       },
       "group": "edges"
      }
     },
     "dcffc78def34437b95f62382ed15b2fc": {
      "model_module": "cytoscape-clj",
      "model_module_version": "^0.2.0",
      "model_name": "ElementModel",
      "state": {
       "_model_module_version": "^0.2.0",
       "_view_module_version": "^0.2.0",
       "data": {
        "source": "102",
        "target": "104"
       },
       "group": "edges"
      }
     },
     "e15dd1895e5c4f56d618ad900bb1e21d": {
      "model_module": "cytoscape-clj",
      "model_module_version": "^0.2.0",
      "model_name": "ElementModel",
      "state": {
       "_model_module_version": "^0.2.0",
       "_view_module_version": "^0.2.0",
       "data": {
        "id": "141",
        "label": "ATP"
       },
       "position": {
        "x": 54.06490256852134,
        "y": -72.2311797575101
       }
      }
     },
     "e2baa80ace5e44f08821e0f64f51a3e3": {
      "model_module": "cytoscape-clj",
      "model_module_version": "^0.2.0",
      "model_name": "ElementModel",
      "state": {
       "_model_module_version": "^0.2.0",
       "_view_module_version": "^0.2.0",
       "data": {
        "id": "104",
        "label": "G6P transporter"
       },
       "position": {
        "x": -150.77773356608157,
        "y": -93.30906089996965
       }
      }
     },
     "e584246a1c0140d62a2915df9592d311": {
      "model_module": "cytoscape-clj",
      "model_module_version": "^0.2.0",
      "model_name": "ElementModel",
      "state": {
       "_model_module_version": "^0.2.0",
       "_view_module_version": "^0.2.0",
       "data": {
        "source": "22",
        "target": "86"
       },
       "group": "edges"
      }
     },
     "e6be3b5f19ff4710bd922e645632169c": {
      "model_module": "cytoscape-clj",
      "model_module_version": "^0.2.0",
      "model_name": "ElementModel",
      "state": {
       "_model_module_version": "^0.2.0",
       "_view_module_version": "^0.2.0",
       "data": {
        "id": "44",
        "label": "fructose 6-phosphate"
       },
       "position": {
        "x": -206.03714386198155,
        "y": 41.30125870523863
       }
      }
     },
     "e8ef9fea022542dbd3ca3b298d4fb3e2": {
      "model_module": "cytoscape-clj",
      "model_module_version": "^0.2.0",
      "model_name": "ElementModel",
      "state": {
       "_model_module_version": "^0.2.0",
       "_view_module_version": "^0.2.0",
       "data": {
        "source": "28",
        "target": "30"
       },
       "group": "edges"
      }
     },
     "e974fd47c40549b8860c954e45f0ea9d": {
      "model_module": "cytoscape-clj",
      "model_module_version": "^0.2.0",
      "model_name": "ElementModel",
      "state": {
       "_model_module_version": "^0.2.0",
       "_view_module_version": "^0.2.0",
       "data": {
        "id": "12",
        "label": "fructokinase"
       },
       "position": {
        "x": -160.20380961198157,
        "y": 110.55045178536368
       }
      }
     },
     "e9ee5a7130ef400cac247bb4abd277a2": {
      "model_module": "cytoscape-clj",
      "model_module_version": "^0.2.0",
      "model_name": "ElementModel",
      "state": {
       "_model_module_version": "^0.2.0",
       "_view_module_version": "^0.2.0",
       "data": {
        "source": "4",
        "target": "2"
       },
       "group": "edges"
      }
     },
     "ec3f7d760a644a18c6dd70fd450d84c1": {
      "model_module": "cytoscape-clj",
      "model_module_version": "^0.2.0",
      "model_name": "ElementModel",
      "state": {
       "_model_module_version": "^0.2.0",
       "_view_module_version": "^0.2.0",
       "data": {
        "id": "178",
        "label": "ATP/ADP transporter"
       },
       "position": {
        "x": -3.2253482851472484,
        "y": 60.720205330121985
       }
      }
     },
     "f263374fafd5493b5d92a0808725474f": {
      "model_module": "cytoscape-clj",
      "model_module_version": "^0.2.0",
      "model_name": "ElementModel",
      "state": {
       "_model_module_version": "^0.2.0",
       "_view_module_version": "^0.2.0",
       "data": {
        "id": "38",
        "label": "sucrose phosphate synthase"
       },
       "position": {
        "x": 96.77465371485273,
        "y": 61.24666620308488
       }
      }
     },
     "f55ad67ffc2e454607d7408696446cfb": {
      "model_module": "cytoscape-clj",
      "model_module_version": "^0.2.0",
      "model_name": "ElementModel",
      "state": {
       "_model_module_version": "^0.2.0",
       "_view_module_version": "^0.2.0",
       "data": {
        "id": "2",
        "tooltip": "sucrose phosphate phosphatase"
       },
       "position": {
        "x": -103.22535028514726,
        "y": 6.690941100030344
       }
      }
     },
     "f5fc469585154d96a221475716f53a57": {
      "model_module": "cytoscape-clj",
      "model_module_version": "^0.2.0",
      "model_name": "ElementModel",
      "state": {
       "_model_module_version": "^0.2.0",
       "_view_module_version": "^0.2.0",
       "data": {
        "id": "89",
        "label": "G1P transporter"
       },
       "position": {
        "x": 98.1295288880184,
        "y": 112.41953221821468
       }
      }
     },
     "f99b2b8b579e41aeef29ee6f4f13329d": {
      "model_module": "cytoscape-clj",
      "model_module_version": "^0.2.0",
      "model_name": "ElementModel",
      "state": {
       "_model_module_version": "^0.2.0",
       "_view_module_version": "^0.2.0",
       "data": {
        "id": "149",
        "label": "P"
       },
       "position": {
        "x": 254.0649065685213,
        "y": -59.81209568941838
       }
      }
     },
     "fa56a6680da1435a43051cb23a7fb540": {
      "model_module": "cytoscape-clj",
      "model_module_version": "^0.2.0",
      "model_name": "ElementModel",
      "state": {
       "_model_module_version": "^0.2.0",
       "_view_module_version": "^0.2.0",
       "data": {
        "id": "103",
        "label": "P"
       },
       "position": {
        "x": 304.0649075685214,
        "y": -13.124417204222707
       }
      }
     },
     "fb6f91afada549fca3af02a57397a19d": {
      "model_module": "cytoscape-clj",
      "model_module_version": "^0.2.0",
      "model_name": "ElementModel",
      "state": {
       "_model_module_version": "^0.2.0",
       "_view_module_version": "^0.2.0",
       "data": {
        "id": "121",
        "label": "glucose 1-phosphate"
       },
       "position": {
        "x": -303.2253542851472,
        "y": -63.102943416772014
       }
      }
     },
     "fee208869a3c451c19e037adb2b2b337": {
      "model_module": "cytoscape-clj",
      "model_module_version": "^0.2.0",
      "model_name": "ElementModel",
      "state": {
       "_model_module_version": "^0.2.0",
       "_view_module_version": "^0.2.0",
       "data": {
        "source": "41",
        "target": "33"
       },
       "group": "edges"
      }
     },
     "ffdc575cc44741538fa519ea851a4584": {
      "model_module": "cytoscape-clj",
      "model_module_version": "^0.2.0",
      "model_name": "ElementModel",
      "state": {
       "_model_module_version": "^0.2.0",
       "_view_module_version": "^0.2.0",
       "data": {
        "source": "141",
        "target": "178"
       },
       "group": "edges"
      }
     }
    },
    "version_major": 2,
    "version_minor": 0
   }
  }
 },
 "nbformat": 4,
 "nbformat_minor": 4
}
