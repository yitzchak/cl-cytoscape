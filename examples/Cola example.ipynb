{
 "cells": [
  {
   "cell_type": "code",
   "execution_count": 2,
   "metadata": {},
   "outputs": [
    {
     "name": "stdout",
     "output_type": "stream",
     "text": [
      "To load \"cytoscape-clj\":\n",
      "  Load 1 ASDF system:\n",
      "    cytoscape-clj\n",
      "\n",
      "; Loading \"cytoscape-clj\"\n",
      "[package cytoscape]...."
     ]
    },
    {
     "data": {
      "text/plain": [
       "(:CYTOSCAPE-CLJ)"
      ]
     },
     "execution_count": 2,
     "metadata": {},
     "output_type": "execute_result"
    },
    {
     "name": "stdout",
     "output_type": "stream",
     "text": [
      "\n"
     ]
    }
   ],
   "source": [
    "(ql:quickload :cytoscape-clj)"
   ]
  },
  {
   "cell_type": "code",
   "execution_count": 3,
   "metadata": {},
   "outputs": [
    {
     "data": {
      "text/plain": [
       "C"
      ]
     },
     "execution_count": 3,
     "metadata": {},
     "output_type": "execute_result"
    },
    {
     "data": {
      "text/plain": [
       "NIL"
      ]
     },
     "execution_count": 3,
     "metadata": {},
     "output_type": "execute_result"
    }
   ],
   "source": [
    "(defparameter c (make-instance 'cytoscape::cytoscape-widget :graph-layouts (list (make-instance 'cytoscape:cola-layout))))\n",
    "\n",
    "(cytoscape:add-graph c (jsown:parse (alexandria:read-file-into-string \"colaData.json\")))"
   ]
  },
  {
   "cell_type": "code",
   "execution_count": 4,
   "metadata": {},
   "outputs": [
    {
     "data": {
      "application/vnd.jupyter.widget-view+json": {
       "model_id": "9b53128f5f334eb3d5ba312087c7ec3c",
       "version_major": 2,
       "version_minor": 0
      },
      "text/plain": [
       "A Jupyter Widget"
      ]
     },
     "metadata": {},
     "output_type": "display_data"
    }
   ],
   "source": [
    "c"
   ]
  },
  {
   "cell_type": "code",
   "execution_count": null,
   "metadata": {},
   "outputs": [],
   "source": []
  }
 ],
 "metadata": {
  "kernelspec": {
   "display_name": "Common Lisp (clasp)",
   "language": "common-lisp",
   "name": "common-lisp_clasp"
  },
  "language_info": {
   "codemirror_mode": "text/x-common-lisp",
   "file_extension": ".lisp",
   "mimetype": "text/x-common-lisp",
   "name": "common-lisp",
   "pygments_lexer": "common-lisp",
   "version": "cclasp-boehm-0.4.2-2722-gc7cf406d8-cst"
  },
  "widgets": {
   "application/vnd.jupyter.widget-state+json": {
    "state": {
     "06f830092cb444f030b1d461b5a84f47": {
      "model_module": "cytoscape-clj",
      "model_module_version": "^0.2.0",
      "model_name": "ElementModel",
      "state": {
       "_model_module_version": "^0.2.0",
       "_view_module_version": "^0.2.0",
       "data": {
        "source": "8",
        "target": "28"
       },
       "group": "edges"
      }
     },
     "079d2c51c1ec4f0bb93ef44d5e051bc9": {
      "model_module": "cytoscape-clj",
      "model_module_version": "^0.2.0",
      "model_name": "ElementModel",
      "state": {
       "_model_module_version": "^0.2.0",
       "_view_module_version": "^0.2.0",
       "data": {
        "source": "12",
        "target": "57"
       },
       "group": "edges"
      }
     },
     "07fb9d09cd66479b1ac51b7542bbbf0e": {
      "model_module": "cytoscape-clj",
      "model_module_version": "^0.2.0",
      "model_name": "ElementModel",
      "state": {
       "_model_module_version": "^0.2.0",
       "_view_module_version": "^0.2.0",
       "data": {
        "id": "52",
        "label": "ATP"
       },
       "position": {
        "x": 199.22227343391842,
        "y": 50.34647225434202
       }
      }
     },
     "0b25499eb23c45308e1c902c95a5f3de": {
      "model_module": "cytoscape-clj",
      "model_module_version": "^0.2.0",
      "model_name": "ElementModel",
      "state": {
       "_model_module_version": "^0.2.0",
       "_view_module_version": "^0.2.0",
       "data": {
        "source": "76",
        "target": "36"
       },
       "group": "edges"
      }
     },
     "0b9581add0b04720a17e1bbe52ad0f99": {
      "model_module": "cytoscape-clj",
      "model_module_version": "^0.2.0",
      "model_name": "ColaLayoutModel",
      "state": {
       "_model_module_version": "^0.2.0",
       "_view_module_version": "^0.2.0",
       "handle_disconnected": false,
       "unconst_iter": null,
       "ungrabify_while_simulating": false
      }
     },
     "0ca1dcdce06248e508a0b8aae63e2d49": {
      "model_module": "cytoscape-clj",
      "model_module_version": "^0.2.0",
      "model_name": "ElementModel",
      "state": {
       "_model_module_version": "^0.2.0",
       "_view_module_version": "^0.2.0",
       "data": {
        "id": "33",
        "label": "sucrose synthase"
       },
       "position": {
        "x": -303.2253542851472,
        "y": -13.102942416772015
       }
      }
     },
     "0fc8b7dcf089409958181ce60a6c254e": {
      "model_module": "cytoscape-clj",
      "model_module_version": "^0.2.0",
      "model_name": "ElementModel",
      "state": {
       "_model_module_version": "^0.2.0",
       "_view_module_version": "^0.2.0",
       "data": {
        "source": "6",
        "target": "8"
       },
       "group": "edges"
      }
     },
     "1037bb4248434f55eda9f7e7a81003cc": {
      "model_module": "cytoscape-clj",
      "model_module_version": "^0.2.0",
      "model_name": "ElementModel",
      "state": {
       "_model_module_version": "^0.2.0",
       "_view_module_version": "^0.2.0",
       "data": {
        "id": "90",
        "label": "P"
       },
       "position": {
        "x": 299.2222754339184,
        "y": 40.18790631058161
       }
      }
     },
     "11f554b1e24944bbec9c0b8451c08997": {
      "model_module": "cytoscape-clj",
      "model_module_version": "^0.2.0",
      "model_name": "ElementModel",
      "state": {
       "_model_module_version": "^0.2.0",
       "_view_module_version": "^0.2.0",
       "data": {
        "id": "184",
        "label": "ADP"
       },
       "position": {
        "x": -203.22535228514724,
        "y": -8.698742294761365
       }
      }
     },
     "13c9e980cf684f057cf12ab52d3efff3": {
      "model_module": "cytoscape-clj",
      "model_module_version": "^0.2.0",
      "model_name": "ElementModel",
      "state": {
       "_model_module_version": "^0.2.0",
       "_view_module_version": "^0.2.0",
       "data": {
        "source": "22",
        "target": "104"
       },
       "group": "edges"
      }
     },
     "1556b771757140cce8c9f759a0ad506e": {
      "model_module": "cytoscape-clj",
      "model_module_version": "^0.2.0",
      "model_name": "ElementModel",
      "state": {
       "_model_module_version": "^0.2.0",
       "_view_module_version": "^0.2.0",
       "data": {
        "source": "44",
        "target": "38"
       },
       "group": "edges"
      }
     },
     "1930392e83ef4f382b1edd37c5ea1c16": {
      "model_module": "cytoscape-clj",
      "model_module_version": "^0.2.0",
      "model_name": "ElementModel",
      "state": {
       "_model_module_version": "^0.2.0",
       "_view_module_version": "^0.2.0",
       "data": {
        "source": "128",
        "target": "136"
       },
       "group": "edges"
      }
     },
     "1f4a91f7460c47babb9196489b462ec1": {
      "model_module": "cytoscape-clj",
      "model_module_version": "^0.2.0",
      "model_name": "ElementModel",
      "state": {
       "_model_module_version": "^0.2.0",
       "_view_module_version": "^0.2.0",
       "data": {
        "source": "36",
        "target": "38"
       },
       "group": "edges"
      }
     },
     "20be85f443104a3205ece9c297209565": {
      "model_module": "cytoscape-clj",
      "model_module_version": "^0.2.0",
      "model_name": "ElementModel",
      "state": {
       "_model_module_version": "^0.2.0",
       "_view_module_version": "^0.2.0",
       "data": {
        "source": "80",
        "target": "76"
       },
       "group": "edges"
      }
     },
     "20cc562d9edf44e78bd930d9e02b1faf": {
      "model_module": "cytoscape-clj",
      "model_module_version": "^0.2.0",
      "model_name": "ElementModel",
      "state": {
       "_model_module_version": "^0.2.0",
       "_view_module_version": "^0.2.0",
       "data": {
        "id": "76",
        "label": "UDP glucose pyrophosphorylase"
       },
       "position": {
        "x": 27.421724984052883,
        "y": -122.2311807575101
       }
      }
     },
     "2344346d442645324ed52f1ced4967c6": {
      "model_module": "cytoscape-clj",
      "model_module_version": "^0.2.0",
      "model_name": "ElementModel",
      "state": {
       "_model_module_version": "^0.2.0",
       "_view_module_version": "^0.2.0",
       "data": {
        "id": "121",
        "label": "glucose 1-phosphate"
       },
       "position": {
        "x": -303.2253542851472,
        "y": -63.102943416772014
       }
      }
     },
     "248f9854a11943cc266d57884a76d987": {
      "model_module": "cytoscape-clj",
      "model_module_version": "^0.2.0",
      "model_name": "ElementModel",
      "state": {
       "_model_module_version": "^0.2.0",
       "_view_module_version": "^0.2.0",
       "data": {
        "id": "41",
        "label": "UDP"
       },
       "position": {
        "x": 249.2222744339184,
        "y": 41.844067567983764
       }
      }
     },
     "26259e68905a444e9094e67ef040a318": {
      "model_module": "cytoscape-clj",
      "model_module_version": "^0.2.0",
      "model_name": "ElementModel",
      "state": {
       "_model_module_version": "^0.2.0",
       "_view_module_version": "^0.2.0",
       "data": {
        "id": "2",
        "tooltip": "sucrose phosphate phosphatase"
       },
       "position": {
        "x": -103.22535028514726,
        "y": 6.690941100030344
       }
      }
     },
     "29ffbaf0887a4c30749201f8897a43af": {
      "model_module": "cytoscape-clj",
      "model_module_version": "^0.2.0",
      "model_name": "ElementModel",
      "state": {
       "_model_module_version": "^0.2.0",
       "_view_module_version": "^0.2.0",
       "data": {
        "source": "8",
        "target": "10"
       },
       "group": "edges"
      }
     },
     "2a847696f174491c6f73c0e0fad8d722": {
      "model_module": "cytoscape-clj",
      "model_module_version": "^0.2.0",
      "model_name": "ElementModel",
      "state": {
       "_model_module_version": "^0.2.0",
       "_view_module_version": "^0.2.0",
       "data": {
        "source": "121",
        "target": "128"
       },
       "group": "edges"
      }
     },
     "2d226d36f6d3466cf918dd9d21ec5938": {
      "model_module": "cytoscape-clj",
      "model_module_version": "^0.2.0",
      "model_name": "ElementModel",
      "state": {
       "_model_module_version": "^0.2.0",
       "_view_module_version": "^0.2.0",
       "data": {
        "source": "4",
        "target": "2"
       },
       "group": "edges"
      }
     },
     "2e9a9bc4e3134a486650b7f5e8722ac8": {
      "model_module": "cytoscape-clj",
      "model_module_version": "^0.2.0",
      "model_name": "ElementModel",
      "state": {
       "_model_module_version": "^0.2.0",
       "_view_module_version": "^0.2.0",
       "data": {
        "source": "2",
        "target": "6"
       },
       "group": "edges"
      }
     },
     "2f9bf87ca9cb44572cc7f2c4b63cb1f7": {
      "model_module": "cytoscape-clj",
      "model_module_version": "^0.2.0",
      "model_name": "ElementModel",
      "state": {
       "_model_module_version": "^0.2.0",
       "_view_module_version": "^0.2.0",
       "data": {
        "source": "46",
        "target": "30"
       },
       "group": "edges"
      }
     },
     "30c88b1c7bcc45ac9bd16b73170eced0": {
      "model_module": "cytoscape-clj",
      "model_module_version": "^0.2.0",
      "model_name": "ElementModel",
      "state": {
       "_model_module_version": "^0.2.0",
       "_view_module_version": "^0.2.0",
       "data": {
        "id": "104",
        "label": "G6P transporter"
       },
       "position": {
        "x": -150.77773356608157,
        "y": -93.30906089996965
       }
      }
     },
     "3124ff7682474407fcb27a0ded6c90fe": {
      "model_module": "cytoscape-clj",
      "model_module_version": "^0.2.0",
      "model_name": "ElementModel",
      "state": {
       "_model_module_version": "^0.2.0",
       "_view_module_version": "^0.2.0",
       "data": {
        "source": "121",
        "target": "115"
       },
       "group": "edges"
      }
     },
     "3409939fa591428491ed07f78fd09eaa": {
      "model_module": "cytoscape-clj",
      "model_module_version": "^0.2.0",
      "model_name": "ElementModel",
      "state": {
       "_model_module_version": "^0.2.0",
       "_view_module_version": "^0.2.0",
       "data": {
        "id": "22",
        "label": "glucose 6-phosphate"
       },
       "position": {
        "x": -253.22535328514724,
        "y": -39.71589119925059
       }
      }
     },
     "36a13bd969474f55e26091cbcaf7bbf0": {
      "model_module": "cytoscape-clj",
      "model_module_version": "^0.2.0",
      "model_name": "ElementModel",
      "state": {
       "_model_module_version": "^0.2.0",
       "_view_module_version": "^0.2.0",
       "data": {
        "id": "36",
        "label": "UDP - glucose"
       },
       "position": {
        "x": -150.77773356608157,
        "y": -43.30905989996965
       }
      }
     },
     "39d896171a8646a52049ec1cf9a0c7b1": {
      "model_module": "cytoscape-clj",
      "model_module_version": "^0.2.0",
      "model_name": "CytoscapeStyleModel",
      "state": {
       "_model_module_version": "^0.2.0"
      }
     },
     "3a6b512b9b0545516681f2cb8495069f": {
      "model_module": "cytoscape-clj",
      "model_module_version": "^0.2.0",
      "model_name": "ElementModel",
      "state": {
       "_model_module_version": "^0.2.0",
       "_view_module_version": "^0.2.0",
       "data": {
        "source": "38",
        "target": "41"
       },
       "group": "edges"
      }
     },
     "3be02c3ee9814b6b12ac8057bcf31286": {
      "model_module": "cytoscape-clj",
      "model_module_version": "^0.2.0",
      "model_name": "ElementModel",
      "state": {
       "_model_module_version": "^0.2.0",
       "_view_module_version": "^0.2.0",
       "data": {
        "id": "38",
        "label": "sucrose phosphate synthase"
       },
       "position": {
        "x": 96.77465371485273,
        "y": 61.24666620308488
       }
      }
     },
     "3d871d76019c4cd4331e09aeb35b8204": {
      "model_module": "cytoscape-clj",
      "model_module_version": "^0.2.0",
      "model_name": "ElementModel",
      "state": {
       "_model_module_version": "^0.2.0",
       "_view_module_version": "^0.2.0",
       "data": {
        "id": "57",
        "label": "ADP"
       },
       "position": {
        "x": 104.06490356852134,
        "y": -53.965732665022124
       }
      }
     },
     "3ed93d6410b44a1ea5a668dc2de308c9": {
      "model_module": "cytoscape-clj",
      "model_module_version": "^0.2.0",
      "model_name": "ElementModel",
      "state": {
       "_model_module_version": "^0.2.0",
       "_view_module_version": "^0.2.0",
       "data": {
        "source": "86",
        "target": "80"
       },
       "group": "edges"
      }
     },
     "4589408091ab4975077e47abe5f9a674": {
      "model_module": "cytoscape-clj",
      "model_module_version": "^0.2.0",
      "model_name": "ElementModel",
      "state": {
       "_model_module_version": "^0.2.0",
       "_view_module_version": "^0.2.0",
       "data": {
        "source": "121",
        "target": "89"
       },
       "group": "edges"
      }
     },
     "46ba6f2713274be4229ae269b7f4182a": {
      "model_module": "cytoscape-clj",
      "model_module_version": "^0.2.0",
      "model_name": "ElementModel",
      "state": {
       "_model_module_version": "^0.2.0",
       "_view_module_version": "^0.2.0",
       "data": {
        "id": "46",
        "label": "ATP"
       },
       "position": {
        "x": -200.77773456608156,
        "y": -58.69874329476136
       }
      }
     },
     "480d87c319a047a651fa0a2de993d4d1": {
      "model_module": "cytoscape-clj",
      "model_module_version": "^0.2.0",
      "model_name": "ElementModel",
      "state": {
       "_model_module_version": "^0.2.0",
       "_view_module_version": "^0.2.0",
       "data": {
        "id": "172",
        "label": "starch"
       },
       "position": {
        "x": -103.22535028514726,
        "y": 56.690942100030334
       }
      }
     },
     "4880f83711ea4eb484dd2777a3155868": {
      "model_module": "cytoscape-clj",
      "model_module_version": "^0.2.0",
      "model_name": "ElementModel",
      "state": {
       "_model_module_version": "^0.2.0",
       "_view_module_version": "^0.2.0",
       "data": {
        "source": "12",
        "target": "14"
       },
       "group": "edges"
      }
     },
     "4b2f24dfbf9341a52028c1dc67d95fc5": {
      "model_module": "cytoscape-clj",
      "model_module_version": "^0.2.0",
      "model_name": "ElementModel",
      "state": {
       "_model_module_version": "^0.2.0",
       "_view_module_version": "^0.2.0",
       "data": {
        "id": "148",
        "label": "inorganic diphosphatase"
       },
       "position": {
        "x": -53.22534928514724,
        "y": 14.1183023140161
       }
      }
     },
     "4d0549f00be84efb126104a3a098ad1b": {
      "model_module": "cytoscape-clj",
      "model_module_version": "^0.2.0",
      "model_name": "ElementModel",
      "state": {
       "_model_module_version": "^0.2.0",
       "_view_module_version": "^0.2.0",
       "data": {
        "id": "80",
        "label": "glucose 1-phosphate"
       },
       "position": {
        "x": -100.77773256608157,
        "y": -43.31997268940636
       }
      }
     },
     "4d797793c58e443b51020dd7c42ebd73": {
      "model_module": "cytoscape-clj",
      "model_module_version": "^0.2.0",
      "model_name": "ElementModel",
      "state": {
       "_model_module_version": "^0.2.0",
       "_view_module_version": "^0.2.0",
       "data": {
        "id": "12",
        "label": "fructokinase"
       },
       "position": {
        "x": -160.20380961198157,
        "y": 110.55045178536368
       }
      }
     },
     "5dc5cae6a64d4ca4bf76deee25738ae4": {
      "model_module": "cytoscape-clj",
      "model_module_version": "^0.2.0",
      "model_name": "ElementModel",
      "state": {
       "_model_module_version": "^0.2.0",
       "_view_module_version": "^0.2.0",
       "data": {
        "id": "115",
        "label": "phospho- glucomutase (cPGM)"
       },
       "position": {
        "x": -210.2038106119816,
        "y": 91.30125970523864
       }
      }
     },
     "5f0b7bc97be64f05eb6b3ac1018855e4": {
      "model_module": "cytoscape-clj",
      "model_module_version": "^0.2.0",
      "model_name": "ElementModel",
      "state": {
       "_model_module_version": "^0.2.0",
       "_view_module_version": "^0.2.0",
       "data": {
        "id": "28",
        "label": "glucose"
       },
       "position": {
        "x": -353.22535528514726,
        "y": -37.23609076343368
       }
      }
     },
     "5f5993d9dc3e499cec70702ba60ef258": {
      "model_module": "cytoscape-clj",
      "model_module_version": "^0.2.0",
      "model_name": "ElementModel",
      "state": {
       "_model_module_version": "^0.2.0",
       "_view_module_version": "^0.2.0",
       "data": {
        "id": "95",
        "label": "P"
       },
       "position": {
        "x": 354.06490856852133,
        "y": -0.6664595356235239
       }
      }
     },
     "605a5b0963ea49878dd2ef2787980319": {
      "model_module": "cytoscape-clj",
      "model_module_version": "^0.2.0",
      "model_name": "ElementModel",
      "state": {
       "_model_module_version": "^0.2.0",
       "_view_module_version": "^0.2.0",
       "data": {
        "id": "158",
        "label": "P"
       },
       "position": {
        "x": 99.22227143391842,
        "y": 11.246665203084888
       }
      }
     },
     "62440658faf84c777c0787de33c4c0ca": {
      "model_module": "cytoscape-clj",
      "model_module_version": "^0.2.0",
      "model_name": "ElementModel",
      "state": {
       "_model_module_version": "^0.2.0",
       "_view_module_version": "^0.2.0",
       "data": {
        "source": "148",
        "target": "149"
       },
       "group": "edges"
      }
     },
     "636991f5b8ea4c880461c7dd37195bc8": {
      "model_module": "cytoscape-clj",
      "model_module_version": "^0.2.0",
      "model_name": "ElementModel",
      "state": {
       "_model_module_version": "^0.2.0",
       "_view_module_version": "^0.2.0",
       "data": {
        "source": "28",
        "target": "30"
       },
       "group": "edges"
      }
     },
     "6d993650d0084636f25e03267ec30904": {
      "model_module": "cytoscape-clj",
      "model_module_version": "^0.2.0",
      "model_name": "ElementModel",
      "state": {
       "_model_module_version": "^0.2.0",
       "_view_module_version": "^0.2.0",
       "data": {
        "source": "33",
        "target": "36"
       },
       "group": "edges"
      }
     },
     "752c94f750274b36d025d2a2191480dc": {
      "model_module": "cytoscape-clj",
      "model_module_version": "^0.2.0",
      "model_name": "ElementModel",
      "state": {
       "_model_module_version": "^0.2.0",
       "_view_module_version": "^0.2.0",
       "data": {
        "source": "104",
        "target": "109"
       },
       "group": "edges"
      }
     },
     "757f56ea35a649605e0dbd7a28339664": {
      "model_module": "cytoscape-clj",
      "model_module_version": "^0.2.0",
      "model_name": "ElementModel",
      "state": {
       "_model_module_version": "^0.2.0",
       "_view_module_version": "^0.2.0",
       "data": {
        "id": "156",
        "label": "phosphate transporter"
       },
       "position": {
        "x": 354.06490856852133,
        "y": -50.66646053562352
       }
      }
     },
     "76351f8ac55d4076c05980773ebd4732": {
      "model_module": "cytoscape-clj",
      "model_module_version": "^0.2.0",
      "model_name": "ElementModel",
      "state": {
       "_model_module_version": "^0.2.0",
       "_view_module_version": "^0.2.0",
       "data": {
        "id": "136",
        "label": "PP"
       },
       "position": {
        "x": -50.77773156608157,
        "y": -39.27979666987801
       }
      }
     },
     "763c0a642b0349bb1dba1fd8c0dca21e": {
      "model_module": "cytoscape-clj",
      "model_module_version": "^0.2.0",
      "model_name": "ElementModel",
      "state": {
       "_model_module_version": "^0.2.0",
       "_view_module_version": "^0.2.0",
       "data": {
        "id": "14",
        "label": "fructose 6-phosphate"
       },
       "position": {
        "x": 46.77465271485275,
        "y": 27.768822242489893
       }
      }
     },
     "774b227b2aa744907ba1e818edf9f896": {
      "model_module": "cytoscape-clj",
      "model_module_version": "^0.2.0",
      "model_name": "ElementModel",
      "state": {
       "_model_module_version": "^0.2.0",
       "_view_module_version": "^0.2.0",
       "data": {
        "source": "71",
        "target": "76"
       },
       "group": "edges"
      }
     },
     "7879f46451234063569b3e61f97a6ef1": {
      "model_module": "cytoscape-clj",
      "model_module_version": "^0.2.0",
      "model_name": "ElementModel",
      "state": {
       "_model_module_version": "^0.2.0",
       "_view_module_version": "^0.2.0",
       "data": {
        "id": "47",
        "label": "ATP"
       },
       "position": {
        "x": -153.22535128514724,
        "y": 6.701853889467055
       }
      }
     },
     "7c7aaae5390c4b8507c8192c8a0ec4ab": {
      "model_module": "cytoscape-clj",
      "model_module_version": "^0.2.0",
      "model_name": "ElementModel",
      "state": {
       "_model_module_version": "^0.2.0",
       "_view_module_version": "^0.2.0",
       "data": {
        "source": "184",
        "target": "178"
       },
       "group": "edges"
      }
     },
     "7e95f68f939e4c02e217647d2d289d83": {
      "model_module": "cytoscape-clj",
      "model_module_version": "^0.2.0",
      "model_name": "ElementModel",
      "state": {
       "_model_module_version": "^0.2.0",
       "_view_module_version": "^0.2.0",
       "data": {
        "id": "4",
        "label": "sucrose 6-phosphate"
       },
       "position": {
        "x": -256.03714486198163,
        "y": 36.89705858322798
       }
      }
     },
     "7f7d7fb336a745f3d363a5f0ebcf9980": {
      "model_module": "cytoscape-clj",
      "model_module_version": "^0.2.0",
      "model_name": "ElementModel",
      "state": {
       "_model_module_version": "^0.2.0",
       "_view_module_version": "^0.2.0",
       "data": {
        "id": "103",
        "label": "P"
       },
       "position": {
        "x": 304.0649075685214,
        "y": -13.124417204222707
       }
      }
     },
     "801056295a69463bd198a0a5e80e295a": {
      "model_module": "cytoscape-clj",
      "model_module_version": "^0.2.0",
      "model_name": "ElementModel",
      "state": {
       "_model_module_version": "^0.2.0",
       "_view_module_version": "^0.2.0",
       "data": {
        "id": "189",
        "label": "ATP"
       },
       "position": {
        "x": -0.777730566081568,
        "y": -40.94639495101543
       }
      }
     },
     "84c3ec0bd5db46aa8a644f57c310c03e": {
      "model_module": "cytoscape-clj",
      "model_module_version": "^0.2.0",
      "model_name": "ElementModel",
      "state": {
       "_model_module_version": "^0.2.0",
       "_view_module_version": "^0.2.0",
       "data": {
        "id": "141",
        "label": "ATP"
       },
       "position": {
        "x": 54.06490256852134,
        "y": -72.2311797575101
       }
      }
     },
     "860c230213c449ee1694339c33e1bbed": {
      "model_module": "cytoscape-clj",
      "model_module_version": "^0.2.0",
      "model_name": "ElementModel",
      "state": {
       "_model_module_version": "^0.2.0",
       "_view_module_version": "^0.2.0",
       "data": {
        "id": "130",
        "label": "ADP - glucose"
       },
       "position": {
        "x": 149.22227243391842,
        "y": 46.24429589869944
       }
      }
     },
     "890bdaac976044bf3490caf8f2ab9ea0": {
      "model_module": "cytoscape-clj",
      "model_module_version": "^0.2.0",
      "model_name": "ElementModel",
      "state": {
       "_model_module_version": "^0.2.0",
       "_view_module_version": "^0.2.0",
       "data": {
        "source": "20",
        "target": "22"
       },
       "group": "edges"
      }
     },
     "8b5c3be290f04948f286e0a520296d3b": {
      "model_module": "cytoscape-clj",
      "model_module_version": "^0.2.0",
      "model_name": "ElementModel",
      "state": {
       "_model_module_version": "^0.2.0",
       "_view_module_version": "^0.2.0",
       "data": {
        "id": "10",
        "label": "fructose"
       },
       "position": {
        "x": 148.1295298880184,
        "y": 96.24429689869943
       }
      }
     },
     "8f3f439cec3c477cc1b99b70d56f6234": {
      "model_module": "cytoscape-clj",
      "model_module_version": "^0.2.0",
      "model_name": "ElementModel",
      "state": {
       "_model_module_version": "^0.2.0",
       "_view_module_version": "^0.2.0",
       "data": {
        "id": "1",
        "label": "P"
       },
       "position": {
        "x": -3.2253482851472484,
        "y": 10.720204330121987
       }
      }
     },
     "938c3eb03f1d4f1acc01dc1d6ec31c78": {
      "model_module": "cytoscape-clj",
      "model_module_version": "^0.2.0",
      "model_name": "ElementModel",
      "state": {
       "_model_module_version": "^0.2.0",
       "_view_module_version": "^0.2.0",
       "data": {
        "source": "156",
        "target": "158"
       },
       "group": "edges"
      }
     },
     "96c5a4eeb1504665aec3f6761816ed73": {
      "model_module": "cytoscape-clj",
      "model_module_version": "^0.2.0",
      "model_name": "ElementModel",
      "state": {
       "_model_module_version": "^0.2.0",
       "_view_module_version": "^0.2.0",
       "data": {
        "id": "8",
        "label": "invertase"
       },
       "position": {
        "x": -156.03714286198158,
        "y": 56.701854889467064
       }
      }
     },
     "972b3b96012345dc10d65f97f263d93a": {
      "model_module": "cytoscape-clj",
      "model_module_version": "^0.2.0",
      "model_name": "ElementModel",
      "state": {
       "_model_module_version": "^0.2.0",
       "_view_module_version": "^0.2.0",
       "data": {
        "id": "66",
        "label": "PP"
       },
       "position": {
        "x": 149.22227243391842,
        "y": -3.7557051013005527
       }
      }
     },
     "973e4631aa754b53cb760675b5cc8d94": {
      "model_module": "cytoscape-clj",
      "model_module_version": "^0.2.0",
      "model_name": "ElementModel",
      "state": {
       "_model_module_version": "^0.2.0",
       "_view_module_version": "^0.2.0",
       "data": {
        "source": "76",
        "target": "66"
       },
       "group": "edges"
      }
     },
     "97a467468b9a4beeda80cb6dfffe12e5": {
      "model_module": "cytoscape-clj",
      "model_module_version": "^0.2.0",
      "model_name": "ElementModel",
      "state": {
       "_model_module_version": "^0.2.0",
       "_view_module_version": "^0.2.0",
       "data": {
        "source": "178",
        "target": "179"
       },
       "group": "edges"
      }
     },
     "97bbdbccef274dd2c82b11df7a2debe8": {
      "model_module": "cytoscape-clj",
      "model_module_version": "^0.2.0",
      "model_name": "ElementModel",
      "state": {
       "_model_module_version": "^0.2.0",
       "_view_module_version": "^0.2.0",
       "data": {
        "source": "38",
        "target": "4"
       },
       "group": "edges"
      }
     },
     "98848ef1db1f476c20fed6260eb20b64": {
      "model_module": "cytoscape-clj",
      "model_module_version": "^0.2.0",
      "model_name": "ElementModel",
      "state": {
       "_model_module_version": "^0.2.0",
       "_view_module_version": "^0.2.0",
       "data": {
        "source": "89",
        "target": "90"
       },
       "group": "edges"
      }
     },
     "9b53128f5f334eb3d5ba312087c7ec3c": {
      "model_module": "cytoscape-clj",
      "model_module_version": "^0.2.0",
      "model_name": "CytoscapeModel",
      "state": {
       "_model_module_version": "^0.2.0",
       "_view_module_version": "^0.2.0",
       "box_selection_enabled": true,
       "desktop_tap_threshold": 4,
       "elements": [
        "IPY_MODEL_8f3f439cec3c477cc1b99b70d56f6234",
        "IPY_MODEL_26259e68905a444e9094e67ef040a318",
        "IPY_MODEL_7e95f68f939e4c02e217647d2d289d83",
        "IPY_MODEL_dfc1cc2ef139400946e2bd939dd61902",
        "IPY_MODEL_96c5a4eeb1504665aec3f6761816ed73",
        "IPY_MODEL_8b5c3be290f04948f286e0a520296d3b",
        "IPY_MODEL_4d797793c58e443b51020dd7c42ebd73",
        "IPY_MODEL_763c0a642b0349bb1dba1fd8c0dca21e",
        "IPY_MODEL_b298c1b20b62472e135cef101a71dc1e",
        "IPY_MODEL_3409939fa591428491ed07f78fd09eaa",
        "IPY_MODEL_5f0b7bc97be64f05eb6b3ac1018855e4",
        "IPY_MODEL_cb7a8956adc744861dc6ac8e66ebb228",
        "IPY_MODEL_0ca1dcdce06248e508a0b8aae63e2d49",
        "IPY_MODEL_36a13bd969474f55e26091cbcaf7bbf0",
        "IPY_MODEL_3be02c3ee9814b6b12ac8057bcf31286",
        "IPY_MODEL_248f9854a11943cc266d57884a76d987",
        "IPY_MODEL_c6745749fbf14436e19f05438ab800cd",
        "IPY_MODEL_46ba6f2713274be4229ae269b7f4182a",
        "IPY_MODEL_7879f46451234063569b3e61f97a6ef1",
        "IPY_MODEL_07fb9d09cd66479b1ac51b7542bbbf0e",
        "IPY_MODEL_3d871d76019c4cd4331e09aeb35b8204",
        "IPY_MODEL_972b3b96012345dc10d65f97f263d93a",
        "IPY_MODEL_c398c28f17514bd3f268bf97d35ee315",
        "IPY_MODEL_20cc562d9edf44e78bd930d9e02b1faf",
        "IPY_MODEL_4d0549f00be84efb126104a3a098ad1b",
        "IPY_MODEL_f3bffa2c524c4099e9b597cc638e454b",
        "IPY_MODEL_fd0e6f46d6c24b19994fd17c8690cab8",
        "IPY_MODEL_1037bb4248434f55eda9f7e7a81003cc",
        "IPY_MODEL_5f5993d9dc3e499cec70702ba60ef258",
        "IPY_MODEL_abb651f38a4d404ae9702d1f7afa0756",
        "IPY_MODEL_7f7d7fb336a745f3d363a5f0ebcf9980",
        "IPY_MODEL_30c88b1c7bcc45ac9bd16b73170eced0",
        "IPY_MODEL_d64c0cccd1034d2cf20c93630b0752df",
        "IPY_MODEL_5dc5cae6a64d4ca4bf76deee25738ae4",
        "IPY_MODEL_2344346d442645324ed52f1ced4967c6",
        "IPY_MODEL_ff2f983ae39544511bf2e0ac5a082f14",
        "IPY_MODEL_860c230213c449ee1694339c33e1bbed",
        "IPY_MODEL_76351f8ac55d4076c05980773ebd4732",
        "IPY_MODEL_84c3ec0bd5db46aa8a644f57c310c03e",
        "IPY_MODEL_4b2f24dfbf9341a52028c1dc67d95fc5",
        "IPY_MODEL_e7a3708ccabf49aa4c12143e5e5503a5",
        "IPY_MODEL_757f56ea35a649605e0dbd7a28339664",
        "IPY_MODEL_605a5b0963ea49878dd2ef2787980319",
        "IPY_MODEL_b284e3de5e0e40d298b28cfb6c0df9a2",
        "IPY_MODEL_c37f857e23c44a66225b0d5e63587507",
        "IPY_MODEL_480d87c319a047a651fa0a2de993d4d1",
        "IPY_MODEL_b53cb8ac17eb4f827143e56401336fa1",
        "IPY_MODEL_d47dc294987e4db2e2ce2d18bb8d0567",
        "IPY_MODEL_11f554b1e24944bbec9c0b8451c08997",
        "IPY_MODEL_801056295a69463bd198a0a5e80e295a",
        "IPY_MODEL_afdfb60b3bf54e21bba90b93a8855ed5",
        "IPY_MODEL_2d226d36f6d3466cf918dd9d21ec5938",
        "IPY_MODEL_2e9a9bc4e3134a486650b7f5e8722ac8",
        "IPY_MODEL_0fc8b7dcf089409958181ce60a6c254e",
        "IPY_MODEL_29ffbaf0887a4c30749201f8897a43af",
        "IPY_MODEL_4880f83711ea4eb484dd2777a3155868",
        "IPY_MODEL_ef671da5a1224c80fb5915f31345237b",
        "IPY_MODEL_890bdaac976044bf3490caf8f2ab9ea0",
        "IPY_MODEL_06f830092cb444f030b1d461b5a84f47",
        "IPY_MODEL_636991f5b8ea4c880461c7dd37195bc8",
        "IPY_MODEL_aadfe19e482b4139e91f5cad8b6e3f75",
        "IPY_MODEL_e91f2878569445b81163313d9d7bb8d4",
        "IPY_MODEL_e1e238b3ab6242508e9d4d5dfbe87fbb",
        "IPY_MODEL_6d993650d0084636f25e03267ec30904",
        "IPY_MODEL_1f4a91f7460c47babb9196489b462ec1",
        "IPY_MODEL_97bbdbccef274dd2c82b11df7a2debe8",
        "IPY_MODEL_3a6b512b9b0545516681f2cb8495069f",
        "IPY_MODEL_bd14ad55dff44c77c6d0baabf9352c1b",
        "IPY_MODEL_1556b771757140cce8c9f759a0ad506e",
        "IPY_MODEL_ef2b49a236c34c43b518b6618a4d8cda",
        "IPY_MODEL_079d2c51c1ec4f0bb93ef44d5e051bc9",
        "IPY_MODEL_2f9bf87ca9cb44572cc7f2c4b63cb1f7",
        "IPY_MODEL_c6443e7e6a4a4b27b591afc9044e9f17",
        "IPY_MODEL_774b227b2aa744907ba1e818edf9f896",
        "IPY_MODEL_973e4631aa754b53cb760675b5cc8d94",
        "IPY_MODEL_0b25499eb23c45308e1c902c95a5f3de",
        "IPY_MODEL_20be85f443104a3205ece9c297209565",
        "IPY_MODEL_c2ac944391024534709b0fc8ef1d0a7f",
        "IPY_MODEL_3ed93d6410b44a1ea5a668dc2de308c9",
        "IPY_MODEL_da4452030a49432c053cac7305834df6",
        "IPY_MODEL_98848ef1db1f476c20fed6260eb20b64",
        "IPY_MODEL_edb7fc6892b84305849e3942a0150219",
        "IPY_MODEL_c301f3fc9e1d424bf59849d5c075812d",
        "IPY_MODEL_752c94f750274b36d025d2a2191480dc",
        "IPY_MODEL_d365778e6f364a37b58ff0b778cb1f9b",
        "IPY_MODEL_4589408091ab4975077e47abe5f9a674",
        "IPY_MODEL_3124ff7682474407fcb27a0ded6c90fe",
        "IPY_MODEL_2a847696f174491c6f73c0e0fad8d722",
        "IPY_MODEL_ca9ea783881a4f652267c51b2d2c5fe2",
        "IPY_MODEL_d260c34d329642a9d19ef9421286f6e1",
        "IPY_MODEL_1930392e83ef4f382b1edd37c5ea1c16",
        "IPY_MODEL_c2d95308fa004c1b4725bbd097a2d345",
        "IPY_MODEL_62440658faf84c777c0787de33c4c0ca",
        "IPY_MODEL_e87efef90a29432bf31676cbbd148a4c",
        "IPY_MODEL_938c3eb03f1d4f1acc01dc1d6ec31c78",
        "IPY_MODEL_d16fdc29d0e143dc348d5c0713864bda",
        "IPY_MODEL_e87a94e0ab0b4f3a7a56513fccb2e6b1",
        "IPY_MODEL_97a467468b9a4beeda80cb6dfffe12e5",
        "IPY_MODEL_7c7aaae5390c4b8507c8192c8a0ec4ab",
        "IPY_MODEL_c16789ccf0474349f509c08f1f8fca99",
        "IPY_MODEL_e9617cd842654dabb32a1089eac45c7e",
        "IPY_MODEL_ea877c39246847d2fe43b66b00f76bba",
        "IPY_MODEL_eb87e2cc24e54e595fadbf98d80c1053",
        "IPY_MODEL_f416d1de5991410d8fc57610fcc3d04d",
        "IPY_MODEL_13c9e980cf684f057cf12ab52d3efff3"
       ],
       "graph_layouts": [
        "IPY_MODEL_0b9581add0b04720a17e1bbe52ad0f99"
       ],
       "layout": "IPY_MODEL_bb13080171ae43f5f52912b66157e777",
       "max_zoom": 9.999999999999999e+49,
       "min_zoom": 1.0000000000000001e-50,
       "pan": {
        "x": 634.9647527599651,
        "y": 206.2553001755224
       },
       "style": "IPY_MODEL_39d896171a8646a52049ec1cf9a0c7b1",
       "tooltip_source": "tooltip",
       "zoom": 1.2750762831485576
      }
     },
     "aadfe19e482b4139e91f5cad8b6e3f75": {
      "model_module": "cytoscape-clj",
      "model_module_version": "^0.2.0",
      "model_name": "ElementModel",
      "state": {
       "_model_module_version": "^0.2.0",
       "_view_module_version": "^0.2.0",
       "data": {
        "source": "30",
        "target": "22"
       },
       "group": "edges"
      }
     },
     "abb651f38a4d404ae9702d1f7afa0756": {
      "model_module": "cytoscape-clj",
      "model_module_version": "^0.2.0",
      "model_name": "ElementModel",
      "state": {
       "_model_module_version": "^0.2.0",
       "_view_module_version": "^0.2.0",
       "data": {
        "id": "102",
        "label": "P"
       },
       "position": {
        "x": -353.22535528514726,
        "y": 12.763910236566318
       }
      }
     },
     "afdfb60b3bf54e21bba90b93a8855ed5": {
      "model_module": "cytoscape-clj",
      "model_module_version": "^0.2.0",
      "model_name": "ElementModel",
      "state": {
       "_model_module_version": "^0.2.0",
       "_view_module_version": "^0.2.0",
       "data": {
        "source": "2",
        "target": "1"
       },
       "group": "edges"
      }
     },
     "b284e3de5e0e40d298b28cfb6c0df9a2": {
      "model_module": "cytoscape-clj",
      "model_module_version": "^0.2.0",
      "model_name": "ElementModel",
      "state": {
       "_model_module_version": "^0.2.0",
       "_view_module_version": "^0.2.0",
       "data": {
        "id": "164",
        "label": "starch synthase (simpl.)"
       },
       "position": {
        "x": 204.06490556852134,
        "y": -49.65352974565798
       }
      }
     },
     "b298c1b20b62472e135cef101a71dc1e": {
      "model_module": "cytoscape-clj",
      "model_module_version": "^0.2.0",
      "model_name": "ElementModel",
      "state": {
       "_model_module_version": "^0.2.0",
       "_view_module_version": "^0.2.0",
       "data": {
        "id": "20",
        "label": "phosphoglucose isomerase"
       },
       "position": {
        "x": -250.77773556608153,
        "y": -89.71589219925058
       }
      }
     },
     "b53cb8ac17eb4f827143e56401336fa1": {
      "model_module": "cytoscape-clj",
      "model_module_version": "^0.2.0",
      "model_name": "ElementModel",
      "state": {
       "_model_module_version": "^0.2.0",
       "_view_module_version": "^0.2.0",
       "data": {
        "id": "178",
        "label": "ATP/ADP transporter"
       },
       "position": {
        "x": -3.2253482851472484,
        "y": 60.720205330121985
       }
      }
     },
     "bb13080171ae43f5f52912b66157e777": {
      "model_module": "@jupyter-widgets/base",
      "model_module_version": "1.2.0",
      "model_name": "LayoutModel",
      "state": {}
     },
     "bd14ad55dff44c77c6d0baabf9352c1b": {
      "model_module": "cytoscape-clj",
      "model_module_version": "^0.2.0",
      "model_name": "ElementModel",
      "state": {
       "_model_module_version": "^0.2.0",
       "_view_module_version": "^0.2.0",
       "data": {
        "source": "41",
        "target": "33"
       },
       "group": "edges"
      }
     },
     "c16789ccf0474349f509c08f1f8fca99": {
      "model_module": "cytoscape-clj",
      "model_module_version": "^0.2.0",
      "model_name": "ElementModel",
      "state": {
       "_model_module_version": "^0.2.0",
       "_view_module_version": "^0.2.0",
       "data": {
        "source": "178",
        "target": "189"
       },
       "group": "edges"
      }
     },
     "c2ac944391024534709b0fc8ef1d0a7f": {
      "model_module": "cytoscape-clj",
      "model_module_version": "^0.2.0",
      "model_name": "ElementModel",
      "state": {
       "_model_module_version": "^0.2.0",
       "_view_module_version": "^0.2.0",
       "data": {
        "source": "22",
        "target": "86"
       },
       "group": "edges"
      }
     },
     "c2d95308fa004c1b4725bbd097a2d345": {
      "model_module": "cytoscape-clj",
      "model_module_version": "^0.2.0",
      "model_name": "ElementModel",
      "state": {
       "_model_module_version": "^0.2.0",
       "_view_module_version": "^0.2.0",
       "data": {
        "source": "136",
        "target": "148"
       },
       "group": "edges"
      }
     },
     "c301f3fc9e1d424bf59849d5c075812d": {
      "model_module": "cytoscape-clj",
      "model_module_version": "^0.2.0",
      "model_name": "ElementModel",
      "state": {
       "_model_module_version": "^0.2.0",
       "_view_module_version": "^0.2.0",
       "data": {
        "source": "80",
        "target": "89"
       },
       "group": "edges"
      }
     },
     "c37f857e23c44a66225b0d5e63587507": {
      "model_module": "cytoscape-clj",
      "model_module_version": "^0.2.0",
      "model_name": "ElementModel",
      "state": {
       "_model_module_version": "^0.2.0",
       "_view_module_version": "^0.2.0",
       "data": {
        "id": "166",
        "label": "ADP"
       },
       "position": {
        "x": -311.0362620716048,
        "y": 62.76391123656631
       }
      }
     },
     "c398c28f17514bd3f268bf97d35ee315": {
      "model_module": "cytoscape-clj",
      "model_module_version": "^0.2.0",
      "model_name": "ElementModel",
      "state": {
       "_model_module_version": "^0.2.0",
       "_view_module_version": "^0.2.0",
       "data": {
        "id": "71",
        "label": "UTP"
       },
       "position": {
        "x": 199.22227343391842,
        "y": 0.346471254342017
       }
      }
     },
     "c6443e7e6a4a4b27b591afc9044e9f17": {
      "model_module": "cytoscape-clj",
      "model_module_version": "^0.2.0",
      "model_name": "ElementModel",
      "state": {
       "_model_module_version": "^0.2.0",
       "_view_module_version": "^0.2.0",
       "data": {
        "source": "30",
        "target": "47"
       },
       "group": "edges"
      }
     },
     "c6745749fbf14436e19f05438ab800cd": {
      "model_module": "cytoscape-clj",
      "model_module_version": "^0.2.0",
      "model_name": "ElementModel",
      "state": {
       "_model_module_version": "^0.2.0",
       "_view_module_version": "^0.2.0",
       "data": {
        "id": "44",
        "label": "fructose 6-phosphate"
       },
       "position": {
        "x": -206.03714386198155,
        "y": 41.30125870523863
       }
      }
     },
     "ca9ea783881a4f652267c51b2d2c5fe2": {
      "model_module": "cytoscape-clj",
      "model_module_version": "^0.2.0",
      "model_name": "ElementModel",
      "state": {
       "_model_module_version": "^0.2.0",
       "_view_module_version": "^0.2.0",
       "data": {
        "source": "128",
        "target": "130"
       },
       "group": "edges"
      }
     },
     "cb7a8956adc744861dc6ac8e66ebb228": {
      "model_module": "cytoscape-clj",
      "model_module_version": "^0.2.0",
      "model_name": "ElementModel",
      "state": {
       "_model_module_version": "^0.2.0",
       "_view_module_version": "^0.2.0",
       "data": {
        "id": "30",
        "label": "hexokinase"
       },
       "position": {
        "x": 49.222270433918425,
        "y": -22.231178757510104
       }
      }
     },
     "d16fdc29d0e143dc348d5c0713864bda": {
      "model_module": "cytoscape-clj",
      "model_module_version": "^0.2.0",
      "model_name": "ElementModel",
      "state": {
       "_model_module_version": "^0.2.0",
       "_view_module_version": "^0.2.0",
       "data": {
        "source": "130",
        "target": "164"
       },
       "group": "edges"
      }
     },
     "d260c34d329642a9d19ef9421286f6e1": {
      "model_module": "cytoscape-clj",
      "model_module_version": "^0.2.0",
      "model_name": "ElementModel",
      "state": {
       "_model_module_version": "^0.2.0",
       "_view_module_version": "^0.2.0",
       "data": {
        "source": "141",
        "target": "128"
       },
       "group": "edges"
      }
     },
     "d365778e6f364a37b58ff0b778cb1f9b": {
      "model_module": "cytoscape-clj",
      "model_module_version": "^0.2.0",
      "model_name": "ElementModel",
      "state": {
       "_model_module_version": "^0.2.0",
       "_view_module_version": "^0.2.0",
       "data": {
        "source": "115",
        "target": "109"
       },
       "group": "edges"
      }
     },
     "d47dc294987e4db2e2ce2d18bb8d0567": {
      "model_module": "cytoscape-clj",
      "model_module_version": "^0.2.0",
      "model_name": "ElementModel",
      "state": {
       "_model_module_version": "^0.2.0",
       "_view_module_version": "^0.2.0",
       "data": {
        "id": "179",
        "label": "ADP"
       },
       "position": {
        "x": 254.0649065685213,
        "y": -9.812094689418386
       }
      }
     },
     "d64c0cccd1034d2cf20c93630b0752df": {
      "model_module": "cytoscape-clj",
      "model_module_version": "^0.2.0",
      "model_name": "ElementModel",
      "state": {
       "_model_module_version": "^0.2.0",
       "_view_module_version": "^0.2.0",
       "data": {
        "id": "109",
        "label": "glucose 6-phosphate"
       },
       "position": {
        "x": 154.06490456852134,
        "y": -103.75570710130056
       }
      }
     },
     "da4452030a49432c053cac7305834df6": {
      "model_module": "cytoscape-clj",
      "model_module_version": "^0.2.0",
      "model_name": "ElementModel",
      "state": {
       "_model_module_version": "^0.2.0",
       "_view_module_version": "^0.2.0",
       "data": {
        "source": "95",
        "target": "89"
       },
       "group": "edges"
      }
     },
     "dfc1cc2ef139400946e2bd939dd61902": {
      "model_module": "cytoscape-clj",
      "model_module_version": "^0.2.0",
      "model_name": "ElementModel",
      "state": {
       "_model_module_version": "^0.2.0",
       "_view_module_version": "^0.2.0",
       "data": {
        "id": "6",
        "label": "sucrose"
       },
       "position": {
        "x": 154.06490456852134,
        "y": -53.755706101300554
       }
      }
     },
     "e1e238b3ab6242508e9d4d5dfbe87fbb": {
      "model_module": "cytoscape-clj",
      "model_module_version": "^0.2.0",
      "model_name": "ElementModel",
      "state": {
       "_model_module_version": "^0.2.0",
       "_view_module_version": "^0.2.0",
       "data": {
        "source": "33",
        "target": "10"
       },
       "group": "edges"
      }
     },
     "e7a3708ccabf49aa4c12143e5e5503a5": {
      "model_module": "cytoscape-clj",
      "model_module_version": "^0.2.0",
      "model_name": "ElementModel",
      "state": {
       "_model_module_version": "^0.2.0",
       "_view_module_version": "^0.2.0",
       "data": {
        "id": "149",
        "label": "P"
       },
       "position": {
        "x": 254.0649065685213,
        "y": -59.81209568941838
       }
      }
     },
     "e87a94e0ab0b4f3a7a56513fccb2e6b1": {
      "model_module": "cytoscape-clj",
      "model_module_version": "^0.2.0",
      "model_name": "ElementModel",
      "state": {
       "_model_module_version": "^0.2.0",
       "_view_module_version": "^0.2.0",
       "data": {
        "source": "164",
        "target": "166"
       },
       "group": "edges"
      }
     },
     "e87efef90a29432bf31676cbbd148a4c": {
      "model_module": "cytoscape-clj",
      "model_module_version": "^0.2.0",
      "model_name": "ElementModel",
      "state": {
       "_model_module_version": "^0.2.0",
       "_view_module_version": "^0.2.0",
       "data": {
        "source": "149",
        "target": "156"
       },
       "group": "edges"
      }
     },
     "e91f2878569445b81163313d9d7bb8d4": {
      "model_module": "cytoscape-clj",
      "model_module_version": "^0.2.0",
      "model_name": "ElementModel",
      "state": {
       "_model_module_version": "^0.2.0",
       "_view_module_version": "^0.2.0",
       "data": {
        "source": "6",
        "target": "33"
       },
       "group": "edges"
      }
     },
     "e9617cd842654dabb32a1089eac45c7e": {
      "model_module": "cytoscape-clj",
      "model_module_version": "^0.2.0",
      "model_name": "ElementModel",
      "state": {
       "_model_module_version": "^0.2.0",
       "_view_module_version": "^0.2.0",
       "data": {
        "source": "141",
        "target": "178"
       },
       "group": "edges"
      }
     },
     "ea877c39246847d2fe43b66b00f76bba": {
      "model_module": "cytoscape-clj",
      "model_module_version": "^0.2.0",
      "model_name": "ElementModel",
      "state": {
       "_model_module_version": "^0.2.0",
       "_view_module_version": "^0.2.0",
       "data": {
        "source": "104",
        "target": "103"
       },
       "group": "edges"
      }
     },
     "eb87e2cc24e54e595fadbf98d80c1053": {
      "model_module": "cytoscape-clj",
      "model_module_version": "^0.2.0",
      "model_name": "ElementModel",
      "state": {
       "_model_module_version": "^0.2.0",
       "_view_module_version": "^0.2.0",
       "data": {
        "source": "10",
        "target": "12"
       },
       "group": "edges"
      }
     },
     "edb7fc6892b84305849e3942a0150219": {
      "model_module": "cytoscape-clj",
      "model_module_version": "^0.2.0",
      "model_name": "ElementModel",
      "state": {
       "_model_module_version": "^0.2.0",
       "_view_module_version": "^0.2.0",
       "data": {
        "source": "102",
        "target": "104"
       },
       "group": "edges"
      }
     },
     "ef2b49a236c34c43b518b6618a4d8cda": {
      "model_module": "cytoscape-clj",
      "model_module_version": "^0.2.0",
      "model_name": "ElementModel",
      "state": {
       "_model_module_version": "^0.2.0",
       "_view_module_version": "^0.2.0",
       "data": {
        "source": "52",
        "target": "12"
       },
       "group": "edges"
      }
     },
     "ef671da5a1224c80fb5915f31345237b": {
      "model_module": "cytoscape-clj",
      "model_module_version": "^0.2.0",
      "model_name": "ElementModel",
      "state": {
       "_model_module_version": "^0.2.0",
       "_view_module_version": "^0.2.0",
       "data": {
        "source": "14",
        "target": "20"
       },
       "group": "edges"
      }
     },
     "f3bffa2c524c4099e9b597cc638e454b": {
      "model_module": "cytoscape-clj",
      "model_module_version": "^0.2.0",
      "model_name": "ElementModel",
      "state": {
       "_model_module_version": "^0.2.0",
       "_view_module_version": "^0.2.0",
       "data": {
        "id": "86",
        "label": "phospho- glucomutase (cPGM)"
       },
       "position": {
        "x": 349.22227643391835,
        "y": 49.333541464376474
       }
      }
     },
     "f416d1de5991410d8fc57610fcc3d04d": {
      "model_module": "cytoscape-clj",
      "model_module_version": "^0.2.0",
      "model_name": "ElementModel",
      "state": {
       "_model_module_version": "^0.2.0",
       "_view_module_version": "^0.2.0",
       "data": {
        "source": "164",
        "target": "172"
       },
       "group": "edges"
      }
     },
     "fd0e6f46d6c24b19994fd17c8690cab8": {
      "model_module": "cytoscape-clj",
      "model_module_version": "^0.2.0",
      "model_name": "ElementModel",
      "state": {
       "_model_module_version": "^0.2.0",
       "_view_module_version": "^0.2.0",
       "data": {
        "id": "89",
        "label": "G1P transporter"
       },
       "position": {
        "x": 98.1295288880184,
        "y": 112.41953221821468
       }
      }
     },
     "ff2f983ae39544511bf2e0ac5a082f14": {
      "model_module": "cytoscape-clj",
      "model_module_version": "^0.2.0",
      "model_name": "ElementModel",
      "state": {
       "_model_module_version": "^0.2.0",
       "_view_module_version": "^0.2.0",
       "data": {
        "id": "128",
        "label": "ADPglucose pyrophosphorylase (pAGPase)"
       },
       "position": {
        "x": 46.77465271485275,
        "y": 77.76882324248989
       }
      }
     }
    },
    "version_major": 2,
    "version_minor": 0
   }
  }
 },
 "nbformat": 4,
 "nbformat_minor": 4
}
