{
 "cells": [
  {
   "cell_type": "code",
   "execution_count": 1,
   "metadata": {},
   "outputs": [
    {
     "name": "stdout",
     "output_type": "stream",
     "text": [
      "To load \"cl-cytoscape\":\n",
      "  Load 1 ASDF system:\n",
      "    cl-cytoscape\n"
     ]
    },
    {
     "data": {
      "text/plain": [
       "(:CL-CYTOSCAPE)"
      ]
     },
     "execution_count": 1,
     "metadata": {},
     "output_type": "execute_result"
    },
    {
     "name": "stdout",
     "output_type": "stream",
     "text": [
      "\n",
      "; Loading \"cl-cytoscape\"\n",
      "\n"
     ]
    }
   ],
   "source": [
    "(ql:quickload :cl-cytoscape)"
   ]
  },
  {
   "cell_type": "code",
   "execution_count": 2,
   "metadata": {},
   "outputs": [
    {
     "data": {
      "text/plain": [
       "C"
      ]
     },
     "execution_count": 2,
     "metadata": {},
     "output_type": "execute_result"
    }
   ],
   "source": [
    "(defparameter c (make-instance 'cytoscape:cytoscape-widget\n",
    "                               :graph-layout '((\"name\" . \"dagre\"))\n",
    "                               :graph-style (jsown:parse (alexandria:read-file-into-string \"edge-styles.json\"))\n",
    "                               :edge-handles (make-instance 'cytoscape:edge-handles :handle-in-draw-mode nil :draw-mode t);:handle-nodes \"\")\n",
    "                               :elements (list (make-instance 'cytoscape:element :group \"nodes\" :data '((\"name\" . \"i\") (\"id\" . \"i\")))\n",
    "                                               (make-instance 'cytoscape:element :group \"nodes\" :data '((\"name\" . \"-i\") (\"id\" . \"ni\")))\n",
    "                                               (make-instance 'cytoscape:element :group \"nodes\" :data '((\"name\" . \"j\") (\"id\" . \"j\")))\n",
    "                                               (make-instance 'cytoscape:element :group \"nodes\" :data '((\"name\" . \"-j\") (\"id\" . \"nj\")))\n",
    "                                               (make-instance 'cytoscape:element :group \"nodes\" :data '((\"name\" . \"k\") (\"id\" . \"k\")))\n",
    "                                               (make-instance 'cytoscape:element :group \"nodes\" :data '((\"name\" . \"-k\") (\"id\" . \"nk\")))\n",
    "                                               (make-instance 'cytoscape:element :group \"nodes\" :data '((\"name\" . \"1\") (\"id\" . \"1\")))\n",
    "                                               (make-instance 'cytoscape:element :group \"nodes\" :data '((\"name\" . \"-1\") (\"id\" . \"n1\"))))))\n",
    "                                                              "
   ]
  },
  {
   "cell_type": "code",
   "execution_count": 3,
   "metadata": {},
   "outputs": [
    {
     "data": {
      "application/vnd.jupyter.widget-view+json": {
       "model_id": "57fb8885ab26440cf50ccb8fac5a9496",
       "version_major": 2,
       "version_minor": 0
      },
      "text/plain": [
       "A Jupyter Widget"
      ]
     },
     "metadata": {},
     "output_type": "display_data"
    }
   ],
   "source": [
    "c"
   ]
  },
  {
   "cell_type": "code",
   "execution_count": 4,
   "metadata": {},
   "outputs": [
    {
     "data": {
      "text/plain": [
       "T"
      ]
     },
     "execution_count": 4,
     "metadata": {},
     "output_type": "execute_result"
    }
   ],
   "source": [
    "(setf (cytoscape::draw-mode (cytoscape:edge-handles c)) t)"
   ]
  },
  {
   "cell_type": "code",
   "execution_count": 12,
   "metadata": {},
   "outputs": [
    {
     "data": {
      "text/plain": [
       "\"[\n",
       "  {\n",
       "    \\\"selector\\\": \\\"node[name]\\\",\n",
       "    \\\"style\\\": {\n",
       "      \\\"content\\\": \\\"data(name)\\\"\n",
       "    }\n",
       "  },\n",
       "  {\n",
       "    \\\"selector\\\": \\\"edge\\\",\n",
       "    \\\"style\\\": {\n",
       "      \\\"curve-style\\\": \\\"bezier\\\",\n",
       "      \\\"target-arrow-shape\\\": \\\"triangle\\\"\n",
       "    }\n",
       "  },\n",
       "  {\n",
       "    \\\"selector\\\": \\\".eh-handle\\\",\n",
       "    \\\"style\\\": {\n",
       "      \\\"background-color\\\": \\\"red\\\",\n",
       "      \\\"width\\\": 12,\n",
       "      \\\"height\\\": 12,\n",
       "      \\\"shape\\\": \\\"ellipse\\\",\n",
       "      \\\"overlay-opacity\\\": 0,\n",
       "      \\\"border-width\\\": 12, // makes the handle easier to hit\n",
       "      \\\"border-opacity\\\": 0\n",
       "    }\n",
       "  },\n",
       "\n",
       "  {\n",
       "    \\\"selector\\\": \\\".eh-hover\\\",\n",
       "    \\\"style\\\": {\n",
       "      \\\"background-color\\\": \\\"red\\\"\n",
       "    }\n",
       "  },\n",
       "\n",
       "  {\n",
       "    \\\"selector\\\": \\\".eh-source\\\",\n",
       "    \\\"style\\\": {\n",
       "      \\\"border-width\\\": 2,\n",
       "      \\\"border-color\\\": \\\"red\\\"\n",
       "    }\n",
       "  },\n",
       "\n",
       "  {\n",
       "    \\\"selector\\\": \\\".eh-target\\\",\n",
       "    \\\"style\\\": {\n",
       "      \\\"border-width\\\": 2,\n",
       "      \\\"border-color\\\": \\\"red\\\"\n",
       "    }\n",
       "  },\n",
       "\n",
       "  {\n",
       "    \\\"selector\\\": \\\".eh-preview, .eh-ghost-edge\\\",\n",
       "    \\\"style\\\": {\n",
       "      \\\"background-color\\\": \\\"red\\\",\n",
       "      \\\"line-color\\\": \\\"red\\\",\n",
       "      \\\"target-arrow-color\\\": \\\"red\\\",\n",
       "      \\\"source-arrow-color\\\": \\\"red\\\"\n",
       "    }\n",
       "  },\n",
       "\n",
       "  {\n",
       "    \\\"selector\\\": \\\".eh-ghost-edge.eh-preview-active\\\",\n",
       "    \\\"style\\\": {\n",
       "      \\\"opacity\\\": 0\n",
       "    }\n",
       "  }\n",
       "]\""
      ]
     },
     "execution_count": 12,
     "metadata": {},
     "output_type": "execute_result"
    }
   ],
   "source": [
    "(alexandria:read-file-into-string \"edge-styles.json\")"
   ]
  },
  {
   "cell_type": "code",
   "execution_count": null,
   "metadata": {},
   "outputs": [],
   "source": []
  }
 ],
 "metadata": {
  "kernelspec": {
   "display_name": "Common Lisp (clasp)",
   "language": "common-lisp",
   "name": "common-lisp_clasp"
  },
  "language_info": {
   "codemirror_mode": "text/x-common-lisp",
   "file_extension": ".lisp",
   "mimetype": "text/x-common-lisp",
   "name": "common-lisp",
   "pygments_lexer": "common-lisp",
   "version": "cclasp-boehm-0.4.2-2722-gc7cf406d8-cst"
  }
 },
 "nbformat": 4,
 "nbformat_minor": 4
}
