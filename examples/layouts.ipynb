{
 "cells": [
  {
   "cell_type": "code",
   "execution_count": 1,
   "metadata": {},
   "outputs": [
    {
     "name": "stdout",
     "output_type": "stream",
     "text": [
      "To load \"cl-cytoscape\":\n",
      "  Load 1 ASDF system:\n",
      "    cl-cytoscape\n"
     ]
    },
    {
     "data": {
      "text/plain": [
       "(:CL-CYTOSCAPE)"
      ]
     },
     "execution_count": 1,
     "metadata": {},
     "output_type": "execute_result"
    },
    {
     "name": "stdout",
     "output_type": "stream",
     "text": [
      "\n",
      "; Loading \"cl-cytoscape\"\n",
      "\n"
     ]
    }
   ],
   "source": [
    "(ql:quickload :cl-cytoscape)"
   ]
  },
  {
   "cell_type": "code",
   "execution_count": 2,
   "metadata": {},
   "outputs": [
    {
     "data": {
      "text/plain": [
       "*COUNT*"
      ]
     },
     "execution_count": 2,
     "metadata": {},
     "output_type": "execute_result"
    },
    {
     "data": {
      "text/plain": [
       "+SIZE+"
      ]
     },
     "execution_count": 2,
     "metadata": {},
     "output_type": "execute_result"
    },
    {
     "data": {
      "text/plain": [
       "+MARGIN+"
      ]
     },
     "execution_count": 2,
     "metadata": {},
     "output_type": "execute_result"
    },
    {
     "data": {
      "text/plain": [
       "+COLUMNS+"
      ]
     },
     "execution_count": 2,
     "metadata": {},
     "output_type": "execute_result"
    },
    {
     "data": {
      "text/plain": [
       "*CYTO*"
      ]
     },
     "execution_count": 2,
     "metadata": {},
     "output_type": "execute_result"
    },
    {
     "data": {
      "text/plain": [
       "ELEMENT-ID"
      ]
     },
     "execution_count": 2,
     "metadata": {},
     "output_type": "execute_result"
    },
    {
     "data": {
      "text/plain": [
       "ADD-GRAPHS"
      ]
     },
     "execution_count": 2,
     "metadata": {},
     "output_type": "execute_result"
    },
    {
     "data": {
      "application/vnd.jupyter.widget-view+json": {
       "model_id": "bb1c4739a4a24f1c6e02bdad43c3a835",
       "version_major": 2,
       "version_minor": 0
      },
      "text/plain": [
       "A Jupyter Widget"
      ]
     },
     "metadata": {},
     "output_type": "display_data"
    }
   ],
   "source": [
    "(defparameter *count* 0)\n",
    "(defparameter +size+ 300)\n",
    "(defparameter +margin+ 30)\n",
    "(defparameter +columns+ 4)\n",
    "\n",
    "(defparameter *cyto* (make-instance 'cytoscape:cytoscape-widget\n",
    "                                    :layout (make-instance 'jupyter-widgets:layout :height \"640px\")\n",
    "                                    :graph-style \"node { content: data(name); } \n",
    "                                                  node.child { text-valign: center; text-halign: center; }\n",
    "                                                  edge { curve-style: bezier; }\"))\n",
    "\n",
    "(defun element-id (id i)\n",
    "  (format nil \"~A-~A\" id i))\n",
    "\n",
    "(defun add-graphs (&rest layouts)\n",
    "  (dolist (layout layouts)\n",
    "  (let ((id (jupyter:make-uuid))\n",
    "        (elements nil))\n",
    "    (push (make-instance 'cytoscape:element      \n",
    "                         :group \"nodes\" \n",
    "                         :data (list (cons \"id\" id)\n",
    "                                     (cons \"name\" (string-downcase (class-name (class-of layout)))))\n",
    "                         :classes (list id))\n",
    "          elements)\n",
    "    (dotimes (i 7)\n",
    "        (push (make-instance 'cytoscape:element \n",
    "                             :group \"nodes\" \n",
    "                             :data (list (cons \"id\" (element-id id i))\n",
    "                                         (cons \"parent\" id)\n",
    "                                         (cons \"name\" (format nil \"~A\" i)))\n",
    "                             :classes (list id \"child\"))\n",
    "              elements))\n",
    "    (dotimes (i 3)\n",
    "        ; Edge from the corner to the next side\n",
    "        (push (make-instance 'cytoscape:element \n",
    "                             :group \"edges\" \n",
    "                             :data (list (cons \"parent\" id)\n",
    "                                         (cons \"id\" (jupyter:make-uuid))\n",
    "                                         (cons \"source\" (element-id id (* 2 i)))\n",
    "                                         (cons \"target\" (element-id id (1+ (* 2 i)))))\n",
    "                             :classes (list id))\n",
    "              elements)\n",
    "        ; Edge from the corner to the previous side\n",
    "        (push (make-instance 'cytoscape:element \n",
    "                             :group \"edges\" \n",
    "                             :data (list (cons \"parent\" id)\n",
    "                                         (cons \"id\" (jupyter:make-uuid))\n",
    "                                         (cons \"source\" (element-id id (* 2 i)))\n",
    "                                         (cons \"target\" (element-id id (mod (1- (* 2 i)) 6))))\n",
    "                             :classes (list id))\n",
    "              elements)\n",
    "        ; Edge from the corner to the middle\n",
    "        (push (make-instance 'cytoscape:element \n",
    "                             :group \"edges\" \n",
    "                             :data (list (cons \"parent\" id)\n",
    "                                         (cons \"id\" (jupyter:make-uuid))\n",
    "                                         (cons \"source\" (element-id id (* 2 i)))\n",
    "                                         (cons \"target\" (element-id id 6)))\n",
    "                             :classes (list id))\n",
    "              elements)\n",
    "        ; Edge from the side to the next side\n",
    "        (push (make-instance 'cytoscape:element \n",
    "                             :group \"edges\" \n",
    "                             :data (list (cons \"parent\" id)\n",
    "                                         (cons \"id\" (jupyter:make-uuid))\n",
    "                                         (cons \"source\" (element-id id (1+ (* 2 i))))\n",
    "                                         (cons \"target\" (element-id id (mod (1- (* 2 i)) 6))))\n",
    "                             :classes (list id))\n",
    "              elements)\n",
    "        ; Edge from the side to the middle\n",
    "        (push (make-instance 'cytoscape:element \n",
    "                             :group \"edges\" \n",
    "                             :data (list (cons \"parent\" id)\n",
    "                                         (cons \"id\" (jupyter:make-uuid))\n",
    "                                         (cons \"source\" (element-id id (1+ (* 2 i))))\n",
    "                                         (cons \"target\" (element-id id 6)))\n",
    "                             :classes (list id))\n",
    "              elements))\n",
    "    (setf (cytoscape:selector layout) (format nil \".~A\" id))\n",
    "    (multiple-value-bind (row col) (floor *count* +columns+)\n",
    "      (setf (cytoscape:bounding-box layout) (list (cons \"x1\" (* (+ +margin+ +size+) col))\n",
    "                                                  (cons \"y1\" (* (+ +margin+ +size+) row))\n",
    "                                                  (cons \"w\" +size+)\n",
    "                                                  (cons \"h\" +size+))))\n",
    "    (incf *count*)\n",
    "    (setf (cytoscape:fit layout) nil)\n",
    "    (cytoscape:on-layout-stop layout (lambda (l) (declare (ignore l)) (cytoscape:fit-elements *cyto*)))\n",
    "    (setf (cytoscape:graph-layouts *cyto*) (append (cytoscape:graph-layouts *cyto*) (list layout)))\n",
    "    (setf (cytoscape:elements *cyto*) (append (cytoscape:elements *cyto*) (reverse elements)))))\n",
    "  (values))\n",
    "\n",
    "*cyto*"
   ]
  },
  {
   "cell_type": "code",
   "execution_count": 3,
   "metadata": {},
   "outputs": [],
   "source": [
    "(add-graphs (make-instance 'cytoscape:breadth-first-layout)\n",
    "            (make-instance 'cytoscape:random-layout)\n",
    "            (make-instance 'cytoscape:grid-layout)\n",
    "            (make-instance 'cytoscape:circle-layout)\n",
    "            (make-instance 'cytoscape:concentric-layout)\n",
    "            (make-instance 'cytoscape:cose-layout)\n",
    "            (make-instance 'cytoscape:cola-layout)\n",
    "            (make-instance 'cytoscape:dagre-layout))"
   ]
  },
  {
   "cell_type": "code",
   "execution_count": null,
   "metadata": {},
   "outputs": [],
   "source": []
  }
 ],
 "metadata": {
  "kernelspec": {
   "display_name": "Common Lisp (clasp)",
   "language": "common-lisp",
   "name": "common-lisp_clasp"
  },
  "language_info": {
   "codemirror_mode": "text/x-common-lisp",
   "file_extension": ".lisp",
   "mimetype": "text/x-common-lisp",
   "name": "common-lisp",
   "pygments_lexer": "common-lisp",
   "version": "cclasp-boehm-0.4.2-2722-gc7cf406d8-cst"
  },
  "widgets": {
   "application/vnd.jupyter.widget-state+json": {
    "state": {
     "0276b22223494b70711d9872b6a78998": {
      "model_module": "cl-cytoscape",
      "model_module_version": "^0.1.96",
      "model_name": "ElementModel",
      "state": {
       "_model_module_version": "^0.1.96",
       "_view_module_version": "^0.1.96",
       "classes": [
        "5f04b7a2c8e1478a954715cda2ef119d",
        "child"
       ],
       "data": {
        "id": "5f04b7a2c8e1478a954715cda2ef119d-4",
        "name": "4",
        "parent": "5f04b7a2c8e1478a954715cda2ef119d"
       },
       "position": {
        "x": 990,
        "y": 405
       }
      }
     },
     "02995fcbc6734a467e9f8a80ae8abf60": {
      "model_module": "cl-cytoscape",
      "model_module_version": "^0.1.96",
      "model_name": "ElementModel",
      "state": {
       "_model_module_version": "^0.1.96",
       "_view_module_version": "^0.1.96",
       "classes": [
        "e760e5ca4ebb4d570a324abda1bc40d3",
        "child"
       ],
       "data": {
        "id": "e760e5ca4ebb4d570a324abda1bc40d3-6",
        "name": "6",
        "parent": "e760e5ca4ebb4d570a324abda1bc40d3"
       },
       "position": {
        "x": 397,
        "y": 130
       }
      }
     },
     "070b751013c74cd8ca7240af5d70d762": {
      "model_module": "cl-cytoscape",
      "model_module_version": "^0.1.96",
      "model_name": "BreadthFirstLayoutModel",
      "state": {
       "_model_module_version": "^0.1.96",
       "_view_module_version": "^0.1.96",
       "animate": true,
       "animation_duration": 250,
       "bounding_box": {
        "h": 300,
        "w": 300,
        "x1": 0,
        "y1": 0
       },
       "fit": false,
       "roots": [],
       "selector": ".8d7c137bdf704d1c51ca546adb1fe3da",
       "spacing_factor": null
      }
     },
     "0834cecc2b8048b0bbc79318fcac376a": {
      "model_module": "cl-cytoscape",
      "model_module_version": "^0.1.96",
      "model_name": "ElementModel",
      "state": {
       "_model_module_version": "^0.1.96",
       "_view_module_version": "^0.1.96",
       "classes": [
        "e760e5ca4ebb4d570a324abda1bc40d3",
        "child"
       ],
       "data": {
        "id": "e760e5ca4ebb4d570a324abda1bc40d3-0",
        "name": "0",
        "parent": "e760e5ca4ebb4d570a324abda1bc40d3"
       },
       "position": {
        "x": 544,
        "y": 239
       }
      }
     },
     "087a56d733a04fb6852b27ca8141f6e8": {
      "model_module": "cl-cytoscape",
      "model_module_version": "^0.1.96",
      "model_name": "ElementModel",
      "state": {
       "_model_module_version": "^0.1.96",
       "_view_module_version": "^0.1.96",
       "classes": [
        "8d7c137bdf704d1c51ca546adb1fe3da",
        "child"
       ],
       "data": {
        "id": "8d7c137bdf704d1c51ca546adb1fe3da-6",
        "name": "6",
        "parent": "8d7c137bdf704d1c51ca546adb1fe3da"
       },
       "position": {
        "x": 262.5,
        "y": 150
       }
      }
     },
     "09d6c6edf71d42420dbce8d44eac8c11": {
      "model_module": "cl-cytoscape",
      "model_module_version": "^0.1.96",
      "model_name": "ElementModel",
      "state": {
       "_model_module_version": "^0.1.96",
       "_view_module_version": "^0.1.96",
       "classes": [
        "8d7c137bdf704d1c51ca546adb1fe3da"
       ],
       "data": {
        "id": "f15573249e394869cd97ef8c7d60509a",
        "parent": "8d7c137bdf704d1c51ca546adb1fe3da",
        "source": "8d7c137bdf704d1c51ca546adb1fe3da-4",
        "target": "8d7c137bdf704d1c51ca546adb1fe3da-5"
       },
       "group": "edges"
      }
     },
     "0b23da9e72514a0ad916d095f3ff037f": {
      "model_module": "cl-cytoscape",
      "model_module_version": "^0.1.96",
      "model_name": "ElementModel",
      "state": {
       "_model_module_version": "^0.1.96",
       "_view_module_version": "^0.1.96",
       "classes": [
        "1dcf3484287e49cf9c7afc9268896e41"
       ],
       "data": {
        "id": "d6b15e4c9474481937fdf1703cfb4fb3",
        "parent": "1dcf3484287e49cf9c7afc9268896e41",
        "source": "1dcf3484287e49cf9c7afc9268896e41-2",
        "target": "1dcf3484287e49cf9c7afc9268896e41-3"
       },
       "group": "edges"
      }
     },
     "0c06c369c04a429812a8419d1ae5964c": {
      "model_module": "cl-cytoscape",
      "model_module_version": "^0.1.96",
      "model_name": "CytoscapeStyleModel",
      "state": {
       "_model_module_version": "^0.1.96"
      }
     },
     "0c4739f8ae7149805292109626d18eb3": {
      "model_module": "cl-cytoscape",
      "model_module_version": "^0.1.96",
      "model_name": "ElementModel",
      "state": {
       "_model_module_version": "^0.1.96",
       "_view_module_version": "^0.1.96",
       "classes": [
        "e760e5ca4ebb4d570a324abda1bc40d3"
       ],
       "data": {
        "id": "a12e0f8ce4564e303b510c49e1ea7887",
        "parent": "e760e5ca4ebb4d570a324abda1bc40d3",
        "source": "e760e5ca4ebb4d570a324abda1bc40d3-4",
        "target": "e760e5ca4ebb4d570a324abda1bc40d3-5"
       },
       "group": "edges"
      }
     },
     "0e7fe1c4e614447cade207c4db70f0f1": {
      "model_module": "cl-cytoscape",
      "model_module_version": "^0.1.96",
      "model_name": "ElementModel",
      "state": {
       "_model_module_version": "^0.1.96",
       "_view_module_version": "^0.1.96",
       "classes": [
        "1dcf3484287e49cf9c7afc9268896e41"
       ],
       "data": {
        "id": "d35f361798ad478ce8266f5aba7df1df",
        "parent": "1dcf3484287e49cf9c7afc9268896e41",
        "source": "1dcf3484287e49cf9c7afc9268896e41-1",
        "target": "1dcf3484287e49cf9c7afc9268896e41-6"
       },
       "group": "edges"
      }
     },
     "0f93192fe1074a65802052e979b77279": {
      "model_module": "cl-cytoscape",
      "model_module_version": "^0.1.96",
      "model_name": "ElementModel",
      "state": {
       "_model_module_version": "^0.1.96",
       "_view_module_version": "^0.1.96",
       "classes": [
        "1dcf3484287e49cf9c7afc9268896e41"
       ],
       "data": {
        "id": "bf49943574d04bfc8a227becbf850cd9",
        "parent": "1dcf3484287e49cf9c7afc9268896e41",
        "source": "1dcf3484287e49cf9c7afc9268896e41-4",
        "target": "1dcf3484287e49cf9c7afc9268896e41-3"
       },
       "group": "edges"
      }
     },
     "105c243337804ec72659c51e7361f809": {
      "model_module": "cl-cytoscape",
      "model_module_version": "^0.1.96",
      "model_name": "ElementModel",
      "state": {
       "_model_module_version": "^0.1.96",
       "_view_module_version": "^0.1.96",
       "classes": [
        "5f04b7a2c8e1478a954715cda2ef119d",
        "child"
       ],
       "data": {
        "id": "5f04b7a2c8e1478a954715cda2ef119d-5",
        "name": "5",
        "parent": "5f04b7a2c8e1478a954715cda2ef119d"
       },
       "position": {
        "x": 1168.723404255319,
        "y": 480
       }
      }
     },
     "123dd367e1714db3c5e0e98a3cf97ae0": {
      "model_module": "cl-cytoscape",
      "model_module_version": "^0.1.96",
      "model_name": "ElementModel",
      "state": {
       "_model_module_version": "^0.1.96",
       "_view_module_version": "^0.1.96",
       "classes": [
        "3b13cd9da2764d2eac197640f66528e9"
       ],
       "data": {
        "id": "ff74c47957634a415bf0b87c36abe28e",
        "parent": "3b13cd9da2764d2eac197640f66528e9",
        "source": "3b13cd9da2764d2eac197640f66528e9-1",
        "target": "3b13cd9da2764d2eac197640f66528e9-5"
       },
       "group": "edges"
      }
     },
     "13788e3445194fd66414895b381da855": {
      "model_module": "cl-cytoscape",
      "model_module_version": "^0.1.96",
      "model_name": "ElementModel",
      "state": {
       "_model_module_version": "^0.1.96",
       "_view_module_version": "^0.1.96",
       "classes": [
        "71355ee371f141e87b14d056dd16dd34"
       ],
       "data": {
        "id": "06c0cab8fc924eac13fc8516f3bd4e10",
        "parent": "71355ee371f141e87b14d056dd16dd34",
        "source": "71355ee371f141e87b14d056dd16dd34-3",
        "target": "71355ee371f141e87b14d056dd16dd34-1"
       },
       "group": "edges"
      }
     },
     "171585acc51a496c87eee9a45f012292": {
      "model_module": "cl-cytoscape",
      "model_module_version": "^0.1.96",
      "model_name": "ElementModel",
      "state": {
       "_model_module_version": "^0.1.96",
       "_view_module_version": "^0.1.96",
       "classes": [
        "8d7c137bdf704d1c51ca546adb1fe3da",
        "child"
       ],
       "data": {
        "id": "8d7c137bdf704d1c51ca546adb1fe3da-2",
        "name": "2",
        "parent": "8d7c137bdf704d1c51ca546adb1fe3da"
       },
       "position": {
        "x": 112.5,
        "y": 150
       }
      }
     },
     "179bcade57fb453d7deb7eb2defb9f78": {
      "model_module": "cl-cytoscape",
      "model_module_version": "^0.1.96",
      "model_name": "ElementModel",
      "state": {
       "_model_module_version": "^0.1.96",
       "_view_module_version": "^0.1.96",
       "classes": [
        "3b13cd9da2764d2eac197640f66528e9"
       ],
       "data": {
        "id": "49def137a8ee4f4d4f37a67c24e0f103",
        "parent": "3b13cd9da2764d2eac197640f66528e9",
        "source": "3b13cd9da2764d2eac197640f66528e9-1",
        "target": "3b13cd9da2764d2eac197640f66528e9-6"
       },
       "group": "edges"
      }
     },
     "19fe7c18884e43f34907cd86c97f0302": {
      "model_module": "cl-cytoscape",
      "model_module_version": "^0.1.96",
      "model_name": "ElementModel",
      "state": {
       "_model_module_version": "^0.1.96",
       "_view_module_version": "^0.1.96",
       "classes": [
        "5f04b7a2c8e1478a954715cda2ef119d"
       ],
       "data": {
        "id": "dc42a1d77e1f4c27acf54ca061dc5920",
        "parent": "5f04b7a2c8e1478a954715cda2ef119d",
        "source": "5f04b7a2c8e1478a954715cda2ef119d-5",
        "target": "5f04b7a2c8e1478a954715cda2ef119d-3"
       },
       "group": "edges"
      }
     },
     "1a86006fe8b4406cfff086679917632a": {
      "model_module": "cl-cytoscape",
      "model_module_version": "^0.1.96",
      "model_name": "ElementModel",
      "state": {
       "_model_module_version": "^0.1.96",
       "_view_module_version": "^0.1.96",
       "classes": [
        "5f04b7a2c8e1478a954715cda2ef119d"
       ],
       "data": {
        "id": "56db051e660c44f89dfc5d789c4971c4",
        "parent": "5f04b7a2c8e1478a954715cda2ef119d",
        "source": "5f04b7a2c8e1478a954715cda2ef119d-4",
        "target": "5f04b7a2c8e1478a954715cda2ef119d-3"
       },
       "group": "edges"
      }
     },
     "1c656e65212b418da24bd112d7fc8923": {
      "model_module": "@jupyter-widgets/base",
      "model_module_version": "1.2.0",
      "model_name": "LayoutModel",
      "state": {
       "height": "640px"
      }
     },
     "1d4e0df8590742928547ff63c8011cc6": {
      "model_module": "cl-cytoscape",
      "model_module_version": "^0.1.96",
      "model_name": "ElementModel",
      "state": {
       "_model_module_version": "^0.1.96",
       "_view_module_version": "^0.1.96",
       "classes": [
        "8d7c137bdf704d1c51ca546adb1fe3da"
       ],
       "data": {
        "id": "050dd69be2e24a47a5c42b14a8fc3e4e",
        "parent": "8d7c137bdf704d1c51ca546adb1fe3da",
        "source": "8d7c137bdf704d1c51ca546adb1fe3da-1",
        "target": "8d7c137bdf704d1c51ca546adb1fe3da-6"
       },
       "group": "edges"
      }
     },
     "20672663cf4f490f01464a85bc246fcf": {
      "model_module": "cl-cytoscape",
      "model_module_version": "^0.1.96",
      "model_name": "ElementModel",
      "state": {
       "_model_module_version": "^0.1.96",
       "_view_module_version": "^0.1.96",
       "classes": [
        "71355ee371f141e87b14d056dd16dd34",
        "child"
       ],
       "data": {
        "id": "71355ee371f141e87b14d056dd16dd34-1",
        "name": "1",
        "parent": "71355ee371f141e87b14d056dd16dd34"
       },
       "position": {
        "x": 178.2842712474619,
        "y": 480
       }
      }
     },
     "25c236ba471942521646efde4324d3f7": {
      "model_module": "cl-cytoscape",
      "model_module_version": "^0.1.96",
      "model_name": "ElementModel",
      "state": {
       "_model_module_version": "^0.1.96",
       "_view_module_version": "^0.1.96",
       "classes": [
        "3b13cd9da2764d2eac197640f66528e9",
        "child"
       ],
       "data": {
        "id": "3b13cd9da2764d2eac197640f66528e9-4",
        "name": "4",
        "parent": "3b13cd9da2764d2eac197640f66528e9"
       },
       "position": {
        "x": 630,
        "y": 402.101331745931
       }
      }
     },
     "29550a1d1f9647faff0243b73a8429f1": {
      "model_module": "cl-cytoscape",
      "model_module_version": "^0.1.96",
      "model_name": "ElementModel",
      "state": {
       "_model_module_version": "^0.1.96",
       "_view_module_version": "^0.1.96",
       "classes": [
        "c3d86c88893640327956e5eeabf99360",
        "child"
       ],
       "data": {
        "id": "c3d86c88893640327956e5eeabf99360-4",
        "name": "4",
        "parent": "c3d86c88893640327956e5eeabf99360"
       },
       "position": {
        "x": 837.3034443129466,
        "y": 476.03760596686203
       }
      }
     },
     "29e56933fc53409f934d95ede20496bc": {
      "model_module": "cl-cytoscape",
      "model_module_version": "^0.1.96",
      "model_name": "ElementModel",
      "state": {
       "_model_module_version": "^0.1.96",
       "_view_module_version": "^0.1.96",
       "classes": [
        "c3d86c88893640327956e5eeabf99360"
       ],
       "data": {
        "id": "2a13d5db88be4fb49291296a916a6f57",
        "parent": "c3d86c88893640327956e5eeabf99360",
        "source": "c3d86c88893640327956e5eeabf99360-1",
        "target": "c3d86c88893640327956e5eeabf99360-5"
       },
       "group": "edges"
      }
     },
     "29fe2a7320554259157784d9fee22921": {
      "model_module": "cl-cytoscape",
      "model_module_version": "^0.1.96",
      "model_name": "ElementModel",
      "state": {
       "_model_module_version": "^0.1.96",
       "_view_module_version": "^0.1.96",
       "classes": [
        "e760e5ca4ebb4d570a324abda1bc40d3",
        "child"
       ],
       "data": {
        "id": "e760e5ca4ebb4d570a324abda1bc40d3-3",
        "name": "3",
        "parent": "e760e5ca4ebb4d570a324abda1bc40d3"
       },
       "position": {
        "x": 374,
        "y": 42
       }
      }
     },
     "2e03c5397e84449794c51da5a9d18477": {
      "model_module": "cl-cytoscape",
      "model_module_version": "^0.1.96",
      "model_name": "CoseLayoutModel",
      "state": {
       "_model_module_version": "^0.1.96",
       "_view_module_version": "^0.1.96",
       "animation_duration": 250,
       "bounding_box": {
        "h": 300,
        "w": 300,
        "x1": 330,
        "y1": 330
       },
       "fit": false,
       "refresh": 10,
       "selector": ".3b13cd9da2764d2eac197640f66528e9"
      }
     },
     "2ed7f03d90cc4e61db759872a7396daf": {
      "model_module": "cl-cytoscape",
      "model_module_version": "^0.1.96",
      "model_name": "ElementModel",
      "state": {
       "_model_module_version": "^0.1.96",
       "_view_module_version": "^0.1.96",
       "classes": [
        "e760e5ca4ebb4d570a324abda1bc40d3",
        "child"
       ],
       "data": {
        "id": "e760e5ca4ebb4d570a324abda1bc40d3-1",
        "name": "1",
        "parent": "e760e5ca4ebb4d570a324abda1bc40d3"
       },
       "position": {
        "x": 432,
        "y": 69
       }
      }
     },
     "2fc5038c3baa49c6890192f068e41759": {
      "model_module": "cl-cytoscape",
      "model_module_version": "^0.1.96",
      "model_name": "ElementModel",
      "state": {
       "_model_module_version": "^0.1.96",
       "_view_module_version": "^0.1.96",
       "classes": [
        "8d7c137bdf704d1c51ca546adb1fe3da"
       ],
       "data": {
        "id": "0cf7161cc96446c8f9aee933498af6af",
        "parent": "8d7c137bdf704d1c51ca546adb1fe3da",
        "source": "8d7c137bdf704d1c51ca546adb1fe3da-0",
        "target": "8d7c137bdf704d1c51ca546adb1fe3da-1"
       },
       "group": "edges"
      }
     },
     "3168bebafb7b455d3aa9a399e1e31046": {
      "model_module": "cl-cytoscape",
      "model_module_version": "^0.1.96",
      "model_name": "ElementModel",
      "state": {
       "_model_module_version": "^0.1.96",
       "_view_module_version": "^0.1.96",
       "classes": [
        "3b13cd9da2764d2eac197640f66528e9",
        "child"
       ],
       "data": {
        "id": "3b13cd9da2764d2eac197640f66528e9-1",
        "name": "1",
        "parent": "3b13cd9da2764d2eac197640f66528e9"
       },
       "position": {
        "x": 565.9574228599583,
        "y": 486.82426260276964
       }
      }
     },
     "31fbe9c53d7d47361db697145b755b24": {
      "model_module": "cl-cytoscape",
      "model_module_version": "^0.1.96",
      "model_name": "ElementModel",
      "state": {
       "_model_module_version": "^0.1.96",
       "_view_module_version": "^0.1.96",
       "classes": [
        "3b13cd9da2764d2eac197640f66528e9"
       ],
       "data": {
        "id": "21e9ae35096b498109da6c0068ff40f4",
        "parent": "3b13cd9da2764d2eac197640f66528e9",
        "source": "3b13cd9da2764d2eac197640f66528e9-0",
        "target": "3b13cd9da2764d2eac197640f66528e9-1"
       },
       "group": "edges"
      }
     },
     "3361e616fbda4419468981b86ad2e520": {
      "model_module": "cl-cytoscape",
      "model_module_version": "^0.1.96",
      "model_name": "ElementModel",
      "state": {
       "_model_module_version": "^0.1.96",
       "_view_module_version": "^0.1.96",
       "classes": [
        "e760e5ca4ebb4d570a324abda1bc40d3"
       ],
       "data": {
        "id": "598fc29a635d41e0ddbe02c19ed98070",
        "parent": "e760e5ca4ebb4d570a324abda1bc40d3",
        "source": "e760e5ca4ebb4d570a324abda1bc40d3-1",
        "target": "e760e5ca4ebb4d570a324abda1bc40d3-6"
       },
       "group": "edges"
      }
     },
     "35c0dbd4cca54fd53dfa006dcb58017d": {
      "model_module": "cl-cytoscape",
      "model_module_version": "^0.1.96",
      "model_name": "ElementModel",
      "state": {
       "_model_module_version": "^0.1.96",
       "_view_module_version": "^0.1.96",
       "classes": [
        "d35ac9af10124a22566fa5b17e829a55"
       ],
       "data": {
        "id": "f69b1f12bea34991fc95dbf1c008b509",
        "parent": "d35ac9af10124a22566fa5b17e829a55",
        "source": "d35ac9af10124a22566fa5b17e829a55-4",
        "target": "d35ac9af10124a22566fa5b17e829a55-3"
       },
       "group": "edges"
      }
     },
     "3742d9cd366144f8f8475498a2d6189c": {
      "model_module": "cl-cytoscape",
      "model_module_version": "^0.1.96",
      "model_name": "ElementModel",
      "state": {
       "_model_module_version": "^0.1.96",
       "_view_module_version": "^0.1.96",
       "classes": [
        "e760e5ca4ebb4d570a324abda1bc40d3"
       ],
       "data": {
        "id": "bc2ccc7491b34b04a0bcf3fe90376cb2",
        "parent": "e760e5ca4ebb4d570a324abda1bc40d3",
        "source": "e760e5ca4ebb4d570a324abda1bc40d3-3",
        "target": "e760e5ca4ebb4d570a324abda1bc40d3-6"
       },
       "group": "edges"
      }
     },
     "38908b6e9ed74f6c26e80142e4a79d28": {
      "model_module": "cl-cytoscape",
      "model_module_version": "^0.1.96",
      "model_name": "ElementModel",
      "state": {
       "_model_module_version": "^0.1.96",
       "_view_module_version": "^0.1.96",
       "classes": [
        "3b13cd9da2764d2eac197640f66528e9"
       ],
       "data": {
        "id": "3b13cd9da2764d2eac197640f66528e9",
        "name": "cose-layout"
       },
       "position": {
        "x": 563.6502710234904,
        "y": 480
       }
      }
     },
     "38afeee627e74c635452cef7e8da6b39": {
      "model_module": "cl-cytoscape",
      "model_module_version": "^0.1.96",
      "model_name": "ElementModel",
      "state": {
       "_model_module_version": "^0.1.96",
       "_view_module_version": "^0.1.96",
       "classes": [
        "3b13cd9da2764d2eac197640f66528e9"
       ],
       "data": {
        "id": "d5acf116995846951c39f774139ab724",
        "parent": "3b13cd9da2764d2eac197640f66528e9",
        "source": "3b13cd9da2764d2eac197640f66528e9-3",
        "target": "3b13cd9da2764d2eac197640f66528e9-1"
       },
       "group": "edges"
      }
     },
     "3967804a437b448f902832b22ab88c63": {
      "model_module": "cl-cytoscape",
      "model_module_version": "^0.1.96",
      "model_name": "ConcentricLayoutModel",
      "state": {
       "_model_module_version": "^0.1.96",
       "_view_module_version": "^0.1.96",
       "animate": true,
       "animation_duration": 250,
       "bounding_box": {
        "h": 300,
        "w": 300,
        "x1": 0,
        "y1": 330
       },
       "fit": false,
       "selector": ".71355ee371f141e87b14d056dd16dd34"
      }
     },
     "399095e535194609676bb3fbb53badd8": {
      "model_module": "cl-cytoscape",
      "model_module_version": "^0.1.96",
      "model_name": "ElementModel",
      "state": {
       "_model_module_version": "^0.1.96",
       "_view_module_version": "^0.1.96",
       "classes": [
        "e760e5ca4ebb4d570a324abda1bc40d3"
       ],
       "data": {
        "id": "7992657e867a43f5c8e25a0de986ebb0",
        "parent": "e760e5ca4ebb4d570a324abda1bc40d3",
        "source": "e760e5ca4ebb4d570a324abda1bc40d3-5",
        "target": "e760e5ca4ebb4d570a324abda1bc40d3-6"
       },
       "group": "edges"
      }
     },
     "3a9b0f6158324ca0bbb5c26c1e27bd5d": {
      "model_module": "cl-cytoscape",
      "model_module_version": "^0.1.96",
      "model_name": "ElementModel",
      "state": {
       "_model_module_version": "^0.1.96",
       "_view_module_version": "^0.1.96",
       "classes": [
        "8d7c137bdf704d1c51ca546adb1fe3da"
       ],
       "data": {
        "id": "9e6fc7c07bd04d482c6754c03a196176",
        "parent": "8d7c137bdf704d1c51ca546adb1fe3da",
        "source": "8d7c137bdf704d1c51ca546adb1fe3da-3",
        "target": "8d7c137bdf704d1c51ca546adb1fe3da-1"
       },
       "group": "edges"
      }
     },
     "3af80ddc450548d0889446223b6941f9": {
      "model_module": "cl-cytoscape",
      "model_module_version": "^0.1.96",
      "model_name": "ElementModel",
      "state": {
       "_model_module_version": "^0.1.96",
       "_view_module_version": "^0.1.96",
       "classes": [
        "8d7c137bdf704d1c51ca546adb1fe3da",
        "child"
       ],
       "data": {
        "id": "8d7c137bdf704d1c51ca546adb1fe3da-3",
        "name": "3",
        "parent": "8d7c137bdf704d1c51ca546adb1fe3da"
       },
       "position": {
        "x": 150,
        "y": 150
       }
      }
     },
     "3cdc5b4b91c44f7cf2ce072f9b624f33": {
      "model_module": "cl-cytoscape",
      "model_module_version": "^0.1.96",
      "model_name": "ElementModel",
      "state": {
       "_model_module_version": "^0.1.96",
       "_view_module_version": "^0.1.96",
       "classes": [
        "d35ac9af10124a22566fa5b17e829a55"
       ],
       "data": {
        "id": "d35ac9af10124a22566fa5b17e829a55",
        "name": "circle-layout"
       }
      }
     },
     "3e0acaef0f3f478463d17fdaa86b04a0": {
      "model_module": "cl-cytoscape",
      "model_module_version": "^0.1.96",
      "model_name": "ElementModel",
      "state": {
       "_model_module_version": "^0.1.96",
       "_view_module_version": "^0.1.96",
       "classes": [
        "c3d86c88893640327956e5eeabf99360"
       ],
       "data": {
        "id": "858584be09ce44fb8ba312a0475a08ae",
        "parent": "c3d86c88893640327956e5eeabf99360",
        "source": "c3d86c88893640327956e5eeabf99360-4",
        "target": "c3d86c88893640327956e5eeabf99360-5"
       },
       "group": "edges"
      }
     },
     "3e6e13c060c742d444e60a51bcdf3fef": {
      "model_module": "cl-cytoscape",
      "model_module_version": "^0.1.96",
      "model_name": "ElementModel",
      "state": {
       "_model_module_version": "^0.1.96",
       "_view_module_version": "^0.1.96",
       "classes": [
        "1dcf3484287e49cf9c7afc9268896e41",
        "child"
       ],
       "data": {
        "id": "1dcf3484287e49cf9c7afc9268896e41-6",
        "name": "6",
        "parent": "1dcf3484287e49cf9c7afc9268896e41"
       },
       "position": {
        "x": 710,
        "y": 250
       }
      }
     },
     "3f2508c9e7d8449b831daedab7ae7d25": {
      "model_module": "cl-cytoscape",
      "model_module_version": "^0.1.96",
      "model_name": "ElementModel",
      "state": {
       "_model_module_version": "^0.1.96",
       "_view_module_version": "^0.1.96",
       "classes": [
        "e760e5ca4ebb4d570a324abda1bc40d3"
       ],
       "data": {
        "id": "fc594f698e724809d76c851434b78a38",
        "parent": "e760e5ca4ebb4d570a324abda1bc40d3",
        "source": "e760e5ca4ebb4d570a324abda1bc40d3-0",
        "target": "e760e5ca4ebb4d570a324abda1bc40d3-5"
       },
       "group": "edges"
      }
     },
     "40dfe7bbe0e24b0e45936b05ab0dbb60": {
      "model_module": "cl-cytoscape",
      "model_module_version": "^0.1.96",
      "model_name": "ElementModel",
      "state": {
       "_model_module_version": "^0.1.96",
       "_view_module_version": "^0.1.96",
       "classes": [
        "1dcf3484287e49cf9c7afc9268896e41"
       ],
       "data": {
        "id": "dbf8d81b47d34d128b0a357a041fdcb8",
        "parent": "1dcf3484287e49cf9c7afc9268896e41",
        "source": "1dcf3484287e49cf9c7afc9268896e41-4",
        "target": "1dcf3484287e49cf9c7afc9268896e41-5"
       },
       "group": "edges"
      }
     },
     "40e7f1f849184fa401f4b98f7e5b4afc": {
      "model_module": "cl-cytoscape",
      "model_module_version": "^0.1.96",
      "model_name": "ElementModel",
      "state": {
       "_model_module_version": "^0.1.96",
       "_view_module_version": "^0.1.96",
       "classes": [
        "1dcf3484287e49cf9c7afc9268896e41"
       ],
       "data": {
        "id": "9b9088475550487f27c1b86f43a77f90",
        "parent": "1dcf3484287e49cf9c7afc9268896e41",
        "source": "1dcf3484287e49cf9c7afc9268896e41-3",
        "target": "1dcf3484287e49cf9c7afc9268896e41-6"
       },
       "group": "edges"
      }
     },
     "42204d00e5f24fe9d402714c1b5ae079": {
      "model_module": "cl-cytoscape",
      "model_module_version": "^0.1.96",
      "model_name": "ElementModel",
      "state": {
       "_model_module_version": "^0.1.96",
       "_view_module_version": "^0.1.96",
       "classes": [
        "c3d86c88893640327956e5eeabf99360"
       ],
       "data": {
        "id": "9116551446944021637be44f4bdaa663",
        "parent": "c3d86c88893640327956e5eeabf99360",
        "source": "c3d86c88893640327956e5eeabf99360-3",
        "target": "c3d86c88893640327956e5eeabf99360-1"
       },
       "group": "edges"
      }
     },
     "43ccec4fdf564dda027716aa01e4753a": {
      "model_module": "cl-cytoscape",
      "model_module_version": "^0.1.96",
      "model_name": "ElementModel",
      "state": {
       "_model_module_version": "^0.1.96",
       "_view_module_version": "^0.1.96",
       "classes": [
        "e760e5ca4ebb4d570a324abda1bc40d3"
       ],
       "data": {
        "id": "6f6ed023875b41b7b94ac0c7fe645452",
        "parent": "e760e5ca4ebb4d570a324abda1bc40d3",
        "source": "e760e5ca4ebb4d570a324abda1bc40d3-2",
        "target": "e760e5ca4ebb4d570a324abda1bc40d3-3"
       },
       "group": "edges"
      }
     },
     "4570645b50d8435b642935bfad9f9df3": {
      "model_module": "cl-cytoscape",
      "model_module_version": "^0.1.96",
      "model_name": "ElementModel",
      "state": {
       "_model_module_version": "^0.1.96",
       "_view_module_version": "^0.1.96",
       "classes": [
        "c3d86c88893640327956e5eeabf99360"
       ],
       "data": {
        "id": "53a7a0b2589e452d00b2c5893d41c2ca",
        "parent": "c3d86c88893640327956e5eeabf99360",
        "source": "c3d86c88893640327956e5eeabf99360-0",
        "target": "c3d86c88893640327956e5eeabf99360-5"
       },
       "group": "edges"
      }
     },
     "45a30651b02343a2d19661a61cacaa63": {
      "model_module": "cl-cytoscape",
      "model_module_version": "^0.1.96",
      "model_name": "ElementModel",
      "state": {
       "_model_module_version": "^0.1.96",
       "_view_module_version": "^0.1.96",
       "classes": [
        "1dcf3484287e49cf9c7afc9268896e41",
        "child"
       ],
       "data": {
        "id": "1dcf3484287e49cf9c7afc9268896e41-0",
        "name": "0",
        "parent": "1dcf3484287e49cf9c7afc9268896e41"
       },
       "position": {
        "x": 710,
        "y": 50
       }
      }
     },
     "469b7b159a0a4fed8a284b70f9f5bbb4": {
      "model_module": "cl-cytoscape",
      "model_module_version": "^0.1.96",
      "model_name": "ElementModel",
      "state": {
       "_model_module_version": "^0.1.96",
       "_view_module_version": "^0.1.96",
       "classes": [
        "71355ee371f141e87b14d056dd16dd34"
       ],
       "data": {
        "id": "71355ee371f141e87b14d056dd16dd34",
        "name": "concentric-layout"
       }
      }
     },
     "47fa39f0828f45618ab16e23a4e6b519": {
      "model_module": "cl-cytoscape",
      "model_module_version": "^0.1.96",
      "model_name": "ElementModel",
      "state": {
       "_model_module_version": "^0.1.96",
       "_view_module_version": "^0.1.96",
       "classes": [
        "1dcf3484287e49cf9c7afc9268896e41",
        "child"
       ],
       "data": {
        "id": "1dcf3484287e49cf9c7afc9268896e41-1",
        "name": "1",
        "parent": "1dcf3484287e49cf9c7afc9268896e41"
       },
       "position": {
        "x": 810,
        "y": 50
       }
      }
     },
     "48aa9fa3e5a7463f9b3aac0119d083ab": {
      "model_module": "cl-cytoscape",
      "model_module_version": "^0.1.96",
      "model_name": "ElementModel",
      "state": {
       "_model_module_version": "^0.1.96",
       "_view_module_version": "^0.1.96",
       "classes": [
        "e760e5ca4ebb4d570a324abda1bc40d3"
       ],
       "data": {
        "id": "bdbb627d6b834259c8a2a30e45c37b6f",
        "parent": "e760e5ca4ebb4d570a324abda1bc40d3",
        "source": "e760e5ca4ebb4d570a324abda1bc40d3-5",
        "target": "e760e5ca4ebb4d570a324abda1bc40d3-3"
       },
       "group": "edges"
      }
     },
     "48b3d45d88434b462d926b292f3332b0": {
      "model_module": "cl-cytoscape",
      "model_module_version": "^0.1.96",
      "model_name": "DagreLayoutModel",
      "state": {
       "_model_module_version": "^0.1.96",
       "_view_module_version": "^0.1.96",
       "animate": true,
       "animation_duration": 250,
       "bounding_box": {
        "h": 300,
        "w": 300,
        "x1": 990,
        "x2": 1290,
        "y1": 330,
        "y2": 630
       },
       "fit": false,
       "min_length": 1,
       "selector": ".5f04b7a2c8e1478a954715cda2ef119d"
      }
     },
     "493cdf4a9e424a3a54cadb788e8553d7": {
      "model_module": "cl-cytoscape",
      "model_module_version": "^0.1.96",
      "model_name": "ElementModel",
      "state": {
       "_model_module_version": "^0.1.96",
       "_view_module_version": "^0.1.96",
       "classes": [
        "5f04b7a2c8e1478a954715cda2ef119d"
       ],
       "data": {
        "id": "6dba5b1fb1014c5ff461262d2ff06941",
        "parent": "5f04b7a2c8e1478a954715cda2ef119d",
        "source": "5f04b7a2c8e1478a954715cda2ef119d-0",
        "target": "5f04b7a2c8e1478a954715cda2ef119d-5"
       },
       "group": "edges"
      }
     },
     "4a6fb210ae4e44d5ed249f9765d02cfd": {
      "model_module": "cl-cytoscape",
      "model_module_version": "^0.1.96",
      "model_name": "ElementModel",
      "state": {
       "_model_module_version": "^0.1.96",
       "_view_module_version": "^0.1.96",
       "classes": [
        "8d7c137bdf704d1c51ca546adb1fe3da",
        "child"
       ],
       "data": {
        "id": "8d7c137bdf704d1c51ca546adb1fe3da-5",
        "name": "5",
        "parent": "8d7c137bdf704d1c51ca546adb1fe3da"
       },
       "position": {
        "x": 225,
        "y": 150
       }
      }
     },
     "4b3e699edd15439feb46b7193441ade0": {
      "model_module": "cl-cytoscape",
      "model_module_version": "^0.1.96",
      "model_name": "ElementModel",
      "state": {
       "_model_module_version": "^0.1.96",
       "_view_module_version": "^0.1.96",
       "classes": [
        "3b13cd9da2764d2eac197640f66528e9"
       ],
       "data": {
        "id": "883d04988dda4f4ffbc28ce1b51de6d7",
        "parent": "3b13cd9da2764d2eac197640f66528e9",
        "source": "3b13cd9da2764d2eac197640f66528e9-2",
        "target": "3b13cd9da2764d2eac197640f66528e9-6"
       },
       "group": "edges"
      }
     },
     "4b6950647d37414c8a6dc4572e4bdd86": {
      "model_module": "cl-cytoscape",
      "model_module_version": "^0.1.96",
      "model_name": "ElementModel",
      "state": {
       "_model_module_version": "^0.1.96",
       "_view_module_version": "^0.1.96",
       "classes": [
        "d35ac9af10124a22566fa5b17e829a55"
       ],
       "data": {
        "id": "7145d0c8327142fa1e8cf56916631d4a",
        "parent": "d35ac9af10124a22566fa5b17e829a55",
        "source": "d35ac9af10124a22566fa5b17e829a55-1",
        "target": "d35ac9af10124a22566fa5b17e829a55-5"
       },
       "group": "edges"
      }
     },
     "4c67241214274eadb89756b104fd677f": {
      "model_module": "cl-cytoscape",
      "model_module_version": "^0.1.96",
      "model_name": "ElementModel",
      "state": {
       "_model_module_version": "^0.1.96",
       "_view_module_version": "^0.1.96",
       "classes": [
        "5f04b7a2c8e1478a954715cda2ef119d"
       ],
       "data": {
        "id": "b09828508d2940a38c99622f7bd9a88e",
        "parent": "5f04b7a2c8e1478a954715cda2ef119d",
        "source": "5f04b7a2c8e1478a954715cda2ef119d-3",
        "target": "5f04b7a2c8e1478a954715cda2ef119d-1"
       },
       "group": "edges"
      }
     },
     "4f302af5accf47559d15e2c108327f57": {
      "model_module": "cl-cytoscape",
      "model_module_version": "^0.1.96",
      "model_name": "ElementModel",
      "state": {
       "_model_module_version": "^0.1.96",
       "_view_module_version": "^0.1.96",
       "classes": [
        "e760e5ca4ebb4d570a324abda1bc40d3"
       ],
       "data": {
        "id": "e760e5ca4ebb4d570a324abda1bc40d3",
        "name": "random-layout"
       }
      }
     },
     "4fd1b6c435224da725cf1545088b9b9a": {
      "model_module": "cl-cytoscape",
      "model_module_version": "^0.1.96",
      "model_name": "ElementModel",
      "state": {
       "_model_module_version": "^0.1.96",
       "_view_module_version": "^0.1.96",
       "classes": [
        "71355ee371f141e87b14d056dd16dd34"
       ],
       "data": {
        "id": "c64a716974f64670c3da42778e3b1185",
        "parent": "71355ee371f141e87b14d056dd16dd34",
        "source": "71355ee371f141e87b14d056dd16dd34-2",
        "target": "71355ee371f141e87b14d056dd16dd34-1"
       },
       "group": "edges"
      }
     },
     "507e6c00b65b4614cc2127f0abc7b55c": {
      "model_module": "cl-cytoscape",
      "model_module_version": "^0.1.96",
      "model_name": "ElementModel",
      "state": {
       "_model_module_version": "^0.1.96",
       "_view_module_version": "^0.1.96",
       "classes": [
        "8d7c137bdf704d1c51ca546adb1fe3da"
       ],
       "data": {
        "id": "0c5c902ff41f4ef74b5c7265c1fd9c6a",
        "parent": "8d7c137bdf704d1c51ca546adb1fe3da",
        "source": "8d7c137bdf704d1c51ca546adb1fe3da-2",
        "target": "8d7c137bdf704d1c51ca546adb1fe3da-3"
       },
       "group": "edges"
      }
     },
     "512ff059f4614cfbafa2835058129802": {
      "model_module": "cl-cytoscape",
      "model_module_version": "^0.1.96",
      "model_name": "ElementModel",
      "state": {
       "_model_module_version": "^0.1.96",
       "_view_module_version": "^0.1.96",
       "classes": [
        "d35ac9af10124a22566fa5b17e829a55"
       ],
       "data": {
        "id": "1c2979f7bb9d4f51d0916b08cf76a67e",
        "parent": "d35ac9af10124a22566fa5b17e829a55",
        "source": "d35ac9af10124a22566fa5b17e829a55-0",
        "target": "d35ac9af10124a22566fa5b17e829a55-1"
       },
       "group": "edges"
      }
     },
     "526dd65629f546e8192e1d9758cecd56": {
      "model_module": "cl-cytoscape",
      "model_module_version": "^0.1.96",
      "model_name": "ElementModel",
      "state": {
       "_model_module_version": "^0.1.96",
       "_view_module_version": "^0.1.96",
       "classes": [
        "71355ee371f141e87b14d056dd16dd34",
        "child"
       ],
       "data": {
        "id": "71355ee371f141e87b14d056dd16dd34-4",
        "name": "4",
        "parent": "71355ee371f141e87b14d056dd16dd34"
       },
       "position": {
        "x": 90.86408642079067,
        "y": 514.142135623731
       }
      }
     },
     "53e1b4f5e174416f3024d6d8ee362135": {
      "model_module": "cl-cytoscape",
      "model_module_version": "^0.1.96",
      "model_name": "ElementModel",
      "state": {
       "_model_module_version": "^0.1.96",
       "_view_module_version": "^0.1.96",
       "classes": [
        "d35ac9af10124a22566fa5b17e829a55"
       ],
       "data": {
        "id": "1bc5724627d04b6905db8e83cd0287ac",
        "parent": "d35ac9af10124a22566fa5b17e829a55",
        "source": "d35ac9af10124a22566fa5b17e829a55-3",
        "target": "d35ac9af10124a22566fa5b17e829a55-6"
       },
       "group": "edges"
      }
     },
     "540ba2ee295749296ce979124bde9624": {
      "model_module": "cl-cytoscape",
      "model_module_version": "^0.1.96",
      "model_name": "ElementModel",
      "state": {
       "_model_module_version": "^0.1.96",
       "_view_module_version": "^0.1.96",
       "classes": [
        "e760e5ca4ebb4d570a324abda1bc40d3",
        "child"
       ],
       "data": {
        "id": "e760e5ca4ebb4d570a324abda1bc40d3-2",
        "name": "2",
        "parent": "e760e5ca4ebb4d570a324abda1bc40d3"
       },
       "position": {
        "x": 608,
        "y": 59
       }
      }
     },
     "55a27e8d73694a2e5db8f3913f098c91": {
      "model_module": "cl-cytoscape",
      "model_module_version": "^0.1.96",
      "model_name": "ElementModel",
      "state": {
       "_model_module_version": "^0.1.96",
       "_view_module_version": "^0.1.96",
       "classes": [
        "d35ac9af10124a22566fa5b17e829a55",
        "child"
       ],
       "data": {
        "id": "d35ac9af10124a22566fa5b17e829a55-0",
        "name": "0",
        "parent": "d35ac9af10124a22566fa5b17e829a55"
       },
       "position": {
        "x": 1140,
        "y": 30
       }
      }
     },
     "56f9b6a3f9e744b3e9afdfa58aa29131": {
      "model_module": "cl-cytoscape",
      "model_module_version": "^0.1.96",
      "model_name": "ElementModel",
      "state": {
       "_model_module_version": "^0.1.96",
       "_view_module_version": "^0.1.96",
       "classes": [
        "8d7c137bdf704d1c51ca546adb1fe3da"
       ],
       "data": {
        "id": "52a85cca82464770340e7a6817b6f39d",
        "parent": "8d7c137bdf704d1c51ca546adb1fe3da",
        "source": "8d7c137bdf704d1c51ca546adb1fe3da-5",
        "target": "8d7c137bdf704d1c51ca546adb1fe3da-6"
       },
       "group": "edges"
      }
     },
     "58f21fbaf28641ce3a5acb5c35016942": {
      "model_module": "cl-cytoscape",
      "model_module_version": "^0.1.96",
      "model_name": "ElementModel",
      "state": {
       "_model_module_version": "^0.1.96",
       "_view_module_version": "^0.1.96",
       "classes": [
        "c3d86c88893640327956e5eeabf99360"
       ],
       "data": {
        "id": "077f55f3ac8d4b5abe624d5f3b812755",
        "parent": "c3d86c88893640327956e5eeabf99360",
        "source": "c3d86c88893640327956e5eeabf99360-1",
        "target": "c3d86c88893640327956e5eeabf99360-6"
       },
       "group": "edges"
      }
     },
     "5957c4e505ad434eb6a27bf1cb1a0f4b": {
      "model_module": "cl-cytoscape",
      "model_module_version": "^0.1.96",
      "model_name": "ElementModel",
      "state": {
       "_model_module_version": "^0.1.96",
       "_view_module_version": "^0.1.96",
       "classes": [
        "71355ee371f141e87b14d056dd16dd34"
       ],
       "data": {
        "id": "33f35acd54f24d1c91e47ddf49d89ff9",
        "parent": "71355ee371f141e87b14d056dd16dd34",
        "source": "71355ee371f141e87b14d056dd16dd34-1",
        "target": "71355ee371f141e87b14d056dd16dd34-5"
       },
       "group": "edges"
      }
     },
     "5b45e7fcb2344c717020e0a4a60f8540": {
      "model_module": "cl-cytoscape",
      "model_module_version": "^0.1.96",
      "model_name": "ElementModel",
      "state": {
       "_model_module_version": "^0.1.96",
       "_view_module_version": "^0.1.96",
       "classes": [
        "71355ee371f141e87b14d056dd16dd34",
        "child"
       ],
       "data": {
        "id": "71355ee371f141e87b14d056dd16dd34-3",
        "name": "3",
        "parent": "71355ee371f141e87b14d056dd16dd34"
       },
       "position": {
        "x": 150,
        "y": 508.2842712474619
       }
      }
     },
     "5b6304edd17e449b5fae4e7403e0379f": {
      "model_module": "cl-cytoscape",
      "model_module_version": "^0.1.96",
      "model_name": "ElementModel",
      "state": {
       "_model_module_version": "^0.1.96",
       "_view_module_version": "^0.1.96",
       "classes": [
        "71355ee371f141e87b14d056dd16dd34",
        "child"
       ],
       "data": {
        "id": "71355ee371f141e87b14d056dd16dd34-2",
        "name": "2",
        "parent": "71355ee371f141e87b14d056dd16dd34"
       },
       "position": {
        "x": 209.13591357920933,
        "y": 514.142135623731
       }
      }
     },
     "5b9640d6a3454febfb5ca1c0eb137ccf": {
      "model_module": "cl-cytoscape",
      "model_module_version": "^0.1.96",
      "model_name": "ElementModel",
      "state": {
       "_model_module_version": "^0.1.96",
       "_view_module_version": "^0.1.96",
       "classes": [
        "8d7c137bdf704d1c51ca546adb1fe3da",
        "child"
       ],
       "data": {
        "id": "8d7c137bdf704d1c51ca546adb1fe3da-0",
        "name": "0",
        "parent": "8d7c137bdf704d1c51ca546adb1fe3da"
       },
       "position": {
        "x": 37.5,
        "y": 150
       }
      }
     },
     "5c016388567447a5cd290d45635eeac8": {
      "model_module": "cl-cytoscape",
      "model_module_version": "^0.1.96",
      "model_name": "ElementModel",
      "state": {
       "_model_module_version": "^0.1.96",
       "_view_module_version": "^0.1.96",
       "classes": [
        "c3d86c88893640327956e5eeabf99360"
       ],
       "data": {
        "id": "240c6cc941384073b280a669944d1184",
        "parent": "c3d86c88893640327956e5eeabf99360",
        "source": "c3d86c88893640327956e5eeabf99360-0",
        "target": "c3d86c88893640327956e5eeabf99360-1"
       },
       "group": "edges"
      }
     },
     "5e1d5378f99a4400b6a0662c42e3ac4e": {
      "model_module": "cl-cytoscape",
      "model_module_version": "^0.1.96",
      "model_name": "ElementModel",
      "state": {
       "_model_module_version": "^0.1.96",
       "_view_module_version": "^0.1.96",
       "classes": [
        "d35ac9af10124a22566fa5b17e829a55",
        "child"
       ],
       "data": {
        "id": "d35ac9af10124a22566fa5b17e829a55-5",
        "name": "5",
        "parent": "d35ac9af10124a22566fa5b17e829a55"
       },
       "position": {
        "x": 1023.0086505381812,
        "y": 176.70251207475778
       }
      }
     },
     "5ee403cb93324a926a0a4d1e32f6d81d": {
      "model_module": "cl-cytoscape",
      "model_module_version": "^0.1.96",
      "model_name": "ElementModel",
      "state": {
       "_model_module_version": "^0.1.96",
       "_view_module_version": "^0.1.96",
       "classes": [
        "3b13cd9da2764d2eac197640f66528e9"
       ],
       "data": {
        "id": "31e031009c6d47319e78db7c1fef74a1",
        "parent": "3b13cd9da2764d2eac197640f66528e9",
        "source": "3b13cd9da2764d2eac197640f66528e9-4",
        "target": "3b13cd9da2764d2eac197640f66528e9-5"
       },
       "group": "edges"
      }
     },
     "6322453a01844070d3e95c0d24067040": {
      "model_module": "cl-cytoscape",
      "model_module_version": "^0.1.96",
      "model_name": "ElementModel",
      "state": {
       "_model_module_version": "^0.1.96",
       "_view_module_version": "^0.1.96",
       "classes": [
        "1dcf3484287e49cf9c7afc9268896e41"
       ],
       "data": {
        "id": "5bbfeea13da447b46d1815a89c0d03ca",
        "parent": "1dcf3484287e49cf9c7afc9268896e41",
        "source": "1dcf3484287e49cf9c7afc9268896e41-5",
        "target": "1dcf3484287e49cf9c7afc9268896e41-6"
       },
       "group": "edges"
      }
     },
     "6584757f6bf9431992cc4e4a02e7eea9": {
      "model_module": "cl-cytoscape",
      "model_module_version": "^0.1.96",
      "model_name": "ElementModel",
      "state": {
       "_model_module_version": "^0.1.96",
       "_view_module_version": "^0.1.96",
       "classes": [
        "c3d86c88893640327956e5eeabf99360"
       ],
       "data": {
        "id": "1d1af9f2f2874f6af4c05879a86eaa2c",
        "parent": "c3d86c88893640327956e5eeabf99360",
        "source": "c3d86c88893640327956e5eeabf99360-2",
        "target": "c3d86c88893640327956e5eeabf99360-1"
       },
       "group": "edges"
      }
     },
     "66617acfa6964548422374900a2e0a17": {
      "model_module": "cl-cytoscape",
      "model_module_version": "^0.1.96",
      "model_name": "ElementModel",
      "state": {
       "_model_module_version": "^0.1.96",
       "_view_module_version": "^0.1.96",
       "classes": [
        "1dcf3484287e49cf9c7afc9268896e41"
       ],
       "data": {
        "id": "251d661110cf4c25256df48cd12f89cd",
        "parent": "1dcf3484287e49cf9c7afc9268896e41",
        "source": "1dcf3484287e49cf9c7afc9268896e41-0",
        "target": "1dcf3484287e49cf9c7afc9268896e41-5"
       },
       "group": "edges"
      }
     },
     "66be2a09f30446381bf5f8541a5b11e7": {
      "model_module": "cl-cytoscape",
      "model_module_version": "^0.1.96",
      "model_name": "ElementModel",
      "state": {
       "_model_module_version": "^0.1.96",
       "_view_module_version": "^0.1.96",
       "classes": [
        "8d7c137bdf704d1c51ca546adb1fe3da"
       ],
       "data": {
        "id": "57ce399c6132468cb254ca745884bcac",
        "parent": "8d7c137bdf704d1c51ca546adb1fe3da",
        "source": "8d7c137bdf704d1c51ca546adb1fe3da-1",
        "target": "8d7c137bdf704d1c51ca546adb1fe3da-5"
       },
       "group": "edges"
      }
     },
     "66f5f6101a3e4bd7c8a9f0abe10ab237": {
      "model_module": "cl-cytoscape",
      "model_module_version": "^0.1.96",
      "model_name": "ElementModel",
      "state": {
       "_model_module_version": "^0.1.96",
       "_view_module_version": "^0.1.96",
       "classes": [
        "d35ac9af10124a22566fa5b17e829a55"
       ],
       "data": {
        "id": "fc50ff80ed91478bf95e03fc978f9031",
        "parent": "d35ac9af10124a22566fa5b17e829a55",
        "source": "d35ac9af10124a22566fa5b17e829a55-1",
        "target": "d35ac9af10124a22566fa5b17e829a55-6"
       },
       "group": "edges"
      }
     },
     "6715825d9f03463ff7ab24aa218e0010": {
      "model_module": "cl-cytoscape",
      "model_module_version": "^0.1.96",
      "model_name": "ElementModel",
      "state": {
       "_model_module_version": "^0.1.96",
       "_view_module_version": "^0.1.96",
       "classes": [
        "71355ee371f141e87b14d056dd16dd34"
       ],
       "data": {
        "id": "99b334f6bd924f63e841a8e6d10b09b9",
        "parent": "71355ee371f141e87b14d056dd16dd34",
        "source": "71355ee371f141e87b14d056dd16dd34-5",
        "target": "71355ee371f141e87b14d056dd16dd34-3"
       },
       "group": "edges"
      }
     },
     "69f6642545324dc113b8db8652d68bb8": {
      "model_module": "cl-cytoscape",
      "model_module_version": "^0.1.96",
      "model_name": "ElementModel",
      "state": {
       "_model_module_version": "^0.1.96",
       "_view_module_version": "^0.1.96",
       "classes": [
        "1dcf3484287e49cf9c7afc9268896e41"
       ],
       "data": {
        "id": "4620b2e1aac744d6388ad0ba800b2cf0",
        "parent": "1dcf3484287e49cf9c7afc9268896e41",
        "source": "1dcf3484287e49cf9c7afc9268896e41-4",
        "target": "1dcf3484287e49cf9c7afc9268896e41-6"
       },
       "group": "edges"
      }
     },
     "6a1f21bfaf34463b5387fa6eb8dd462f": {
      "model_module": "cl-cytoscape",
      "model_module_version": "^0.1.96",
      "model_name": "ElementModel",
      "state": {
       "_model_module_version": "^0.1.96",
       "_view_module_version": "^0.1.96",
       "classes": [
        "e760e5ca4ebb4d570a324abda1bc40d3"
       ],
       "data": {
        "id": "1ec46465ab604d16ea8569374f73a340",
        "parent": "e760e5ca4ebb4d570a324abda1bc40d3",
        "source": "e760e5ca4ebb4d570a324abda1bc40d3-0",
        "target": "e760e5ca4ebb4d570a324abda1bc40d3-1"
       },
       "group": "edges"
      }
     },
     "6c1b1df39e6d44d980d0fb58d4b7a252": {
      "model_module": "cl-cytoscape",
      "model_module_version": "^0.1.96",
      "model_name": "ElementModel",
      "state": {
       "_model_module_version": "^0.1.96",
       "_view_module_version": "^0.1.96",
       "classes": [
        "c3d86c88893640327956e5eeabf99360"
       ],
       "data": {
        "id": "7198a33674304fe538701937b427bd67",
        "parent": "c3d86c88893640327956e5eeabf99360",
        "source": "c3d86c88893640327956e5eeabf99360-5",
        "target": "c3d86c88893640327956e5eeabf99360-3"
       },
       "group": "edges"
      }
     },
     "6cc1b7ec6a2c492d97a78cba3af92cc8": {
      "model_module": "cl-cytoscape",
      "model_module_version": "^0.1.96",
      "model_name": "ElementModel",
      "state": {
       "_model_module_version": "^0.1.96",
       "_view_module_version": "^0.1.96",
       "classes": [
        "8d7c137bdf704d1c51ca546adb1fe3da"
       ],
       "data": {
        "id": "56793edd9a8042a181ce1b5ef33ccfc4",
        "parent": "8d7c137bdf704d1c51ca546adb1fe3da",
        "source": "8d7c137bdf704d1c51ca546adb1fe3da-3",
        "target": "8d7c137bdf704d1c51ca546adb1fe3da-6"
       },
       "group": "edges"
      }
     },
     "6d6996546ed04bee9c2ea4fccfcdd0fd": {
      "model_module": "cl-cytoscape",
      "model_module_version": "^0.1.96",
      "model_name": "ColaLayoutModel",
      "state": {
       "_model_module_version": "^0.1.96",
       "_view_module_version": "^0.1.96",
       "bounding_box": {
        "h": 300,
        "w": 300,
        "x1": 660,
        "x2": 960,
        "y1": 330,
        "y2": 630
       },
       "fit": false,
       "handle_disconnected": false,
       "selector": ".c3d86c88893640327956e5eeabf99360",
       "unconst_iter": null,
       "ungrabify_while_simulating": false
      }
     },
     "6d97e46827394239eb2e612124f6a2dd": {
      "model_module": "cl-cytoscape",
      "model_module_version": "^0.1.96",
      "model_name": "ElementModel",
      "state": {
       "_model_module_version": "^0.1.96",
       "_view_module_version": "^0.1.96",
       "classes": [
        "c3d86c88893640327956e5eeabf99360"
       ],
       "data": {
        "id": "d241016754a943c565c1959853c91153",
        "parent": "c3d86c88893640327956e5eeabf99360",
        "source": "c3d86c88893640327956e5eeabf99360-0",
        "target": "c3d86c88893640327956e5eeabf99360-6"
       },
       "group": "edges"
      }
     },
     "6dac63169f964f127cc0d393fe476f24": {
      "model_module": "cl-cytoscape",
      "model_module_version": "^0.1.96",
      "model_name": "ElementModel",
      "state": {
       "_model_module_version": "^0.1.96",
       "_view_module_version": "^0.1.96",
       "classes": [
        "1dcf3484287e49cf9c7afc9268896e41",
        "child"
       ],
       "data": {
        "id": "1dcf3484287e49cf9c7afc9268896e41-2",
        "name": "2",
        "parent": "1dcf3484287e49cf9c7afc9268896e41"
       },
       "position": {
        "x": 910,
        "y": 50
       }
      }
     },
     "6f23d350e5e74d81047af59f0abbcb90": {
      "model_module": "cl-cytoscape",
      "model_module_version": "^0.1.96",
      "model_name": "ElementModel",
      "state": {
       "_model_module_version": "^0.1.96",
       "_view_module_version": "^0.1.96",
       "classes": [
        "3b13cd9da2764d2eac197640f66528e9"
       ],
       "data": {
        "id": "38ef7685fa8049cb15a756caae62a68b",
        "parent": "3b13cd9da2764d2eac197640f66528e9",
        "source": "3b13cd9da2764d2eac197640f66528e9-5",
        "target": "3b13cd9da2764d2eac197640f66528e9-6"
       },
       "group": "edges"
      }
     },
     "7040489ca184454638640324b1c8421e": {
      "model_module": "cl-cytoscape",
      "model_module_version": "^0.1.96",
      "model_name": "ElementModel",
      "state": {
       "_model_module_version": "^0.1.96",
       "_view_module_version": "^0.1.96",
       "classes": [
        "8d7c137bdf704d1c51ca546adb1fe3da"
       ],
       "data": {
        "id": "89e5af57f4894c4a9b930658d7efe319",
        "parent": "8d7c137bdf704d1c51ca546adb1fe3da",
        "source": "8d7c137bdf704d1c51ca546adb1fe3da-0",
        "target": "8d7c137bdf704d1c51ca546adb1fe3da-5"
       },
       "group": "edges"
      }
     },
     "70eae882d32a4609bc4a6a361efb20e0": {
      "model_module": "cl-cytoscape",
      "model_module_version": "^0.1.96",
      "model_name": "ElementModel",
      "state": {
       "_model_module_version": "^0.1.96",
       "_view_module_version": "^0.1.96",
       "classes": [
        "5f04b7a2c8e1478a954715cda2ef119d"
       ],
       "data": {
        "id": "0ce87b2d3a0048264129f89d008848c1",
        "parent": "5f04b7a2c8e1478a954715cda2ef119d",
        "source": "5f04b7a2c8e1478a954715cda2ef119d-2",
        "target": "5f04b7a2c8e1478a954715cda2ef119d-1"
       },
       "group": "edges"
      }
     },
     "71f7e9dd75dd4b10ee0e0b3ca2d1bcbf": {
      "model_module": "cl-cytoscape",
      "model_module_version": "^0.1.96",
      "model_name": "ElementModel",
      "state": {
       "_model_module_version": "^0.1.96",
       "_view_module_version": "^0.1.96",
       "classes": [
        "5f04b7a2c8e1478a954715cda2ef119d",
        "child"
       ],
       "data": {
        "id": "5f04b7a2c8e1478a954715cda2ef119d-2",
        "name": "2",
        "parent": "5f04b7a2c8e1478a954715cda2ef119d"
       },
       "position": {
        "x": 1290,
        "y": 330
       }
      }
     },
     "72e7c7b8fcd54fbc930d25af1294ecfb": {
      "model_module": "cl-cytoscape",
      "model_module_version": "^0.1.96",
      "model_name": "ElementModel",
      "state": {
       "_model_module_version": "^0.1.96",
       "_view_module_version": "^0.1.96",
       "classes": [
        "5f04b7a2c8e1478a954715cda2ef119d"
       ],
       "data": {
        "id": "a0c7e46ad7d24f020672800b843526cd",
        "parent": "5f04b7a2c8e1478a954715cda2ef119d",
        "source": "5f04b7a2c8e1478a954715cda2ef119d-5",
        "target": "5f04b7a2c8e1478a954715cda2ef119d-6"
       },
       "group": "edges"
      }
     },
     "73ba0d2c4903479ad41b1e5096e04e12": {
      "model_module": "cl-cytoscape",
      "model_module_version": "^0.1.96",
      "model_name": "ElementModel",
      "state": {
       "_model_module_version": "^0.1.96",
       "_view_module_version": "^0.1.96",
       "classes": [
        "3b13cd9da2764d2eac197640f66528e9"
       ],
       "data": {
        "id": "172f341da9d14f563f896d2658a0193e",
        "parent": "3b13cd9da2764d2eac197640f66528e9",
        "source": "3b13cd9da2764d2eac197640f66528e9-5",
        "target": "3b13cd9da2764d2eac197640f66528e9-3"
       },
       "group": "edges"
      }
     },
     "76f747c104d44f900b67a01b42ceabdc": {
      "model_module": "cl-cytoscape",
      "model_module_version": "^0.1.96",
      "model_name": "ElementModel",
      "state": {
       "_model_module_version": "^0.1.96",
       "_view_module_version": "^0.1.96",
       "classes": [
        "d35ac9af10124a22566fa5b17e829a55",
        "child"
       ],
       "data": {
        "id": "d35ac9af10124a22566fa5b17e829a55-6",
        "name": "6",
        "parent": "d35ac9af10124a22566fa5b17e829a55"
       },
       "position": {
        "x": 1046.1802221038365,
        "y": 75.18122377695201
       }
      }
     },
     "776459656d7f4105497148370e5b8394": {
      "model_module": "cl-cytoscape",
      "model_module_version": "^0.1.96",
      "model_name": "ElementModel",
      "state": {
       "_model_module_version": "^0.1.96",
       "_view_module_version": "^0.1.96",
       "classes": [
        "71355ee371f141e87b14d056dd16dd34",
        "child"
       ],
       "data": {
        "id": "71355ee371f141e87b14d056dd16dd34-0",
        "name": "0",
        "parent": "71355ee371f141e87b14d056dd16dd34"
       },
       "position": {
        "x": 150,
        "y": 411.7157287525381
       }
      }
     },
     "7a828863189e4d3bb51ec6a2d630e340": {
      "model_module": "cl-cytoscape",
      "model_module_version": "^0.1.96",
      "model_name": "ElementModel",
      "state": {
       "_model_module_version": "^0.1.96",
       "_view_module_version": "^0.1.96",
       "classes": [
        "e760e5ca4ebb4d570a324abda1bc40d3"
       ],
       "data": {
        "id": "186ce13da29b4884e8517480e8329b5b",
        "parent": "e760e5ca4ebb4d570a324abda1bc40d3",
        "source": "e760e5ca4ebb4d570a324abda1bc40d3-2",
        "target": "e760e5ca4ebb4d570a324abda1bc40d3-6"
       },
       "group": "edges"
      }
     },
     "7bbafbdf4d1045ad6c46067e19523c47": {
      "model_module": "cl-cytoscape",
      "model_module_version": "^0.1.96",
      "model_name": "ElementModel",
      "state": {
       "_model_module_version": "^0.1.96",
       "_view_module_version": "^0.1.96",
       "classes": [
        "c3d86c88893640327956e5eeabf99360"
       ],
       "data": {
        "id": "c3d86c88893640327956e5eeabf99360",
        "name": "cola-layout"
       },
       "position": {
        "x": 812.3034438129466,
        "y": 451.03760546686203
       }
      }
     },
     "7e1dc487aa6e4d37d880b7acaffb8167": {
      "model_module": "cl-cytoscape",
      "model_module_version": "^0.1.96",
      "model_name": "ElementModel",
      "state": {
       "_model_module_version": "^0.1.96",
       "_view_module_version": "^0.1.96",
       "classes": [
        "c3d86c88893640327956e5eeabf99360"
       ],
       "data": {
        "id": "1f3d5fe8dca74fc91e9b07cc216f4d02",
        "parent": "c3d86c88893640327956e5eeabf99360",
        "source": "c3d86c88893640327956e5eeabf99360-2",
        "target": "c3d86c88893640327956e5eeabf99360-6"
       },
       "group": "edges"
      }
     },
     "83b9ee2ca0e14e05bf5447d4c107c768": {
      "model_module": "cl-cytoscape",
      "model_module_version": "^0.1.96",
      "model_name": "ElementModel",
      "state": {
       "_model_module_version": "^0.1.96",
       "_view_module_version": "^0.1.96",
       "classes": [
        "8d7c137bdf704d1c51ca546adb1fe3da"
       ],
       "data": {
        "id": "f26f4aaff9a84d57ccb41cb8883790e6",
        "parent": "8d7c137bdf704d1c51ca546adb1fe3da",
        "source": "8d7c137bdf704d1c51ca546adb1fe3da-5",
        "target": "8d7c137bdf704d1c51ca546adb1fe3da-3"
       },
       "group": "edges"
      }
     },
     "86ffc946a2a24748dd9fee79ab7eb040": {
      "model_module": "cl-cytoscape",
      "model_module_version": "^0.1.96",
      "model_name": "ElementModel",
      "state": {
       "_model_module_version": "^0.1.96",
       "_view_module_version": "^0.1.96",
       "classes": [
        "d35ac9af10124a22566fa5b17e829a55",
        "child"
       ],
       "data": {
        "id": "d35ac9af10124a22566fa5b17e829a55-1",
        "name": "1",
        "parent": "d35ac9af10124a22566fa5b17e829a55"
       },
       "position": {
        "x": 1233.8197778961635,
        "y": 75.18122377695195
       }
      }
     },
     "8a7abca2d1484e987e4b98554d8c1200": {
      "model_module": "cl-cytoscape",
      "model_module_version": "^0.1.96",
      "model_name": "ElementModel",
      "state": {
       "_model_module_version": "^0.1.96",
       "_view_module_version": "^0.1.96",
       "classes": [
        "3b13cd9da2764d2eac197640f66528e9",
        "child"
       ],
       "data": {
        "id": "3b13cd9da2764d2eac197640f66528e9-2",
        "name": "2",
        "parent": "3b13cd9da2764d2eac197640f66528e9"
       },
       "position": {
        "x": 565.844374850008,
        "y": 330
       }
      }
     },
     "8aecc3dee9f44c5f74d9d39151bf0cf3": {
      "model_module": "cl-cytoscape",
      "model_module_version": "^0.1.96",
      "model_name": "ElementModel",
      "state": {
       "_model_module_version": "^0.1.96",
       "_view_module_version": "^0.1.96",
       "classes": [
        "c3d86c88893640327956e5eeabf99360",
        "child"
       ],
       "data": {
        "id": "c3d86c88893640327956e5eeabf99360-5",
        "name": "5",
        "parent": "c3d86c88893640327956e5eeabf99360"
       },
       "position": {
        "x": 887.3034453129466,
        "y": 476.03760596686203
       }
      }
     },
     "8b18d88e216441d69d469ae8a476d8c5": {
      "model_module": "cl-cytoscape",
      "model_module_version": "^0.1.96",
      "model_name": "ElementModel",
      "state": {
       "_model_module_version": "^0.1.96",
       "_view_module_version": "^0.1.96",
       "classes": [
        "d35ac9af10124a22566fa5b17e829a55"
       ],
       "data": {
        "id": "fab5efafa9024e103a4f0944fd8d8c2b",
        "parent": "d35ac9af10124a22566fa5b17e829a55",
        "source": "d35ac9af10124a22566fa5b17e829a55-4",
        "target": "d35ac9af10124a22566fa5b17e829a55-5"
       },
       "group": "edges"
      }
     },
     "8c63e6d02a2740e55389001b1d0c2bf3": {
      "model_module": "cl-cytoscape",
      "model_module_version": "^0.1.96",
      "model_name": "ElementModel",
      "state": {
       "_model_module_version": "^0.1.96",
       "_view_module_version": "^0.1.96",
       "classes": [
        "1dcf3484287e49cf9c7afc9268896e41",
        "child"
       ],
       "data": {
        "id": "1dcf3484287e49cf9c7afc9268896e41-3",
        "name": "3",
        "parent": "1dcf3484287e49cf9c7afc9268896e41"
       },
       "position": {
        "x": 710,
        "y": 150
       }
      }
     },
     "8d798d7bbe424f638d00710f78027f07": {
      "model_module": "cl-cytoscape",
      "model_module_version": "^0.1.96",
      "model_name": "ElementModel",
      "state": {
       "_model_module_version": "^0.1.96",
       "_view_module_version": "^0.1.96",
       "classes": [
        "71355ee371f141e87b14d056dd16dd34"
       ],
       "data": {
        "id": "871b5c7fe8af4b9f43171a022db225b6",
        "parent": "71355ee371f141e87b14d056dd16dd34",
        "source": "71355ee371f141e87b14d056dd16dd34-4",
        "target": "71355ee371f141e87b14d056dd16dd34-5"
       },
       "group": "edges"
      }
     },
     "940dbcefa64c4eb371b79581cdf9518d": {
      "model_module": "cl-cytoscape",
      "model_module_version": "^0.1.96",
      "model_name": "ElementModel",
      "state": {
       "_model_module_version": "^0.1.96",
       "_view_module_version": "^0.1.96",
       "classes": [
        "1dcf3484287e49cf9c7afc9268896e41"
       ],
       "data": {
        "id": "d467ae6ba57843bdda48be3a06e13d24",
        "parent": "1dcf3484287e49cf9c7afc9268896e41",
        "source": "1dcf3484287e49cf9c7afc9268896e41-0",
        "target": "1dcf3484287e49cf9c7afc9268896e41-1"
       },
       "group": "edges"
      }
     },
     "947c423ef94141a057c321be96d75971": {
      "model_module": "cl-cytoscape",
      "model_module_version": "^0.1.96",
      "model_name": "ElementModel",
      "state": {
       "_model_module_version": "^0.1.96",
       "_view_module_version": "^0.1.96",
       "classes": [
        "c3d86c88893640327956e5eeabf99360"
       ],
       "data": {
        "id": "906f31c46ef641e677ba2ed7dec08416",
        "parent": "c3d86c88893640327956e5eeabf99360",
        "source": "c3d86c88893640327956e5eeabf99360-4",
        "target": "c3d86c88893640327956e5eeabf99360-6"
       },
       "group": "edges"
      }
     },
     "94813f73a85a490096bd88dd45e3ec49": {
      "model_module": "cl-cytoscape",
      "model_module_version": "^0.1.96",
      "model_name": "ElementModel",
      "state": {
       "_model_module_version": "^0.1.96",
       "_view_module_version": "^0.1.96",
       "classes": [
        "1dcf3484287e49cf9c7afc9268896e41"
       ],
       "data": {
        "id": "1dcf3484287e49cf9c7afc9268896e41",
        "name": "grid-layout"
       }
      }
     },
     "9569ed320f524042ce0f99c3b4a1763b": {
      "model_module": "cl-cytoscape",
      "model_module_version": "^0.1.96",
      "model_name": "ElementModel",
      "state": {
       "_model_module_version": "^0.1.96",
       "_view_module_version": "^0.1.96",
       "classes": [
        "d35ac9af10124a22566fa5b17e829a55"
       ],
       "data": {
        "id": "3556b6003dbe41d91c4c0d20f45948d0",
        "parent": "d35ac9af10124a22566fa5b17e829a55",
        "source": "d35ac9af10124a22566fa5b17e829a55-0",
        "target": "d35ac9af10124a22566fa5b17e829a55-5"
       },
       "group": "edges"
      }
     },
     "963d108ef1a748b1012c4850972917b8": {
      "model_module": "cl-cytoscape",
      "model_module_version": "^0.1.96",
      "model_name": "ElementModel",
      "state": {
       "_model_module_version": "^0.1.96",
       "_view_module_version": "^0.1.96",
       "classes": [
        "1dcf3484287e49cf9c7afc9268896e41"
       ],
       "data": {
        "id": "1a6daff3201c431fbfd76abfa0714bb6",
        "parent": "1dcf3484287e49cf9c7afc9268896e41",
        "source": "1dcf3484287e49cf9c7afc9268896e41-3",
        "target": "1dcf3484287e49cf9c7afc9268896e41-1"
       },
       "group": "edges"
      }
     },
     "963d344bb12b42e9dac4144e04f0b81e": {
      "model_module": "cl-cytoscape",
      "model_module_version": "^0.1.96",
      "model_name": "ElementModel",
      "state": {
       "_model_module_version": "^0.1.96",
       "_view_module_version": "^0.1.96",
       "classes": [
        "1dcf3484287e49cf9c7afc9268896e41",
        "child"
       ],
       "data": {
        "id": "1dcf3484287e49cf9c7afc9268896e41-5",
        "name": "5",
        "parent": "1dcf3484287e49cf9c7afc9268896e41"
       },
       "position": {
        "x": 910,
        "y": 150
       }
      }
     },
     "97490cc4a54545e9c2007bbf3832f334": {
      "model_module": "cl-cytoscape",
      "model_module_version": "^0.1.96",
      "model_name": "ElementModel",
      "state": {
       "_model_module_version": "^0.1.96",
       "_view_module_version": "^0.1.96",
       "classes": [
        "c3d86c88893640327956e5eeabf99360"
       ],
       "data": {
        "id": "6dca2238db874c432381d67a992f34a1",
        "parent": "c3d86c88893640327956e5eeabf99360",
        "source": "c3d86c88893640327956e5eeabf99360-4",
        "target": "c3d86c88893640327956e5eeabf99360-3"
       },
       "group": "edges"
      }
     },
     "97d94f725cc94d8eaa37a408f4486963": {
      "model_module": "cl-cytoscape",
      "model_module_version": "^0.1.96",
      "model_name": "ElementModel",
      "state": {
       "_model_module_version": "^0.1.96",
       "_view_module_version": "^0.1.96",
       "classes": [
        "3b13cd9da2764d2eac197640f66528e9",
        "child"
       ],
       "data": {
        "id": "3b13cd9da2764d2eac197640f66528e9-6",
        "name": "6",
        "parent": "3b13cd9da2764d2eac197640f66528e9"
       },
       "position": {
        "x": 504.95016674051095,
        "y": 458.7724215271109
       }
      }
     },
     "981ecd8291ba41a694533d0885e901de": {
      "model_module": "cl-cytoscape",
      "model_module_version": "^0.1.96",
      "model_name": "ElementModel",
      "state": {
       "_model_module_version": "^0.1.96",
       "_view_module_version": "^0.1.96",
       "classes": [
        "d35ac9af10124a22566fa5b17e829a55",
        "child"
       ],
       "data": {
        "id": "d35ac9af10124a22566fa5b17e829a55-2",
        "name": "2",
        "parent": "d35ac9af10124a22566fa5b17e829a55"
       },
       "position": {
        "x": 1256.9913494618188,
        "y": 176.7025120747577
       }
      }
     },
     "991d2af7cf674b0c9a4356be99bb4c1f": {
      "model_module": "cl-cytoscape",
      "model_module_version": "^0.1.96",
      "model_name": "ElementModel",
      "state": {
       "_model_module_version": "^0.1.96",
       "_view_module_version": "^0.1.96",
       "classes": [
        "5f04b7a2c8e1478a954715cda2ef119d"
       ],
       "data": {
        "id": "9d9a0c23d3fa4ea4113241d004e9548a",
        "parent": "5f04b7a2c8e1478a954715cda2ef119d",
        "source": "5f04b7a2c8e1478a954715cda2ef119d-2",
        "target": "5f04b7a2c8e1478a954715cda2ef119d-6"
       },
       "group": "edges"
      }
     },
     "9a78a100be9c4e1468cc23193cd9e94d": {
      "model_module": "cl-cytoscape",
      "model_module_version": "^0.1.96",
      "model_name": "ElementModel",
      "state": {
       "_model_module_version": "^0.1.96",
       "_view_module_version": "^0.1.96",
       "classes": [
        "8d7c137bdf704d1c51ca546adb1fe3da",
        "child"
       ],
       "data": {
        "id": "8d7c137bdf704d1c51ca546adb1fe3da-4",
        "name": "4",
        "parent": "8d7c137bdf704d1c51ca546adb1fe3da"
       },
       "position": {
        "x": 187.5,
        "y": 150
       }
      }
     },
     "9c53d16ddf4a4eb9e3a10aeb6f926df5": {
      "model_module": "cl-cytoscape",
      "model_module_version": "^0.1.96",
      "model_name": "ElementModel",
      "state": {
       "_model_module_version": "^0.1.96",
       "_view_module_version": "^0.1.96",
       "classes": [
        "d35ac9af10124a22566fa5b17e829a55"
       ],
       "data": {
        "id": "f85868d77758411052fe73d62709f4c2",
        "parent": "d35ac9af10124a22566fa5b17e829a55",
        "source": "d35ac9af10124a22566fa5b17e829a55-3",
        "target": "d35ac9af10124a22566fa5b17e829a55-1"
       },
       "group": "edges"
      }
     },
     "a064c882726e45456f8603569a17f05c": {
      "model_module": "cl-cytoscape",
      "model_module_version": "^0.1.96",
      "model_name": "ElementModel",
      "state": {
       "_model_module_version": "^0.1.96",
       "_view_module_version": "^0.1.96",
       "classes": [
        "8d7c137bdf704d1c51ca546adb1fe3da"
       ],
       "data": {
        "id": "bd479b3977884c41c17e899dd446750e",
        "parent": "8d7c137bdf704d1c51ca546adb1fe3da",
        "source": "8d7c137bdf704d1c51ca546adb1fe3da-4",
        "target": "8d7c137bdf704d1c51ca546adb1fe3da-3"
       },
       "group": "edges"
      }
     },
     "a0a2f173083743b20b3ff10b6850c01c": {
      "model_module": "cl-cytoscape",
      "model_module_version": "^0.1.96",
      "model_name": "ElementModel",
      "state": {
       "_model_module_version": "^0.1.96",
       "_view_module_version": "^0.1.96",
       "classes": [
        "e760e5ca4ebb4d570a324abda1bc40d3",
        "child"
       ],
       "data": {
        "id": "e760e5ca4ebb4d570a324abda1bc40d3-4",
        "name": "4",
        "parent": "e760e5ca4ebb4d570a324abda1bc40d3"
       },
       "position": {
        "x": 359,
        "y": 114
       }
      }
     },
     "a15c4f44d590437698176d63d4e612a6": {
      "model_module": "cl-cytoscape",
      "model_module_version": "^0.1.96",
      "model_name": "ElementModel",
      "state": {
       "_model_module_version": "^0.1.96",
       "_view_module_version": "^0.1.96",
       "classes": [
        "8d7c137bdf704d1c51ca546adb1fe3da"
       ],
       "data": {
        "id": "8d7c137bdf704d1c51ca546adb1fe3da",
        "name": "breadth-first-layout"
       }
      }
     },
     "a24b72c8259a4777b49619fbbd391884": {
      "model_module": "cl-cytoscape",
      "model_module_version": "^0.1.96",
      "model_name": "ElementModel",
      "state": {
       "_model_module_version": "^0.1.96",
       "_view_module_version": "^0.1.96",
       "classes": [
        "5f04b7a2c8e1478a954715cda2ef119d"
       ],
       "data": {
        "id": "5f04b7a2c8e1478a954715cda2ef119d",
        "name": "dagre-layout"
       },
       "position": {
        "x": 1140,
        "y": 480
       }
      }
     },
     "a58cd75dda3b466add7684844316cf4d": {
      "model_module": "cl-cytoscape",
      "model_module_version": "^0.1.96",
      "model_name": "ElementModel",
      "state": {
       "_model_module_version": "^0.1.96",
       "_view_module_version": "^0.1.96",
       "classes": [
        "e760e5ca4ebb4d570a324abda1bc40d3"
       ],
       "data": {
        "id": "e165ca6a94c947b2bffc806172fe6f3e",
        "parent": "e760e5ca4ebb4d570a324abda1bc40d3",
        "source": "e760e5ca4ebb4d570a324abda1bc40d3-4",
        "target": "e760e5ca4ebb4d570a324abda1bc40d3-3"
       },
       "group": "edges"
      }
     },
     "a5d6aa3281b946b4415fa7d88c721838": {
      "model_module": "cl-cytoscape",
      "model_module_version": "^0.1.96",
      "model_name": "ElementModel",
      "state": {
       "_model_module_version": "^0.1.96",
       "_view_module_version": "^0.1.96",
       "classes": [
        "3b13cd9da2764d2eac197640f66528e9"
       ],
       "data": {
        "id": "b44ce0b3924144c69345f51d607873e9",
        "parent": "3b13cd9da2764d2eac197640f66528e9",
        "source": "3b13cd9da2764d2eac197640f66528e9-2",
        "target": "3b13cd9da2764d2eac197640f66528e9-3"
       },
       "group": "edges"
      }
     },
     "a639266cda0e41757d76f50a80060d3f": {
      "model_module": "cl-cytoscape",
      "model_module_version": "^0.1.96",
      "model_name": "ElementModel",
      "state": {
       "_model_module_version": "^0.1.96",
       "_view_module_version": "^0.1.96",
       "classes": [
        "1dcf3484287e49cf9c7afc9268896e41",
        "child"
       ],
       "data": {
        "id": "1dcf3484287e49cf9c7afc9268896e41-4",
        "name": "4",
        "parent": "1dcf3484287e49cf9c7afc9268896e41"
       },
       "position": {
        "x": 810,
        "y": 150
       }
      }
     },
     "a6f69143bc07450aca680a5f72ded31d": {
      "model_module": "cl-cytoscape",
      "model_module_version": "^0.1.96",
      "model_name": "ElementModel",
      "state": {
       "_model_module_version": "^0.1.96",
       "_view_module_version": "^0.1.96",
       "classes": [
        "3b13cd9da2764d2eac197640f66528e9"
       ],
       "data": {
        "id": "e68c605f35474253650db994d7240ea6",
        "parent": "3b13cd9da2764d2eac197640f66528e9",
        "source": "3b13cd9da2764d2eac197640f66528e9-4",
        "target": "3b13cd9da2764d2eac197640f66528e9-6"
       },
       "group": "edges"
      }
     },
     "a71730f037e44a1ae4bd152b532596f1": {
      "model_module": "cl-cytoscape",
      "model_module_version": "^0.1.96",
      "model_name": "ElementModel",
      "state": {
       "_model_module_version": "^0.1.96",
       "_view_module_version": "^0.1.96",
       "classes": [
        "c3d86c88893640327956e5eeabf99360",
        "child"
       ],
       "data": {
        "id": "c3d86c88893640327956e5eeabf99360-6",
        "name": "6",
        "parent": "c3d86c88893640327956e5eeabf99360"
       },
       "position": {
        "x": 787.3034433129466,
        "y": 476.03760596686203
       }
      }
     },
     "aa79e2d23d4846504df696610e5bdf21": {
      "model_module": "cl-cytoscape",
      "model_module_version": "^0.1.96",
      "model_name": "ElementModel",
      "state": {
       "_model_module_version": "^0.1.96",
       "_view_module_version": "^0.1.96",
       "classes": [
        "71355ee371f141e87b14d056dd16dd34"
       ],
       "data": {
        "id": "8fcab5f5e46b4fccb02959db70cf8f00",
        "parent": "71355ee371f141e87b14d056dd16dd34",
        "source": "71355ee371f141e87b14d056dd16dd34-0",
        "target": "71355ee371f141e87b14d056dd16dd34-5"
       },
       "group": "edges"
      }
     },
     "aab1823e34064dc22d1def9816425c81": {
      "model_module": "cl-cytoscape",
      "model_module_version": "^0.1.96",
      "model_name": "ElementModel",
      "state": {
       "_model_module_version": "^0.1.96",
       "_view_module_version": "^0.1.96",
       "classes": [
        "71355ee371f141e87b14d056dd16dd34"
       ],
       "data": {
        "id": "d120ab7f5f294ac323f30c2bfd5fd065",
        "parent": "71355ee371f141e87b14d056dd16dd34",
        "source": "71355ee371f141e87b14d056dd16dd34-2",
        "target": "71355ee371f141e87b14d056dd16dd34-6"
       },
       "group": "edges"
      }
     },
     "ac2e76f78a944e36f019597d2b8d8184": {
      "model_module": "cl-cytoscape",
      "model_module_version": "^0.1.96",
      "model_name": "RandomLayoutModel",
      "state": {
       "_model_module_version": "^0.1.96",
       "_view_module_version": "^0.1.96",
       "animate": true,
       "animation_duration": 250,
       "bounding_box": {
        "h": 300,
        "w": 300,
        "x1": 330,
        "y1": 0
       },
       "fit": false,
       "selector": ".e760e5ca4ebb4d570a324abda1bc40d3"
      }
     },
     "ac462c255bbc4a77c9b2ea84459a2d68": {
      "model_module": "cl-cytoscape",
      "model_module_version": "^0.1.96",
      "model_name": "ElementModel",
      "state": {
       "_model_module_version": "^0.1.96",
       "_view_module_version": "^0.1.96",
       "classes": [
        "5f04b7a2c8e1478a954715cda2ef119d"
       ],
       "data": {
        "id": "5fa1215e4eca42679edc973a0fb14d6b",
        "parent": "5f04b7a2c8e1478a954715cda2ef119d",
        "source": "5f04b7a2c8e1478a954715cda2ef119d-1",
        "target": "5f04b7a2c8e1478a954715cda2ef119d-5"
       },
       "group": "edges"
      }
     },
     "b0b12370c93f46344b18a3d21e5c7b74": {
      "model_module": "cl-cytoscape",
      "model_module_version": "^0.1.96",
      "model_name": "ElementModel",
      "state": {
       "_model_module_version": "^0.1.96",
       "_view_module_version": "^0.1.96",
       "classes": [
        "3b13cd9da2764d2eac197640f66528e9"
       ],
       "data": {
        "id": "95aac7330adc423de0dd13fde74adfc5",
        "parent": "3b13cd9da2764d2eac197640f66528e9",
        "source": "3b13cd9da2764d2eac197640f66528e9-2",
        "target": "3b13cd9da2764d2eac197640f66528e9-1"
       },
       "group": "edges"
      }
     },
     "b2981b9e249843c54df8d1914d425f0a": {
      "model_module": "cl-cytoscape",
      "model_module_version": "^0.1.96",
      "model_name": "ElementModel",
      "state": {
       "_model_module_version": "^0.1.96",
       "_view_module_version": "^0.1.96",
       "classes": [
        "8d7c137bdf704d1c51ca546adb1fe3da"
       ],
       "data": {
        "id": "4e48e825634d4bc902c29d5c492a89aa",
        "parent": "8d7c137bdf704d1c51ca546adb1fe3da",
        "source": "8d7c137bdf704d1c51ca546adb1fe3da-2",
        "target": "8d7c137bdf704d1c51ca546adb1fe3da-1"
       },
       "group": "edges"
      }
     },
     "b5efff950a3541f1f9fa6ebe189ae680": {
      "model_module": "cl-cytoscape",
      "model_module_version": "^0.1.96",
      "model_name": "ElementModel",
      "state": {
       "_model_module_version": "^0.1.96",
       "_view_module_version": "^0.1.96",
       "classes": [
        "71355ee371f141e87b14d056dd16dd34",
        "child"
       ],
       "data": {
        "id": "71355ee371f141e87b14d056dd16dd34-5",
        "name": "5",
        "parent": "71355ee371f141e87b14d056dd16dd34"
       },
       "position": {
        "x": 121.7157287525381,
        "y": 480
       }
      }
     },
     "b7d33048a34341a4dcd78e8acdb261d9": {
      "model_module": "cl-cytoscape",
      "model_module_version": "^0.1.96",
      "model_name": "ElementModel",
      "state": {
       "_model_module_version": "^0.1.96",
       "_view_module_version": "^0.1.96",
       "classes": [
        "d35ac9af10124a22566fa5b17e829a55"
       ],
       "data": {
        "id": "90b54997c527494e46370c7fc8108231",
        "parent": "d35ac9af10124a22566fa5b17e829a55",
        "source": "d35ac9af10124a22566fa5b17e829a55-5",
        "target": "d35ac9af10124a22566fa5b17e829a55-3"
       },
       "group": "edges"
      }
     },
     "b89bfa0c09d84f331906da206a926b85": {
      "model_module": "cl-cytoscape",
      "model_module_version": "^0.1.96",
      "model_name": "ElementModel",
      "state": {
       "_model_module_version": "^0.1.96",
       "_view_module_version": "^0.1.96",
       "classes": [
        "c3d86c88893640327956e5eeabf99360",
        "child"
       ],
       "data": {
        "id": "c3d86c88893640327956e5eeabf99360-3",
        "name": "3",
        "parent": "c3d86c88893640327956e5eeabf99360"
       },
       "position": {
        "x": 887.3034453129466,
        "y": 426.03760496686203
       }
      }
     },
     "ba110a3bb37044917966579e7bb85611": {
      "model_module": "cl-cytoscape",
      "model_module_version": "^0.1.96",
      "model_name": "ElementModel",
      "state": {
       "_model_module_version": "^0.1.96",
       "_view_module_version": "^0.1.96",
       "classes": [
        "71355ee371f141e87b14d056dd16dd34"
       ],
       "data": {
        "id": "fe6955611e9d4da373998876d19983a1",
        "parent": "71355ee371f141e87b14d056dd16dd34",
        "source": "71355ee371f141e87b14d056dd16dd34-4",
        "target": "71355ee371f141e87b14d056dd16dd34-3"
       },
       "group": "edges"
      }
     },
     "bb1c4739a4a24f1c6e02bdad43c3a835": {
      "model_module": "cl-cytoscape",
      "model_module_version": "^0.1.96",
      "model_name": "CytoscapeModel",
      "state": {
       "_model_module_version": "^0.1.96",
       "_view_module_version": "^0.1.96",
       "box_selection_enabled": true,
       "desktop_tap_threshold": 4,
       "elements": [
        "IPY_MODEL_a15c4f44d590437698176d63d4e612a6",
        "IPY_MODEL_5b9640d6a3454febfb5ca1c0eb137ccf",
        "IPY_MODEL_e81932ab52bf44c28a668626bd110176",
        "IPY_MODEL_171585acc51a496c87eee9a45f012292",
        "IPY_MODEL_3af80ddc450548d0889446223b6941f9",
        "IPY_MODEL_9a78a100be9c4e1468cc23193cd9e94d",
        "IPY_MODEL_4a6fb210ae4e44d5ed249f9765d02cfd",
        "IPY_MODEL_087a56d733a04fb6852b27ca8141f6e8",
        "IPY_MODEL_2fc5038c3baa49c6890192f068e41759",
        "IPY_MODEL_7040489ca184454638640324b1c8421e",
        "IPY_MODEL_fbdeec0fd66a45c70b48512b2ea39905",
        "IPY_MODEL_66be2a09f30446381bf5f8541a5b11e7",
        "IPY_MODEL_1d4e0df8590742928547ff63c8011cc6",
        "IPY_MODEL_507e6c00b65b4614cc2127f0abc7b55c",
        "IPY_MODEL_b2981b9e249843c54df8d1914d425f0a",
        "IPY_MODEL_e93b701d6c1b4098640e3ed43505e09a",
        "IPY_MODEL_3a9b0f6158324ca0bbb5c26c1e27bd5d",
        "IPY_MODEL_6cc1b7ec6a2c492d97a78cba3af92cc8",
        "IPY_MODEL_09d6c6edf71d42420dbce8d44eac8c11",
        "IPY_MODEL_a064c882726e45456f8603569a17f05c",
        "IPY_MODEL_fa25c3dd3ada4d5b43b215f8ed699bdf",
        "IPY_MODEL_83b9ee2ca0e14e05bf5447d4c107c768",
        "IPY_MODEL_56f9b6a3f9e744b3e9afdfa58aa29131",
        "IPY_MODEL_4f302af5accf47559d15e2c108327f57",
        "IPY_MODEL_0834cecc2b8048b0bbc79318fcac376a",
        "IPY_MODEL_2ed7f03d90cc4e61db759872a7396daf",
        "IPY_MODEL_540ba2ee295749296ce979124bde9624",
        "IPY_MODEL_29fe2a7320554259157784d9fee22921",
        "IPY_MODEL_a0a2f173083743b20b3ff10b6850c01c",
        "IPY_MODEL_deb9b7731d2a4bee2b26f2262a10a3e8",
        "IPY_MODEL_02995fcbc6734a467e9f8a80ae8abf60",
        "IPY_MODEL_6a1f21bfaf34463b5387fa6eb8dd462f",
        "IPY_MODEL_3f2508c9e7d8449b831daedab7ae7d25",
        "IPY_MODEL_d0622af604a04aa7255fb435b9372920",
        "IPY_MODEL_ef69f02c8c62494b385c0682ef55a386",
        "IPY_MODEL_3361e616fbda4419468981b86ad2e520",
        "IPY_MODEL_43ccec4fdf564dda027716aa01e4753a",
        "IPY_MODEL_d6f6ceba2bc648c619340a7e5c269602",
        "IPY_MODEL_7a828863189e4d3bb51ec6a2d630e340",
        "IPY_MODEL_c8edad12f0cd432ae97d6952485e03cb",
        "IPY_MODEL_3742d9cd366144f8f8475498a2d6189c",
        "IPY_MODEL_0c4739f8ae7149805292109626d18eb3",
        "IPY_MODEL_a58cd75dda3b466add7684844316cf4d",
        "IPY_MODEL_c15e4c3e5fe8413df5a029059cfcd941",
        "IPY_MODEL_48aa9fa3e5a7463f9b3aac0119d083ab",
        "IPY_MODEL_399095e535194609676bb3fbb53badd8",
        "IPY_MODEL_94813f73a85a490096bd88dd45e3ec49",
        "IPY_MODEL_45a30651b02343a2d19661a61cacaa63",
        "IPY_MODEL_47fa39f0828f45618ab16e23a4e6b519",
        "IPY_MODEL_6dac63169f964f127cc0d393fe476f24",
        "IPY_MODEL_8c63e6d02a2740e55389001b1d0c2bf3",
        "IPY_MODEL_a639266cda0e41757d76f50a80060d3f",
        "IPY_MODEL_963d344bb12b42e9dac4144e04f0b81e",
        "IPY_MODEL_3e6e13c060c742d444e60a51bcdf3fef",
        "IPY_MODEL_940dbcefa64c4eb371b79581cdf9518d",
        "IPY_MODEL_66617acfa6964548422374900a2e0a17",
        "IPY_MODEL_f5bd0a8e5b544504ea2e19c26ef8ac5f",
        "IPY_MODEL_c8f3a54f413c424f38291e3acc23aae9",
        "IPY_MODEL_0e7fe1c4e614447cade207c4db70f0f1",
        "IPY_MODEL_0b23da9e72514a0ad916d095f3ff037f",
        "IPY_MODEL_ef1cc144f56c46bc62cc7e60893130e3",
        "IPY_MODEL_f7b2ca60acf04efc65d4a018055c2f23",
        "IPY_MODEL_963d108ef1a748b1012c4850972917b8",
        "IPY_MODEL_40e7f1f849184fa401f4b98f7e5b4afc",
        "IPY_MODEL_40dfe7bbe0e24b0e45936b05ab0dbb60",
        "IPY_MODEL_0f93192fe1074a65802052e979b77279",
        "IPY_MODEL_69f6642545324dc113b8db8652d68bb8",
        "IPY_MODEL_f7a2bdb39e3946cde6cc33ca6eb16d2f",
        "IPY_MODEL_6322453a01844070d3e95c0d24067040",
        "IPY_MODEL_3cdc5b4b91c44f7cf2ce072f9b624f33",
        "IPY_MODEL_55a27e8d73694a2e5db8f3913f098c91",
        "IPY_MODEL_86ffc946a2a24748dd9fee79ab7eb040",
        "IPY_MODEL_981ecd8291ba41a694533d0885e901de",
        "IPY_MODEL_d917da2700b0448d242f4ebcef46bc69",
        "IPY_MODEL_f3d863ddcd3e4cb55c31d879cc5607f5",
        "IPY_MODEL_5e1d5378f99a4400b6a0662c42e3ac4e",
        "IPY_MODEL_76f747c104d44f900b67a01b42ceabdc",
        "IPY_MODEL_512ff059f4614cfbafa2835058129802",
        "IPY_MODEL_9569ed320f524042ce0f99c3b4a1763b",
        "IPY_MODEL_cf5939a970d345f9521b20dc7da8f82c",
        "IPY_MODEL_4b6950647d37414c8a6dc4572e4bdd86",
        "IPY_MODEL_66f5f6101a3e4bd7c8a9f0abe10ab237",
        "IPY_MODEL_cd2e258c9b39441337dffa377d7721a3",
        "IPY_MODEL_f73e0f64562c438a26523c07b0fbfeee",
        "IPY_MODEL_d8409529870e4ef659d65315424dc837",
        "IPY_MODEL_9c53d16ddf4a4eb9e3a10aeb6f926df5",
        "IPY_MODEL_53e1b4f5e174416f3024d6d8ee362135",
        "IPY_MODEL_8b18d88e216441d69d469ae8a476d8c5",
        "IPY_MODEL_35c0dbd4cca54fd53dfa006dcb58017d",
        "IPY_MODEL_fe5fd123eec94bf7d2237396cc71f965",
        "IPY_MODEL_b7d33048a34341a4dcd78e8acdb261d9",
        "IPY_MODEL_ce817bb8ac07466ff11d372a2d599ddd",
        "IPY_MODEL_469b7b159a0a4fed8a284b70f9f5bbb4",
        "IPY_MODEL_776459656d7f4105497148370e5b8394",
        "IPY_MODEL_20672663cf4f490f01464a85bc246fcf",
        "IPY_MODEL_5b6304edd17e449b5fae4e7403e0379f",
        "IPY_MODEL_5b45e7fcb2344c717020e0a4a60f8540",
        "IPY_MODEL_526dd65629f546e8192e1d9758cecd56",
        "IPY_MODEL_b5efff950a3541f1f9fa6ebe189ae680",
        "IPY_MODEL_ff405d9ebaf245fa9193eeef897a2290",
        "IPY_MODEL_f029f13e9a4347099d74ed0e7562fda6",
        "IPY_MODEL_aa79e2d23d4846504df696610e5bdf21",
        "IPY_MODEL_f8a06a6733514cd7eb0ef283be74e86d",
        "IPY_MODEL_5957c4e505ad434eb6a27bf1cb1a0f4b",
        "IPY_MODEL_c485bb9a4dc9478a510c89eb781633c4",
        "IPY_MODEL_f2d5abb451f34074749910049f5e8cf6",
        "IPY_MODEL_4fd1b6c435224da725cf1545088b9b9a",
        "IPY_MODEL_aab1823e34064dc22d1def9816425c81",
        "IPY_MODEL_13788e3445194fd66414895b381da855",
        "IPY_MODEL_f13f6a0572b541ede5c6e5e46124a1c8",
        "IPY_MODEL_8d798d7bbe424f638d00710f78027f07",
        "IPY_MODEL_ba110a3bb37044917966579e7bb85611",
        "IPY_MODEL_fdd413314230461b3c2426a73da5814e",
        "IPY_MODEL_6715825d9f03463ff7ab24aa218e0010",
        "IPY_MODEL_f2b24360469e40f62ae1ece7fa1cb2a3",
        "IPY_MODEL_38908b6e9ed74f6c26e80142e4a79d28",
        "IPY_MODEL_cb1186c376ac466ab7e7036231499566",
        "IPY_MODEL_3168bebafb7b455d3aa9a399e1e31046",
        "IPY_MODEL_8a7abca2d1484e987e4b98554d8c1200",
        "IPY_MODEL_d11ebc5ed5a34d48fc70efe0cce2ab2b",
        "IPY_MODEL_25c236ba471942521646efde4324d3f7",
        "IPY_MODEL_bf3b2f256d8d452b508a7f6db58db007",
        "IPY_MODEL_97d94f725cc94d8eaa37a408f4486963",
        "IPY_MODEL_31fbe9c53d7d47361db697145b755b24",
        "IPY_MODEL_d32dc287423043e8b685faf4c877eed8",
        "IPY_MODEL_eefe3848ce2b419ed860893e21d16de0",
        "IPY_MODEL_123dd367e1714db3c5e0e98a3cf97ae0",
        "IPY_MODEL_179bcade57fb453d7deb7eb2defb9f78",
        "IPY_MODEL_a5d6aa3281b946b4415fa7d88c721838",
        "IPY_MODEL_b0b12370c93f46344b18a3d21e5c7b74",
        "IPY_MODEL_4b3e699edd15439feb46b7193441ade0",
        "IPY_MODEL_38afeee627e74c635452cef7e8da6b39",
        "IPY_MODEL_e9a9297ecd2d42d1e8e04486cb584344",
        "IPY_MODEL_5ee403cb93324a926a0a4d1e32f6d81d",
        "IPY_MODEL_d28d6ee5d6904ca22446338532c62ec0",
        "IPY_MODEL_a6f69143bc07450aca680a5f72ded31d",
        "IPY_MODEL_73ba0d2c4903479ad41b1e5096e04e12",
        "IPY_MODEL_6f23d350e5e74d81047af59f0abbcb90",
        "IPY_MODEL_7bbafbdf4d1045ad6c46067e19523c47",
        "IPY_MODEL_f957c8afa85442ff707dfa8474d0c27f",
        "IPY_MODEL_dda22a8ad11a400fc792297ba94d8a25",
        "IPY_MODEL_be7797c38ab3462a0f304911c9d01809",
        "IPY_MODEL_b89bfa0c09d84f331906da206a926b85",
        "IPY_MODEL_29550a1d1f9647faff0243b73a8429f1",
        "IPY_MODEL_8aecc3dee9f44c5f74d9d39151bf0cf3",
        "IPY_MODEL_a71730f037e44a1ae4bd152b532596f1",
        "IPY_MODEL_5c016388567447a5cd290d45635eeac8",
        "IPY_MODEL_4570645b50d8435b642935bfad9f9df3",
        "IPY_MODEL_6d97e46827394239eb2e612124f6a2dd",
        "IPY_MODEL_29e56933fc53409f934d95ede20496bc",
        "IPY_MODEL_58f21fbaf28641ce3a5acb5c35016942",
        "IPY_MODEL_fea1cdab2c544d306e74912c0ab2b15d",
        "IPY_MODEL_6584757f6bf9431992cc4e4a02e7eea9",
        "IPY_MODEL_7e1dc487aa6e4d37d880b7acaffb8167",
        "IPY_MODEL_42204d00e5f24fe9d402714c1b5ae079",
        "IPY_MODEL_c159b3b61a2645ba3cd3f45749724803",
        "IPY_MODEL_3e0acaef0f3f478463d17fdaa86b04a0",
        "IPY_MODEL_97490cc4a54545e9c2007bbf3832f334",
        "IPY_MODEL_947c423ef94141a057c321be96d75971",
        "IPY_MODEL_6c1b1df39e6d44d980d0fb58d4b7a252",
        "IPY_MODEL_bd36957978e5420c8fb987ed9683240a",
        "IPY_MODEL_a24b72c8259a4777b49619fbbd391884",
        "IPY_MODEL_bc7faff538434dc6d7d55904bc9762db",
        "IPY_MODEL_fdda9a97f2634f2260775b35b068a4e1",
        "IPY_MODEL_71f7e9dd75dd4b10ee0e0b3ca2d1bcbf",
        "IPY_MODEL_ed6729fe26b646a6a6ead5edd5a12413",
        "IPY_MODEL_0276b22223494b70711d9872b6a78998",
        "IPY_MODEL_105c243337804ec72659c51e7361f809",
        "IPY_MODEL_cfd7815aa0824a3b08baea1e8f533e4e",
        "IPY_MODEL_fbb80147f8d14dfad8d5c5ae19609a3c",
        "IPY_MODEL_493cdf4a9e424a3a54cadb788e8553d7",
        "IPY_MODEL_ebbf941a2cfd4c61a36c51dcf7d3d643",
        "IPY_MODEL_ac462c255bbc4a77c9b2ea84459a2d68",
        "IPY_MODEL_db486a5a38334d58ec8bd6cceb81556e",
        "IPY_MODEL_e880d38035804523a5ca548a20e54c19",
        "IPY_MODEL_70eae882d32a4609bc4a6a361efb20e0",
        "IPY_MODEL_991d2af7cf674b0c9a4356be99bb4c1f",
        "IPY_MODEL_4c67241214274eadb89756b104fd677f",
        "IPY_MODEL_fd4dd3d944a043cff1dc1d35b0a1755e",
        "IPY_MODEL_f6f71fa959754bbfeec93524ed9136a9",
        "IPY_MODEL_1a86006fe8b4406cfff086679917632a",
        "IPY_MODEL_fbdc47f49987474c34ed061a9acc607e",
        "IPY_MODEL_19fe7c18884e43f34907cd86c97f0302",
        "IPY_MODEL_72e7c7b8fcd54fbc930d25af1294ecfb"
       ],
       "graph_layouts": [
        "IPY_MODEL_070b751013c74cd8ca7240af5d70d762",
        "IPY_MODEL_ac2e76f78a944e36f019597d2b8d8184",
        "IPY_MODEL_d76d2b2bf0204d69854ec1b6ec1b5ea4",
        "IPY_MODEL_ec09fd1d5e8b45426b4532392debf80c",
        "IPY_MODEL_3967804a437b448f902832b22ab88c63",
        "IPY_MODEL_2e03c5397e84449794c51da5a9d18477",
        "IPY_MODEL_6d6996546ed04bee9c2ea4fccfcdd0fd",
        "IPY_MODEL_48b3d45d88434b462d926b292f3332b0"
       ],
       "graph_style": "node { content: data(name); } \n                                                  node.child { text-valign: center; text-halign: center; }\n                                                  edge { curve-style: bezier; }",
       "layout": "IPY_MODEL_1c656e65212b418da24bd112d7fc8923",
       "max_zoom": 9.999999999999999e+49,
       "min_zoom": 1.0000000000000001e-50,
       "pan": {
        "x": 131,
        "y": 39.20280345530427
       },
       "style": "IPY_MODEL_0c06c369c04a429812a8419d1ae5964c",
       "tooltip_source": "tooltip",
       "zoom": 0.8841625774989049
      }
     },
     "bc7faff538434dc6d7d55904bc9762db": {
      "model_module": "cl-cytoscape",
      "model_module_version": "^0.1.96",
      "model_name": "ElementModel",
      "state": {
       "_model_module_version": "^0.1.96",
       "_view_module_version": "^0.1.96",
       "classes": [
        "5f04b7a2c8e1478a954715cda2ef119d",
        "child"
       ],
       "data": {
        "id": "5f04b7a2c8e1478a954715cda2ef119d-0",
        "name": "0",
        "parent": "5f04b7a2c8e1478a954715cda2ef119d"
       },
       "position": {
        "x": 1015.531914893617,
        "y": 330
       }
      }
     },
     "bd36957978e5420c8fb987ed9683240a": {
      "model_module": "cl-cytoscape",
      "model_module_version": "^0.1.96",
      "model_name": "ElementModel",
      "state": {
       "_model_module_version": "^0.1.96",
       "_view_module_version": "^0.1.96",
       "classes": [
        "c3d86c88893640327956e5eeabf99360"
       ],
       "data": {
        "id": "b7eb1992875149604269d3c816c9c3df",
        "parent": "c3d86c88893640327956e5eeabf99360",
        "source": "c3d86c88893640327956e5eeabf99360-5",
        "target": "c3d86c88893640327956e5eeabf99360-6"
       },
       "group": "edges"
      }
     },
     "be7797c38ab3462a0f304911c9d01809": {
      "model_module": "cl-cytoscape",
      "model_module_version": "^0.1.96",
      "model_name": "ElementModel",
      "state": {
       "_model_module_version": "^0.1.96",
       "_view_module_version": "^0.1.96",
       "classes": [
        "c3d86c88893640327956e5eeabf99360",
        "child"
       ],
       "data": {
        "id": "c3d86c88893640327956e5eeabf99360-2",
        "name": "2",
        "parent": "c3d86c88893640327956e5eeabf99360"
       },
       "position": {
        "x": 737.3034423129466,
        "y": 451.07209212886426
       }
      }
     },
     "bf3b2f256d8d452b508a7f6db58db007": {
      "model_module": "cl-cytoscape",
      "model_module_version": "^0.1.96",
      "model_name": "ElementModel",
      "state": {
       "_model_module_version": "^0.1.96",
       "_view_module_version": "^0.1.96",
       "classes": [
        "3b13cd9da2764d2eac197640f66528e9",
        "child"
       ],
       "data": {
        "id": "3b13cd9da2764d2eac197640f66528e9-5",
        "name": "5",
        "parent": "3b13cd9da2764d2eac197640f66528e9"
       },
       "position": {
        "x": 564.9830736714569,
        "y": 630
       }
      }
     },
     "c159b3b61a2645ba3cd3f45749724803": {
      "model_module": "cl-cytoscape",
      "model_module_version": "^0.1.96",
      "model_name": "ElementModel",
      "state": {
       "_model_module_version": "^0.1.96",
       "_view_module_version": "^0.1.96",
       "classes": [
        "c3d86c88893640327956e5eeabf99360"
       ],
       "data": {
        "id": "5dd6d6e41b5545cf8bc3a5cc6bf6fcf4",
        "parent": "c3d86c88893640327956e5eeabf99360",
        "source": "c3d86c88893640327956e5eeabf99360-3",
        "target": "c3d86c88893640327956e5eeabf99360-6"
       },
       "group": "edges"
      }
     },
     "c15e4c3e5fe8413df5a029059cfcd941": {
      "model_module": "cl-cytoscape",
      "model_module_version": "^0.1.96",
      "model_name": "ElementModel",
      "state": {
       "_model_module_version": "^0.1.96",
       "_view_module_version": "^0.1.96",
       "classes": [
        "e760e5ca4ebb4d570a324abda1bc40d3"
       ],
       "data": {
        "id": "8cda89ea69f54e1a25559c143d69f90b",
        "parent": "e760e5ca4ebb4d570a324abda1bc40d3",
        "source": "e760e5ca4ebb4d570a324abda1bc40d3-4",
        "target": "e760e5ca4ebb4d570a324abda1bc40d3-6"
       },
       "group": "edges"
      }
     },
     "c485bb9a4dc9478a510c89eb781633c4": {
      "model_module": "cl-cytoscape",
      "model_module_version": "^0.1.96",
      "model_name": "ElementModel",
      "state": {
       "_model_module_version": "^0.1.96",
       "_view_module_version": "^0.1.96",
       "classes": [
        "71355ee371f141e87b14d056dd16dd34"
       ],
       "data": {
        "id": "2e3c527d477f4608dece67c38f21a5e4",
        "parent": "71355ee371f141e87b14d056dd16dd34",
        "source": "71355ee371f141e87b14d056dd16dd34-1",
        "target": "71355ee371f141e87b14d056dd16dd34-6"
       },
       "group": "edges"
      }
     },
     "c8edad12f0cd432ae97d6952485e03cb": {
      "model_module": "cl-cytoscape",
      "model_module_version": "^0.1.96",
      "model_name": "ElementModel",
      "state": {
       "_model_module_version": "^0.1.96",
       "_view_module_version": "^0.1.96",
       "classes": [
        "e760e5ca4ebb4d570a324abda1bc40d3"
       ],
       "data": {
        "id": "c73705fcc4e64b3bdcd6037e6735dea4",
        "parent": "e760e5ca4ebb4d570a324abda1bc40d3",
        "source": "e760e5ca4ebb4d570a324abda1bc40d3-3",
        "target": "e760e5ca4ebb4d570a324abda1bc40d3-1"
       },
       "group": "edges"
      }
     },
     "c8f3a54f413c424f38291e3acc23aae9": {
      "model_module": "cl-cytoscape",
      "model_module_version": "^0.1.96",
      "model_name": "ElementModel",
      "state": {
       "_model_module_version": "^0.1.96",
       "_view_module_version": "^0.1.96",
       "classes": [
        "1dcf3484287e49cf9c7afc9268896e41"
       ],
       "data": {
        "id": "b58b6bf47a484a3016e69a08ea48322c",
        "parent": "1dcf3484287e49cf9c7afc9268896e41",
        "source": "1dcf3484287e49cf9c7afc9268896e41-1",
        "target": "1dcf3484287e49cf9c7afc9268896e41-5"
       },
       "group": "edges"
      }
     },
     "cb1186c376ac466ab7e7036231499566": {
      "model_module": "cl-cytoscape",
      "model_module_version": "^0.1.96",
      "model_name": "ElementModel",
      "state": {
       "_model_module_version": "^0.1.96",
       "_view_module_version": "^0.1.96",
       "classes": [
        "3b13cd9da2764d2eac197640f66528e9",
        "child"
       ],
       "data": {
        "id": "3b13cd9da2764d2eac197640f66528e9-0",
        "name": "0",
        "parent": "3b13cd9da2764d2eac197640f66528e9"
       },
       "position": {
        "x": 497.3005420469807,
        "y": 615.5655647345143
       }
      }
     },
     "cd2e258c9b39441337dffa377d7721a3": {
      "model_module": "cl-cytoscape",
      "model_module_version": "^0.1.96",
      "model_name": "ElementModel",
      "state": {
       "_model_module_version": "^0.1.96",
       "_view_module_version": "^0.1.96",
       "classes": [
        "d35ac9af10124a22566fa5b17e829a55"
       ],
       "data": {
        "id": "baaf99adf386486f9afbfd3ea1355146",
        "parent": "d35ac9af10124a22566fa5b17e829a55",
        "source": "d35ac9af10124a22566fa5b17e829a55-2",
        "target": "d35ac9af10124a22566fa5b17e829a55-3"
       },
       "group": "edges"
      }
     },
     "ce817bb8ac07466ff11d372a2d599ddd": {
      "model_module": "cl-cytoscape",
      "model_module_version": "^0.1.96",
      "model_name": "ElementModel",
      "state": {
       "_model_module_version": "^0.1.96",
       "_view_module_version": "^0.1.96",
       "classes": [
        "d35ac9af10124a22566fa5b17e829a55"
       ],
       "data": {
        "id": "1806d60e070d4e30bfb0a9d658814724",
        "parent": "d35ac9af10124a22566fa5b17e829a55",
        "source": "d35ac9af10124a22566fa5b17e829a55-5",
        "target": "d35ac9af10124a22566fa5b17e829a55-6"
       },
       "group": "edges"
      }
     },
     "cf5939a970d345f9521b20dc7da8f82c": {
      "model_module": "cl-cytoscape",
      "model_module_version": "^0.1.96",
      "model_name": "ElementModel",
      "state": {
       "_model_module_version": "^0.1.96",
       "_view_module_version": "^0.1.96",
       "classes": [
        "d35ac9af10124a22566fa5b17e829a55"
       ],
       "data": {
        "id": "2b3147ffe9d54347e82e25629bae5dc0",
        "parent": "d35ac9af10124a22566fa5b17e829a55",
        "source": "d35ac9af10124a22566fa5b17e829a55-0",
        "target": "d35ac9af10124a22566fa5b17e829a55-6"
       },
       "group": "edges"
      }
     },
     "cfd7815aa0824a3b08baea1e8f533e4e": {
      "model_module": "cl-cytoscape",
      "model_module_version": "^0.1.96",
      "model_name": "ElementModel",
      "state": {
       "_model_module_version": "^0.1.96",
       "_view_module_version": "^0.1.96",
       "classes": [
        "5f04b7a2c8e1478a954715cda2ef119d",
        "child"
       ],
       "data": {
        "id": "5f04b7a2c8e1478a954715cda2ef119d-6",
        "name": "6",
        "parent": "5f04b7a2c8e1478a954715cda2ef119d"
       },
       "position": {
        "x": 1092.127659574468,
        "y": 630
       }
      }
     },
     "d0622af604a04aa7255fb435b9372920": {
      "model_module": "cl-cytoscape",
      "model_module_version": "^0.1.96",
      "model_name": "ElementModel",
      "state": {
       "_model_module_version": "^0.1.96",
       "_view_module_version": "^0.1.96",
       "classes": [
        "e760e5ca4ebb4d570a324abda1bc40d3"
       ],
       "data": {
        "id": "39903d72b61d434a257c4f6662878c26",
        "parent": "e760e5ca4ebb4d570a324abda1bc40d3",
        "source": "e760e5ca4ebb4d570a324abda1bc40d3-0",
        "target": "e760e5ca4ebb4d570a324abda1bc40d3-6"
       },
       "group": "edges"
      }
     },
     "d11ebc5ed5a34d48fc70efe0cce2ab2b": {
      "model_module": "cl-cytoscape",
      "model_module_version": "^0.1.96",
      "model_name": "ElementModel",
      "state": {
       "_model_module_version": "^0.1.96",
       "_view_module_version": "^0.1.96",
       "classes": [
        "3b13cd9da2764d2eac197640f66528e9",
        "child"
       ],
       "data": {
        "id": "3b13cd9da2764d2eac197640f66528e9-3",
        "name": "3",
        "parent": "3b13cd9da2764d2eac197640f66528e9"
       },
       "position": {
        "x": 629.9523442512557,
        "y": 541.269708911786
       }
      }
     },
     "d28d6ee5d6904ca22446338532c62ec0": {
      "model_module": "cl-cytoscape",
      "model_module_version": "^0.1.96",
      "model_name": "ElementModel",
      "state": {
       "_model_module_version": "^0.1.96",
       "_view_module_version": "^0.1.96",
       "classes": [
        "3b13cd9da2764d2eac197640f66528e9"
       ],
       "data": {
        "id": "c2ba115858f14352611a50bd4a02aa73",
        "parent": "3b13cd9da2764d2eac197640f66528e9",
        "source": "3b13cd9da2764d2eac197640f66528e9-4",
        "target": "3b13cd9da2764d2eac197640f66528e9-3"
       },
       "group": "edges"
      }
     },
     "d32dc287423043e8b685faf4c877eed8": {
      "model_module": "cl-cytoscape",
      "model_module_version": "^0.1.96",
      "model_name": "ElementModel",
      "state": {
       "_model_module_version": "^0.1.96",
       "_view_module_version": "^0.1.96",
       "classes": [
        "3b13cd9da2764d2eac197640f66528e9"
       ],
       "data": {
        "id": "63d21b929c6c475379613d999f40e58a",
        "parent": "3b13cd9da2764d2eac197640f66528e9",
        "source": "3b13cd9da2764d2eac197640f66528e9-0",
        "target": "3b13cd9da2764d2eac197640f66528e9-5"
       },
       "group": "edges"
      }
     },
     "d6f6ceba2bc648c619340a7e5c269602": {
      "model_module": "cl-cytoscape",
      "model_module_version": "^0.1.96",
      "model_name": "ElementModel",
      "state": {
       "_model_module_version": "^0.1.96",
       "_view_module_version": "^0.1.96",
       "classes": [
        "e760e5ca4ebb4d570a324abda1bc40d3"
       ],
       "data": {
        "id": "234483d1a2d14e1ef31a398e7635db11",
        "parent": "e760e5ca4ebb4d570a324abda1bc40d3",
        "source": "e760e5ca4ebb4d570a324abda1bc40d3-2",
        "target": "e760e5ca4ebb4d570a324abda1bc40d3-1"
       },
       "group": "edges"
      }
     },
     "d76d2b2bf0204d69854ec1b6ec1b5ea4": {
      "model_module": "cl-cytoscape",
      "model_module_version": "^0.1.96",
      "model_name": "GridLayoutModel",
      "state": {
       "_model_module_version": "^0.1.96",
       "_view_module_version": "^0.1.96",
       "animate": true,
       "animation_duration": 250,
       "bounding_box": {
        "h": 300,
        "w": 300,
        "x1": 660,
        "y1": 0
       },
       "fit": false,
       "selector": ".1dcf3484287e49cf9c7afc9268896e41"
      }
     },
     "d8409529870e4ef659d65315424dc837": {
      "model_module": "cl-cytoscape",
      "model_module_version": "^0.1.96",
      "model_name": "ElementModel",
      "state": {
       "_model_module_version": "^0.1.96",
       "_view_module_version": "^0.1.96",
       "classes": [
        "d35ac9af10124a22566fa5b17e829a55"
       ],
       "data": {
        "id": "108b58b7b4b74e4db452193b0f75ca27",
        "parent": "d35ac9af10124a22566fa5b17e829a55",
        "source": "d35ac9af10124a22566fa5b17e829a55-2",
        "target": "d35ac9af10124a22566fa5b17e829a55-6"
       },
       "group": "edges"
      }
     },
     "d917da2700b0448d242f4ebcef46bc69": {
      "model_module": "cl-cytoscape",
      "model_module_version": "^0.1.96",
      "model_name": "ElementModel",
      "state": {
       "_model_module_version": "^0.1.96",
       "_view_module_version": "^0.1.96",
       "classes": [
        "d35ac9af10124a22566fa5b17e829a55",
        "child"
       ],
       "data": {
        "id": "d35ac9af10124a22566fa5b17e829a55-3",
        "name": "3",
        "parent": "d35ac9af10124a22566fa5b17e829a55"
       },
       "position": {
        "x": 1192.066048694107,
        "y": 258.11626414829027
       }
      }
     },
     "db486a5a38334d58ec8bd6cceb81556e": {
      "model_module": "cl-cytoscape",
      "model_module_version": "^0.1.96",
      "model_name": "ElementModel",
      "state": {
       "_model_module_version": "^0.1.96",
       "_view_module_version": "^0.1.96",
       "classes": [
        "5f04b7a2c8e1478a954715cda2ef119d"
       ],
       "data": {
        "id": "011b162d5e454e384c11e0117ade3b50",
        "parent": "5f04b7a2c8e1478a954715cda2ef119d",
        "source": "5f04b7a2c8e1478a954715cda2ef119d-1",
        "target": "5f04b7a2c8e1478a954715cda2ef119d-6"
       },
       "group": "edges"
      }
     },
     "dda22a8ad11a400fc792297ba94d8a25": {
      "model_module": "cl-cytoscape",
      "model_module_version": "^0.1.96",
      "model_name": "ElementModel",
      "state": {
       "_model_module_version": "^0.1.96",
       "_view_module_version": "^0.1.96",
       "classes": [
        "c3d86c88893640327956e5eeabf99360",
        "child"
       ],
       "data": {
        "id": "c3d86c88893640327956e5eeabf99360-1",
        "name": "1",
        "parent": "c3d86c88893640327956e5eeabf99360"
       },
       "position": {
        "x": 787.3034433129466,
        "y": 426.03760496686203
       }
      }
     },
     "deb9b7731d2a4bee2b26f2262a10a3e8": {
      "model_module": "cl-cytoscape",
      "model_module_version": "^0.1.96",
      "model_name": "ElementModel",
      "state": {
       "_model_module_version": "^0.1.96",
       "_view_module_version": "^0.1.96",
       "classes": [
        "e760e5ca4ebb4d570a324abda1bc40d3",
        "child"
       ],
       "data": {
        "id": "e760e5ca4ebb4d570a324abda1bc40d3-5",
        "name": "5",
        "parent": "e760e5ca4ebb4d570a324abda1bc40d3"
       },
       "position": {
        "x": 598,
        "y": 67
       }
      }
     },
     "e81932ab52bf44c28a668626bd110176": {
      "model_module": "cl-cytoscape",
      "model_module_version": "^0.1.96",
      "model_name": "ElementModel",
      "state": {
       "_model_module_version": "^0.1.96",
       "_view_module_version": "^0.1.96",
       "classes": [
        "8d7c137bdf704d1c51ca546adb1fe3da",
        "child"
       ],
       "data": {
        "id": "8d7c137bdf704d1c51ca546adb1fe3da-1",
        "name": "1",
        "parent": "8d7c137bdf704d1c51ca546adb1fe3da"
       },
       "position": {
        "x": 75,
        "y": 150
       }
      }
     },
     "e880d38035804523a5ca548a20e54c19": {
      "model_module": "cl-cytoscape",
      "model_module_version": "^0.1.96",
      "model_name": "ElementModel",
      "state": {
       "_model_module_version": "^0.1.96",
       "_view_module_version": "^0.1.96",
       "classes": [
        "5f04b7a2c8e1478a954715cda2ef119d"
       ],
       "data": {
        "id": "ad0798b825ae490d7f097264b2eed193",
        "parent": "5f04b7a2c8e1478a954715cda2ef119d",
        "source": "5f04b7a2c8e1478a954715cda2ef119d-2",
        "target": "5f04b7a2c8e1478a954715cda2ef119d-3"
       },
       "group": "edges"
      }
     },
     "e93b701d6c1b4098640e3ed43505e09a": {
      "model_module": "cl-cytoscape",
      "model_module_version": "^0.1.96",
      "model_name": "ElementModel",
      "state": {
       "_model_module_version": "^0.1.96",
       "_view_module_version": "^0.1.96",
       "classes": [
        "8d7c137bdf704d1c51ca546adb1fe3da"
       ],
       "data": {
        "id": "1707f26fb79f46d153e40c4064f2dd36",
        "parent": "8d7c137bdf704d1c51ca546adb1fe3da",
        "source": "8d7c137bdf704d1c51ca546adb1fe3da-2",
        "target": "8d7c137bdf704d1c51ca546adb1fe3da-6"
       },
       "group": "edges"
      }
     },
     "e9a9297ecd2d42d1e8e04486cb584344": {
      "model_module": "cl-cytoscape",
      "model_module_version": "^0.1.96",
      "model_name": "ElementModel",
      "state": {
       "_model_module_version": "^0.1.96",
       "_view_module_version": "^0.1.96",
       "classes": [
        "3b13cd9da2764d2eac197640f66528e9"
       ],
       "data": {
        "id": "f1993d7ba2f64404e82d4fd82af4e0dc",
        "parent": "3b13cd9da2764d2eac197640f66528e9",
        "source": "3b13cd9da2764d2eac197640f66528e9-3",
        "target": "3b13cd9da2764d2eac197640f66528e9-6"
       },
       "group": "edges"
      }
     },
     "ebbf941a2cfd4c61a36c51dcf7d3d643": {
      "model_module": "cl-cytoscape",
      "model_module_version": "^0.1.96",
      "model_name": "ElementModel",
      "state": {
       "_model_module_version": "^0.1.96",
       "_view_module_version": "^0.1.96",
       "classes": [
        "5f04b7a2c8e1478a954715cda2ef119d"
       ],
       "data": {
        "id": "9b3e36e3e45242eb693a404fb83c94ba",
        "parent": "5f04b7a2c8e1478a954715cda2ef119d",
        "source": "5f04b7a2c8e1478a954715cda2ef119d-0",
        "target": "5f04b7a2c8e1478a954715cda2ef119d-6"
       },
       "group": "edges"
      }
     },
     "ec09fd1d5e8b45426b4532392debf80c": {
      "model_module": "cl-cytoscape",
      "model_module_version": "^0.1.96",
      "model_name": "CircleLayoutModel",
      "state": {
       "_model_module_version": "^0.1.96",
       "_view_module_version": "^0.1.96",
       "animate": true,
       "animation_duration": 250,
       "bounding_box": {
        "h": 300,
        "w": 300,
        "x1": 990,
        "y1": 0
       },
       "fit": false,
       "selector": ".d35ac9af10124a22566fa5b17e829a55"
      }
     },
     "ed6729fe26b646a6a6ead5edd5a12413": {
      "model_module": "cl-cytoscape",
      "model_module_version": "^0.1.96",
      "model_name": "ElementModel",
      "state": {
       "_model_module_version": "^0.1.96",
       "_view_module_version": "^0.1.96",
       "classes": [
        "5f04b7a2c8e1478a954715cda2ef119d",
        "child"
       ],
       "data": {
        "id": "5f04b7a2c8e1478a954715cda2ef119d-3",
        "name": "3",
        "parent": "5f04b7a2c8e1478a954715cda2ef119d"
       },
       "position": {
        "x": 1232.5531914893618,
        "y": 555
       }
      }
     },
     "eefe3848ce2b419ed860893e21d16de0": {
      "model_module": "cl-cytoscape",
      "model_module_version": "^0.1.96",
      "model_name": "ElementModel",
      "state": {
       "_model_module_version": "^0.1.96",
       "_view_module_version": "^0.1.96",
       "classes": [
        "3b13cd9da2764d2eac197640f66528e9"
       ],
       "data": {
        "id": "8df399fb70524db47fb845f4930ff16c",
        "parent": "3b13cd9da2764d2eac197640f66528e9",
        "source": "3b13cd9da2764d2eac197640f66528e9-0",
        "target": "3b13cd9da2764d2eac197640f66528e9-6"
       },
       "group": "edges"
      }
     },
     "ef1cc144f56c46bc62cc7e60893130e3": {
      "model_module": "cl-cytoscape",
      "model_module_version": "^0.1.96",
      "model_name": "ElementModel",
      "state": {
       "_model_module_version": "^0.1.96",
       "_view_module_version": "^0.1.96",
       "classes": [
        "1dcf3484287e49cf9c7afc9268896e41"
       ],
       "data": {
        "id": "10a5bedb93ed4df602d6ab51c76e064c",
        "parent": "1dcf3484287e49cf9c7afc9268896e41",
        "source": "1dcf3484287e49cf9c7afc9268896e41-2",
        "target": "1dcf3484287e49cf9c7afc9268896e41-1"
       },
       "group": "edges"
      }
     },
     "ef69f02c8c62494b385c0682ef55a386": {
      "model_module": "cl-cytoscape",
      "model_module_version": "^0.1.96",
      "model_name": "ElementModel",
      "state": {
       "_model_module_version": "^0.1.96",
       "_view_module_version": "^0.1.96",
       "classes": [
        "e760e5ca4ebb4d570a324abda1bc40d3"
       ],
       "data": {
        "id": "87914e835baa423b203a0397d563302d",
        "parent": "e760e5ca4ebb4d570a324abda1bc40d3",
        "source": "e760e5ca4ebb4d570a324abda1bc40d3-1",
        "target": "e760e5ca4ebb4d570a324abda1bc40d3-5"
       },
       "group": "edges"
      }
     },
     "f029f13e9a4347099d74ed0e7562fda6": {
      "model_module": "cl-cytoscape",
      "model_module_version": "^0.1.96",
      "model_name": "ElementModel",
      "state": {
       "_model_module_version": "^0.1.96",
       "_view_module_version": "^0.1.96",
       "classes": [
        "71355ee371f141e87b14d056dd16dd34"
       ],
       "data": {
        "id": "bf1db3214af048685edd598e40ba8a6d",
        "parent": "71355ee371f141e87b14d056dd16dd34",
        "source": "71355ee371f141e87b14d056dd16dd34-0",
        "target": "71355ee371f141e87b14d056dd16dd34-1"
       },
       "group": "edges"
      }
     },
     "f13f6a0572b541ede5c6e5e46124a1c8": {
      "model_module": "cl-cytoscape",
      "model_module_version": "^0.1.96",
      "model_name": "ElementModel",
      "state": {
       "_model_module_version": "^0.1.96",
       "_view_module_version": "^0.1.96",
       "classes": [
        "71355ee371f141e87b14d056dd16dd34"
       ],
       "data": {
        "id": "c4c5ee38da05476aeac12778b5843930",
        "parent": "71355ee371f141e87b14d056dd16dd34",
        "source": "71355ee371f141e87b14d056dd16dd34-3",
        "target": "71355ee371f141e87b14d056dd16dd34-6"
       },
       "group": "edges"
      }
     },
     "f2b24360469e40f62ae1ece7fa1cb2a3": {
      "model_module": "cl-cytoscape",
      "model_module_version": "^0.1.96",
      "model_name": "ElementModel",
      "state": {
       "_model_module_version": "^0.1.96",
       "_view_module_version": "^0.1.96",
       "classes": [
        "71355ee371f141e87b14d056dd16dd34"
       ],
       "data": {
        "id": "a9225cda638a434e15d62bb1e15a1db1",
        "parent": "71355ee371f141e87b14d056dd16dd34",
        "source": "71355ee371f141e87b14d056dd16dd34-5",
        "target": "71355ee371f141e87b14d056dd16dd34-6"
       },
       "group": "edges"
      }
     },
     "f2d5abb451f34074749910049f5e8cf6": {
      "model_module": "cl-cytoscape",
      "model_module_version": "^0.1.96",
      "model_name": "ElementModel",
      "state": {
       "_model_module_version": "^0.1.96",
       "_view_module_version": "^0.1.96",
       "classes": [
        "71355ee371f141e87b14d056dd16dd34"
       ],
       "data": {
        "id": "bd543c62a54c409f41c935a9abb31d1b",
        "parent": "71355ee371f141e87b14d056dd16dd34",
        "source": "71355ee371f141e87b14d056dd16dd34-2",
        "target": "71355ee371f141e87b14d056dd16dd34-3"
       },
       "group": "edges"
      }
     },
     "f3d863ddcd3e4cb55c31d879cc5607f5": {
      "model_module": "cl-cytoscape",
      "model_module_version": "^0.1.96",
      "model_name": "ElementModel",
      "state": {
       "_model_module_version": "^0.1.96",
       "_view_module_version": "^0.1.96",
       "classes": [
        "d35ac9af10124a22566fa5b17e829a55",
        "child"
       ],
       "data": {
        "id": "d35ac9af10124a22566fa5b17e829a55-4",
        "name": "4",
        "parent": "d35ac9af10124a22566fa5b17e829a55"
       },
       "position": {
        "x": 1087.933951305893,
        "y": 258.1162641482903
       }
      }
     },
     "f5bd0a8e5b544504ea2e19c26ef8ac5f": {
      "model_module": "cl-cytoscape",
      "model_module_version": "^0.1.96",
      "model_name": "ElementModel",
      "state": {
       "_model_module_version": "^0.1.96",
       "_view_module_version": "^0.1.96",
       "classes": [
        "1dcf3484287e49cf9c7afc9268896e41"
       ],
       "data": {
        "id": "fa3734710052454f35d10a1b0ffe47c9",
        "parent": "1dcf3484287e49cf9c7afc9268896e41",
        "source": "1dcf3484287e49cf9c7afc9268896e41-0",
        "target": "1dcf3484287e49cf9c7afc9268896e41-6"
       },
       "group": "edges"
      }
     },
     "f6f71fa959754bbfeec93524ed9136a9": {
      "model_module": "cl-cytoscape",
      "model_module_version": "^0.1.96",
      "model_name": "ElementModel",
      "state": {
       "_model_module_version": "^0.1.96",
       "_view_module_version": "^0.1.96",
       "classes": [
        "5f04b7a2c8e1478a954715cda2ef119d"
       ],
       "data": {
        "id": "e01166aa1133415bb91df8dc63d74138",
        "parent": "5f04b7a2c8e1478a954715cda2ef119d",
        "source": "5f04b7a2c8e1478a954715cda2ef119d-4",
        "target": "5f04b7a2c8e1478a954715cda2ef119d-5"
       },
       "group": "edges"
      }
     },
     "f73e0f64562c438a26523c07b0fbfeee": {
      "model_module": "cl-cytoscape",
      "model_module_version": "^0.1.96",
      "model_name": "ElementModel",
      "state": {
       "_model_module_version": "^0.1.96",
       "_view_module_version": "^0.1.96",
       "classes": [
        "d35ac9af10124a22566fa5b17e829a55"
       ],
       "data": {
        "id": "4debd0da46084eb1d0f5c69aae39ef05",
        "parent": "d35ac9af10124a22566fa5b17e829a55",
        "source": "d35ac9af10124a22566fa5b17e829a55-2",
        "target": "d35ac9af10124a22566fa5b17e829a55-1"
       },
       "group": "edges"
      }
     },
     "f7a2bdb39e3946cde6cc33ca6eb16d2f": {
      "model_module": "cl-cytoscape",
      "model_module_version": "^0.1.96",
      "model_name": "ElementModel",
      "state": {
       "_model_module_version": "^0.1.96",
       "_view_module_version": "^0.1.96",
       "classes": [
        "1dcf3484287e49cf9c7afc9268896e41"
       ],
       "data": {
        "id": "50c161069ae74b0c1752f3279982d21b",
        "parent": "1dcf3484287e49cf9c7afc9268896e41",
        "source": "1dcf3484287e49cf9c7afc9268896e41-5",
        "target": "1dcf3484287e49cf9c7afc9268896e41-3"
       },
       "group": "edges"
      }
     },
     "f7b2ca60acf04efc65d4a018055c2f23": {
      "model_module": "cl-cytoscape",
      "model_module_version": "^0.1.96",
      "model_name": "ElementModel",
      "state": {
       "_model_module_version": "^0.1.96",
       "_view_module_version": "^0.1.96",
       "classes": [
        "1dcf3484287e49cf9c7afc9268896e41"
       ],
       "data": {
        "id": "a3b868550881406e8fc56a65697dcfa0",
        "parent": "1dcf3484287e49cf9c7afc9268896e41",
        "source": "1dcf3484287e49cf9c7afc9268896e41-2",
        "target": "1dcf3484287e49cf9c7afc9268896e41-6"
       },
       "group": "edges"
      }
     },
     "f8a06a6733514cd7eb0ef283be74e86d": {
      "model_module": "cl-cytoscape",
      "model_module_version": "^0.1.96",
      "model_name": "ElementModel",
      "state": {
       "_model_module_version": "^0.1.96",
       "_view_module_version": "^0.1.96",
       "classes": [
        "71355ee371f141e87b14d056dd16dd34"
       ],
       "data": {
        "id": "c6039f8475e94fa2b240ed5bdbb4c8f2",
        "parent": "71355ee371f141e87b14d056dd16dd34",
        "source": "71355ee371f141e87b14d056dd16dd34-0",
        "target": "71355ee371f141e87b14d056dd16dd34-6"
       },
       "group": "edges"
      }
     },
     "f957c8afa85442ff707dfa8474d0c27f": {
      "model_module": "cl-cytoscape",
      "model_module_version": "^0.1.96",
      "model_name": "ElementModel",
      "state": {
       "_model_module_version": "^0.1.96",
       "_view_module_version": "^0.1.96",
       "classes": [
        "c3d86c88893640327956e5eeabf99360",
        "child"
       ],
       "data": {
        "id": "c3d86c88893640327956e5eeabf99360-0",
        "name": "0",
        "parent": "c3d86c88893640327956e5eeabf99360"
       },
       "position": {
        "x": 837.3034443129466,
        "y": 426.03760496686203
       }
      }
     },
     "fa25c3dd3ada4d5b43b215f8ed699bdf": {
      "model_module": "cl-cytoscape",
      "model_module_version": "^0.1.96",
      "model_name": "ElementModel",
      "state": {
       "_model_module_version": "^0.1.96",
       "_view_module_version": "^0.1.96",
       "classes": [
        "8d7c137bdf704d1c51ca546adb1fe3da"
       ],
       "data": {
        "id": "5cb9aae234f24da9c8f0f3b9055fec24",
        "parent": "8d7c137bdf704d1c51ca546adb1fe3da",
        "source": "8d7c137bdf704d1c51ca546adb1fe3da-4",
        "target": "8d7c137bdf704d1c51ca546adb1fe3da-6"
       },
       "group": "edges"
      }
     },
     "fbb80147f8d14dfad8d5c5ae19609a3c": {
      "model_module": "cl-cytoscape",
      "model_module_version": "^0.1.96",
      "model_name": "ElementModel",
      "state": {
       "_model_module_version": "^0.1.96",
       "_view_module_version": "^0.1.96",
       "classes": [
        "5f04b7a2c8e1478a954715cda2ef119d"
       ],
       "data": {
        "id": "af01e950c288414b1a0a079c029de12c",
        "parent": "5f04b7a2c8e1478a954715cda2ef119d",
        "source": "5f04b7a2c8e1478a954715cda2ef119d-0",
        "target": "5f04b7a2c8e1478a954715cda2ef119d-1"
       },
       "group": "edges"
      }
     },
     "fbdc47f49987474c34ed061a9acc607e": {
      "model_module": "cl-cytoscape",
      "model_module_version": "^0.1.96",
      "model_name": "ElementModel",
      "state": {
       "_model_module_version": "^0.1.96",
       "_view_module_version": "^0.1.96",
       "classes": [
        "5f04b7a2c8e1478a954715cda2ef119d"
       ],
       "data": {
        "id": "191a28e95ff04ea857f35f54dfb66a7c",
        "parent": "5f04b7a2c8e1478a954715cda2ef119d",
        "source": "5f04b7a2c8e1478a954715cda2ef119d-4",
        "target": "5f04b7a2c8e1478a954715cda2ef119d-6"
       },
       "group": "edges"
      }
     },
     "fbdeec0fd66a45c70b48512b2ea39905": {
      "model_module": "cl-cytoscape",
      "model_module_version": "^0.1.96",
      "model_name": "ElementModel",
      "state": {
       "_model_module_version": "^0.1.96",
       "_view_module_version": "^0.1.96",
       "classes": [
        "8d7c137bdf704d1c51ca546adb1fe3da"
       ],
       "data": {
        "id": "c5d8cd79f85548c0caf3151907a7a2f9",
        "parent": "8d7c137bdf704d1c51ca546adb1fe3da",
        "source": "8d7c137bdf704d1c51ca546adb1fe3da-0",
        "target": "8d7c137bdf704d1c51ca546adb1fe3da-6"
       },
       "group": "edges"
      }
     },
     "fd4dd3d944a043cff1dc1d35b0a1755e": {
      "model_module": "cl-cytoscape",
      "model_module_version": "^0.1.96",
      "model_name": "ElementModel",
      "state": {
       "_model_module_version": "^0.1.96",
       "_view_module_version": "^0.1.96",
       "classes": [
        "5f04b7a2c8e1478a954715cda2ef119d"
       ],
       "data": {
        "id": "9dbdb00436784d978bbaa1d2b8f562c2",
        "parent": "5f04b7a2c8e1478a954715cda2ef119d",
        "source": "5f04b7a2c8e1478a954715cda2ef119d-3",
        "target": "5f04b7a2c8e1478a954715cda2ef119d-6"
       },
       "group": "edges"
      }
     },
     "fdd413314230461b3c2426a73da5814e": {
      "model_module": "cl-cytoscape",
      "model_module_version": "^0.1.96",
      "model_name": "ElementModel",
      "state": {
       "_model_module_version": "^0.1.96",
       "_view_module_version": "^0.1.96",
       "classes": [
        "71355ee371f141e87b14d056dd16dd34"
       ],
       "data": {
        "id": "e4a954cadf97469268d02cc30db2a550",
        "parent": "71355ee371f141e87b14d056dd16dd34",
        "source": "71355ee371f141e87b14d056dd16dd34-4",
        "target": "71355ee371f141e87b14d056dd16dd34-6"
       },
       "group": "edges"
      }
     },
     "fdda9a97f2634f2260775b35b068a4e1": {
      "model_module": "cl-cytoscape",
      "model_module_version": "^0.1.96",
      "model_name": "ElementModel",
      "state": {
       "_model_module_version": "^0.1.96",
       "_view_module_version": "^0.1.96",
       "classes": [
        "5f04b7a2c8e1478a954715cda2ef119d",
        "child"
       ],
       "data": {
        "id": "5f04b7a2c8e1478a954715cda2ef119d-1",
        "name": "1",
        "parent": "5f04b7a2c8e1478a954715cda2ef119d"
       },
       "position": {
        "x": 1290,
        "y": 405
       }
      }
     },
     "fe5fd123eec94bf7d2237396cc71f965": {
      "model_module": "cl-cytoscape",
      "model_module_version": "^0.1.96",
      "model_name": "ElementModel",
      "state": {
       "_model_module_version": "^0.1.96",
       "_view_module_version": "^0.1.96",
       "classes": [
        "d35ac9af10124a22566fa5b17e829a55"
       ],
       "data": {
        "id": "c791feb69d50477ce7806fc9e681256e",
        "parent": "d35ac9af10124a22566fa5b17e829a55",
        "source": "d35ac9af10124a22566fa5b17e829a55-4",
        "target": "d35ac9af10124a22566fa5b17e829a55-6"
       },
       "group": "edges"
      }
     },
     "fea1cdab2c544d306e74912c0ab2b15d": {
      "model_module": "cl-cytoscape",
      "model_module_version": "^0.1.96",
      "model_name": "ElementModel",
      "state": {
       "_model_module_version": "^0.1.96",
       "_view_module_version": "^0.1.96",
       "classes": [
        "c3d86c88893640327956e5eeabf99360"
       ],
       "data": {
        "id": "4956f8b6ff7a4e476bef2abb29ade6c1",
        "parent": "c3d86c88893640327956e5eeabf99360",
        "source": "c3d86c88893640327956e5eeabf99360-2",
        "target": "c3d86c88893640327956e5eeabf99360-3"
       },
       "group": "edges"
      }
     },
     "ff405d9ebaf245fa9193eeef897a2290": {
      "model_module": "cl-cytoscape",
      "model_module_version": "^0.1.96",
      "model_name": "ElementModel",
      "state": {
       "_model_module_version": "^0.1.96",
       "_view_module_version": "^0.1.96",
       "classes": [
        "71355ee371f141e87b14d056dd16dd34",
        "child"
       ],
       "data": {
        "id": "71355ee371f141e87b14d056dd16dd34-6",
        "name": "6",
        "parent": "71355ee371f141e87b14d056dd16dd34"
       },
       "position": {
        "x": 150,
        "y": 451.7157287525381
       }
      }
     }
    },
    "version_major": 2,
    "version_minor": 0
   }
  }
 },
 "nbformat": 4,
 "nbformat_minor": 4
}
