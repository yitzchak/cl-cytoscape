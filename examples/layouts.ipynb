{
 "cells": [
  {
   "cell_type": "code",
   "execution_count": 1,
   "metadata": {},
   "outputs": [
    {
     "name": "stdout",
     "output_type": "stream",
     "text": [
      "To load \"cytoscape-clj\":\n",
      "  Load 1 ASDF system:\n",
      "    cytoscape-clj\n"
     ]
    },
    {
     "data": {
      "text/plain": [
       "(:CYTOSCAPE-CLJ)"
      ]
     },
     "execution_count": 1,
     "metadata": {},
     "output_type": "execute_result"
    },
    {
     "name": "stdout",
     "output_type": "stream",
     "text": [
      "\n",
      "; Loading \"cytoscape-clj\"\n",
      "\n"
     ]
    }
   ],
   "source": [
    "(ql:quickload :cytoscape-clj)"
   ]
  },
  {
   "cell_type": "code",
   "execution_count": 2,
   "metadata": {},
   "outputs": [
    {
     "data": {
      "text/plain": [
       "*COUNT*"
      ]
     },
     "execution_count": 2,
     "metadata": {},
     "output_type": "execute_result"
    },
    {
     "data": {
      "text/plain": [
       "+SIZE+"
      ]
     },
     "execution_count": 2,
     "metadata": {},
     "output_type": "execute_result"
    },
    {
     "data": {
      "text/plain": [
       "+MARGIN+"
      ]
     },
     "execution_count": 2,
     "metadata": {},
     "output_type": "execute_result"
    },
    {
     "data": {
      "text/plain": [
       "+COLUMNS+"
      ]
     },
     "execution_count": 2,
     "metadata": {},
     "output_type": "execute_result"
    },
    {
     "data": {
      "text/plain": [
       "*CYTO*"
      ]
     },
     "execution_count": 2,
     "metadata": {},
     "output_type": "execute_result"
    },
    {
     "data": {
      "text/plain": [
       "ELEMENT-ID"
      ]
     },
     "execution_count": 2,
     "metadata": {},
     "output_type": "execute_result"
    },
    {
     "data": {
      "text/plain": [
       "ADD-GRAPHS"
      ]
     },
     "execution_count": 2,
     "metadata": {},
     "output_type": "execute_result"
    },
    {
     "data": {
      "application/vnd.jupyter.widget-view+json": {
       "model_id": "2892fa5bb0314dda9cf9012a85cfffd4",
       "version_major": 2,
       "version_minor": 0
      },
      "text/plain": [
       "A Jupyter Widget"
      ]
     },
     "metadata": {},
     "output_type": "display_data"
    }
   ],
   "source": [
    "(defparameter *count* 0)\n",
    "(defparameter +size+ 300)\n",
    "(defparameter +margin+ 30)\n",
    "(defparameter +columns+ 4)\n",
    "\n",
    "(defparameter *cyto* (make-instance 'cytoscape:cytoscape-widget\n",
    "                                    :layout (make-instance 'jupyter-widgets:layout :height \"640px\")\n",
    "                                    :graph-style \"node { content: data(name); } \n",
    "                                                  node.child { text-valign: center; text-halign: center; }\n",
    "                                                  edge { curve-style: bezier; }\"))\n",
    "\n",
    "(defun element-id (id i)\n",
    "  (format nil \"~A-~A\" id i))\n",
    "\n",
    "(defun add-graphs (&rest layouts)\n",
    "  (dolist (layout layouts)\n",
    "  (let ((id (jupyter:make-uuid))\n",
    "        (elements nil))\n",
    "    (push (make-instance 'cytoscape:element      \n",
    "                         :group \"nodes\" \n",
    "                         :data (list (cons \"id\" id)\n",
    "                                     (cons \"name\" (string-downcase (class-name (class-of layout)))))\n",
    "                         :classes (list id))\n",
    "          elements)\n",
    "    (dotimes (i 7)\n",
    "        (push (make-instance 'cytoscape:element \n",
    "                             :group \"nodes\" \n",
    "                             :data (list (cons \"id\" (element-id id i))\n",
    "                                         (cons \"parent\" id)\n",
    "                                         (cons \"name\" (format nil \"~A\" i)))\n",
    "                             :classes (list id \"child\"))\n",
    "              elements))\n",
    "    (dotimes (i 3)\n",
    "        ; Edge from the corner to the next side\n",
    "        (push (make-instance 'cytoscape:element \n",
    "                             :group \"edges\" \n",
    "                             :data (list (cons \"parent\" id)\n",
    "                                         (cons \"id\" (jupyter:make-uuid))\n",
    "                                         (cons \"source\" (element-id id (* 2 i)))\n",
    "                                         (cons \"target\" (element-id id (1+ (* 2 i)))))\n",
    "                             :classes (list id))\n",
    "              elements)\n",
    "        ; Edge from the corner to the previous side\n",
    "        (push (make-instance 'cytoscape:element \n",
    "                             :group \"edges\" \n",
    "                             :data (list (cons \"parent\" id)\n",
    "                                         (cons \"id\" (jupyter:make-uuid))\n",
    "                                         (cons \"source\" (element-id id (* 2 i)))\n",
    "                                         (cons \"target\" (element-id id (mod (1- (* 2 i)) 6))))\n",
    "                             :classes (list id))\n",
    "              elements)\n",
    "        ; Edge from the corner to the middle\n",
    "        (push (make-instance 'cytoscape:element \n",
    "                             :group \"edges\" \n",
    "                             :data (list (cons \"parent\" id)\n",
    "                                         (cons \"id\" (jupyter:make-uuid))\n",
    "                                         (cons \"source\" (element-id id (* 2 i)))\n",
    "                                         (cons \"target\" (element-id id 6)))\n",
    "                             :classes (list id))\n",
    "              elements)\n",
    "        ; Edge from the side to the next side\n",
    "        (push (make-instance 'cytoscape:element \n",
    "                             :group \"edges\" \n",
    "                             :data (list (cons \"parent\" id)\n",
    "                                         (cons \"id\" (jupyter:make-uuid))\n",
    "                                         (cons \"source\" (element-id id (1+ (* 2 i))))\n",
    "                                         (cons \"target\" (element-id id (mod (1- (* 2 i)) 6))))\n",
    "                             :classes (list id))\n",
    "              elements)\n",
    "        ; Edge from the side to the middle\n",
    "        (push (make-instance 'cytoscape:element \n",
    "                             :group \"edges\" \n",
    "                             :data (list (cons \"parent\" id)\n",
    "                                         (cons \"id\" (jupyter:make-uuid))\n",
    "                                         (cons \"source\" (element-id id (1+ (* 2 i))))\n",
    "                                         (cons \"target\" (element-id id 6)))\n",
    "                             :classes (list id))\n",
    "              elements))\n",
    "    (setf (cytoscape:selector layout) (format nil \".~A\" id))\n",
    "    (multiple-value-bind (row col) (floor *count* +columns+)\n",
    "      (setf (cytoscape:bounding-box layout) (list (cons \"x1\" (* (+ +margin+ +size+) col))\n",
    "                                                  (cons \"y1\" (* (+ +margin+ +size+) row))\n",
    "                                                  (cons \"w\" +size+)\n",
    "                                                  (cons \"h\" +size+))))\n",
    "    (incf *count*)\n",
    "    (setf (cytoscape:fit layout) nil)\n",
    "    (cytoscape:on-layout-stop layout (lambda (l) (declare (ignore l)) (cytoscape:fit-elements *cyto*)))\n",
    "    (setf (cytoscape:graph-layouts *cyto*) (append (cytoscape:graph-layouts *cyto*) (list layout)))\n",
    "    (setf (cytoscape:elements *cyto*) (append (cytoscape:elements *cyto*) (reverse elements)))))\n",
    "  (values))\n",
    "\n",
    "*cyto*"
   ]
  },
  {
   "cell_type": "code",
   "execution_count": 3,
   "metadata": {},
   "outputs": [],
   "source": [
    "(add-graphs (make-instance 'cytoscape:breadth-first-layout)\n",
    "            (make-instance 'cytoscape:random-layout)\n",
    "            (make-instance 'cytoscape:grid-layout)\n",
    "            (make-instance 'cytoscape:circle-layout)\n",
    "            (make-instance 'cytoscape:concentric-layout)\n",
    "            (make-instance 'cytoscape:cose-layout)\n",
    "            (make-instance 'cytoscape:cola-layout)\n",
    "            (make-instance 'cytoscape:dagre-layout))"
   ]
  },
  {
   "cell_type": "code",
   "execution_count": null,
   "metadata": {},
   "outputs": [],
   "source": []
  }
 ],
 "metadata": {
  "kernelspec": {
   "display_name": "Common Lisp (clasp)",
   "language": "common-lisp",
   "name": "common-lisp_clasp"
  },
  "language_info": {
   "codemirror_mode": "text/x-common-lisp",
   "file_extension": ".lisp",
   "mimetype": "text/x-common-lisp",
   "name": "common-lisp",
   "pygments_lexer": "common-lisp",
   "version": "cclasp-boehm-0.4.2-2722-gc7cf406d8-cst"
  },
  "widgets": {
   "application/vnd.jupyter.widget-state+json": {
    "state": {
     "001e8e1fc16a4e87884f16e584608698": {
      "model_module": "cytoscape-clj",
      "model_module_version": "^0.2.0",
      "model_name": "ElementModel",
      "state": {
       "_model_module_version": "^0.2.0",
       "_view_module_version": "^0.2.0",
       "classes": [
        "261d64a01f814cd523b7a6ab2a7d6547"
       ],
       "data": {
        "id": "af9f8f2df0cb4e7f04efe2930113900b",
        "parent": "261d64a01f814cd523b7a6ab2a7d6547",
        "source": "261d64a01f814cd523b7a6ab2a7d6547-1",
        "target": "261d64a01f814cd523b7a6ab2a7d6547-5"
       },
       "group": "edges"
      }
     },
     "00375c98187c4dc8aed7925dbffd8ac5": {
      "model_module": "cytoscape-clj",
      "model_module_version": "^0.2.0",
      "model_name": "ElementModel",
      "state": {
       "_model_module_version": "^0.2.0",
       "_view_module_version": "^0.2.0",
       "classes": [
        "7026a101dab04a0642011f2a3371d95a"
       ],
       "data": {
        "id": "44a82ffa171c4d7caab4213c34e4fc3d",
        "parent": "7026a101dab04a0642011f2a3371d95a",
        "source": "7026a101dab04a0642011f2a3371d95a-1",
        "target": "7026a101dab04a0642011f2a3371d95a-5"
       },
       "group": "edges"
      }
     },
     "012496b3406342b64461a54346c358d2": {
      "model_module": "cytoscape-clj",
      "model_module_version": "^0.2.0",
      "model_name": "ElementModel",
      "state": {
       "_model_module_version": "^0.2.0",
       "_view_module_version": "^0.2.0",
       "classes": [
        "0b444ec8485641b276db9ef4b6bbc856"
       ],
       "data": {
        "id": "3d0104261cee48a890014e2891ee1997",
        "parent": "0b444ec8485641b276db9ef4b6bbc856",
        "source": "0b444ec8485641b276db9ef4b6bbc856-0",
        "target": "0b444ec8485641b276db9ef4b6bbc856-5"
       },
       "group": "edges"
      }
     },
     "02a29dd788bf411524894fe154eb992d": {
      "model_module": "cytoscape-clj",
      "model_module_version": "^0.2.0",
      "model_name": "ElementModel",
      "state": {
       "_model_module_version": "^0.2.0",
       "_view_module_version": "^0.2.0",
       "classes": [
        "cf3d6ed3a72344740c70160b49dacfc4"
       ],
       "data": {
        "id": "9d76a02f9a6043b8253e2c81527b962e",
        "parent": "cf3d6ed3a72344740c70160b49dacfc4",
        "source": "cf3d6ed3a72344740c70160b49dacfc4-4",
        "target": "cf3d6ed3a72344740c70160b49dacfc4-6"
       },
       "group": "edges"
      }
     },
     "04e0974f1b354bdc5c5387c72093c0de": {
      "model_module": "cytoscape-clj",
      "model_module_version": "^0.2.0",
      "model_name": "ElementModel",
      "state": {
       "_model_module_version": "^0.2.0",
       "_view_module_version": "^0.2.0",
       "classes": [
        "3ace55d44a614943dd409dd2eaebf749",
        "child"
       ],
       "data": {
        "id": "3ace55d44a614943dd409dd2eaebf749-0",
        "name": "0",
        "parent": "3ace55d44a614943dd409dd2eaebf749"
       },
       "position": {
        "x": 1015.531914893617,
        "y": 330
       }
      }
     },
     "05a3013dfc1e4051ed81bfcee5935cd2": {
      "model_module": "cytoscape-clj",
      "model_module_version": "^0.2.0",
      "model_name": "ElementModel",
      "state": {
       "_model_module_version": "^0.2.0",
       "_view_module_version": "^0.2.0",
       "classes": [
        "261d64a01f814cd523b7a6ab2a7d6547",
        "child"
       ],
       "data": {
        "id": "261d64a01f814cd523b7a6ab2a7d6547-3",
        "name": "3",
        "parent": "261d64a01f814cd523b7a6ab2a7d6547"
       },
       "position": {
        "x": 456.1222547515616,
        "y": 630
       }
      }
     },
     "0612b3910ea34244caead23e161a5a39": {
      "model_module": "cytoscape-clj",
      "model_module_version": "^0.2.0",
      "model_name": "ElementModel",
      "state": {
       "_model_module_version": "^0.2.0",
       "_view_module_version": "^0.2.0",
       "classes": [
        "7026a101dab04a0642011f2a3371d95a"
       ],
       "data": {
        "id": "5afa2db76c0e460317dc73c01f962671",
        "parent": "7026a101dab04a0642011f2a3371d95a",
        "source": "7026a101dab04a0642011f2a3371d95a-1",
        "target": "7026a101dab04a0642011f2a3371d95a-6"
       },
       "group": "edges"
      }
     },
     "06499e6bb87a4e1347ed58b0a62a43cc": {
      "model_module": "cytoscape-clj",
      "model_module_version": "^0.2.0",
      "model_name": "ElementModel",
      "state": {
       "_model_module_version": "^0.2.0",
       "_view_module_version": "^0.2.0",
       "classes": [
        "261d64a01f814cd523b7a6ab2a7d6547"
       ],
       "data": {
        "id": "7071fc3bc93a4d37edc3b33dddd7fc9c",
        "parent": "261d64a01f814cd523b7a6ab2a7d6547",
        "source": "261d64a01f814cd523b7a6ab2a7d6547-5",
        "target": "261d64a01f814cd523b7a6ab2a7d6547-3"
       },
       "group": "edges"
      }
     },
     "064bb200f4154de217386bc10e3b5c98": {
      "model_module": "cytoscape-clj",
      "model_module_version": "^0.2.0",
      "model_name": "ElementModel",
      "state": {
       "_model_module_version": "^0.2.0",
       "_view_module_version": "^0.2.0",
       "classes": [
        "bcdee604f84b49d9d2d2b755f9b8e91b",
        "child"
       ],
       "data": {
        "id": "bcdee604f84b49d9d2d2b755f9b8e91b-2",
        "name": "2",
        "parent": "bcdee604f84b49d9d2d2b755f9b8e91b"
       },
       "position": {
        "x": 128.57142857142858,
        "y": 225
       }
      }
     },
     "065079278e784f7fc6996283e3a2a0fb": {
      "model_module": "cytoscape-clj",
      "model_module_version": "^0.2.0",
      "model_name": "ElementModel",
      "state": {
       "_model_module_version": "^0.2.0",
       "_view_module_version": "^0.2.0",
       "classes": [
        "261d64a01f814cd523b7a6ab2a7d6547"
       ],
       "data": {
        "id": "c3bedc0f49cd4d848d554e26a4d20c0e",
        "parent": "261d64a01f814cd523b7a6ab2a7d6547",
        "source": "261d64a01f814cd523b7a6ab2a7d6547-4",
        "target": "261d64a01f814cd523b7a6ab2a7d6547-6"
       },
       "group": "edges"
      }
     },
     "07703622f8ad4c0a0812b834f1da4b0b": {
      "model_module": "cytoscape-clj",
      "model_module_version": "^0.2.0",
      "model_name": "ElementModel",
      "state": {
       "_model_module_version": "^0.2.0",
       "_view_module_version": "^0.2.0",
       "classes": [
        "3ace55d44a614943dd409dd2eaebf749"
       ],
       "data": {
        "id": "85921be63ea74fc75b5b7e5ee00af17a",
        "parent": "3ace55d44a614943dd409dd2eaebf749",
        "source": "3ace55d44a614943dd409dd2eaebf749-1",
        "target": "3ace55d44a614943dd409dd2eaebf749-6"
       },
       "group": "edges"
      }
     },
     "081ee27d034c45b5bca8139d4eafcee3": {
      "model_module": "cytoscape-clj",
      "model_module_version": "^0.2.0",
      "model_name": "ElementModel",
      "state": {
       "_model_module_version": "^0.2.0",
       "_view_module_version": "^0.2.0",
       "classes": [
        "3ace55d44a614943dd409dd2eaebf749"
       ],
       "data": {
        "id": "531411c452014902c23b9f13337859da",
        "parent": "3ace55d44a614943dd409dd2eaebf749",
        "source": "3ace55d44a614943dd409dd2eaebf749-3",
        "target": "3ace55d44a614943dd409dd2eaebf749-6"
       },
       "group": "edges"
      }
     },
     "0aa74cca45214235fa715a25d5812dad": {
      "model_module": "cytoscape-clj",
      "model_module_version": "^0.2.0",
      "model_name": "GridLayoutModel",
      "state": {
       "_model_module_version": "^0.2.0",
       "_view_module_version": "^0.2.0",
       "animate": true,
       "animation_duration": 250,
       "bounding_box": {
        "h": 300,
        "w": 300,
        "x1": 660,
        "y1": 0
       },
       "fit": false,
       "selector": ".0b444ec8485641b276db9ef4b6bbc856"
      }
     },
     "0c0b77d4575c4d25a5d29e6481d57184": {
      "model_module": "cytoscape-clj",
      "model_module_version": "^0.2.0",
      "model_name": "ElementModel",
      "state": {
       "_model_module_version": "^0.2.0",
       "_view_module_version": "^0.2.0",
       "classes": [
        "0b444ec8485641b276db9ef4b6bbc856",
        "child"
       ],
       "data": {
        "id": "0b444ec8485641b276db9ef4b6bbc856-1",
        "name": "1",
        "parent": "0b444ec8485641b276db9ef4b6bbc856"
       },
       "position": {
        "x": 810,
        "y": 50
       }
      }
     },
     "0c43fb3b84974509f3ee469906a47889": {
      "model_module": "cytoscape-clj",
      "model_module_version": "^0.2.0",
      "model_name": "ElementModel",
      "state": {
       "_model_module_version": "^0.2.0",
       "_view_module_version": "^0.2.0",
       "classes": [
        "3ace55d44a614943dd409dd2eaebf749"
       ],
       "data": {
        "id": "5894b42703b442c909ea9b2dd874b854",
        "parent": "3ace55d44a614943dd409dd2eaebf749",
        "source": "3ace55d44a614943dd409dd2eaebf749-2",
        "target": "3ace55d44a614943dd409dd2eaebf749-1"
       },
       "group": "edges"
      }
     },
     "0ce29261e3ca47d8778b0aaa93c3587c": {
      "model_module": "cytoscape-clj",
      "model_module_version": "^0.2.0",
      "model_name": "ElementModel",
      "state": {
       "_model_module_version": "^0.2.0",
       "_view_module_version": "^0.2.0",
       "classes": [
        "0b444ec8485641b276db9ef4b6bbc856"
       ],
       "data": {
        "id": "153cf949bb1c4ec4e86ccd95791461e0",
        "parent": "0b444ec8485641b276db9ef4b6bbc856",
        "source": "0b444ec8485641b276db9ef4b6bbc856-1",
        "target": "0b444ec8485641b276db9ef4b6bbc856-5"
       },
       "group": "edges"
      }
     },
     "0f36830a5a4e41ef2e1d9171d21bba4b": {
      "model_module": "cytoscape-clj",
      "model_module_version": "^0.2.0",
      "model_name": "ElementModel",
      "state": {
       "_model_module_version": "^0.2.0",
       "_view_module_version": "^0.2.0",
       "classes": [
        "0b444ec8485641b276db9ef4b6bbc856"
       ],
       "data": {
        "id": "890a3fb556a1406e548390cd30b7e440",
        "parent": "0b444ec8485641b276db9ef4b6bbc856",
        "source": "0b444ec8485641b276db9ef4b6bbc856-3",
        "target": "0b444ec8485641b276db9ef4b6bbc856-6"
       },
       "group": "edges"
      }
     },
     "123fb5703de54a8e85da4a1681bb6a19": {
      "model_module": "cytoscape-clj",
      "model_module_version": "^0.2.0",
      "model_name": "ElementModel",
      "state": {
       "_model_module_version": "^0.2.0",
       "_view_module_version": "^0.2.0",
       "classes": [
        "261d64a01f814cd523b7a6ab2a7d6547"
       ],
       "data": {
        "id": "bcf06d5f0bf94d68a61cd54a8465e4bb",
        "parent": "261d64a01f814cd523b7a6ab2a7d6547",
        "source": "261d64a01f814cd523b7a6ab2a7d6547-1",
        "target": "261d64a01f814cd523b7a6ab2a7d6547-6"
       },
       "group": "edges"
      }
     },
     "1684b5667ed049c26e05590cfae41d84": {
      "model_module": "cytoscape-clj",
      "model_module_version": "^0.2.0",
      "model_name": "ElementModel",
      "state": {
       "_model_module_version": "^0.2.0",
       "_view_module_version": "^0.2.0",
       "classes": [
        "3ace55d44a614943dd409dd2eaebf749",
        "child"
       ],
       "data": {
        "id": "3ace55d44a614943dd409dd2eaebf749-5",
        "name": "5",
        "parent": "3ace55d44a614943dd409dd2eaebf749"
       },
       "position": {
        "x": 1168.723404255319,
        "y": 480
       }
      }
     },
     "1721a1033c4e4197d75c6b75cc78f2fa": {
      "model_module": "cytoscape-clj",
      "model_module_version": "^0.2.0",
      "model_name": "ElementModel",
      "state": {
       "_model_module_version": "^0.2.0",
       "_view_module_version": "^0.2.0",
       "classes": [
        "0b444ec8485641b276db9ef4b6bbc856",
        "child"
       ],
       "data": {
        "id": "0b444ec8485641b276db9ef4b6bbc856-0",
        "name": "0",
        "parent": "0b444ec8485641b276db9ef4b6bbc856"
       },
       "position": {
        "x": 710,
        "y": 50
       }
      }
     },
     "1767eaae7fe6437aa91fc09f9cfce78e": {
      "model_module": "cytoscape-clj",
      "model_module_version": "^0.2.0",
      "model_name": "ElementModel",
      "state": {
       "_model_module_version": "^0.2.0",
       "_view_module_version": "^0.2.0",
       "classes": [
        "0b444ec8485641b276db9ef4b6bbc856"
       ],
       "data": {
        "id": "2562c8fbbfad4c03579d2b4c64fc9df4",
        "parent": "0b444ec8485641b276db9ef4b6bbc856",
        "source": "0b444ec8485641b276db9ef4b6bbc856-4",
        "target": "0b444ec8485641b276db9ef4b6bbc856-3"
       },
       "group": "edges"
      }
     },
     "1a2d9fc9aa2f47ed13b97f26a3adbf25": {
      "model_module": "cytoscape-clj",
      "model_module_version": "^0.2.0",
      "model_name": "ElementModel",
      "state": {
       "_model_module_version": "^0.2.0",
       "_view_module_version": "^0.2.0",
       "classes": [
        "7026a101dab04a0642011f2a3371d95a"
       ],
       "data": {
        "id": "9a5407b514a242f7e8746050ff0b805a",
        "parent": "7026a101dab04a0642011f2a3371d95a",
        "source": "7026a101dab04a0642011f2a3371d95a-5",
        "target": "7026a101dab04a0642011f2a3371d95a-6"
       },
       "group": "edges"
      }
     },
     "1a4f5e950d9c41006c82fc540d6ac42a": {
      "model_module": "cytoscape-clj",
      "model_module_version": "^0.2.0",
      "model_name": "ElementModel",
      "state": {
       "_model_module_version": "^0.2.0",
       "_view_module_version": "^0.2.0",
       "classes": [
        "3ace55d44a614943dd409dd2eaebf749"
       ],
       "data": {
        "id": "a7acaab9d84d48ca4a217e532ef5b3b4",
        "parent": "3ace55d44a614943dd409dd2eaebf749",
        "source": "3ace55d44a614943dd409dd2eaebf749-0",
        "target": "3ace55d44a614943dd409dd2eaebf749-5"
       },
       "group": "edges"
      }
     },
     "1be1c995fd8a48613a3b12a7002d85fe": {
      "model_module": "cytoscape-clj",
      "model_module_version": "^0.2.0",
      "model_name": "ElementModel",
      "state": {
       "_model_module_version": "^0.2.0",
       "_view_module_version": "^0.2.0",
       "classes": [
        "7026a101dab04a0642011f2a3371d95a",
        "child"
       ],
       "data": {
        "id": "7026a101dab04a0642011f2a3371d95a-4",
        "name": "4",
        "parent": "7026a101dab04a0642011f2a3371d95a"
       },
       "position": {
        "x": 1087.933951305893,
        "y": 258.1162641482903
       }
      }
     },
     "1dbd9a2ca72d4b535e28b5a9f27b86f4": {
      "model_module": "cytoscape-clj",
      "model_module_version": "^0.2.0",
      "model_name": "ElementModel",
      "state": {
       "_model_module_version": "^0.2.0",
       "_view_module_version": "^0.2.0",
       "classes": [
        "bcdee604f84b49d9d2d2b755f9b8e91b"
       ],
       "data": {
        "id": "beb5d97f12234ed154a2c4b2d421a4d1",
        "parent": "bcdee604f84b49d9d2d2b755f9b8e91b",
        "source": "bcdee604f84b49d9d2d2b755f9b8e91b-5",
        "target": "bcdee604f84b49d9d2d2b755f9b8e91b-6"
       },
       "group": "edges"
      }
     },
     "1eef8af485914011241a5f9ee2faed90": {
      "model_module": "cytoscape-clj",
      "model_module_version": "^0.2.0",
      "model_name": "ElementModel",
      "state": {
       "_model_module_version": "^0.2.0",
       "_view_module_version": "^0.2.0",
       "classes": [
        "261d64a01f814cd523b7a6ab2a7d6547",
        "child"
       ],
       "data": {
        "id": "261d64a01f814cd523b7a6ab2a7d6547-1",
        "name": "1",
        "parent": "261d64a01f814cd523b7a6ab2a7d6547"
       },
       "position": {
        "x": 509.27916316137834,
        "y": 501.0551980989803
       }
      }
     },
     "1f0a65b2bed64e307c43da1a874075a6": {
      "model_module": "cytoscape-clj",
      "model_module_version": "^0.2.0",
      "model_name": "ElementModel",
      "state": {
       "_model_module_version": "^0.2.0",
       "_view_module_version": "^0.2.0",
       "classes": [
        "0b444ec8485641b276db9ef4b6bbc856"
       ],
       "data": {
        "id": "f84fb6a58b6d45bc9c642d52d81078f5",
        "parent": "0b444ec8485641b276db9ef4b6bbc856",
        "source": "0b444ec8485641b276db9ef4b6bbc856-2",
        "target": "0b444ec8485641b276db9ef4b6bbc856-1"
       },
       "group": "edges"
      }
     },
     "1f6e8a3bbfdc4920ccc6dbc9e2c32272": {
      "model_module": "cytoscape-clj",
      "model_module_version": "^0.2.0",
      "model_name": "ElementModel",
      "state": {
       "_model_module_version": "^0.2.0",
       "_view_module_version": "^0.2.0",
       "classes": [
        "a9a0c90446244b72b1eeafd591440c13"
       ],
       "data": {
        "id": "a91d29e92f8b4c53b96542882f4ac285",
        "parent": "a9a0c90446244b72b1eeafd591440c13",
        "source": "a9a0c90446244b72b1eeafd591440c13-2",
        "target": "a9a0c90446244b72b1eeafd591440c13-3"
       },
       "group": "edges"
      }
     },
     "1f81eb3bd06242dfb3f6411744912055": {
      "model_module": "cytoscape-clj",
      "model_module_version": "^0.2.0",
      "model_name": "ElementModel",
      "state": {
       "_model_module_version": "^0.2.0",
       "_view_module_version": "^0.2.0",
       "classes": [
        "a9a0c90446244b72b1eeafd591440c13"
       ],
       "data": {
        "id": "67bb2b0fe62743eb37d0b56d8c824d63",
        "parent": "a9a0c90446244b72b1eeafd591440c13",
        "source": "a9a0c90446244b72b1eeafd591440c13-2",
        "target": "a9a0c90446244b72b1eeafd591440c13-6"
       },
       "group": "edges"
      }
     },
     "20523e3bdf5745caa0f7423f4dc061ab": {
      "model_module": "cytoscape-clj",
      "model_module_version": "^0.2.0",
      "model_name": "ElementModel",
      "state": {
       "_model_module_version": "^0.2.0",
       "_view_module_version": "^0.2.0",
       "classes": [
        "73767608a9f54f1eff44d9872b2df9b2",
        "child"
       ],
       "data": {
        "id": "73767608a9f54f1eff44d9872b2df9b2-2",
        "name": "2",
        "parent": "73767608a9f54f1eff44d9872b2df9b2"
       },
       "position": {
        "x": 731.3034423129466,
        "y": 483.07209212886426
       }
      }
     },
     "221978703e2141e0976166a427730211": {
      "model_module": "cytoscape-clj",
      "model_module_version": "^0.2.0",
      "model_name": "ElementModel",
      "state": {
       "_model_module_version": "^0.2.0",
       "_view_module_version": "^0.2.0",
       "classes": [
        "261d64a01f814cd523b7a6ab2a7d6547"
       ],
       "data": {
        "id": "f40e091d02ae47a0923f647446515b60",
        "parent": "261d64a01f814cd523b7a6ab2a7d6547",
        "source": "261d64a01f814cd523b7a6ab2a7d6547-2",
        "target": "261d64a01f814cd523b7a6ab2a7d6547-6"
       },
       "group": "edges"
      }
     },
     "23b9184382f8455d4124d01bf6cc96b2": {
      "model_module": "cytoscape-clj",
      "model_module_version": "^0.2.0",
      "model_name": "ElementModel",
      "state": {
       "_model_module_version": "^0.2.0",
       "_view_module_version": "^0.2.0",
       "classes": [
        "73767608a9f54f1eff44d9872b2df9b2",
        "child"
       ],
       "data": {
        "id": "73767608a9f54f1eff44d9872b2df9b2-3",
        "name": "3",
        "parent": "73767608a9f54f1eff44d9872b2df9b2"
       },
       "position": {
        "x": 881.3034453129466,
        "y": 458.03760496686203
       }
      }
     },
     "23c3ecb3bda34aaed01f4c8838b079bc": {
      "model_module": "cytoscape-clj",
      "model_module_version": "^0.2.0",
      "model_name": "ElementModel",
      "state": {
       "_model_module_version": "^0.2.0",
       "_view_module_version": "^0.2.0",
       "classes": [
        "a9a0c90446244b72b1eeafd591440c13",
        "child"
       ],
       "data": {
        "id": "a9a0c90446244b72b1eeafd591440c13-4",
        "name": "4",
        "parent": "a9a0c90446244b72b1eeafd591440c13"
       },
       "position": {
        "x": 90.86408642079067,
        "y": 514.142135623731
       }
      }
     },
     "25143a394703471a6ef8f5e5c023c359": {
      "model_module": "cytoscape-clj",
      "model_module_version": "^0.2.0",
      "model_name": "ElementModel",
      "state": {
       "_model_module_version": "^0.2.0",
       "_view_module_version": "^0.2.0",
       "classes": [
        "cf3d6ed3a72344740c70160b49dacfc4",
        "child"
       ],
       "data": {
        "id": "cf3d6ed3a72344740c70160b49dacfc4-5",
        "name": "5",
        "parent": "cf3d6ed3a72344740c70160b49dacfc4"
       },
       "position": {
        "x": 558,
        "y": 213
       }
      }
     },
     "256e23bded8b46687423a508a793cdde": {
      "model_module": "cytoscape-clj",
      "model_module_version": "^0.2.0",
      "model_name": "ElementModel",
      "state": {
       "_model_module_version": "^0.2.0",
       "_view_module_version": "^0.2.0",
       "classes": [
        "bcdee604f84b49d9d2d2b755f9b8e91b",
        "child"
       ],
       "data": {
        "id": "bcdee604f84b49d9d2d2b755f9b8e91b-6",
        "name": "6",
        "parent": "bcdee604f84b49d9d2d2b755f9b8e91b"
       },
       "position": {
        "x": 200,
        "y": 150
       }
      }
     },
     "2892fa5bb0314dda9cf9012a85cfffd4": {
      "model_module": "cytoscape-clj",
      "model_module_version": "^0.2.0",
      "model_name": "CytoscapeModel",
      "state": {
       "_model_module_version": "^0.2.0",
       "_view_module_version": "^0.2.0",
       "box_selection_enabled": true,
       "desktop_tap_threshold": 4,
       "elements": [
        "IPY_MODEL_db40a3c1ba8f42fbd1b0e0b6e3eb7f6e",
        "IPY_MODEL_6607c39ec4e448cdc2efbae54e4f2bd5",
        "IPY_MODEL_28b1e5a5f0874b688acf673ccbbf2424",
        "IPY_MODEL_064bb200f4154de217386bc10e3b5c98",
        "IPY_MODEL_cbf09dcda1cc4f4fafdb784f304e4666",
        "IPY_MODEL_c7738b977a3643e5407ee4d15ff7f4db",
        "IPY_MODEL_df21b36b352349081c981eae4ac4d796",
        "IPY_MODEL_256e23bded8b46687423a508a793cdde",
        "IPY_MODEL_49883e7c1429417d8f99deb104af414a",
        "IPY_MODEL_de7af45a455943f19628da3168362a90",
        "IPY_MODEL_9edf247f56eb4f3fc785c828507b054e",
        "IPY_MODEL_bc14e47546a9424830511fd2ffab56da",
        "IPY_MODEL_fe1dd1ea38dd475aa41e6c015b232daf",
        "IPY_MODEL_ec1290fbf33a4c127835a5f2582ee949",
        "IPY_MODEL_ed102cff30c049156c0cb1a45d34e189",
        "IPY_MODEL_cd10232f18f24c0895be3a77ea56212e",
        "IPY_MODEL_7434f0a2550943a2df3cbccc83171e18",
        "IPY_MODEL_69ef00f30b974fb0e5bcd1e9987c9347",
        "IPY_MODEL_bd2be08077f444b456a7e06064e0bf87",
        "IPY_MODEL_7fdd02cd03d340f93ba967da7d1f40da",
        "IPY_MODEL_c70e5cb73be545eba5dd50902ba99788",
        "IPY_MODEL_5b07231f30f643eff53e699f106b63bf",
        "IPY_MODEL_1dbd9a2ca72d4b535e28b5a9f27b86f4",
        "IPY_MODEL_b94375826f134c5b1c6dbda28b096b29",
        "IPY_MODEL_7fd839f9d5864d34124997856041547c",
        "IPY_MODEL_c828514db0f945cb01a3298cf38ff205",
        "IPY_MODEL_4e2b72fcb7df4a37737ae9f989ad603d",
        "IPY_MODEL_fb224387a85248bbdbf38efaa092fe90",
        "IPY_MODEL_a1ca0015c03e4b98ce046ba21b8667ae",
        "IPY_MODEL_25143a394703471a6ef8f5e5c023c359",
        "IPY_MODEL_47dfad23b4b6428fdd7a32914142956c",
        "IPY_MODEL_370c91467caf4b4596409040932af185",
        "IPY_MODEL_fdc588f039904648ba8e3c58cc941bea",
        "IPY_MODEL_891eb3bd4f634ea7a1544e087bdf7e2b",
        "IPY_MODEL_4249b256821c494543c6890939bbed5d",
        "IPY_MODEL_312a03f5fd8e4cf145690aca41a950f3",
        "IPY_MODEL_754bbeaa9a194f4370d0a6259a5b7d9d",
        "IPY_MODEL_bfd6bd51db184c6d74f423ad70606708",
        "IPY_MODEL_cb87b0da5c1040f94736fcb641dd4b22",
        "IPY_MODEL_e3ca0cdc96a14919b5688730071c708d",
        "IPY_MODEL_eee69b49d79e420ce2a73f76d1e64845",
        "IPY_MODEL_60b52ded0c654f5e5adc479383271ee5",
        "IPY_MODEL_421902f509664bc19e559042400fbf4e",
        "IPY_MODEL_02a29dd788bf411524894fe154eb992d",
        "IPY_MODEL_6f7ba0193005454f61047aa16868c567",
        "IPY_MODEL_96021886394f474d426936addb2435e6",
        "IPY_MODEL_c43132744a794516ce831a30d1ff745b",
        "IPY_MODEL_1721a1033c4e4197d75c6b75cc78f2fa",
        "IPY_MODEL_0c0b77d4575c4d25a5d29e6481d57184",
        "IPY_MODEL_3980217b969a47f53a355f60955729b9",
        "IPY_MODEL_ff8e4af0df0a4077974f9adfc9bc8a79",
        "IPY_MODEL_6396b49acb0343c189774779d4c24cf9",
        "IPY_MODEL_c587ce4720c04dcabcea243d58c257ad",
        "IPY_MODEL_f1b774134e434ce529c4e531e9f96b49",
        "IPY_MODEL_2eeb4c8c69d349a2adf8ab3ba962018c",
        "IPY_MODEL_012496b3406342b64461a54346c358d2",
        "IPY_MODEL_a47288da212340b71ef9710de04cac6e",
        "IPY_MODEL_0ce29261e3ca47d8778b0aaa93c3587c",
        "IPY_MODEL_da9ece1981534a7f2e543fb9251fc42d",
        "IPY_MODEL_bb5e9df381c04d450f7ae34312e9c5c2",
        "IPY_MODEL_1f0a65b2bed64e307c43da1a874075a6",
        "IPY_MODEL_49e7e94f55c34d42ab232001e46cf348",
        "IPY_MODEL_af3b7ad12e724ba81253e61fb19b401c",
        "IPY_MODEL_0f36830a5a4e41ef2e1d9171d21bba4b",
        "IPY_MODEL_a11c27a3eda14bc17b57f67bb1d29d3c",
        "IPY_MODEL_1767eaae7fe6437aa91fc09f9cfce78e",
        "IPY_MODEL_51e460fcaad84a3e0bc30a6a0d03fe33",
        "IPY_MODEL_4706c100fe14423c6d56510e3d24fa26",
        "IPY_MODEL_935e1debe27649d44373d98e4485eba0",
        "IPY_MODEL_b9c4cdb5316e4526a7cc0a7178d6bb07",
        "IPY_MODEL_2c74ad073ed0490d7a05789d7d9b6f36",
        "IPY_MODEL_2bf49cec14f34067e75cdba9eafd25c6",
        "IPY_MODEL_84c4292cdb3b4608ebb6efc66e7a51c4",
        "IPY_MODEL_91de251baf214ce1258076bea80bcc29",
        "IPY_MODEL_1be1c995fd8a48613a3b12a7002d85fe",
        "IPY_MODEL_8babd4b7e424466fa4d1eecaf23b0cf9",
        "IPY_MODEL_4a228cfa31c74fd75137183493fe7eb0",
        "IPY_MODEL_9ad79741c8274daa46d8b9906654a9db",
        "IPY_MODEL_895b02ab39e84a0cf734a671b94d9b6a",
        "IPY_MODEL_490cf5c2d3794a37f77d155e3765af98",
        "IPY_MODEL_00375c98187c4dc8aed7925dbffd8ac5",
        "IPY_MODEL_0612b3910ea34244caead23e161a5a39",
        "IPY_MODEL_b2847dcd6e1a459d14e3289134eae759",
        "IPY_MODEL_8a4aa2e579d1471d70bc40385adfdf19",
        "IPY_MODEL_c8b50afb67b24ee0420923b0c8183bf1",
        "IPY_MODEL_7ef3900027bf4f401e253ca59532cd49",
        "IPY_MODEL_b645f9a0cafb4fefb12a02ad660b89ab",
        "IPY_MODEL_ce10051bae2f4755ef23dafa80279b83",
        "IPY_MODEL_99d999816d294f80ea3dabc03c103232",
        "IPY_MODEL_5fd013c1354d449a0d7c96867d2cf30a",
        "IPY_MODEL_9d4b0f85fa954493e44506c2db4ab781",
        "IPY_MODEL_1a2d9fc9aa2f47ed13b97f26a3adbf25",
        "IPY_MODEL_9cfed850377442dcc55edce8ccb52347",
        "IPY_MODEL_e80d77826a8945b51f98d0c46f18103d",
        "IPY_MODEL_dfe0286943224d6324694b1a80621308",
        "IPY_MODEL_8a592475bfe64359e71f48a88a3c6a9e",
        "IPY_MODEL_4f540613e52b4b58703293e8f58f43e5",
        "IPY_MODEL_23c3ecb3bda34aaed01f4c8838b079bc",
        "IPY_MODEL_46dc960a67f4465a3d969666655b39d6",
        "IPY_MODEL_9057dcc5d50f4b6470cafb9dcdf01db7",
        "IPY_MODEL_b4700733ad764dcf8f992dd5129ba34f",
        "IPY_MODEL_cb7fd1300eb441fbe2e6ee32ef8cceea",
        "IPY_MODEL_f6736edd8a1f43636e07867fa7151d74",
        "IPY_MODEL_7a8160578e244e0562f484696068e861",
        "IPY_MODEL_eca82368c7b8419d71f9bf51fa3a07af",
        "IPY_MODEL_1f6e8a3bbfdc4920ccc6dbc9e2c32272",
        "IPY_MODEL_cbe5544fcfc8418c5278f3ca3f0eab5b",
        "IPY_MODEL_1f81eb3bd06242dfb3f6411744912055",
        "IPY_MODEL_c0e19ad43334443f970e8d4d4a261c2d",
        "IPY_MODEL_2fde8e3ab0a245df946b2909bc9009a6",
        "IPY_MODEL_e48b39c674a2490fb984a1d5ec4bb833",
        "IPY_MODEL_b4a866dfe1864c93539b987783f84a27",
        "IPY_MODEL_d0c7caeb15f0489c2e65e96a88431848",
        "IPY_MODEL_a1f24dffde234f6626b7d6710073fe84",
        "IPY_MODEL_ef37948e7a93418cb3ec40a69354e5c5",
        "IPY_MODEL_4352aa57ca94404591408aab06b5a5e3",
        "IPY_MODEL_b6203cf1b1bb4f42f8d140a47dbb3090",
        "IPY_MODEL_1eef8af485914011241a5f9ee2faed90",
        "IPY_MODEL_ebd4982aa839468db3907caf74e0815b",
        "IPY_MODEL_05a3013dfc1e4051ed81bfcee5935cd2",
        "IPY_MODEL_c406eeebd7904a0d1174c525539d6d2f",
        "IPY_MODEL_f2af0b72293c45dd741a511e6a137933",
        "IPY_MODEL_75e9e9a94e6f4f399cd64a7870e61ac7",
        "IPY_MODEL_ab388d58915a43d5d83fd8667d59c16e",
        "IPY_MODEL_765733d93e9a41a13208b4ff4eab0e9b",
        "IPY_MODEL_71fe0c5b7183462d7dcb260bffa4138b",
        "IPY_MODEL_001e8e1fc16a4e87884f16e584608698",
        "IPY_MODEL_123fb5703de54a8e85da4a1681bb6a19",
        "IPY_MODEL_f0c1cd18da6a4f5f9d545fc2d2591503",
        "IPY_MODEL_2b63f1ba5bc242af465e7211b6d1c8bd",
        "IPY_MODEL_221978703e2141e0976166a427730211",
        "IPY_MODEL_4ff0367578aa4b6d911fef2f6c4bf4c8",
        "IPY_MODEL_be067453e24e41094b9fe82d70892021",
        "IPY_MODEL_4179f92b1e624df83743cc934afa7ef9",
        "IPY_MODEL_37b38fc88e894b16ce92296074dadd34",
        "IPY_MODEL_065079278e784f7fc6996283e3a2a0fb",
        "IPY_MODEL_06499e6bb87a4e1347ed58b0a62a43cc",
        "IPY_MODEL_42012b53e1e44b5381c982867762c785",
        "IPY_MODEL_5053dbb6382442441f40b21ff0545736",
        "IPY_MODEL_417057acea884281ac7ae354ed75b9a7",
        "IPY_MODEL_42c42b49a53a4498cc566bb5bbdf70d8",
        "IPY_MODEL_20523e3bdf5745caa0f7423f4dc061ab",
        "IPY_MODEL_23b9184382f8455d4124d01bf6cc96b2",
        "IPY_MODEL_e6f9c8863be546e8e4b4af38cec38483",
        "IPY_MODEL_56ec87e78377491a4eec3f550bb3bae3",
        "IPY_MODEL_62f447a8ba544ada7d0d001ba32875b0",
        "IPY_MODEL_d6c37ffb247d44c2d2f78e9e921bf88e",
        "IPY_MODEL_a54d54a46ffa4ebfe1727a729a93dc0d",
        "IPY_MODEL_d764e29ef64a4aa8c8d62304520e6842",
        "IPY_MODEL_a590cfb345d6413bb24c871e65bd6749",
        "IPY_MODEL_a4f36806c7a74b73d803a860f4fa4d6c",
        "IPY_MODEL_5660737755fe4b98e482ded019b164d2",
        "IPY_MODEL_f35bf485c06940916da2ba82ffcefc43",
        "IPY_MODEL_b596c582bb354dec5101ea71480e650f",
        "IPY_MODEL_a33f7f7030cc47bc3208a94f01600ac7",
        "IPY_MODEL_9317bffd247c46c982d271be4b848c1e",
        "IPY_MODEL_6cdb9ecb4ecc4e90353fd331a14b6a5d",
        "IPY_MODEL_679f619c6482431f9c3985ae9119da5a",
        "IPY_MODEL_e1173142890a468ae43dc295ac594b00",
        "IPY_MODEL_4edc18cac08e49bbed7a1e3e09541cbd",
        "IPY_MODEL_f061aded657542ad1d54aaa05a55c383",
        "IPY_MODEL_e5b27d3b32c049e57dd417203eca9d04",
        "IPY_MODEL_04e0974f1b354bdc5c5387c72093c0de",
        "IPY_MODEL_3182877f24e9499c411d05ea9b9e6a11",
        "IPY_MODEL_4fd55c0893ed492244e8ade9ae6f326e",
        "IPY_MODEL_650058f58a004012170f70f1e37bfa3f",
        "IPY_MODEL_ea442446b7ee48e674148b1d224b606f",
        "IPY_MODEL_1684b5667ed049c26e05590cfae41d84",
        "IPY_MODEL_a711f96483b646bdd355f31cc75226cf",
        "IPY_MODEL_5b59378e45094f1feede05ee511fb7d9",
        "IPY_MODEL_1a4f5e950d9c41006c82fc540d6ac42a",
        "IPY_MODEL_3fd7b83c563946103b9af32730d37bd4",
        "IPY_MODEL_fdc162cde49b4103cd6f524328f9d453",
        "IPY_MODEL_07703622f8ad4c0a0812b834f1da4b0b",
        "IPY_MODEL_4dba4bd446d04a3c1ed8535f6ba02007",
        "IPY_MODEL_0c43fb3b84974509f3ee469906a47889",
        "IPY_MODEL_9d9b361d28eb4ad8624c35e17cc5139e",
        "IPY_MODEL_a57d95fe26684ad571468a7a93962ba8",
        "IPY_MODEL_081ee27d034c45b5bca8139d4eafcee3",
        "IPY_MODEL_d194121e5e744dd7563706a92ad10cf6",
        "IPY_MODEL_7986dfed8b8a451d4b1e73928096cf2c",
        "IPY_MODEL_362b9ef34c1d49bdf75c0d61825dd41a",
        "IPY_MODEL_3c86d09628074d30a0310e0c849ae3e7",
        "IPY_MODEL_412ac27621b142e291b178ed6ced6517"
       ],
       "graph_layouts": [
        "IPY_MODEL_9c44cfca578f4224a3ab434b7c630c50",
        "IPY_MODEL_be5475edf5664c5f75c4133083b7b32e",
        "IPY_MODEL_0aa74cca45214235fa715a25d5812dad",
        "IPY_MODEL_91eaa73e72d84ba507896f0f0d29b971",
        "IPY_MODEL_42270d5e1c9b4e01af9a6a5af18fe64a",
        "IPY_MODEL_b6059b3246ec44d12297d1cc826a115e",
        "IPY_MODEL_e5504683b1064b1a2aa35cf306143a73",
        "IPY_MODEL_f65469b7ee294120923f234e798d1974"
       ],
       "graph_style": "node { content: data(name); } \n                                                  node.child { text-valign: center; text-halign: center; }\n                                                  edge { curve-style: bezier; }",
       "layout": "IPY_MODEL_ad2ef0fbf643444822ca7be9ad837fe3",
       "max_zoom": 9.999999999999999e+49,
       "min_zoom": 1.0000000000000001e-50,
       "pan": {
        "X": 0,
        "Y": 0
       },
       "style": "IPY_MODEL_9f7134b9e3594364d1e3b912e05815b5",
       "tooltip_source": "tooltip"
      }
     },
     "28b1e5a5f0874b688acf673ccbbf2424": {
      "model_module": "cytoscape-clj",
      "model_module_version": "^0.2.0",
      "model_name": "ElementModel",
      "state": {
       "_model_module_version": "^0.2.0",
       "_view_module_version": "^0.2.0",
       "classes": [
        "bcdee604f84b49d9d2d2b755f9b8e91b",
        "child"
       ],
       "data": {
        "id": "bcdee604f84b49d9d2d2b755f9b8e91b-1",
        "name": "1",
        "parent": "bcdee604f84b49d9d2d2b755f9b8e91b"
       },
       "position": {
        "x": 85.71428571428572,
        "y": 225
       }
      }
     },
     "2b63f1ba5bc242af465e7211b6d1c8bd": {
      "model_module": "cytoscape-clj",
      "model_module_version": "^0.2.0",
      "model_name": "ElementModel",
      "state": {
       "_model_module_version": "^0.2.0",
       "_view_module_version": "^0.2.0",
       "classes": [
        "261d64a01f814cd523b7a6ab2a7d6547"
       ],
       "data": {
        "id": "9abac23771404de7881ee0fc6fe81a6f",
        "parent": "261d64a01f814cd523b7a6ab2a7d6547",
        "source": "261d64a01f814cd523b7a6ab2a7d6547-2",
        "target": "261d64a01f814cd523b7a6ab2a7d6547-1"
       },
       "group": "edges"
      }
     },
     "2bf49cec14f34067e75cdba9eafd25c6": {
      "model_module": "cytoscape-clj",
      "model_module_version": "^0.2.0",
      "model_name": "ElementModel",
      "state": {
       "_model_module_version": "^0.2.0",
       "_view_module_version": "^0.2.0",
       "classes": [
        "7026a101dab04a0642011f2a3371d95a",
        "child"
       ],
       "data": {
        "id": "7026a101dab04a0642011f2a3371d95a-1",
        "name": "1",
        "parent": "7026a101dab04a0642011f2a3371d95a"
       },
       "position": {
        "x": 1233.8197778961635,
        "y": 75.18122377695195
       }
      }
     },
     "2c74ad073ed0490d7a05789d7d9b6f36": {
      "model_module": "cytoscape-clj",
      "model_module_version": "^0.2.0",
      "model_name": "ElementModel",
      "state": {
       "_model_module_version": "^0.2.0",
       "_view_module_version": "^0.2.0",
       "classes": [
        "7026a101dab04a0642011f2a3371d95a",
        "child"
       ],
       "data": {
        "id": "7026a101dab04a0642011f2a3371d95a-0",
        "name": "0",
        "parent": "7026a101dab04a0642011f2a3371d95a"
       },
       "position": {
        "x": 1140,
        "y": 30
       }
      }
     },
     "2eeb4c8c69d349a2adf8ab3ba962018c": {
      "model_module": "cytoscape-clj",
      "model_module_version": "^0.2.0",
      "model_name": "ElementModel",
      "state": {
       "_model_module_version": "^0.2.0",
       "_view_module_version": "^0.2.0",
       "classes": [
        "0b444ec8485641b276db9ef4b6bbc856"
       ],
       "data": {
        "id": "7dfb5ad05e8a4749f286f1cd7257a92c",
        "parent": "0b444ec8485641b276db9ef4b6bbc856",
        "source": "0b444ec8485641b276db9ef4b6bbc856-0",
        "target": "0b444ec8485641b276db9ef4b6bbc856-1"
       },
       "group": "edges"
      }
     },
     "2fde8e3ab0a245df946b2909bc9009a6": {
      "model_module": "cytoscape-clj",
      "model_module_version": "^0.2.0",
      "model_name": "ElementModel",
      "state": {
       "_model_module_version": "^0.2.0",
       "_view_module_version": "^0.2.0",
       "classes": [
        "a9a0c90446244b72b1eeafd591440c13"
       ],
       "data": {
        "id": "8cfebf796947464682f707d23b22ec2c",
        "parent": "a9a0c90446244b72b1eeafd591440c13",
        "source": "a9a0c90446244b72b1eeafd591440c13-3",
        "target": "a9a0c90446244b72b1eeafd591440c13-6"
       },
       "group": "edges"
      }
     },
     "312a03f5fd8e4cf145690aca41a950f3": {
      "model_module": "cytoscape-clj",
      "model_module_version": "^0.2.0",
      "model_name": "ElementModel",
      "state": {
       "_model_module_version": "^0.2.0",
       "_view_module_version": "^0.2.0",
       "classes": [
        "cf3d6ed3a72344740c70160b49dacfc4"
       ],
       "data": {
        "id": "e6df1088d6504d12c3ec3a438548bb32",
        "parent": "cf3d6ed3a72344740c70160b49dacfc4",
        "source": "cf3d6ed3a72344740c70160b49dacfc4-1",
        "target": "cf3d6ed3a72344740c70160b49dacfc4-6"
       },
       "group": "edges"
      }
     },
     "3182877f24e9499c411d05ea9b9e6a11": {
      "model_module": "cytoscape-clj",
      "model_module_version": "^0.2.0",
      "model_name": "ElementModel",
      "state": {
       "_model_module_version": "^0.2.0",
       "_view_module_version": "^0.2.0",
       "classes": [
        "3ace55d44a614943dd409dd2eaebf749",
        "child"
       ],
       "data": {
        "id": "3ace55d44a614943dd409dd2eaebf749-1",
        "name": "1",
        "parent": "3ace55d44a614943dd409dd2eaebf749"
       },
       "position": {
        "x": 1290,
        "y": 405
       }
      }
     },
     "362b9ef34c1d49bdf75c0d61825dd41a": {
      "model_module": "cytoscape-clj",
      "model_module_version": "^0.2.0",
      "model_name": "ElementModel",
      "state": {
       "_model_module_version": "^0.2.0",
       "_view_module_version": "^0.2.0",
       "classes": [
        "3ace55d44a614943dd409dd2eaebf749"
       ],
       "data": {
        "id": "81c01fa7e25744c6bf216e800c98df73",
        "parent": "3ace55d44a614943dd409dd2eaebf749",
        "source": "3ace55d44a614943dd409dd2eaebf749-4",
        "target": "3ace55d44a614943dd409dd2eaebf749-6"
       },
       "group": "edges"
      }
     },
     "370c91467caf4b4596409040932af185": {
      "model_module": "cytoscape-clj",
      "model_module_version": "^0.2.0",
      "model_name": "ElementModel",
      "state": {
       "_model_module_version": "^0.2.0",
       "_view_module_version": "^0.2.0",
       "classes": [
        "cf3d6ed3a72344740c70160b49dacfc4"
       ],
       "data": {
        "id": "9a40f9067fc441737998f7e0fa3c0cef",
        "parent": "cf3d6ed3a72344740c70160b49dacfc4",
        "source": "cf3d6ed3a72344740c70160b49dacfc4-0",
        "target": "cf3d6ed3a72344740c70160b49dacfc4-1"
       },
       "group": "edges"
      }
     },
     "37b38fc88e894b16ce92296074dadd34": {
      "model_module": "cytoscape-clj",
      "model_module_version": "^0.2.0",
      "model_name": "ElementModel",
      "state": {
       "_model_module_version": "^0.2.0",
       "_view_module_version": "^0.2.0",
       "classes": [
        "261d64a01f814cd523b7a6ab2a7d6547"
       ],
       "data": {
        "id": "99e24e180fa14186b8deb6a26a614ff6",
        "parent": "261d64a01f814cd523b7a6ab2a7d6547",
        "source": "261d64a01f814cd523b7a6ab2a7d6547-4",
        "target": "261d64a01f814cd523b7a6ab2a7d6547-3"
       },
       "group": "edges"
      }
     },
     "3980217b969a47f53a355f60955729b9": {
      "model_module": "cytoscape-clj",
      "model_module_version": "^0.2.0",
      "model_name": "ElementModel",
      "state": {
       "_model_module_version": "^0.2.0",
       "_view_module_version": "^0.2.0",
       "classes": [
        "0b444ec8485641b276db9ef4b6bbc856",
        "child"
       ],
       "data": {
        "id": "0b444ec8485641b276db9ef4b6bbc856-2",
        "name": "2",
        "parent": "0b444ec8485641b276db9ef4b6bbc856"
       },
       "position": {
        "x": 910,
        "y": 50
       }
      }
     },
     "3c86d09628074d30a0310e0c849ae3e7": {
      "model_module": "cytoscape-clj",
      "model_module_version": "^0.2.0",
      "model_name": "ElementModel",
      "state": {
       "_model_module_version": "^0.2.0",
       "_view_module_version": "^0.2.0",
       "classes": [
        "3ace55d44a614943dd409dd2eaebf749"
       ],
       "data": {
        "id": "f5ec111b177e4c2499961365389bd721",
        "parent": "3ace55d44a614943dd409dd2eaebf749",
        "source": "3ace55d44a614943dd409dd2eaebf749-5",
        "target": "3ace55d44a614943dd409dd2eaebf749-3"
       },
       "group": "edges"
      }
     },
     "3fd7b83c563946103b9af32730d37bd4": {
      "model_module": "cytoscape-clj",
      "model_module_version": "^0.2.0",
      "model_name": "ElementModel",
      "state": {
       "_model_module_version": "^0.2.0",
       "_view_module_version": "^0.2.0",
       "classes": [
        "3ace55d44a614943dd409dd2eaebf749"
       ],
       "data": {
        "id": "462d29ebd96b4152dc9dd4592ad70986",
        "parent": "3ace55d44a614943dd409dd2eaebf749",
        "source": "3ace55d44a614943dd409dd2eaebf749-0",
        "target": "3ace55d44a614943dd409dd2eaebf749-6"
       },
       "group": "edges"
      }
     },
     "412ac27621b142e291b178ed6ced6517": {
      "model_module": "cytoscape-clj",
      "model_module_version": "^0.2.0",
      "model_name": "ElementModel",
      "state": {
       "_model_module_version": "^0.2.0",
       "_view_module_version": "^0.2.0",
       "classes": [
        "3ace55d44a614943dd409dd2eaebf749"
       ],
       "data": {
        "id": "6bf858bc97064dd10ed13ca5952e39ae",
        "parent": "3ace55d44a614943dd409dd2eaebf749",
        "source": "3ace55d44a614943dd409dd2eaebf749-5",
        "target": "3ace55d44a614943dd409dd2eaebf749-6"
       },
       "group": "edges"
      }
     },
     "417057acea884281ac7ae354ed75b9a7": {
      "model_module": "cytoscape-clj",
      "model_module_version": "^0.2.0",
      "model_name": "ElementModel",
      "state": {
       "_model_module_version": "^0.2.0",
       "_view_module_version": "^0.2.0",
       "classes": [
        "73767608a9f54f1eff44d9872b2df9b2",
        "child"
       ],
       "data": {
        "id": "73767608a9f54f1eff44d9872b2df9b2-0",
        "name": "0",
        "parent": "73767608a9f54f1eff44d9872b2df9b2"
       },
       "position": {
        "x": 831.3034443129466,
        "y": 458.03760496686203
       }
      }
     },
     "4179f92b1e624df83743cc934afa7ef9": {
      "model_module": "cytoscape-clj",
      "model_module_version": "^0.2.0",
      "model_name": "ElementModel",
      "state": {
       "_model_module_version": "^0.2.0",
       "_view_module_version": "^0.2.0",
       "classes": [
        "261d64a01f814cd523b7a6ab2a7d6547"
       ],
       "data": {
        "id": "d24d2ce84c9e4ae1b1bd59b76152e374",
        "parent": "261d64a01f814cd523b7a6ab2a7d6547",
        "source": "261d64a01f814cd523b7a6ab2a7d6547-4",
        "target": "261d64a01f814cd523b7a6ab2a7d6547-5"
       },
       "group": "edges"
      }
     },
     "42012b53e1e44b5381c982867762c785": {
      "model_module": "cytoscape-clj",
      "model_module_version": "^0.2.0",
      "model_name": "ElementModel",
      "state": {
       "_model_module_version": "^0.2.0",
       "_view_module_version": "^0.2.0",
       "classes": [
        "261d64a01f814cd523b7a6ab2a7d6547"
       ],
       "data": {
        "id": "9e473a811e954c21af85bd2a830372a6",
        "parent": "261d64a01f814cd523b7a6ab2a7d6547",
        "source": "261d64a01f814cd523b7a6ab2a7d6547-5",
        "target": "261d64a01f814cd523b7a6ab2a7d6547-6"
       },
       "group": "edges"
      }
     },
     "421902f509664bc19e559042400fbf4e": {
      "model_module": "cytoscape-clj",
      "model_module_version": "^0.2.0",
      "model_name": "ElementModel",
      "state": {
       "_model_module_version": "^0.2.0",
       "_view_module_version": "^0.2.0",
       "classes": [
        "cf3d6ed3a72344740c70160b49dacfc4"
       ],
       "data": {
        "id": "4d6131f9fdd8419fedea88e15c523eba",
        "parent": "cf3d6ed3a72344740c70160b49dacfc4",
        "source": "cf3d6ed3a72344740c70160b49dacfc4-4",
        "target": "cf3d6ed3a72344740c70160b49dacfc4-3"
       },
       "group": "edges"
      }
     },
     "42270d5e1c9b4e01af9a6a5af18fe64a": {
      "model_module": "cytoscape-clj",
      "model_module_version": "^0.2.0",
      "model_name": "ConcentricLayoutModel",
      "state": {
       "_model_module_version": "^0.2.0",
       "_view_module_version": "^0.2.0",
       "animate": true,
       "animation_duration": 250,
       "bounding_box": {
        "h": 300,
        "w": 300,
        "x1": 0,
        "y1": 330
       },
       "fit": false,
       "selector": ".a9a0c90446244b72b1eeafd591440c13"
      }
     },
     "4249b256821c494543c6890939bbed5d": {
      "model_module": "cytoscape-clj",
      "model_module_version": "^0.2.0",
      "model_name": "ElementModel",
      "state": {
       "_model_module_version": "^0.2.0",
       "_view_module_version": "^0.2.0",
       "classes": [
        "cf3d6ed3a72344740c70160b49dacfc4"
       ],
       "data": {
        "id": "a5e4893ebbe84cdf3b586072ffb95f41",
        "parent": "cf3d6ed3a72344740c70160b49dacfc4",
        "source": "cf3d6ed3a72344740c70160b49dacfc4-1",
        "target": "cf3d6ed3a72344740c70160b49dacfc4-5"
       },
       "group": "edges"
      }
     },
     "42c42b49a53a4498cc566bb5bbdf70d8": {
      "model_module": "cytoscape-clj",
      "model_module_version": "^0.2.0",
      "model_name": "ElementModel",
      "state": {
       "_model_module_version": "^0.2.0",
       "_view_module_version": "^0.2.0",
       "classes": [
        "73767608a9f54f1eff44d9872b2df9b2",
        "child"
       ],
       "data": {
        "id": "73767608a9f54f1eff44d9872b2df9b2-1",
        "name": "1",
        "parent": "73767608a9f54f1eff44d9872b2df9b2"
       },
       "position": {
        "x": 781.3034433129466,
        "y": 458.03760496686203
       }
      }
     },
     "4352aa57ca94404591408aab06b5a5e3": {
      "model_module": "cytoscape-clj",
      "model_module_version": "^0.2.0",
      "model_name": "ElementModel",
      "state": {
       "_model_module_version": "^0.2.0",
       "_view_module_version": "^0.2.0",
       "classes": [
        "261d64a01f814cd523b7a6ab2a7d6547"
       ],
       "data": {
        "id": "261d64a01f814cd523b7a6ab2a7d6547",
        "name": "cose-layout"
       },
       "position": {
        "x": 480,
        "y": 565.5275990494902
       }
      }
     },
     "46dc960a67f4465a3d969666655b39d6": {
      "model_module": "cytoscape-clj",
      "model_module_version": "^0.2.0",
      "model_name": "ElementModel",
      "state": {
       "_model_module_version": "^0.2.0",
       "_view_module_version": "^0.2.0",
       "classes": [
        "a9a0c90446244b72b1eeafd591440c13",
        "child"
       ],
       "data": {
        "id": "a9a0c90446244b72b1eeafd591440c13-5",
        "name": "5",
        "parent": "a9a0c90446244b72b1eeafd591440c13"
       },
       "position": {
        "x": 121.7157287525381,
        "y": 480
       }
      }
     },
     "4706c100fe14423c6d56510e3d24fa26": {
      "model_module": "cytoscape-clj",
      "model_module_version": "^0.2.0",
      "model_name": "ElementModel",
      "state": {
       "_model_module_version": "^0.2.0",
       "_view_module_version": "^0.2.0",
       "classes": [
        "0b444ec8485641b276db9ef4b6bbc856"
       ],
       "data": {
        "id": "d39aca79af1e473547c9fe7be1d27c4e",
        "parent": "0b444ec8485641b276db9ef4b6bbc856",
        "source": "0b444ec8485641b276db9ef4b6bbc856-5",
        "target": "0b444ec8485641b276db9ef4b6bbc856-3"
       },
       "group": "edges"
      }
     },
     "47dfad23b4b6428fdd7a32914142956c": {
      "model_module": "cytoscape-clj",
      "model_module_version": "^0.2.0",
      "model_name": "ElementModel",
      "state": {
       "_model_module_version": "^0.2.0",
       "_view_module_version": "^0.2.0",
       "classes": [
        "cf3d6ed3a72344740c70160b49dacfc4",
        "child"
       ],
       "data": {
        "id": "cf3d6ed3a72344740c70160b49dacfc4-6",
        "name": "6",
        "parent": "cf3d6ed3a72344740c70160b49dacfc4"
       },
       "position": {
        "x": 346,
        "y": 276
       }
      }
     },
     "490cf5c2d3794a37f77d155e3765af98": {
      "model_module": "cytoscape-clj",
      "model_module_version": "^0.2.0",
      "model_name": "ElementModel",
      "state": {
       "_model_module_version": "^0.2.0",
       "_view_module_version": "^0.2.0",
       "classes": [
        "7026a101dab04a0642011f2a3371d95a"
       ],
       "data": {
        "id": "5207abc5a7ed4af1350245f48bce0573",
        "parent": "7026a101dab04a0642011f2a3371d95a",
        "source": "7026a101dab04a0642011f2a3371d95a-0",
        "target": "7026a101dab04a0642011f2a3371d95a-6"
       },
       "group": "edges"
      }
     },
     "49883e7c1429417d8f99deb104af414a": {
      "model_module": "cytoscape-clj",
      "model_module_version": "^0.2.0",
      "model_name": "ElementModel",
      "state": {
       "_model_module_version": "^0.2.0",
       "_view_module_version": "^0.2.0",
       "classes": [
        "bcdee604f84b49d9d2d2b755f9b8e91b"
       ],
       "data": {
        "id": "d8cdf87723094438f777a10e3e14bc5a",
        "parent": "bcdee604f84b49d9d2d2b755f9b8e91b",
        "source": "bcdee604f84b49d9d2d2b755f9b8e91b-0",
        "target": "bcdee604f84b49d9d2d2b755f9b8e91b-1"
       },
       "group": "edges"
      }
     },
     "49e7e94f55c34d42ab232001e46cf348": {
      "model_module": "cytoscape-clj",
      "model_module_version": "^0.2.0",
      "model_name": "ElementModel",
      "state": {
       "_model_module_version": "^0.2.0",
       "_view_module_version": "^0.2.0",
       "classes": [
        "0b444ec8485641b276db9ef4b6bbc856"
       ],
       "data": {
        "id": "1709a94f40594a988991eac922ad1061",
        "parent": "0b444ec8485641b276db9ef4b6bbc856",
        "source": "0b444ec8485641b276db9ef4b6bbc856-2",
        "target": "0b444ec8485641b276db9ef4b6bbc856-6"
       },
       "group": "edges"
      }
     },
     "4a228cfa31c74fd75137183493fe7eb0": {
      "model_module": "cytoscape-clj",
      "model_module_version": "^0.2.0",
      "model_name": "ElementModel",
      "state": {
       "_model_module_version": "^0.2.0",
       "_view_module_version": "^0.2.0",
       "classes": [
        "7026a101dab04a0642011f2a3371d95a",
        "child"
       ],
       "data": {
        "id": "7026a101dab04a0642011f2a3371d95a-6",
        "name": "6",
        "parent": "7026a101dab04a0642011f2a3371d95a"
       },
       "position": {
        "x": 1046.1802221038365,
        "y": 75.18122377695201
       }
      }
     },
     "4dba4bd446d04a3c1ed8535f6ba02007": {
      "model_module": "cytoscape-clj",
      "model_module_version": "^0.2.0",
      "model_name": "ElementModel",
      "state": {
       "_model_module_version": "^0.2.0",
       "_view_module_version": "^0.2.0",
       "classes": [
        "3ace55d44a614943dd409dd2eaebf749"
       ],
       "data": {
        "id": "377777cbe277456e42afb6c6609f8140",
        "parent": "3ace55d44a614943dd409dd2eaebf749",
        "source": "3ace55d44a614943dd409dd2eaebf749-2",
        "target": "3ace55d44a614943dd409dd2eaebf749-3"
       },
       "group": "edges"
      }
     },
     "4e2b72fcb7df4a37737ae9f989ad603d": {
      "model_module": "cytoscape-clj",
      "model_module_version": "^0.2.0",
      "model_name": "ElementModel",
      "state": {
       "_model_module_version": "^0.2.0",
       "_view_module_version": "^0.2.0",
       "classes": [
        "cf3d6ed3a72344740c70160b49dacfc4",
        "child"
       ],
       "data": {
        "id": "cf3d6ed3a72344740c70160b49dacfc4-2",
        "name": "2",
        "parent": "cf3d6ed3a72344740c70160b49dacfc4"
       },
       "position": {
        "x": 444,
        "y": 169
       }
      }
     },
     "4edc18cac08e49bbed7a1e3e09541cbd": {
      "model_module": "cytoscape-clj",
      "model_module_version": "^0.2.0",
      "model_name": "ElementModel",
      "state": {
       "_model_module_version": "^0.2.0",
       "_view_module_version": "^0.2.0",
       "classes": [
        "73767608a9f54f1eff44d9872b2df9b2"
       ],
       "data": {
        "id": "b33bb20754ac40df94715b6c63a454d8",
        "parent": "73767608a9f54f1eff44d9872b2df9b2",
        "source": "73767608a9f54f1eff44d9872b2df9b2-5",
        "target": "73767608a9f54f1eff44d9872b2df9b2-3"
       },
       "group": "edges"
      }
     },
     "4f540613e52b4b58703293e8f58f43e5": {
      "model_module": "cytoscape-clj",
      "model_module_version": "^0.2.0",
      "model_name": "ElementModel",
      "state": {
       "_model_module_version": "^0.2.0",
       "_view_module_version": "^0.2.0",
       "classes": [
        "a9a0c90446244b72b1eeafd591440c13",
        "child"
       ],
       "data": {
        "id": "a9a0c90446244b72b1eeafd591440c13-3",
        "name": "3",
        "parent": "a9a0c90446244b72b1eeafd591440c13"
       },
       "position": {
        "x": 150,
        "y": 508.2842712474619
       }
      }
     },
     "4fd55c0893ed492244e8ade9ae6f326e": {
      "model_module": "cytoscape-clj",
      "model_module_version": "^0.2.0",
      "model_name": "ElementModel",
      "state": {
       "_model_module_version": "^0.2.0",
       "_view_module_version": "^0.2.0",
       "classes": [
        "3ace55d44a614943dd409dd2eaebf749",
        "child"
       ],
       "data": {
        "id": "3ace55d44a614943dd409dd2eaebf749-2",
        "name": "2",
        "parent": "3ace55d44a614943dd409dd2eaebf749"
       },
       "position": {
        "x": 1290,
        "y": 330
       }
      }
     },
     "4ff0367578aa4b6d911fef2f6c4bf4c8": {
      "model_module": "cytoscape-clj",
      "model_module_version": "^0.2.0",
      "model_name": "ElementModel",
      "state": {
       "_model_module_version": "^0.2.0",
       "_view_module_version": "^0.2.0",
       "classes": [
        "261d64a01f814cd523b7a6ab2a7d6547"
       ],
       "data": {
        "id": "f684fdef047d424419681e34196e85c6",
        "parent": "261d64a01f814cd523b7a6ab2a7d6547",
        "source": "261d64a01f814cd523b7a6ab2a7d6547-3",
        "target": "261d64a01f814cd523b7a6ab2a7d6547-1"
       },
       "group": "edges"
      }
     },
     "5053dbb6382442441f40b21ff0545736": {
      "model_module": "cytoscape-clj",
      "model_module_version": "^0.2.0",
      "model_name": "ElementModel",
      "state": {
       "_model_module_version": "^0.2.0",
       "_view_module_version": "^0.2.0",
       "classes": [
        "73767608a9f54f1eff44d9872b2df9b2"
       ],
       "data": {
        "id": "73767608a9f54f1eff44d9872b2df9b2",
        "name": "cola-layout"
       },
       "position": {
        "x": 806.3034438129466,
        "y": 483.03760546686203
       }
      }
     },
     "51e460fcaad84a3e0bc30a6a0d03fe33": {
      "model_module": "cytoscape-clj",
      "model_module_version": "^0.2.0",
      "model_name": "ElementModel",
      "state": {
       "_model_module_version": "^0.2.0",
       "_view_module_version": "^0.2.0",
       "classes": [
        "0b444ec8485641b276db9ef4b6bbc856"
       ],
       "data": {
        "id": "99bc8f29a20a42a21e3f9c3b9e399ab7",
        "parent": "0b444ec8485641b276db9ef4b6bbc856",
        "source": "0b444ec8485641b276db9ef4b6bbc856-4",
        "target": "0b444ec8485641b276db9ef4b6bbc856-6"
       },
       "group": "edges"
      }
     },
     "5660737755fe4b98e482ded019b164d2": {
      "model_module": "cytoscape-clj",
      "model_module_version": "^0.2.0",
      "model_name": "ElementModel",
      "state": {
       "_model_module_version": "^0.2.0",
       "_view_module_version": "^0.2.0",
       "classes": [
        "73767608a9f54f1eff44d9872b2df9b2"
       ],
       "data": {
        "id": "d7ffe51067b04aa6fb2b228596e182a6",
        "parent": "73767608a9f54f1eff44d9872b2df9b2",
        "source": "73767608a9f54f1eff44d9872b2df9b2-2",
        "target": "73767608a9f54f1eff44d9872b2df9b2-3"
       },
       "group": "edges"
      }
     },
     "56ec87e78377491a4eec3f550bb3bae3": {
      "model_module": "cytoscape-clj",
      "model_module_version": "^0.2.0",
      "model_name": "ElementModel",
      "state": {
       "_model_module_version": "^0.2.0",
       "_view_module_version": "^0.2.0",
       "classes": [
        "73767608a9f54f1eff44d9872b2df9b2",
        "child"
       ],
       "data": {
        "id": "73767608a9f54f1eff44d9872b2df9b2-5",
        "name": "5",
        "parent": "73767608a9f54f1eff44d9872b2df9b2"
       },
       "position": {
        "x": 881.3034453129466,
        "y": 508.03760596686203
       }
      }
     },
     "5b07231f30f643eff53e699f106b63bf": {
      "model_module": "cytoscape-clj",
      "model_module_version": "^0.2.0",
      "model_name": "ElementModel",
      "state": {
       "_model_module_version": "^0.2.0",
       "_view_module_version": "^0.2.0",
       "classes": [
        "bcdee604f84b49d9d2d2b755f9b8e91b"
       ],
       "data": {
        "id": "8e09b2d22a35484a0f45dde59721e161",
        "parent": "bcdee604f84b49d9d2d2b755f9b8e91b",
        "source": "bcdee604f84b49d9d2d2b755f9b8e91b-5",
        "target": "bcdee604f84b49d9d2d2b755f9b8e91b-3"
       },
       "group": "edges"
      }
     },
     "5b59378e45094f1feede05ee511fb7d9": {
      "model_module": "cytoscape-clj",
      "model_module_version": "^0.2.0",
      "model_name": "ElementModel",
      "state": {
       "_model_module_version": "^0.2.0",
       "_view_module_version": "^0.2.0",
       "classes": [
        "3ace55d44a614943dd409dd2eaebf749"
       ],
       "data": {
        "id": "ea17c76ea93a4cc8d3cfd06e67d86951",
        "parent": "3ace55d44a614943dd409dd2eaebf749",
        "source": "3ace55d44a614943dd409dd2eaebf749-0",
        "target": "3ace55d44a614943dd409dd2eaebf749-1"
       },
       "group": "edges"
      }
     },
     "5fd013c1354d449a0d7c96867d2cf30a": {
      "model_module": "cytoscape-clj",
      "model_module_version": "^0.2.0",
      "model_name": "ElementModel",
      "state": {
       "_model_module_version": "^0.2.0",
       "_view_module_version": "^0.2.0",
       "classes": [
        "7026a101dab04a0642011f2a3371d95a"
       ],
       "data": {
        "id": "8ef1588f3f8c45aafb88135a62cfd2b0",
        "parent": "7026a101dab04a0642011f2a3371d95a",
        "source": "7026a101dab04a0642011f2a3371d95a-4",
        "target": "7026a101dab04a0642011f2a3371d95a-6"
       },
       "group": "edges"
      }
     },
     "60b52ded0c654f5e5adc479383271ee5": {
      "model_module": "cytoscape-clj",
      "model_module_version": "^0.2.0",
      "model_name": "ElementModel",
      "state": {
       "_model_module_version": "^0.2.0",
       "_view_module_version": "^0.2.0",
       "classes": [
        "cf3d6ed3a72344740c70160b49dacfc4"
       ],
       "data": {
        "id": "bd250ca38d984f15832fabf24628d37f",
        "parent": "cf3d6ed3a72344740c70160b49dacfc4",
        "source": "cf3d6ed3a72344740c70160b49dacfc4-4",
        "target": "cf3d6ed3a72344740c70160b49dacfc4-5"
       },
       "group": "edges"
      }
     },
     "62f447a8ba544ada7d0d001ba32875b0": {
      "model_module": "cytoscape-clj",
      "model_module_version": "^0.2.0",
      "model_name": "ElementModel",
      "state": {
       "_model_module_version": "^0.2.0",
       "_view_module_version": "^0.2.0",
       "classes": [
        "73767608a9f54f1eff44d9872b2df9b2",
        "child"
       ],
       "data": {
        "id": "73767608a9f54f1eff44d9872b2df9b2-6",
        "name": "6",
        "parent": "73767608a9f54f1eff44d9872b2df9b2"
       },
       "position": {
        "x": 781.3034433129466,
        "y": 508.03760596686203
       }
      }
     },
     "6396b49acb0343c189774779d4c24cf9": {
      "model_module": "cytoscape-clj",
      "model_module_version": "^0.2.0",
      "model_name": "ElementModel",
      "state": {
       "_model_module_version": "^0.2.0",
       "_view_module_version": "^0.2.0",
       "classes": [
        "0b444ec8485641b276db9ef4b6bbc856",
        "child"
       ],
       "data": {
        "id": "0b444ec8485641b276db9ef4b6bbc856-4",
        "name": "4",
        "parent": "0b444ec8485641b276db9ef4b6bbc856"
       },
       "position": {
        "x": 810,
        "y": 150
       }
      }
     },
     "650058f58a004012170f70f1e37bfa3f": {
      "model_module": "cytoscape-clj",
      "model_module_version": "^0.2.0",
      "model_name": "ElementModel",
      "state": {
       "_model_module_version": "^0.2.0",
       "_view_module_version": "^0.2.0",
       "classes": [
        "3ace55d44a614943dd409dd2eaebf749",
        "child"
       ],
       "data": {
        "id": "3ace55d44a614943dd409dd2eaebf749-3",
        "name": "3",
        "parent": "3ace55d44a614943dd409dd2eaebf749"
       },
       "position": {
        "x": 1232.5531914893618,
        "y": 555
       }
      }
     },
     "6607c39ec4e448cdc2efbae54e4f2bd5": {
      "model_module": "cytoscape-clj",
      "model_module_version": "^0.2.0",
      "model_name": "ElementModel",
      "state": {
       "_model_module_version": "^0.2.0",
       "_view_module_version": "^0.2.0",
       "classes": [
        "bcdee604f84b49d9d2d2b755f9b8e91b",
        "child"
       ],
       "data": {
        "id": "bcdee604f84b49d9d2d2b755f9b8e91b-0",
        "name": "0",
        "parent": "bcdee604f84b49d9d2d2b755f9b8e91b"
       },
       "position": {
        "x": 42.85714285714286,
        "y": 225
       }
      }
     },
     "679f619c6482431f9c3985ae9119da5a": {
      "model_module": "cytoscape-clj",
      "model_module_version": "^0.2.0",
      "model_name": "ElementModel",
      "state": {
       "_model_module_version": "^0.2.0",
       "_view_module_version": "^0.2.0",
       "classes": [
        "73767608a9f54f1eff44d9872b2df9b2"
       ],
       "data": {
        "id": "dbbbccdb89454751b09470511f3c931c",
        "parent": "73767608a9f54f1eff44d9872b2df9b2",
        "source": "73767608a9f54f1eff44d9872b2df9b2-4",
        "target": "73767608a9f54f1eff44d9872b2df9b2-3"
       },
       "group": "edges"
      }
     },
     "69ef00f30b974fb0e5bcd1e9987c9347": {
      "model_module": "cytoscape-clj",
      "model_module_version": "^0.2.0",
      "model_name": "ElementModel",
      "state": {
       "_model_module_version": "^0.2.0",
       "_view_module_version": "^0.2.0",
       "classes": [
        "bcdee604f84b49d9d2d2b755f9b8e91b"
       ],
       "data": {
        "id": "877e5ac05649498c3ab89d402152613a",
        "parent": "bcdee604f84b49d9d2d2b755f9b8e91b",
        "source": "bcdee604f84b49d9d2d2b755f9b8e91b-3",
        "target": "bcdee604f84b49d9d2d2b755f9b8e91b-6"
       },
       "group": "edges"
      }
     },
     "6cdb9ecb4ecc4e90353fd331a14b6a5d": {
      "model_module": "cytoscape-clj",
      "model_module_version": "^0.2.0",
      "model_name": "ElementModel",
      "state": {
       "_model_module_version": "^0.2.0",
       "_view_module_version": "^0.2.0",
       "classes": [
        "73767608a9f54f1eff44d9872b2df9b2"
       ],
       "data": {
        "id": "89977675061a448d13dd0306e7aff46f",
        "parent": "73767608a9f54f1eff44d9872b2df9b2",
        "source": "73767608a9f54f1eff44d9872b2df9b2-4",
        "target": "73767608a9f54f1eff44d9872b2df9b2-5"
       },
       "group": "edges"
      }
     },
     "6f7ba0193005454f61047aa16868c567": {
      "model_module": "cytoscape-clj",
      "model_module_version": "^0.2.0",
      "model_name": "ElementModel",
      "state": {
       "_model_module_version": "^0.2.0",
       "_view_module_version": "^0.2.0",
       "classes": [
        "cf3d6ed3a72344740c70160b49dacfc4"
       ],
       "data": {
        "id": "d0ceba34cbca426b6d6ea0c5443ee009",
        "parent": "cf3d6ed3a72344740c70160b49dacfc4",
        "source": "cf3d6ed3a72344740c70160b49dacfc4-5",
        "target": "cf3d6ed3a72344740c70160b49dacfc4-3"
       },
       "group": "edges"
      }
     },
     "71fe0c5b7183462d7dcb260bffa4138b": {
      "model_module": "cytoscape-clj",
      "model_module_version": "^0.2.0",
      "model_name": "ElementModel",
      "state": {
       "_model_module_version": "^0.2.0",
       "_view_module_version": "^0.2.0",
       "classes": [
        "261d64a01f814cd523b7a6ab2a7d6547"
       ],
       "data": {
        "id": "a737a257fcc243e483004dd65e1930ea",
        "parent": "261d64a01f814cd523b7a6ab2a7d6547",
        "source": "261d64a01f814cd523b7a6ab2a7d6547-0",
        "target": "261d64a01f814cd523b7a6ab2a7d6547-6"
       },
       "group": "edges"
      }
     },
     "7434f0a2550943a2df3cbccc83171e18": {
      "model_module": "cytoscape-clj",
      "model_module_version": "^0.2.0",
      "model_name": "ElementModel",
      "state": {
       "_model_module_version": "^0.2.0",
       "_view_module_version": "^0.2.0",
       "classes": [
        "bcdee604f84b49d9d2d2b755f9b8e91b"
       ],
       "data": {
        "id": "993a0995f77c4684ab3587a35a46f0e3",
        "parent": "bcdee604f84b49d9d2d2b755f9b8e91b",
        "source": "bcdee604f84b49d9d2d2b755f9b8e91b-3",
        "target": "bcdee604f84b49d9d2d2b755f9b8e91b-1"
       },
       "group": "edges"
      }
     },
     "754bbeaa9a194f4370d0a6259a5b7d9d": {
      "model_module": "cytoscape-clj",
      "model_module_version": "^0.2.0",
      "model_name": "ElementModel",
      "state": {
       "_model_module_version": "^0.2.0",
       "_view_module_version": "^0.2.0",
       "classes": [
        "cf3d6ed3a72344740c70160b49dacfc4"
       ],
       "data": {
        "id": "82ba899333af44d68fca1514158694b0",
        "parent": "cf3d6ed3a72344740c70160b49dacfc4",
        "source": "cf3d6ed3a72344740c70160b49dacfc4-2",
        "target": "cf3d6ed3a72344740c70160b49dacfc4-3"
       },
       "group": "edges"
      }
     },
     "75e9e9a94e6f4f399cd64a7870e61ac7": {
      "model_module": "cytoscape-clj",
      "model_module_version": "^0.2.0",
      "model_name": "ElementModel",
      "state": {
       "_model_module_version": "^0.2.0",
       "_view_module_version": "^0.2.0",
       "classes": [
        "261d64a01f814cd523b7a6ab2a7d6547",
        "child"
       ],
       "data": {
        "id": "261d64a01f814cd523b7a6ab2a7d6547-6",
        "name": "6",
        "parent": "261d64a01f814cd523b7a6ab2a7d6547"
       },
       "position": {
        "x": 508.66028654684493,
        "y": 567.4831929560188
       }
      }
     },
     "765733d93e9a41a13208b4ff4eab0e9b": {
      "model_module": "cytoscape-clj",
      "model_module_version": "^0.2.0",
      "model_name": "ElementModel",
      "state": {
       "_model_module_version": "^0.2.0",
       "_view_module_version": "^0.2.0",
       "classes": [
        "261d64a01f814cd523b7a6ab2a7d6547"
       ],
       "data": {
        "id": "027b01b0fe30437c1e480493283a1611",
        "parent": "261d64a01f814cd523b7a6ab2a7d6547",
        "source": "261d64a01f814cd523b7a6ab2a7d6547-0",
        "target": "261d64a01f814cd523b7a6ab2a7d6547-5"
       },
       "group": "edges"
      }
     },
     "7986dfed8b8a451d4b1e73928096cf2c": {
      "model_module": "cytoscape-clj",
      "model_module_version": "^0.2.0",
      "model_name": "ElementModel",
      "state": {
       "_model_module_version": "^0.2.0",
       "_view_module_version": "^0.2.0",
       "classes": [
        "3ace55d44a614943dd409dd2eaebf749"
       ],
       "data": {
        "id": "1a2294ea7a3a44ace457ad0da2bf3747",
        "parent": "3ace55d44a614943dd409dd2eaebf749",
        "source": "3ace55d44a614943dd409dd2eaebf749-4",
        "target": "3ace55d44a614943dd409dd2eaebf749-3"
       },
       "group": "edges"
      }
     },
     "7a8160578e244e0562f484696068e861": {
      "model_module": "cytoscape-clj",
      "model_module_version": "^0.2.0",
      "model_name": "ElementModel",
      "state": {
       "_model_module_version": "^0.2.0",
       "_view_module_version": "^0.2.0",
       "classes": [
        "a9a0c90446244b72b1eeafd591440c13"
       ],
       "data": {
        "id": "17231a3c2cee4992500bd389f723d174",
        "parent": "a9a0c90446244b72b1eeafd591440c13",
        "source": "a9a0c90446244b72b1eeafd591440c13-1",
        "target": "a9a0c90446244b72b1eeafd591440c13-5"
       },
       "group": "edges"
      }
     },
     "7ef3900027bf4f401e253ca59532cd49": {
      "model_module": "cytoscape-clj",
      "model_module_version": "^0.2.0",
      "model_name": "ElementModel",
      "state": {
       "_model_module_version": "^0.2.0",
       "_view_module_version": "^0.2.0",
       "classes": [
        "7026a101dab04a0642011f2a3371d95a"
       ],
       "data": {
        "id": "f7dc71c82bdd478e2eb58a1451efc35b",
        "parent": "7026a101dab04a0642011f2a3371d95a",
        "source": "7026a101dab04a0642011f2a3371d95a-3",
        "target": "7026a101dab04a0642011f2a3371d95a-1"
       },
       "group": "edges"
      }
     },
     "7fd839f9d5864d34124997856041547c": {
      "model_module": "cytoscape-clj",
      "model_module_version": "^0.2.0",
      "model_name": "ElementModel",
      "state": {
       "_model_module_version": "^0.2.0",
       "_view_module_version": "^0.2.0",
       "classes": [
        "cf3d6ed3a72344740c70160b49dacfc4",
        "child"
       ],
       "data": {
        "id": "cf3d6ed3a72344740c70160b49dacfc4-0",
        "name": "0",
        "parent": "cf3d6ed3a72344740c70160b49dacfc4"
       },
       "position": {
        "x": 622,
        "y": 272
       }
      }
     },
     "7fdd02cd03d340f93ba967da7d1f40da": {
      "model_module": "cytoscape-clj",
      "model_module_version": "^0.2.0",
      "model_name": "ElementModel",
      "state": {
       "_model_module_version": "^0.2.0",
       "_view_module_version": "^0.2.0",
       "classes": [
        "bcdee604f84b49d9d2d2b755f9b8e91b"
       ],
       "data": {
        "id": "e1a0387a3dfe461099e944be90dc384c",
        "parent": "bcdee604f84b49d9d2d2b755f9b8e91b",
        "source": "bcdee604f84b49d9d2d2b755f9b8e91b-4",
        "target": "bcdee604f84b49d9d2d2b755f9b8e91b-3"
       },
       "group": "edges"
      }
     },
     "84c4292cdb3b4608ebb6efc66e7a51c4": {
      "model_module": "cytoscape-clj",
      "model_module_version": "^0.2.0",
      "model_name": "ElementModel",
      "state": {
       "_model_module_version": "^0.2.0",
       "_view_module_version": "^0.2.0",
       "classes": [
        "7026a101dab04a0642011f2a3371d95a",
        "child"
       ],
       "data": {
        "id": "7026a101dab04a0642011f2a3371d95a-2",
        "name": "2",
        "parent": "7026a101dab04a0642011f2a3371d95a"
       },
       "position": {
        "x": 1256.9913494618188,
        "y": 176.7025120747577
       }
      }
     },
     "891eb3bd4f634ea7a1544e087bdf7e2b": {
      "model_module": "cytoscape-clj",
      "model_module_version": "^0.2.0",
      "model_name": "ElementModel",
      "state": {
       "_model_module_version": "^0.2.0",
       "_view_module_version": "^0.2.0",
       "classes": [
        "cf3d6ed3a72344740c70160b49dacfc4"
       ],
       "data": {
        "id": "29c55aec6dbf4158b76dfce6223e5597",
        "parent": "cf3d6ed3a72344740c70160b49dacfc4",
        "source": "cf3d6ed3a72344740c70160b49dacfc4-0",
        "target": "cf3d6ed3a72344740c70160b49dacfc4-6"
       },
       "group": "edges"
      }
     },
     "895b02ab39e84a0cf734a671b94d9b6a": {
      "model_module": "cytoscape-clj",
      "model_module_version": "^0.2.0",
      "model_name": "ElementModel",
      "state": {
       "_model_module_version": "^0.2.0",
       "_view_module_version": "^0.2.0",
       "classes": [
        "7026a101dab04a0642011f2a3371d95a"
       ],
       "data": {
        "id": "b7baa0521cf54f9779bcb9ef38b6a171",
        "parent": "7026a101dab04a0642011f2a3371d95a",
        "source": "7026a101dab04a0642011f2a3371d95a-0",
        "target": "7026a101dab04a0642011f2a3371d95a-5"
       },
       "group": "edges"
      }
     },
     "8a4aa2e579d1471d70bc40385adfdf19": {
      "model_module": "cytoscape-clj",
      "model_module_version": "^0.2.0",
      "model_name": "ElementModel",
      "state": {
       "_model_module_version": "^0.2.0",
       "_view_module_version": "^0.2.0",
       "classes": [
        "7026a101dab04a0642011f2a3371d95a"
       ],
       "data": {
        "id": "817217b5e3c3438b05ddb2683893b9a5",
        "parent": "7026a101dab04a0642011f2a3371d95a",
        "source": "7026a101dab04a0642011f2a3371d95a-2",
        "target": "7026a101dab04a0642011f2a3371d95a-1"
       },
       "group": "edges"
      }
     },
     "8a592475bfe64359e71f48a88a3c6a9e": {
      "model_module": "cytoscape-clj",
      "model_module_version": "^0.2.0",
      "model_name": "ElementModel",
      "state": {
       "_model_module_version": "^0.2.0",
       "_view_module_version": "^0.2.0",
       "classes": [
        "a9a0c90446244b72b1eeafd591440c13",
        "child"
       ],
       "data": {
        "id": "a9a0c90446244b72b1eeafd591440c13-2",
        "name": "2",
        "parent": "a9a0c90446244b72b1eeafd591440c13"
       },
       "position": {
        "x": 209.13591357920933,
        "y": 514.142135623731
       }
      }
     },
     "8babd4b7e424466fa4d1eecaf23b0cf9": {
      "model_module": "cytoscape-clj",
      "model_module_version": "^0.2.0",
      "model_name": "ElementModel",
      "state": {
       "_model_module_version": "^0.2.0",
       "_view_module_version": "^0.2.0",
       "classes": [
        "7026a101dab04a0642011f2a3371d95a",
        "child"
       ],
       "data": {
        "id": "7026a101dab04a0642011f2a3371d95a-5",
        "name": "5",
        "parent": "7026a101dab04a0642011f2a3371d95a"
       },
       "position": {
        "x": 1023.0086505381812,
        "y": 176.70251207475778
       }
      }
     },
     "9057dcc5d50f4b6470cafb9dcdf01db7": {
      "model_module": "cytoscape-clj",
      "model_module_version": "^0.2.0",
      "model_name": "ElementModel",
      "state": {
       "_model_module_version": "^0.2.0",
       "_view_module_version": "^0.2.0",
       "classes": [
        "a9a0c90446244b72b1eeafd591440c13",
        "child"
       ],
       "data": {
        "id": "a9a0c90446244b72b1eeafd591440c13-6",
        "name": "6",
        "parent": "a9a0c90446244b72b1eeafd591440c13"
       },
       "position": {
        "x": 150,
        "y": 451.7157287525381
       }
      }
     },
     "91de251baf214ce1258076bea80bcc29": {
      "model_module": "cytoscape-clj",
      "model_module_version": "^0.2.0",
      "model_name": "ElementModel",
      "state": {
       "_model_module_version": "^0.2.0",
       "_view_module_version": "^0.2.0",
       "classes": [
        "7026a101dab04a0642011f2a3371d95a",
        "child"
       ],
       "data": {
        "id": "7026a101dab04a0642011f2a3371d95a-3",
        "name": "3",
        "parent": "7026a101dab04a0642011f2a3371d95a"
       },
       "position": {
        "x": 1192.066048694107,
        "y": 258.11626414829027
       }
      }
     },
     "91eaa73e72d84ba507896f0f0d29b971": {
      "model_module": "cytoscape-clj",
      "model_module_version": "^0.2.0",
      "model_name": "CircleLayoutModel",
      "state": {
       "_model_module_version": "^0.2.0",
       "_view_module_version": "^0.2.0",
       "animate": true,
       "animation_duration": 250,
       "bounding_box": {
        "h": 300,
        "w": 300,
        "x1": 990,
        "y1": 0
       },
       "fit": false,
       "selector": ".7026a101dab04a0642011f2a3371d95a"
      }
     },
     "9317bffd247c46c982d271be4b848c1e": {
      "model_module": "cytoscape-clj",
      "model_module_version": "^0.2.0",
      "model_name": "ElementModel",
      "state": {
       "_model_module_version": "^0.2.0",
       "_view_module_version": "^0.2.0",
       "classes": [
        "73767608a9f54f1eff44d9872b2df9b2"
       ],
       "data": {
        "id": "96ad6794752145f593fc450959d8b3f1",
        "parent": "73767608a9f54f1eff44d9872b2df9b2",
        "source": "73767608a9f54f1eff44d9872b2df9b2-3",
        "target": "73767608a9f54f1eff44d9872b2df9b2-6"
       },
       "group": "edges"
      }
     },
     "935e1debe27649d44373d98e4485eba0": {
      "model_module": "cytoscape-clj",
      "model_module_version": "^0.2.0",
      "model_name": "ElementModel",
      "state": {
       "_model_module_version": "^0.2.0",
       "_view_module_version": "^0.2.0",
       "classes": [
        "0b444ec8485641b276db9ef4b6bbc856"
       ],
       "data": {
        "id": "2da2f53901a74d562e5f22439da5bce9",
        "parent": "0b444ec8485641b276db9ef4b6bbc856",
        "source": "0b444ec8485641b276db9ef4b6bbc856-5",
        "target": "0b444ec8485641b276db9ef4b6bbc856-6"
       },
       "group": "edges"
      }
     },
     "96021886394f474d426936addb2435e6": {
      "model_module": "cytoscape-clj",
      "model_module_version": "^0.2.0",
      "model_name": "ElementModel",
      "state": {
       "_model_module_version": "^0.2.0",
       "_view_module_version": "^0.2.0",
       "classes": [
        "cf3d6ed3a72344740c70160b49dacfc4"
       ],
       "data": {
        "id": "ee867346dadc4951176fbf04819fdd04",
        "parent": "cf3d6ed3a72344740c70160b49dacfc4",
        "source": "cf3d6ed3a72344740c70160b49dacfc4-5",
        "target": "cf3d6ed3a72344740c70160b49dacfc4-6"
       },
       "group": "edges"
      }
     },
     "99d999816d294f80ea3dabc03c103232": {
      "model_module": "cytoscape-clj",
      "model_module_version": "^0.2.0",
      "model_name": "ElementModel",
      "state": {
       "_model_module_version": "^0.2.0",
       "_view_module_version": "^0.2.0",
       "classes": [
        "7026a101dab04a0642011f2a3371d95a"
       ],
       "data": {
        "id": "e60219ac404c49542dd8709efb804728",
        "parent": "7026a101dab04a0642011f2a3371d95a",
        "source": "7026a101dab04a0642011f2a3371d95a-4",
        "target": "7026a101dab04a0642011f2a3371d95a-3"
       },
       "group": "edges"
      }
     },
     "9ad79741c8274daa46d8b9906654a9db": {
      "model_module": "cytoscape-clj",
      "model_module_version": "^0.2.0",
      "model_name": "ElementModel",
      "state": {
       "_model_module_version": "^0.2.0",
       "_view_module_version": "^0.2.0",
       "classes": [
        "7026a101dab04a0642011f2a3371d95a"
       ],
       "data": {
        "id": "8e9e1dc9211e4a019854712c49db8180",
        "parent": "7026a101dab04a0642011f2a3371d95a",
        "source": "7026a101dab04a0642011f2a3371d95a-0",
        "target": "7026a101dab04a0642011f2a3371d95a-1"
       },
       "group": "edges"
      }
     },
     "9c44cfca578f4224a3ab434b7c630c50": {
      "model_module": "cytoscape-clj",
      "model_module_version": "^0.2.0",
      "model_name": "BreadthFirstLayoutModel",
      "state": {
       "_model_module_version": "^0.2.0",
       "_view_module_version": "^0.2.0",
       "animate": true,
       "animation_duration": 250,
       "bounding_box": {
        "h": 300,
        "w": 300,
        "x1": 0,
        "y1": 0
       },
       "fit": false,
       "selector": ".bcdee604f84b49d9d2d2b755f9b8e91b",
       "spacing_factor": null
      }
     },
     "9cfed850377442dcc55edce8ccb52347": {
      "model_module": "cytoscape-clj",
      "model_module_version": "^0.2.0",
      "model_name": "ElementModel",
      "state": {
       "_model_module_version": "^0.2.0",
       "_view_module_version": "^0.2.0",
       "classes": [
        "a9a0c90446244b72b1eeafd591440c13"
       ],
       "data": {
        "id": "a9a0c90446244b72b1eeafd591440c13",
        "name": "concentric-layout"
       }
      }
     },
     "9d4b0f85fa954493e44506c2db4ab781": {
      "model_module": "cytoscape-clj",
      "model_module_version": "^0.2.0",
      "model_name": "ElementModel",
      "state": {
       "_model_module_version": "^0.2.0",
       "_view_module_version": "^0.2.0",
       "classes": [
        "7026a101dab04a0642011f2a3371d95a"
       ],
       "data": {
        "id": "2bd1b7cd380c49939a1e48cef6aff40b",
        "parent": "7026a101dab04a0642011f2a3371d95a",
        "source": "7026a101dab04a0642011f2a3371d95a-5",
        "target": "7026a101dab04a0642011f2a3371d95a-3"
       },
       "group": "edges"
      }
     },
     "9d9b361d28eb4ad8624c35e17cc5139e": {
      "model_module": "cytoscape-clj",
      "model_module_version": "^0.2.0",
      "model_name": "ElementModel",
      "state": {
       "_model_module_version": "^0.2.0",
       "_view_module_version": "^0.2.0",
       "classes": [
        "3ace55d44a614943dd409dd2eaebf749"
       ],
       "data": {
        "id": "480c2c65c9364aba780ec8c609129732",
        "parent": "3ace55d44a614943dd409dd2eaebf749",
        "source": "3ace55d44a614943dd409dd2eaebf749-2",
        "target": "3ace55d44a614943dd409dd2eaebf749-6"
       },
       "group": "edges"
      }
     },
     "9edf247f56eb4f3fc785c828507b054e": {
      "model_module": "cytoscape-clj",
      "model_module_version": "^0.2.0",
      "model_name": "ElementModel",
      "state": {
       "_model_module_version": "^0.2.0",
       "_view_module_version": "^0.2.0",
       "classes": [
        "bcdee604f84b49d9d2d2b755f9b8e91b"
       ],
       "data": {
        "id": "293a12717abf4f1e142da504d91ba3e6",
        "parent": "bcdee604f84b49d9d2d2b755f9b8e91b",
        "source": "bcdee604f84b49d9d2d2b755f9b8e91b-0",
        "target": "bcdee604f84b49d9d2d2b755f9b8e91b-6"
       },
       "group": "edges"
      }
     },
     "9f7134b9e3594364d1e3b912e05815b5": {
      "model_module": "cytoscape-clj",
      "model_module_version": "^0.2.0",
      "model_name": "CytoscapeStyleModel",
      "state": {
       "_model_module_version": "^0.2.0"
      }
     },
     "a11c27a3eda14bc17b57f67bb1d29d3c": {
      "model_module": "cytoscape-clj",
      "model_module_version": "^0.2.0",
      "model_name": "ElementModel",
      "state": {
       "_model_module_version": "^0.2.0",
       "_view_module_version": "^0.2.0",
       "classes": [
        "0b444ec8485641b276db9ef4b6bbc856"
       ],
       "data": {
        "id": "15bb700ca4ed42646f38debfb9044e33",
        "parent": "0b444ec8485641b276db9ef4b6bbc856",
        "source": "0b444ec8485641b276db9ef4b6bbc856-4",
        "target": "0b444ec8485641b276db9ef4b6bbc856-5"
       },
       "group": "edges"
      }
     },
     "a1ca0015c03e4b98ce046ba21b8667ae": {
      "model_module": "cytoscape-clj",
      "model_module_version": "^0.2.0",
      "model_name": "ElementModel",
      "state": {
       "_model_module_version": "^0.2.0",
       "_view_module_version": "^0.2.0",
       "classes": [
        "cf3d6ed3a72344740c70160b49dacfc4",
        "child"
       ],
       "data": {
        "id": "cf3d6ed3a72344740c70160b49dacfc4-4",
        "name": "4",
        "parent": "cf3d6ed3a72344740c70160b49dacfc4"
       },
       "position": {
        "x": 552,
        "y": 290
       }
      }
     },
     "a1f24dffde234f6626b7d6710073fe84": {
      "model_module": "cytoscape-clj",
      "model_module_version": "^0.2.0",
      "model_name": "ElementModel",
      "state": {
       "_model_module_version": "^0.2.0",
       "_view_module_version": "^0.2.0",
       "classes": [
        "a9a0c90446244b72b1eeafd591440c13"
       ],
       "data": {
        "id": "1a0b5888f3554a9bb9fdd0fa4eac7656",
        "parent": "a9a0c90446244b72b1eeafd591440c13",
        "source": "a9a0c90446244b72b1eeafd591440c13-5",
        "target": "a9a0c90446244b72b1eeafd591440c13-3"
       },
       "group": "edges"
      }
     },
     "a33f7f7030cc47bc3208a94f01600ac7": {
      "model_module": "cytoscape-clj",
      "model_module_version": "^0.2.0",
      "model_name": "ElementModel",
      "state": {
       "_model_module_version": "^0.2.0",
       "_view_module_version": "^0.2.0",
       "classes": [
        "73767608a9f54f1eff44d9872b2df9b2"
       ],
       "data": {
        "id": "24df0cdd6a3e431cdbe607e2ca4be1dd",
        "parent": "73767608a9f54f1eff44d9872b2df9b2",
        "source": "73767608a9f54f1eff44d9872b2df9b2-3",
        "target": "73767608a9f54f1eff44d9872b2df9b2-1"
       },
       "group": "edges"
      }
     },
     "a47288da212340b71ef9710de04cac6e": {
      "model_module": "cytoscape-clj",
      "model_module_version": "^0.2.0",
      "model_name": "ElementModel",
      "state": {
       "_model_module_version": "^0.2.0",
       "_view_module_version": "^0.2.0",
       "classes": [
        "0b444ec8485641b276db9ef4b6bbc856"
       ],
       "data": {
        "id": "56e272c99fe941db69e6098a77c562e6",
        "parent": "0b444ec8485641b276db9ef4b6bbc856",
        "source": "0b444ec8485641b276db9ef4b6bbc856-0",
        "target": "0b444ec8485641b276db9ef4b6bbc856-6"
       },
       "group": "edges"
      }
     },
     "a4f36806c7a74b73d803a860f4fa4d6c": {
      "model_module": "cytoscape-clj",
      "model_module_version": "^0.2.0",
      "model_name": "ElementModel",
      "state": {
       "_model_module_version": "^0.2.0",
       "_view_module_version": "^0.2.0",
       "classes": [
        "73767608a9f54f1eff44d9872b2df9b2"
       ],
       "data": {
        "id": "c1360bf9e5194f011e2f7431196db487",
        "parent": "73767608a9f54f1eff44d9872b2df9b2",
        "source": "73767608a9f54f1eff44d9872b2df9b2-1",
        "target": "73767608a9f54f1eff44d9872b2df9b2-6"
       },
       "group": "edges"
      }
     },
     "a54d54a46ffa4ebfe1727a729a93dc0d": {
      "model_module": "cytoscape-clj",
      "model_module_version": "^0.2.0",
      "model_name": "ElementModel",
      "state": {
       "_model_module_version": "^0.2.0",
       "_view_module_version": "^0.2.0",
       "classes": [
        "73767608a9f54f1eff44d9872b2df9b2"
       ],
       "data": {
        "id": "340729b552f4418001ef4a49d2503a3f",
        "parent": "73767608a9f54f1eff44d9872b2df9b2",
        "source": "73767608a9f54f1eff44d9872b2df9b2-0",
        "target": "73767608a9f54f1eff44d9872b2df9b2-5"
       },
       "group": "edges"
      }
     },
     "a57d95fe26684ad571468a7a93962ba8": {
      "model_module": "cytoscape-clj",
      "model_module_version": "^0.2.0",
      "model_name": "ElementModel",
      "state": {
       "_model_module_version": "^0.2.0",
       "_view_module_version": "^0.2.0",
       "classes": [
        "3ace55d44a614943dd409dd2eaebf749"
       ],
       "data": {
        "id": "1bdfb1ffaa9b49594ba27f2ffa57122f",
        "parent": "3ace55d44a614943dd409dd2eaebf749",
        "source": "3ace55d44a614943dd409dd2eaebf749-3",
        "target": "3ace55d44a614943dd409dd2eaebf749-1"
       },
       "group": "edges"
      }
     },
     "a590cfb345d6413bb24c871e65bd6749": {
      "model_module": "cytoscape-clj",
      "model_module_version": "^0.2.0",
      "model_name": "ElementModel",
      "state": {
       "_model_module_version": "^0.2.0",
       "_view_module_version": "^0.2.0",
       "classes": [
        "73767608a9f54f1eff44d9872b2df9b2"
       ],
       "data": {
        "id": "1dd2e91d721044367ec16e872bdbbbaa",
        "parent": "73767608a9f54f1eff44d9872b2df9b2",
        "source": "73767608a9f54f1eff44d9872b2df9b2-1",
        "target": "73767608a9f54f1eff44d9872b2df9b2-5"
       },
       "group": "edges"
      }
     },
     "a711f96483b646bdd355f31cc75226cf": {
      "model_module": "cytoscape-clj",
      "model_module_version": "^0.2.0",
      "model_name": "ElementModel",
      "state": {
       "_model_module_version": "^0.2.0",
       "_view_module_version": "^0.2.0",
       "classes": [
        "3ace55d44a614943dd409dd2eaebf749",
        "child"
       ],
       "data": {
        "id": "3ace55d44a614943dd409dd2eaebf749-6",
        "name": "6",
        "parent": "3ace55d44a614943dd409dd2eaebf749"
       },
       "position": {
        "x": 1092.127659574468,
        "y": 630
       }
      }
     },
     "ab388d58915a43d5d83fd8667d59c16e": {
      "model_module": "cytoscape-clj",
      "model_module_version": "^0.2.0",
      "model_name": "ElementModel",
      "state": {
       "_model_module_version": "^0.2.0",
       "_view_module_version": "^0.2.0",
       "classes": [
        "261d64a01f814cd523b7a6ab2a7d6547"
       ],
       "data": {
        "id": "c844bd7173f049290bb78adeba4f8b5c",
        "parent": "261d64a01f814cd523b7a6ab2a7d6547",
        "source": "261d64a01f814cd523b7a6ab2a7d6547-0",
        "target": "261d64a01f814cd523b7a6ab2a7d6547-1"
       },
       "group": "edges"
      }
     },
     "ad2ef0fbf643444822ca7be9ad837fe3": {
      "model_module": "@jupyter-widgets/base",
      "model_module_version": "1.2.0",
      "model_name": "LayoutModel",
      "state": {
       "height": "640px"
      }
     },
     "af3b7ad12e724ba81253e61fb19b401c": {
      "model_module": "cytoscape-clj",
      "model_module_version": "^0.2.0",
      "model_name": "ElementModel",
      "state": {
       "_model_module_version": "^0.2.0",
       "_view_module_version": "^0.2.0",
       "classes": [
        "0b444ec8485641b276db9ef4b6bbc856"
       ],
       "data": {
        "id": "4817cea045c54919e6615ed5253ffbe5",
        "parent": "0b444ec8485641b276db9ef4b6bbc856",
        "source": "0b444ec8485641b276db9ef4b6bbc856-3",
        "target": "0b444ec8485641b276db9ef4b6bbc856-1"
       },
       "group": "edges"
      }
     },
     "b2847dcd6e1a459d14e3289134eae759": {
      "model_module": "cytoscape-clj",
      "model_module_version": "^0.2.0",
      "model_name": "ElementModel",
      "state": {
       "_model_module_version": "^0.2.0",
       "_view_module_version": "^0.2.0",
       "classes": [
        "7026a101dab04a0642011f2a3371d95a"
       ],
       "data": {
        "id": "ac6bc8440cbb4730d4e3e4428d800801",
        "parent": "7026a101dab04a0642011f2a3371d95a",
        "source": "7026a101dab04a0642011f2a3371d95a-2",
        "target": "7026a101dab04a0642011f2a3371d95a-3"
       },
       "group": "edges"
      }
     },
     "b4700733ad764dcf8f992dd5129ba34f": {
      "model_module": "cytoscape-clj",
      "model_module_version": "^0.2.0",
      "model_name": "ElementModel",
      "state": {
       "_model_module_version": "^0.2.0",
       "_view_module_version": "^0.2.0",
       "classes": [
        "a9a0c90446244b72b1eeafd591440c13"
       ],
       "data": {
        "id": "af35844fbe8b462b72ccee02b88c930e",
        "parent": "a9a0c90446244b72b1eeafd591440c13",
        "source": "a9a0c90446244b72b1eeafd591440c13-0",
        "target": "a9a0c90446244b72b1eeafd591440c13-1"
       },
       "group": "edges"
      }
     },
     "b4a866dfe1864c93539b987783f84a27": {
      "model_module": "cytoscape-clj",
      "model_module_version": "^0.2.0",
      "model_name": "ElementModel",
      "state": {
       "_model_module_version": "^0.2.0",
       "_view_module_version": "^0.2.0",
       "classes": [
        "a9a0c90446244b72b1eeafd591440c13"
       ],
       "data": {
        "id": "2efbdbc2ed154d4f7e2c42d2e261a52b",
        "parent": "a9a0c90446244b72b1eeafd591440c13",
        "source": "a9a0c90446244b72b1eeafd591440c13-4",
        "target": "a9a0c90446244b72b1eeafd591440c13-3"
       },
       "group": "edges"
      }
     },
     "b596c582bb354dec5101ea71480e650f": {
      "model_module": "cytoscape-clj",
      "model_module_version": "^0.2.0",
      "model_name": "ElementModel",
      "state": {
       "_model_module_version": "^0.2.0",
       "_view_module_version": "^0.2.0",
       "classes": [
        "73767608a9f54f1eff44d9872b2df9b2"
       ],
       "data": {
        "id": "724d0a8f186140fbfe9630bc0fa75e14",
        "parent": "73767608a9f54f1eff44d9872b2df9b2",
        "source": "73767608a9f54f1eff44d9872b2df9b2-2",
        "target": "73767608a9f54f1eff44d9872b2df9b2-6"
       },
       "group": "edges"
      }
     },
     "b6059b3246ec44d12297d1cc826a115e": {
      "model_module": "cytoscape-clj",
      "model_module_version": "^0.2.0",
      "model_name": "CoseLayoutModel",
      "state": {
       "_model_module_version": "^0.2.0",
       "_view_module_version": "^0.2.0",
       "animation_duration": 250,
       "bounding_box": {
        "h": 300,
        "w": 300,
        "x1": 330,
        "y1": 330
       },
       "fit": false,
       "refresh": 10,
       "selector": ".261d64a01f814cd523b7a6ab2a7d6547"
      }
     },
     "b6203cf1b1bb4f42f8d140a47dbb3090": {
      "model_module": "cytoscape-clj",
      "model_module_version": "^0.2.0",
      "model_name": "ElementModel",
      "state": {
       "_model_module_version": "^0.2.0",
       "_view_module_version": "^0.2.0",
       "classes": [
        "261d64a01f814cd523b7a6ab2a7d6547",
        "child"
       ],
       "data": {
        "id": "261d64a01f814cd523b7a6ab2a7d6547-0",
        "name": "0",
        "parent": "261d64a01f814cd523b7a6ab2a7d6547"
       },
       "position": {
        "x": 578.1432120580063,
        "y": 621.2623351667141
       }
      }
     },
     "b645f9a0cafb4fefb12a02ad660b89ab": {
      "model_module": "cytoscape-clj",
      "model_module_version": "^0.2.0",
      "model_name": "ElementModel",
      "state": {
       "_model_module_version": "^0.2.0",
       "_view_module_version": "^0.2.0",
       "classes": [
        "7026a101dab04a0642011f2a3371d95a"
       ],
       "data": {
        "id": "2fd3df5e37264a83b66129c560867fc6",
        "parent": "7026a101dab04a0642011f2a3371d95a",
        "source": "7026a101dab04a0642011f2a3371d95a-3",
        "target": "7026a101dab04a0642011f2a3371d95a-6"
       },
       "group": "edges"
      }
     },
     "b94375826f134c5b1c6dbda28b096b29": {
      "model_module": "cytoscape-clj",
      "model_module_version": "^0.2.0",
      "model_name": "ElementModel",
      "state": {
       "_model_module_version": "^0.2.0",
       "_view_module_version": "^0.2.0",
       "classes": [
        "cf3d6ed3a72344740c70160b49dacfc4"
       ],
       "data": {
        "id": "cf3d6ed3a72344740c70160b49dacfc4",
        "name": "random-layout"
       }
      }
     },
     "b9c4cdb5316e4526a7cc0a7178d6bb07": {
      "model_module": "cytoscape-clj",
      "model_module_version": "^0.2.0",
      "model_name": "ElementModel",
      "state": {
       "_model_module_version": "^0.2.0",
       "_view_module_version": "^0.2.0",
       "classes": [
        "7026a101dab04a0642011f2a3371d95a"
       ],
       "data": {
        "id": "7026a101dab04a0642011f2a3371d95a",
        "name": "circle-layout"
       }
      }
     },
     "bb5e9df381c04d450f7ae34312e9c5c2": {
      "model_module": "cytoscape-clj",
      "model_module_version": "^0.2.0",
      "model_name": "ElementModel",
      "state": {
       "_model_module_version": "^0.2.0",
       "_view_module_version": "^0.2.0",
       "classes": [
        "0b444ec8485641b276db9ef4b6bbc856"
       ],
       "data": {
        "id": "032bbd7b989e475a7e44f761107108da",
        "parent": "0b444ec8485641b276db9ef4b6bbc856",
        "source": "0b444ec8485641b276db9ef4b6bbc856-2",
        "target": "0b444ec8485641b276db9ef4b6bbc856-3"
       },
       "group": "edges"
      }
     },
     "bc14e47546a9424830511fd2ffab56da": {
      "model_module": "cytoscape-clj",
      "model_module_version": "^0.2.0",
      "model_name": "ElementModel",
      "state": {
       "_model_module_version": "^0.2.0",
       "_view_module_version": "^0.2.0",
       "classes": [
        "bcdee604f84b49d9d2d2b755f9b8e91b"
       ],
       "data": {
        "id": "4c13af18fc184b877516f08b5907017e",
        "parent": "bcdee604f84b49d9d2d2b755f9b8e91b",
        "source": "bcdee604f84b49d9d2d2b755f9b8e91b-1",
        "target": "bcdee604f84b49d9d2d2b755f9b8e91b-5"
       },
       "group": "edges"
      }
     },
     "bd2be08077f444b456a7e06064e0bf87": {
      "model_module": "cytoscape-clj",
      "model_module_version": "^0.2.0",
      "model_name": "ElementModel",
      "state": {
       "_model_module_version": "^0.2.0",
       "_view_module_version": "^0.2.0",
       "classes": [
        "bcdee604f84b49d9d2d2b755f9b8e91b"
       ],
       "data": {
        "id": "3ece01954e5b460f0f1addabc0a1e468",
        "parent": "bcdee604f84b49d9d2d2b755f9b8e91b",
        "source": "bcdee604f84b49d9d2d2b755f9b8e91b-4",
        "target": "bcdee604f84b49d9d2d2b755f9b8e91b-5"
       },
       "group": "edges"
      }
     },
     "be067453e24e41094b9fe82d70892021": {
      "model_module": "cytoscape-clj",
      "model_module_version": "^0.2.0",
      "model_name": "ElementModel",
      "state": {
       "_model_module_version": "^0.2.0",
       "_view_module_version": "^0.2.0",
       "classes": [
        "261d64a01f814cd523b7a6ab2a7d6547"
       ],
       "data": {
        "id": "dc361e271f90461cef701857ad08b25d",
        "parent": "261d64a01f814cd523b7a6ab2a7d6547",
        "source": "261d64a01f814cd523b7a6ab2a7d6547-3",
        "target": "261d64a01f814cd523b7a6ab2a7d6547-6"
       },
       "group": "edges"
      }
     },
     "be5475edf5664c5f75c4133083b7b32e": {
      "model_module": "cytoscape-clj",
      "model_module_version": "^0.2.0",
      "model_name": "RandomLayoutModel",
      "state": {
       "_model_module_version": "^0.2.0",
       "_view_module_version": "^0.2.0",
       "animate": true,
       "animation_duration": 250,
       "bounding_box": {
        "h": 300,
        "w": 300,
        "x1": 330,
        "y1": 0
       },
       "fit": false,
       "selector": ".cf3d6ed3a72344740c70160b49dacfc4"
      }
     },
     "bfd6bd51db184c6d74f423ad70606708": {
      "model_module": "cytoscape-clj",
      "model_module_version": "^0.2.0",
      "model_name": "ElementModel",
      "state": {
       "_model_module_version": "^0.2.0",
       "_view_module_version": "^0.2.0",
       "classes": [
        "cf3d6ed3a72344740c70160b49dacfc4"
       ],
       "data": {
        "id": "053dc1ad193a43f77c42524301bb1f06",
        "parent": "cf3d6ed3a72344740c70160b49dacfc4",
        "source": "cf3d6ed3a72344740c70160b49dacfc4-2",
        "target": "cf3d6ed3a72344740c70160b49dacfc4-1"
       },
       "group": "edges"
      }
     },
     "c0e19ad43334443f970e8d4d4a261c2d": {
      "model_module": "cytoscape-clj",
      "model_module_version": "^0.2.0",
      "model_name": "ElementModel",
      "state": {
       "_model_module_version": "^0.2.0",
       "_view_module_version": "^0.2.0",
       "classes": [
        "a9a0c90446244b72b1eeafd591440c13"
       ],
       "data": {
        "id": "42cc8c0ec7bb416089ca67711d25afb5",
        "parent": "a9a0c90446244b72b1eeafd591440c13",
        "source": "a9a0c90446244b72b1eeafd591440c13-3",
        "target": "a9a0c90446244b72b1eeafd591440c13-1"
       },
       "group": "edges"
      }
     },
     "c406eeebd7904a0d1174c525539d6d2f": {
      "model_module": "cytoscape-clj",
      "model_module_version": "^0.2.0",
      "model_name": "ElementModel",
      "state": {
       "_model_module_version": "^0.2.0",
       "_view_module_version": "^0.2.0",
       "classes": [
        "261d64a01f814cd523b7a6ab2a7d6547",
        "child"
       ],
       "data": {
        "id": "261d64a01f814cd523b7a6ab2a7d6547-4",
        "name": "4",
        "parent": "261d64a01f814cd523b7a6ab2a7d6547"
       },
       "position": {
        "x": 330,
        "y": 614.4198703320535
       }
      }
     },
     "c43132744a794516ce831a30d1ff745b": {
      "model_module": "cytoscape-clj",
      "model_module_version": "^0.2.0",
      "model_name": "ElementModel",
      "state": {
       "_model_module_version": "^0.2.0",
       "_view_module_version": "^0.2.0",
       "classes": [
        "0b444ec8485641b276db9ef4b6bbc856"
       ],
       "data": {
        "id": "0b444ec8485641b276db9ef4b6bbc856",
        "name": "grid-layout"
       }
      }
     },
     "c587ce4720c04dcabcea243d58c257ad": {
      "model_module": "cytoscape-clj",
      "model_module_version": "^0.2.0",
      "model_name": "ElementModel",
      "state": {
       "_model_module_version": "^0.2.0",
       "_view_module_version": "^0.2.0",
       "classes": [
        "0b444ec8485641b276db9ef4b6bbc856",
        "child"
       ],
       "data": {
        "id": "0b444ec8485641b276db9ef4b6bbc856-5",
        "name": "5",
        "parent": "0b444ec8485641b276db9ef4b6bbc856"
       },
       "position": {
        "x": 910,
        "y": 150
       }
      }
     },
     "c70e5cb73be545eba5dd50902ba99788": {
      "model_module": "cytoscape-clj",
      "model_module_version": "^0.2.0",
      "model_name": "ElementModel",
      "state": {
       "_model_module_version": "^0.2.0",
       "_view_module_version": "^0.2.0",
       "classes": [
        "bcdee604f84b49d9d2d2b755f9b8e91b"
       ],
       "data": {
        "id": "429b17822a7b4e11b8049ae2515b0f32",
        "parent": "bcdee604f84b49d9d2d2b755f9b8e91b",
        "source": "bcdee604f84b49d9d2d2b755f9b8e91b-4",
        "target": "bcdee604f84b49d9d2d2b755f9b8e91b-6"
       },
       "group": "edges"
      }
     },
     "c7738b977a3643e5407ee4d15ff7f4db": {
      "model_module": "cytoscape-clj",
      "model_module_version": "^0.2.0",
      "model_name": "ElementModel",
      "state": {
       "_model_module_version": "^0.2.0",
       "_view_module_version": "^0.2.0",
       "classes": [
        "bcdee604f84b49d9d2d2b755f9b8e91b",
        "child"
       ],
       "data": {
        "id": "bcdee604f84b49d9d2d2b755f9b8e91b-4",
        "name": "4",
        "parent": "bcdee604f84b49d9d2d2b755f9b8e91b"
       },
       "position": {
        "x": 214.28571428571428,
        "y": 225
       }
      }
     },
     "c828514db0f945cb01a3298cf38ff205": {
      "model_module": "cytoscape-clj",
      "model_module_version": "^0.2.0",
      "model_name": "ElementModel",
      "state": {
       "_model_module_version": "^0.2.0",
       "_view_module_version": "^0.2.0",
       "classes": [
        "cf3d6ed3a72344740c70160b49dacfc4",
        "child"
       ],
       "data": {
        "id": "cf3d6ed3a72344740c70160b49dacfc4-1",
        "name": "1",
        "parent": "cf3d6ed3a72344740c70160b49dacfc4"
       },
       "position": {
        "x": 379,
        "y": 22
       }
      }
     },
     "c8b50afb67b24ee0420923b0c8183bf1": {
      "model_module": "cytoscape-clj",
      "model_module_version": "^0.2.0",
      "model_name": "ElementModel",
      "state": {
       "_model_module_version": "^0.2.0",
       "_view_module_version": "^0.2.0",
       "classes": [
        "7026a101dab04a0642011f2a3371d95a"
       ],
       "data": {
        "id": "972a721048e34cf4d7fa44dc91e8c184",
        "parent": "7026a101dab04a0642011f2a3371d95a",
        "source": "7026a101dab04a0642011f2a3371d95a-2",
        "target": "7026a101dab04a0642011f2a3371d95a-6"
       },
       "group": "edges"
      }
     },
     "cb7fd1300eb441fbe2e6ee32ef8cceea": {
      "model_module": "cytoscape-clj",
      "model_module_version": "^0.2.0",
      "model_name": "ElementModel",
      "state": {
       "_model_module_version": "^0.2.0",
       "_view_module_version": "^0.2.0",
       "classes": [
        "a9a0c90446244b72b1eeafd591440c13"
       ],
       "data": {
        "id": "24f95a7383594c0f3f32b57c389be25f",
        "parent": "a9a0c90446244b72b1eeafd591440c13",
        "source": "a9a0c90446244b72b1eeafd591440c13-0",
        "target": "a9a0c90446244b72b1eeafd591440c13-5"
       },
       "group": "edges"
      }
     },
     "cb87b0da5c1040f94736fcb641dd4b22": {
      "model_module": "cytoscape-clj",
      "model_module_version": "^0.2.0",
      "model_name": "ElementModel",
      "state": {
       "_model_module_version": "^0.2.0",
       "_view_module_version": "^0.2.0",
       "classes": [
        "cf3d6ed3a72344740c70160b49dacfc4"
       ],
       "data": {
        "id": "89c7c32048374fffd2e61ac144adce22",
        "parent": "cf3d6ed3a72344740c70160b49dacfc4",
        "source": "cf3d6ed3a72344740c70160b49dacfc4-2",
        "target": "cf3d6ed3a72344740c70160b49dacfc4-6"
       },
       "group": "edges"
      }
     },
     "cbe5544fcfc8418c5278f3ca3f0eab5b": {
      "model_module": "cytoscape-clj",
      "model_module_version": "^0.2.0",
      "model_name": "ElementModel",
      "state": {
       "_model_module_version": "^0.2.0",
       "_view_module_version": "^0.2.0",
       "classes": [
        "a9a0c90446244b72b1eeafd591440c13"
       ],
       "data": {
        "id": "6ef902f2f1134ff41b78d18da9478949",
        "parent": "a9a0c90446244b72b1eeafd591440c13",
        "source": "a9a0c90446244b72b1eeafd591440c13-2",
        "target": "a9a0c90446244b72b1eeafd591440c13-1"
       },
       "group": "edges"
      }
     },
     "cbf09dcda1cc4f4fafdb784f304e4666": {
      "model_module": "cytoscape-clj",
      "model_module_version": "^0.2.0",
      "model_name": "ElementModel",
      "state": {
       "_model_module_version": "^0.2.0",
       "_view_module_version": "^0.2.0",
       "classes": [
        "bcdee604f84b49d9d2d2b755f9b8e91b",
        "child"
       ],
       "data": {
        "id": "bcdee604f84b49d9d2d2b755f9b8e91b-3",
        "name": "3",
        "parent": "bcdee604f84b49d9d2d2b755f9b8e91b"
       },
       "position": {
        "x": 171.42857142857142,
        "y": 225
       }
      }
     },
     "cd10232f18f24c0895be3a77ea56212e": {
      "model_module": "cytoscape-clj",
      "model_module_version": "^0.2.0",
      "model_name": "ElementModel",
      "state": {
       "_model_module_version": "^0.2.0",
       "_view_module_version": "^0.2.0",
       "classes": [
        "bcdee604f84b49d9d2d2b755f9b8e91b"
       ],
       "data": {
        "id": "75191831c9f54ffc095fcc803f4c0260",
        "parent": "bcdee604f84b49d9d2d2b755f9b8e91b",
        "source": "bcdee604f84b49d9d2d2b755f9b8e91b-2",
        "target": "bcdee604f84b49d9d2d2b755f9b8e91b-6"
       },
       "group": "edges"
      }
     },
     "ce10051bae2f4755ef23dafa80279b83": {
      "model_module": "cytoscape-clj",
      "model_module_version": "^0.2.0",
      "model_name": "ElementModel",
      "state": {
       "_model_module_version": "^0.2.0",
       "_view_module_version": "^0.2.0",
       "classes": [
        "7026a101dab04a0642011f2a3371d95a"
       ],
       "data": {
        "id": "186f0526d77b4e4fb33de0f9c33718a5",
        "parent": "7026a101dab04a0642011f2a3371d95a",
        "source": "7026a101dab04a0642011f2a3371d95a-4",
        "target": "7026a101dab04a0642011f2a3371d95a-5"
       },
       "group": "edges"
      }
     },
     "d0c7caeb15f0489c2e65e96a88431848": {
      "model_module": "cytoscape-clj",
      "model_module_version": "^0.2.0",
      "model_name": "ElementModel",
      "state": {
       "_model_module_version": "^0.2.0",
       "_view_module_version": "^0.2.0",
       "classes": [
        "a9a0c90446244b72b1eeafd591440c13"
       ],
       "data": {
        "id": "572ffe6cb43744590bdbb601d59d293b",
        "parent": "a9a0c90446244b72b1eeafd591440c13",
        "source": "a9a0c90446244b72b1eeafd591440c13-4",
        "target": "a9a0c90446244b72b1eeafd591440c13-6"
       },
       "group": "edges"
      }
     },
     "d194121e5e744dd7563706a92ad10cf6": {
      "model_module": "cytoscape-clj",
      "model_module_version": "^0.2.0",
      "model_name": "ElementModel",
      "state": {
       "_model_module_version": "^0.2.0",
       "_view_module_version": "^0.2.0",
       "classes": [
        "3ace55d44a614943dd409dd2eaebf749"
       ],
       "data": {
        "id": "c8e0d3fd24314e08bb76275c33b9a2cb",
        "parent": "3ace55d44a614943dd409dd2eaebf749",
        "source": "3ace55d44a614943dd409dd2eaebf749-4",
        "target": "3ace55d44a614943dd409dd2eaebf749-5"
       },
       "group": "edges"
      }
     },
     "d6c37ffb247d44c2d2f78e9e921bf88e": {
      "model_module": "cytoscape-clj",
      "model_module_version": "^0.2.0",
      "model_name": "ElementModel",
      "state": {
       "_model_module_version": "^0.2.0",
       "_view_module_version": "^0.2.0",
       "classes": [
        "73767608a9f54f1eff44d9872b2df9b2"
       ],
       "data": {
        "id": "08c4289cd58146f471ef3682bfda9f2e",
        "parent": "73767608a9f54f1eff44d9872b2df9b2",
        "source": "73767608a9f54f1eff44d9872b2df9b2-0",
        "target": "73767608a9f54f1eff44d9872b2df9b2-1"
       },
       "group": "edges"
      }
     },
     "d764e29ef64a4aa8c8d62304520e6842": {
      "model_module": "cytoscape-clj",
      "model_module_version": "^0.2.0",
      "model_name": "ElementModel",
      "state": {
       "_model_module_version": "^0.2.0",
       "_view_module_version": "^0.2.0",
       "classes": [
        "73767608a9f54f1eff44d9872b2df9b2"
       ],
       "data": {
        "id": "c9eae2083e074f38d76abc21332903dd",
        "parent": "73767608a9f54f1eff44d9872b2df9b2",
        "source": "73767608a9f54f1eff44d9872b2df9b2-0",
        "target": "73767608a9f54f1eff44d9872b2df9b2-6"
       },
       "group": "edges"
      }
     },
     "da9ece1981534a7f2e543fb9251fc42d": {
      "model_module": "cytoscape-clj",
      "model_module_version": "^0.2.0",
      "model_name": "ElementModel",
      "state": {
       "_model_module_version": "^0.2.0",
       "_view_module_version": "^0.2.0",
       "classes": [
        "0b444ec8485641b276db9ef4b6bbc856"
       ],
       "data": {
        "id": "2da6ce6e4bed40d1506be369f1164780",
        "parent": "0b444ec8485641b276db9ef4b6bbc856",
        "source": "0b444ec8485641b276db9ef4b6bbc856-1",
        "target": "0b444ec8485641b276db9ef4b6bbc856-6"
       },
       "group": "edges"
      }
     },
     "db40a3c1ba8f42fbd1b0e0b6e3eb7f6e": {
      "model_module": "cytoscape-clj",
      "model_module_version": "^0.2.0",
      "model_name": "ElementModel",
      "state": {
       "_model_module_version": "^0.2.0",
       "_view_module_version": "^0.2.0",
       "classes": [
        "bcdee604f84b49d9d2d2b755f9b8e91b"
       ],
       "data": {
        "id": "bcdee604f84b49d9d2d2b755f9b8e91b",
        "name": "breadth-first-layout"
       }
      }
     },
     "de7af45a455943f19628da3168362a90": {
      "model_module": "cytoscape-clj",
      "model_module_version": "^0.2.0",
      "model_name": "ElementModel",
      "state": {
       "_model_module_version": "^0.2.0",
       "_view_module_version": "^0.2.0",
       "classes": [
        "bcdee604f84b49d9d2d2b755f9b8e91b"
       ],
       "data": {
        "id": "6f2b8648ee014997a8cce893c77f87eb",
        "parent": "bcdee604f84b49d9d2d2b755f9b8e91b",
        "source": "bcdee604f84b49d9d2d2b755f9b8e91b-0",
        "target": "bcdee604f84b49d9d2d2b755f9b8e91b-5"
       },
       "group": "edges"
      }
     },
     "df21b36b352349081c981eae4ac4d796": {
      "model_module": "cytoscape-clj",
      "model_module_version": "^0.2.0",
      "model_name": "ElementModel",
      "state": {
       "_model_module_version": "^0.2.0",
       "_view_module_version": "^0.2.0",
       "classes": [
        "bcdee604f84b49d9d2d2b755f9b8e91b",
        "child"
       ],
       "data": {
        "id": "bcdee604f84b49d9d2d2b755f9b8e91b-5",
        "name": "5",
        "parent": "bcdee604f84b49d9d2d2b755f9b8e91b"
       },
       "position": {
        "x": 257.1428571428571,
        "y": 225
       }
      }
     },
     "dfe0286943224d6324694b1a80621308": {
      "model_module": "cytoscape-clj",
      "model_module_version": "^0.2.0",
      "model_name": "ElementModel",
      "state": {
       "_model_module_version": "^0.2.0",
       "_view_module_version": "^0.2.0",
       "classes": [
        "a9a0c90446244b72b1eeafd591440c13",
        "child"
       ],
       "data": {
        "id": "a9a0c90446244b72b1eeafd591440c13-1",
        "name": "1",
        "parent": "a9a0c90446244b72b1eeafd591440c13"
       },
       "position": {
        "x": 178.2842712474619,
        "y": 480
       }
      }
     },
     "e1173142890a468ae43dc295ac594b00": {
      "model_module": "cytoscape-clj",
      "model_module_version": "^0.2.0",
      "model_name": "ElementModel",
      "state": {
       "_model_module_version": "^0.2.0",
       "_view_module_version": "^0.2.0",
       "classes": [
        "73767608a9f54f1eff44d9872b2df9b2"
       ],
       "data": {
        "id": "266aca21238547739afc84cfad43d73b",
        "parent": "73767608a9f54f1eff44d9872b2df9b2",
        "source": "73767608a9f54f1eff44d9872b2df9b2-4",
        "target": "73767608a9f54f1eff44d9872b2df9b2-6"
       },
       "group": "edges"
      }
     },
     "e3ca0cdc96a14919b5688730071c708d": {
      "model_module": "cytoscape-clj",
      "model_module_version": "^0.2.0",
      "model_name": "ElementModel",
      "state": {
       "_model_module_version": "^0.2.0",
       "_view_module_version": "^0.2.0",
       "classes": [
        "cf3d6ed3a72344740c70160b49dacfc4"
       ],
       "data": {
        "id": "fffa6f60c5394a50ea16a090ae2bc4d3",
        "parent": "cf3d6ed3a72344740c70160b49dacfc4",
        "source": "cf3d6ed3a72344740c70160b49dacfc4-3",
        "target": "cf3d6ed3a72344740c70160b49dacfc4-1"
       },
       "group": "edges"
      }
     },
     "e48b39c674a2490fb984a1d5ec4bb833": {
      "model_module": "cytoscape-clj",
      "model_module_version": "^0.2.0",
      "model_name": "ElementModel",
      "state": {
       "_model_module_version": "^0.2.0",
       "_view_module_version": "^0.2.0",
       "classes": [
        "a9a0c90446244b72b1eeafd591440c13"
       ],
       "data": {
        "id": "4140cb731dfc402c0b801e54f24659e9",
        "parent": "a9a0c90446244b72b1eeafd591440c13",
        "source": "a9a0c90446244b72b1eeafd591440c13-4",
        "target": "a9a0c90446244b72b1eeafd591440c13-5"
       },
       "group": "edges"
      }
     },
     "e5504683b1064b1a2aa35cf306143a73": {
      "model_module": "cytoscape-clj",
      "model_module_version": "^0.2.0",
      "model_name": "ColaLayoutModel",
      "state": {
       "_model_module_version": "^0.2.0",
       "_view_module_version": "^0.2.0",
       "bounding_box": {
        "h": 300,
        "w": 300,
        "x1": 660,
        "x2": 960,
        "y1": 330,
        "y2": 630
       },
       "fit": false,
       "handle_disconnected": false,
       "selector": ".73767608a9f54f1eff44d9872b2df9b2",
       "unconst_iter": null,
       "ungrabify_while_simulating": false
      }
     },
     "e5b27d3b32c049e57dd417203eca9d04": {
      "model_module": "cytoscape-clj",
      "model_module_version": "^0.2.0",
      "model_name": "ElementModel",
      "state": {
       "_model_module_version": "^0.2.0",
       "_view_module_version": "^0.2.0",
       "classes": [
        "3ace55d44a614943dd409dd2eaebf749"
       ],
       "data": {
        "id": "3ace55d44a614943dd409dd2eaebf749",
        "name": "dagre-layout"
       },
       "position": {
        "x": 1140,
        "y": 480
       }
      }
     },
     "e6f9c8863be546e8e4b4af38cec38483": {
      "model_module": "cytoscape-clj",
      "model_module_version": "^0.2.0",
      "model_name": "ElementModel",
      "state": {
       "_model_module_version": "^0.2.0",
       "_view_module_version": "^0.2.0",
       "classes": [
        "73767608a9f54f1eff44d9872b2df9b2",
        "child"
       ],
       "data": {
        "id": "73767608a9f54f1eff44d9872b2df9b2-4",
        "name": "4",
        "parent": "73767608a9f54f1eff44d9872b2df9b2"
       },
       "position": {
        "x": 831.3034443129466,
        "y": 508.03760596686203
       }
      }
     },
     "e80d77826a8945b51f98d0c46f18103d": {
      "model_module": "cytoscape-clj",
      "model_module_version": "^0.2.0",
      "model_name": "ElementModel",
      "state": {
       "_model_module_version": "^0.2.0",
       "_view_module_version": "^0.2.0",
       "classes": [
        "a9a0c90446244b72b1eeafd591440c13",
        "child"
       ],
       "data": {
        "id": "a9a0c90446244b72b1eeafd591440c13-0",
        "name": "0",
        "parent": "a9a0c90446244b72b1eeafd591440c13"
       },
       "position": {
        "x": 150,
        "y": 411.7157287525381
       }
      }
     },
     "ea442446b7ee48e674148b1d224b606f": {
      "model_module": "cytoscape-clj",
      "model_module_version": "^0.2.0",
      "model_name": "ElementModel",
      "state": {
       "_model_module_version": "^0.2.0",
       "_view_module_version": "^0.2.0",
       "classes": [
        "3ace55d44a614943dd409dd2eaebf749",
        "child"
       ],
       "data": {
        "id": "3ace55d44a614943dd409dd2eaebf749-4",
        "name": "4",
        "parent": "3ace55d44a614943dd409dd2eaebf749"
       },
       "position": {
        "x": 990,
        "y": 405
       }
      }
     },
     "ebd4982aa839468db3907caf74e0815b": {
      "model_module": "cytoscape-clj",
      "model_module_version": "^0.2.0",
      "model_name": "ElementModel",
      "state": {
       "_model_module_version": "^0.2.0",
       "_view_module_version": "^0.2.0",
       "classes": [
        "261d64a01f814cd523b7a6ab2a7d6547",
        "child"
       ],
       "data": {
        "id": "261d64a01f814cd523b7a6ab2a7d6547-2",
        "name": "2",
        "parent": "261d64a01f814cd523b7a6ab2a7d6547"
       },
       "position": {
        "x": 630,
        "y": 554.2763734667517
       }
      }
     },
     "ec1290fbf33a4c127835a5f2582ee949": {
      "model_module": "cytoscape-clj",
      "model_module_version": "^0.2.0",
      "model_name": "ElementModel",
      "state": {
       "_model_module_version": "^0.2.0",
       "_view_module_version": "^0.2.0",
       "classes": [
        "bcdee604f84b49d9d2d2b755f9b8e91b"
       ],
       "data": {
        "id": "c34dcaa224784eaaf45297003f09c846",
        "parent": "bcdee604f84b49d9d2d2b755f9b8e91b",
        "source": "bcdee604f84b49d9d2d2b755f9b8e91b-2",
        "target": "bcdee604f84b49d9d2d2b755f9b8e91b-3"
       },
       "group": "edges"
      }
     },
     "eca82368c7b8419d71f9bf51fa3a07af": {
      "model_module": "cytoscape-clj",
      "model_module_version": "^0.2.0",
      "model_name": "ElementModel",
      "state": {
       "_model_module_version": "^0.2.0",
       "_view_module_version": "^0.2.0",
       "classes": [
        "a9a0c90446244b72b1eeafd591440c13"
       ],
       "data": {
        "id": "0e7dc442132c45afd6892626dca238a9",
        "parent": "a9a0c90446244b72b1eeafd591440c13",
        "source": "a9a0c90446244b72b1eeafd591440c13-1",
        "target": "a9a0c90446244b72b1eeafd591440c13-6"
       },
       "group": "edges"
      }
     },
     "ed102cff30c049156c0cb1a45d34e189": {
      "model_module": "cytoscape-clj",
      "model_module_version": "^0.2.0",
      "model_name": "ElementModel",
      "state": {
       "_model_module_version": "^0.2.0",
       "_view_module_version": "^0.2.0",
       "classes": [
        "bcdee604f84b49d9d2d2b755f9b8e91b"
       ],
       "data": {
        "id": "f517485f8b9742c07e373120f08b7ccd",
        "parent": "bcdee604f84b49d9d2d2b755f9b8e91b",
        "source": "bcdee604f84b49d9d2d2b755f9b8e91b-2",
        "target": "bcdee604f84b49d9d2d2b755f9b8e91b-1"
       },
       "group": "edges"
      }
     },
     "eee69b49d79e420ce2a73f76d1e64845": {
      "model_module": "cytoscape-clj",
      "model_module_version": "^0.2.0",
      "model_name": "ElementModel",
      "state": {
       "_model_module_version": "^0.2.0",
       "_view_module_version": "^0.2.0",
       "classes": [
        "cf3d6ed3a72344740c70160b49dacfc4"
       ],
       "data": {
        "id": "1d38054749e54dbcf06b323b9aa17618",
        "parent": "cf3d6ed3a72344740c70160b49dacfc4",
        "source": "cf3d6ed3a72344740c70160b49dacfc4-3",
        "target": "cf3d6ed3a72344740c70160b49dacfc4-6"
       },
       "group": "edges"
      }
     },
     "ef37948e7a93418cb3ec40a69354e5c5": {
      "model_module": "cytoscape-clj",
      "model_module_version": "^0.2.0",
      "model_name": "ElementModel",
      "state": {
       "_model_module_version": "^0.2.0",
       "_view_module_version": "^0.2.0",
       "classes": [
        "a9a0c90446244b72b1eeafd591440c13"
       ],
       "data": {
        "id": "9198475dce7e4744a7ae63be1b19ec07",
        "parent": "a9a0c90446244b72b1eeafd591440c13",
        "source": "a9a0c90446244b72b1eeafd591440c13-5",
        "target": "a9a0c90446244b72b1eeafd591440c13-6"
       },
       "group": "edges"
      }
     },
     "f061aded657542ad1d54aaa05a55c383": {
      "model_module": "cytoscape-clj",
      "model_module_version": "^0.2.0",
      "model_name": "ElementModel",
      "state": {
       "_model_module_version": "^0.2.0",
       "_view_module_version": "^0.2.0",
       "classes": [
        "73767608a9f54f1eff44d9872b2df9b2"
       ],
       "data": {
        "id": "fbf7ac62635843b588fd94a7b4d8c0be",
        "parent": "73767608a9f54f1eff44d9872b2df9b2",
        "source": "73767608a9f54f1eff44d9872b2df9b2-5",
        "target": "73767608a9f54f1eff44d9872b2df9b2-6"
       },
       "group": "edges"
      }
     },
     "f0c1cd18da6a4f5f9d545fc2d2591503": {
      "model_module": "cytoscape-clj",
      "model_module_version": "^0.2.0",
      "model_name": "ElementModel",
      "state": {
       "_model_module_version": "^0.2.0",
       "_view_module_version": "^0.2.0",
       "classes": [
        "261d64a01f814cd523b7a6ab2a7d6547"
       ],
       "data": {
        "id": "d775cca6e20d4301357808b075c3a56c",
        "parent": "261d64a01f814cd523b7a6ab2a7d6547",
        "source": "261d64a01f814cd523b7a6ab2a7d6547-2",
        "target": "261d64a01f814cd523b7a6ab2a7d6547-3"
       },
       "group": "edges"
      }
     },
     "f1b774134e434ce529c4e531e9f96b49": {
      "model_module": "cytoscape-clj",
      "model_module_version": "^0.2.0",
      "model_name": "ElementModel",
      "state": {
       "_model_module_version": "^0.2.0",
       "_view_module_version": "^0.2.0",
       "classes": [
        "0b444ec8485641b276db9ef4b6bbc856",
        "child"
       ],
       "data": {
        "id": "0b444ec8485641b276db9ef4b6bbc856-6",
        "name": "6",
        "parent": "0b444ec8485641b276db9ef4b6bbc856"
       },
       "position": {
        "x": 710,
        "y": 250
       }
      }
     },
     "f2af0b72293c45dd741a511e6a137933": {
      "model_module": "cytoscape-clj",
      "model_module_version": "^0.2.0",
      "model_name": "ElementModel",
      "state": {
       "_model_module_version": "^0.2.0",
       "_view_module_version": "^0.2.0",
       "classes": [
        "261d64a01f814cd523b7a6ab2a7d6547",
        "child"
       ],
       "data": {
        "id": "261d64a01f814cd523b7a6ab2a7d6547-5",
        "name": "5",
        "parent": "261d64a01f814cd523b7a6ab2a7d6547"
       },
       "position": {
        "x": 384.948300193805,
        "y": 546.9516394954085
       }
      }
     },
     "f35bf485c06940916da2ba82ffcefc43": {
      "model_module": "cytoscape-clj",
      "model_module_version": "^0.2.0",
      "model_name": "ElementModel",
      "state": {
       "_model_module_version": "^0.2.0",
       "_view_module_version": "^0.2.0",
       "classes": [
        "73767608a9f54f1eff44d9872b2df9b2"
       ],
       "data": {
        "id": "ff5785ae6904468b19f6a5a603fe57b0",
        "parent": "73767608a9f54f1eff44d9872b2df9b2",
        "source": "73767608a9f54f1eff44d9872b2df9b2-2",
        "target": "73767608a9f54f1eff44d9872b2df9b2-1"
       },
       "group": "edges"
      }
     },
     "f65469b7ee294120923f234e798d1974": {
      "model_module": "cytoscape-clj",
      "model_module_version": "^0.2.0",
      "model_name": "DagreLayoutModel",
      "state": {
       "_model_module_version": "^0.2.0",
       "_view_module_version": "^0.2.0",
       "animate": true,
       "animation_duration": 250,
       "bounding_box": {
        "h": 300,
        "w": 300,
        "x1": 990,
        "x2": 1290,
        "y1": 330,
        "y2": 630
       },
       "fit": false,
       "min_length": 1,
       "selector": ".3ace55d44a614943dd409dd2eaebf749"
      }
     },
     "f6736edd8a1f43636e07867fa7151d74": {
      "model_module": "cytoscape-clj",
      "model_module_version": "^0.2.0",
      "model_name": "ElementModel",
      "state": {
       "_model_module_version": "^0.2.0",
       "_view_module_version": "^0.2.0",
       "classes": [
        "a9a0c90446244b72b1eeafd591440c13"
       ],
       "data": {
        "id": "486ade9cc1b847807ce990eeaecd11e1",
        "parent": "a9a0c90446244b72b1eeafd591440c13",
        "source": "a9a0c90446244b72b1eeafd591440c13-0",
        "target": "a9a0c90446244b72b1eeafd591440c13-6"
       },
       "group": "edges"
      }
     },
     "fb224387a85248bbdbf38efaa092fe90": {
      "model_module": "cytoscape-clj",
      "model_module_version": "^0.2.0",
      "model_name": "ElementModel",
      "state": {
       "_model_module_version": "^0.2.0",
       "_view_module_version": "^0.2.0",
       "classes": [
        "cf3d6ed3a72344740c70160b49dacfc4",
        "child"
       ],
       "data": {
        "id": "cf3d6ed3a72344740c70160b49dacfc4-3",
        "name": "3",
        "parent": "cf3d6ed3a72344740c70160b49dacfc4"
       },
       "position": {
        "x": 617,
        "y": 289
       }
      }
     },
     "fdc162cde49b4103cd6f524328f9d453": {
      "model_module": "cytoscape-clj",
      "model_module_version": "^0.2.0",
      "model_name": "ElementModel",
      "state": {
       "_model_module_version": "^0.2.0",
       "_view_module_version": "^0.2.0",
       "classes": [
        "3ace55d44a614943dd409dd2eaebf749"
       ],
       "data": {
        "id": "eaf715ff714e46539702886000c2a8cd",
        "parent": "3ace55d44a614943dd409dd2eaebf749",
        "source": "3ace55d44a614943dd409dd2eaebf749-1",
        "target": "3ace55d44a614943dd409dd2eaebf749-5"
       },
       "group": "edges"
      }
     },
     "fdc588f039904648ba8e3c58cc941bea": {
      "model_module": "cytoscape-clj",
      "model_module_version": "^0.2.0",
      "model_name": "ElementModel",
      "state": {
       "_model_module_version": "^0.2.0",
       "_view_module_version": "^0.2.0",
       "classes": [
        "cf3d6ed3a72344740c70160b49dacfc4"
       ],
       "data": {
        "id": "6ed1cc49fde34a641f1b486be6210dc9",
        "parent": "cf3d6ed3a72344740c70160b49dacfc4",
        "source": "cf3d6ed3a72344740c70160b49dacfc4-0",
        "target": "cf3d6ed3a72344740c70160b49dacfc4-5"
       },
       "group": "edges"
      }
     },
     "fe1dd1ea38dd475aa41e6c015b232daf": {
      "model_module": "cytoscape-clj",
      "model_module_version": "^0.2.0",
      "model_name": "ElementModel",
      "state": {
       "_model_module_version": "^0.2.0",
       "_view_module_version": "^0.2.0",
       "classes": [
        "bcdee604f84b49d9d2d2b755f9b8e91b"
       ],
       "data": {
        "id": "378d3c2cc6b64f1ec90fe38c04ab21fb",
        "parent": "bcdee604f84b49d9d2d2b755f9b8e91b",
        "source": "bcdee604f84b49d9d2d2b755f9b8e91b-1",
        "target": "bcdee604f84b49d9d2d2b755f9b8e91b-6"
       },
       "group": "edges"
      }
     },
     "ff8e4af0df0a4077974f9adfc9bc8a79": {
      "model_module": "cytoscape-clj",
      "model_module_version": "^0.2.0",
      "model_name": "ElementModel",
      "state": {
       "_model_module_version": "^0.2.0",
       "_view_module_version": "^0.2.0",
       "classes": [
        "0b444ec8485641b276db9ef4b6bbc856",
        "child"
       ],
       "data": {
        "id": "0b444ec8485641b276db9ef4b6bbc856-3",
        "name": "3",
        "parent": "0b444ec8485641b276db9ef4b6bbc856"
       },
       "position": {
        "x": 710,
        "y": 150
       }
      }
     }
    },
    "version_major": 2,
    "version_minor": 0
   }
  }
 },
 "nbformat": 4,
 "nbformat_minor": 4
}
