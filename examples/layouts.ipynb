{
 "cells": [
  {
   "cell_type": "code",
   "execution_count": 1,
   "metadata": {},
   "outputs": [
    {
     "name": "stdout",
     "output_type": "stream",
     "text": [
      "To load \"cl-cytoscape\":\n",
      "  Load 1 ASDF system:\n",
      "    cl-cytoscape\n"
     ]
    },
    {
     "data": {
      "text/plain": [
       "(:CL-CYTOSCAPE)"
      ]
     },
     "execution_count": 1,
     "metadata": {},
     "output_type": "execute_result"
    },
    {
     "name": "stdout",
     "output_type": "stream",
     "text": [
      "\n",
      "; Loading \"cl-cytoscape\"\n",
      "\n"
     ]
    }
   ],
   "source": [
    "(ql:quickload :cl-cytoscape)"
   ]
  },
  {
   "cell_type": "code",
   "execution_count": 10,
   "metadata": {},
   "outputs": [
    {
     "data": {
      "text/plain": [
       "*COUNT*"
      ]
     },
     "execution_count": 10,
     "metadata": {},
     "output_type": "execute_result"
    },
    {
     "data": {
      "text/plain": [
       "+SIZE+"
      ]
     },
     "execution_count": 10,
     "metadata": {},
     "output_type": "execute_result"
    },
    {
     "data": {
      "text/plain": [
       "+MARGIN+"
      ]
     },
     "execution_count": 10,
     "metadata": {},
     "output_type": "execute_result"
    },
    {
     "data": {
      "text/plain": [
       "+COLUMNS+"
      ]
     },
     "execution_count": 10,
     "metadata": {},
     "output_type": "execute_result"
    },
    {
     "data": {
      "text/plain": [
       "*CYTO*"
      ]
     },
     "execution_count": 10,
     "metadata": {},
     "output_type": "execute_result"
    },
    {
     "data": {
      "text/plain": [
       "ELEMENT-ID"
      ]
     },
     "execution_count": 10,
     "metadata": {},
     "output_type": "execute_result"
    },
    {
     "data": {
      "text/plain": [
       "ADD-GRAPHS"
      ]
     },
     "execution_count": 10,
     "metadata": {},
     "output_type": "execute_result"
    },
    {
     "data": {
      "application/vnd.jupyter.widget-view+json": {
       "model_id": "6e8370b3889342043e1e97f692c16a26",
       "version_major": 2,
       "version_minor": 0
      },
      "text/plain": [
       "A Jupyter Widget"
      ]
     },
     "metadata": {},
     "output_type": "display_data"
    }
   ],
   "source": [
    "(defparameter *count* 0)\n",
    "(defparameter +size+ 300)\n",
    "(defparameter +margin+ 10)\n",
    "(defparameter +columns+ 5)\n",
    "\n",
    "(defparameter *cyto* (make-instance 'cytoscape:cytoscape-widget\n",
    "                                    :layout (make-instance 'jupyter-widgets:layout :height \"640px\")\n",
    "                                    :graph-style (list (jupyter:json-new-obj\n",
    "                                                         (\"selector\" \"node\")\n",
    "                                                         (\"style\" (jupyter:json-new-obj\n",
    "                                                                    (\"content\" \"data(name)\")))))))\n",
    "\n",
    "(defun element-id (id i)\n",
    "  (format nil \"~A-~A\" id (mod i 7)))\n",
    "\n",
    "(defun add-graphs (&rest layouts)\n",
    "  (dolist (layout layouts)\n",
    "  (let ((id (jupyter:make-uuid))\n",
    "        (elements nil))\n",
    "    (push (make-instance 'cytoscape:element      \n",
    "                         :group \"nodes\" \n",
    "                         :data (list (cons \"id\" id)\n",
    "                                     (cons \"name\" (string-downcase (class-name (class-of layout)))))\n",
    "                         :classes (list \"parents\"))\n",
    "          elements)\n",
    "    (dotimes (i 7)\n",
    "        (push (make-instance 'cytoscape:element \n",
    "                             :group \"nodes\" \n",
    "                             :data (list (cons \"id\" (element-id id i))\n",
    "                                         (cons \"parent\" id)\n",
    "                                         (cons \"name\" (format nil \"~A\" i)))\n",
    "                             :classes (list id))\n",
    "              elements))\n",
    "    (dotimes (i 3)\n",
    "        ; Edge from the corner to the next side\n",
    "        (push (make-instance 'cytoscape:element \n",
    "                             :group \"edges\" \n",
    "                             :data (list (cons \"parent\" id)\n",
    "                                         (cons \"source\" (element-id id (* 2 i)))\n",
    "                                         (cons \"target\" (element-id id (1+ (* 2 i)))))\n",
    "                             :classes (list id))\n",
    "              elements)\n",
    "        ; Edge from the corner to the previous side\n",
    "        (push (make-instance 'cytoscape:element \n",
    "                             :group \"edges\" \n",
    "                             :data (list (cons \"parent\" id)\n",
    "                                         (cons \"source\" (element-id id (* 2 i)))\n",
    "                                         (cons \"target\" (element-id id (1- (* 2 i)))))\n",
    "                             :classes (list id))\n",
    "              elements)\n",
    "        ; Edge from the corner to the middle\n",
    "        (push (make-instance 'cytoscape:element \n",
    "                             :group \"edges\" \n",
    "                             :data (list (cons \"parent\" id)\n",
    "                                         (cons \"source\" (element-id id (* 2 i)))\n",
    "                                         (cons \"target\" (element-id id 6)))\n",
    "                             :classes (list id))\n",
    "              elements)\n",
    "        ; Edge from the side to the next side\n",
    "        (push (make-instance 'cytoscape:element \n",
    "                             :group \"edges\" \n",
    "                             :data (list (cons \"parent\" id)\n",
    "                                         (cons \"source\" (element-id id (1+ (* 2 i))))\n",
    "                                         (cons \"target\" (element-id id (+ 3 (* 2 i)))))\n",
    "                             :classes (list id))\n",
    "              elements)\n",
    "        ; Edge from the side to the middle\n",
    "        (push (make-instance 'cytoscape:element \n",
    "                             :group \"edges\" \n",
    "                             :data (list (cons \"parent\" id)\n",
    "                                         (cons \"source\" (element-id id (1+ (* 2 i))))\n",
    "                                         (cons \"target\" (element-id id 6)))\n",
    "                             :classes (list id))\n",
    "              elements))\n",
    "    (setf (cytoscape:selector layout) (format nil \".~A\" id))\n",
    "    (multiple-value-bind (row col) (floor *count* +columns+)\n",
    "      (setf (cytoscape:bounding-box layout) (list (cons \"x1\" (+ +margin+ (* +size+ col)))\n",
    "                                                  (cons \"y1\" (+ +margin+ (* +size+ row)))\n",
    "                                                  (cons \"w\" +size+)\n",
    "                                                  (cons \"h\" +size+))))\n",
    "    (incf *count*)\n",
    "    (setf (cytoscape:graph-layouts *cyto*) (append (cytoscape:graph-layouts *cyto*) (list layout)))\n",
    "    (setf (cytoscape:elements *cyto*) (append (cytoscape:elements *cyto*) (reverse elements)))))\n",
    "  (values))\n",
    "\n",
    "*cyto*"
   ]
  },
  {
   "cell_type": "code",
   "execution_count": 11,
   "metadata": {},
   "outputs": [],
   "source": [
    "(add-graphs (make-instance 'cytoscape:random-layout)\n",
    "            (make-instance 'cytoscape:grid-layout)\n",
    "            (make-instance 'cytoscape:circle-layout)\n",
    "            (make-instance 'cytoscape:concentric-layout)\n",
    "            ;(make-instance 'cytoscape:breadth-first-layout))\n",
    "            ;(make-instance 'cytoscape:cose-layout)\n",
    "            (make-instance 'cytoscape:cola-layout))"
   ]
  }
 ],
 "metadata": {
  "kernelspec": {
   "display_name": "Common Lisp (clasp)",
   "language": "common-lisp",
   "name": "common-lisp_clasp"
  },
  "language_info": {
   "codemirror_mode": "text/x-common-lisp",
   "file_extension": ".lisp",
   "mimetype": "text/x-common-lisp",
   "name": "common-lisp",
   "pygments_lexer": "common-lisp",
   "version": "cclasp-boehm-0.4.2-2722-gc7cf406d8-cst"
  }
 },
 "nbformat": 4,
 "nbformat_minor": 4
}
