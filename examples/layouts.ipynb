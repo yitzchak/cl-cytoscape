{
 "cells": [
  {
   "cell_type": "code",
   "execution_count": 1,
   "metadata": {},
   "outputs": [
    {
     "name": "stdout",
     "output_type": "stream",
     "text": [
      "To load \"cytoscape-clj\":\n",
      "  Load 1 ASDF system:\n",
      "    cytoscape-clj\n"
     ]
    },
    {
     "data": {
      "text/plain": [
       "(:CYTOSCAPE-CLJ)"
      ]
     },
     "execution_count": 1,
     "metadata": {},
     "output_type": "execute_result"
    },
    {
     "name": "stdout",
     "output_type": "stream",
     "text": [
      "\n",
      "; Loading \"cytoscape-clj\"\n",
      "\n"
     ]
    }
   ],
   "source": [
    "(ql:quickload :cytoscape-clj)"
   ]
  },
  {
   "cell_type": "code",
   "execution_count": 2,
   "metadata": {},
   "outputs": [
    {
     "data": {
      "text/plain": [
       "*COUNT*"
      ]
     },
     "execution_count": 2,
     "metadata": {},
     "output_type": "execute_result"
    },
    {
     "data": {
      "text/plain": [
       "+SIZE+"
      ]
     },
     "execution_count": 2,
     "metadata": {},
     "output_type": "execute_result"
    },
    {
     "data": {
      "text/plain": [
       "+MARGIN+"
      ]
     },
     "execution_count": 2,
     "metadata": {},
     "output_type": "execute_result"
    },
    {
     "data": {
      "text/plain": [
       "+COLUMNS+"
      ]
     },
     "execution_count": 2,
     "metadata": {},
     "output_type": "execute_result"
    },
    {
     "data": {
      "text/plain": [
       "*CYTO*"
      ]
     },
     "execution_count": 2,
     "metadata": {},
     "output_type": "execute_result"
    },
    {
     "data": {
      "text/plain": [
       "ELEMENT-ID"
      ]
     },
     "execution_count": 2,
     "metadata": {},
     "output_type": "execute_result"
    },
    {
     "data": {
      "text/plain": [
       "ADD-GRAPHS"
      ]
     },
     "execution_count": 2,
     "metadata": {},
     "output_type": "execute_result"
    },
    {
     "data": {
      "application/vnd.jupyter.widget-view+json": {
       "model_id": "c02b57cef66c413227001af325d4426f",
       "version_major": 2,
       "version_minor": 0
      },
      "text/plain": [
       "A Jupyter Widget"
      ]
     },
     "metadata": {},
     "output_type": "display_data"
    }
   ],
   "source": [
    "(defparameter *count* 0)\n",
    "(defparameter +size+ 300)\n",
    "(defparameter +margin+ 30)\n",
    "(defparameter +columns+ 4)\n",
    "\n",
    "(defparameter *cyto* (make-instance 'cytoscape:cytoscape-widget\n",
    "                                    :layout (make-instance 'jupyter-widgets:layout :height \"640px\")\n",
    "                                    :graph-style \"node { content: data(name); } \n",
    "                                                  node.child { text-valign: center; text-halign: center; }\n",
    "                                                  edge { curve-style: bezier; }\"))\n",
    "\n",
    "(defun element-id (id i)\n",
    "  (format nil \"~A-~A\" id i))\n",
    "\n",
    "(defun add-graphs (&rest layouts)\n",
    "  (dolist (layout layouts)\n",
    "  (let ((id (jupyter:make-uuid))\n",
    "        (elements nil))\n",
    "    (push (make-instance 'cytoscape:element      \n",
    "                         :group \"nodes\" \n",
    "                         :data (list (cons \"id\" id)\n",
    "                                     (cons \"name\" (string-downcase (class-name (class-of layout)))))\n",
    "                         :classes (list id))\n",
    "          elements)\n",
    "    (dotimes (i 7)\n",
    "        (push (make-instance 'cytoscape:element \n",
    "                             :group \"nodes\" \n",
    "                             :data (list (cons \"id\" (element-id id i))\n",
    "                                         (cons \"parent\" id)\n",
    "                                         (cons \"name\" (format nil \"~A\" i)))\n",
    "                             :classes (list id \"child\"))\n",
    "              elements))\n",
    "    (dotimes (i 3)\n",
    "        ; Edge from the corner to the next side\n",
    "        (push (make-instance 'cytoscape:element \n",
    "                             :group \"edges\" \n",
    "                             :data (list (cons \"parent\" id)\n",
    "                                         (cons \"id\" (jupyter:make-uuid))\n",
    "                                         (cons \"source\" (element-id id (* 2 i)))\n",
    "                                         (cons \"target\" (element-id id (1+ (* 2 i)))))\n",
    "                             :classes (list id))\n",
    "              elements)\n",
    "        ; Edge from the corner to the previous side\n",
    "        (push (make-instance 'cytoscape:element \n",
    "                             :group \"edges\" \n",
    "                             :data (list (cons \"parent\" id)\n",
    "                                         (cons \"id\" (jupyter:make-uuid))\n",
    "                                         (cons \"source\" (element-id id (* 2 i)))\n",
    "                                         (cons \"target\" (element-id id (mod (1- (* 2 i)) 6))))\n",
    "                             :classes (list id))\n",
    "              elements)\n",
    "        ; Edge from the corner to the middle\n",
    "        (push (make-instance 'cytoscape:element \n",
    "                             :group \"edges\" \n",
    "                             :data (list (cons \"parent\" id)\n",
    "                                         (cons \"id\" (jupyter:make-uuid))\n",
    "                                         (cons \"source\" (element-id id (* 2 i)))\n",
    "                                         (cons \"target\" (element-id id 6)))\n",
    "                             :classes (list id))\n",
    "              elements)\n",
    "        ; Edge from the side to the next side\n",
    "        (push (make-instance 'cytoscape:element \n",
    "                             :group \"edges\" \n",
    "                             :data (list (cons \"parent\" id)\n",
    "                                         (cons \"id\" (jupyter:make-uuid))\n",
    "                                         (cons \"source\" (element-id id (1+ (* 2 i))))\n",
    "                                         (cons \"target\" (element-id id (mod (1- (* 2 i)) 6))))\n",
    "                             :classes (list id))\n",
    "              elements)\n",
    "        ; Edge from the side to the middle\n",
    "        (push (make-instance 'cytoscape:element \n",
    "                             :group \"edges\" \n",
    "                             :data (list (cons \"parent\" id)\n",
    "                                         (cons \"id\" (jupyter:make-uuid))\n",
    "                                         (cons \"source\" (element-id id (1+ (* 2 i))))\n",
    "                                         (cons \"target\" (element-id id 6)))\n",
    "                             :classes (list id))\n",
    "              elements))\n",
    "    (setf (cytoscape:selector layout) (format nil \".~A\" id))\n",
    "    (multiple-value-bind (row col) (floor *count* +columns+)\n",
    "      (setf (cytoscape:bounding-box layout) (list (cons \"x1\" (* (+ +margin+ +size+) col))\n",
    "                                                  (cons \"y1\" (* (+ +margin+ +size+) row))\n",
    "                                                  (cons \"w\" +size+)\n",
    "                                                  (cons \"h\" +size+))))\n",
    "    (incf *count*)\n",
    "    (setf (cytoscape:fit layout) nil)\n",
    "    (cytoscape:on-layout-stop layout (lambda (l) (declare (ignore l)) (cytoscape:fit-elements *cyto*)))\n",
    "    (setf (cytoscape:graph-layouts *cyto*) (append (cytoscape:graph-layouts *cyto*) (list layout)))\n",
    "    (setf (cytoscape:elements *cyto*) (append (cytoscape:elements *cyto*) (reverse elements)))))\n",
    "  (values))\n",
    "\n",
    "*cyto*"
   ]
  },
  {
   "cell_type": "code",
   "execution_count": 3,
   "metadata": {},
   "outputs": [],
   "source": [
    "(add-graphs (make-instance 'cytoscape:breadth-first-layout)\n",
    "            (make-instance 'cytoscape:random-layout)\n",
    "            (make-instance 'cytoscape:grid-layout)\n",
    "            (make-instance 'cytoscape:circle-layout)\n",
    "            (make-instance 'cytoscape:concentric-layout)\n",
    "            (make-instance 'cytoscape:cose-layout)\n",
    "            (make-instance 'cytoscape:cola-layout)\n",
    "            (make-instance 'cytoscape:dagre-layout))"
   ]
  },
  {
   "cell_type": "code",
   "execution_count": null,
   "metadata": {},
   "outputs": [],
   "source": []
  }
 ],
 "metadata": {
  "kernelspec": {
   "display_name": "Common Lisp (clasp)",
   "language": "common-lisp",
   "name": "common-lisp_clasp"
  },
  "language_info": {
   "codemirror_mode": "text/x-common-lisp",
   "file_extension": ".lisp",
   "mimetype": "text/x-common-lisp",
   "name": "common-lisp",
   "pygments_lexer": "common-lisp",
   "version": "cclasp-boehm-0.4.2-2722-gc7cf406d8-cst"
  },
  "widgets": {
   "application/vnd.jupyter.widget-state+json": {
    "state": {
     "001b27cef2cb42592e06f593c5954fb5": {
      "model_module": "cytoscape-clj",
      "model_module_version": "^0.2.0",
      "model_name": "ElementModel",
      "state": {
       "_model_module_version": "^0.2.0",
       "_view_module_version": "^0.2.0",
       "classes": [
        "0624a4ea1dab4b096a3ba19381276b81"
       ],
       "data": {
        "id": "0c408900e6e04336aebcdf3a9c470889",
        "parent": "0624a4ea1dab4b096a3ba19381276b81",
        "source": "0624a4ea1dab4b096a3ba19381276b81-0",
        "target": "0624a4ea1dab4b096a3ba19381276b81-5"
       },
       "group": "edges"
      }
     },
     "06d10474c5184da8a31d908d54b9bccc": {
      "model_module": "cytoscape-clj",
      "model_module_version": "^0.2.0",
      "model_name": "ElementModel",
      "state": {
       "_model_module_version": "^0.2.0",
       "_view_module_version": "^0.2.0",
       "classes": [
        "375465a84ba44ab260b4a65d0f47b249"
       ],
       "data": {
        "id": "8180e0756c024a230bba5a8c79e49223",
        "parent": "375465a84ba44ab260b4a65d0f47b249",
        "source": "375465a84ba44ab260b4a65d0f47b249-3",
        "target": "375465a84ba44ab260b4a65d0f47b249-1"
       },
       "group": "edges"
      }
     },
     "07a5ac50875142b974caffb2ba41a110": {
      "model_module": "cytoscape-clj",
      "model_module_version": "^0.2.0",
      "model_name": "ElementModel",
      "state": {
       "_model_module_version": "^0.2.0",
       "_view_module_version": "^0.2.0",
       "classes": [
        "dde200c77b61497e4fda81d9c8d04434"
       ],
       "data": {
        "id": "e8db946f7ed641b0d94558aa3c4e3f8d",
        "parent": "dde200c77b61497e4fda81d9c8d04434",
        "source": "dde200c77b61497e4fda81d9c8d04434-3",
        "target": "dde200c77b61497e4fda81d9c8d04434-1"
       },
       "group": "edges"
      }
     },
     "07d4a27b454e487c3bbb42d4dad2185b": {
      "model_module": "cytoscape-clj",
      "model_module_version": "^0.2.0",
      "model_name": "ElementModel",
      "state": {
       "_model_module_version": "^0.2.0",
       "_view_module_version": "^0.2.0",
       "classes": [
        "dde200c77b61497e4fda81d9c8d04434",
        "child"
       ],
       "data": {
        "id": "dde200c77b61497e4fda81d9c8d04434-1",
        "name": "1",
        "parent": "dde200c77b61497e4fda81d9c8d04434"
       },
       "position": {
        "x": 178.2842712474619,
        "y": 480
       }
      }
     },
     "0876547dd66640086f38e3327a066b5c": {
      "model_module": "cytoscape-clj",
      "model_module_version": "^0.2.0",
      "model_name": "ElementModel",
      "state": {
       "_model_module_version": "^0.2.0",
       "_view_module_version": "^0.2.0",
       "classes": [
        "4d7055f90f044263acf600968ba688d7"
       ],
       "data": {
        "id": "9d5a391735c846b034732318d2c495df",
        "parent": "4d7055f90f044263acf600968ba688d7",
        "source": "4d7055f90f044263acf600968ba688d7-4",
        "target": "4d7055f90f044263acf600968ba688d7-3"
       },
       "group": "edges"
      }
     },
     "08b63b321ccd4bdfe5b079b439a853f5": {
      "model_module": "cytoscape-clj",
      "model_module_version": "^0.2.0",
      "model_name": "ElementModel",
      "state": {
       "_model_module_version": "^0.2.0",
       "_view_module_version": "^0.2.0",
       "classes": [
        "4d7055f90f044263acf600968ba688d7"
       ],
       "data": {
        "id": "62e571acc3e54e249d870f5cbb50c535",
        "parent": "4d7055f90f044263acf600968ba688d7",
        "source": "4d7055f90f044263acf600968ba688d7-0",
        "target": "4d7055f90f044263acf600968ba688d7-1"
       },
       "group": "edges"
      }
     },
     "0ad8fd34037546b76879de0680594b10": {
      "model_module": "cytoscape-clj",
      "model_module_version": "^0.2.0",
      "model_name": "ElementModel",
      "state": {
       "_model_module_version": "^0.2.0",
       "_view_module_version": "^0.2.0",
       "classes": [
        "375465a84ba44ab260b4a65d0f47b249"
       ],
       "data": {
        "id": "575e0423ec854dd4adec225b33192e89",
        "parent": "375465a84ba44ab260b4a65d0f47b249",
        "source": "375465a84ba44ab260b4a65d0f47b249-3",
        "target": "375465a84ba44ab260b4a65d0f47b249-6"
       },
       "group": "edges"
      }
     },
     "0dbdf52b8c484717b8c9aa263e4f4d67": {
      "model_module": "cytoscape-clj",
      "model_module_version": "^0.2.0",
      "model_name": "ElementModel",
      "state": {
       "_model_module_version": "^0.2.0",
       "_view_module_version": "^0.2.0",
       "classes": [
        "01cf4e327d9a409333ed2cc4f29b9fbc"
       ],
       "data": {
        "id": "8fb4758ad8ae497a3a539ac0c55fa29b",
        "parent": "01cf4e327d9a409333ed2cc4f29b9fbc",
        "source": "01cf4e327d9a409333ed2cc4f29b9fbc-4",
        "target": "01cf4e327d9a409333ed2cc4f29b9fbc-3"
       },
       "group": "edges"
      }
     },
     "0edc41f3e08a42e7f5f53b883f53974d": {
      "model_module": "cytoscape-clj",
      "model_module_version": "^0.2.0",
      "model_name": "ElementModel",
      "state": {
       "_model_module_version": "^0.2.0",
       "_view_module_version": "^0.2.0",
       "classes": [
        "375465a84ba44ab260b4a65d0f47b249",
        "child"
       ],
       "data": {
        "id": "375465a84ba44ab260b4a65d0f47b249-3",
        "name": "3",
        "parent": "375465a84ba44ab260b4a65d0f47b249"
       },
       "position": {
        "x": 1026.9660652120965,
        "y": 562.6855000477483
       }
      }
     },
     "0ee02d5c8ca8408fd869c3d02a1b4926": {
      "model_module": "cytoscape-clj",
      "model_module_version": "^0.2.0",
      "model_name": "ElementModel",
      "state": {
       "_model_module_version": "^0.2.0",
       "_view_module_version": "^0.2.0",
       "classes": [
        "67619e6b9eea49eb666204880eb831b9",
        "child"
       ],
       "data": {
        "id": "67619e6b9eea49eb666204880eb831b9-3",
        "name": "3",
        "parent": "67619e6b9eea49eb666204880eb831b9"
       },
       "position": {
        "x": 494.8546218724945,
        "y": 494.8122709387201
       }
      }
     },
     "0fe18e166f134b6438a937686fd6398d": {
      "model_module": "cytoscape-clj",
      "model_module_version": "^0.2.0",
      "model_name": "ElementModel",
      "state": {
       "_model_module_version": "^0.2.0",
       "_view_module_version": "^0.2.0",
       "classes": [
        "dde200c77b61497e4fda81d9c8d04434"
       ],
       "data": {
        "id": "04ba88c6bdb242d72a9f5bf04caf7365",
        "parent": "dde200c77b61497e4fda81d9c8d04434",
        "source": "dde200c77b61497e4fda81d9c8d04434-4",
        "target": "dde200c77b61497e4fda81d9c8d04434-6"
       },
       "group": "edges"
      }
     },
     "107a785eab334a957f8664398c84e02c": {
      "model_module": "cytoscape-clj",
      "model_module_version": "^0.2.0",
      "model_name": "ElementModel",
      "state": {
       "_model_module_version": "^0.2.0",
       "_view_module_version": "^0.2.0",
       "classes": [
        "375465a84ba44ab260b4a65d0f47b249",
        "child"
       ],
       "data": {
        "id": "375465a84ba44ab260b4a65d0f47b249-0",
        "name": "0",
        "parent": "375465a84ba44ab260b4a65d0f47b249"
       },
       "position": {
        "x": 809.9447886163503,
        "y": 337.6855000477483
       }
      }
     },
     "120d72feceb2436f520a733ed0c4c099": {
      "model_module": "cytoscape-clj",
      "model_module_version": "^0.2.0",
      "model_name": "ElementModel",
      "state": {
       "_model_module_version": "^0.2.0",
       "_view_module_version": "^0.2.0",
       "classes": [
        "e7ac543e5d224583f1cd985b692bc794",
        "child"
       ],
       "data": {
        "id": "e7ac543e5d224583f1cd985b692bc794-3",
        "name": "3",
        "parent": "e7ac543e5d224583f1cd985b692bc794"
       },
       "position": {
        "x": 150,
        "y": 150
       }
      }
     },
     "1296772a2a634a4e738dcfc22c640efd": {
      "model_module": "cytoscape-clj",
      "model_module_version": "^0.2.0",
      "model_name": "CoseLayoutModel",
      "state": {
       "_model_module_version": "^0.2.0",
       "_view_module_version": "^0.2.0",
       "animation_duration": 250,
       "bounding_box": {
        "h": 300,
        "w": 300,
        "x1": 330,
        "y1": 330
       },
       "fit": false,
       "refresh": 10,
       "selector": ".67619e6b9eea49eb666204880eb831b9"
      }
     },
     "140eacb7454b437837beff11c8e7c757": {
      "model_module": "cytoscape-clj",
      "model_module_version": "^0.2.0",
      "model_name": "ElementModel",
      "state": {
       "_model_module_version": "^0.2.0",
       "_view_module_version": "^0.2.0",
       "classes": [
        "4d7055f90f044263acf600968ba688d7"
       ],
       "data": {
        "id": "a15b60293a0b4d8cfa1ba5c2529eb38c",
        "parent": "4d7055f90f044263acf600968ba688d7",
        "source": "4d7055f90f044263acf600968ba688d7-1",
        "target": "4d7055f90f044263acf600968ba688d7-5"
       },
       "group": "edges"
      }
     },
     "169a50cd5f9c4330cb5610840146dc75": {
      "model_module": "cytoscape-clj",
      "model_module_version": "^0.2.0",
      "model_name": "ElementModel",
      "state": {
       "_model_module_version": "^0.2.0",
       "_view_module_version": "^0.2.0",
       "classes": [
        "4d7055f90f044263acf600968ba688d7"
       ],
       "data": {
        "id": "0c9507df4cbb4d0c5896c192398e6749",
        "parent": "4d7055f90f044263acf600968ba688d7",
        "source": "4d7055f90f044263acf600968ba688d7-5",
        "target": "4d7055f90f044263acf600968ba688d7-3"
       },
       "group": "edges"
      }
     },
     "19f5d4f64a6444217dd53c38acbeba6e": {
      "model_module": "cytoscape-clj",
      "model_module_version": "^0.2.0",
      "model_name": "ElementModel",
      "state": {
       "_model_module_version": "^0.2.0",
       "_view_module_version": "^0.2.0",
       "classes": [
        "0624a4ea1dab4b096a3ba19381276b81",
        "child"
       ],
       "data": {
        "id": "0624a4ea1dab4b096a3ba19381276b81-4",
        "name": "4",
        "parent": "0624a4ea1dab4b096a3ba19381276b81"
       },
       "position": {
        "x": 571,
        "y": 147
       }
      }
     },
     "1a6c5d65b9c2449dcc0c35efc4354757": {
      "model_module": "cytoscape-clj",
      "model_module_version": "^0.2.0",
      "model_name": "ElementModel",
      "state": {
       "_model_module_version": "^0.2.0",
       "_view_module_version": "^0.2.0",
       "classes": [
        "4d7055f90f044263acf600968ba688d7"
       ],
       "data": {
        "id": "a8c4b5210f8a416d448ecf97c1a4ae0e",
        "parent": "4d7055f90f044263acf600968ba688d7",
        "source": "4d7055f90f044263acf600968ba688d7-2",
        "target": "4d7055f90f044263acf600968ba688d7-3"
       },
       "group": "edges"
      }
     },
     "1a8546313aa44d86c287e01acb8d697b": {
      "model_module": "cytoscape-clj",
      "model_module_version": "^0.2.0",
      "model_name": "ElementModel",
      "state": {
       "_model_module_version": "^0.2.0",
       "_view_module_version": "^0.2.0",
       "classes": [
        "fdb0d432368543225f0d8090aa5701b1"
       ],
       "data": {
        "id": "9b7f726b2ce54507d6116d643f53c10b",
        "parent": "fdb0d432368543225f0d8090aa5701b1",
        "source": "fdb0d432368543225f0d8090aa5701b1-2",
        "target": "fdb0d432368543225f0d8090aa5701b1-1"
       },
       "group": "edges"
      }
     },
     "2060376e7b3e4f6af1497b5cf10e8be1": {
      "model_module": "cytoscape-clj",
      "model_module_version": "^0.2.0",
      "model_name": "ElementModel",
      "state": {
       "_model_module_version": "^0.2.0",
       "_view_module_version": "^0.2.0",
       "classes": [
        "67619e6b9eea49eb666204880eb831b9"
       ],
       "data": {
        "id": "67619e6b9eea49eb666204880eb831b9",
        "name": "cose-layout"
       },
       "position": {
        "x": 562.0203241425066,
        "y": 480
       }
      }
     },
     "21a3a3687808463b6ce20dfb4b05ec2c": {
      "model_module": "cytoscape-clj",
      "model_module_version": "^0.2.0",
      "model_name": "ColaLayoutModel",
      "state": {
       "_model_module_version": "^0.2.0",
       "_view_module_version": "^0.2.0",
       "bounding_box": {
        "h": 300,
        "w": 300,
        "x1": 660,
        "x2": 960,
        "y1": 330,
        "y2": 630
       },
       "fit": false,
       "handle_disconnected": false,
       "selector": ".4d7055f90f044263acf600968ba688d7",
       "unconst_iter": null,
       "ungrabify_while_simulating": false
      }
     },
     "220f974c9a8a458aedcb59e1cd3c9c87": {
      "model_module": "cytoscape-clj",
      "model_module_version": "^0.2.0",
      "model_name": "ElementModel",
      "state": {
       "_model_module_version": "^0.2.0",
       "_view_module_version": "^0.2.0",
       "classes": [
        "fdb0d432368543225f0d8090aa5701b1",
        "child"
       ],
       "data": {
        "id": "fdb0d432368543225f0d8090aa5701b1-3",
        "name": "3",
        "parent": "fdb0d432368543225f0d8090aa5701b1"
       },
       "position": {
        "x": 710,
        "y": 150
       }
      }
     },
     "252ba70f62294a11a832af2f42d3cc06": {
      "model_module": "cytoscape-clj",
      "model_module_version": "^0.2.0",
      "model_name": "ElementModel",
      "state": {
       "_model_module_version": "^0.2.0",
       "_view_module_version": "^0.2.0",
       "classes": [
        "375465a84ba44ab260b4a65d0f47b249",
        "child"
       ],
       "data": {
        "id": "375465a84ba44ab260b4a65d0f47b249-2",
        "name": "2",
        "parent": "375465a84ba44ab260b4a65d0f47b249"
       },
       "position": {
        "x": 1084.4128737227347,
        "y": 337.6855000477483
       }
      }
     },
     "2662fb378ff14ee9c6bc2eb5777c9068": {
      "model_module": "cytoscape-clj",
      "model_module_version": "^0.2.0",
      "model_name": "ElementModel",
      "state": {
       "_model_module_version": "^0.2.0",
       "_view_module_version": "^0.2.0",
       "classes": [
        "4d7055f90f044263acf600968ba688d7",
        "child"
       ],
       "data": {
        "id": "4d7055f90f044263acf600968ba688d7-3",
        "name": "3",
        "parent": "4d7055f90f044263acf600968ba688d7"
       },
       "position": {
        "x": 1334.41906156006,
        "y": 499.44490655488175
       }
      }
     },
     "2721f762f5354ff207bbe19d96de5f3f": {
      "model_module": "cytoscape-clj",
      "model_module_version": "^0.2.0",
      "model_name": "ElementModel",
      "state": {
       "_model_module_version": "^0.2.0",
       "_view_module_version": "^0.2.0",
       "classes": [
        "dde200c77b61497e4fda81d9c8d04434",
        "child"
       ],
       "data": {
        "id": "dde200c77b61497e4fda81d9c8d04434-6",
        "name": "6",
        "parent": "dde200c77b61497e4fda81d9c8d04434"
       },
       "position": {
        "x": 150,
        "y": 451.7157287525381
       }
      }
     },
     "2776efc347674e803126010c507e58b7": {
      "model_module": "cytoscape-clj",
      "model_module_version": "^0.2.0",
      "model_name": "ElementModel",
      "state": {
       "_model_module_version": "^0.2.0",
       "_view_module_version": "^0.2.0",
       "classes": [
        "fdb0d432368543225f0d8090aa5701b1"
       ],
       "data": {
        "id": "36f67e8fcf424d917c9b71b337859474",
        "parent": "fdb0d432368543225f0d8090aa5701b1",
        "source": "fdb0d432368543225f0d8090aa5701b1-5",
        "target": "fdb0d432368543225f0d8090aa5701b1-3"
       },
       "group": "edges"
      }
     },
     "2baac451afec4167005b84360f3bad58": {
      "model_module": "cytoscape-clj",
      "model_module_version": "^0.2.0",
      "model_name": "ElementModel",
      "state": {
       "_model_module_version": "^0.2.0",
       "_view_module_version": "^0.2.0",
       "classes": [
        "01cf4e327d9a409333ed2cc4f29b9fbc"
       ],
       "data": {
        "id": "98ce62822d4a4a36b23b406de8d5be42",
        "parent": "01cf4e327d9a409333ed2cc4f29b9fbc",
        "source": "01cf4e327d9a409333ed2cc4f29b9fbc-1",
        "target": "01cf4e327d9a409333ed2cc4f29b9fbc-6"
       },
       "group": "edges"
      }
     },
     "2d65a3fb27fb45868beb3c5933cf2503": {
      "model_module": "cytoscape-clj",
      "model_module_version": "^0.2.0",
      "model_name": "ElementModel",
      "state": {
       "_model_module_version": "^0.2.0",
       "_view_module_version": "^0.2.0",
       "classes": [
        "e7ac543e5d224583f1cd985b692bc794",
        "child"
       ],
       "data": {
        "id": "e7ac543e5d224583f1cd985b692bc794-0",
        "name": "0",
        "parent": "e7ac543e5d224583f1cd985b692bc794"
       },
       "position": {
        "x": 37.5,
        "y": 150
       }
      }
     },
     "2daebaa02cc64df9cd1a6066e2742bb1": {
      "model_module": "cytoscape-clj",
      "model_module_version": "^0.2.0",
      "model_name": "ElementModel",
      "state": {
       "_model_module_version": "^0.2.0",
       "_view_module_version": "^0.2.0",
       "classes": [
        "fdb0d432368543225f0d8090aa5701b1"
       ],
       "data": {
        "id": "5f3c4d3e43614f17cfaaf5ed39b69d2f",
        "parent": "fdb0d432368543225f0d8090aa5701b1",
        "source": "fdb0d432368543225f0d8090aa5701b1-3",
        "target": "fdb0d432368543225f0d8090aa5701b1-1"
       },
       "group": "edges"
      }
     },
     "2f7215e491074036d0872cfedfb2ee71": {
      "model_module": "cytoscape-clj",
      "model_module_version": "^0.2.0",
      "model_name": "GridLayoutModel",
      "state": {
       "_model_module_version": "^0.2.0",
       "_view_module_version": "^0.2.0",
       "animate": true,
       "animation_duration": 250,
       "bounding_box": {
        "h": 300,
        "w": 300,
        "x1": 660,
        "y1": 0
       },
       "fit": false,
       "selector": ".fdb0d432368543225f0d8090aa5701b1"
      }
     },
     "318089cb43cf4ca06406295741665932": {
      "model_module": "cytoscape-clj",
      "model_module_version": "^0.2.0",
      "model_name": "ElementModel",
      "state": {
       "_model_module_version": "^0.2.0",
       "_view_module_version": "^0.2.0",
       "classes": [
        "4d7055f90f044263acf600968ba688d7"
       ],
       "data": {
        "id": "86b64616d85949e8c3bf61a8033394b2",
        "parent": "4d7055f90f044263acf600968ba688d7",
        "source": "4d7055f90f044263acf600968ba688d7-0",
        "target": "4d7055f90f044263acf600968ba688d7-6"
       },
       "group": "edges"
      }
     },
     "31b0f6ab143043dab391b2f69291d4c2": {
      "model_module": "cytoscape-clj",
      "model_module_version": "^0.2.0",
      "model_name": "ElementModel",
      "state": {
       "_model_module_version": "^0.2.0",
       "_view_module_version": "^0.2.0",
       "classes": [
        "01cf4e327d9a409333ed2cc4f29b9fbc"
       ],
       "data": {
        "id": "1891ef01d9194a24390c4cedf80ecfc6",
        "parent": "01cf4e327d9a409333ed2cc4f29b9fbc",
        "source": "01cf4e327d9a409333ed2cc4f29b9fbc-4",
        "target": "01cf4e327d9a409333ed2cc4f29b9fbc-5"
       },
       "group": "edges"
      }
     },
     "31e706d143754b96a31f16ad83908e44": {
      "model_module": "cytoscape-clj",
      "model_module_version": "^0.2.0",
      "model_name": "ElementModel",
      "state": {
       "_model_module_version": "^0.2.0",
       "_view_module_version": "^0.2.0",
       "classes": [
        "67619e6b9eea49eb666204880eb831b9"
       ],
       "data": {
        "id": "6c9cdb62213944ed6e84929f217a54e4",
        "parent": "67619e6b9eea49eb666204880eb831b9",
        "source": "67619e6b9eea49eb666204880eb831b9-0",
        "target": "67619e6b9eea49eb666204880eb831b9-5"
       },
       "group": "edges"
      }
     },
     "3246d84c0e13481ac9a8adedfe28cfc2": {
      "model_module": "cytoscape-clj",
      "model_module_version": "^0.2.0",
      "model_name": "ElementModel",
      "state": {
       "_model_module_version": "^0.2.0",
       "_view_module_version": "^0.2.0",
       "classes": [
        "e7ac543e5d224583f1cd985b692bc794"
       ],
       "data": {
        "id": "5b68eb66cdd54c09ca7c6a365269263c",
        "parent": "e7ac543e5d224583f1cd985b692bc794",
        "source": "e7ac543e5d224583f1cd985b692bc794-2",
        "target": "e7ac543e5d224583f1cd985b692bc794-1"
       },
       "group": "edges"
      }
     },
     "36724a63f567475aa36f6aca2787d877": {
      "model_module": "cytoscape-clj",
      "model_module_version": "^0.2.0",
      "model_name": "ElementModel",
      "state": {
       "_model_module_version": "^0.2.0",
       "_view_module_version": "^0.2.0",
       "classes": [
        "4d7055f90f044263acf600968ba688d7",
        "child"
       ],
       "data": {
        "id": "4d7055f90f044263acf600968ba688d7-1",
        "name": "1",
        "parent": "4d7055f90f044263acf600968ba688d7"
       },
       "position": {
        "x": 1234.4190595600598,
        "y": 499.44490655488175
       }
      }
     },
     "3739cf5d9d7046dec26b53d3c034e111": {
      "model_module": "cytoscape-clj",
      "model_module_version": "^0.2.0",
      "model_name": "CytoscapeStyleModel",
      "state": {
       "_model_module_version": "^0.2.0"
      }
     },
     "395c4660557040c9a3d936200527525e": {
      "model_module": "cytoscape-clj",
      "model_module_version": "^0.2.0",
      "model_name": "ElementModel",
      "state": {
       "_model_module_version": "^0.2.0",
       "_view_module_version": "^0.2.0",
       "classes": [
        "dde200c77b61497e4fda81d9c8d04434",
        "child"
       ],
       "data": {
        "id": "dde200c77b61497e4fda81d9c8d04434-3",
        "name": "3",
        "parent": "dde200c77b61497e4fda81d9c8d04434"
       },
       "position": {
        "x": 150,
        "y": 508.2842712474619
       }
      }
     },
     "3a022868e5044ae03b880723fc02500b": {
      "model_module": "cytoscape-clj",
      "model_module_version": "^0.2.0",
      "model_name": "ElementModel",
      "state": {
       "_model_module_version": "^0.2.0",
       "_view_module_version": "^0.2.0",
       "classes": [
        "e7ac543e5d224583f1cd985b692bc794",
        "child"
       ],
       "data": {
        "id": "e7ac543e5d224583f1cd985b692bc794-2",
        "name": "2",
        "parent": "e7ac543e5d224583f1cd985b692bc794"
       },
       "position": {
        "x": 112.5,
        "y": 150
       }
      }
     },
     "3b5576b057c249a9fb4ce2f6df1305d3": {
      "model_module": "cytoscape-clj",
      "model_module_version": "^0.2.0",
      "model_name": "ElementModel",
      "state": {
       "_model_module_version": "^0.2.0",
       "_view_module_version": "^0.2.0",
       "classes": [
        "0624a4ea1dab4b096a3ba19381276b81"
       ],
       "data": {
        "id": "7cdffc88757942beb2598318091ca5b8",
        "parent": "0624a4ea1dab4b096a3ba19381276b81",
        "source": "0624a4ea1dab4b096a3ba19381276b81-2",
        "target": "0624a4ea1dab4b096a3ba19381276b81-3"
       },
       "group": "edges"
      }
     },
     "3bf220d9b4c54fbd3b240086ae403b7b": {
      "model_module": "cytoscape-clj",
      "model_module_version": "^0.2.0",
      "model_name": "ElementModel",
      "state": {
       "_model_module_version": "^0.2.0",
       "_view_module_version": "^0.2.0",
       "classes": [
        "375465a84ba44ab260b4a65d0f47b249",
        "child"
       ],
       "data": {
        "id": "375465a84ba44ab260b4a65d0f47b249-4",
        "name": "4",
        "parent": "375465a84ba44ab260b4a65d0f47b249"
       },
       "position": {
        "x": 784.4128737227333,
        "y": 412.6855000477483
       }
      }
     },
     "3bfe02bcafcf409a21fd71d6b5769a69": {
      "model_module": "cytoscape-clj",
      "model_module_version": "^0.2.0",
      "model_name": "ElementModel",
      "state": {
       "_model_module_version": "^0.2.0",
       "_view_module_version": "^0.2.0",
       "classes": [
        "375465a84ba44ab260b4a65d0f47b249"
       ],
       "data": {
        "id": "208f1d31e7274eb7761be99cc5f9bbbe",
        "parent": "375465a84ba44ab260b4a65d0f47b249",
        "source": "375465a84ba44ab260b4a65d0f47b249-2",
        "target": "375465a84ba44ab260b4a65d0f47b249-6"
       },
       "group": "edges"
      }
     },
     "3c51028409524f689e90b41d01f350d8": {
      "model_module": "cytoscape-clj",
      "model_module_version": "^0.2.0",
      "model_name": "ElementModel",
      "state": {
       "_model_module_version": "^0.2.0",
       "_view_module_version": "^0.2.0",
       "classes": [
        "dde200c77b61497e4fda81d9c8d04434",
        "child"
       ],
       "data": {
        "id": "dde200c77b61497e4fda81d9c8d04434-4",
        "name": "4",
        "parent": "dde200c77b61497e4fda81d9c8d04434"
       },
       "position": {
        "x": 90.86408642079067,
        "y": 514.142135623731
       }
      }
     },
     "3f417acd4b8c49e4020c74a085121bbe": {
      "model_module": "cytoscape-clj",
      "model_module_version": "^0.2.0",
      "model_name": "ElementModel",
      "state": {
       "_model_module_version": "^0.2.0",
       "_view_module_version": "^0.2.0",
       "classes": [
        "4d7055f90f044263acf600968ba688d7",
        "child"
       ],
       "data": {
        "id": "4d7055f90f044263acf600968ba688d7-6",
        "name": "6",
        "parent": "4d7055f90f044263acf600968ba688d7"
       },
       "position": {
        "x": 1234.4190595600598,
        "y": 549.4449075548816
       }
      }
     },
     "409a2034cae44ccf3ca25af73fa6c768": {
      "model_module": "cytoscape-clj",
      "model_module_version": "^0.2.0",
      "model_name": "ElementModel",
      "state": {
       "_model_module_version": "^0.2.0",
       "_view_module_version": "^0.2.0",
       "classes": [
        "e7ac543e5d224583f1cd985b692bc794",
        "child"
       ],
       "data": {
        "id": "e7ac543e5d224583f1cd985b692bc794-6",
        "name": "6",
        "parent": "e7ac543e5d224583f1cd985b692bc794"
       },
       "position": {
        "x": 262.5,
        "y": 150
       }
      }
     },
     "40a285c6d2db4f6e9d976e01e8548046": {
      "model_module": "cytoscape-clj",
      "model_module_version": "^0.2.0",
      "model_name": "CircleLayoutModel",
      "state": {
       "_model_module_version": "^0.2.0",
       "_view_module_version": "^0.2.0",
       "animate": true,
       "animation_duration": 250,
       "bounding_box": {
        "h": 300,
        "w": 300,
        "x1": 990,
        "y1": 0
       },
       "fit": false,
       "selector": ".01cf4e327d9a409333ed2cc4f29b9fbc"
      }
     },
     "428b7d9da61e468d10a7e7f53cb78242": {
      "model_module": "cytoscape-clj",
      "model_module_version": "^0.2.0",
      "model_name": "ElementModel",
      "state": {
       "_model_module_version": "^0.2.0",
       "_view_module_version": "^0.2.0",
       "classes": [
        "4d7055f90f044263acf600968ba688d7"
       ],
       "data": {
        "id": "beff64c725a741ae2a8235583d0a7602",
        "parent": "4d7055f90f044263acf600968ba688d7",
        "source": "4d7055f90f044263acf600968ba688d7-3",
        "target": "4d7055f90f044263acf600968ba688d7-1"
       },
       "group": "edges"
      }
     },
     "4321de17a8bf4079f43ccd27e377f33a": {
      "model_module": "cytoscape-clj",
      "model_module_version": "^0.2.0",
      "model_name": "ElementModel",
      "state": {
       "_model_module_version": "^0.2.0",
       "_view_module_version": "^0.2.0",
       "classes": [
        "375465a84ba44ab260b4a65d0f47b249"
       ],
       "data": {
        "id": "18f344e86bc042e5a5498138ac5cfba0",
        "parent": "375465a84ba44ab260b4a65d0f47b249",
        "source": "375465a84ba44ab260b4a65d0f47b249-4",
        "target": "375465a84ba44ab260b4a65d0f47b249-3"
       },
       "group": "edges"
      }
     },
     "465b7390eaf546927f79ec50dd4fedeb": {
      "model_module": "cytoscape-clj",
      "model_module_version": "^0.2.0",
      "model_name": "ElementModel",
      "state": {
       "_model_module_version": "^0.2.0",
       "_view_module_version": "^0.2.0",
       "classes": [
        "0624a4ea1dab4b096a3ba19381276b81"
       ],
       "data": {
        "id": "ceabb88413394dfee56313c87b3ddba5",
        "parent": "0624a4ea1dab4b096a3ba19381276b81",
        "source": "0624a4ea1dab4b096a3ba19381276b81-1",
        "target": "0624a4ea1dab4b096a3ba19381276b81-5"
       },
       "group": "edges"
      }
     },
     "47e39b869fea40d64b17d1ff38e1f52f": {
      "model_module": "cytoscape-clj",
      "model_module_version": "^0.2.0",
      "model_name": "ElementModel",
      "state": {
       "_model_module_version": "^0.2.0",
       "_view_module_version": "^0.2.0",
       "classes": [
        "67619e6b9eea49eb666204880eb831b9"
       ],
       "data": {
        "id": "33bcc3431b154da81b2f3ced3129c8f1",
        "parent": "67619e6b9eea49eb666204880eb831b9",
        "source": "67619e6b9eea49eb666204880eb831b9-2",
        "target": "67619e6b9eea49eb666204880eb831b9-6"
       },
       "group": "edges"
      }
     },
     "47eb9e606c7e40ca82fa8a13dcebd059": {
      "model_module": "cytoscape-clj",
      "model_module_version": "^0.2.0",
      "model_name": "ElementModel",
      "state": {
       "_model_module_version": "^0.2.0",
       "_view_module_version": "^0.2.0",
       "classes": [
        "01cf4e327d9a409333ed2cc4f29b9fbc"
       ],
       "data": {
        "id": "9682fee45f514a0df4146c7b58885f5f",
        "parent": "01cf4e327d9a409333ed2cc4f29b9fbc",
        "source": "01cf4e327d9a409333ed2cc4f29b9fbc-0",
        "target": "01cf4e327d9a409333ed2cc4f29b9fbc-5"
       },
       "group": "edges"
      }
     },
     "4838528096ca47759eeb7f2ab6dad41d": {
      "model_module": "cytoscape-clj",
      "model_module_version": "^0.2.0",
      "model_name": "ElementModel",
      "state": {
       "_model_module_version": "^0.2.0",
       "_view_module_version": "^0.2.0",
       "classes": [
        "375465a84ba44ab260b4a65d0f47b249"
       ],
       "data": {
        "id": "6bee7a74c25048c914d1067ee0f8c530",
        "parent": "375465a84ba44ab260b4a65d0f47b249",
        "source": "375465a84ba44ab260b4a65d0f47b249-0",
        "target": "375465a84ba44ab260b4a65d0f47b249-5"
       },
       "group": "edges"
      }
     },
     "496c90f43963458249f8442adc413a08": {
      "model_module": "cytoscape-clj",
      "model_module_version": "^0.2.0",
      "model_name": "ElementModel",
      "state": {
       "_model_module_version": "^0.2.0",
       "_view_module_version": "^0.2.0",
       "classes": [
        "67619e6b9eea49eb666204880eb831b9"
       ],
       "data": {
        "id": "15161ad38dc94537bbea1dd4dd63adb1",
        "parent": "67619e6b9eea49eb666204880eb831b9",
        "source": "67619e6b9eea49eb666204880eb831b9-4",
        "target": "67619e6b9eea49eb666204880eb831b9-3"
       },
       "group": "edges"
      }
     },
     "4c054875395847cacfa25a691ab76820": {
      "model_module": "cytoscape-clj",
      "model_module_version": "^0.2.0",
      "model_name": "ElementModel",
      "state": {
       "_model_module_version": "^0.2.0",
       "_view_module_version": "^0.2.0",
       "classes": [
        "375465a84ba44ab260b4a65d0f47b249"
       ],
       "data": {
        "id": "967dcc38cf77452febfea04beb07facc",
        "parent": "375465a84ba44ab260b4a65d0f47b249",
        "source": "375465a84ba44ab260b4a65d0f47b249-0",
        "target": "375465a84ba44ab260b4a65d0f47b249-6"
       },
       "group": "edges"
      }
     },
     "4eb2934cf8d74170be682e3640b5526d": {
      "model_module": "cytoscape-clj",
      "model_module_version": "^0.2.0",
      "model_name": "ElementModel",
      "state": {
       "_model_module_version": "^0.2.0",
       "_view_module_version": "^0.2.0",
       "classes": [
        "dde200c77b61497e4fda81d9c8d04434"
       ],
       "data": {
        "id": "e64d01f280ce44be095c64f5a2216829",
        "parent": "dde200c77b61497e4fda81d9c8d04434",
        "source": "dde200c77b61497e4fda81d9c8d04434-2",
        "target": "dde200c77b61497e4fda81d9c8d04434-1"
       },
       "group": "edges"
      }
     },
     "4f3a63dbfd0b45edccd440139b26d569": {
      "model_module": "cytoscape-clj",
      "model_module_version": "^0.2.0",
      "model_name": "ElementModel",
      "state": {
       "_model_module_version": "^0.2.0",
       "_view_module_version": "^0.2.0",
       "classes": [
        "67619e6b9eea49eb666204880eb831b9",
        "child"
       ],
       "data": {
        "id": "67619e6b9eea49eb666204880eb831b9-6",
        "name": "6",
        "parent": "67619e6b9eea49eb666204880eb831b9"
       },
       "position": {
        "x": 553.8410706185824,
        "y": 462.5809847027688
       }
      }
     },
     "4ffc217011a1474b5884bc73b3518715": {
      "model_module": "cytoscape-clj",
      "model_module_version": "^0.2.0",
      "model_name": "ElementModel",
      "state": {
       "_model_module_version": "^0.2.0",
       "_view_module_version": "^0.2.0",
       "classes": [
        "fdb0d432368543225f0d8090aa5701b1"
       ],
       "data": {
        "id": "7a97e7644be241a43bc5ee679c196036",
        "parent": "fdb0d432368543225f0d8090aa5701b1",
        "source": "fdb0d432368543225f0d8090aa5701b1-0",
        "target": "fdb0d432368543225f0d8090aa5701b1-1"
       },
       "group": "edges"
      }
     },
     "50d066622c6340cd6f86b59d6c105a7c": {
      "model_module": "cytoscape-clj",
      "model_module_version": "^0.2.0",
      "model_name": "ElementModel",
      "state": {
       "_model_module_version": "^0.2.0",
       "_view_module_version": "^0.2.0",
       "classes": [
        "01cf4e327d9a409333ed2cc4f29b9fbc"
       ],
       "data": {
        "id": "abd47bc3016a427ab9734be2fb258282",
        "parent": "01cf4e327d9a409333ed2cc4f29b9fbc",
        "source": "01cf4e327d9a409333ed2cc4f29b9fbc-2",
        "target": "01cf4e327d9a409333ed2cc4f29b9fbc-3"
       },
       "group": "edges"
      }
     },
     "51e71ce00c0b4158748ec76e731ec045": {
      "model_module": "cytoscape-clj",
      "model_module_version": "^0.2.0",
      "model_name": "ElementModel",
      "state": {
       "_model_module_version": "^0.2.0",
       "_view_module_version": "^0.2.0",
       "classes": [
        "fdb0d432368543225f0d8090aa5701b1"
       ],
       "data": {
        "id": "0ad2f518c6854a2d28ac33c16e3a4842",
        "parent": "fdb0d432368543225f0d8090aa5701b1",
        "source": "fdb0d432368543225f0d8090aa5701b1-4",
        "target": "fdb0d432368543225f0d8090aa5701b1-5"
       },
       "group": "edges"
      }
     },
     "52ecea7bf5f348b34d7c87ebbdb4b2ba": {
      "model_module": "cytoscape-clj",
      "model_module_version": "^0.2.0",
      "model_name": "ElementModel",
      "state": {
       "_model_module_version": "^0.2.0",
       "_view_module_version": "^0.2.0",
       "classes": [
        "e7ac543e5d224583f1cd985b692bc794"
       ],
       "data": {
        "id": "481f882fe46a4d3e86a8c352c03edcbe",
        "parent": "e7ac543e5d224583f1cd985b692bc794",
        "source": "e7ac543e5d224583f1cd985b692bc794-3",
        "target": "e7ac543e5d224583f1cd985b692bc794-6"
       },
       "group": "edges"
      }
     },
     "53bba5fb5acb43fe34f8da87ab8148d1": {
      "model_module": "cytoscape-clj",
      "model_module_version": "^0.2.0",
      "model_name": "ElementModel",
      "state": {
       "_model_module_version": "^0.2.0",
       "_view_module_version": "^0.2.0",
       "classes": [
        "67619e6b9eea49eb666204880eb831b9"
       ],
       "data": {
        "id": "2d30aef8a8ce4c7f742a2e24147d45d2",
        "parent": "67619e6b9eea49eb666204880eb831b9",
        "source": "67619e6b9eea49eb666204880eb831b9-4",
        "target": "67619e6b9eea49eb666204880eb831b9-5"
       },
       "group": "edges"
      }
     },
     "53ecb800725640a05c703bc5129766cf": {
      "model_module": "cytoscape-clj",
      "model_module_version": "^0.2.0",
      "model_name": "ElementModel",
      "state": {
       "_model_module_version": "^0.2.0",
       "_view_module_version": "^0.2.0",
       "classes": [
        "fdb0d432368543225f0d8090aa5701b1",
        "child"
       ],
       "data": {
        "id": "fdb0d432368543225f0d8090aa5701b1-1",
        "name": "1",
        "parent": "fdb0d432368543225f0d8090aa5701b1"
       },
       "position": {
        "x": 810,
        "y": 50
       }
      }
     },
     "563dcec338eb4465a977fe19879f1c50": {
      "model_module": "cytoscape-clj",
      "model_module_version": "^0.2.0",
      "model_name": "ElementModel",
      "state": {
       "_model_module_version": "^0.2.0",
       "_view_module_version": "^0.2.0",
       "classes": [
        "4d7055f90f044263acf600968ba688d7"
       ],
       "data": {
        "id": "7e1e9d9f9b214f8171662ab0ceebb493",
        "parent": "4d7055f90f044263acf600968ba688d7",
        "source": "4d7055f90f044263acf600968ba688d7-4",
        "target": "4d7055f90f044263acf600968ba688d7-5"
       },
       "group": "edges"
      }
     },
     "564b30cc357b46f544e01753bfb3b565": {
      "model_module": "cytoscape-clj",
      "model_module_version": "^0.2.0",
      "model_name": "ElementModel",
      "state": {
       "_model_module_version": "^0.2.0",
       "_view_module_version": "^0.2.0",
       "classes": [
        "375465a84ba44ab260b4a65d0f47b249"
       ],
       "data": {
        "id": "ce44a64154d548a0013e3bd404f96464",
        "parent": "375465a84ba44ab260b4a65d0f47b249",
        "source": "375465a84ba44ab260b4a65d0f47b249-5",
        "target": "375465a84ba44ab260b4a65d0f47b249-3"
       },
       "group": "edges"
      }
     },
     "56f1477e24f547bf0974d49cf7e06fc1": {
      "model_module": "cytoscape-clj",
      "model_module_version": "^0.2.0",
      "model_name": "ElementModel",
      "state": {
       "_model_module_version": "^0.2.0",
       "_view_module_version": "^0.2.0",
       "classes": [
        "375465a84ba44ab260b4a65d0f47b249"
       ],
       "data": {
        "id": "237a7c07683842078d9af33a6fff6c07",
        "parent": "375465a84ba44ab260b4a65d0f47b249",
        "source": "375465a84ba44ab260b4a65d0f47b249-1",
        "target": "375465a84ba44ab260b4a65d0f47b249-5"
       },
       "group": "edges"
      }
     },
     "57fe6e24d96249bea093edc414014235": {
      "model_module": "cytoscape-clj",
      "model_module_version": "^0.2.0",
      "model_name": "ElementModel",
      "state": {
       "_model_module_version": "^0.2.0",
       "_view_module_version": "^0.2.0",
       "classes": [
        "01cf4e327d9a409333ed2cc4f29b9fbc"
       ],
       "data": {
        "id": "a1480a08f2b14b589c7966a8675666dd",
        "parent": "01cf4e327d9a409333ed2cc4f29b9fbc",
        "source": "01cf4e327d9a409333ed2cc4f29b9fbc-2",
        "target": "01cf4e327d9a409333ed2cc4f29b9fbc-6"
       },
       "group": "edges"
      }
     },
     "58307ae29e2a4591d422094538233be2": {
      "model_module": "cytoscape-clj",
      "model_module_version": "^0.2.0",
      "model_name": "ElementModel",
      "state": {
       "_model_module_version": "^0.2.0",
       "_view_module_version": "^0.2.0",
       "classes": [
        "0624a4ea1dab4b096a3ba19381276b81"
       ],
       "data": {
        "id": "fbf9887c27f248848939ba3057b67053",
        "parent": "0624a4ea1dab4b096a3ba19381276b81",
        "source": "0624a4ea1dab4b096a3ba19381276b81-3",
        "target": "0624a4ea1dab4b096a3ba19381276b81-6"
       },
       "group": "edges"
      }
     },
     "5967dd71ac144f85b857d29e28b0cb21": {
      "model_module": "cytoscape-clj",
      "model_module_version": "^0.2.0",
      "model_name": "ElementModel",
      "state": {
       "_model_module_version": "^0.2.0",
       "_view_module_version": "^0.2.0",
       "classes": [
        "01cf4e327d9a409333ed2cc4f29b9fbc",
        "child"
       ],
       "data": {
        "id": "01cf4e327d9a409333ed2cc4f29b9fbc-4",
        "name": "4",
        "parent": "01cf4e327d9a409333ed2cc4f29b9fbc"
       },
       "position": {
        "x": 1087.933951305893,
        "y": 258.1162641482903
       }
      }
     },
     "5c203b4d2e1d4ce476a3cc8482a30ace": {
      "model_module": "cytoscape-clj",
      "model_module_version": "^0.2.0",
      "model_name": "ElementModel",
      "state": {
       "_model_module_version": "^0.2.0",
       "_view_module_version": "^0.2.0",
       "classes": [
        "e7ac543e5d224583f1cd985b692bc794"
       ],
       "data": {
        "id": "396a5845b96d40cbe85e8865e4e239ea",
        "parent": "e7ac543e5d224583f1cd985b692bc794",
        "source": "e7ac543e5d224583f1cd985b692bc794-0",
        "target": "e7ac543e5d224583f1cd985b692bc794-5"
       },
       "group": "edges"
      }
     },
     "5c60a1a9859f4027d2c06500e99899b0": {
      "model_module": "cytoscape-clj",
      "model_module_version": "^0.2.0",
      "model_name": "ElementModel",
      "state": {
       "_model_module_version": "^0.2.0",
       "_view_module_version": "^0.2.0",
       "classes": [
        "0624a4ea1dab4b096a3ba19381276b81"
       ],
       "data": {
        "id": "6ba3468f569943f06af6c1534e566498",
        "parent": "0624a4ea1dab4b096a3ba19381276b81",
        "source": "0624a4ea1dab4b096a3ba19381276b81-1",
        "target": "0624a4ea1dab4b096a3ba19381276b81-6"
       },
       "group": "edges"
      }
     },
     "5d673d4a53f6424b9c583b39841d8d12": {
      "model_module": "cytoscape-clj",
      "model_module_version": "^0.2.0",
      "model_name": "BreadthFirstLayoutModel",
      "state": {
       "_model_module_version": "^0.2.0",
       "_view_module_version": "^0.2.0",
       "animate": true,
       "animation_duration": 250,
       "bounding_box": {
        "h": 300,
        "w": 300,
        "x1": 0,
        "y1": 0
       },
       "fit": false,
       "roots": [],
       "selector": ".e7ac543e5d224583f1cd985b692bc794",
       "spacing_factor": null
      }
     },
     "5d899b87073f430cbac99e8fcd8dd934": {
      "model_module": "cytoscape-clj",
      "model_module_version": "^0.2.0",
      "model_name": "ElementModel",
      "state": {
       "_model_module_version": "^0.2.0",
       "_view_module_version": "^0.2.0",
       "classes": [
        "e7ac543e5d224583f1cd985b692bc794"
       ],
       "data": {
        "id": "905dafefd5c641c0adc678a27d4d224c",
        "parent": "e7ac543e5d224583f1cd985b692bc794",
        "source": "e7ac543e5d224583f1cd985b692bc794-0",
        "target": "e7ac543e5d224583f1cd985b692bc794-1"
       },
       "group": "edges"
      }
     },
     "5fcc205161814c9521253f28f42d9617": {
      "model_module": "cytoscape-clj",
      "model_module_version": "^0.2.0",
      "model_name": "ElementModel",
      "state": {
       "_model_module_version": "^0.2.0",
       "_view_module_version": "^0.2.0",
       "classes": [
        "375465a84ba44ab260b4a65d0f47b249"
       ],
       "data": {
        "id": "375465a84ba44ab260b4a65d0f47b249",
        "name": "dagre-layout"
       },
       "position": {
        "x": 934.412873722734,
        "y": 487.6855000477483
       }
      }
     },
     "60442f5b28ed4c0fd002293fe8d0040d": {
      "model_module": "cytoscape-clj",
      "model_module_version": "^0.2.0",
      "model_name": "ElementModel",
      "state": {
       "_model_module_version": "^0.2.0",
       "_view_module_version": "^0.2.0",
       "classes": [
        "67619e6b9eea49eb666204880eb831b9"
       ],
       "data": {
        "id": "addff33fa17e47cbce3b04c45008430c",
        "parent": "67619e6b9eea49eb666204880eb831b9",
        "source": "67619e6b9eea49eb666204880eb831b9-0",
        "target": "67619e6b9eea49eb666204880eb831b9-6"
       },
       "group": "edges"
      }
     },
     "6116f20cd7664f13b64e9b53f23c151a": {
      "model_module": "cytoscape-clj",
      "model_module_version": "^0.2.0",
      "model_name": "ElementModel",
      "state": {
       "_model_module_version": "^0.2.0",
       "_view_module_version": "^0.2.0",
       "classes": [
        "01cf4e327d9a409333ed2cc4f29b9fbc"
       ],
       "data": {
        "id": "0b63a5bd4d534681b4cef864d314fc3d",
        "parent": "01cf4e327d9a409333ed2cc4f29b9fbc",
        "source": "01cf4e327d9a409333ed2cc4f29b9fbc-3",
        "target": "01cf4e327d9a409333ed2cc4f29b9fbc-6"
       },
       "group": "edges"
      }
     },
     "61f7af8d5e95416bedc757e3ffe032e1": {
      "model_module": "cytoscape-clj",
      "model_module_version": "^0.2.0",
      "model_name": "ElementModel",
      "state": {
       "_model_module_version": "^0.2.0",
       "_view_module_version": "^0.2.0",
       "classes": [
        "dde200c77b61497e4fda81d9c8d04434"
       ],
       "data": {
        "id": "b06c7c48b4e2473401ad3a4ea0a913b9",
        "parent": "dde200c77b61497e4fda81d9c8d04434",
        "source": "dde200c77b61497e4fda81d9c8d04434-4",
        "target": "dde200c77b61497e4fda81d9c8d04434-3"
       },
       "group": "edges"
      }
     },
     "64705af65c054e4a4f82c30100480d90": {
      "model_module": "cytoscape-clj",
      "model_module_version": "^0.2.0",
      "model_name": "ElementModel",
      "state": {
       "_model_module_version": "^0.2.0",
       "_view_module_version": "^0.2.0",
       "classes": [
        "01cf4e327d9a409333ed2cc4f29b9fbc",
        "child"
       ],
       "data": {
        "id": "01cf4e327d9a409333ed2cc4f29b9fbc-0",
        "name": "0",
        "parent": "01cf4e327d9a409333ed2cc4f29b9fbc"
       },
       "position": {
        "x": 1140,
        "y": 30
       }
      }
     },
     "66086095b6aa4d8c3fb7086795055ca5": {
      "model_module": "cytoscape-clj",
      "model_module_version": "^0.2.0",
      "model_name": "ElementModel",
      "state": {
       "_model_module_version": "^0.2.0",
       "_view_module_version": "^0.2.0",
       "classes": [
        "dde200c77b61497e4fda81d9c8d04434"
       ],
       "data": {
        "id": "b8c71fcc3e53429703ab3e153dc0d7fe",
        "parent": "dde200c77b61497e4fda81d9c8d04434",
        "source": "dde200c77b61497e4fda81d9c8d04434-1",
        "target": "dde200c77b61497e4fda81d9c8d04434-5"
       },
       "group": "edges"
      }
     },
     "66ce2c9b71ed4a631ab14945f952c200": {
      "model_module": "cytoscape-clj",
      "model_module_version": "^0.2.0",
      "model_name": "ElementModel",
      "state": {
       "_model_module_version": "^0.2.0",
       "_view_module_version": "^0.2.0",
       "classes": [
        "e7ac543e5d224583f1cd985b692bc794"
       ],
       "data": {
        "id": "e7ac543e5d224583f1cd985b692bc794",
        "name": "breadth-first-layout"
       }
      }
     },
     "6790f60783d8420664faa5b31c7197fd": {
      "model_module": "cytoscape-clj",
      "model_module_version": "^0.2.0",
      "model_name": "ElementModel",
      "state": {
       "_model_module_version": "^0.2.0",
       "_view_module_version": "^0.2.0",
       "classes": [
        "0624a4ea1dab4b096a3ba19381276b81"
       ],
       "data": {
        "id": "b6c190ba9264497f6bc14cf47e24107b",
        "parent": "0624a4ea1dab4b096a3ba19381276b81",
        "source": "0624a4ea1dab4b096a3ba19381276b81-5",
        "target": "0624a4ea1dab4b096a3ba19381276b81-3"
       },
       "group": "edges"
      }
     },
     "68ccb3e49cc94194c547b43f3adbe1b9": {
      "model_module": "cytoscape-clj",
      "model_module_version": "^0.2.0",
      "model_name": "ElementModel",
      "state": {
       "_model_module_version": "^0.2.0",
       "_view_module_version": "^0.2.0",
       "classes": [
        "67619e6b9eea49eb666204880eb831b9",
        "child"
       ],
       "data": {
        "id": "67619e6b9eea49eb666204880eb831b9-0",
        "name": "0",
        "parent": "67619e6b9eea49eb666204880eb831b9"
       },
       "position": {
        "x": 630,
        "y": 425.2611417486309
       }
      }
     },
     "6bec1f022d514dcbb012a9bcda4d9578": {
      "model_module": "cytoscape-clj",
      "model_module_version": "^0.2.0",
      "model_name": "ElementModel",
      "state": {
       "_model_module_version": "^0.2.0",
       "_view_module_version": "^0.2.0",
       "classes": [
        "01cf4e327d9a409333ed2cc4f29b9fbc"
       ],
       "data": {
        "id": "f68e352cf9f14ed1f0b053956592bb1d",
        "parent": "01cf4e327d9a409333ed2cc4f29b9fbc",
        "source": "01cf4e327d9a409333ed2cc4f29b9fbc-1",
        "target": "01cf4e327d9a409333ed2cc4f29b9fbc-5"
       },
       "group": "edges"
      }
     },
     "6d5b63851b9740cc4ee77e17be2fc92d": {
      "model_module": "cytoscape-clj",
      "model_module_version": "^0.2.0",
      "model_name": "ElementModel",
      "state": {
       "_model_module_version": "^0.2.0",
       "_view_module_version": "^0.2.0",
       "classes": [
        "0624a4ea1dab4b096a3ba19381276b81"
       ],
       "data": {
        "id": "8048bd4cb83349b6a2d80b515f82f878",
        "parent": "0624a4ea1dab4b096a3ba19381276b81",
        "source": "0624a4ea1dab4b096a3ba19381276b81-2",
        "target": "0624a4ea1dab4b096a3ba19381276b81-1"
       },
       "group": "edges"
      }
     },
     "6f1d45f682604162f365ac8726834d04": {
      "model_module": "cytoscape-clj",
      "model_module_version": "^0.2.0",
      "model_name": "ElementModel",
      "state": {
       "_model_module_version": "^0.2.0",
       "_view_module_version": "^0.2.0",
       "classes": [
        "0624a4ea1dab4b096a3ba19381276b81"
       ],
       "data": {
        "id": "32efc5825d0747fb10165d614c71aee6",
        "parent": "0624a4ea1dab4b096a3ba19381276b81",
        "source": "0624a4ea1dab4b096a3ba19381276b81-2",
        "target": "0624a4ea1dab4b096a3ba19381276b81-6"
       },
       "group": "edges"
      }
     },
     "6fd5d93644254bbed3920eed39b1b4d4": {
      "model_module": "cytoscape-clj",
      "model_module_version": "^0.2.0",
      "model_name": "ElementModel",
      "state": {
       "_model_module_version": "^0.2.0",
       "_view_module_version": "^0.2.0",
       "classes": [
        "e7ac543e5d224583f1cd985b692bc794"
       ],
       "data": {
        "id": "38c788966bd54876ec9643da987cd3cf",
        "parent": "e7ac543e5d224583f1cd985b692bc794",
        "source": "e7ac543e5d224583f1cd985b692bc794-4",
        "target": "e7ac543e5d224583f1cd985b692bc794-6"
       },
       "group": "edges"
      }
     },
     "701f4163ac2245fa38fa6d37372ed1a1": {
      "model_module": "cytoscape-clj",
      "model_module_version": "^0.2.0",
      "model_name": "ElementModel",
      "state": {
       "_model_module_version": "^0.2.0",
       "_view_module_version": "^0.2.0",
       "classes": [
        "01cf4e327d9a409333ed2cc4f29b9fbc"
       ],
       "data": {
        "id": "83eefd6dcf68483f94cfc9c28d95d042",
        "parent": "01cf4e327d9a409333ed2cc4f29b9fbc",
        "source": "01cf4e327d9a409333ed2cc4f29b9fbc-0",
        "target": "01cf4e327d9a409333ed2cc4f29b9fbc-1"
       },
       "group": "edges"
      }
     },
     "707fcaa5c0a0420afbd78516e5a795f1": {
      "model_module": "cytoscape-clj",
      "model_module_version": "^0.2.0",
      "model_name": "ElementModel",
      "state": {
       "_model_module_version": "^0.2.0",
       "_view_module_version": "^0.2.0",
       "classes": [
        "4d7055f90f044263acf600968ba688d7"
       ],
       "data": {
        "id": "f15895a5dc064db00f9c5d4a7b927aa8",
        "parent": "4d7055f90f044263acf600968ba688d7",
        "source": "4d7055f90f044263acf600968ba688d7-3",
        "target": "4d7055f90f044263acf600968ba688d7-6"
       },
       "group": "edges"
      }
     },
     "71842e4dc34f49573ee4642c0c27bfa4": {
      "model_module": "cytoscape-clj",
      "model_module_version": "^0.2.0",
      "model_name": "ElementModel",
      "state": {
       "_model_module_version": "^0.2.0",
       "_view_module_version": "^0.2.0",
       "classes": [
        "01cf4e327d9a409333ed2cc4f29b9fbc",
        "child"
       ],
       "data": {
        "id": "01cf4e327d9a409333ed2cc4f29b9fbc-2",
        "name": "2",
        "parent": "01cf4e327d9a409333ed2cc4f29b9fbc"
       },
       "position": {
        "x": 1256.9913494618188,
        "y": 176.7025120747577
       }
      }
     },
     "767af686674d423fd2e2fa1942901185": {
      "model_module": "cytoscape-clj",
      "model_module_version": "^0.2.0",
      "model_name": "ElementModel",
      "state": {
       "_model_module_version": "^0.2.0",
       "_view_module_version": "^0.2.0",
       "classes": [
        "e7ac543e5d224583f1cd985b692bc794"
       ],
       "data": {
        "id": "87eea79caa1d4b377f22d68bc670b653",
        "parent": "e7ac543e5d224583f1cd985b692bc794",
        "source": "e7ac543e5d224583f1cd985b692bc794-2",
        "target": "e7ac543e5d224583f1cd985b692bc794-3"
       },
       "group": "edges"
      }
     },
     "769dc11cb2764bdcde54d11a5ea4cfb9": {
      "model_module": "cytoscape-clj",
      "model_module_version": "^0.2.0",
      "model_name": "ElementModel",
      "state": {
       "_model_module_version": "^0.2.0",
       "_view_module_version": "^0.2.0",
       "classes": [
        "67619e6b9eea49eb666204880eb831b9",
        "child"
       ],
       "data": {
        "id": "67619e6b9eea49eb666204880eb831b9-2",
        "name": "2",
        "parent": "67619e6b9eea49eb666204880eb831b9"
       },
       "position": {
        "x": 534.149840747277,
        "y": 630
       }
      }
     },
     "7bad8a8cc0b14720055b6e6aa35f81da": {
      "model_module": "cytoscape-clj",
      "model_module_version": "^0.2.0",
      "model_name": "ElementModel",
      "state": {
       "_model_module_version": "^0.2.0",
       "_view_module_version": "^0.2.0",
       "classes": [
        "67619e6b9eea49eb666204880eb831b9"
       ],
       "data": {
        "id": "c8e6faff7c444920cbb2453fabc124b0",
        "parent": "67619e6b9eea49eb666204880eb831b9",
        "source": "67619e6b9eea49eb666204880eb831b9-5",
        "target": "67619e6b9eea49eb666204880eb831b9-3"
       },
       "group": "edges"
      }
     },
     "7c47d7004ea4422ba13b2589cba50026": {
      "model_module": "cytoscape-clj",
      "model_module_version": "^0.2.0",
      "model_name": "ElementModel",
      "state": {
       "_model_module_version": "^0.2.0",
       "_view_module_version": "^0.2.0",
       "classes": [
        "4d7055f90f044263acf600968ba688d7",
        "child"
       ],
       "data": {
        "id": "4d7055f90f044263acf600968ba688d7-4",
        "name": "4",
        "parent": "4d7055f90f044263acf600968ba688d7"
       },
       "position": {
        "x": 1284.4190605600597,
        "y": 549.4449075548816
       }
      }
     },
     "7d6dbbf6f5124f5cdcfe2659ece88bff": {
      "model_module": "cytoscape-clj",
      "model_module_version": "^0.2.0",
      "model_name": "ElementModel",
      "state": {
       "_model_module_version": "^0.2.0",
       "_view_module_version": "^0.2.0",
       "classes": [
        "e7ac543e5d224583f1cd985b692bc794"
       ],
       "data": {
        "id": "852496711f384d58ccf4a3eeea6eb7e8",
        "parent": "e7ac543e5d224583f1cd985b692bc794",
        "source": "e7ac543e5d224583f1cd985b692bc794-1",
        "target": "e7ac543e5d224583f1cd985b692bc794-5"
       },
       "group": "edges"
      }
     },
     "8085c594e17e4ac033df0150e1b5686a": {
      "model_module": "cytoscape-clj",
      "model_module_version": "^0.2.0",
      "model_name": "ElementModel",
      "state": {
       "_model_module_version": "^0.2.0",
       "_view_module_version": "^0.2.0",
       "classes": [
        "4d7055f90f044263acf600968ba688d7"
       ],
       "data": {
        "id": "c3a60a2e5fcd4b104e994659e557949c",
        "parent": "4d7055f90f044263acf600968ba688d7",
        "source": "4d7055f90f044263acf600968ba688d7-0",
        "target": "4d7055f90f044263acf600968ba688d7-5"
       },
       "group": "edges"
      }
     },
     "80ec67449ab74282754efbc3419e385c": {
      "model_module": "cytoscape-clj",
      "model_module_version": "^0.2.0",
      "model_name": "ElementModel",
      "state": {
       "_model_module_version": "^0.2.0",
       "_view_module_version": "^0.2.0",
       "classes": [
        "fdb0d432368543225f0d8090aa5701b1"
       ],
       "data": {
        "id": "ddc94df6188e455e9690de91376d1ab0",
        "parent": "fdb0d432368543225f0d8090aa5701b1",
        "source": "fdb0d432368543225f0d8090aa5701b1-2",
        "target": "fdb0d432368543225f0d8090aa5701b1-6"
       },
       "group": "edges"
      }
     },
     "8225af44f4c14c342422e5c054f6cf97": {
      "model_module": "cytoscape-clj",
      "model_module_version": "^0.2.0",
      "model_name": "ConcentricLayoutModel",
      "state": {
       "_model_module_version": "^0.2.0",
       "_view_module_version": "^0.2.0",
       "animate": true,
       "animation_duration": 250,
       "bounding_box": {
        "h": 300,
        "w": 300,
        "x1": 0,
        "y1": 330
       },
       "fit": false,
       "selector": ".dde200c77b61497e4fda81d9c8d04434"
      }
     },
     "8730d442e06e46d8f46ebc9f59897fa9": {
      "model_module": "cytoscape-clj",
      "model_module_version": "^0.2.0",
      "model_name": "ElementModel",
      "state": {
       "_model_module_version": "^0.2.0",
       "_view_module_version": "^0.2.0",
       "classes": [
        "67619e6b9eea49eb666204880eb831b9"
       ],
       "data": {
        "id": "ef06b5a6ce7b4034ffeb189d50ad9663",
        "parent": "67619e6b9eea49eb666204880eb831b9",
        "source": "67619e6b9eea49eb666204880eb831b9-0",
        "target": "67619e6b9eea49eb666204880eb831b9-1"
       },
       "group": "edges"
      }
     },
     "87e2a5e0043743810bd55c5d41cdc5fd": {
      "model_module": "cytoscape-clj",
      "model_module_version": "^0.2.0",
      "model_name": "ElementModel",
      "state": {
       "_model_module_version": "^0.2.0",
       "_view_module_version": "^0.2.0",
       "classes": [
        "dde200c77b61497e4fda81d9c8d04434"
       ],
       "data": {
        "id": "8539402205c1431634e4760dab65f834",
        "parent": "dde200c77b61497e4fda81d9c8d04434",
        "source": "dde200c77b61497e4fda81d9c8d04434-1",
        "target": "dde200c77b61497e4fda81d9c8d04434-6"
       },
       "group": "edges"
      }
     },
     "8829bf682e2f48d926697b3637ccea71": {
      "model_module": "cytoscape-clj",
      "model_module_version": "^0.2.0",
      "model_name": "ElementModel",
      "state": {
       "_model_module_version": "^0.2.0",
       "_view_module_version": "^0.2.0",
       "classes": [
        "dde200c77b61497e4fda81d9c8d04434"
       ],
       "data": {
        "id": "463ab5be40624b1181af534fc79f64b1",
        "parent": "dde200c77b61497e4fda81d9c8d04434",
        "source": "dde200c77b61497e4fda81d9c8d04434-2",
        "target": "dde200c77b61497e4fda81d9c8d04434-3"
       },
       "group": "edges"
      }
     },
     "8ab31f592c3345465280a6cd88761288": {
      "model_module": "cytoscape-clj",
      "model_module_version": "^0.2.0",
      "model_name": "ElementModel",
      "state": {
       "_model_module_version": "^0.2.0",
       "_view_module_version": "^0.2.0",
       "classes": [
        "375465a84ba44ab260b4a65d0f47b249"
       ],
       "data": {
        "id": "ed7d448024614394859d1200e090a5b5",
        "parent": "375465a84ba44ab260b4a65d0f47b249",
        "source": "375465a84ba44ab260b4a65d0f47b249-1",
        "target": "375465a84ba44ab260b4a65d0f47b249-6"
       },
       "group": "edges"
      }
     },
     "8b1674e7111a482e11c5067d5ed16ed2": {
      "model_module": "cytoscape-clj",
      "model_module_version": "^0.2.0",
      "model_name": "ElementModel",
      "state": {
       "_model_module_version": "^0.2.0",
       "_view_module_version": "^0.2.0",
       "classes": [
        "fdb0d432368543225f0d8090aa5701b1"
       ],
       "data": {
        "id": "de8c16f1754942c50851c6af0caf1259",
        "parent": "fdb0d432368543225f0d8090aa5701b1",
        "source": "fdb0d432368543225f0d8090aa5701b1-0",
        "target": "fdb0d432368543225f0d8090aa5701b1-6"
       },
       "group": "edges"
      }
     },
     "8b2d32bc759c4565b5ab54579ff12a1d": {
      "model_module": "cytoscape-clj",
      "model_module_version": "^0.2.0",
      "model_name": "ElementModel",
      "state": {
       "_model_module_version": "^0.2.0",
       "_view_module_version": "^0.2.0",
       "classes": [
        "fdb0d432368543225f0d8090aa5701b1",
        "child"
       ],
       "data": {
        "id": "fdb0d432368543225f0d8090aa5701b1-6",
        "name": "6",
        "parent": "fdb0d432368543225f0d8090aa5701b1"
       },
       "position": {
        "x": 710,
        "y": 250
       }
      }
     },
     "8c7e177420b843b539d0494b23750aaf": {
      "model_module": "cytoscape-clj",
      "model_module_version": "^0.2.0",
      "model_name": "ElementModel",
      "state": {
       "_model_module_version": "^0.2.0",
       "_view_module_version": "^0.2.0",
       "classes": [
        "0624a4ea1dab4b096a3ba19381276b81"
       ],
       "data": {
        "id": "2edbf95d1e3a423297a95df685eaef10",
        "parent": "0624a4ea1dab4b096a3ba19381276b81",
        "source": "0624a4ea1dab4b096a3ba19381276b81-0",
        "target": "0624a4ea1dab4b096a3ba19381276b81-1"
       },
       "group": "edges"
      }
     },
     "8cde5280125b477580854dc051d239e6": {
      "model_module": "cytoscape-clj",
      "model_module_version": "^0.2.0",
      "model_name": "ElementModel",
      "state": {
       "_model_module_version": "^0.2.0",
       "_view_module_version": "^0.2.0",
       "classes": [
        "e7ac543e5d224583f1cd985b692bc794"
       ],
       "data": {
        "id": "c90a1e204f38430dfe4bc3b118e377e6",
        "parent": "e7ac543e5d224583f1cd985b692bc794",
        "source": "e7ac543e5d224583f1cd985b692bc794-5",
        "target": "e7ac543e5d224583f1cd985b692bc794-3"
       },
       "group": "edges"
      }
     },
     "9033ba0c81a5414ca737f410dc44b8c0": {
      "model_module": "cytoscape-clj",
      "model_module_version": "^0.2.0",
      "model_name": "ElementModel",
      "state": {
       "_model_module_version": "^0.2.0",
       "_view_module_version": "^0.2.0",
       "classes": [
        "dde200c77b61497e4fda81d9c8d04434"
       ],
       "data": {
        "id": "0e9ac4474d594bf6fc6a74f13c8a951f",
        "parent": "dde200c77b61497e4fda81d9c8d04434",
        "source": "dde200c77b61497e4fda81d9c8d04434-5",
        "target": "dde200c77b61497e4fda81d9c8d04434-6"
       },
       "group": "edges"
      }
     },
     "9185e22aad80454f9f1673acd04a8445": {
      "model_module": "cytoscape-clj",
      "model_module_version": "^0.2.0",
      "model_name": "ElementModel",
      "state": {
       "_model_module_version": "^0.2.0",
       "_view_module_version": "^0.2.0",
       "classes": [
        "0624a4ea1dab4b096a3ba19381276b81"
       ],
       "data": {
        "id": "47672d9ce5434b8dbe4a5188452e40e2",
        "parent": "0624a4ea1dab4b096a3ba19381276b81",
        "source": "0624a4ea1dab4b096a3ba19381276b81-4",
        "target": "0624a4ea1dab4b096a3ba19381276b81-5"
       },
       "group": "edges"
      }
     },
     "95a117e84ef34c25d9c7de1da7f25d6e": {
      "model_module": "cytoscape-clj",
      "model_module_version": "^0.2.0",
      "model_name": "ElementModel",
      "state": {
       "_model_module_version": "^0.2.0",
       "_view_module_version": "^0.2.0",
       "classes": [
        "67619e6b9eea49eb666204880eb831b9"
       ],
       "data": {
        "id": "6977b90287c447c09c786fe9620e2b2a",
        "parent": "67619e6b9eea49eb666204880eb831b9",
        "source": "67619e6b9eea49eb666204880eb831b9-1",
        "target": "67619e6b9eea49eb666204880eb831b9-6"
       },
       "group": "edges"
      }
     },
     "962a04ba42d34f4698a0327f17f38eef": {
      "model_module": "cytoscape-clj",
      "model_module_version": "^0.2.0",
      "model_name": "ElementModel",
      "state": {
       "_model_module_version": "^0.2.0",
       "_view_module_version": "^0.2.0",
       "classes": [
        "375465a84ba44ab260b4a65d0f47b249",
        "child"
       ],
       "data": {
        "id": "375465a84ba44ab260b4a65d0f47b249-1",
        "name": "1",
        "parent": "375465a84ba44ab260b4a65d0f47b249"
       },
       "position": {
        "x": 1084.4128737227347,
        "y": 412.6855000477483
       }
      }
     },
     "9a0afd9a8db74e40be00f63ade335041": {
      "model_module": "cytoscape-clj",
      "model_module_version": "^0.2.0",
      "model_name": "ElementModel",
      "state": {
       "_model_module_version": "^0.2.0",
       "_view_module_version": "^0.2.0",
       "classes": [
        "dde200c77b61497e4fda81d9c8d04434"
       ],
       "data": {
        "id": "1f7e4240e49142b69460d6083a76c444",
        "parent": "dde200c77b61497e4fda81d9c8d04434",
        "source": "dde200c77b61497e4fda81d9c8d04434-0",
        "target": "dde200c77b61497e4fda81d9c8d04434-1"
       },
       "group": "edges"
      }
     },
     "9a75219d46c24d9aa71c6bc0901b7f11": {
      "model_module": "cytoscape-clj",
      "model_module_version": "^0.2.0",
      "model_name": "ElementModel",
      "state": {
       "_model_module_version": "^0.2.0",
       "_view_module_version": "^0.2.0",
       "classes": [
        "e7ac543e5d224583f1cd985b692bc794"
       ],
       "data": {
        "id": "7c09f05418d64d8ec0e330ada1bc099f",
        "parent": "e7ac543e5d224583f1cd985b692bc794",
        "source": "e7ac543e5d224583f1cd985b692bc794-3",
        "target": "e7ac543e5d224583f1cd985b692bc794-1"
       },
       "group": "edges"
      }
     },
     "9a83148180bd4214a3b64f87535cdbed": {
      "model_module": "cytoscape-clj",
      "model_module_version": "^0.2.0",
      "model_name": "ElementModel",
      "state": {
       "_model_module_version": "^0.2.0",
       "_view_module_version": "^0.2.0",
       "classes": [
        "01cf4e327d9a409333ed2cc4f29b9fbc"
       ],
       "data": {
        "id": "334a9210e22b4e5bf1568064656c1bcb",
        "parent": "01cf4e327d9a409333ed2cc4f29b9fbc",
        "source": "01cf4e327d9a409333ed2cc4f29b9fbc-0",
        "target": "01cf4e327d9a409333ed2cc4f29b9fbc-6"
       },
       "group": "edges"
      }
     },
     "9aa6cb7092144779d6f4d495ae6db718": {
      "model_module": "cytoscape-clj",
      "model_module_version": "^0.2.0",
      "model_name": "ElementModel",
      "state": {
       "_model_module_version": "^0.2.0",
       "_view_module_version": "^0.2.0",
       "classes": [
        "fdb0d432368543225f0d8090aa5701b1"
       ],
       "data": {
        "id": "fbb476268df04dcfe93bd909127f40f7",
        "parent": "fdb0d432368543225f0d8090aa5701b1",
        "source": "fdb0d432368543225f0d8090aa5701b1-0",
        "target": "fdb0d432368543225f0d8090aa5701b1-5"
       },
       "group": "edges"
      }
     },
     "9b8dd6569e4f42562b87fccdb133052c": {
      "model_module": "cytoscape-clj",
      "model_module_version": "^0.2.0",
      "model_name": "ElementModel",
      "state": {
       "_model_module_version": "^0.2.0",
       "_view_module_version": "^0.2.0",
       "classes": [
        "4d7055f90f044263acf600968ba688d7",
        "child"
       ],
       "data": {
        "id": "4d7055f90f044263acf600968ba688d7-0",
        "name": "0",
        "parent": "4d7055f90f044263acf600968ba688d7"
       },
       "position": {
        "x": 1284.4190605600597,
        "y": 499.44490655488175
       }
      }
     },
     "9bbf336368a545ce619f69e40e814e2d": {
      "model_module": "cytoscape-clj",
      "model_module_version": "^0.2.0",
      "model_name": "ElementModel",
      "state": {
       "_model_module_version": "^0.2.0",
       "_view_module_version": "^0.2.0",
       "classes": [
        "fdb0d432368543225f0d8090aa5701b1"
       ],
       "data": {
        "id": "95299d7c031b4f218edfc37a997dbf46",
        "parent": "fdb0d432368543225f0d8090aa5701b1",
        "source": "fdb0d432368543225f0d8090aa5701b1-1",
        "target": "fdb0d432368543225f0d8090aa5701b1-5"
       },
       "group": "edges"
      }
     },
     "9c3bd34f8d4849991ce2c9d259f5fc04": {
      "model_module": "cytoscape-clj",
      "model_module_version": "^0.2.0",
      "model_name": "ElementModel",
      "state": {
       "_model_module_version": "^0.2.0",
       "_view_module_version": "^0.2.0",
       "classes": [
        "67619e6b9eea49eb666204880eb831b9",
        "child"
       ],
       "data": {
        "id": "67619e6b9eea49eb666204880eb831b9-4",
        "name": "4",
        "parent": "67619e6b9eea49eb666204880eb831b9"
       },
       "position": {
        "x": 494.0406482850133,
        "y": 333.38857390872585
       }
      }
     },
     "9d4f085e9f9545c47cbd2abe19141016": {
      "model_module": "cytoscape-clj",
      "model_module_version": "^0.2.0",
      "model_name": "ElementModel",
      "state": {
       "_model_module_version": "^0.2.0",
       "_view_module_version": "^0.2.0",
       "classes": [
        "4d7055f90f044263acf600968ba688d7",
        "child"
       ],
       "data": {
        "id": "4d7055f90f044263acf600968ba688d7-2",
        "name": "2",
        "parent": "4d7055f90f044263acf600968ba688d7"
       },
       "position": {
        "x": 1184.41905856006,
        "y": 525.5758412932694
       }
      }
     },
     "9d8c0f11345e48dafe70b18eb661b5e3": {
      "model_module": "cytoscape-clj",
      "model_module_version": "^0.2.0",
      "model_name": "ElementModel",
      "state": {
       "_model_module_version": "^0.2.0",
       "_view_module_version": "^0.2.0",
       "classes": [
        "0624a4ea1dab4b096a3ba19381276b81"
       ],
       "data": {
        "id": "78589c7c5094431301b715807e919828",
        "parent": "0624a4ea1dab4b096a3ba19381276b81",
        "source": "0624a4ea1dab4b096a3ba19381276b81-3",
        "target": "0624a4ea1dab4b096a3ba19381276b81-1"
       },
       "group": "edges"
      }
     },
     "9e681caec3664a23ab8faecf552655b2": {
      "model_module": "cytoscape-clj",
      "model_module_version": "^0.2.0",
      "model_name": "ElementModel",
      "state": {
       "_model_module_version": "^0.2.0",
       "_view_module_version": "^0.2.0",
       "classes": [
        "67619e6b9eea49eb666204880eb831b9"
       ],
       "data": {
        "id": "f73cde90f5084323543253b748b8ac18",
        "parent": "67619e6b9eea49eb666204880eb831b9",
        "source": "67619e6b9eea49eb666204880eb831b9-1",
        "target": "67619e6b9eea49eb666204880eb831b9-5"
       },
       "group": "edges"
      }
     },
     "9f2231fc1dbd400df2d9142488b26270": {
      "model_module": "cytoscape-clj",
      "model_module_version": "^0.2.0",
      "model_name": "ElementModel",
      "state": {
       "_model_module_version": "^0.2.0",
       "_view_module_version": "^0.2.0",
       "classes": [
        "e7ac543e5d224583f1cd985b692bc794"
       ],
       "data": {
        "id": "4d35db195112409fac743232ed4f60ec",
        "parent": "e7ac543e5d224583f1cd985b692bc794",
        "source": "e7ac543e5d224583f1cd985b692bc794-2",
        "target": "e7ac543e5d224583f1cd985b692bc794-6"
       },
       "group": "edges"
      }
     },
     "a2adc9ced28e4c48ba0fe85a2294341b": {
      "model_module": "cytoscape-clj",
      "model_module_version": "^0.2.0",
      "model_name": "ElementModel",
      "state": {
       "_model_module_version": "^0.2.0",
       "_view_module_version": "^0.2.0",
       "classes": [
        "dde200c77b61497e4fda81d9c8d04434"
       ],
       "data": {
        "id": "ca2eb65c526e46bc2fc9990bc0ee46be",
        "parent": "dde200c77b61497e4fda81d9c8d04434",
        "source": "dde200c77b61497e4fda81d9c8d04434-0",
        "target": "dde200c77b61497e4fda81d9c8d04434-6"
       },
       "group": "edges"
      }
     },
     "a69e46ed8bca447dc9b3f370eca99884": {
      "model_module": "cytoscape-clj",
      "model_module_version": "^0.2.0",
      "model_name": "ElementModel",
      "state": {
       "_model_module_version": "^0.2.0",
       "_view_module_version": "^0.2.0",
       "classes": [
        "fdb0d432368543225f0d8090aa5701b1"
       ],
       "data": {
        "id": "c5022df6ffc64001a40313266be20724",
        "parent": "fdb0d432368543225f0d8090aa5701b1",
        "source": "fdb0d432368543225f0d8090aa5701b1-4",
        "target": "fdb0d432368543225f0d8090aa5701b1-6"
       },
       "group": "edges"
      }
     },
     "a88ec6737dc44ab357defc84b1c1a793": {
      "model_module": "cytoscape-clj",
      "model_module_version": "^0.2.0",
      "model_name": "ElementModel",
      "state": {
       "_model_module_version": "^0.2.0",
       "_view_module_version": "^0.2.0",
       "classes": [
        "01cf4e327d9a409333ed2cc4f29b9fbc"
       ],
       "data": {
        "id": "febcd3d0cfd64a8596b771e11e1e2d1d",
        "parent": "01cf4e327d9a409333ed2cc4f29b9fbc",
        "source": "01cf4e327d9a409333ed2cc4f29b9fbc-5",
        "target": "01cf4e327d9a409333ed2cc4f29b9fbc-6"
       },
       "group": "edges"
      }
     },
     "a908e142eccb41fde0f340dfe03b0a48": {
      "model_module": "cytoscape-clj",
      "model_module_version": "^0.2.0",
      "model_name": "ElementModel",
      "state": {
       "_model_module_version": "^0.2.0",
       "_view_module_version": "^0.2.0",
       "classes": [
        "375465a84ba44ab260b4a65d0f47b249"
       ],
       "data": {
        "id": "d8a092dba8a848bf625179d8215a8c53",
        "parent": "375465a84ba44ab260b4a65d0f47b249",
        "source": "375465a84ba44ab260b4a65d0f47b249-4",
        "target": "375465a84ba44ab260b4a65d0f47b249-5"
       },
       "group": "edges"
      }
     },
     "aa3739eca32340662830ff684fadb2b6": {
      "model_module": "cytoscape-clj",
      "model_module_version": "^0.2.0",
      "model_name": "ElementModel",
      "state": {
       "_model_module_version": "^0.2.0",
       "_view_module_version": "^0.2.0",
       "classes": [
        "fdb0d432368543225f0d8090aa5701b1",
        "child"
       ],
       "data": {
        "id": "fdb0d432368543225f0d8090aa5701b1-4",
        "name": "4",
        "parent": "fdb0d432368543225f0d8090aa5701b1"
       },
       "position": {
        "x": 810,
        "y": 150
       }
      }
     },
     "aaa00ff8dd5c441dacfc9ca0732b46c3": {
      "model_module": "cytoscape-clj",
      "model_module_version": "^0.2.0",
      "model_name": "ElementModel",
      "state": {
       "_model_module_version": "^0.2.0",
       "_view_module_version": "^0.2.0",
       "classes": [
        "01cf4e327d9a409333ed2cc4f29b9fbc"
       ],
       "data": {
        "id": "26a0829024a545ce6dba5de722f82e00",
        "parent": "01cf4e327d9a409333ed2cc4f29b9fbc",
        "source": "01cf4e327d9a409333ed2cc4f29b9fbc-4",
        "target": "01cf4e327d9a409333ed2cc4f29b9fbc-6"
       },
       "group": "edges"
      }
     },
     "ab7b2a3e06ea4842bc21ac5ead8541f4": {
      "model_module": "cytoscape-clj",
      "model_module_version": "^0.2.0",
      "model_name": "ElementModel",
      "state": {
       "_model_module_version": "^0.2.0",
       "_view_module_version": "^0.2.0",
       "classes": [
        "fdb0d432368543225f0d8090aa5701b1"
       ],
       "data": {
        "id": "c4978fb02b3c47e0c0c4348b07ca8f00",
        "parent": "fdb0d432368543225f0d8090aa5701b1",
        "source": "fdb0d432368543225f0d8090aa5701b1-1",
        "target": "fdb0d432368543225f0d8090aa5701b1-6"
       },
       "group": "edges"
      }
     },
     "ade14548e6dc4700d6a7c87a4672045f": {
      "model_module": "cytoscape-clj",
      "model_module_version": "^0.2.0",
      "model_name": "ElementModel",
      "state": {
       "_model_module_version": "^0.2.0",
       "_view_module_version": "^0.2.0",
       "classes": [
        "dde200c77b61497e4fda81d9c8d04434"
       ],
       "data": {
        "id": "40146fe99b764d6f5c79c405c674a547",
        "parent": "dde200c77b61497e4fda81d9c8d04434",
        "source": "dde200c77b61497e4fda81d9c8d04434-5",
        "target": "dde200c77b61497e4fda81d9c8d04434-3"
       },
       "group": "edges"
      }
     },
     "ae7486b882de4c9e4da3fc97ff602bfc": {
      "model_module": "cytoscape-clj",
      "model_module_version": "^0.2.0",
      "model_name": "ElementModel",
      "state": {
       "_model_module_version": "^0.2.0",
       "_view_module_version": "^0.2.0",
       "classes": [
        "fdb0d432368543225f0d8090aa5701b1"
       ],
       "data": {
        "id": "fdb0d432368543225f0d8090aa5701b1",
        "name": "grid-layout"
       }
      }
     },
     "af52c89178a544cb4d4be23d087635ed": {
      "model_module": "cytoscape-clj",
      "model_module_version": "^0.2.0",
      "model_name": "ElementModel",
      "state": {
       "_model_module_version": "^0.2.0",
       "_view_module_version": "^0.2.0",
       "classes": [
        "0624a4ea1dab4b096a3ba19381276b81",
        "child"
       ],
       "data": {
        "id": "0624a4ea1dab4b096a3ba19381276b81-3",
        "name": "3",
        "parent": "0624a4ea1dab4b096a3ba19381276b81"
       },
       "position": {
        "x": 557,
        "y": 288
       }
      }
     },
     "b0461dd0ca064660275e67f6be3bed86": {
      "model_module": "cytoscape-clj",
      "model_module_version": "^0.2.0",
      "model_name": "ElementModel",
      "state": {
       "_model_module_version": "^0.2.0",
       "_view_module_version": "^0.2.0",
       "classes": [
        "375465a84ba44ab260b4a65d0f47b249"
       ],
       "data": {
        "id": "120eb7cd262842c7fafa36d6698eb303",
        "parent": "375465a84ba44ab260b4a65d0f47b249",
        "source": "375465a84ba44ab260b4a65d0f47b249-2",
        "target": "375465a84ba44ab260b4a65d0f47b249-1"
       },
       "group": "edges"
      }
     },
     "b081c5bf260e40ebc9cb850376416e0b": {
      "model_module": "cytoscape-clj",
      "model_module_version": "^0.2.0",
      "model_name": "ElementModel",
      "state": {
       "_model_module_version": "^0.2.0",
       "_view_module_version": "^0.2.0",
       "classes": [
        "dde200c77b61497e4fda81d9c8d04434",
        "child"
       ],
       "data": {
        "id": "dde200c77b61497e4fda81d9c8d04434-5",
        "name": "5",
        "parent": "dde200c77b61497e4fda81d9c8d04434"
       },
       "position": {
        "x": 121.7157287525381,
        "y": 480
       }
      }
     },
     "b29d2d34cd2e4e771593b55c2ec3809f": {
      "model_module": "cytoscape-clj",
      "model_module_version": "^0.2.0",
      "model_name": "ElementModel",
      "state": {
       "_model_module_version": "^0.2.0",
       "_view_module_version": "^0.2.0",
       "classes": [
        "4d7055f90f044263acf600968ba688d7"
       ],
       "data": {
        "id": "0e7a9b47e7b244b8a412b907a261c806",
        "parent": "4d7055f90f044263acf600968ba688d7",
        "source": "4d7055f90f044263acf600968ba688d7-5",
        "target": "4d7055f90f044263acf600968ba688d7-6"
       },
       "group": "edges"
      }
     },
     "b3d686cee56b459a20bdf6f506bba890": {
      "model_module": "cytoscape-clj",
      "model_module_version": "^0.2.0",
      "model_name": "ElementModel",
      "state": {
       "_model_module_version": "^0.2.0",
       "_view_module_version": "^0.2.0",
       "classes": [
        "67619e6b9eea49eb666204880eb831b9"
       ],
       "data": {
        "id": "8da8e46532864d5bd34a6aea1ad49f27",
        "parent": "67619e6b9eea49eb666204880eb831b9",
        "source": "67619e6b9eea49eb666204880eb831b9-5",
        "target": "67619e6b9eea49eb666204880eb831b9-6"
       },
       "group": "edges"
      }
     },
     "b4d56703681e477698a57a12218b544a": {
      "model_module": "cytoscape-clj",
      "model_module_version": "^0.2.0",
      "model_name": "ElementModel",
      "state": {
       "_model_module_version": "^0.2.0",
       "_view_module_version": "^0.2.0",
       "classes": [
        "0624a4ea1dab4b096a3ba19381276b81",
        "child"
       ],
       "data": {
        "id": "0624a4ea1dab4b096a3ba19381276b81-1",
        "name": "1",
        "parent": "0624a4ea1dab4b096a3ba19381276b81"
       },
       "position": {
        "x": 528,
        "y": 156
       }
      }
     },
     "b4db9cae00a94a37ca6e27c80d4f43ce": {
      "model_module": "cytoscape-clj",
      "model_module_version": "^0.2.0",
      "model_name": "ElementModel",
      "state": {
       "_model_module_version": "^0.2.0",
       "_view_module_version": "^0.2.0",
       "classes": [
        "01cf4e327d9a409333ed2cc4f29b9fbc"
       ],
       "data": {
        "id": "a23a46cc1f93480b418ac5b95cbbcee8",
        "parent": "01cf4e327d9a409333ed2cc4f29b9fbc",
        "source": "01cf4e327d9a409333ed2cc4f29b9fbc-3",
        "target": "01cf4e327d9a409333ed2cc4f29b9fbc-1"
       },
       "group": "edges"
      }
     },
     "b5a0535c5185402331f1f53c3921f7f5": {
      "model_module": "cytoscape-clj",
      "model_module_version": "^0.2.0",
      "model_name": "ElementModel",
      "state": {
       "_model_module_version": "^0.2.0",
       "_view_module_version": "^0.2.0",
       "classes": [
        "4d7055f90f044263acf600968ba688d7"
       ],
       "data": {
        "id": "4d7055f90f044263acf600968ba688d7",
        "name": "cola-layout"
       },
       "position": {
        "x": 1259.41906006006,
        "y": 524.4449070548817
       }
      }
     },
     "b90a68d50ebd4a998505da1c639402fe": {
      "model_module": "cytoscape-clj",
      "model_module_version": "^0.2.0",
      "model_name": "ElementModel",
      "state": {
       "_model_module_version": "^0.2.0",
       "_view_module_version": "^0.2.0",
       "classes": [
        "01cf4e327d9a409333ed2cc4f29b9fbc",
        "child"
       ],
       "data": {
        "id": "01cf4e327d9a409333ed2cc4f29b9fbc-3",
        "name": "3",
        "parent": "01cf4e327d9a409333ed2cc4f29b9fbc"
       },
       "position": {
        "x": 1192.066048694107,
        "y": 258.11626414829027
       }
      }
     },
     "b942f700f876462926a56e93219f9bbf": {
      "model_module": "cytoscape-clj",
      "model_module_version": "^0.2.0",
      "model_name": "ElementModel",
      "state": {
       "_model_module_version": "^0.2.0",
       "_view_module_version": "^0.2.0",
       "classes": [
        "67619e6b9eea49eb666204880eb831b9"
       ],
       "data": {
        "id": "8ac0de3ef7474dc1ff0dfd7ddbbd7d73",
        "parent": "67619e6b9eea49eb666204880eb831b9",
        "source": "67619e6b9eea49eb666204880eb831b9-2",
        "target": "67619e6b9eea49eb666204880eb831b9-1"
       },
       "group": "edges"
      }
     },
     "baccf42f8d9147dc1c30e7a364fe0989": {
      "model_module": "cytoscape-clj",
      "model_module_version": "^0.2.0",
      "model_name": "ElementModel",
      "state": {
       "_model_module_version": "^0.2.0",
       "_view_module_version": "^0.2.0",
       "classes": [
        "67619e6b9eea49eb666204880eb831b9",
        "child"
       ],
       "data": {
        "id": "67619e6b9eea49eb666204880eb831b9-1",
        "name": "1",
        "parent": "67619e6b9eea49eb666204880eb831b9"
       },
       "position": {
        "x": 596.030203924798,
        "y": 559.762977593892
       }
      }
     },
     "bc3c715e524c4b33dde5190475cf482e": {
      "model_module": "cytoscape-clj",
      "model_module_version": "^0.2.0",
      "model_name": "ElementModel",
      "state": {
       "_model_module_version": "^0.2.0",
       "_view_module_version": "^0.2.0",
       "classes": [
        "4d7055f90f044263acf600968ba688d7"
       ],
       "data": {
        "id": "25a37e3a060745d01913a45037d2b398",
        "parent": "4d7055f90f044263acf600968ba688d7",
        "source": "4d7055f90f044263acf600968ba688d7-2",
        "target": "4d7055f90f044263acf600968ba688d7-6"
       },
       "group": "edges"
      }
     },
     "bc8828fbfc634e7aa5039d0ce3f5336c": {
      "model_module": "cytoscape-clj",
      "model_module_version": "^0.2.0",
      "model_name": "ElementModel",
      "state": {
       "_model_module_version": "^0.2.0",
       "_view_module_version": "^0.2.0",
       "classes": [
        "fdb0d432368543225f0d8090aa5701b1"
       ],
       "data": {
        "id": "1aa94a5c417743e340ba343d55fe862f",
        "parent": "fdb0d432368543225f0d8090aa5701b1",
        "source": "fdb0d432368543225f0d8090aa5701b1-5",
        "target": "fdb0d432368543225f0d8090aa5701b1-6"
       },
       "group": "edges"
      }
     },
     "bcaf5235147c4707160360f805066895": {
      "model_module": "cytoscape-clj",
      "model_module_version": "^0.2.0",
      "model_name": "ElementModel",
      "state": {
       "_model_module_version": "^0.2.0",
       "_view_module_version": "^0.2.0",
       "classes": [
        "0624a4ea1dab4b096a3ba19381276b81"
       ],
       "data": {
        "id": "0624a4ea1dab4b096a3ba19381276b81",
        "name": "random-layout"
       }
      }
     },
     "bd9e0f118c4641e3d89f654851e0ea76": {
      "model_module": "cytoscape-clj",
      "model_module_version": "^0.2.0",
      "model_name": "ElementModel",
      "state": {
       "_model_module_version": "^0.2.0",
       "_view_module_version": "^0.2.0",
       "classes": [
        "e7ac543e5d224583f1cd985b692bc794"
       ],
       "data": {
        "id": "48647b666a354fb0f006e195eb952dd2",
        "parent": "e7ac543e5d224583f1cd985b692bc794",
        "source": "e7ac543e5d224583f1cd985b692bc794-4",
        "target": "e7ac543e5d224583f1cd985b692bc794-5"
       },
       "group": "edges"
      }
     },
     "bf364e35322943d492bceccf30f8bbcf": {
      "model_module": "cytoscape-clj",
      "model_module_version": "^0.2.0",
      "model_name": "ElementModel",
      "state": {
       "_model_module_version": "^0.2.0",
       "_view_module_version": "^0.2.0",
       "classes": [
        "dde200c77b61497e4fda81d9c8d04434"
       ],
       "data": {
        "id": "16b716b20e6f45aa2de1374f04033973",
        "parent": "dde200c77b61497e4fda81d9c8d04434",
        "source": "dde200c77b61497e4fda81d9c8d04434-4",
        "target": "dde200c77b61497e4fda81d9c8d04434-5"
       },
       "group": "edges"
      }
     },
     "bfcffa5296fa49be95cb8ffc6f9f25e0": {
      "model_module": "cytoscape-clj",
      "model_module_version": "^0.2.0",
      "model_name": "ElementModel",
      "state": {
       "_model_module_version": "^0.2.0",
       "_view_module_version": "^0.2.0",
       "classes": [
        "0624a4ea1dab4b096a3ba19381276b81"
       ],
       "data": {
        "id": "a5d78e490a6d4d552c988846d7419f26",
        "parent": "0624a4ea1dab4b096a3ba19381276b81",
        "source": "0624a4ea1dab4b096a3ba19381276b81-0",
        "target": "0624a4ea1dab4b096a3ba19381276b81-6"
       },
       "group": "edges"
      }
     },
     "bff4af38c3c24ade8c7a2a65e229eec8": {
      "model_module": "cytoscape-clj",
      "model_module_version": "^0.2.0",
      "model_name": "ElementModel",
      "state": {
       "_model_module_version": "^0.2.0",
       "_view_module_version": "^0.2.0",
       "classes": [
        "01cf4e327d9a409333ed2cc4f29b9fbc",
        "child"
       ],
       "data": {
        "id": "01cf4e327d9a409333ed2cc4f29b9fbc-5",
        "name": "5",
        "parent": "01cf4e327d9a409333ed2cc4f29b9fbc"
       },
       "position": {
        "x": 1023.0086505381812,
        "y": 176.70251207475778
       }
      }
     },
     "c02b57cef66c413227001af325d4426f": {
      "model_module": "cytoscape-clj",
      "model_module_version": "^0.2.0",
      "model_name": "CytoscapeModel",
      "state": {
       "_model_module_version": "^0.2.0",
       "_view_module_version": "^0.2.0",
       "box_selection_enabled": true,
       "desktop_tap_threshold": 4,
       "elements": [
        "IPY_MODEL_66ce2c9b71ed4a631ab14945f952c200",
        "IPY_MODEL_2d65a3fb27fb45868beb3c5933cf2503",
        "IPY_MODEL_cfe8bbcefe3440cbf0df4e1f756d35ef",
        "IPY_MODEL_3a022868e5044ae03b880723fc02500b",
        "IPY_MODEL_120d72feceb2436f520a733ed0c4c099",
        "IPY_MODEL_edf665bee3b2455f0f002b8ba6ef9e32",
        "IPY_MODEL_d7df865af9224b18accc1e597fad7862",
        "IPY_MODEL_409a2034cae44ccf3ca25af73fa6c768",
        "IPY_MODEL_5d899b87073f430cbac99e8fcd8dd934",
        "IPY_MODEL_5c203b4d2e1d4ce476a3cc8482a30ace",
        "IPY_MODEL_d1734c317af74a652f43f21fbc378ed9",
        "IPY_MODEL_7d6dbbf6f5124f5cdcfe2659ece88bff",
        "IPY_MODEL_df5dd789c0a84c06525793f5052afd5b",
        "IPY_MODEL_767af686674d423fd2e2fa1942901185",
        "IPY_MODEL_3246d84c0e13481ac9a8adedfe28cfc2",
        "IPY_MODEL_9f2231fc1dbd400df2d9142488b26270",
        "IPY_MODEL_9a75219d46c24d9aa71c6bc0901b7f11",
        "IPY_MODEL_52ecea7bf5f348b34d7c87ebbdb4b2ba",
        "IPY_MODEL_bd9e0f118c4641e3d89f654851e0ea76",
        "IPY_MODEL_c3992d01a7e447707a86e5a0bf3d356f",
        "IPY_MODEL_6fd5d93644254bbed3920eed39b1b4d4",
        "IPY_MODEL_8cde5280125b477580854dc051d239e6",
        "IPY_MODEL_e8333592321d4959296f6ff2ac910da7",
        "IPY_MODEL_bcaf5235147c4707160360f805066895",
        "IPY_MODEL_fe4fe2cc313f4789e05302b74fa0b87d",
        "IPY_MODEL_b4d56703681e477698a57a12218b544a",
        "IPY_MODEL_d1e5ed326ad94ca0d79b91b912434d60",
        "IPY_MODEL_af52c89178a544cb4d4be23d087635ed",
        "IPY_MODEL_19f5d4f64a6444217dd53c38acbeba6e",
        "IPY_MODEL_ef6ee2a05f3140747fcf30aaf2b221d1",
        "IPY_MODEL_e695d27a450c443048f70a6ca329061e",
        "IPY_MODEL_8c7e177420b843b539d0494b23750aaf",
        "IPY_MODEL_001b27cef2cb42592e06f593c5954fb5",
        "IPY_MODEL_bfcffa5296fa49be95cb8ffc6f9f25e0",
        "IPY_MODEL_465b7390eaf546927f79ec50dd4fedeb",
        "IPY_MODEL_5c60a1a9859f4027d2c06500e99899b0",
        "IPY_MODEL_3b5576b057c249a9fb4ce2f6df1305d3",
        "IPY_MODEL_6d5b63851b9740cc4ee77e17be2fc92d",
        "IPY_MODEL_6f1d45f682604162f365ac8726834d04",
        "IPY_MODEL_9d8c0f11345e48dafe70b18eb661b5e3",
        "IPY_MODEL_58307ae29e2a4591d422094538233be2",
        "IPY_MODEL_9185e22aad80454f9f1673acd04a8445",
        "IPY_MODEL_efc350a4832549bce12d25ae48b74c1c",
        "IPY_MODEL_e0bc2f8bbe1d42fa62b5138671d34961",
        "IPY_MODEL_6790f60783d8420664faa5b31c7197fd",
        "IPY_MODEL_d351c7e153fe4f3389e97e8655de3ead",
        "IPY_MODEL_ae7486b882de4c9e4da3fc97ff602bfc",
        "IPY_MODEL_f058676d33a84951eae14e0ae3343a61",
        "IPY_MODEL_53ecb800725640a05c703bc5129766cf",
        "IPY_MODEL_e8d8ca17c8a445d478813a84b82ed868",
        "IPY_MODEL_220f974c9a8a458aedcb59e1cd3c9c87",
        "IPY_MODEL_aa3739eca32340662830ff684fadb2b6",
        "IPY_MODEL_c7aa3138d9bb440636d86f02be907e11",
        "IPY_MODEL_8b2d32bc759c4565b5ab54579ff12a1d",
        "IPY_MODEL_4ffc217011a1474b5884bc73b3518715",
        "IPY_MODEL_9aa6cb7092144779d6f4d495ae6db718",
        "IPY_MODEL_8b1674e7111a482e11c5067d5ed16ed2",
        "IPY_MODEL_9bbf336368a545ce619f69e40e814e2d",
        "IPY_MODEL_ab7b2a3e06ea4842bc21ac5ead8541f4",
        "IPY_MODEL_ee43f33ca2d2409d9fa2882745e5c4c4",
        "IPY_MODEL_1a8546313aa44d86c287e01acb8d697b",
        "IPY_MODEL_80ec67449ab74282754efbc3419e385c",
        "IPY_MODEL_2daebaa02cc64df9cd1a6066e2742bb1",
        "IPY_MODEL_c1720b2ce4c3489fced229bb70afde4e",
        "IPY_MODEL_51e71ce00c0b4158748ec76e731ec045",
        "IPY_MODEL_d179c5c36c9f441bae88a69bcfe14c5a",
        "IPY_MODEL_a69e46ed8bca447dc9b3f370eca99884",
        "IPY_MODEL_2776efc347674e803126010c507e58b7",
        "IPY_MODEL_bc8828fbfc634e7aa5039d0ce3f5336c",
        "IPY_MODEL_f36c80a4d4984d45cca349b2142bbec4",
        "IPY_MODEL_64705af65c054e4a4f82c30100480d90",
        "IPY_MODEL_d9960f6d52514d2d138d5e73056dec3a",
        "IPY_MODEL_71842e4dc34f49573ee4642c0c27bfa4",
        "IPY_MODEL_b90a68d50ebd4a998505da1c639402fe",
        "IPY_MODEL_5967dd71ac144f85b857d29e28b0cb21",
        "IPY_MODEL_bff4af38c3c24ade8c7a2a65e229eec8",
        "IPY_MODEL_c051a7ae87ac42c52a970381a2d5a4d9",
        "IPY_MODEL_701f4163ac2245fa38fa6d37372ed1a1",
        "IPY_MODEL_47eb9e606c7e40ca82fa8a13dcebd059",
        "IPY_MODEL_9a83148180bd4214a3b64f87535cdbed",
        "IPY_MODEL_6bec1f022d514dcbb012a9bcda4d9578",
        "IPY_MODEL_2baac451afec4167005b84360f3bad58",
        "IPY_MODEL_50d066622c6340cd6f86b59d6c105a7c",
        "IPY_MODEL_cbc1132fb7eb42e61f496c476a76ef8d",
        "IPY_MODEL_57fe6e24d96249bea093edc414014235",
        "IPY_MODEL_b4db9cae00a94a37ca6e27c80d4f43ce",
        "IPY_MODEL_6116f20cd7664f13b64e9b53f23c151a",
        "IPY_MODEL_31b0f6ab143043dab391b2f69291d4c2",
        "IPY_MODEL_0dbdf52b8c484717b8c9aa263e4f4d67",
        "IPY_MODEL_aaa00ff8dd5c441dacfc9ca0732b46c3",
        "IPY_MODEL_f55d55773b494d627366984597c37b0e",
        "IPY_MODEL_a88ec6737dc44ab357defc84b1c1a793",
        "IPY_MODEL_c698ce0d816c4e81c59d74ad7ef85d90",
        "IPY_MODEL_e7a7e814cf0b4fef34fde683aa0dfa35",
        "IPY_MODEL_07d4a27b454e487c3bbb42d4dad2185b",
        "IPY_MODEL_f77edd6a11884aed151423d3e6ecb65f",
        "IPY_MODEL_395c4660557040c9a3d936200527525e",
        "IPY_MODEL_3c51028409524f689e90b41d01f350d8",
        "IPY_MODEL_b081c5bf260e40ebc9cb850376416e0b",
        "IPY_MODEL_2721f762f5354ff207bbe19d96de5f3f",
        "IPY_MODEL_9a0afd9a8db74e40be00f63ade335041",
        "IPY_MODEL_eb55acef40ed4d9ed7ebba6b60c83b2e",
        "IPY_MODEL_a2adc9ced28e4c48ba0fe85a2294341b",
        "IPY_MODEL_66086095b6aa4d8c3fb7086795055ca5",
        "IPY_MODEL_87e2a5e0043743810bd55c5d41cdc5fd",
        "IPY_MODEL_8829bf682e2f48d926697b3637ccea71",
        "IPY_MODEL_4eb2934cf8d74170be682e3640b5526d",
        "IPY_MODEL_dd274d41d74e45d6ac129baf6044df1a",
        "IPY_MODEL_07a5ac50875142b974caffb2ba41a110",
        "IPY_MODEL_e9612b014529492aa0bc3cde0f8b8e78",
        "IPY_MODEL_bf364e35322943d492bceccf30f8bbcf",
        "IPY_MODEL_61f7af8d5e95416bedc757e3ffe032e1",
        "IPY_MODEL_0fe18e166f134b6438a937686fd6398d",
        "IPY_MODEL_ade14548e6dc4700d6a7c87a4672045f",
        "IPY_MODEL_9033ba0c81a5414ca737f410dc44b8c0",
        "IPY_MODEL_2060376e7b3e4f6af1497b5cf10e8be1",
        "IPY_MODEL_68ccb3e49cc94194c547b43f3adbe1b9",
        "IPY_MODEL_baccf42f8d9147dc1c30e7a364fe0989",
        "IPY_MODEL_769dc11cb2764bdcde54d11a5ea4cfb9",
        "IPY_MODEL_0ee02d5c8ca8408fd869c3d02a1b4926",
        "IPY_MODEL_9c3bd34f8d4849991ce2c9d259f5fc04",
        "IPY_MODEL_d8c47ae8f8314c0472f4985207cd6522",
        "IPY_MODEL_4f3a63dbfd0b45edccd440139b26d569",
        "IPY_MODEL_8730d442e06e46d8f46ebc9f59897fa9",
        "IPY_MODEL_31e706d143754b96a31f16ad83908e44",
        "IPY_MODEL_60442f5b28ed4c0fd002293fe8d0040d",
        "IPY_MODEL_9e681caec3664a23ab8faecf552655b2",
        "IPY_MODEL_95a117e84ef34c25d9c7de1da7f25d6e",
        "IPY_MODEL_f1fad7b3fcc2400f6c8c081eb82cf2a6",
        "IPY_MODEL_b942f700f876462926a56e93219f9bbf",
        "IPY_MODEL_47e39b869fea40d64b17d1ff38e1f52f",
        "IPY_MODEL_eab370afb81348b5d95f12dbcacc3338",
        "IPY_MODEL_ce4fe4fdd4e842a1a82a4faf14686554",
        "IPY_MODEL_53bba5fb5acb43fe34f8da87ab8148d1",
        "IPY_MODEL_496c90f43963458249f8442adc413a08",
        "IPY_MODEL_c6bdb89d356a4c2dd27101ca14d91b23",
        "IPY_MODEL_7bad8a8cc0b14720055b6e6aa35f81da",
        "IPY_MODEL_b3d686cee56b459a20bdf6f506bba890",
        "IPY_MODEL_b5a0535c5185402331f1f53c3921f7f5",
        "IPY_MODEL_9b8dd6569e4f42562b87fccdb133052c",
        "IPY_MODEL_36724a63f567475aa36f6aca2787d877",
        "IPY_MODEL_9d4f085e9f9545c47cbd2abe19141016",
        "IPY_MODEL_2662fb378ff14ee9c6bc2eb5777c9068",
        "IPY_MODEL_7c47d7004ea4422ba13b2589cba50026",
        "IPY_MODEL_fb182cd0391b4238e4f1d57303987766",
        "IPY_MODEL_3f417acd4b8c49e4020c74a085121bbe",
        "IPY_MODEL_08b63b321ccd4bdfe5b079b439a853f5",
        "IPY_MODEL_8085c594e17e4ac033df0150e1b5686a",
        "IPY_MODEL_318089cb43cf4ca06406295741665932",
        "IPY_MODEL_140eacb7454b437837beff11c8e7c757",
        "IPY_MODEL_e98da1eab366452d11a8983e8bbadc66",
        "IPY_MODEL_1a6c5d65b9c2449dcc0c35efc4354757",
        "IPY_MODEL_d5a1ac05ce6d45f6cedca15cdce32328",
        "IPY_MODEL_bc3c715e524c4b33dde5190475cf482e",
        "IPY_MODEL_428b7d9da61e468d10a7e7f53cb78242",
        "IPY_MODEL_707fcaa5c0a0420afbd78516e5a795f1",
        "IPY_MODEL_563dcec338eb4465a977fe19879f1c50",
        "IPY_MODEL_0876547dd66640086f38e3327a066b5c",
        "IPY_MODEL_ddcd61b9f2cf4c43a95d030d40e0a67c",
        "IPY_MODEL_169a50cd5f9c4330cb5610840146dc75",
        "IPY_MODEL_b29d2d34cd2e4e771593b55c2ec3809f",
        "IPY_MODEL_5fcc205161814c9521253f28f42d9617",
        "IPY_MODEL_107a785eab334a957f8664398c84e02c",
        "IPY_MODEL_962a04ba42d34f4698a0327f17f38eef",
        "IPY_MODEL_252ba70f62294a11a832af2f42d3cc06",
        "IPY_MODEL_0edc41f3e08a42e7f5f53b883f53974d",
        "IPY_MODEL_3bf220d9b4c54fbd3b240086ae403b7b",
        "IPY_MODEL_c3a9158e81744f29373a973630d91fa7",
        "IPY_MODEL_daa5021e46634dc75e4b711c87909b20",
        "IPY_MODEL_d3469ee86925423db1e26512066a46ab",
        "IPY_MODEL_4838528096ca47759eeb7f2ab6dad41d",
        "IPY_MODEL_4c054875395847cacfa25a691ab76820",
        "IPY_MODEL_56f1477e24f547bf0974d49cf7e06fc1",
        "IPY_MODEL_8ab31f592c3345465280a6cd88761288",
        "IPY_MODEL_cefae964e9d24c2c2d7c0c465d742f51",
        "IPY_MODEL_b0461dd0ca064660275e67f6be3bed86",
        "IPY_MODEL_3bfe02bcafcf409a21fd71d6b5769a69",
        "IPY_MODEL_06d10474c5184da8a31d908d54b9bccc",
        "IPY_MODEL_0ad8fd34037546b76879de0680594b10",
        "IPY_MODEL_a908e142eccb41fde0f340dfe03b0a48",
        "IPY_MODEL_4321de17a8bf4079f43ccd27e377f33a",
        "IPY_MODEL_c20acaa8179d4b6487c29a8d492d9357",
        "IPY_MODEL_564b30cc357b46f544e01753bfb3b565",
        "IPY_MODEL_e725071ee6db4e942218b13e1390cde3"
       ],
       "graph_layouts": [
        "IPY_MODEL_5d673d4a53f6424b9c583b39841d8d12",
        "IPY_MODEL_e3c4f3b75e1e43adc250323a61a58ae6",
        "IPY_MODEL_2f7215e491074036d0872cfedfb2ee71",
        "IPY_MODEL_40a285c6d2db4f6e9d976e01e8548046",
        "IPY_MODEL_8225af44f4c14c342422e5c054f6cf97",
        "IPY_MODEL_1296772a2a634a4e738dcfc22c640efd",
        "IPY_MODEL_21a3a3687808463b6ce20dfb4b05ec2c",
        "IPY_MODEL_c184e064996b420fb325bd23d066ead1"
       ],
       "graph_style": "node { content: data(name); } \n                                                  node.child { text-valign: center; text-halign: center; }\n                                                  edge { curve-style: bezier; }",
       "layout": "IPY_MODEL_de4a88744d824050e1fbe5450cfc013e",
       "max_zoom": 9.999999999999999e+49,
       "min_zoom": 1.0000000000000001e-50,
       "pan": {
        "x": 152.97926172854653,
        "y": 101.0094906854383
       },
       "style": "IPY_MODEL_3739cf5d9d7046dec26b53d3c034e111",
       "tooltip_source": "tooltip",
       "zoom": 0.6986276845275937
      }
     },
     "c051a7ae87ac42c52a970381a2d5a4d9": {
      "model_module": "cytoscape-clj",
      "model_module_version": "^0.2.0",
      "model_name": "ElementModel",
      "state": {
       "_model_module_version": "^0.2.0",
       "_view_module_version": "^0.2.0",
       "classes": [
        "01cf4e327d9a409333ed2cc4f29b9fbc",
        "child"
       ],
       "data": {
        "id": "01cf4e327d9a409333ed2cc4f29b9fbc-6",
        "name": "6",
        "parent": "01cf4e327d9a409333ed2cc4f29b9fbc"
       },
       "position": {
        "x": 1046.1802221038365,
        "y": 75.18122377695201
       }
      }
     },
     "c1720b2ce4c3489fced229bb70afde4e": {
      "model_module": "cytoscape-clj",
      "model_module_version": "^0.2.0",
      "model_name": "ElementModel",
      "state": {
       "_model_module_version": "^0.2.0",
       "_view_module_version": "^0.2.0",
       "classes": [
        "fdb0d432368543225f0d8090aa5701b1"
       ],
       "data": {
        "id": "d839722976a24e1cde5eb01405153fce",
        "parent": "fdb0d432368543225f0d8090aa5701b1",
        "source": "fdb0d432368543225f0d8090aa5701b1-3",
        "target": "fdb0d432368543225f0d8090aa5701b1-6"
       },
       "group": "edges"
      }
     },
     "c184e064996b420fb325bd23d066ead1": {
      "model_module": "cytoscape-clj",
      "model_module_version": "^0.2.0",
      "model_name": "DagreLayoutModel",
      "state": {
       "_model_module_version": "^0.2.0",
       "_view_module_version": "^0.2.0",
       "animate": true,
       "animation_duration": 250,
       "bounding_box": {
        "h": 300,
        "w": 300,
        "x1": 990,
        "x2": 1290,
        "y1": 330,
        "y2": 630
       },
       "fit": false,
       "min_length": 1,
       "selector": ".375465a84ba44ab260b4a65d0f47b249"
      }
     },
     "c20acaa8179d4b6487c29a8d492d9357": {
      "model_module": "cytoscape-clj",
      "model_module_version": "^0.2.0",
      "model_name": "ElementModel",
      "state": {
       "_model_module_version": "^0.2.0",
       "_view_module_version": "^0.2.0",
       "classes": [
        "375465a84ba44ab260b4a65d0f47b249"
       ],
       "data": {
        "id": "e0a12afb2f2d429624b0cbdf05ada2cc",
        "parent": "375465a84ba44ab260b4a65d0f47b249",
        "source": "375465a84ba44ab260b4a65d0f47b249-4",
        "target": "375465a84ba44ab260b4a65d0f47b249-6"
       },
       "group": "edges"
      }
     },
     "c3992d01a7e447707a86e5a0bf3d356f": {
      "model_module": "cytoscape-clj",
      "model_module_version": "^0.2.0",
      "model_name": "ElementModel",
      "state": {
       "_model_module_version": "^0.2.0",
       "_view_module_version": "^0.2.0",
       "classes": [
        "e7ac543e5d224583f1cd985b692bc794"
       ],
       "data": {
        "id": "9ec7511dbec94ccb9aa92edde900f773",
        "parent": "e7ac543e5d224583f1cd985b692bc794",
        "source": "e7ac543e5d224583f1cd985b692bc794-4",
        "target": "e7ac543e5d224583f1cd985b692bc794-3"
       },
       "group": "edges"
      }
     },
     "c3a9158e81744f29373a973630d91fa7": {
      "model_module": "cytoscape-clj",
      "model_module_version": "^0.2.0",
      "model_name": "ElementModel",
      "state": {
       "_model_module_version": "^0.2.0",
       "_view_module_version": "^0.2.0",
       "classes": [
        "375465a84ba44ab260b4a65d0f47b249",
        "child"
       ],
       "data": {
        "id": "375465a84ba44ab260b4a65d0f47b249-5",
        "name": "5",
        "parent": "375465a84ba44ab260b4a65d0f47b249"
       },
       "position": {
        "x": 963.1362779780524,
        "y": 487.6855000477483
       }
      }
     },
     "c698ce0d816c4e81c59d74ad7ef85d90": {
      "model_module": "cytoscape-clj",
      "model_module_version": "^0.2.0",
      "model_name": "ElementModel",
      "state": {
       "_model_module_version": "^0.2.0",
       "_view_module_version": "^0.2.0",
       "classes": [
        "dde200c77b61497e4fda81d9c8d04434"
       ],
       "data": {
        "id": "dde200c77b61497e4fda81d9c8d04434",
        "name": "concentric-layout"
       }
      }
     },
     "c6bdb89d356a4c2dd27101ca14d91b23": {
      "model_module": "cytoscape-clj",
      "model_module_version": "^0.2.0",
      "model_name": "ElementModel",
      "state": {
       "_model_module_version": "^0.2.0",
       "_view_module_version": "^0.2.0",
       "classes": [
        "67619e6b9eea49eb666204880eb831b9"
       ],
       "data": {
        "id": "0d7ccd67cb934334f2c48f17ad4b1621",
        "parent": "67619e6b9eea49eb666204880eb831b9",
        "source": "67619e6b9eea49eb666204880eb831b9-4",
        "target": "67619e6b9eea49eb666204880eb831b9-6"
       },
       "group": "edges"
      }
     },
     "c7aa3138d9bb440636d86f02be907e11": {
      "model_module": "cytoscape-clj",
      "model_module_version": "^0.2.0",
      "model_name": "ElementModel",
      "state": {
       "_model_module_version": "^0.2.0",
       "_view_module_version": "^0.2.0",
       "classes": [
        "fdb0d432368543225f0d8090aa5701b1",
        "child"
       ],
       "data": {
        "id": "fdb0d432368543225f0d8090aa5701b1-5",
        "name": "5",
        "parent": "fdb0d432368543225f0d8090aa5701b1"
       },
       "position": {
        "x": 910,
        "y": 150
       }
      }
     },
     "cbc1132fb7eb42e61f496c476a76ef8d": {
      "model_module": "cytoscape-clj",
      "model_module_version": "^0.2.0",
      "model_name": "ElementModel",
      "state": {
       "_model_module_version": "^0.2.0",
       "_view_module_version": "^0.2.0",
       "classes": [
        "01cf4e327d9a409333ed2cc4f29b9fbc"
       ],
       "data": {
        "id": "a53713ad96104d1ad1cf5a6e18e7483d",
        "parent": "01cf4e327d9a409333ed2cc4f29b9fbc",
        "source": "01cf4e327d9a409333ed2cc4f29b9fbc-2",
        "target": "01cf4e327d9a409333ed2cc4f29b9fbc-1"
       },
       "group": "edges"
      }
     },
     "ce4fe4fdd4e842a1a82a4faf14686554": {
      "model_module": "cytoscape-clj",
      "model_module_version": "^0.2.0",
      "model_name": "ElementModel",
      "state": {
       "_model_module_version": "^0.2.0",
       "_view_module_version": "^0.2.0",
       "classes": [
        "67619e6b9eea49eb666204880eb831b9"
       ],
       "data": {
        "id": "676586f8df6f435c3d7f88828c0146d7",
        "parent": "67619e6b9eea49eb666204880eb831b9",
        "source": "67619e6b9eea49eb666204880eb831b9-3",
        "target": "67619e6b9eea49eb666204880eb831b9-6"
       },
       "group": "edges"
      }
     },
     "cefae964e9d24c2c2d7c0c465d742f51": {
      "model_module": "cytoscape-clj",
      "model_module_version": "^0.2.0",
      "model_name": "ElementModel",
      "state": {
       "_model_module_version": "^0.2.0",
       "_view_module_version": "^0.2.0",
       "classes": [
        "375465a84ba44ab260b4a65d0f47b249"
       ],
       "data": {
        "id": "22487201d6f6450da0d4a2fa082439ce",
        "parent": "375465a84ba44ab260b4a65d0f47b249",
        "source": "375465a84ba44ab260b4a65d0f47b249-2",
        "target": "375465a84ba44ab260b4a65d0f47b249-3"
       },
       "group": "edges"
      }
     },
     "cfe8bbcefe3440cbf0df4e1f756d35ef": {
      "model_module": "cytoscape-clj",
      "model_module_version": "^0.2.0",
      "model_name": "ElementModel",
      "state": {
       "_model_module_version": "^0.2.0",
       "_view_module_version": "^0.2.0",
       "classes": [
        "e7ac543e5d224583f1cd985b692bc794",
        "child"
       ],
       "data": {
        "id": "e7ac543e5d224583f1cd985b692bc794-1",
        "name": "1",
        "parent": "e7ac543e5d224583f1cd985b692bc794"
       },
       "position": {
        "x": 75,
        "y": 150
       }
      }
     },
     "d1734c317af74a652f43f21fbc378ed9": {
      "model_module": "cytoscape-clj",
      "model_module_version": "^0.2.0",
      "model_name": "ElementModel",
      "state": {
       "_model_module_version": "^0.2.0",
       "_view_module_version": "^0.2.0",
       "classes": [
        "e7ac543e5d224583f1cd985b692bc794"
       ],
       "data": {
        "id": "199fda48b76341980b1a203354e130d9",
        "parent": "e7ac543e5d224583f1cd985b692bc794",
        "source": "e7ac543e5d224583f1cd985b692bc794-0",
        "target": "e7ac543e5d224583f1cd985b692bc794-6"
       },
       "group": "edges"
      }
     },
     "d179c5c36c9f441bae88a69bcfe14c5a": {
      "model_module": "cytoscape-clj",
      "model_module_version": "^0.2.0",
      "model_name": "ElementModel",
      "state": {
       "_model_module_version": "^0.2.0",
       "_view_module_version": "^0.2.0",
       "classes": [
        "fdb0d432368543225f0d8090aa5701b1"
       ],
       "data": {
        "id": "006abdd09bc242351fd06bcd6a730711",
        "parent": "fdb0d432368543225f0d8090aa5701b1",
        "source": "fdb0d432368543225f0d8090aa5701b1-4",
        "target": "fdb0d432368543225f0d8090aa5701b1-3"
       },
       "group": "edges"
      }
     },
     "d1e5ed326ad94ca0d79b91b912434d60": {
      "model_module": "cytoscape-clj",
      "model_module_version": "^0.2.0",
      "model_name": "ElementModel",
      "state": {
       "_model_module_version": "^0.2.0",
       "_view_module_version": "^0.2.0",
       "classes": [
        "0624a4ea1dab4b096a3ba19381276b81",
        "child"
       ],
       "data": {
        "id": "0624a4ea1dab4b096a3ba19381276b81-2",
        "name": "2",
        "parent": "0624a4ea1dab4b096a3ba19381276b81"
       },
       "position": {
        "x": 438,
        "y": 54
       }
      }
     },
     "d3469ee86925423db1e26512066a46ab": {
      "model_module": "cytoscape-clj",
      "model_module_version": "^0.2.0",
      "model_name": "ElementModel",
      "state": {
       "_model_module_version": "^0.2.0",
       "_view_module_version": "^0.2.0",
       "classes": [
        "375465a84ba44ab260b4a65d0f47b249"
       ],
       "data": {
        "id": "955f88233b864cbaff12a22c4ad5f428",
        "parent": "375465a84ba44ab260b4a65d0f47b249",
        "source": "375465a84ba44ab260b4a65d0f47b249-0",
        "target": "375465a84ba44ab260b4a65d0f47b249-1"
       },
       "group": "edges"
      }
     },
     "d351c7e153fe4f3389e97e8655de3ead": {
      "model_module": "cytoscape-clj",
      "model_module_version": "^0.2.0",
      "model_name": "ElementModel",
      "state": {
       "_model_module_version": "^0.2.0",
       "_view_module_version": "^0.2.0",
       "classes": [
        "0624a4ea1dab4b096a3ba19381276b81"
       ],
       "data": {
        "id": "2a5e556366fa4044d0b382246bb17166",
        "parent": "0624a4ea1dab4b096a3ba19381276b81",
        "source": "0624a4ea1dab4b096a3ba19381276b81-5",
        "target": "0624a4ea1dab4b096a3ba19381276b81-6"
       },
       "group": "edges"
      }
     },
     "d5a1ac05ce6d45f6cedca15cdce32328": {
      "model_module": "cytoscape-clj",
      "model_module_version": "^0.2.0",
      "model_name": "ElementModel",
      "state": {
       "_model_module_version": "^0.2.0",
       "_view_module_version": "^0.2.0",
       "classes": [
        "4d7055f90f044263acf600968ba688d7"
       ],
       "data": {
        "id": "f7ffb2ab7795479494fea20767a1bae7",
        "parent": "4d7055f90f044263acf600968ba688d7",
        "source": "4d7055f90f044263acf600968ba688d7-2",
        "target": "4d7055f90f044263acf600968ba688d7-1"
       },
       "group": "edges"
      }
     },
     "d7df865af9224b18accc1e597fad7862": {
      "model_module": "cytoscape-clj",
      "model_module_version": "^0.2.0",
      "model_name": "ElementModel",
      "state": {
       "_model_module_version": "^0.2.0",
       "_view_module_version": "^0.2.0",
       "classes": [
        "e7ac543e5d224583f1cd985b692bc794",
        "child"
       ],
       "data": {
        "id": "e7ac543e5d224583f1cd985b692bc794-5",
        "name": "5",
        "parent": "e7ac543e5d224583f1cd985b692bc794"
       },
       "position": {
        "x": 225,
        "y": 150
       }
      }
     },
     "d8c47ae8f8314c0472f4985207cd6522": {
      "model_module": "cytoscape-clj",
      "model_module_version": "^0.2.0",
      "model_name": "ElementModel",
      "state": {
       "_model_module_version": "^0.2.0",
       "_view_module_version": "^0.2.0",
       "classes": [
        "67619e6b9eea49eb666204880eb831b9",
        "child"
       ],
       "data": {
        "id": "67619e6b9eea49eb666204880eb831b9-5",
        "name": "5",
        "parent": "67619e6b9eea49eb666204880eb831b9"
       },
       "position": {
        "x": 567.7288942002983,
        "y": 330
       }
      }
     },
     "d9960f6d52514d2d138d5e73056dec3a": {
      "model_module": "cytoscape-clj",
      "model_module_version": "^0.2.0",
      "model_name": "ElementModel",
      "state": {
       "_model_module_version": "^0.2.0",
       "_view_module_version": "^0.2.0",
       "classes": [
        "01cf4e327d9a409333ed2cc4f29b9fbc",
        "child"
       ],
       "data": {
        "id": "01cf4e327d9a409333ed2cc4f29b9fbc-1",
        "name": "1",
        "parent": "01cf4e327d9a409333ed2cc4f29b9fbc"
       },
       "position": {
        "x": 1233.8197778961635,
        "y": 75.18122377695195
       }
      }
     },
     "daa5021e46634dc75e4b711c87909b20": {
      "model_module": "cytoscape-clj",
      "model_module_version": "^0.2.0",
      "model_name": "ElementModel",
      "state": {
       "_model_module_version": "^0.2.0",
       "_view_module_version": "^0.2.0",
       "classes": [
        "375465a84ba44ab260b4a65d0f47b249",
        "child"
       ],
       "data": {
        "id": "375465a84ba44ab260b4a65d0f47b249-6",
        "name": "6",
        "parent": "375465a84ba44ab260b4a65d0f47b249"
       },
       "position": {
        "x": 886.5405332972013,
        "y": 637.6855000477483
       }
      }
     },
     "dd274d41d74e45d6ac129baf6044df1a": {
      "model_module": "cytoscape-clj",
      "model_module_version": "^0.2.0",
      "model_name": "ElementModel",
      "state": {
       "_model_module_version": "^0.2.0",
       "_view_module_version": "^0.2.0",
       "classes": [
        "dde200c77b61497e4fda81d9c8d04434"
       ],
       "data": {
        "id": "241aa59e5fa5483997d5c9296c106d66",
        "parent": "dde200c77b61497e4fda81d9c8d04434",
        "source": "dde200c77b61497e4fda81d9c8d04434-2",
        "target": "dde200c77b61497e4fda81d9c8d04434-6"
       },
       "group": "edges"
      }
     },
     "ddcd61b9f2cf4c43a95d030d40e0a67c": {
      "model_module": "cytoscape-clj",
      "model_module_version": "^0.2.0",
      "model_name": "ElementModel",
      "state": {
       "_model_module_version": "^0.2.0",
       "_view_module_version": "^0.2.0",
       "classes": [
        "4d7055f90f044263acf600968ba688d7"
       ],
       "data": {
        "id": "dc46149756254f14a1777ce8895ad5e3",
        "parent": "4d7055f90f044263acf600968ba688d7",
        "source": "4d7055f90f044263acf600968ba688d7-4",
        "target": "4d7055f90f044263acf600968ba688d7-6"
       },
       "group": "edges"
      }
     },
     "de4a88744d824050e1fbe5450cfc013e": {
      "model_module": "@jupyter-widgets/base",
      "model_module_version": "1.2.0",
      "model_name": "LayoutModel",
      "state": {
       "height": "640px"
      }
     },
     "df5dd789c0a84c06525793f5052afd5b": {
      "model_module": "cytoscape-clj",
      "model_module_version": "^0.2.0",
      "model_name": "ElementModel",
      "state": {
       "_model_module_version": "^0.2.0",
       "_view_module_version": "^0.2.0",
       "classes": [
        "e7ac543e5d224583f1cd985b692bc794"
       ],
       "data": {
        "id": "276eff0848e4448587fa3d3d325618f3",
        "parent": "e7ac543e5d224583f1cd985b692bc794",
        "source": "e7ac543e5d224583f1cd985b692bc794-1",
        "target": "e7ac543e5d224583f1cd985b692bc794-6"
       },
       "group": "edges"
      }
     },
     "e0bc2f8bbe1d42fa62b5138671d34961": {
      "model_module": "cytoscape-clj",
      "model_module_version": "^0.2.0",
      "model_name": "ElementModel",
      "state": {
       "_model_module_version": "^0.2.0",
       "_view_module_version": "^0.2.0",
       "classes": [
        "0624a4ea1dab4b096a3ba19381276b81"
       ],
       "data": {
        "id": "b4b9b82ea5bd42bb6cb7be7ce4a4c0da",
        "parent": "0624a4ea1dab4b096a3ba19381276b81",
        "source": "0624a4ea1dab4b096a3ba19381276b81-4",
        "target": "0624a4ea1dab4b096a3ba19381276b81-6"
       },
       "group": "edges"
      }
     },
     "e3c4f3b75e1e43adc250323a61a58ae6": {
      "model_module": "cytoscape-clj",
      "model_module_version": "^0.2.0",
      "model_name": "RandomLayoutModel",
      "state": {
       "_model_module_version": "^0.2.0",
       "_view_module_version": "^0.2.0",
       "animate": true,
       "animation_duration": 250,
       "bounding_box": {
        "h": 300,
        "w": 300,
        "x1": 330,
        "y1": 0
       },
       "fit": false,
       "selector": ".0624a4ea1dab4b096a3ba19381276b81"
      }
     },
     "e695d27a450c443048f70a6ca329061e": {
      "model_module": "cytoscape-clj",
      "model_module_version": "^0.2.0",
      "model_name": "ElementModel",
      "state": {
       "_model_module_version": "^0.2.0",
       "_view_module_version": "^0.2.0",
       "classes": [
        "0624a4ea1dab4b096a3ba19381276b81",
        "child"
       ],
       "data": {
        "id": "0624a4ea1dab4b096a3ba19381276b81-6",
        "name": "6",
        "parent": "0624a4ea1dab4b096a3ba19381276b81"
       },
       "position": {
        "x": 364,
        "y": 289
       }
      }
     },
     "e725071ee6db4e942218b13e1390cde3": {
      "model_module": "cytoscape-clj",
      "model_module_version": "^0.2.0",
      "model_name": "ElementModel",
      "state": {
       "_model_module_version": "^0.2.0",
       "_view_module_version": "^0.2.0",
       "classes": [
        "375465a84ba44ab260b4a65d0f47b249"
       ],
       "data": {
        "id": "08e1b7365e91437ccf3100db93bfe25f",
        "parent": "375465a84ba44ab260b4a65d0f47b249",
        "source": "375465a84ba44ab260b4a65d0f47b249-5",
        "target": "375465a84ba44ab260b4a65d0f47b249-6"
       },
       "group": "edges"
      }
     },
     "e7a7e814cf0b4fef34fde683aa0dfa35": {
      "model_module": "cytoscape-clj",
      "model_module_version": "^0.2.0",
      "model_name": "ElementModel",
      "state": {
       "_model_module_version": "^0.2.0",
       "_view_module_version": "^0.2.0",
       "classes": [
        "dde200c77b61497e4fda81d9c8d04434",
        "child"
       ],
       "data": {
        "id": "dde200c77b61497e4fda81d9c8d04434-0",
        "name": "0",
        "parent": "dde200c77b61497e4fda81d9c8d04434"
       },
       "position": {
        "x": 150,
        "y": 411.7157287525381
       }
      }
     },
     "e8333592321d4959296f6ff2ac910da7": {
      "model_module": "cytoscape-clj",
      "model_module_version": "^0.2.0",
      "model_name": "ElementModel",
      "state": {
       "_model_module_version": "^0.2.0",
       "_view_module_version": "^0.2.0",
       "classes": [
        "e7ac543e5d224583f1cd985b692bc794"
       ],
       "data": {
        "id": "8c32de07a8194955cbb27a685256a8c8",
        "parent": "e7ac543e5d224583f1cd985b692bc794",
        "source": "e7ac543e5d224583f1cd985b692bc794-5",
        "target": "e7ac543e5d224583f1cd985b692bc794-6"
       },
       "group": "edges"
      }
     },
     "e8d8ca17c8a445d478813a84b82ed868": {
      "model_module": "cytoscape-clj",
      "model_module_version": "^0.2.0",
      "model_name": "ElementModel",
      "state": {
       "_model_module_version": "^0.2.0",
       "_view_module_version": "^0.2.0",
       "classes": [
        "fdb0d432368543225f0d8090aa5701b1",
        "child"
       ],
       "data": {
        "id": "fdb0d432368543225f0d8090aa5701b1-2",
        "name": "2",
        "parent": "fdb0d432368543225f0d8090aa5701b1"
       },
       "position": {
        "x": 910,
        "y": 50
       }
      }
     },
     "e9612b014529492aa0bc3cde0f8b8e78": {
      "model_module": "cytoscape-clj",
      "model_module_version": "^0.2.0",
      "model_name": "ElementModel",
      "state": {
       "_model_module_version": "^0.2.0",
       "_view_module_version": "^0.2.0",
       "classes": [
        "dde200c77b61497e4fda81d9c8d04434"
       ],
       "data": {
        "id": "c71be8309a2b41f1e54ea9c142b0a167",
        "parent": "dde200c77b61497e4fda81d9c8d04434",
        "source": "dde200c77b61497e4fda81d9c8d04434-3",
        "target": "dde200c77b61497e4fda81d9c8d04434-6"
       },
       "group": "edges"
      }
     },
     "e98da1eab366452d11a8983e8bbadc66": {
      "model_module": "cytoscape-clj",
      "model_module_version": "^0.2.0",
      "model_name": "ElementModel",
      "state": {
       "_model_module_version": "^0.2.0",
       "_view_module_version": "^0.2.0",
       "classes": [
        "4d7055f90f044263acf600968ba688d7"
       ],
       "data": {
        "id": "58dbff9774754ed750090cbc83bdee8d",
        "parent": "4d7055f90f044263acf600968ba688d7",
        "source": "4d7055f90f044263acf600968ba688d7-1",
        "target": "4d7055f90f044263acf600968ba688d7-6"
       },
       "group": "edges"
      }
     },
     "eab370afb81348b5d95f12dbcacc3338": {
      "model_module": "cytoscape-clj",
      "model_module_version": "^0.2.0",
      "model_name": "ElementModel",
      "state": {
       "_model_module_version": "^0.2.0",
       "_view_module_version": "^0.2.0",
       "classes": [
        "67619e6b9eea49eb666204880eb831b9"
       ],
       "data": {
        "id": "7cf4cf9310a84c38fb14956a63f1a4c2",
        "parent": "67619e6b9eea49eb666204880eb831b9",
        "source": "67619e6b9eea49eb666204880eb831b9-3",
        "target": "67619e6b9eea49eb666204880eb831b9-1"
       },
       "group": "edges"
      }
     },
     "eb55acef40ed4d9ed7ebba6b60c83b2e": {
      "model_module": "cytoscape-clj",
      "model_module_version": "^0.2.0",
      "model_name": "ElementModel",
      "state": {
       "_model_module_version": "^0.2.0",
       "_view_module_version": "^0.2.0",
       "classes": [
        "dde200c77b61497e4fda81d9c8d04434"
       ],
       "data": {
        "id": "ecf4ab08e2eb48cba6429422aa038640",
        "parent": "dde200c77b61497e4fda81d9c8d04434",
        "source": "dde200c77b61497e4fda81d9c8d04434-0",
        "target": "dde200c77b61497e4fda81d9c8d04434-5"
       },
       "group": "edges"
      }
     },
     "edf665bee3b2455f0f002b8ba6ef9e32": {
      "model_module": "cytoscape-clj",
      "model_module_version": "^0.2.0",
      "model_name": "ElementModel",
      "state": {
       "_model_module_version": "^0.2.0",
       "_view_module_version": "^0.2.0",
       "classes": [
        "e7ac543e5d224583f1cd985b692bc794",
        "child"
       ],
       "data": {
        "id": "e7ac543e5d224583f1cd985b692bc794-4",
        "name": "4",
        "parent": "e7ac543e5d224583f1cd985b692bc794"
       },
       "position": {
        "x": 187.5,
        "y": 150
       }
      }
     },
     "ee43f33ca2d2409d9fa2882745e5c4c4": {
      "model_module": "cytoscape-clj",
      "model_module_version": "^0.2.0",
      "model_name": "ElementModel",
      "state": {
       "_model_module_version": "^0.2.0",
       "_view_module_version": "^0.2.0",
       "classes": [
        "fdb0d432368543225f0d8090aa5701b1"
       ],
       "data": {
        "id": "6aabc4476fe2414116c6a3716b3a9e05",
        "parent": "fdb0d432368543225f0d8090aa5701b1",
        "source": "fdb0d432368543225f0d8090aa5701b1-2",
        "target": "fdb0d432368543225f0d8090aa5701b1-3"
       },
       "group": "edges"
      }
     },
     "ef6ee2a05f3140747fcf30aaf2b221d1": {
      "model_module": "cytoscape-clj",
      "model_module_version": "^0.2.0",
      "model_name": "ElementModel",
      "state": {
       "_model_module_version": "^0.2.0",
       "_view_module_version": "^0.2.0",
       "classes": [
        "0624a4ea1dab4b096a3ba19381276b81",
        "child"
       ],
       "data": {
        "id": "0624a4ea1dab4b096a3ba19381276b81-5",
        "name": "5",
        "parent": "0624a4ea1dab4b096a3ba19381276b81"
       },
       "position": {
        "x": 414,
        "y": 195
       }
      }
     },
     "efc350a4832549bce12d25ae48b74c1c": {
      "model_module": "cytoscape-clj",
      "model_module_version": "^0.2.0",
      "model_name": "ElementModel",
      "state": {
       "_model_module_version": "^0.2.0",
       "_view_module_version": "^0.2.0",
       "classes": [
        "0624a4ea1dab4b096a3ba19381276b81"
       ],
       "data": {
        "id": "dd4bcf24fd8b4d85de86d37dd5a4c823",
        "parent": "0624a4ea1dab4b096a3ba19381276b81",
        "source": "0624a4ea1dab4b096a3ba19381276b81-4",
        "target": "0624a4ea1dab4b096a3ba19381276b81-3"
       },
       "group": "edges"
      }
     },
     "f058676d33a84951eae14e0ae3343a61": {
      "model_module": "cytoscape-clj",
      "model_module_version": "^0.2.0",
      "model_name": "ElementModel",
      "state": {
       "_model_module_version": "^0.2.0",
       "_view_module_version": "^0.2.0",
       "classes": [
        "fdb0d432368543225f0d8090aa5701b1",
        "child"
       ],
       "data": {
        "id": "fdb0d432368543225f0d8090aa5701b1-0",
        "name": "0",
        "parent": "fdb0d432368543225f0d8090aa5701b1"
       },
       "position": {
        "x": 710,
        "y": 50
       }
      }
     },
     "f1fad7b3fcc2400f6c8c081eb82cf2a6": {
      "model_module": "cytoscape-clj",
      "model_module_version": "^0.2.0",
      "model_name": "ElementModel",
      "state": {
       "_model_module_version": "^0.2.0",
       "_view_module_version": "^0.2.0",
       "classes": [
        "67619e6b9eea49eb666204880eb831b9"
       ],
       "data": {
        "id": "19ef2332d3ca467a6b77bd51df098e6a",
        "parent": "67619e6b9eea49eb666204880eb831b9",
        "source": "67619e6b9eea49eb666204880eb831b9-2",
        "target": "67619e6b9eea49eb666204880eb831b9-3"
       },
       "group": "edges"
      }
     },
     "f36c80a4d4984d45cca349b2142bbec4": {
      "model_module": "cytoscape-clj",
      "model_module_version": "^0.2.0",
      "model_name": "ElementModel",
      "state": {
       "_model_module_version": "^0.2.0",
       "_view_module_version": "^0.2.0",
       "classes": [
        "01cf4e327d9a409333ed2cc4f29b9fbc"
       ],
       "data": {
        "id": "01cf4e327d9a409333ed2cc4f29b9fbc",
        "name": "circle-layout"
       }
      }
     },
     "f55d55773b494d627366984597c37b0e": {
      "model_module": "cytoscape-clj",
      "model_module_version": "^0.2.0",
      "model_name": "ElementModel",
      "state": {
       "_model_module_version": "^0.2.0",
       "_view_module_version": "^0.2.0",
       "classes": [
        "01cf4e327d9a409333ed2cc4f29b9fbc"
       ],
       "data": {
        "id": "fa1f87cbaec74dd536ea40961fdc612f",
        "parent": "01cf4e327d9a409333ed2cc4f29b9fbc",
        "source": "01cf4e327d9a409333ed2cc4f29b9fbc-5",
        "target": "01cf4e327d9a409333ed2cc4f29b9fbc-3"
       },
       "group": "edges"
      }
     },
     "f77edd6a11884aed151423d3e6ecb65f": {
      "model_module": "cytoscape-clj",
      "model_module_version": "^0.2.0",
      "model_name": "ElementModel",
      "state": {
       "_model_module_version": "^0.2.0",
       "_view_module_version": "^0.2.0",
       "classes": [
        "dde200c77b61497e4fda81d9c8d04434",
        "child"
       ],
       "data": {
        "id": "dde200c77b61497e4fda81d9c8d04434-2",
        "name": "2",
        "parent": "dde200c77b61497e4fda81d9c8d04434"
       },
       "position": {
        "x": 209.13591357920933,
        "y": 514.142135623731
       }
      }
     },
     "fb182cd0391b4238e4f1d57303987766": {
      "model_module": "cytoscape-clj",
      "model_module_version": "^0.2.0",
      "model_name": "ElementModel",
      "state": {
       "_model_module_version": "^0.2.0",
       "_view_module_version": "^0.2.0",
       "classes": [
        "4d7055f90f044263acf600968ba688d7",
        "child"
       ],
       "data": {
        "id": "4d7055f90f044263acf600968ba688d7-5",
        "name": "5",
        "parent": "4d7055f90f044263acf600968ba688d7"
       },
       "position": {
        "x": 1334.41906156006,
        "y": 549.4449075548816
       }
      }
     },
     "fe4fe2cc313f4789e05302b74fa0b87d": {
      "model_module": "cytoscape-clj",
      "model_module_version": "^0.2.0",
      "model_name": "ElementModel",
      "state": {
       "_model_module_version": "^0.2.0",
       "_view_module_version": "^0.2.0",
       "classes": [
        "0624a4ea1dab4b096a3ba19381276b81",
        "child"
       ],
       "data": {
        "id": "0624a4ea1dab4b096a3ba19381276b81-0",
        "name": "0",
        "parent": "0624a4ea1dab4b096a3ba19381276b81"
       },
       "position": {
        "x": 439,
        "y": 44
       }
      }
     }
    },
    "version_major": 2,
    "version_minor": 0
   }
  }
 },
 "nbformat": 4,
 "nbformat_minor": 4
}
