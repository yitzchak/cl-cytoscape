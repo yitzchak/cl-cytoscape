{
 "cells": [
  {
   "cell_type": "code",
   "execution_count": 1,
   "metadata": {},
   "outputs": [
    {
     "name": "stdout",
     "output_type": "stream",
     "text": [
      "To load \"cl-cytoscape\":\n",
      "  Load 1 ASDF system:\n",
      "    cl-cytoscape\n"
     ]
    },
    {
     "data": {
      "text/plain": [
       "(:CL-CYTOSCAPE)"
      ]
     },
     "execution_count": 1,
     "metadata": {},
     "output_type": "execute_result"
    },
    {
     "name": "stdout",
     "output_type": "stream",
     "text": [
      "\n",
      "; Loading \"cl-cytoscape\"\n",
      "\n"
     ]
    }
   ],
   "source": [
    "(ql:quickload :cl-cytoscape)"
   ]
  },
  {
   "cell_type": "code",
   "execution_count": 2,
   "metadata": {},
   "outputs": [
    {
     "data": {
      "text/plain": [
       "*COUNT*"
      ]
     },
     "execution_count": 2,
     "metadata": {},
     "output_type": "execute_result"
    },
    {
     "data": {
      "text/plain": [
       "+SIZE+"
      ]
     },
     "execution_count": 2,
     "metadata": {},
     "output_type": "execute_result"
    },
    {
     "data": {
      "text/plain": [
       "+MARGIN+"
      ]
     },
     "execution_count": 2,
     "metadata": {},
     "output_type": "execute_result"
    },
    {
     "data": {
      "text/plain": [
       "+COLUMNS+"
      ]
     },
     "execution_count": 2,
     "metadata": {},
     "output_type": "execute_result"
    },
    {
     "data": {
      "text/plain": [
       "*CYTO*"
      ]
     },
     "execution_count": 2,
     "metadata": {},
     "output_type": "execute_result"
    },
    {
     "data": {
      "text/plain": [
       "ELEMENT-ID"
      ]
     },
     "execution_count": 2,
     "metadata": {},
     "output_type": "execute_result"
    },
    {
     "data": {
      "text/plain": [
       "ADD-GRAPHS"
      ]
     },
     "execution_count": 2,
     "metadata": {},
     "output_type": "execute_result"
    },
    {
     "data": {
      "application/vnd.jupyter.widget-view+json": {
       "model_id": "420e7d83fb2c43f349c593fb128f488c",
       "version_major": 2,
       "version_minor": 0
      },
      "text/plain": [
       "A Jupyter Widget"
      ]
     },
     "metadata": {},
     "output_type": "display_data"
    }
   ],
   "source": [
    "(defparameter *count* 0)\n",
    "(defparameter +size+ 300)\n",
    "(defparameter +margin+ 30)\n",
    "(defparameter +columns+ 4)\n",
    "\n",
    "(defparameter *cyto* (make-instance 'cytoscape:cytoscape-widget\n",
    "                                    :layout (make-instance 'jupyter-widgets:layout :height \"640px\")\n",
    "                                    :graph-style \"node { content: data(name); } \n",
    "                                                  node.child { text-valign: center; text-halign: center; }\n",
    "                                                  edge { curve-style: bezier; }\"))\n",
    "\n",
    "(defun element-id (id i)\n",
    "  (format nil \"~A-~A\" id i))\n",
    "\n",
    "(defun add-graphs (&rest layouts)\n",
    "  (dolist (layout layouts)\n",
    "  (let ((id (jupyter:make-uuid))\n",
    "        (elements nil))\n",
    "    (push (make-instance 'cytoscape:element      \n",
    "                         :group \"nodes\" \n",
    "                         :data (list (cons \"id\" id)\n",
    "                                     (cons \"name\" (string-downcase (class-name (class-of layout)))))\n",
    "                         :classes (list id))\n",
    "          elements)\n",
    "    (dotimes (i 7)\n",
    "        (push (make-instance 'cytoscape:element \n",
    "                             :group \"nodes\" \n",
    "                             :data (list (cons \"id\" (element-id id i))\n",
    "                                         (cons \"parent\" id)\n",
    "                                         (cons \"name\" (format nil \"~A\" i)))\n",
    "                             :classes (list id \"child\"))\n",
    "              elements))\n",
    "    (dotimes (i 3)\n",
    "        ; Edge from the corner to the next side\n",
    "        (push (make-instance 'cytoscape:element \n",
    "                             :group \"edges\" \n",
    "                             :data (list (cons \"parent\" id)\n",
    "                                         (cons \"id\" (jupyter:make-uuid))\n",
    "                                         (cons \"source\" (element-id id (* 2 i)))\n",
    "                                         (cons \"target\" (element-id id (1+ (* 2 i)))))\n",
    "                             :classes (list id))\n",
    "              elements)\n",
    "        ; Edge from the corner to the previous side\n",
    "        (push (make-instance 'cytoscape:element \n",
    "                             :group \"edges\" \n",
    "                             :data (list (cons \"parent\" id)\n",
    "                                         (cons \"id\" (jupyter:make-uuid))\n",
    "                                         (cons \"source\" (element-id id (* 2 i)))\n",
    "                                         (cons \"target\" (element-id id (mod (1- (* 2 i)) 6))))\n",
    "                             :classes (list id))\n",
    "              elements)\n",
    "        ; Edge from the corner to the middle\n",
    "        (push (make-instance 'cytoscape:element \n",
    "                             :group \"edges\" \n",
    "                             :data (list (cons \"parent\" id)\n",
    "                                         (cons \"id\" (jupyter:make-uuid))\n",
    "                                         (cons \"source\" (element-id id (* 2 i)))\n",
    "                                         (cons \"target\" (element-id id 6)))\n",
    "                             :classes (list id))\n",
    "              elements)\n",
    "        ; Edge from the side to the next side\n",
    "        (push (make-instance 'cytoscape:element \n",
    "                             :group \"edges\" \n",
    "                             :data (list (cons \"parent\" id)\n",
    "                                         (cons \"id\" (jupyter:make-uuid))\n",
    "                                         (cons \"source\" (element-id id (1+ (* 2 i))))\n",
    "                                         (cons \"target\" (element-id id (mod (1- (* 2 i)) 6))))\n",
    "                             :classes (list id))\n",
    "              elements)\n",
    "        ; Edge from the side to the middle\n",
    "        (push (make-instance 'cytoscape:element \n",
    "                             :group \"edges\" \n",
    "                             :data (list (cons \"parent\" id)\n",
    "                                         (cons \"id\" (jupyter:make-uuid))\n",
    "                                         (cons \"source\" (element-id id (1+ (* 2 i))))\n",
    "                                         (cons \"target\" (element-id id 6)))\n",
    "                             :classes (list id))\n",
    "              elements))\n",
    "    (setf (cytoscape:selector layout) (format nil \".~A\" id))\n",
    "    (multiple-value-bind (row col) (floor *count* +columns+)\n",
    "      (setf (cytoscape:bounding-box layout) (list (cons \"x1\" (* (+ +margin+ +size+) col))\n",
    "                                                  (cons \"y1\" (* (+ +margin+ +size+) row))\n",
    "                                                  (cons \"w\" +size+)\n",
    "                                                  (cons \"h\" +size+))))\n",
    "    (incf *count*)\n",
    "    (setf (cytoscape:fit layout) nil)\n",
    "    (cytoscape:on-layout-stop layout (lambda (l) (declare (ignore l)) (cytoscape:fit-elements *cyto*)))\n",
    "    (setf (cytoscape:graph-layouts *cyto*) (append (cytoscape:graph-layouts *cyto*) (list layout)))\n",
    "    (setf (cytoscape:elements *cyto*) (append (cytoscape:elements *cyto*) (reverse elements)))))\n",
    "  (values))\n",
    "\n",
    "*cyto*"
   ]
  },
  {
   "cell_type": "code",
   "execution_count": 3,
   "metadata": {},
   "outputs": [],
   "source": [
    "(add-graphs (make-instance 'cytoscape:breadth-first-layout)\n",
    "            (make-instance 'cytoscape:random-layout)\n",
    "            (make-instance 'cytoscape:grid-layout)\n",
    "            (make-instance 'cytoscape:circle-layout)\n",
    "            (make-instance 'cytoscape:concentric-layout)\n",
    "            (make-instance 'cytoscape:cose-layout)\n",
    "            (make-instance 'cytoscape:cola-layout)\n",
    "            (make-instance 'cytoscape:dagre-layout))"
   ]
  },
  {
   "cell_type": "code",
   "execution_count": null,
   "metadata": {},
   "outputs": [],
   "source": []
  }
 ],
 "metadata": {
  "kernelspec": {
   "display_name": "Common Lisp (clasp)",
   "language": "common-lisp",
   "name": "common-lisp_clasp"
  },
  "language_info": {
   "codemirror_mode": "text/x-common-lisp",
   "file_extension": ".lisp",
   "mimetype": "text/x-common-lisp",
   "name": "common-lisp",
   "pygments_lexer": "common-lisp",
   "version": "cclasp-boehm-0.4.2-2722-gc7cf406d8-cst"
  },
  "widgets": {
   "application/vnd.jupyter.widget-state+json": {
    "state": {
     "0060d8839d9a45f0fcf7f7a80628fabb": {
      "model_module": "cl-cytoscape",
      "model_module_version": "^0.1.96",
      "model_name": "ElementModel",
      "state": {
       "_model_module_version": "^0.1.96",
       "_view_module_version": "^0.1.96",
       "classes": [
        "4ee4c5e5e01c4d09b36dfb4280546bb2"
       ],
       "data": {
        "id": "c23cae05ed9b4232992ff94cbe4ef8db",
        "parent": "4ee4c5e5e01c4d09b36dfb4280546bb2",
        "source": "4ee4c5e5e01c4d09b36dfb4280546bb2-2",
        "target": "4ee4c5e5e01c4d09b36dfb4280546bb2-6"
       },
       "group": "edges"
      }
     },
     "01ede2af3a3a480801c71294548188b7": {
      "model_module": "cl-cytoscape",
      "model_module_version": "^0.1.96",
      "model_name": "ElementModel",
      "state": {
       "_model_module_version": "^0.1.96",
       "_view_module_version": "^0.1.96",
       "classes": [
        "01a64693523e41cc128991ec529db249"
       ],
       "data": {
        "id": "01a64693523e41cc128991ec529db249",
        "name": "dagre-layout"
       },
       "position": {
        "x": 1140,
        "y": 480
       }
      }
     },
     "041d8c6e64294ec08845c1cdb628e62e": {
      "model_module": "cl-cytoscape",
      "model_module_version": "^0.1.96",
      "model_name": "ElementModel",
      "state": {
       "_model_module_version": "^0.1.96",
       "_view_module_version": "^0.1.96",
       "classes": [
        "5285bd7a253042a8a1fd523cb4f9f150"
       ],
       "data": {
        "id": "94fd0c8ae3b543d3aef91cdf1877e551",
        "parent": "5285bd7a253042a8a1fd523cb4f9f150",
        "source": "5285bd7a253042a8a1fd523cb4f9f150-0",
        "target": "5285bd7a253042a8a1fd523cb4f9f150-6"
       },
       "group": "edges"
      }
     },
     "05252c2a21264010d9cab580b69b2a27": {
      "model_module": "cl-cytoscape",
      "model_module_version": "^0.1.96",
      "model_name": "ElementModel",
      "state": {
       "_model_module_version": "^0.1.96",
       "_view_module_version": "^0.1.96",
       "classes": [
        "ae136bdb9b784b2a3ce0346ed45aaeef"
       ],
       "data": {
        "id": "81b6a9d519524b7501e16fe0fc255744",
        "parent": "ae136bdb9b784b2a3ce0346ed45aaeef",
        "source": "ae136bdb9b784b2a3ce0346ed45aaeef-2",
        "target": "ae136bdb9b784b2a3ce0346ed45aaeef-3"
       },
       "group": "edges"
      }
     },
     "079aadbb85f445bd93abb372b8e12299": {
      "model_module": "cl-cytoscape",
      "model_module_version": "^0.1.96",
      "model_name": "ElementModel",
      "state": {
       "_model_module_version": "^0.1.96",
       "_view_module_version": "^0.1.96",
       "classes": [
        "ae136bdb9b784b2a3ce0346ed45aaeef"
       ],
       "data": {
        "id": "9450f68c61ea459be329b8f550cffd49",
        "parent": "ae136bdb9b784b2a3ce0346ed45aaeef",
        "source": "ae136bdb9b784b2a3ce0346ed45aaeef-2",
        "target": "ae136bdb9b784b2a3ce0346ed45aaeef-1"
       },
       "group": "edges"
      }
     },
     "0950131fec6341414156ff9aa7c79ba9": {
      "model_module": "cl-cytoscape",
      "model_module_version": "^0.1.96",
      "model_name": "ElementModel",
      "state": {
       "_model_module_version": "^0.1.96",
       "_view_module_version": "^0.1.96",
       "classes": [
        "4ee4c5e5e01c4d09b36dfb4280546bb2"
       ],
       "data": {
        "id": "dbbca3b688744b4a62c2f39706778de7",
        "parent": "4ee4c5e5e01c4d09b36dfb4280546bb2",
        "source": "4ee4c5e5e01c4d09b36dfb4280546bb2-0",
        "target": "4ee4c5e5e01c4d09b36dfb4280546bb2-6"
       },
       "group": "edges"
      }
     },
     "0b8024964da842af1d40d79399ec6d5f": {
      "model_module": "cl-cytoscape",
      "model_module_version": "^0.1.96",
      "model_name": "ElementModel",
      "state": {
       "_model_module_version": "^0.1.96",
       "_view_module_version": "^0.1.96",
       "classes": [
        "07f2e90fdb744a048b7fefcc2bdec43e"
       ],
       "data": {
        "id": "bda157c49d854c1264c387dbc6af092c",
        "parent": "07f2e90fdb744a048b7fefcc2bdec43e",
        "source": "07f2e90fdb744a048b7fefcc2bdec43e-4",
        "target": "07f2e90fdb744a048b7fefcc2bdec43e-5"
       },
       "group": "edges"
      }
     },
     "0d18c200fde449ded1457cbf0092e645": {
      "model_module": "cl-cytoscape",
      "model_module_version": "^0.1.96",
      "model_name": "ElementModel",
      "state": {
       "_model_module_version": "^0.1.96",
       "_view_module_version": "^0.1.96",
       "classes": [
        "4ee4c5e5e01c4d09b36dfb4280546bb2",
        "child"
       ],
       "data": {
        "id": "4ee4c5e5e01c4d09b36dfb4280546bb2-2",
        "name": "2",
        "parent": "4ee4c5e5e01c4d09b36dfb4280546bb2"
       },
       "position": {
        "x": 112.50000000000003,
        "y": 253.125
       }
      }
     },
     "0e07f4bdbebe4fe8af9698e92e4fd7cb": {
      "model_module": "cl-cytoscape",
      "model_module_version": "^0.1.96",
      "model_name": "ElementModel",
      "state": {
       "_model_module_version": "^0.1.96",
       "_view_module_version": "^0.1.96",
       "classes": [
        "ab6ee3ece6354ba488366f3a9cfbfc8a"
       ],
       "data": {
        "id": "77a11b5deb81462241d76cd313eb5bd0",
        "parent": "ab6ee3ece6354ba488366f3a9cfbfc8a",
        "source": "ab6ee3ece6354ba488366f3a9cfbfc8a-3",
        "target": "ab6ee3ece6354ba488366f3a9cfbfc8a-6"
       },
       "group": "edges"
      }
     },
     "0e0c00c8a2174d357fab7ad28096fbcd": {
      "model_module": "cl-cytoscape",
      "model_module_version": "^0.1.96",
      "model_name": "ElementModel",
      "state": {
       "_model_module_version": "^0.1.96",
       "_view_module_version": "^0.1.96",
       "classes": [
        "01a64693523e41cc128991ec529db249"
       ],
       "data": {
        "id": "84dd516e7b164764aa6b0545e491248e",
        "parent": "01a64693523e41cc128991ec529db249",
        "source": "01a64693523e41cc128991ec529db249-5",
        "target": "01a64693523e41cc128991ec529db249-3"
       },
       "group": "edges"
      }
     },
     "0f4eda2c666c4640d68ef8960cf64085": {
      "model_module": "cl-cytoscape",
      "model_module_version": "^0.1.96",
      "model_name": "ElementModel",
      "state": {
       "_model_module_version": "^0.1.96",
       "_view_module_version": "^0.1.96",
       "classes": [
        "ae136bdb9b784b2a3ce0346ed45aaeef"
       ],
       "data": {
        "id": "fa4ebc38b26a4667e900265d82c75581",
        "parent": "ae136bdb9b784b2a3ce0346ed45aaeef",
        "source": "ae136bdb9b784b2a3ce0346ed45aaeef-2",
        "target": "ae136bdb9b784b2a3ce0346ed45aaeef-6"
       },
       "group": "edges"
      }
     },
     "0f7ca949e2194c9f28c6394bdae62306": {
      "model_module": "cl-cytoscape",
      "model_module_version": "^0.1.96",
      "model_name": "ElementModel",
      "state": {
       "_model_module_version": "^0.1.96",
       "_view_module_version": "^0.1.96",
       "classes": [
        "4ee4c5e5e01c4d09b36dfb4280546bb2"
       ],
       "data": {
        "id": "f031fdabc1f9419bc9988d9fecf4f40a",
        "parent": "4ee4c5e5e01c4d09b36dfb4280546bb2",
        "source": "4ee4c5e5e01c4d09b36dfb4280546bb2-4",
        "target": "4ee4c5e5e01c4d09b36dfb4280546bb2-6"
       },
       "group": "edges"
      }
     },
     "1046d6a5c7ca47b3e42147899dc17b4b": {
      "model_module": "cl-cytoscape",
      "model_module_version": "^0.1.96",
      "model_name": "ElementModel",
      "state": {
       "_model_module_version": "^0.1.96",
       "_view_module_version": "^0.1.96",
       "classes": [
        "01a64693523e41cc128991ec529db249"
       ],
       "data": {
        "id": "f8e0f8b8abe04ba2f9aaa3ebd7087ee4",
        "parent": "01a64693523e41cc128991ec529db249",
        "source": "01a64693523e41cc128991ec529db249-3",
        "target": "01a64693523e41cc128991ec529db249-1"
       },
       "group": "edges"
      }
     },
     "1060ae9211c040d3924f67661d7d03a3": {
      "model_module": "cl-cytoscape",
      "model_module_version": "^0.1.96",
      "model_name": "ElementModel",
      "state": {
       "_model_module_version": "^0.1.96",
       "_view_module_version": "^0.1.96",
       "classes": [
        "ae136bdb9b784b2a3ce0346ed45aaeef",
        "child"
       ],
       "data": {
        "id": "ae136bdb9b784b2a3ce0346ed45aaeef-5",
        "name": "5",
        "parent": "ae136bdb9b784b2a3ce0346ed45aaeef"
       },
       "position": {
        "x": 910,
        "y": 150
       }
      }
     },
     "1178bbe61db1429acdb4dd3d8223e173": {
      "model_module": "cl-cytoscape",
      "model_module_version": "^0.1.96",
      "model_name": "ElementModel",
      "state": {
       "_model_module_version": "^0.1.96",
       "_view_module_version": "^0.1.96",
       "classes": [
        "ae136bdb9b784b2a3ce0346ed45aaeef"
       ],
       "data": {
        "id": "57d1ea7c98bc47a7c4e6586691de03f4",
        "parent": "ae136bdb9b784b2a3ce0346ed45aaeef",
        "source": "ae136bdb9b784b2a3ce0346ed45aaeef-3",
        "target": "ae136bdb9b784b2a3ce0346ed45aaeef-1"
       },
       "group": "edges"
      }
     },
     "124c575d6c5f427d4850f23af847c5e5": {
      "model_module": "cl-cytoscape",
      "model_module_version": "^0.1.96",
      "model_name": "ElementModel",
      "state": {
       "_model_module_version": "^0.1.96",
       "_view_module_version": "^0.1.96",
       "classes": [
        "07f2e90fdb744a048b7fefcc2bdec43e"
       ],
       "data": {
        "id": "09846b30d1b84da18d26c53d082b5f58",
        "parent": "07f2e90fdb744a048b7fefcc2bdec43e",
        "source": "07f2e90fdb744a048b7fefcc2bdec43e-3",
        "target": "07f2e90fdb744a048b7fefcc2bdec43e-6"
       },
       "group": "edges"
      }
     },
     "151731e1186a4899b3420d9c4a6d65af": {
      "model_module": "cl-cytoscape",
      "model_module_version": "^0.1.96",
      "model_name": "ElementModel",
      "state": {
       "_model_module_version": "^0.1.96",
       "_view_module_version": "^0.1.96",
       "classes": [
        "07f2e90fdb744a048b7fefcc2bdec43e"
       ],
       "data": {
        "id": "f64109261ec14de7317e17d0a3739fd6",
        "parent": "07f2e90fdb744a048b7fefcc2bdec43e",
        "source": "07f2e90fdb744a048b7fefcc2bdec43e-3",
        "target": "07f2e90fdb744a048b7fefcc2bdec43e-1"
       },
       "group": "edges"
      }
     },
     "160f9b3c369f4c0c2de17aaa70bcc09a": {
      "model_module": "cl-cytoscape",
      "model_module_version": "^0.1.96",
      "model_name": "ElementModel",
      "state": {
       "_model_module_version": "^0.1.96",
       "_view_module_version": "^0.1.96",
       "classes": [
        "f28066d8d6724dc76ea394bb044626a6",
        "child"
       ],
       "data": {
        "id": "f28066d8d6724dc76ea394bb044626a6-4",
        "name": "4",
        "parent": "f28066d8d6724dc76ea394bb044626a6"
       },
       "position": {
        "x": 1087.933951305893,
        "y": 258.1162641482903
       }
      }
     },
     "168b3a3ee81142bb1fadbf647ffba371": {
      "model_module": "cl-cytoscape",
      "model_module_version": "^0.1.96",
      "model_name": "ElementModel",
      "state": {
       "_model_module_version": "^0.1.96",
       "_view_module_version": "^0.1.96",
       "classes": [
        "776f20dca923417c2278b479f6f510ab"
       ],
       "data": {
        "id": "123a5da9cd084f2621820e32be208b2c",
        "parent": "776f20dca923417c2278b479f6f510ab",
        "source": "776f20dca923417c2278b479f6f510ab-0",
        "target": "776f20dca923417c2278b479f6f510ab-1"
       },
       "group": "edges"
      }
     },
     "1773912a494747ae7bc671145d7bc2e2": {
      "model_module": "cl-cytoscape",
      "model_module_version": "^0.1.96",
      "model_name": "ElementModel",
      "state": {
       "_model_module_version": "^0.1.96",
       "_view_module_version": "^0.1.96",
       "classes": [
        "ab6ee3ece6354ba488366f3a9cfbfc8a",
        "child"
       ],
       "data": {
        "id": "ab6ee3ece6354ba488366f3a9cfbfc8a-6",
        "name": "6",
        "parent": "ab6ee3ece6354ba488366f3a9cfbfc8a"
       },
       "position": {
        "x": 502,
        "y": 275
       }
      }
     },
     "19fa10b417164a4ea41251c44bb74ebd": {
      "model_module": "cl-cytoscape",
      "model_module_version": "^0.1.96",
      "model_name": "ElementModel",
      "state": {
       "_model_module_version": "^0.1.96",
       "_view_module_version": "^0.1.96",
       "classes": [
        "f28066d8d6724dc76ea394bb044626a6",
        "child"
       ],
       "data": {
        "id": "f28066d8d6724dc76ea394bb044626a6-6",
        "name": "6",
        "parent": "f28066d8d6724dc76ea394bb044626a6"
       },
       "position": {
        "x": 1046.1802221038365,
        "y": 75.18122377695201
       }
      }
     },
     "1a36aa15e2644ffc65214ad9ba2d149e": {
      "model_module": "cl-cytoscape",
      "model_module_version": "^0.1.96",
      "model_name": "ElementModel",
      "state": {
       "_model_module_version": "^0.1.96",
       "_view_module_version": "^0.1.96",
       "classes": [
        "f28066d8d6724dc76ea394bb044626a6"
       ],
       "data": {
        "id": "5d996ae0c3994a2ccebc3cc4166c74f6",
        "parent": "f28066d8d6724dc76ea394bb044626a6",
        "source": "f28066d8d6724dc76ea394bb044626a6-2",
        "target": "f28066d8d6724dc76ea394bb044626a6-1"
       },
       "group": "edges"
      }
     },
     "1a69e63cf1d74fc120f0a2e6a69aabf9": {
      "model_module": "cl-cytoscape",
      "model_module_version": "^0.1.96",
      "model_name": "ElementModel",
      "state": {
       "_model_module_version": "^0.1.96",
       "_view_module_version": "^0.1.96",
       "classes": [
        "5285bd7a253042a8a1fd523cb4f9f150"
       ],
       "data": {
        "id": "7499887c91a845bfa3cef765a7093a0d",
        "parent": "5285bd7a253042a8a1fd523cb4f9f150",
        "source": "5285bd7a253042a8a1fd523cb4f9f150-4",
        "target": "5285bd7a253042a8a1fd523cb4f9f150-6"
       },
       "group": "edges"
      }
     },
     "1af156197cec45817fc584843fcec21c": {
      "model_module": "cl-cytoscape",
      "model_module_version": "^0.1.96",
      "model_name": "ElementModel",
      "state": {
       "_model_module_version": "^0.1.96",
       "_view_module_version": "^0.1.96",
       "classes": [
        "f28066d8d6724dc76ea394bb044626a6",
        "child"
       ],
       "data": {
        "id": "f28066d8d6724dc76ea394bb044626a6-2",
        "name": "2",
        "parent": "f28066d8d6724dc76ea394bb044626a6"
       },
       "position": {
        "x": 1256.9913494618188,
        "y": 176.7025120747577
       }
      }
     },
     "1bad1e14093c448b8d3ef37dea7e7cb6": {
      "model_module": "cl-cytoscape",
      "model_module_version": "^0.1.96",
      "model_name": "ElementModel",
      "state": {
       "_model_module_version": "^0.1.96",
       "_view_module_version": "^0.1.96",
       "classes": [
        "ae136bdb9b784b2a3ce0346ed45aaeef"
       ],
       "data": {
        "id": "6952b5e23d1c48b58c288e8339abcf3a",
        "parent": "ae136bdb9b784b2a3ce0346ed45aaeef",
        "source": "ae136bdb9b784b2a3ce0346ed45aaeef-4",
        "target": "ae136bdb9b784b2a3ce0346ed45aaeef-3"
       },
       "group": "edges"
      }
     },
     "1bd3711f0d9c498ce38bbb8a61a309da": {
      "model_module": "cl-cytoscape",
      "model_module_version": "^0.1.96",
      "model_name": "ElementModel",
      "state": {
       "_model_module_version": "^0.1.96",
       "_view_module_version": "^0.1.96",
       "classes": [
        "f28066d8d6724dc76ea394bb044626a6"
       ],
       "data": {
        "id": "d313d098ed0b43128dcc178026674246",
        "parent": "f28066d8d6724dc76ea394bb044626a6",
        "source": "f28066d8d6724dc76ea394bb044626a6-0",
        "target": "f28066d8d6724dc76ea394bb044626a6-5"
       },
       "group": "edges"
      }
     },
     "1bfd3ede2567429689cf7978f9c68391": {
      "model_module": "cl-cytoscape",
      "model_module_version": "^0.1.96",
      "model_name": "ElementModel",
      "state": {
       "_model_module_version": "^0.1.96",
       "_view_module_version": "^0.1.96",
       "classes": [
        "776f20dca923417c2278b479f6f510ab"
       ],
       "data": {
        "id": "fc4e6f01f0494ab6a82baa6fbe9aaa42",
        "parent": "776f20dca923417c2278b479f6f510ab",
        "source": "776f20dca923417c2278b479f6f510ab-1",
        "target": "776f20dca923417c2278b479f6f510ab-5"
       },
       "group": "edges"
      }
     },
     "2120c004e71b41146afd6be16359d769": {
      "model_module": "cl-cytoscape",
      "model_module_version": "^0.1.96",
      "model_name": "ElementModel",
      "state": {
       "_model_module_version": "^0.1.96",
       "_view_module_version": "^0.1.96",
       "classes": [
        "776f20dca923417c2278b479f6f510ab",
        "child"
       ],
       "data": {
        "id": "776f20dca923417c2278b479f6f510ab-0",
        "name": "0",
        "parent": "776f20dca923417c2278b479f6f510ab"
       },
       "position": {
        "x": 823.8887480820438,
        "y": 454.44373086745384
       }
      }
     },
     "2162d58ec0b9467e893fc457e0013d25": {
      "model_module": "cl-cytoscape",
      "model_module_version": "^0.1.96",
      "model_name": "ElementModel",
      "state": {
       "_model_module_version": "^0.1.96",
       "_view_module_version": "^0.1.96",
       "classes": [
        "4ee4c5e5e01c4d09b36dfb4280546bb2"
       ],
       "data": {
        "id": "01624beff7374ccdcac72d262c976031",
        "parent": "4ee4c5e5e01c4d09b36dfb4280546bb2",
        "source": "4ee4c5e5e01c4d09b36dfb4280546bb2-1",
        "target": "4ee4c5e5e01c4d09b36dfb4280546bb2-6"
       },
       "group": "edges"
      }
     },
     "240d7c8f0bac479cd59ac2042fe36f9b": {
      "model_module": "cl-cytoscape",
      "model_module_version": "^0.1.96",
      "model_name": "ElementModel",
      "state": {
       "_model_module_version": "^0.1.96",
       "_view_module_version": "^0.1.96",
       "classes": [
        "776f20dca923417c2278b479f6f510ab"
       ],
       "data": {
        "id": "526452571d8a44f8596a953d2de8e36d",
        "parent": "776f20dca923417c2278b479f6f510ab",
        "source": "776f20dca923417c2278b479f6f510ab-4",
        "target": "776f20dca923417c2278b479f6f510ab-6"
       },
       "group": "edges"
      }
     },
     "24da7000de634aa76f966ac1655a2682": {
      "model_module": "cl-cytoscape",
      "model_module_version": "^0.1.96",
      "model_name": "ElementModel",
      "state": {
       "_model_module_version": "^0.1.96",
       "_view_module_version": "^0.1.96",
       "classes": [
        "f28066d8d6724dc76ea394bb044626a6"
       ],
       "data": {
        "id": "65b178c2d5004c67a12236bee69da137",
        "parent": "f28066d8d6724dc76ea394bb044626a6",
        "source": "f28066d8d6724dc76ea394bb044626a6-1",
        "target": "f28066d8d6724dc76ea394bb044626a6-5"
       },
       "group": "edges"
      }
     },
     "268bfddff289484e1cd989d24d184b23": {
      "model_module": "cl-cytoscape",
      "model_module_version": "^0.1.96",
      "model_name": "ElementModel",
      "state": {
       "_model_module_version": "^0.1.96",
       "_view_module_version": "^0.1.96",
       "classes": [
        "01a64693523e41cc128991ec529db249",
        "child"
       ],
       "data": {
        "id": "01a64693523e41cc128991ec529db249-5",
        "name": "5",
        "parent": "01a64693523e41cc128991ec529db249"
       },
       "position": {
        "x": 1168.723404255319,
        "y": 480
       }
      }
     },
     "29f9cc1d960c48351ebda7bc1c1b317f": {
      "model_module": "cl-cytoscape",
      "model_module_version": "^0.1.96",
      "model_name": "ElementModel",
      "state": {
       "_model_module_version": "^0.1.96",
       "_view_module_version": "^0.1.96",
       "classes": [
        "f28066d8d6724dc76ea394bb044626a6"
       ],
       "data": {
        "id": "f1f13d457f2c40d3752f2d6334f03bf0",
        "parent": "f28066d8d6724dc76ea394bb044626a6",
        "source": "f28066d8d6724dc76ea394bb044626a6-0",
        "target": "f28066d8d6724dc76ea394bb044626a6-1"
       },
       "group": "edges"
      }
     },
     "2b894e6160264625a294e76abd94a14d": {
      "model_module": "cl-cytoscape",
      "model_module_version": "^0.1.96",
      "model_name": "GridLayoutModel",
      "state": {
       "_model_module_version": "^0.1.96",
       "_view_module_version": "^0.1.96",
       "bounding_box": {
        "h": 300,
        "w": 300,
        "x1": 660,
        "y1": 0
       },
       "fit": false,
       "selector": ".ae136bdb9b784b2a3ce0346ed45aaeef"
      }
     },
     "2c21aa793cfb426b6310009ca414a29c": {
      "model_module": "cl-cytoscape",
      "model_module_version": "^0.1.96",
      "model_name": "ElementModel",
      "state": {
       "_model_module_version": "^0.1.96",
       "_view_module_version": "^0.1.96",
       "classes": [
        "776f20dca923417c2278b479f6f510ab"
       ],
       "data": {
        "id": "776f20dca923417c2278b479f6f510ab",
        "name": "cola-layout"
       }
      }
     },
     "2c226666cb8a46349eb70be368c656d0": {
      "model_module": "cl-cytoscape",
      "model_module_version": "^0.1.96",
      "model_name": "ElementModel",
      "state": {
       "_model_module_version": "^0.1.96",
       "_view_module_version": "^0.1.96",
       "classes": [
        "f28066d8d6724dc76ea394bb044626a6"
       ],
       "data": {
        "id": "8eb342bc068642be2f3527aba7f44e92",
        "parent": "f28066d8d6724dc76ea394bb044626a6",
        "source": "f28066d8d6724dc76ea394bb044626a6-2",
        "target": "f28066d8d6724dc76ea394bb044626a6-3"
       },
       "group": "edges"
      }
     },
     "2c764869d70a4fa1019a9a933a48504a": {
      "model_module": "cl-cytoscape",
      "model_module_version": "^0.1.96",
      "model_name": "ElementModel",
      "state": {
       "_model_module_version": "^0.1.96",
       "_view_module_version": "^0.1.96",
       "classes": [
        "4ee4c5e5e01c4d09b36dfb4280546bb2",
        "child"
       ],
       "data": {
        "id": "4ee4c5e5e01c4d09b36dfb4280546bb2-1",
        "name": "1",
        "parent": "4ee4c5e5e01c4d09b36dfb4280546bb2"
       },
       "position": {
        "x": 37.500000000000014,
        "y": 253.125
       }
      }
     },
     "2d0d9fa77e34475cc880288819a1fcaa": {
      "model_module": "cl-cytoscape",
      "model_module_version": "^0.1.96",
      "model_name": "ElementModel",
      "state": {
       "_model_module_version": "^0.1.96",
       "_view_module_version": "^0.1.96",
       "classes": [
        "5285bd7a253042a8a1fd523cb4f9f150"
       ],
       "data": {
        "id": "13add5f56bcc4d7686082bdf56e075f7",
        "parent": "5285bd7a253042a8a1fd523cb4f9f150",
        "source": "5285bd7a253042a8a1fd523cb4f9f150-5",
        "target": "5285bd7a253042a8a1fd523cb4f9f150-6"
       },
       "group": "edges"
      }
     },
     "2d3edbee795b4fbc0df09fef0cad2118": {
      "model_module": "cl-cytoscape",
      "model_module_version": "^0.1.96",
      "model_name": "ElementModel",
      "state": {
       "_model_module_version": "^0.1.96",
       "_view_module_version": "^0.1.96",
       "classes": [
        "776f20dca923417c2278b479f6f510ab"
       ],
       "data": {
        "id": "dca70eed102c4b44cb8f1e8f40693e9e",
        "parent": "776f20dca923417c2278b479f6f510ab",
        "source": "776f20dca923417c2278b479f6f510ab-4",
        "target": "776f20dca923417c2278b479f6f510ab-5"
       },
       "group": "edges"
      }
     },
     "2fb039bf99cf409e0fba0e562e7a65f2": {
      "model_module": "cl-cytoscape",
      "model_module_version": "^0.1.96",
      "model_name": "ElementModel",
      "state": {
       "_model_module_version": "^0.1.96",
       "_view_module_version": "^0.1.96",
       "classes": [
        "776f20dca923417c2278b479f6f510ab",
        "child"
       ],
       "data": {
        "id": "776f20dca923417c2278b479f6f510ab-6",
        "name": "6",
        "parent": "776f20dca923417c2278b479f6f510ab"
       },
       "position": {
        "x": 773.8887470820439,
        "y": 504.44373186745383
       }
      }
     },
     "2fd3353711b040fbb278fe0e0ceff156": {
      "model_module": "cl-cytoscape",
      "model_module_version": "^0.1.96",
      "model_name": "ElementModel",
      "state": {
       "_model_module_version": "^0.1.96",
       "_view_module_version": "^0.1.96",
       "classes": [
        "01a64693523e41cc128991ec529db249",
        "child"
       ],
       "data": {
        "id": "01a64693523e41cc128991ec529db249-1",
        "name": "1",
        "parent": "01a64693523e41cc128991ec529db249"
       },
       "position": {
        "x": 1290,
        "y": 405
       }
      }
     },
     "3044e92c772a4242b7f27b423ede274a": {
      "model_module": "cl-cytoscape",
      "model_module_version": "^0.1.96",
      "model_name": "ElementModel",
      "state": {
       "_model_module_version": "^0.1.96",
       "_view_module_version": "^0.1.96",
       "classes": [
        "4ee4c5e5e01c4d09b36dfb4280546bb2",
        "child"
       ],
       "data": {
        "id": "4ee4c5e5e01c4d09b36dfb4280546bb2-3",
        "name": "3",
        "parent": "4ee4c5e5e01c4d09b36dfb4280546bb2"
       },
       "position": {
        "x": 187.49999999999997,
        "y": 253.125
       }
      }
     },
     "30499f8ef79d40be6f5830424e5e8c60": {
      "model_module": "cl-cytoscape",
      "model_module_version": "^0.1.96",
      "model_name": "ElementModel",
      "state": {
       "_model_module_version": "^0.1.96",
       "_view_module_version": "^0.1.96",
       "classes": [
        "01a64693523e41cc128991ec529db249"
       ],
       "data": {
        "id": "ace464d96828410bbb407588b49a5326",
        "parent": "01a64693523e41cc128991ec529db249",
        "source": "01a64693523e41cc128991ec529db249-0",
        "target": "01a64693523e41cc128991ec529db249-5"
       },
       "group": "edges"
      }
     },
     "307b70003cdd4056088bbb48dc7344cc": {
      "model_module": "cl-cytoscape",
      "model_module_version": "^0.1.96",
      "model_name": "ElementModel",
      "state": {
       "_model_module_version": "^0.1.96",
       "_view_module_version": "^0.1.96",
       "classes": [
        "ab6ee3ece6354ba488366f3a9cfbfc8a",
        "child"
       ],
       "data": {
        "id": "ab6ee3ece6354ba488366f3a9cfbfc8a-5",
        "name": "5",
        "parent": "ab6ee3ece6354ba488366f3a9cfbfc8a"
       },
       "position": {
        "x": 440,
        "y": 276
       }
      }
     },
     "31cce64e87be4f70af00f3c6dafac209": {
      "model_module": "cl-cytoscape",
      "model_module_version": "^0.1.96",
      "model_name": "ElementModel",
      "state": {
       "_model_module_version": "^0.1.96",
       "_view_module_version": "^0.1.96",
       "classes": [
        "07f2e90fdb744a048b7fefcc2bdec43e"
       ],
       "data": {
        "id": "b767a22979014b98f4715134af5f5f1f",
        "parent": "07f2e90fdb744a048b7fefcc2bdec43e",
        "source": "07f2e90fdb744a048b7fefcc2bdec43e-1",
        "target": "07f2e90fdb744a048b7fefcc2bdec43e-6"
       },
       "group": "edges"
      }
     },
     "33fd89377111448099f192f17f0958b3": {
      "model_module": "cl-cytoscape",
      "model_module_version": "^0.1.96",
      "model_name": "ElementModel",
      "state": {
       "_model_module_version": "^0.1.96",
       "_view_module_version": "^0.1.96",
       "classes": [
        "4ee4c5e5e01c4d09b36dfb4280546bb2"
       ],
       "data": {
        "id": "be5f07941377496cc935667a84533ff7",
        "parent": "4ee4c5e5e01c4d09b36dfb4280546bb2",
        "source": "4ee4c5e5e01c4d09b36dfb4280546bb2-0",
        "target": "4ee4c5e5e01c4d09b36dfb4280546bb2-1"
       },
       "group": "edges"
      }
     },
     "348333be4a3e4d368f573f1e5b8d27b5": {
      "model_module": "cl-cytoscape",
      "model_module_version": "^0.1.96",
      "model_name": "ElementModel",
      "state": {
       "_model_module_version": "^0.1.96",
       "_view_module_version": "^0.1.96",
       "classes": [
        "ab6ee3ece6354ba488366f3a9cfbfc8a"
       ],
       "data": {
        "id": "ab6ee3ece6354ba488366f3a9cfbfc8a",
        "name": "random-layout"
       }
      }
     },
     "35f50c505fdb457084759d2a0814079e": {
      "model_module": "cl-cytoscape",
      "model_module_version": "^0.1.96",
      "model_name": "ElementModel",
      "state": {
       "_model_module_version": "^0.1.96",
       "_view_module_version": "^0.1.96",
       "classes": [
        "776f20dca923417c2278b479f6f510ab",
        "child"
       ],
       "data": {
        "id": "776f20dca923417c2278b479f6f510ab-4",
        "name": "4",
        "parent": "776f20dca923417c2278b479f6f510ab"
       },
       "position": {
        "x": 823.8887480820438,
        "y": 504.44373186745383
       }
      }
     },
     "36ebfc0bfdb6452b06c2cfcd6460bda8": {
      "model_module": "cl-cytoscape",
      "model_module_version": "^0.1.96",
      "model_name": "ElementModel",
      "state": {
       "_model_module_version": "^0.1.96",
       "_view_module_version": "^0.1.96",
       "classes": [
        "07f2e90fdb744a048b7fefcc2bdec43e"
       ],
       "data": {
        "id": "f6dcbda4125e4be6a3c495fd7819fbad",
        "parent": "07f2e90fdb744a048b7fefcc2bdec43e",
        "source": "07f2e90fdb744a048b7fefcc2bdec43e-5",
        "target": "07f2e90fdb744a048b7fefcc2bdec43e-3"
       },
       "group": "edges"
      }
     },
     "372771c412fe4990bf860c15cedcc47d": {
      "model_module": "cl-cytoscape",
      "model_module_version": "^0.1.96",
      "model_name": "ElementModel",
      "state": {
       "_model_module_version": "^0.1.96",
       "_view_module_version": "^0.1.96",
       "classes": [
        "07f2e90fdb744a048b7fefcc2bdec43e"
       ],
       "data": {
        "id": "901e1702d71a4f5ec874e33f12d42859",
        "parent": "07f2e90fdb744a048b7fefcc2bdec43e",
        "source": "07f2e90fdb744a048b7fefcc2bdec43e-1",
        "target": "07f2e90fdb744a048b7fefcc2bdec43e-5"
       },
       "group": "edges"
      }
     },
     "3962901833604182ea1a80d1ee5bd085": {
      "model_module": "cl-cytoscape",
      "model_module_version": "^0.1.96",
      "model_name": "ElementModel",
      "state": {
       "_model_module_version": "^0.1.96",
       "_view_module_version": "^0.1.96",
       "classes": [
        "776f20dca923417c2278b479f6f510ab",
        "child"
       ],
       "data": {
        "id": "776f20dca923417c2278b479f6f510ab-5",
        "name": "5",
        "parent": "776f20dca923417c2278b479f6f510ab"
       },
       "position": {
        "x": 873.8887490820438,
        "y": 504.44373186745383
       }
      }
     },
     "3be37838799a44d4839eb165b00bb7a7": {
      "model_module": "cl-cytoscape",
      "model_module_version": "^0.1.96",
      "model_name": "ElementModel",
      "state": {
       "_model_module_version": "^0.1.96",
       "_view_module_version": "^0.1.96",
       "classes": [
        "5285bd7a253042a8a1fd523cb4f9f150"
       ],
       "data": {
        "id": "8bd33988cf10461d9c6c53342209167b",
        "parent": "5285bd7a253042a8a1fd523cb4f9f150",
        "source": "5285bd7a253042a8a1fd523cb4f9f150-4",
        "target": "5285bd7a253042a8a1fd523cb4f9f150-3"
       },
       "group": "edges"
      }
     },
     "40c55d22ba3c406949b68ca0a02c6aa1": {
      "model_module": "cl-cytoscape",
      "model_module_version": "^0.1.96",
      "model_name": "ElementModel",
      "state": {
       "_model_module_version": "^0.1.96",
       "_view_module_version": "^0.1.96",
       "classes": [
        "ab6ee3ece6354ba488366f3a9cfbfc8a"
       ],
       "data": {
        "id": "e27c26afafbf4afbeaf1a9950eecb92a",
        "parent": "ab6ee3ece6354ba488366f3a9cfbfc8a",
        "source": "ab6ee3ece6354ba488366f3a9cfbfc8a-4",
        "target": "ab6ee3ece6354ba488366f3a9cfbfc8a-5"
       },
       "group": "edges"
      }
     },
     "420e7d83fb2c43f349c593fb128f488c": {
      "model_module": "cl-cytoscape",
      "model_module_version": "^0.1.96",
      "model_name": "CytoscapeModel",
      "state": {
       "_model_module_version": "^0.1.96",
       "_view_module_version": "^0.1.96",
       "box_selection_enabled": true,
       "desktop_tap_threshold": 4,
       "elements": [
        "IPY_MODEL_7717d77e21fa4ef41bb4f39e63305d2b",
        "IPY_MODEL_d6d8f78ed6d1437b24e5a8cc659334d5",
        "IPY_MODEL_2c764869d70a4fa1019a9a933a48504a",
        "IPY_MODEL_0d18c200fde449ded1457cbf0092e645",
        "IPY_MODEL_3044e92c772a4242b7f27b423ede274a",
        "IPY_MODEL_ef047437eed645f1bd956267020b939f",
        "IPY_MODEL_a63a4cc62ece4182cc79a40ce740f6f5",
        "IPY_MODEL_666ab741df0e409ec5637bf40ee3c739",
        "IPY_MODEL_33fd89377111448099f192f17f0958b3",
        "IPY_MODEL_432ae2c80089416aef1578cec4799204",
        "IPY_MODEL_0950131fec6341414156ff9aa7c79ba9",
        "IPY_MODEL_c2c28b632d504af072ebeef88f5f2466",
        "IPY_MODEL_2162d58ec0b9467e893fc457e0013d25",
        "IPY_MODEL_a01c3d213cc542a6a6d88203c0bc87f7",
        "IPY_MODEL_c8a60b41ff784e0c6c74e610fc4c8cc4",
        "IPY_MODEL_0060d8839d9a45f0fcf7f7a80628fabb",
        "IPY_MODEL_a0c2aebcaf124e86df134366adcbc81e",
        "IPY_MODEL_66b27a388f87462ea683ce45dc62bdfa",
        "IPY_MODEL_83cb03c0f3ea43b8e8feee4e311c0336",
        "IPY_MODEL_c2f46ce3c80f4ab620f8f55787977cdd",
        "IPY_MODEL_0f7ca949e2194c9f28c6394bdae62306",
        "IPY_MODEL_568439ca711b49097c76191144f5b535",
        "IPY_MODEL_869d24bb8efd4771d639f91a6b083062",
        "IPY_MODEL_348333be4a3e4d368f573f1e5b8d27b5",
        "IPY_MODEL_a2a43b84edb1447be5a8f3e4fc0256b4",
        "IPY_MODEL_d261393150e241c70facfbeae90ccda8",
        "IPY_MODEL_88151ff3b55b496e4796b58824dd0112",
        "IPY_MODEL_b960b04ea1374e4f382e726178c38eed",
        "IPY_MODEL_6046cc2c4a2b48bc9f6b100f1e363010",
        "IPY_MODEL_307b70003cdd4056088bbb48dc7344cc",
        "IPY_MODEL_1773912a494747ae7bc671145d7bc2e2",
        "IPY_MODEL_451190e7f5334c9a7174de85519e6ba7",
        "IPY_MODEL_a1dd9e2e52e94dcb05965a4babdc7973",
        "IPY_MODEL_8731d48cb4474954e25e7939b7618ca6",
        "IPY_MODEL_8f39199a148f4265153205ba3814f4b6",
        "IPY_MODEL_7e8fd8edd78147025c2db27c7f5177f4",
        "IPY_MODEL_69384e612b374388d872d5cbf65ded48",
        "IPY_MODEL_791d56d05113410350528af955473288",
        "IPY_MODEL_bc6bdafbb16f4e61e052977c2a848d65",
        "IPY_MODEL_a11e7509a5eb4112e6ad7b1d10bccca7",
        "IPY_MODEL_0e07f4bdbebe4fe8af9698e92e4fd7cb",
        "IPY_MODEL_40c55d22ba3c406949b68ca0a02c6aa1",
        "IPY_MODEL_b5ae5d9b7b734991e4ae763e3cd41f3b",
        "IPY_MODEL_bf0759638eef426abdb2188d322007d6",
        "IPY_MODEL_4eef7bebfd6143e981ceb59ba8a3aeb0",
        "IPY_MODEL_4c8e4440ba0744a34f9a3d2d577d8775",
        "IPY_MODEL_4e302a041f9844245dd6a02b44d2eec5",
        "IPY_MODEL_ae52db97640f476aaf90f399448f48e5",
        "IPY_MODEL_5e166140e3b643c5ecb4048e3e2a1ace",
        "IPY_MODEL_e0ecf5bfcb974b0b761e3e54c5d84a80",
        "IPY_MODEL_cb7f4d8bd38848f69ccb9227c310e30f",
        "IPY_MODEL_d3222824beaf4b853d850f955a2341a0",
        "IPY_MODEL_1060ae9211c040d3924f67661d7d03a3",
        "IPY_MODEL_c048ac3aa45543ce6d30aac003180514",
        "IPY_MODEL_82ed156e178848201692e320d823a9c2",
        "IPY_MODEL_f62a3541b20742f470f660511bdf9e97",
        "IPY_MODEL_cf921545193049903c646cadf26dbd4f",
        "IPY_MODEL_8cdd63558381429304d2c0ceb19151dc",
        "IPY_MODEL_6f1a1d832ebc43b77131bec7ed2c8d98",
        "IPY_MODEL_05252c2a21264010d9cab580b69b2a27",
        "IPY_MODEL_079aadbb85f445bd93abb372b8e12299",
        "IPY_MODEL_0f4eda2c666c4640d68ef8960cf64085",
        "IPY_MODEL_1178bbe61db1429acdb4dd3d8223e173",
        "IPY_MODEL_58e9f8ea7c2249af71f0631482da96e4",
        "IPY_MODEL_5b32b9d4d1b04cd4d75e5cbd338a005a",
        "IPY_MODEL_1bad1e14093c448b8d3ef37dea7e7cb6",
        "IPY_MODEL_b87a86654b6c4aeef89d7b22a7c7e3b5",
        "IPY_MODEL_6d4a8b00a4ea4b0482d4362359a92f49",
        "IPY_MODEL_71b572a46ac44cb5be30e1a3cdab010e",
        "IPY_MODEL_55d7b49602e642a7531ef8ce36542e96",
        "IPY_MODEL_863b2472ceb9445afb8d076176fb7df6",
        "IPY_MODEL_e6d55ba14706481f10e0ed433c8bdaa0",
        "IPY_MODEL_1af156197cec45817fc584843fcec21c",
        "IPY_MODEL_5b3a12e822a14283ed08374c8a5d807b",
        "IPY_MODEL_160f9b3c369f4c0c2de17aaa70bcc09a",
        "IPY_MODEL_74e7ba161e1a4eeab5ac15380ad60e4a",
        "IPY_MODEL_19fa10b417164a4ea41251c44bb74ebd",
        "IPY_MODEL_29f9cc1d960c48351ebda7bc1c1b317f",
        "IPY_MODEL_1bd3711f0d9c498ce38bbb8a61a309da",
        "IPY_MODEL_e0f65f5c2c384170fd47516efae1000c",
        "IPY_MODEL_24da7000de634aa76f966ac1655a2682",
        "IPY_MODEL_71f0ee8c060143fe18a8a2524ced652c",
        "IPY_MODEL_2c226666cb8a46349eb70be368c656d0",
        "IPY_MODEL_1a36aa15e2644ffc65214ad9ba2d149e",
        "IPY_MODEL_e12aabc9e90046ace9c8f85c838e9367",
        "IPY_MODEL_68210a8f1d304792058c6a3bef92bbc6",
        "IPY_MODEL_e44d589870404144ceb15e25c2b329d8",
        "IPY_MODEL_f6079932cfeb4ef019475bb535501b6c",
        "IPY_MODEL_bfb2c4e37f6a474f0a820cd57753db8b",
        "IPY_MODEL_84fdff008b1a4f10b9b050ada3f48958",
        "IPY_MODEL_8482ae1f4b1c4d65630137baf96c2e64",
        "IPY_MODEL_cbd8ebaa97dd41ae01bd2c1dd9bc2ba0",
        "IPY_MODEL_c468ecbcf0ab4fea57c8830875e321e0",
        "IPY_MODEL_5b1b19784dcf40579db1adf155293bc1",
        "IPY_MODEL_8195c604677349925c6b96b02af6d8c0",
        "IPY_MODEL_a58d8f1f171746817ca52eb1af822bdf",
        "IPY_MODEL_896725b52ce74340b4676fa92b6d3ee3",
        "IPY_MODEL_49fc8e016cdb4bf2c28eb849c990a621",
        "IPY_MODEL_d97c62ab9927433d930efa302bead377",
        "IPY_MODEL_d559afef106e4ae2e35a7045497f6db8",
        "IPY_MODEL_9c4e7469b5604904aae4cc0f6c015ece",
        "IPY_MODEL_eba5249bfbd04a2492fcdccca337ff19",
        "IPY_MODEL_ce3a74874c21478b7a5b52844a3fb0dd",
        "IPY_MODEL_372771c412fe4990bf860c15cedcc47d",
        "IPY_MODEL_31cce64e87be4f70af00f3c6dafac209",
        "IPY_MODEL_809e0ca39107429a4751f1827cd89cb3",
        "IPY_MODEL_d63d439184f046867e09d5066f88faac",
        "IPY_MODEL_9e766094e5c14fb80244438d8612835f",
        "IPY_MODEL_151731e1186a4899b3420d9c4a6d65af",
        "IPY_MODEL_124c575d6c5f427d4850f23af847c5e5",
        "IPY_MODEL_0b8024964da842af1d40d79399ec6d5f",
        "IPY_MODEL_6438289ccc094a3991a8b18981b6474f",
        "IPY_MODEL_b686430b7cb144ecff3a385f5377c4b3",
        "IPY_MODEL_36ebfc0bfdb6452b06c2cfcd6460bda8",
        "IPY_MODEL_90a20868ee9845c13ea465669d1fb6f5",
        "IPY_MODEL_dfce286582bf47a332fb9846c738375d",
        "IPY_MODEL_f3433c1d96f54198b77ce0720faa78af",
        "IPY_MODEL_5e6e92ee78464494902cb58b5cf2726a",
        "IPY_MODEL_fff760fdd424436bc1124c31ca6ae1ee",
        "IPY_MODEL_a4847c5eaf9747d4dc3f79dc9285ba02",
        "IPY_MODEL_8e09b795b51449cfca8f0372dd1ec570",
        "IPY_MODEL_a3104febdc51401063122dfb2ca6d8cf",
        "IPY_MODEL_aba1d5fd92934c2537d964afb34692b4",
        "IPY_MODEL_e3d13c2e28fd4fa4794623f6b97b82df",
        "IPY_MODEL_562394ee73354eafddffaa51d00dcc8a",
        "IPY_MODEL_041d8c6e64294ec08845c1cdb628e62e",
        "IPY_MODEL_9d1e7a00104e4854c748fec67c2c8dde",
        "IPY_MODEL_4d68aa8d2f014248a8697548be56fac4",
        "IPY_MODEL_be550adfc69a4046e727225e8b72aeb8",
        "IPY_MODEL_c4a462f46dd0463942037ab41e8b8411",
        "IPY_MODEL_e769edc638964b5ae936c48a82c0fca4",
        "IPY_MODEL_cb61d949e824413aa8ba04e580fcd764",
        "IPY_MODEL_7f5c28b0032745ac39f7c33ada35c4e8",
        "IPY_MODEL_df2a493862c04cce5bb261a185195860",
        "IPY_MODEL_3be37838799a44d4839eb165b00bb7a7",
        "IPY_MODEL_1a69e63cf1d74fc120f0a2e6a69aabf9",
        "IPY_MODEL_c7cd839d396f49f91be4c1d5afa944a5",
        "IPY_MODEL_2d0d9fa77e34475cc880288819a1fcaa",
        "IPY_MODEL_2c21aa793cfb426b6310009ca414a29c",
        "IPY_MODEL_2120c004e71b41146afd6be16359d769",
        "IPY_MODEL_c3e764f28b2645138620f259b06e91c6",
        "IPY_MODEL_8e51b500cb8b419643cc2ac632f38da0",
        "IPY_MODEL_6f5604c3198444184f6f4375d85f7f97",
        "IPY_MODEL_35f50c505fdb457084759d2a0814079e",
        "IPY_MODEL_3962901833604182ea1a80d1ee5bd085",
        "IPY_MODEL_2fb039bf99cf409e0fba0e562e7a65f2",
        "IPY_MODEL_168b3a3ee81142bb1fadbf647ffba371",
        "IPY_MODEL_5750f9bc04d846e2b16288aeb49afbf3",
        "IPY_MODEL_a9aafa960fea48a1faf6b871cfc1fc39",
        "IPY_MODEL_1bfd3ede2567429689cf7978f9c68391",
        "IPY_MODEL_f2fdeaa6641a4b6abf3545b5b0bd202a",
        "IPY_MODEL_bb558da2f5594e83f7063ca03defe291",
        "IPY_MODEL_8c6ce9168c3b4c7546dffc2bb98a3f5d",
        "IPY_MODEL_65c828fa5bbd404b7d247fbceb8cc438",
        "IPY_MODEL_ea78bc9ba76245d110b79454705bcd37",
        "IPY_MODEL_62a3cbe713df485dc5b920aca82cb06f",
        "IPY_MODEL_2d3edbee795b4fbc0df09fef0cad2118",
        "IPY_MODEL_ac0572e2366c4760eceb3a2362e80e88",
        "IPY_MODEL_240d7c8f0bac479cd59ac2042fe36f9b",
        "IPY_MODEL_9032b57814fb41c56cf7c01ed07fa8c4",
        "IPY_MODEL_e2ec678ab7274b38186553472da4af1c",
        "IPY_MODEL_01ede2af3a3a480801c71294548188b7",
        "IPY_MODEL_94ed1f6579c14a16e4e0d2ad107d392a",
        "IPY_MODEL_2fd3353711b040fbb278fe0e0ceff156",
        "IPY_MODEL_809a8ee549b24c0717d81d0cfa7f2908",
        "IPY_MODEL_fce3582986fa4b2a79b59e3ff16d2f7e",
        "IPY_MODEL_b633228f2f2f46196770384914b312b7",
        "IPY_MODEL_268bfddff289484e1cd989d24d184b23",
        "IPY_MODEL_807675a3f1f645f39aef15c4de17b5bc",
        "IPY_MODEL_b3a851b0f3954b14987d13cc6e4b7459",
        "IPY_MODEL_30499f8ef79d40be6f5830424e5e8c60",
        "IPY_MODEL_a2493ac7223746b86a295fdf4c54d34d",
        "IPY_MODEL_bcc5ce75aa8440d18d9b0c7a06afea4d",
        "IPY_MODEL_d092f0a743594e020a5b11281aefc24f",
        "IPY_MODEL_8cfa826772af44505f90f487fa8c1a4a",
        "IPY_MODEL_e3a6503cf1814a3b7f34cb57cfc6188a",
        "IPY_MODEL_504d54f43e9f40cdb9721d76a3d0ec75",
        "IPY_MODEL_1046d6a5c7ca47b3e42147899dc17b4b",
        "IPY_MODEL_c60c5111d2e94058b522b3581c2a815d",
        "IPY_MODEL_e02b6dcd5b624b4321ec1726b41be02c",
        "IPY_MODEL_8269275c4a3547236c807e8942c6e6aa",
        "IPY_MODEL_6b4ce864f71440ef370758bfd24c53a8",
        "IPY_MODEL_0e0c00c8a2174d357fab7ad28096fbcd",
        "IPY_MODEL_ce50859089aa41317234a80fb8bc93d4"
       ],
       "graph_layouts": [
        "IPY_MODEL_ead3821fc8124f51eb02a34750c92027",
        "IPY_MODEL_5dbe1ad1ce8a4bc97faac0a621f6d2d1",
        "IPY_MODEL_2b894e6160264625a294e76abd94a14d",
        "IPY_MODEL_df4c724d9c764bffaa9e16bf64fa68a3",
        "IPY_MODEL_cfbab9351b1641f736f3c300b3546bcf",
        "IPY_MODEL_ca52cc0cf3dd466a3e0c275b613ac216",
        "IPY_MODEL_5a93aa578d13487945c99630f6995cd3",
        "IPY_MODEL_cf991080a1994242cf5de4a84d5a2aa4"
       ],
       "graph_style": "node { content: data(name); } \n                                                  node.child { text-valign: center; text-halign: center; }\n                                                  edge { curve-style: bezier; }",
       "layout": "IPY_MODEL_7c4bb48b9fc54a274efbfefa1bfe7f0a",
       "max_zoom": 9.999999999999999e+49,
       "min_zoom": 1.0000000000000001e-50,
       "pan": {
        "X": 0,
        "Y": 0
       },
       "style": "IPY_MODEL_d1d23678e5de425462b12b01f7967afc",
       "tooltip_source": "tooltip"
      }
     },
     "432ae2c80089416aef1578cec4799204": {
      "model_module": "cl-cytoscape",
      "model_module_version": "^0.1.96",
      "model_name": "ElementModel",
      "state": {
       "_model_module_version": "^0.1.96",
       "_view_module_version": "^0.1.96",
       "classes": [
        "4ee4c5e5e01c4d09b36dfb4280546bb2"
       ],
       "data": {
        "id": "649cf6ce0a8c4339efc76101fae11814",
        "parent": "4ee4c5e5e01c4d09b36dfb4280546bb2",
        "source": "4ee4c5e5e01c4d09b36dfb4280546bb2-0",
        "target": "4ee4c5e5e01c4d09b36dfb4280546bb2-5"
       },
       "group": "edges"
      }
     },
     "451190e7f5334c9a7174de85519e6ba7": {
      "model_module": "cl-cytoscape",
      "model_module_version": "^0.1.96",
      "model_name": "ElementModel",
      "state": {
       "_model_module_version": "^0.1.96",
       "_view_module_version": "^0.1.96",
       "classes": [
        "ab6ee3ece6354ba488366f3a9cfbfc8a"
       ],
       "data": {
        "id": "b92e0e214d3f4514e752d82e1180a9ca",
        "parent": "ab6ee3ece6354ba488366f3a9cfbfc8a",
        "source": "ab6ee3ece6354ba488366f3a9cfbfc8a-0",
        "target": "ab6ee3ece6354ba488366f3a9cfbfc8a-1"
       },
       "group": "edges"
      }
     },
     "49fc8e016cdb4bf2c28eb849c990a621": {
      "model_module": "cl-cytoscape",
      "model_module_version": "^0.1.96",
      "model_name": "ElementModel",
      "state": {
       "_model_module_version": "^0.1.96",
       "_view_module_version": "^0.1.96",
       "classes": [
        "07f2e90fdb744a048b7fefcc2bdec43e",
        "child"
       ],
       "data": {
        "id": "07f2e90fdb744a048b7fefcc2bdec43e-4",
        "name": "4",
        "parent": "07f2e90fdb744a048b7fefcc2bdec43e"
       },
       "position": {
        "x": 90.86408642079067,
        "y": 514.142135623731
       }
      }
     },
     "4c8e4440ba0744a34f9a3d2d577d8775": {
      "model_module": "cl-cytoscape",
      "model_module_version": "^0.1.96",
      "model_name": "ElementModel",
      "state": {
       "_model_module_version": "^0.1.96",
       "_view_module_version": "^0.1.96",
       "classes": [
        "ab6ee3ece6354ba488366f3a9cfbfc8a"
       ],
       "data": {
        "id": "41519276bd004689cc14df26862c2694",
        "parent": "ab6ee3ece6354ba488366f3a9cfbfc8a",
        "source": "ab6ee3ece6354ba488366f3a9cfbfc8a-5",
        "target": "ab6ee3ece6354ba488366f3a9cfbfc8a-6"
       },
       "group": "edges"
      }
     },
     "4d68aa8d2f014248a8697548be56fac4": {
      "model_module": "cl-cytoscape",
      "model_module_version": "^0.1.96",
      "model_name": "ElementModel",
      "state": {
       "_model_module_version": "^0.1.96",
       "_view_module_version": "^0.1.96",
       "classes": [
        "5285bd7a253042a8a1fd523cb4f9f150"
       ],
       "data": {
        "id": "eed82323666e4b7a8d52e4faaaa518f8",
        "parent": "5285bd7a253042a8a1fd523cb4f9f150",
        "source": "5285bd7a253042a8a1fd523cb4f9f150-1",
        "target": "5285bd7a253042a8a1fd523cb4f9f150-6"
       },
       "group": "edges"
      }
     },
     "4e302a041f9844245dd6a02b44d2eec5": {
      "model_module": "cl-cytoscape",
      "model_module_version": "^0.1.96",
      "model_name": "ElementModel",
      "state": {
       "_model_module_version": "^0.1.96",
       "_view_module_version": "^0.1.96",
       "classes": [
        "ae136bdb9b784b2a3ce0346ed45aaeef"
       ],
       "data": {
        "id": "ae136bdb9b784b2a3ce0346ed45aaeef",
        "name": "grid-layout"
       }
      }
     },
     "4eef7bebfd6143e981ceb59ba8a3aeb0": {
      "model_module": "cl-cytoscape",
      "model_module_version": "^0.1.96",
      "model_name": "ElementModel",
      "state": {
       "_model_module_version": "^0.1.96",
       "_view_module_version": "^0.1.96",
       "classes": [
        "ab6ee3ece6354ba488366f3a9cfbfc8a"
       ],
       "data": {
        "id": "a460bc845c0a4cd3a87d3f466f11c5bc",
        "parent": "ab6ee3ece6354ba488366f3a9cfbfc8a",
        "source": "ab6ee3ece6354ba488366f3a9cfbfc8a-5",
        "target": "ab6ee3ece6354ba488366f3a9cfbfc8a-3"
       },
       "group": "edges"
      }
     },
     "504d54f43e9f40cdb9721d76a3d0ec75": {
      "model_module": "cl-cytoscape",
      "model_module_version": "^0.1.96",
      "model_name": "ElementModel",
      "state": {
       "_model_module_version": "^0.1.96",
       "_view_module_version": "^0.1.96",
       "classes": [
        "01a64693523e41cc128991ec529db249"
       ],
       "data": {
        "id": "f8d36bee31564b780eae35661d731da1",
        "parent": "01a64693523e41cc128991ec529db249",
        "source": "01a64693523e41cc128991ec529db249-2",
        "target": "01a64693523e41cc128991ec529db249-6"
       },
       "group": "edges"
      }
     },
     "55d7b49602e642a7531ef8ce36542e96": {
      "model_module": "cl-cytoscape",
      "model_module_version": "^0.1.96",
      "model_name": "ElementModel",
      "state": {
       "_model_module_version": "^0.1.96",
       "_view_module_version": "^0.1.96",
       "classes": [
        "f28066d8d6724dc76ea394bb044626a6"
       ],
       "data": {
        "id": "f28066d8d6724dc76ea394bb044626a6",
        "name": "circle-layout"
       }
      }
     },
     "562394ee73354eafddffaa51d00dcc8a": {
      "model_module": "cl-cytoscape",
      "model_module_version": "^0.1.96",
      "model_name": "ElementModel",
      "state": {
       "_model_module_version": "^0.1.96",
       "_view_module_version": "^0.1.96",
       "classes": [
        "5285bd7a253042a8a1fd523cb4f9f150"
       ],
       "data": {
        "id": "ab74df5dca074d9e874d13ae660628b8",
        "parent": "5285bd7a253042a8a1fd523cb4f9f150",
        "source": "5285bd7a253042a8a1fd523cb4f9f150-0",
        "target": "5285bd7a253042a8a1fd523cb4f9f150-5"
       },
       "group": "edges"
      }
     },
     "568439ca711b49097c76191144f5b535": {
      "model_module": "cl-cytoscape",
      "model_module_version": "^0.1.96",
      "model_name": "ElementModel",
      "state": {
       "_model_module_version": "^0.1.96",
       "_view_module_version": "^0.1.96",
       "classes": [
        "4ee4c5e5e01c4d09b36dfb4280546bb2"
       ],
       "data": {
        "id": "07ed73103a6a440ed8bed0266e4bebc9",
        "parent": "4ee4c5e5e01c4d09b36dfb4280546bb2",
        "source": "4ee4c5e5e01c4d09b36dfb4280546bb2-5",
        "target": "4ee4c5e5e01c4d09b36dfb4280546bb2-3"
       },
       "group": "edges"
      }
     },
     "5750f9bc04d846e2b16288aeb49afbf3": {
      "model_module": "cl-cytoscape",
      "model_module_version": "^0.1.96",
      "model_name": "ElementModel",
      "state": {
       "_model_module_version": "^0.1.96",
       "_view_module_version": "^0.1.96",
       "classes": [
        "776f20dca923417c2278b479f6f510ab"
       ],
       "data": {
        "id": "f750f59be1674f39437b93283f8e7439",
        "parent": "776f20dca923417c2278b479f6f510ab",
        "source": "776f20dca923417c2278b479f6f510ab-0",
        "target": "776f20dca923417c2278b479f6f510ab-5"
       },
       "group": "edges"
      }
     },
     "58e9f8ea7c2249af71f0631482da96e4": {
      "model_module": "cl-cytoscape",
      "model_module_version": "^0.1.96",
      "model_name": "ElementModel",
      "state": {
       "_model_module_version": "^0.1.96",
       "_view_module_version": "^0.1.96",
       "classes": [
        "ae136bdb9b784b2a3ce0346ed45aaeef"
       ],
       "data": {
        "id": "02b63ac783ac42c623ce71d63b205d36",
        "parent": "ae136bdb9b784b2a3ce0346ed45aaeef",
        "source": "ae136bdb9b784b2a3ce0346ed45aaeef-3",
        "target": "ae136bdb9b784b2a3ce0346ed45aaeef-6"
       },
       "group": "edges"
      }
     },
     "5a93aa578d13487945c99630f6995cd3": {
      "model_module": "cl-cytoscape",
      "model_module_version": "^0.1.96",
      "model_name": "ColaLayoutModel",
      "state": {
       "_model_module_version": "^0.1.96",
       "_view_module_version": "^0.1.96",
       "bounding_box": {
        "h": 300,
        "w": 300,
        "x1": 660,
        "x2": 960,
        "y1": 330,
        "y2": 630
       },
       "fit": false,
       "selector": ".776f20dca923417c2278b479f6f510ab"
      }
     },
     "5b1b19784dcf40579db1adf155293bc1": {
      "model_module": "cl-cytoscape",
      "model_module_version": "^0.1.96",
      "model_name": "ElementModel",
      "state": {
       "_model_module_version": "^0.1.96",
       "_view_module_version": "^0.1.96",
       "classes": [
        "07f2e90fdb744a048b7fefcc2bdec43e",
        "child"
       ],
       "data": {
        "id": "07f2e90fdb744a048b7fefcc2bdec43e-0",
        "name": "0",
        "parent": "07f2e90fdb744a048b7fefcc2bdec43e"
       },
       "position": {
        "x": 150,
        "y": 411.7157287525381
       }
      }
     },
     "5b32b9d4d1b04cd4d75e5cbd338a005a": {
      "model_module": "cl-cytoscape",
      "model_module_version": "^0.1.96",
      "model_name": "ElementModel",
      "state": {
       "_model_module_version": "^0.1.96",
       "_view_module_version": "^0.1.96",
       "classes": [
        "ae136bdb9b784b2a3ce0346ed45aaeef"
       ],
       "data": {
        "id": "71f968ef7f8b4b961d3f9c3ddb14424d",
        "parent": "ae136bdb9b784b2a3ce0346ed45aaeef",
        "source": "ae136bdb9b784b2a3ce0346ed45aaeef-4",
        "target": "ae136bdb9b784b2a3ce0346ed45aaeef-5"
       },
       "group": "edges"
      }
     },
     "5b3a12e822a14283ed08374c8a5d807b": {
      "model_module": "cl-cytoscape",
      "model_module_version": "^0.1.96",
      "model_name": "ElementModel",
      "state": {
       "_model_module_version": "^0.1.96",
       "_view_module_version": "^0.1.96",
       "classes": [
        "f28066d8d6724dc76ea394bb044626a6",
        "child"
       ],
       "data": {
        "id": "f28066d8d6724dc76ea394bb044626a6-3",
        "name": "3",
        "parent": "f28066d8d6724dc76ea394bb044626a6"
       },
       "position": {
        "x": 1192.066048694107,
        "y": 258.11626414829027
       }
      }
     },
     "5dbe1ad1ce8a4bc97faac0a621f6d2d1": {
      "model_module": "cl-cytoscape",
      "model_module_version": "^0.1.96",
      "model_name": "RandomLayoutModel",
      "state": {
       "_model_module_version": "^0.1.96",
       "_view_module_version": "^0.1.96",
       "bounding_box": {
        "h": 300,
        "w": 300,
        "x1": 330,
        "y1": 0
       },
       "fit": false,
       "selector": ".ab6ee3ece6354ba488366f3a9cfbfc8a"
      }
     },
     "5e166140e3b643c5ecb4048e3e2a1ace": {
      "model_module": "cl-cytoscape",
      "model_module_version": "^0.1.96",
      "model_name": "ElementModel",
      "state": {
       "_model_module_version": "^0.1.96",
       "_view_module_version": "^0.1.96",
       "classes": [
        "ae136bdb9b784b2a3ce0346ed45aaeef",
        "child"
       ],
       "data": {
        "id": "ae136bdb9b784b2a3ce0346ed45aaeef-1",
        "name": "1",
        "parent": "ae136bdb9b784b2a3ce0346ed45aaeef"
       },
       "position": {
        "x": 810,
        "y": 50
       }
      }
     },
     "5e6e92ee78464494902cb58b5cf2726a": {
      "model_module": "cl-cytoscape",
      "model_module_version": "^0.1.96",
      "model_name": "ElementModel",
      "state": {
       "_model_module_version": "^0.1.96",
       "_view_module_version": "^0.1.96",
       "classes": [
        "5285bd7a253042a8a1fd523cb4f9f150",
        "child"
       ],
       "data": {
        "id": "5285bd7a253042a8a1fd523cb4f9f150-1",
        "name": "1",
        "parent": "5285bd7a253042a8a1fd523cb4f9f150"
       },
       "position": {
        "x": 528.7487238776597,
        "y": 565.7569787671287
       }
      }
     },
     "6046cc2c4a2b48bc9f6b100f1e363010": {
      "model_module": "cl-cytoscape",
      "model_module_version": "^0.1.96",
      "model_name": "ElementModel",
      "state": {
       "_model_module_version": "^0.1.96",
       "_view_module_version": "^0.1.96",
       "classes": [
        "ab6ee3ece6354ba488366f3a9cfbfc8a",
        "child"
       ],
       "data": {
        "id": "ab6ee3ece6354ba488366f3a9cfbfc8a-4",
        "name": "4",
        "parent": "ab6ee3ece6354ba488366f3a9cfbfc8a"
       },
       "position": {
        "x": 353,
        "y": 32
       }
      }
     },
     "62a3cbe713df485dc5b920aca82cb06f": {
      "model_module": "cl-cytoscape",
      "model_module_version": "^0.1.96",
      "model_name": "ElementModel",
      "state": {
       "_model_module_version": "^0.1.96",
       "_view_module_version": "^0.1.96",
       "classes": [
        "776f20dca923417c2278b479f6f510ab"
       ],
       "data": {
        "id": "314dc7a47fa94e09ae8cdc01bd9fb973",
        "parent": "776f20dca923417c2278b479f6f510ab",
        "source": "776f20dca923417c2278b479f6f510ab-3",
        "target": "776f20dca923417c2278b479f6f510ab-6"
       },
       "group": "edges"
      }
     },
     "6438289ccc094a3991a8b18981b6474f": {
      "model_module": "cl-cytoscape",
      "model_module_version": "^0.1.96",
      "model_name": "ElementModel",
      "state": {
       "_model_module_version": "^0.1.96",
       "_view_module_version": "^0.1.96",
       "classes": [
        "07f2e90fdb744a048b7fefcc2bdec43e"
       ],
       "data": {
        "id": "22cd7a171ff84c93f3762963cb69d67a",
        "parent": "07f2e90fdb744a048b7fefcc2bdec43e",
        "source": "07f2e90fdb744a048b7fefcc2bdec43e-4",
        "target": "07f2e90fdb744a048b7fefcc2bdec43e-3"
       },
       "group": "edges"
      }
     },
     "65c828fa5bbd404b7d247fbceb8cc438": {
      "model_module": "cl-cytoscape",
      "model_module_version": "^0.1.96",
      "model_name": "ElementModel",
      "state": {
       "_model_module_version": "^0.1.96",
       "_view_module_version": "^0.1.96",
       "classes": [
        "776f20dca923417c2278b479f6f510ab"
       ],
       "data": {
        "id": "b82a783c48e84ca321dae0f5118ea6db",
        "parent": "776f20dca923417c2278b479f6f510ab",
        "source": "776f20dca923417c2278b479f6f510ab-2",
        "target": "776f20dca923417c2278b479f6f510ab-6"
       },
       "group": "edges"
      }
     },
     "666ab741df0e409ec5637bf40ee3c739": {
      "model_module": "cl-cytoscape",
      "model_module_version": "^0.1.96",
      "model_name": "ElementModel",
      "state": {
       "_model_module_version": "^0.1.96",
       "_view_module_version": "^0.1.96",
       "classes": [
        "4ee4c5e5e01c4d09b36dfb4280546bb2",
        "child"
       ],
       "data": {
        "id": "4ee4c5e5e01c4d09b36dfb4280546bb2-6",
        "name": "6",
        "parent": "4ee4c5e5e01c4d09b36dfb4280546bb2"
       },
       "position": {
        "x": 237.5,
        "y": 121.875
       }
      }
     },
     "66b27a388f87462ea683ce45dc62bdfa": {
      "model_module": "cl-cytoscape",
      "model_module_version": "^0.1.96",
      "model_name": "ElementModel",
      "state": {
       "_model_module_version": "^0.1.96",
       "_view_module_version": "^0.1.96",
       "classes": [
        "4ee4c5e5e01c4d09b36dfb4280546bb2"
       ],
       "data": {
        "id": "dddc548586054abc323266b6d1ed1ab4",
        "parent": "4ee4c5e5e01c4d09b36dfb4280546bb2",
        "source": "4ee4c5e5e01c4d09b36dfb4280546bb2-3",
        "target": "4ee4c5e5e01c4d09b36dfb4280546bb2-6"
       },
       "group": "edges"
      }
     },
     "68210a8f1d304792058c6a3bef92bbc6": {
      "model_module": "cl-cytoscape",
      "model_module_version": "^0.1.96",
      "model_name": "ElementModel",
      "state": {
       "_model_module_version": "^0.1.96",
       "_view_module_version": "^0.1.96",
       "classes": [
        "f28066d8d6724dc76ea394bb044626a6"
       ],
       "data": {
        "id": "76badcb0ecad472d2125a7aa54ca8bd6",
        "parent": "f28066d8d6724dc76ea394bb044626a6",
        "source": "f28066d8d6724dc76ea394bb044626a6-3",
        "target": "f28066d8d6724dc76ea394bb044626a6-1"
       },
       "group": "edges"
      }
     },
     "69384e612b374388d872d5cbf65ded48": {
      "model_module": "cl-cytoscape",
      "model_module_version": "^0.1.96",
      "model_name": "ElementModel",
      "state": {
       "_model_module_version": "^0.1.96",
       "_view_module_version": "^0.1.96",
       "classes": [
        "ab6ee3ece6354ba488366f3a9cfbfc8a"
       ],
       "data": {
        "id": "9d1db90c9e3f4b0b00310695c4949633",
        "parent": "ab6ee3ece6354ba488366f3a9cfbfc8a",
        "source": "ab6ee3ece6354ba488366f3a9cfbfc8a-2",
        "target": "ab6ee3ece6354ba488366f3a9cfbfc8a-3"
       },
       "group": "edges"
      }
     },
     "6b4ce864f71440ef370758bfd24c53a8": {
      "model_module": "cl-cytoscape",
      "model_module_version": "^0.1.96",
      "model_name": "ElementModel",
      "state": {
       "_model_module_version": "^0.1.96",
       "_view_module_version": "^0.1.96",
       "classes": [
        "01a64693523e41cc128991ec529db249"
       ],
       "data": {
        "id": "5126712de87e457d171d3f14f3c88b9e",
        "parent": "01a64693523e41cc128991ec529db249",
        "source": "01a64693523e41cc128991ec529db249-4",
        "target": "01a64693523e41cc128991ec529db249-6"
       },
       "group": "edges"
      }
     },
     "6d4a8b00a4ea4b0482d4362359a92f49": {
      "model_module": "cl-cytoscape",
      "model_module_version": "^0.1.96",
      "model_name": "ElementModel",
      "state": {
       "_model_module_version": "^0.1.96",
       "_view_module_version": "^0.1.96",
       "classes": [
        "ae136bdb9b784b2a3ce0346ed45aaeef"
       ],
       "data": {
        "id": "eccc9e6f93ee45a788eb148ee0bbd702",
        "parent": "ae136bdb9b784b2a3ce0346ed45aaeef",
        "source": "ae136bdb9b784b2a3ce0346ed45aaeef-5",
        "target": "ae136bdb9b784b2a3ce0346ed45aaeef-3"
       },
       "group": "edges"
      }
     },
     "6f1a1d832ebc43b77131bec7ed2c8d98": {
      "model_module": "cl-cytoscape",
      "model_module_version": "^0.1.96",
      "model_name": "ElementModel",
      "state": {
       "_model_module_version": "^0.1.96",
       "_view_module_version": "^0.1.96",
       "classes": [
        "ae136bdb9b784b2a3ce0346ed45aaeef"
       ],
       "data": {
        "id": "be456c0f451d4e96d028f6cb51ba69f3",
        "parent": "ae136bdb9b784b2a3ce0346ed45aaeef",
        "source": "ae136bdb9b784b2a3ce0346ed45aaeef-1",
        "target": "ae136bdb9b784b2a3ce0346ed45aaeef-6"
       },
       "group": "edges"
      }
     },
     "6f5604c3198444184f6f4375d85f7f97": {
      "model_module": "cl-cytoscape",
      "model_module_version": "^0.1.96",
      "model_name": "ElementModel",
      "state": {
       "_model_module_version": "^0.1.96",
       "_view_module_version": "^0.1.96",
       "classes": [
        "776f20dca923417c2278b479f6f510ab",
        "child"
       ],
       "data": {
        "id": "776f20dca923417c2278b479f6f510ab-3",
        "name": "3",
        "parent": "776f20dca923417c2278b479f6f510ab"
       },
       "position": {
        "x": 873.8887490820438,
        "y": 454.44373086745384
       }
      }
     },
     "71b572a46ac44cb5be30e1a3cdab010e": {
      "model_module": "cl-cytoscape",
      "model_module_version": "^0.1.96",
      "model_name": "ElementModel",
      "state": {
       "_model_module_version": "^0.1.96",
       "_view_module_version": "^0.1.96",
       "classes": [
        "ae136bdb9b784b2a3ce0346ed45aaeef"
       ],
       "data": {
        "id": "006bc2ab34d6486e70c0ba9a10cd2de1",
        "parent": "ae136bdb9b784b2a3ce0346ed45aaeef",
        "source": "ae136bdb9b784b2a3ce0346ed45aaeef-5",
        "target": "ae136bdb9b784b2a3ce0346ed45aaeef-6"
       },
       "group": "edges"
      }
     },
     "71f0ee8c060143fe18a8a2524ced652c": {
      "model_module": "cl-cytoscape",
      "model_module_version": "^0.1.96",
      "model_name": "ElementModel",
      "state": {
       "_model_module_version": "^0.1.96",
       "_view_module_version": "^0.1.96",
       "classes": [
        "f28066d8d6724dc76ea394bb044626a6"
       ],
       "data": {
        "id": "1308ad27b7504b0c79031df34622c0f6",
        "parent": "f28066d8d6724dc76ea394bb044626a6",
        "source": "f28066d8d6724dc76ea394bb044626a6-1",
        "target": "f28066d8d6724dc76ea394bb044626a6-6"
       },
       "group": "edges"
      }
     },
     "74e7ba161e1a4eeab5ac15380ad60e4a": {
      "model_module": "cl-cytoscape",
      "model_module_version": "^0.1.96",
      "model_name": "ElementModel",
      "state": {
       "_model_module_version": "^0.1.96",
       "_view_module_version": "^0.1.96",
       "classes": [
        "f28066d8d6724dc76ea394bb044626a6",
        "child"
       ],
       "data": {
        "id": "f28066d8d6724dc76ea394bb044626a6-5",
        "name": "5",
        "parent": "f28066d8d6724dc76ea394bb044626a6"
       },
       "position": {
        "x": 1023.0086505381812,
        "y": 176.70251207475778
       }
      }
     },
     "7717d77e21fa4ef41bb4f39e63305d2b": {
      "model_module": "cl-cytoscape",
      "model_module_version": "^0.1.96",
      "model_name": "ElementModel",
      "state": {
       "_model_module_version": "^0.1.96",
       "_view_module_version": "^0.1.96",
       "classes": [
        "4ee4c5e5e01c4d09b36dfb4280546bb2"
       ],
       "data": {
        "id": "4ee4c5e5e01c4d09b36dfb4280546bb2",
        "name": "breadth-first-layout"
       }
      }
     },
     "791d56d05113410350528af955473288": {
      "model_module": "cl-cytoscape",
      "model_module_version": "^0.1.96",
      "model_name": "ElementModel",
      "state": {
       "_model_module_version": "^0.1.96",
       "_view_module_version": "^0.1.96",
       "classes": [
        "ab6ee3ece6354ba488366f3a9cfbfc8a"
       ],
       "data": {
        "id": "edcaef3fdb934cdee475ccb71afee03d",
        "parent": "ab6ee3ece6354ba488366f3a9cfbfc8a",
        "source": "ab6ee3ece6354ba488366f3a9cfbfc8a-2",
        "target": "ab6ee3ece6354ba488366f3a9cfbfc8a-1"
       },
       "group": "edges"
      }
     },
     "7c4bb48b9fc54a274efbfefa1bfe7f0a": {
      "model_module": "@jupyter-widgets/base",
      "model_module_version": "1.2.0",
      "model_name": "LayoutModel",
      "state": {
       "height": "640px"
      }
     },
     "7e8fd8edd78147025c2db27c7f5177f4": {
      "model_module": "cl-cytoscape",
      "model_module_version": "^0.1.96",
      "model_name": "ElementModel",
      "state": {
       "_model_module_version": "^0.1.96",
       "_view_module_version": "^0.1.96",
       "classes": [
        "ab6ee3ece6354ba488366f3a9cfbfc8a"
       ],
       "data": {
        "id": "918a9253fbc04ad9ce5a7b55f96822de",
        "parent": "ab6ee3ece6354ba488366f3a9cfbfc8a",
        "source": "ab6ee3ece6354ba488366f3a9cfbfc8a-1",
        "target": "ab6ee3ece6354ba488366f3a9cfbfc8a-6"
       },
       "group": "edges"
      }
     },
     "7f5c28b0032745ac39f7c33ada35c4e8": {
      "model_module": "cl-cytoscape",
      "model_module_version": "^0.1.96",
      "model_name": "ElementModel",
      "state": {
       "_model_module_version": "^0.1.96",
       "_view_module_version": "^0.1.96",
       "classes": [
        "5285bd7a253042a8a1fd523cb4f9f150"
       ],
       "data": {
        "id": "16807d4059a54a89e1b59f176ef50bc9",
        "parent": "5285bd7a253042a8a1fd523cb4f9f150",
        "source": "5285bd7a253042a8a1fd523cb4f9f150-3",
        "target": "5285bd7a253042a8a1fd523cb4f9f150-6"
       },
       "group": "edges"
      }
     },
     "807675a3f1f645f39aef15c4de17b5bc": {
      "model_module": "cl-cytoscape",
      "model_module_version": "^0.1.96",
      "model_name": "ElementModel",
      "state": {
       "_model_module_version": "^0.1.96",
       "_view_module_version": "^0.1.96",
       "classes": [
        "01a64693523e41cc128991ec529db249",
        "child"
       ],
       "data": {
        "id": "01a64693523e41cc128991ec529db249-6",
        "name": "6",
        "parent": "01a64693523e41cc128991ec529db249"
       },
       "position": {
        "x": 1092.127659574468,
        "y": 630
       }
      }
     },
     "809a8ee549b24c0717d81d0cfa7f2908": {
      "model_module": "cl-cytoscape",
      "model_module_version": "^0.1.96",
      "model_name": "ElementModel",
      "state": {
       "_model_module_version": "^0.1.96",
       "_view_module_version": "^0.1.96",
       "classes": [
        "01a64693523e41cc128991ec529db249",
        "child"
       ],
       "data": {
        "id": "01a64693523e41cc128991ec529db249-2",
        "name": "2",
        "parent": "01a64693523e41cc128991ec529db249"
       },
       "position": {
        "x": 1290,
        "y": 330
       }
      }
     },
     "809e0ca39107429a4751f1827cd89cb3": {
      "model_module": "cl-cytoscape",
      "model_module_version": "^0.1.96",
      "model_name": "ElementModel",
      "state": {
       "_model_module_version": "^0.1.96",
       "_view_module_version": "^0.1.96",
       "classes": [
        "07f2e90fdb744a048b7fefcc2bdec43e"
       ],
       "data": {
        "id": "821d4ada83ad422aa6f812b17fd59e29",
        "parent": "07f2e90fdb744a048b7fefcc2bdec43e",
        "source": "07f2e90fdb744a048b7fefcc2bdec43e-2",
        "target": "07f2e90fdb744a048b7fefcc2bdec43e-3"
       },
       "group": "edges"
      }
     },
     "8195c604677349925c6b96b02af6d8c0": {
      "model_module": "cl-cytoscape",
      "model_module_version": "^0.1.96",
      "model_name": "ElementModel",
      "state": {
       "_model_module_version": "^0.1.96",
       "_view_module_version": "^0.1.96",
       "classes": [
        "07f2e90fdb744a048b7fefcc2bdec43e",
        "child"
       ],
       "data": {
        "id": "07f2e90fdb744a048b7fefcc2bdec43e-1",
        "name": "1",
        "parent": "07f2e90fdb744a048b7fefcc2bdec43e"
       },
       "position": {
        "x": 178.2842712474619,
        "y": 480
       }
      }
     },
     "8269275c4a3547236c807e8942c6e6aa": {
      "model_module": "cl-cytoscape",
      "model_module_version": "^0.1.96",
      "model_name": "ElementModel",
      "state": {
       "_model_module_version": "^0.1.96",
       "_view_module_version": "^0.1.96",
       "classes": [
        "01a64693523e41cc128991ec529db249"
       ],
       "data": {
        "id": "04bb986d33c14aa9d9fba215157b0d8c",
        "parent": "01a64693523e41cc128991ec529db249",
        "source": "01a64693523e41cc128991ec529db249-4",
        "target": "01a64693523e41cc128991ec529db249-3"
       },
       "group": "edges"
      }
     },
     "82ed156e178848201692e320d823a9c2": {
      "model_module": "cl-cytoscape",
      "model_module_version": "^0.1.96",
      "model_name": "ElementModel",
      "state": {
       "_model_module_version": "^0.1.96",
       "_view_module_version": "^0.1.96",
       "classes": [
        "ae136bdb9b784b2a3ce0346ed45aaeef"
       ],
       "data": {
        "id": "97703a160cf544d5a60337e96edd304c",
        "parent": "ae136bdb9b784b2a3ce0346ed45aaeef",
        "source": "ae136bdb9b784b2a3ce0346ed45aaeef-0",
        "target": "ae136bdb9b784b2a3ce0346ed45aaeef-1"
       },
       "group": "edges"
      }
     },
     "83cb03c0f3ea43b8e8feee4e311c0336": {
      "model_module": "cl-cytoscape",
      "model_module_version": "^0.1.96",
      "model_name": "ElementModel",
      "state": {
       "_model_module_version": "^0.1.96",
       "_view_module_version": "^0.1.96",
       "classes": [
        "4ee4c5e5e01c4d09b36dfb4280546bb2"
       ],
       "data": {
        "id": "cdc3cb7bf14e4c82b518a8a9f7e1ee23",
        "parent": "4ee4c5e5e01c4d09b36dfb4280546bb2",
        "source": "4ee4c5e5e01c4d09b36dfb4280546bb2-4",
        "target": "4ee4c5e5e01c4d09b36dfb4280546bb2-5"
       },
       "group": "edges"
      }
     },
     "8482ae1f4b1c4d65630137baf96c2e64": {
      "model_module": "cl-cytoscape",
      "model_module_version": "^0.1.96",
      "model_name": "ElementModel",
      "state": {
       "_model_module_version": "^0.1.96",
       "_view_module_version": "^0.1.96",
       "classes": [
        "f28066d8d6724dc76ea394bb044626a6"
       ],
       "data": {
        "id": "3a4c572262634d3207a4ac8b672c9a01",
        "parent": "f28066d8d6724dc76ea394bb044626a6",
        "source": "f28066d8d6724dc76ea394bb044626a6-5",
        "target": "f28066d8d6724dc76ea394bb044626a6-3"
       },
       "group": "edges"
      }
     },
     "84fdff008b1a4f10b9b050ada3f48958": {
      "model_module": "cl-cytoscape",
      "model_module_version": "^0.1.96",
      "model_name": "ElementModel",
      "state": {
       "_model_module_version": "^0.1.96",
       "_view_module_version": "^0.1.96",
       "classes": [
        "f28066d8d6724dc76ea394bb044626a6"
       ],
       "data": {
        "id": "0f87823e20124b9b5c02fc598aa5bbe2",
        "parent": "f28066d8d6724dc76ea394bb044626a6",
        "source": "f28066d8d6724dc76ea394bb044626a6-4",
        "target": "f28066d8d6724dc76ea394bb044626a6-6"
       },
       "group": "edges"
      }
     },
     "863b2472ceb9445afb8d076176fb7df6": {
      "model_module": "cl-cytoscape",
      "model_module_version": "^0.1.96",
      "model_name": "ElementModel",
      "state": {
       "_model_module_version": "^0.1.96",
       "_view_module_version": "^0.1.96",
       "classes": [
        "f28066d8d6724dc76ea394bb044626a6",
        "child"
       ],
       "data": {
        "id": "f28066d8d6724dc76ea394bb044626a6-0",
        "name": "0",
        "parent": "f28066d8d6724dc76ea394bb044626a6"
       },
       "position": {
        "x": 1140,
        "y": 30
       }
      }
     },
     "869d24bb8efd4771d639f91a6b083062": {
      "model_module": "cl-cytoscape",
      "model_module_version": "^0.1.96",
      "model_name": "ElementModel",
      "state": {
       "_model_module_version": "^0.1.96",
       "_view_module_version": "^0.1.96",
       "classes": [
        "4ee4c5e5e01c4d09b36dfb4280546bb2"
       ],
       "data": {
        "id": "af2b6b80e55041ab58db38901f6bda6c",
        "parent": "4ee4c5e5e01c4d09b36dfb4280546bb2",
        "source": "4ee4c5e5e01c4d09b36dfb4280546bb2-5",
        "target": "4ee4c5e5e01c4d09b36dfb4280546bb2-6"
       },
       "group": "edges"
      }
     },
     "8731d48cb4474954e25e7939b7618ca6": {
      "model_module": "cl-cytoscape",
      "model_module_version": "^0.1.96",
      "model_name": "ElementModel",
      "state": {
       "_model_module_version": "^0.1.96",
       "_view_module_version": "^0.1.96",
       "classes": [
        "ab6ee3ece6354ba488366f3a9cfbfc8a"
       ],
       "data": {
        "id": "e8d5e487e96c4e1c22ca636331957498",
        "parent": "ab6ee3ece6354ba488366f3a9cfbfc8a",
        "source": "ab6ee3ece6354ba488366f3a9cfbfc8a-0",
        "target": "ab6ee3ece6354ba488366f3a9cfbfc8a-6"
       },
       "group": "edges"
      }
     },
     "88151ff3b55b496e4796b58824dd0112": {
      "model_module": "cl-cytoscape",
      "model_module_version": "^0.1.96",
      "model_name": "ElementModel",
      "state": {
       "_model_module_version": "^0.1.96",
       "_view_module_version": "^0.1.96",
       "classes": [
        "ab6ee3ece6354ba488366f3a9cfbfc8a",
        "child"
       ],
       "data": {
        "id": "ab6ee3ece6354ba488366f3a9cfbfc8a-2",
        "name": "2",
        "parent": "ab6ee3ece6354ba488366f3a9cfbfc8a"
       },
       "position": {
        "x": 528,
        "y": 4
       }
      }
     },
     "896725b52ce74340b4676fa92b6d3ee3": {
      "model_module": "cl-cytoscape",
      "model_module_version": "^0.1.96",
      "model_name": "ElementModel",
      "state": {
       "_model_module_version": "^0.1.96",
       "_view_module_version": "^0.1.96",
       "classes": [
        "07f2e90fdb744a048b7fefcc2bdec43e",
        "child"
       ],
       "data": {
        "id": "07f2e90fdb744a048b7fefcc2bdec43e-3",
        "name": "3",
        "parent": "07f2e90fdb744a048b7fefcc2bdec43e"
       },
       "position": {
        "x": 150,
        "y": 508.2842712474619
       }
      }
     },
     "8c6ce9168c3b4c7546dffc2bb98a3f5d": {
      "model_module": "cl-cytoscape",
      "model_module_version": "^0.1.96",
      "model_name": "ElementModel",
      "state": {
       "_model_module_version": "^0.1.96",
       "_view_module_version": "^0.1.96",
       "classes": [
        "776f20dca923417c2278b479f6f510ab"
       ],
       "data": {
        "id": "ef08e5b3b2b546883b1d2a94d49fc80f",
        "parent": "776f20dca923417c2278b479f6f510ab",
        "source": "776f20dca923417c2278b479f6f510ab-2",
        "target": "776f20dca923417c2278b479f6f510ab-1"
       },
       "group": "edges"
      }
     },
     "8cdd63558381429304d2c0ceb19151dc": {
      "model_module": "cl-cytoscape",
      "model_module_version": "^0.1.96",
      "model_name": "ElementModel",
      "state": {
       "_model_module_version": "^0.1.96",
       "_view_module_version": "^0.1.96",
       "classes": [
        "ae136bdb9b784b2a3ce0346ed45aaeef"
       ],
       "data": {
        "id": "650d3aabf9274b41ac0435b6b0482a95",
        "parent": "ae136bdb9b784b2a3ce0346ed45aaeef",
        "source": "ae136bdb9b784b2a3ce0346ed45aaeef-1",
        "target": "ae136bdb9b784b2a3ce0346ed45aaeef-5"
       },
       "group": "edges"
      }
     },
     "8cfa826772af44505f90f487fa8c1a4a": {
      "model_module": "cl-cytoscape",
      "model_module_version": "^0.1.96",
      "model_name": "ElementModel",
      "state": {
       "_model_module_version": "^0.1.96",
       "_view_module_version": "^0.1.96",
       "classes": [
        "01a64693523e41cc128991ec529db249"
       ],
       "data": {
        "id": "2e3a34d0c3b4427c60df3ab52a8a0a4e",
        "parent": "01a64693523e41cc128991ec529db249",
        "source": "01a64693523e41cc128991ec529db249-2",
        "target": "01a64693523e41cc128991ec529db249-3"
       },
       "group": "edges"
      }
     },
     "8e09b795b51449cfca8f0372dd1ec570": {
      "model_module": "cl-cytoscape",
      "model_module_version": "^0.1.96",
      "model_name": "ElementModel",
      "state": {
       "_model_module_version": "^0.1.96",
       "_view_module_version": "^0.1.96",
       "classes": [
        "5285bd7a253042a8a1fd523cb4f9f150",
        "child"
       ],
       "data": {
        "id": "5285bd7a253042a8a1fd523cb4f9f150-4",
        "name": "4",
        "parent": "5285bd7a253042a8a1fd523cb4f9f150"
       },
       "position": {
        "x": 629.6356668662866,
        "y": 339.7899708132104
       }
      }
     },
     "8e51b500cb8b419643cc2ac632f38da0": {
      "model_module": "cl-cytoscape",
      "model_module_version": "^0.1.96",
      "model_name": "ElementModel",
      "state": {
       "_model_module_version": "^0.1.96",
       "_view_module_version": "^0.1.96",
       "classes": [
        "776f20dca923417c2278b479f6f510ab",
        "child"
       ],
       "data": {
        "id": "776f20dca923417c2278b479f6f510ab-2",
        "name": "2",
        "parent": "776f20dca923417c2278b479f6f510ab"
       },
       "position": {
        "x": 723.8887460820438,
        "y": 480.3488748674241
       }
      }
     },
     "8f39199a148f4265153205ba3814f4b6": {
      "model_module": "cl-cytoscape",
      "model_module_version": "^0.1.96",
      "model_name": "ElementModel",
      "state": {
       "_model_module_version": "^0.1.96",
       "_view_module_version": "^0.1.96",
       "classes": [
        "ab6ee3ece6354ba488366f3a9cfbfc8a"
       ],
       "data": {
        "id": "9019d163241242d51d642f4a7d9b74f2",
        "parent": "ab6ee3ece6354ba488366f3a9cfbfc8a",
        "source": "ab6ee3ece6354ba488366f3a9cfbfc8a-1",
        "target": "ab6ee3ece6354ba488366f3a9cfbfc8a-5"
       },
       "group": "edges"
      }
     },
     "9032b57814fb41c56cf7c01ed07fa8c4": {
      "model_module": "cl-cytoscape",
      "model_module_version": "^0.1.96",
      "model_name": "ElementModel",
      "state": {
       "_model_module_version": "^0.1.96",
       "_view_module_version": "^0.1.96",
       "classes": [
        "776f20dca923417c2278b479f6f510ab"
       ],
       "data": {
        "id": "8c4794adb98e43e97c1b7ab9ee59d3bb",
        "parent": "776f20dca923417c2278b479f6f510ab",
        "source": "776f20dca923417c2278b479f6f510ab-5",
        "target": "776f20dca923417c2278b479f6f510ab-3"
       },
       "group": "edges"
      }
     },
     "90a20868ee9845c13ea465669d1fb6f5": {
      "model_module": "cl-cytoscape",
      "model_module_version": "^0.1.96",
      "model_name": "ElementModel",
      "state": {
       "_model_module_version": "^0.1.96",
       "_view_module_version": "^0.1.96",
       "classes": [
        "07f2e90fdb744a048b7fefcc2bdec43e"
       ],
       "data": {
        "id": "cb563827da7f426559ede63d4a3d252a",
        "parent": "07f2e90fdb744a048b7fefcc2bdec43e",
        "source": "07f2e90fdb744a048b7fefcc2bdec43e-5",
        "target": "07f2e90fdb744a048b7fefcc2bdec43e-6"
       },
       "group": "edges"
      }
     },
     "94ed1f6579c14a16e4e0d2ad107d392a": {
      "model_module": "cl-cytoscape",
      "model_module_version": "^0.1.96",
      "model_name": "ElementModel",
      "state": {
       "_model_module_version": "^0.1.96",
       "_view_module_version": "^0.1.96",
       "classes": [
        "01a64693523e41cc128991ec529db249",
        "child"
       ],
       "data": {
        "id": "01a64693523e41cc128991ec529db249-0",
        "name": "0",
        "parent": "01a64693523e41cc128991ec529db249"
       },
       "position": {
        "x": 1015.531914893617,
        "y": 330
       }
      }
     },
     "9c4e7469b5604904aae4cc0f6c015ece": {
      "model_module": "cl-cytoscape",
      "model_module_version": "^0.1.96",
      "model_name": "ElementModel",
      "state": {
       "_model_module_version": "^0.1.96",
       "_view_module_version": "^0.1.96",
       "classes": [
        "07f2e90fdb744a048b7fefcc2bdec43e"
       ],
       "data": {
        "id": "3f6ca4509dea4be7e999df530f9b7279",
        "parent": "07f2e90fdb744a048b7fefcc2bdec43e",
        "source": "07f2e90fdb744a048b7fefcc2bdec43e-0",
        "target": "07f2e90fdb744a048b7fefcc2bdec43e-1"
       },
       "group": "edges"
      }
     },
     "9d1e7a00104e4854c748fec67c2c8dde": {
      "model_module": "cl-cytoscape",
      "model_module_version": "^0.1.96",
      "model_name": "ElementModel",
      "state": {
       "_model_module_version": "^0.1.96",
       "_view_module_version": "^0.1.96",
       "classes": [
        "5285bd7a253042a8a1fd523cb4f9f150"
       ],
       "data": {
        "id": "1a7560af13b74f0a89a9654bcd110618",
        "parent": "5285bd7a253042a8a1fd523cb4f9f150",
        "source": "5285bd7a253042a8a1fd523cb4f9f150-1",
        "target": "5285bd7a253042a8a1fd523cb4f9f150-5"
       },
       "group": "edges"
      }
     },
     "9e766094e5c14fb80244438d8612835f": {
      "model_module": "cl-cytoscape",
      "model_module_version": "^0.1.96",
      "model_name": "ElementModel",
      "state": {
       "_model_module_version": "^0.1.96",
       "_view_module_version": "^0.1.96",
       "classes": [
        "07f2e90fdb744a048b7fefcc2bdec43e"
       ],
       "data": {
        "id": "bae063a626914d7ad923b12d009b6347",
        "parent": "07f2e90fdb744a048b7fefcc2bdec43e",
        "source": "07f2e90fdb744a048b7fefcc2bdec43e-2",
        "target": "07f2e90fdb744a048b7fefcc2bdec43e-6"
       },
       "group": "edges"
      }
     },
     "a01c3d213cc542a6a6d88203c0bc87f7": {
      "model_module": "cl-cytoscape",
      "model_module_version": "^0.1.96",
      "model_name": "ElementModel",
      "state": {
       "_model_module_version": "^0.1.96",
       "_view_module_version": "^0.1.96",
       "classes": [
        "4ee4c5e5e01c4d09b36dfb4280546bb2"
       ],
       "data": {
        "id": "e1efe5db307748469084b19bf45f42de",
        "parent": "4ee4c5e5e01c4d09b36dfb4280546bb2",
        "source": "4ee4c5e5e01c4d09b36dfb4280546bb2-2",
        "target": "4ee4c5e5e01c4d09b36dfb4280546bb2-3"
       },
       "group": "edges"
      }
     },
     "a0c2aebcaf124e86df134366adcbc81e": {
      "model_module": "cl-cytoscape",
      "model_module_version": "^0.1.96",
      "model_name": "ElementModel",
      "state": {
       "_model_module_version": "^0.1.96",
       "_view_module_version": "^0.1.96",
       "classes": [
        "4ee4c5e5e01c4d09b36dfb4280546bb2"
       ],
       "data": {
        "id": "84704de0c38a4c49e7a829cf8b69f5a5",
        "parent": "4ee4c5e5e01c4d09b36dfb4280546bb2",
        "source": "4ee4c5e5e01c4d09b36dfb4280546bb2-3",
        "target": "4ee4c5e5e01c4d09b36dfb4280546bb2-1"
       },
       "group": "edges"
      }
     },
     "a11e7509a5eb4112e6ad7b1d10bccca7": {
      "model_module": "cl-cytoscape",
      "model_module_version": "^0.1.96",
      "model_name": "ElementModel",
      "state": {
       "_model_module_version": "^0.1.96",
       "_view_module_version": "^0.1.96",
       "classes": [
        "ab6ee3ece6354ba488366f3a9cfbfc8a"
       ],
       "data": {
        "id": "6c208dcd35564fd77eeeeb24e5704ac9",
        "parent": "ab6ee3ece6354ba488366f3a9cfbfc8a",
        "source": "ab6ee3ece6354ba488366f3a9cfbfc8a-3",
        "target": "ab6ee3ece6354ba488366f3a9cfbfc8a-1"
       },
       "group": "edges"
      }
     },
     "a1dd9e2e52e94dcb05965a4babdc7973": {
      "model_module": "cl-cytoscape",
      "model_module_version": "^0.1.96",
      "model_name": "ElementModel",
      "state": {
       "_model_module_version": "^0.1.96",
       "_view_module_version": "^0.1.96",
       "classes": [
        "ab6ee3ece6354ba488366f3a9cfbfc8a"
       ],
       "data": {
        "id": "b8ce627969a24a9c4b32f6d46375435f",
        "parent": "ab6ee3ece6354ba488366f3a9cfbfc8a",
        "source": "ab6ee3ece6354ba488366f3a9cfbfc8a-0",
        "target": "ab6ee3ece6354ba488366f3a9cfbfc8a-5"
       },
       "group": "edges"
      }
     },
     "a2493ac7223746b86a295fdf4c54d34d": {
      "model_module": "cl-cytoscape",
      "model_module_version": "^0.1.96",
      "model_name": "ElementModel",
      "state": {
       "_model_module_version": "^0.1.96",
       "_view_module_version": "^0.1.96",
       "classes": [
        "01a64693523e41cc128991ec529db249"
       ],
       "data": {
        "id": "76ed561ea68e4ea84d8789cf538013b1",
        "parent": "01a64693523e41cc128991ec529db249",
        "source": "01a64693523e41cc128991ec529db249-0",
        "target": "01a64693523e41cc128991ec529db249-6"
       },
       "group": "edges"
      }
     },
     "a2a43b84edb1447be5a8f3e4fc0256b4": {
      "model_module": "cl-cytoscape",
      "model_module_version": "^0.1.96",
      "model_name": "ElementModel",
      "state": {
       "_model_module_version": "^0.1.96",
       "_view_module_version": "^0.1.96",
       "classes": [
        "ab6ee3ece6354ba488366f3a9cfbfc8a",
        "child"
       ],
       "data": {
        "id": "ab6ee3ece6354ba488366f3a9cfbfc8a-0",
        "name": "0",
        "parent": "ab6ee3ece6354ba488366f3a9cfbfc8a"
       },
       "position": {
        "x": 457,
        "y": 132
       }
      }
     },
     "a3104febdc51401063122dfb2ca6d8cf": {
      "model_module": "cl-cytoscape",
      "model_module_version": "^0.1.96",
      "model_name": "ElementModel",
      "state": {
       "_model_module_version": "^0.1.96",
       "_view_module_version": "^0.1.96",
       "classes": [
        "5285bd7a253042a8a1fd523cb4f9f150",
        "child"
       ],
       "data": {
        "id": "5285bd7a253042a8a1fd523cb4f9f150-5",
        "name": "5",
        "parent": "5285bd7a253042a8a1fd523cb4f9f150"
       },
       "position": {
        "x": 556.7725214479548,
        "y": 330
       }
      }
     },
     "a4847c5eaf9747d4dc3f79dc9285ba02": {
      "model_module": "cl-cytoscape",
      "model_module_version": "^0.1.96",
      "model_name": "ElementModel",
      "state": {
       "_model_module_version": "^0.1.96",
       "_view_module_version": "^0.1.96",
       "classes": [
        "5285bd7a253042a8a1fd523cb4f9f150",
        "child"
       ],
       "data": {
        "id": "5285bd7a253042a8a1fd523cb4f9f150-3",
        "name": "3",
        "parent": "5285bd7a253042a8a1fd523cb4f9f150"
       },
       "position": {
        "x": 630,
        "y": 495.6542030088689
       }
      }
     },
     "a58d8f1f171746817ca52eb1af822bdf": {
      "model_module": "cl-cytoscape",
      "model_module_version": "^0.1.96",
      "model_name": "ElementModel",
      "state": {
       "_model_module_version": "^0.1.96",
       "_view_module_version": "^0.1.96",
       "classes": [
        "07f2e90fdb744a048b7fefcc2bdec43e",
        "child"
       ],
       "data": {
        "id": "07f2e90fdb744a048b7fefcc2bdec43e-2",
        "name": "2",
        "parent": "07f2e90fdb744a048b7fefcc2bdec43e"
       },
       "position": {
        "x": 209.13591357920933,
        "y": 514.142135623731
       }
      }
     },
     "a63a4cc62ece4182cc79a40ce740f6f5": {
      "model_module": "cl-cytoscape",
      "model_module_version": "^0.1.96",
      "model_name": "ElementModel",
      "state": {
       "_model_module_version": "^0.1.96",
       "_view_module_version": "^0.1.96",
       "classes": [
        "4ee4c5e5e01c4d09b36dfb4280546bb2",
        "child"
       ],
       "data": {
        "id": "4ee4c5e5e01c4d09b36dfb4280546bb2-5",
        "name": "5",
        "parent": "4ee4c5e5e01c4d09b36dfb4280546bb2"
       },
       "position": {
        "x": 337.49999999999994,
        "y": 253.125
       }
      }
     },
     "a9aafa960fea48a1faf6b871cfc1fc39": {
      "model_module": "cl-cytoscape",
      "model_module_version": "^0.1.96",
      "model_name": "ElementModel",
      "state": {
       "_model_module_version": "^0.1.96",
       "_view_module_version": "^0.1.96",
       "classes": [
        "776f20dca923417c2278b479f6f510ab"
       ],
       "data": {
        "id": "cf774c72c43d40a3a3931cb96a232f35",
        "parent": "776f20dca923417c2278b479f6f510ab",
        "source": "776f20dca923417c2278b479f6f510ab-0",
        "target": "776f20dca923417c2278b479f6f510ab-6"
       },
       "group": "edges"
      }
     },
     "aba1d5fd92934c2537d964afb34692b4": {
      "model_module": "cl-cytoscape",
      "model_module_version": "^0.1.96",
      "model_name": "ElementModel",
      "state": {
       "_model_module_version": "^0.1.96",
       "_view_module_version": "^0.1.96",
       "classes": [
        "5285bd7a253042a8a1fd523cb4f9f150",
        "child"
       ],
       "data": {
        "id": "5285bd7a253042a8a1fd523cb4f9f150-6",
        "name": "6",
        "parent": "5285bd7a253042a8a1fd523cb4f9f150"
       },
       "position": {
        "x": 569.3337894970475,
        "y": 467.49467075866687
       }
      }
     },
     "ac0572e2366c4760eceb3a2362e80e88": {
      "model_module": "cl-cytoscape",
      "model_module_version": "^0.1.96",
      "model_name": "ElementModel",
      "state": {
       "_model_module_version": "^0.1.96",
       "_view_module_version": "^0.1.96",
       "classes": [
        "776f20dca923417c2278b479f6f510ab"
       ],
       "data": {
        "id": "090784ccad7348485ff83dd5f275407c",
        "parent": "776f20dca923417c2278b479f6f510ab",
        "source": "776f20dca923417c2278b479f6f510ab-4",
        "target": "776f20dca923417c2278b479f6f510ab-3"
       },
       "group": "edges"
      }
     },
     "ae52db97640f476aaf90f399448f48e5": {
      "model_module": "cl-cytoscape",
      "model_module_version": "^0.1.96",
      "model_name": "ElementModel",
      "state": {
       "_model_module_version": "^0.1.96",
       "_view_module_version": "^0.1.96",
       "classes": [
        "ae136bdb9b784b2a3ce0346ed45aaeef",
        "child"
       ],
       "data": {
        "id": "ae136bdb9b784b2a3ce0346ed45aaeef-0",
        "name": "0",
        "parent": "ae136bdb9b784b2a3ce0346ed45aaeef"
       },
       "position": {
        "x": 710,
        "y": 50
       }
      }
     },
     "b3a851b0f3954b14987d13cc6e4b7459": {
      "model_module": "cl-cytoscape",
      "model_module_version": "^0.1.96",
      "model_name": "ElementModel",
      "state": {
       "_model_module_version": "^0.1.96",
       "_view_module_version": "^0.1.96",
       "classes": [
        "01a64693523e41cc128991ec529db249"
       ],
       "data": {
        "id": "b406438b53fb4f2f6e5e3dfcb63be6a5",
        "parent": "01a64693523e41cc128991ec529db249",
        "source": "01a64693523e41cc128991ec529db249-0",
        "target": "01a64693523e41cc128991ec529db249-1"
       },
       "group": "edges"
      }
     },
     "b5ae5d9b7b734991e4ae763e3cd41f3b": {
      "model_module": "cl-cytoscape",
      "model_module_version": "^0.1.96",
      "model_name": "ElementModel",
      "state": {
       "_model_module_version": "^0.1.96",
       "_view_module_version": "^0.1.96",
       "classes": [
        "ab6ee3ece6354ba488366f3a9cfbfc8a"
       ],
       "data": {
        "id": "e8a10cd759c54832523d5293f301cb75",
        "parent": "ab6ee3ece6354ba488366f3a9cfbfc8a",
        "source": "ab6ee3ece6354ba488366f3a9cfbfc8a-4",
        "target": "ab6ee3ece6354ba488366f3a9cfbfc8a-3"
       },
       "group": "edges"
      }
     },
     "b633228f2f2f46196770384914b312b7": {
      "model_module": "cl-cytoscape",
      "model_module_version": "^0.1.96",
      "model_name": "ElementModel",
      "state": {
       "_model_module_version": "^0.1.96",
       "_view_module_version": "^0.1.96",
       "classes": [
        "01a64693523e41cc128991ec529db249",
        "child"
       ],
       "data": {
        "id": "01a64693523e41cc128991ec529db249-4",
        "name": "4",
        "parent": "01a64693523e41cc128991ec529db249"
       },
       "position": {
        "x": 990,
        "y": 405
       }
      }
     },
     "b686430b7cb144ecff3a385f5377c4b3": {
      "model_module": "cl-cytoscape",
      "model_module_version": "^0.1.96",
      "model_name": "ElementModel",
      "state": {
       "_model_module_version": "^0.1.96",
       "_view_module_version": "^0.1.96",
       "classes": [
        "07f2e90fdb744a048b7fefcc2bdec43e"
       ],
       "data": {
        "id": "1a85be907f2445a78a85e6aac28d3992",
        "parent": "07f2e90fdb744a048b7fefcc2bdec43e",
        "source": "07f2e90fdb744a048b7fefcc2bdec43e-4",
        "target": "07f2e90fdb744a048b7fefcc2bdec43e-6"
       },
       "group": "edges"
      }
     },
     "b87a86654b6c4aeef89d7b22a7c7e3b5": {
      "model_module": "cl-cytoscape",
      "model_module_version": "^0.1.96",
      "model_name": "ElementModel",
      "state": {
       "_model_module_version": "^0.1.96",
       "_view_module_version": "^0.1.96",
       "classes": [
        "ae136bdb9b784b2a3ce0346ed45aaeef"
       ],
       "data": {
        "id": "dc7fe74963c3487087fee04af7e90665",
        "parent": "ae136bdb9b784b2a3ce0346ed45aaeef",
        "source": "ae136bdb9b784b2a3ce0346ed45aaeef-4",
        "target": "ae136bdb9b784b2a3ce0346ed45aaeef-6"
       },
       "group": "edges"
      }
     },
     "b960b04ea1374e4f382e726178c38eed": {
      "model_module": "cl-cytoscape",
      "model_module_version": "^0.1.96",
      "model_name": "ElementModel",
      "state": {
       "_model_module_version": "^0.1.96",
       "_view_module_version": "^0.1.96",
       "classes": [
        "ab6ee3ece6354ba488366f3a9cfbfc8a",
        "child"
       ],
       "data": {
        "id": "ab6ee3ece6354ba488366f3a9cfbfc8a-3",
        "name": "3",
        "parent": "ab6ee3ece6354ba488366f3a9cfbfc8a"
       },
       "position": {
        "x": 603,
        "y": 168
       }
      }
     },
     "bb558da2f5594e83f7063ca03defe291": {
      "model_module": "cl-cytoscape",
      "model_module_version": "^0.1.96",
      "model_name": "ElementModel",
      "state": {
       "_model_module_version": "^0.1.96",
       "_view_module_version": "^0.1.96",
       "classes": [
        "776f20dca923417c2278b479f6f510ab"
       ],
       "data": {
        "id": "c7cc93946e4f48fe78eacac9b96ebfe1",
        "parent": "776f20dca923417c2278b479f6f510ab",
        "source": "776f20dca923417c2278b479f6f510ab-2",
        "target": "776f20dca923417c2278b479f6f510ab-3"
       },
       "group": "edges"
      }
     },
     "bc6bdafbb16f4e61e052977c2a848d65": {
      "model_module": "cl-cytoscape",
      "model_module_version": "^0.1.96",
      "model_name": "ElementModel",
      "state": {
       "_model_module_version": "^0.1.96",
       "_view_module_version": "^0.1.96",
       "classes": [
        "ab6ee3ece6354ba488366f3a9cfbfc8a"
       ],
       "data": {
        "id": "fe21763823364ab70e67262a09f0bd60",
        "parent": "ab6ee3ece6354ba488366f3a9cfbfc8a",
        "source": "ab6ee3ece6354ba488366f3a9cfbfc8a-2",
        "target": "ab6ee3ece6354ba488366f3a9cfbfc8a-6"
       },
       "group": "edges"
      }
     },
     "bcc5ce75aa8440d18d9b0c7a06afea4d": {
      "model_module": "cl-cytoscape",
      "model_module_version": "^0.1.96",
      "model_name": "ElementModel",
      "state": {
       "_model_module_version": "^0.1.96",
       "_view_module_version": "^0.1.96",
       "classes": [
        "01a64693523e41cc128991ec529db249"
       ],
       "data": {
        "id": "1a08f5e29635435a86509df3b7f2b704",
        "parent": "01a64693523e41cc128991ec529db249",
        "source": "01a64693523e41cc128991ec529db249-1",
        "target": "01a64693523e41cc128991ec529db249-5"
       },
       "group": "edges"
      }
     },
     "be550adfc69a4046e727225e8b72aeb8": {
      "model_module": "cl-cytoscape",
      "model_module_version": "^0.1.96",
      "model_name": "ElementModel",
      "state": {
       "_model_module_version": "^0.1.96",
       "_view_module_version": "^0.1.96",
       "classes": [
        "5285bd7a253042a8a1fd523cb4f9f150"
       ],
       "data": {
        "id": "ae36c9eed0d44174826efec631a7422a",
        "parent": "5285bd7a253042a8a1fd523cb4f9f150",
        "source": "5285bd7a253042a8a1fd523cb4f9f150-2",
        "target": "5285bd7a253042a8a1fd523cb4f9f150-3"
       },
       "group": "edges"
      }
     },
     "bf0759638eef426abdb2188d322007d6": {
      "model_module": "cl-cytoscape",
      "model_module_version": "^0.1.96",
      "model_name": "ElementModel",
      "state": {
       "_model_module_version": "^0.1.96",
       "_view_module_version": "^0.1.96",
       "classes": [
        "ab6ee3ece6354ba488366f3a9cfbfc8a"
       ],
       "data": {
        "id": "134770198861447b4eae206eb4cfc7ab",
        "parent": "ab6ee3ece6354ba488366f3a9cfbfc8a",
        "source": "ab6ee3ece6354ba488366f3a9cfbfc8a-4",
        "target": "ab6ee3ece6354ba488366f3a9cfbfc8a-6"
       },
       "group": "edges"
      }
     },
     "bfb2c4e37f6a474f0a820cd57753db8b": {
      "model_module": "cl-cytoscape",
      "model_module_version": "^0.1.96",
      "model_name": "ElementModel",
      "state": {
       "_model_module_version": "^0.1.96",
       "_view_module_version": "^0.1.96",
       "classes": [
        "f28066d8d6724dc76ea394bb044626a6"
       ],
       "data": {
        "id": "3773249889c94c205d416097fb4efdd4",
        "parent": "f28066d8d6724dc76ea394bb044626a6",
        "source": "f28066d8d6724dc76ea394bb044626a6-4",
        "target": "f28066d8d6724dc76ea394bb044626a6-3"
       },
       "group": "edges"
      }
     },
     "c048ac3aa45543ce6d30aac003180514": {
      "model_module": "cl-cytoscape",
      "model_module_version": "^0.1.96",
      "model_name": "ElementModel",
      "state": {
       "_model_module_version": "^0.1.96",
       "_view_module_version": "^0.1.96",
       "classes": [
        "ae136bdb9b784b2a3ce0346ed45aaeef",
        "child"
       ],
       "data": {
        "id": "ae136bdb9b784b2a3ce0346ed45aaeef-6",
        "name": "6",
        "parent": "ae136bdb9b784b2a3ce0346ed45aaeef"
       },
       "position": {
        "x": 710,
        "y": 250
       }
      }
     },
     "c2c28b632d504af072ebeef88f5f2466": {
      "model_module": "cl-cytoscape",
      "model_module_version": "^0.1.96",
      "model_name": "ElementModel",
      "state": {
       "_model_module_version": "^0.1.96",
       "_view_module_version": "^0.1.96",
       "classes": [
        "4ee4c5e5e01c4d09b36dfb4280546bb2"
       ],
       "data": {
        "id": "c967edb25e184cba4feb1c866720c598",
        "parent": "4ee4c5e5e01c4d09b36dfb4280546bb2",
        "source": "4ee4c5e5e01c4d09b36dfb4280546bb2-1",
        "target": "4ee4c5e5e01c4d09b36dfb4280546bb2-5"
       },
       "group": "edges"
      }
     },
     "c2f46ce3c80f4ab620f8f55787977cdd": {
      "model_module": "cl-cytoscape",
      "model_module_version": "^0.1.96",
      "model_name": "ElementModel",
      "state": {
       "_model_module_version": "^0.1.96",
       "_view_module_version": "^0.1.96",
       "classes": [
        "4ee4c5e5e01c4d09b36dfb4280546bb2"
       ],
       "data": {
        "id": "8dbe0b8ab138452614ffa027f0ec1cfa",
        "parent": "4ee4c5e5e01c4d09b36dfb4280546bb2",
        "source": "4ee4c5e5e01c4d09b36dfb4280546bb2-4",
        "target": "4ee4c5e5e01c4d09b36dfb4280546bb2-3"
       },
       "group": "edges"
      }
     },
     "c3e764f28b2645138620f259b06e91c6": {
      "model_module": "cl-cytoscape",
      "model_module_version": "^0.1.96",
      "model_name": "ElementModel",
      "state": {
       "_model_module_version": "^0.1.96",
       "_view_module_version": "^0.1.96",
       "classes": [
        "776f20dca923417c2278b479f6f510ab",
        "child"
       ],
       "data": {
        "id": "776f20dca923417c2278b479f6f510ab-1",
        "name": "1",
        "parent": "776f20dca923417c2278b479f6f510ab"
       },
       "position": {
        "x": 773.8887470820439,
        "y": 454.4437308674539
       }
      }
     },
     "c468ecbcf0ab4fea57c8830875e321e0": {
      "model_module": "cl-cytoscape",
      "model_module_version": "^0.1.96",
      "model_name": "ElementModel",
      "state": {
       "_model_module_version": "^0.1.96",
       "_view_module_version": "^0.1.96",
       "classes": [
        "07f2e90fdb744a048b7fefcc2bdec43e"
       ],
       "data": {
        "id": "07f2e90fdb744a048b7fefcc2bdec43e",
        "name": "concentric-layout"
       }
      }
     },
     "c4a462f46dd0463942037ab41e8b8411": {
      "model_module": "cl-cytoscape",
      "model_module_version": "^0.1.96",
      "model_name": "ElementModel",
      "state": {
       "_model_module_version": "^0.1.96",
       "_view_module_version": "^0.1.96",
       "classes": [
        "5285bd7a253042a8a1fd523cb4f9f150"
       ],
       "data": {
        "id": "bb7845043e1142e825e3b132f01f568d",
        "parent": "5285bd7a253042a8a1fd523cb4f9f150",
        "source": "5285bd7a253042a8a1fd523cb4f9f150-2",
        "target": "5285bd7a253042a8a1fd523cb4f9f150-1"
       },
       "group": "edges"
      }
     },
     "c60c5111d2e94058b522b3581c2a815d": {
      "model_module": "cl-cytoscape",
      "model_module_version": "^0.1.96",
      "model_name": "ElementModel",
      "state": {
       "_model_module_version": "^0.1.96",
       "_view_module_version": "^0.1.96",
       "classes": [
        "01a64693523e41cc128991ec529db249"
       ],
       "data": {
        "id": "4602f9c35a014102dd814c9228f546e5",
        "parent": "01a64693523e41cc128991ec529db249",
        "source": "01a64693523e41cc128991ec529db249-3",
        "target": "01a64693523e41cc128991ec529db249-6"
       },
       "group": "edges"
      }
     },
     "c7cd839d396f49f91be4c1d5afa944a5": {
      "model_module": "cl-cytoscape",
      "model_module_version": "^0.1.96",
      "model_name": "ElementModel",
      "state": {
       "_model_module_version": "^0.1.96",
       "_view_module_version": "^0.1.96",
       "classes": [
        "5285bd7a253042a8a1fd523cb4f9f150"
       ],
       "data": {
        "id": "64bd68c2ac184caecd7effcdec1ba93d",
        "parent": "5285bd7a253042a8a1fd523cb4f9f150",
        "source": "5285bd7a253042a8a1fd523cb4f9f150-5",
        "target": "5285bd7a253042a8a1fd523cb4f9f150-3"
       },
       "group": "edges"
      }
     },
     "c8a60b41ff784e0c6c74e610fc4c8cc4": {
      "model_module": "cl-cytoscape",
      "model_module_version": "^0.1.96",
      "model_name": "ElementModel",
      "state": {
       "_model_module_version": "^0.1.96",
       "_view_module_version": "^0.1.96",
       "classes": [
        "4ee4c5e5e01c4d09b36dfb4280546bb2"
       ],
       "data": {
        "id": "caf0964e766a45fb9e86c78ccf32876c",
        "parent": "4ee4c5e5e01c4d09b36dfb4280546bb2",
        "source": "4ee4c5e5e01c4d09b36dfb4280546bb2-2",
        "target": "4ee4c5e5e01c4d09b36dfb4280546bb2-1"
       },
       "group": "edges"
      }
     },
     "ca52cc0cf3dd466a3e0c275b613ac216": {
      "model_module": "cl-cytoscape",
      "model_module_version": "^0.1.96",
      "model_name": "CoseLayoutModel",
      "state": {
       "_model_module_version": "^0.1.96",
       "_view_module_version": "^0.1.96",
       "bounding_box": {
        "h": 300,
        "w": 300,
        "x1": 330,
        "y1": 330
       },
       "fit": false,
       "selector": ".5285bd7a253042a8a1fd523cb4f9f150"
      }
     },
     "cb61d949e824413aa8ba04e580fcd764": {
      "model_module": "cl-cytoscape",
      "model_module_version": "^0.1.96",
      "model_name": "ElementModel",
      "state": {
       "_model_module_version": "^0.1.96",
       "_view_module_version": "^0.1.96",
       "classes": [
        "5285bd7a253042a8a1fd523cb4f9f150"
       ],
       "data": {
        "id": "7858bd25cd80405653598c525495be9f",
        "parent": "5285bd7a253042a8a1fd523cb4f9f150",
        "source": "5285bd7a253042a8a1fd523cb4f9f150-3",
        "target": "5285bd7a253042a8a1fd523cb4f9f150-1"
       },
       "group": "edges"
      }
     },
     "cb7f4d8bd38848f69ccb9227c310e30f": {
      "model_module": "cl-cytoscape",
      "model_module_version": "^0.1.96",
      "model_name": "ElementModel",
      "state": {
       "_model_module_version": "^0.1.96",
       "_view_module_version": "^0.1.96",
       "classes": [
        "ae136bdb9b784b2a3ce0346ed45aaeef",
        "child"
       ],
       "data": {
        "id": "ae136bdb9b784b2a3ce0346ed45aaeef-3",
        "name": "3",
        "parent": "ae136bdb9b784b2a3ce0346ed45aaeef"
       },
       "position": {
        "x": 710,
        "y": 150
       }
      }
     },
     "cbd8ebaa97dd41ae01bd2c1dd9bc2ba0": {
      "model_module": "cl-cytoscape",
      "model_module_version": "^0.1.96",
      "model_name": "ElementModel",
      "state": {
       "_model_module_version": "^0.1.96",
       "_view_module_version": "^0.1.96",
       "classes": [
        "f28066d8d6724dc76ea394bb044626a6"
       ],
       "data": {
        "id": "32b0971231714e691a39c4ccf920666d",
        "parent": "f28066d8d6724dc76ea394bb044626a6",
        "source": "f28066d8d6724dc76ea394bb044626a6-5",
        "target": "f28066d8d6724dc76ea394bb044626a6-6"
       },
       "group": "edges"
      }
     },
     "ce3a74874c21478b7a5b52844a3fb0dd": {
      "model_module": "cl-cytoscape",
      "model_module_version": "^0.1.96",
      "model_name": "ElementModel",
      "state": {
       "_model_module_version": "^0.1.96",
       "_view_module_version": "^0.1.96",
       "classes": [
        "07f2e90fdb744a048b7fefcc2bdec43e"
       ],
       "data": {
        "id": "6ed1ea796e034498063c0abd493f73b3",
        "parent": "07f2e90fdb744a048b7fefcc2bdec43e",
        "source": "07f2e90fdb744a048b7fefcc2bdec43e-0",
        "target": "07f2e90fdb744a048b7fefcc2bdec43e-6"
       },
       "group": "edges"
      }
     },
     "ce50859089aa41317234a80fb8bc93d4": {
      "model_module": "cl-cytoscape",
      "model_module_version": "^0.1.96",
      "model_name": "ElementModel",
      "state": {
       "_model_module_version": "^0.1.96",
       "_view_module_version": "^0.1.96",
       "classes": [
        "01a64693523e41cc128991ec529db249"
       ],
       "data": {
        "id": "ed09bc68cbb34d15c3eb0c9ace9a46f9",
        "parent": "01a64693523e41cc128991ec529db249",
        "source": "01a64693523e41cc128991ec529db249-5",
        "target": "01a64693523e41cc128991ec529db249-6"
       },
       "group": "edges"
      }
     },
     "cf921545193049903c646cadf26dbd4f": {
      "model_module": "cl-cytoscape",
      "model_module_version": "^0.1.96",
      "model_name": "ElementModel",
      "state": {
       "_model_module_version": "^0.1.96",
       "_view_module_version": "^0.1.96",
       "classes": [
        "ae136bdb9b784b2a3ce0346ed45aaeef"
       ],
       "data": {
        "id": "11badda764b0428b678b2a9ce9f5053d",
        "parent": "ae136bdb9b784b2a3ce0346ed45aaeef",
        "source": "ae136bdb9b784b2a3ce0346ed45aaeef-0",
        "target": "ae136bdb9b784b2a3ce0346ed45aaeef-6"
       },
       "group": "edges"
      }
     },
     "cf991080a1994242cf5de4a84d5a2aa4": {
      "model_module": "cl-cytoscape",
      "model_module_version": "^0.1.96",
      "model_name": "DagreLayoutModel",
      "state": {
       "_model_module_version": "^0.1.96",
       "_view_module_version": "^0.1.96",
       "bounding_box": {
        "h": 300,
        "w": 300,
        "x1": 990,
        "x2": 1290,
        "y1": 330,
        "y2": 630
       },
       "fit": false,
       "selector": ".01a64693523e41cc128991ec529db249"
      }
     },
     "cfbab9351b1641f736f3c300b3546bcf": {
      "model_module": "cl-cytoscape",
      "model_module_version": "^0.1.96",
      "model_name": "ConcentricLayoutModel",
      "state": {
       "_model_module_version": "^0.1.96",
       "_view_module_version": "^0.1.96",
       "bounding_box": {
        "h": 300,
        "w": 300,
        "x1": 0,
        "y1": 330
       },
       "fit": false,
       "selector": ".07f2e90fdb744a048b7fefcc2bdec43e"
      }
     },
     "d092f0a743594e020a5b11281aefc24f": {
      "model_module": "cl-cytoscape",
      "model_module_version": "^0.1.96",
      "model_name": "ElementModel",
      "state": {
       "_model_module_version": "^0.1.96",
       "_view_module_version": "^0.1.96",
       "classes": [
        "01a64693523e41cc128991ec529db249"
       ],
       "data": {
        "id": "6baa4f46133e49443970444a6bd7d134",
        "parent": "01a64693523e41cc128991ec529db249",
        "source": "01a64693523e41cc128991ec529db249-1",
        "target": "01a64693523e41cc128991ec529db249-6"
       },
       "group": "edges"
      }
     },
     "d1d23678e5de425462b12b01f7967afc": {
      "model_module": "cl-cytoscape",
      "model_module_version": "^0.1.96",
      "model_name": "CytoscapeStyleModel",
      "state": {
       "_model_module_version": "^0.1.96"
      }
     },
     "d261393150e241c70facfbeae90ccda8": {
      "model_module": "cl-cytoscape",
      "model_module_version": "^0.1.96",
      "model_name": "ElementModel",
      "state": {
       "_model_module_version": "^0.1.96",
       "_view_module_version": "^0.1.96",
       "classes": [
        "ab6ee3ece6354ba488366f3a9cfbfc8a",
        "child"
       ],
       "data": {
        "id": "ab6ee3ece6354ba488366f3a9cfbfc8a-1",
        "name": "1",
        "parent": "ab6ee3ece6354ba488366f3a9cfbfc8a"
       },
       "position": {
        "x": 366,
        "y": 286
       }
      }
     },
     "d3222824beaf4b853d850f955a2341a0": {
      "model_module": "cl-cytoscape",
      "model_module_version": "^0.1.96",
      "model_name": "ElementModel",
      "state": {
       "_model_module_version": "^0.1.96",
       "_view_module_version": "^0.1.96",
       "classes": [
        "ae136bdb9b784b2a3ce0346ed45aaeef",
        "child"
       ],
       "data": {
        "id": "ae136bdb9b784b2a3ce0346ed45aaeef-4",
        "name": "4",
        "parent": "ae136bdb9b784b2a3ce0346ed45aaeef"
       },
       "position": {
        "x": 810,
        "y": 150
       }
      }
     },
     "d559afef106e4ae2e35a7045497f6db8": {
      "model_module": "cl-cytoscape",
      "model_module_version": "^0.1.96",
      "model_name": "ElementModel",
      "state": {
       "_model_module_version": "^0.1.96",
       "_view_module_version": "^0.1.96",
       "classes": [
        "07f2e90fdb744a048b7fefcc2bdec43e",
        "child"
       ],
       "data": {
        "id": "07f2e90fdb744a048b7fefcc2bdec43e-6",
        "name": "6",
        "parent": "07f2e90fdb744a048b7fefcc2bdec43e"
       },
       "position": {
        "x": 150,
        "y": 451.7157287525381
       }
      }
     },
     "d63d439184f046867e09d5066f88faac": {
      "model_module": "cl-cytoscape",
      "model_module_version": "^0.1.96",
      "model_name": "ElementModel",
      "state": {
       "_model_module_version": "^0.1.96",
       "_view_module_version": "^0.1.96",
       "classes": [
        "07f2e90fdb744a048b7fefcc2bdec43e"
       ],
       "data": {
        "id": "eb9b03794e934b051d75eae2ae0e33e6",
        "parent": "07f2e90fdb744a048b7fefcc2bdec43e",
        "source": "07f2e90fdb744a048b7fefcc2bdec43e-2",
        "target": "07f2e90fdb744a048b7fefcc2bdec43e-1"
       },
       "group": "edges"
      }
     },
     "d6d8f78ed6d1437b24e5a8cc659334d5": {
      "model_module": "cl-cytoscape",
      "model_module_version": "^0.1.96",
      "model_name": "ElementModel",
      "state": {
       "_model_module_version": "^0.1.96",
       "_view_module_version": "^0.1.96",
       "classes": [
        "4ee4c5e5e01c4d09b36dfb4280546bb2",
        "child"
       ],
       "data": {
        "id": "4ee4c5e5e01c4d09b36dfb4280546bb2-0",
        "name": "0",
        "parent": "4ee4c5e5e01c4d09b36dfb4280546bb2"
       },
       "position": {
        "x": -37.5,
        "y": 253.125
       }
      }
     },
     "d97c62ab9927433d930efa302bead377": {
      "model_module": "cl-cytoscape",
      "model_module_version": "^0.1.96",
      "model_name": "ElementModel",
      "state": {
       "_model_module_version": "^0.1.96",
       "_view_module_version": "^0.1.96",
       "classes": [
        "07f2e90fdb744a048b7fefcc2bdec43e",
        "child"
       ],
       "data": {
        "id": "07f2e90fdb744a048b7fefcc2bdec43e-5",
        "name": "5",
        "parent": "07f2e90fdb744a048b7fefcc2bdec43e"
       },
       "position": {
        "x": 121.7157287525381,
        "y": 480
       }
      }
     },
     "df2a493862c04cce5bb261a185195860": {
      "model_module": "cl-cytoscape",
      "model_module_version": "^0.1.96",
      "model_name": "ElementModel",
      "state": {
       "_model_module_version": "^0.1.96",
       "_view_module_version": "^0.1.96",
       "classes": [
        "5285bd7a253042a8a1fd523cb4f9f150"
       ],
       "data": {
        "id": "702369bb6dde4addb9b78013e1fb9067",
        "parent": "5285bd7a253042a8a1fd523cb4f9f150",
        "source": "5285bd7a253042a8a1fd523cb4f9f150-4",
        "target": "5285bd7a253042a8a1fd523cb4f9f150-5"
       },
       "group": "edges"
      }
     },
     "df4c724d9c764bffaa9e16bf64fa68a3": {
      "model_module": "cl-cytoscape",
      "model_module_version": "^0.1.96",
      "model_name": "CircleLayoutModel",
      "state": {
       "_model_module_version": "^0.1.96",
       "_view_module_version": "^0.1.96",
       "bounding_box": {
        "h": 300,
        "w": 300,
        "x1": 990,
        "y1": 0
       },
       "fit": false,
       "selector": ".f28066d8d6724dc76ea394bb044626a6"
      }
     },
     "dfce286582bf47a332fb9846c738375d": {
      "model_module": "cl-cytoscape",
      "model_module_version": "^0.1.96",
      "model_name": "ElementModel",
      "state": {
       "_model_module_version": "^0.1.96",
       "_view_module_version": "^0.1.96",
       "classes": [
        "5285bd7a253042a8a1fd523cb4f9f150"
       ],
       "data": {
        "id": "5285bd7a253042a8a1fd523cb4f9f150",
        "name": "cose-layout"
       },
       "position": {
        "x": 562.3123798515464,
        "y": 480
       }
      }
     },
     "e02b6dcd5b624b4321ec1726b41be02c": {
      "model_module": "cl-cytoscape",
      "model_module_version": "^0.1.96",
      "model_name": "ElementModel",
      "state": {
       "_model_module_version": "^0.1.96",
       "_view_module_version": "^0.1.96",
       "classes": [
        "01a64693523e41cc128991ec529db249"
       ],
       "data": {
        "id": "91f5f39e54234dc4e2f01a15e22965e3",
        "parent": "01a64693523e41cc128991ec529db249",
        "source": "01a64693523e41cc128991ec529db249-4",
        "target": "01a64693523e41cc128991ec529db249-5"
       },
       "group": "edges"
      }
     },
     "e0ecf5bfcb974b0b761e3e54c5d84a80": {
      "model_module": "cl-cytoscape",
      "model_module_version": "^0.1.96",
      "model_name": "ElementModel",
      "state": {
       "_model_module_version": "^0.1.96",
       "_view_module_version": "^0.1.96",
       "classes": [
        "ae136bdb9b784b2a3ce0346ed45aaeef",
        "child"
       ],
       "data": {
        "id": "ae136bdb9b784b2a3ce0346ed45aaeef-2",
        "name": "2",
        "parent": "ae136bdb9b784b2a3ce0346ed45aaeef"
       },
       "position": {
        "x": 910,
        "y": 50
       }
      }
     },
     "e0f65f5c2c384170fd47516efae1000c": {
      "model_module": "cl-cytoscape",
      "model_module_version": "^0.1.96",
      "model_name": "ElementModel",
      "state": {
       "_model_module_version": "^0.1.96",
       "_view_module_version": "^0.1.96",
       "classes": [
        "f28066d8d6724dc76ea394bb044626a6"
       ],
       "data": {
        "id": "024e3b7bc9944f1ece443eb5f4324ce2",
        "parent": "f28066d8d6724dc76ea394bb044626a6",
        "source": "f28066d8d6724dc76ea394bb044626a6-0",
        "target": "f28066d8d6724dc76ea394bb044626a6-6"
       },
       "group": "edges"
      }
     },
     "e12aabc9e90046ace9c8f85c838e9367": {
      "model_module": "cl-cytoscape",
      "model_module_version": "^0.1.96",
      "model_name": "ElementModel",
      "state": {
       "_model_module_version": "^0.1.96",
       "_view_module_version": "^0.1.96",
       "classes": [
        "f28066d8d6724dc76ea394bb044626a6"
       ],
       "data": {
        "id": "3bab5f08c1c64b1b76665fdb61723485",
        "parent": "f28066d8d6724dc76ea394bb044626a6",
        "source": "f28066d8d6724dc76ea394bb044626a6-2",
        "target": "f28066d8d6724dc76ea394bb044626a6-6"
       },
       "group": "edges"
      }
     },
     "e2ec678ab7274b38186553472da4af1c": {
      "model_module": "cl-cytoscape",
      "model_module_version": "^0.1.96",
      "model_name": "ElementModel",
      "state": {
       "_model_module_version": "^0.1.96",
       "_view_module_version": "^0.1.96",
       "classes": [
        "776f20dca923417c2278b479f6f510ab"
       ],
       "data": {
        "id": "02b1458be0794b2fe75c22eb23b77a6a",
        "parent": "776f20dca923417c2278b479f6f510ab",
        "source": "776f20dca923417c2278b479f6f510ab-5",
        "target": "776f20dca923417c2278b479f6f510ab-6"
       },
       "group": "edges"
      }
     },
     "e3a6503cf1814a3b7f34cb57cfc6188a": {
      "model_module": "cl-cytoscape",
      "model_module_version": "^0.1.96",
      "model_name": "ElementModel",
      "state": {
       "_model_module_version": "^0.1.96",
       "_view_module_version": "^0.1.96",
       "classes": [
        "01a64693523e41cc128991ec529db249"
       ],
       "data": {
        "id": "7985477ee5f14ac3ef5b82d2131d91f1",
        "parent": "01a64693523e41cc128991ec529db249",
        "source": "01a64693523e41cc128991ec529db249-2",
        "target": "01a64693523e41cc128991ec529db249-1"
       },
       "group": "edges"
      }
     },
     "e3d13c2e28fd4fa4794623f6b97b82df": {
      "model_module": "cl-cytoscape",
      "model_module_version": "^0.1.96",
      "model_name": "ElementModel",
      "state": {
       "_model_module_version": "^0.1.96",
       "_view_module_version": "^0.1.96",
       "classes": [
        "5285bd7a253042a8a1fd523cb4f9f150"
       ],
       "data": {
        "id": "f17ed5609dd84f9d33821fe2f5a567fb",
        "parent": "5285bd7a253042a8a1fd523cb4f9f150",
        "source": "5285bd7a253042a8a1fd523cb4f9f150-0",
        "target": "5285bd7a253042a8a1fd523cb4f9f150-1"
       },
       "group": "edges"
      }
     },
     "e44d589870404144ceb15e25c2b329d8": {
      "model_module": "cl-cytoscape",
      "model_module_version": "^0.1.96",
      "model_name": "ElementModel",
      "state": {
       "_model_module_version": "^0.1.96",
       "_view_module_version": "^0.1.96",
       "classes": [
        "f28066d8d6724dc76ea394bb044626a6"
       ],
       "data": {
        "id": "adc5d05dc7804ed2f8f1e52444d30705",
        "parent": "f28066d8d6724dc76ea394bb044626a6",
        "source": "f28066d8d6724dc76ea394bb044626a6-3",
        "target": "f28066d8d6724dc76ea394bb044626a6-6"
       },
       "group": "edges"
      }
     },
     "e6d55ba14706481f10e0ed433c8bdaa0": {
      "model_module": "cl-cytoscape",
      "model_module_version": "^0.1.96",
      "model_name": "ElementModel",
      "state": {
       "_model_module_version": "^0.1.96",
       "_view_module_version": "^0.1.96",
       "classes": [
        "f28066d8d6724dc76ea394bb044626a6",
        "child"
       ],
       "data": {
        "id": "f28066d8d6724dc76ea394bb044626a6-1",
        "name": "1",
        "parent": "f28066d8d6724dc76ea394bb044626a6"
       },
       "position": {
        "x": 1233.8197778961635,
        "y": 75.18122377695195
       }
      }
     },
     "e769edc638964b5ae936c48a82c0fca4": {
      "model_module": "cl-cytoscape",
      "model_module_version": "^0.1.96",
      "model_name": "ElementModel",
      "state": {
       "_model_module_version": "^0.1.96",
       "_view_module_version": "^0.1.96",
       "classes": [
        "5285bd7a253042a8a1fd523cb4f9f150"
       ],
       "data": {
        "id": "b8db02f4d8c94ec33cac2fcd2e246ed7",
        "parent": "5285bd7a253042a8a1fd523cb4f9f150",
        "source": "5285bd7a253042a8a1fd523cb4f9f150-2",
        "target": "5285bd7a253042a8a1fd523cb4f9f150-6"
       },
       "group": "edges"
      }
     },
     "ea78bc9ba76245d110b79454705bcd37": {
      "model_module": "cl-cytoscape",
      "model_module_version": "^0.1.96",
      "model_name": "ElementModel",
      "state": {
       "_model_module_version": "^0.1.96",
       "_view_module_version": "^0.1.96",
       "classes": [
        "776f20dca923417c2278b479f6f510ab"
       ],
       "data": {
        "id": "98238ddd53194f1e81b2c721320e01d2",
        "parent": "776f20dca923417c2278b479f6f510ab",
        "source": "776f20dca923417c2278b479f6f510ab-3",
        "target": "776f20dca923417c2278b479f6f510ab-1"
       },
       "group": "edges"
      }
     },
     "ead3821fc8124f51eb02a34750c92027": {
      "model_module": "cl-cytoscape",
      "model_module_version": "^0.1.96",
      "model_name": "BreadthFirstLayoutModel",
      "state": {
       "_model_module_version": "^0.1.96",
       "_view_module_version": "^0.1.96",
       "bounding_box": {
        "h": 300,
        "w": 300,
        "x1": 0,
        "y1": 0
       },
       "fit": false,
       "selector": ".4ee4c5e5e01c4d09b36dfb4280546bb2"
      }
     },
     "eba5249bfbd04a2492fcdccca337ff19": {
      "model_module": "cl-cytoscape",
      "model_module_version": "^0.1.96",
      "model_name": "ElementModel",
      "state": {
       "_model_module_version": "^0.1.96",
       "_view_module_version": "^0.1.96",
       "classes": [
        "07f2e90fdb744a048b7fefcc2bdec43e"
       ],
       "data": {
        "id": "16c598e05e7f48e88b9ac69db227800c",
        "parent": "07f2e90fdb744a048b7fefcc2bdec43e",
        "source": "07f2e90fdb744a048b7fefcc2bdec43e-0",
        "target": "07f2e90fdb744a048b7fefcc2bdec43e-5"
       },
       "group": "edges"
      }
     },
     "ef047437eed645f1bd956267020b939f": {
      "model_module": "cl-cytoscape",
      "model_module_version": "^0.1.96",
      "model_name": "ElementModel",
      "state": {
       "_model_module_version": "^0.1.96",
       "_view_module_version": "^0.1.96",
       "classes": [
        "4ee4c5e5e01c4d09b36dfb4280546bb2",
        "child"
       ],
       "data": {
        "id": "4ee4c5e5e01c4d09b36dfb4280546bb2-4",
        "name": "4",
        "parent": "4ee4c5e5e01c4d09b36dfb4280546bb2"
       },
       "position": {
        "x": 262.5,
        "y": 253.125
       }
      }
     },
     "f2fdeaa6641a4b6abf3545b5b0bd202a": {
      "model_module": "cl-cytoscape",
      "model_module_version": "^0.1.96",
      "model_name": "ElementModel",
      "state": {
       "_model_module_version": "^0.1.96",
       "_view_module_version": "^0.1.96",
       "classes": [
        "776f20dca923417c2278b479f6f510ab"
       ],
       "data": {
        "id": "aac0314e97ed474cf8a46a5ede8565a7",
        "parent": "776f20dca923417c2278b479f6f510ab",
        "source": "776f20dca923417c2278b479f6f510ab-1",
        "target": "776f20dca923417c2278b479f6f510ab-6"
       },
       "group": "edges"
      }
     },
     "f3433c1d96f54198b77ce0720faa78af": {
      "model_module": "cl-cytoscape",
      "model_module_version": "^0.1.96",
      "model_name": "ElementModel",
      "state": {
       "_model_module_version": "^0.1.96",
       "_view_module_version": "^0.1.96",
       "classes": [
        "5285bd7a253042a8a1fd523cb4f9f150",
        "child"
       ],
       "data": {
        "id": "5285bd7a253042a8a1fd523cb4f9f150-0",
        "name": "0",
        "parent": "5285bd7a253042a8a1fd523cb4f9f150"
       },
       "position": {
        "x": 494.6247597030929,
        "y": 429.24788951467497
       }
      }
     },
     "f6079932cfeb4ef019475bb535501b6c": {
      "model_module": "cl-cytoscape",
      "model_module_version": "^0.1.96",
      "model_name": "ElementModel",
      "state": {
       "_model_module_version": "^0.1.96",
       "_view_module_version": "^0.1.96",
       "classes": [
        "f28066d8d6724dc76ea394bb044626a6"
       ],
       "data": {
        "id": "28fa80e3922e4c6e4dde244966ca1f4c",
        "parent": "f28066d8d6724dc76ea394bb044626a6",
        "source": "f28066d8d6724dc76ea394bb044626a6-4",
        "target": "f28066d8d6724dc76ea394bb044626a6-5"
       },
       "group": "edges"
      }
     },
     "f62a3541b20742f470f660511bdf9e97": {
      "model_module": "cl-cytoscape",
      "model_module_version": "^0.1.96",
      "model_name": "ElementModel",
      "state": {
       "_model_module_version": "^0.1.96",
       "_view_module_version": "^0.1.96",
       "classes": [
        "ae136bdb9b784b2a3ce0346ed45aaeef"
       ],
       "data": {
        "id": "3f427611b59f4fa586f0ce86c9e87c9e",
        "parent": "ae136bdb9b784b2a3ce0346ed45aaeef",
        "source": "ae136bdb9b784b2a3ce0346ed45aaeef-0",
        "target": "ae136bdb9b784b2a3ce0346ed45aaeef-5"
       },
       "group": "edges"
      }
     },
     "fce3582986fa4b2a79b59e3ff16d2f7e": {
      "model_module": "cl-cytoscape",
      "model_module_version": "^0.1.96",
      "model_name": "ElementModel",
      "state": {
       "_model_module_version": "^0.1.96",
       "_view_module_version": "^0.1.96",
       "classes": [
        "01a64693523e41cc128991ec529db249",
        "child"
       ],
       "data": {
        "id": "01a64693523e41cc128991ec529db249-3",
        "name": "3",
        "parent": "01a64693523e41cc128991ec529db249"
       },
       "position": {
        "x": 1232.5531914893618,
        "y": 555
       }
      }
     },
     "fff760fdd424436bc1124c31ca6ae1ee": {
      "model_module": "cl-cytoscape",
      "model_module_version": "^0.1.96",
      "model_name": "ElementModel",
      "state": {
       "_model_module_version": "^0.1.96",
       "_view_module_version": "^0.1.96",
       "classes": [
        "5285bd7a253042a8a1fd523cb4f9f150",
        "child"
       ],
       "data": {
        "id": "5285bd7a253042a8a1fd523cb4f9f150-2",
        "name": "2",
        "parent": "5285bd7a253042a8a1fd523cb4f9f150"
       },
       "position": {
        "x": 593.4779691933579,
        "y": 630
       }
      }
     }
    },
    "version_major": 2,
    "version_minor": 0
   }
  }
 },
 "nbformat": 4,
 "nbformat_minor": 4
}
