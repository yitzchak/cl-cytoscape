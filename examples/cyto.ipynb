{
 "cells": [
  {
   "cell_type": "code",
   "execution_count": 1,
   "metadata": {},
   "outputs": [
    {
     "name": "stdout",
     "output_type": "stream",
     "text": [
      "To load \"cytoscape-clj\":\n",
      "  Load 1 ASDF system:\n",
      "    cytoscape-clj\n",
      "\n",
      "; Loading \"cytoscape-clj\"\n",
      "...."
     ]
    },
    {
     "data": {
      "text/plain": [
       "(:CYTOSCAPE-CLJ)"
      ]
     },
     "execution_count": 1,
     "metadata": {},
     "output_type": "execute_result"
    },
    {
     "name": "stdout",
     "output_type": "stream",
     "text": [
      "\n"
     ]
    }
   ],
   "source": [
    "(ql:quickload :cytoscape-clj)"
   ]
  },
  {
   "cell_type": "code",
   "execution_count": 2,
   "metadata": {},
   "outputs": [
    {
     "data": {
      "text/plain": [
       "O"
      ]
     },
     "execution_count": 2,
     "metadata": {},
     "output_type": "execute_result"
    },
    {
     "data": {
      "text/plain": [
       "ON-SELECTION"
      ]
     },
     "execution_count": 2,
     "metadata": {},
     "output_type": "execute_result"
    },
    {
     "data": {
      "text/plain": [
       "C"
      ]
     },
     "execution_count": 2,
     "metadata": {},
     "output_type": "execute_result"
    },
    {
     "data": {
      "text/plain": [
       "NIL"
      ]
     },
     "execution_count": 2,
     "metadata": {},
     "output_type": "execute_result"
    },
    {
     "data": {
      "application/vnd.jupyter.widget-view+json": {
       "model_id": "d6149c945b944b81b1b4505e4261813f",
       "version_major": 2,
       "version_minor": 0
      },
      "text/plain": [
       "A Jupyter Widget"
      ]
     },
     "metadata": {},
     "output_type": "display_data"
    },
    {
     "data": {
      "application/vnd.jupyter.widget-view+json": {
       "model_id": "124770aac4ed4a60993d37fdb2db4d96",
       "version_major": 2,
       "version_minor": 0
      },
      "text/plain": [
       "A Jupyter Widget"
      ]
     },
     "metadata": {},
     "output_type": "display_data"
    }
   ],
   "source": [
    "(defparameter o (make-instance 'jupyter-widgets:text-area))\n",
    "\n",
    "(defun on-selection (instance name type old-value new-value source)\n",
    "    (setf (jupyter-widgets:widget-value o)\n",
    "        (format nil \n",
    "                \"~A~&~:[Edge~;Node~] ~A ~:[deselected~;selected~].\" \n",
    "                (jupyter-widgets:widget-value o)\n",
    "                (string= \"nodes\" (cytoscape:group instance))\n",
    "                (cdr (assoc \"id\" (cytoscape:data instance) :test #'string=))\n",
    "                new-value)))\n",
    "\n",
    "(defparameter c (make-instance 'cytoscape:cytoscape-widget :graph-layouts (list (make-instance 'cytoscape:cose-layout))\n",
    "                         :elements (list (make-instance 'cytoscape:element :group \"nodes\" :data '((\"id\" . \"a\")))\n",
    "                                         (make-instance 'cytoscape:element :group \"nodes\" :data '((\"id\" . \"b\")))\n",
    "                                         (make-instance 'cytoscape:element :group \"edges\" :data '((\"id\" . \"ab\") (\"source\" . \"a\") (\"target\" . \"b\"))))))\n",
    "\n",
    "(dolist (instance (cytoscape:elements c))\n",
    "    (jupyter-widgets:observe instance :selected #'on-selection))\n",
    "\n",
    "c\n",
    "o"
   ]
  },
  {
   "cell_type": "code",
   "execution_count": 3,
   "metadata": {},
   "outputs": [
    {
     "data": {
      "text/plain": [
       "(#<CYTOSCAPE:ELEMENT> #<CYTOSCAPE:ELEMENT> #<CYTOSCAPE:ELEMENT>)"
      ]
     },
     "execution_count": 3,
     "metadata": {},
     "output_type": "execute_result"
    }
   ],
   "source": [
    "(cytoscape:elements c)"
   ]
  },
  {
   "cell_type": "code",
   "execution_count": 4,
   "metadata": {},
   "outputs": [
    {
     "data": {
      "text/plain": [
       "0"
      ]
     },
     "execution_count": 4,
     "metadata": {},
     "output_type": "execute_result"
    }
   ],
   "source": [
    "(cytoscape:layout c)"
   ]
  },
  {
   "cell_type": "code",
   "execution_count": 3,
   "metadata": {},
   "outputs": [
    {
     "data": {
      "application/vnd.jupyter.widget-view+json": {
       "model_id": "e8ff6a46ae364d5b09ab79b14a4b9064",
       "version_major": 2,
       "version_minor": 0
      },
      "text/plain": [
       "A Jupyter Widget"
      ]
     },
     "metadata": {},
     "output_type": "display_data"
    }
   ],
   "source": [
    "(make-instance 'cytoscape:cytoscape-widget\n",
    "               :graph-layouts (list (make-instance 'cytoscape:breadth-first-layout))\n",
    "               :elements (list (make-instance 'cytoscape:element :group \"nodes\" :data '((\"id\" . \"cat\")))\n",
    "                               (make-instance 'cytoscape:element :group \"nodes\" :data '((\"id\" . \"bird\")))\n",
    "                               (make-instance 'cytoscape:element :group \"nodes\" :data '((\"id\" . \"ladybug\")))\n",
    "                               (make-instance 'cytoscape:element :group \"nodes\" :data '((\"id\" . \"aphid\")))\n",
    "                               (make-instance 'cytoscape:element :group \"nodes\" :data '((\"id\" . \"rose\")))\n",
    "                               (make-instance 'cytoscape:element :group \"nodes\" :data '((\"id\" . \"grasshopper\")))\n",
    "                               (make-instance 'cytoscape:element :group \"nodes\" :data '((\"id\" . \"plant\")))\n",
    "                               (make-instance 'cytoscape:element :group \"nodes\" :data '((\"id\" . \"wheat\")))\n",
    "                               (make-instance 'cytoscape:element :group \"edges\" :data '((\"source\" . \"cat\") (\"target\" . \"bird\")))\n",
    "                               (make-instance 'cytoscape:element :group \"edges\" :data '((\"source\" . \"bird\") (\"target\" . \"ladybug\")))\n",
    "                               (make-instance 'cytoscape:element :group \"edges\" :data '((\"source\" . \"bird\") (\"target\" . \"grasshopper\")))\n",
    "                               (make-instance 'cytoscape:element :group \"edges\" :data '((\"source\" . \"grasshopper\") (\"target\" . \"plant\")))\n",
    "                               (make-instance 'cytoscape:element :group \"edges\" :data '((\"source\" . \"grasshopper\") (\"target\" . \"wheat\")))\n",
    "                               (make-instance 'cytoscape:element :group \"edges\" :data '((\"source\" . \"ladybug\") (\"target\" . \"aphid\")))\n",
    "                               (make-instance 'cytoscape:element :group \"edges\" :data '((\"source\" . \"aphid\") (\"target\" . \"rose\")))))\n"
   ]
  },
  {
   "cell_type": "code",
   "execution_count": null,
   "metadata": {},
   "outputs": [],
   "source": []
  }
 ],
 "metadata": {
  "kernelspec": {
   "display_name": "Common Lisp (clasp)",
   "language": "common-lisp",
   "name": "common-lisp_clasp"
  },
  "language_info": {
   "codemirror_mode": "text/x-common-lisp",
   "file_extension": ".lisp",
   "mimetype": "text/x-common-lisp",
   "name": "common-lisp",
   "pygments_lexer": "common-lisp",
   "version": "cclasp-boehm-0.4.2-2722-gc7cf406d8-cst"
  },
  "widgets": {
   "application/vnd.jupyter.widget-state+json": {
    "state": {
     "09abab3cd407417456b8ee6c3a8aef11": {
      "model_module": "cytoscape-clj",
      "model_module_version": "^0.2.0",
      "model_name": "ElementModel",
      "state": {
       "_model_module_version": "^0.2.0",
       "_view_module_version": "^0.2.0",
       "data": {
        "id": "wheat"
       },
       "position": {
        "x": 1002.4,
        "y": 200
       }
      }
     },
     "0e28cacb45e5498c3cad08f4a5dfd9ce": {
      "model_module": "cytoscape-clj",
      "model_module_version": "^0.2.0",
      "model_name": "ElementModel",
      "state": {
       "_model_module_version": "^0.2.0",
       "_view_module_version": "^0.2.0",
       "data": {
        "id": "bird"
       },
       "position": {
        "x": 417.66666666666663,
        "y": 133.33333333333334
       }
      }
     },
     "110bbc660a6a46a4f9546531a9b2680c": {
      "model_module": "cytoscape-clj",
      "model_module_version": "^0.2.0",
      "model_name": "ElementModel",
      "state": {
       "_model_module_version": "^0.2.0",
       "_view_module_version": "^0.2.0",
       "data": {
        "source": "bird",
        "target": "grasshopper"
       },
       "group": "edges"
      }
     },
     "124770aac4ed4a60993d37fdb2db4d96": {
      "model_module": "@jupyter-widgets/controls",
      "model_module_version": "1.5.0",
      "model_name": "TextareaModel",
      "state": {
       "layout": "IPY_MODEL_44a4573d84d042473861bd4ad28cef1e",
       "style": "IPY_MODEL_8da08ab916574253a95df1f3a1b431d8"
      }
     },
     "12fb4d038edb4dddbacdbae953b6b88d": {
      "model_module": "cytoscape-clj",
      "model_module_version": "^0.2.0",
      "model_name": "BreadthFirstLayoutModel",
      "state": {
       "_model_module_version": "^0.2.0",
       "_view_module_version": "^0.2.0",
       "animate": true,
       "animation_duration": 250,
       "spacing_factor": null
      }
     },
     "28c4c55e9eb34d3f111a0aff3e4d0090": {
      "model_module": "cytoscape-clj",
      "model_module_version": "^0.2.0",
      "model_name": "ElementModel",
      "state": {
       "_model_module_version": "^0.2.0",
       "_view_module_version": "^0.2.0",
       "data": {
        "source": "grasshopper",
        "target": "wheat"
       },
       "group": "edges"
      }
     },
     "3518f596f770493ace284b62327ff74b": {
      "model_module": "cytoscape-clj",
      "model_module_version": "^0.2.0",
      "model_name": "ElementModel",
      "state": {
       "_model_module_version": "^0.2.0",
       "_view_module_version": "^0.2.0",
       "data": {
        "id": "ab",
        "source": "a",
        "target": "b"
       },
       "group": "edges"
      }
     },
     "403eb46749054649ab5d103c7a5f9ecf": {
      "model_module": "cytoscape-clj",
      "model_module_version": "^0.2.0",
      "model_name": "ElementModel",
      "state": {
       "_model_module_version": "^0.2.0",
       "_view_module_version": "^0.2.0",
       "data": {
        "source": "aphid",
        "target": "rose"
       },
       "group": "edges"
      }
     },
     "44a4573d84d042473861bd4ad28cef1e": {
      "model_module": "@jupyter-widgets/base",
      "model_module_version": "1.2.0",
      "model_name": "LayoutModel",
      "state": {}
     },
     "544f348aa95547d0e772415c9303ce16": {
      "model_module": "cytoscape-clj",
      "model_module_version": "^0.2.0",
      "model_name": "ElementModel",
      "state": {
       "_model_module_version": "^0.2.0",
       "_view_module_version": "^0.2.0",
       "data": {
        "id": "ladybug"
       },
       "position": {
        "x": 501.2,
        "y": 200
       }
      }
     },
     "5f6191bce4584ea61774806aa044dbb8": {
      "model_module": "cytoscape-clj",
      "model_module_version": "^0.2.0",
      "model_name": "ElementModel",
      "state": {
       "_model_module_version": "^0.2.0",
       "_view_module_version": "^0.2.0",
       "data": {
        "id": "rose"
       },
       "position": {
        "x": 626.5,
        "y": 333.33333333333337
       }
      }
     },
     "6574b61c5cb84e299b7dab54b3bb2864": {
      "model_module": "cytoscape-clj",
      "model_module_version": "^0.2.0",
      "model_name": "ElementModel",
      "state": {
       "_model_module_version": "^0.2.0",
       "_view_module_version": "^0.2.0",
       "data": {
        "source": "ladybug",
        "target": "aphid"
       },
       "group": "edges"
      }
     },
     "696141b3e80e4b17abcb150e15d9c95f": {
      "model_module": "cytoscape-clj",
      "model_module_version": "^0.2.0",
      "model_name": "ElementModel",
      "state": {
       "_model_module_version": "^0.2.0",
       "_view_module_version": "^0.2.0",
       "data": {
        "id": "aphid"
       },
       "position": {
        "x": 626.5,
        "y": 266.6666666666667
       }
      }
     },
     "8da08ab916574253a95df1f3a1b431d8": {
      "model_module": "@jupyter-widgets/controls",
      "model_module_version": "1.5.0",
      "model_name": "DescriptionStyleModel",
      "state": {}
     },
     "9274dee6c4974b5a1d29808fe8d6f8df": {
      "model_module": "cytoscape-clj",
      "model_module_version": "^0.2.0",
      "model_name": "CoseLayoutModel",
      "state": {
       "_model_module_version": "^0.2.0",
       "_view_module_version": "^0.2.0",
       "animation_duration": 250,
       "refresh": 10
      }
     },
     "98211395f942423a256132002bfd6ed5": {
      "model_module": "cytoscape-clj",
      "model_module_version": "^0.2.0",
      "model_name": "ElementModel",
      "state": {
       "_model_module_version": "^0.2.0",
       "_view_module_version": "^0.2.0",
       "data": {
        "id": "plant"
       },
       "position": {
        "x": 751.8,
        "y": 200
       }
      }
     },
     "9b0d72a7ae7e4922815a533e37dfa690": {
      "model_module": "cytoscape-clj",
      "model_module_version": "^0.2.0",
      "model_name": "ElementModel",
      "state": {
       "_model_module_version": "^0.2.0",
       "_view_module_version": "^0.2.0",
       "data": {
        "id": "grasshopper"
       },
       "position": {
        "x": 835.3333333333334,
        "y": 133.33333333333334
       }
      }
     },
     "a519b8779005435fb7c3b5806040a0a5": {
      "model_module": "cytoscape-clj",
      "model_module_version": "^0.2.0",
      "model_name": "CytoscapeStyleModel",
      "state": {
       "_model_module_version": "^0.2.0"
      }
     },
     "ab4bddf49411450b581e95618bb96b6e": {
      "model_module": "cytoscape-clj",
      "model_module_version": "^0.2.0",
      "model_name": "CytoscapeStyleModel",
      "state": {
       "_model_module_version": "^0.2.0"
      }
     },
     "b27a7272899446eeaf0c1d91b4750ea3": {
      "model_module": "cytoscape-clj",
      "model_module_version": "^0.2.0",
      "model_name": "ElementModel",
      "state": {
       "_model_module_version": "^0.2.0",
       "_view_module_version": "^0.2.0",
       "data": {
        "source": "bird",
        "target": "ladybug"
       },
       "group": "edges"
      }
     },
     "b65d9b1775324edc9c2aff38909796f4": {
      "model_module": "@jupyter-widgets/base",
      "model_module_version": "1.2.0",
      "model_name": "LayoutModel",
      "state": {}
     },
     "bb9c4a27234f4d4a67027f8fd61775f6": {
      "model_module": "cytoscape-clj",
      "model_module_version": "^0.2.0",
      "model_name": "ElementModel",
      "state": {
       "_model_module_version": "^0.2.0",
       "_view_module_version": "^0.2.0",
       "data": {
        "source": "grasshopper",
        "target": "plant"
       },
       "group": "edges"
      }
     },
     "be0a63c604eb4f8df0d0ba9c70c9a9d2": {
      "model_module": "cytoscape-clj",
      "model_module_version": "^0.2.0",
      "model_name": "ElementModel",
      "state": {
       "_model_module_version": "^0.2.0",
       "_view_module_version": "^0.2.0",
       "data": {
        "id": "b"
       },
       "position": {
        "x": 15,
        "y": 15
       }
      }
     },
     "cdccbb7e81e741b6630136d1c269bf97": {
      "model_module": "cytoscape-clj",
      "model_module_version": "^0.2.0",
      "model_name": "ElementModel",
      "state": {
       "_model_module_version": "^0.2.0",
       "_view_module_version": "^0.2.0",
       "data": {
        "id": "a"
       },
       "position": {
        "x": 76.41409491290102,
        "y": 73.90080803665063
       }
      }
     },
     "d0e3c76e31074b42515c9856d60f10ef": {
      "model_module": "cytoscape-clj",
      "model_module_version": "^0.2.0",
      "model_name": "ElementModel",
      "state": {
       "_model_module_version": "^0.2.0",
       "_view_module_version": "^0.2.0",
       "data": {
        "id": "cat"
       },
       "position": {
        "x": 250.60000000000002,
        "y": 200
       }
      }
     },
     "d6149c945b944b81b1b4505e4261813f": {
      "model_module": "cytoscape-clj",
      "model_module_version": "^0.2.0",
      "model_name": "CytoscapeModel",
      "state": {
       "_model_module_version": "^0.2.0",
       "_view_module_version": "^0.2.0",
       "box_selection_enabled": true,
       "desktop_tap_threshold": 4,
       "elements": [
        "IPY_MODEL_cdccbb7e81e741b6630136d1c269bf97",
        "IPY_MODEL_be0a63c604eb4f8df0d0ba9c70c9a9d2",
        "IPY_MODEL_3518f596f770493ace284b62327ff74b"
       ],
       "graph_layouts": [
        "IPY_MODEL_9274dee6c4974b5a1d29808fe8d6f8df"
       ],
       "layout": "IPY_MODEL_ff2e2d2e383f4b6cafe3e2564ddc44ab",
       "max_zoom": 9.999999999999999e+49,
       "min_zoom": 1.0000000000000001e-50,
       "pan": {
        "x": 455.5400660802995,
        "y": 33.740340788421975
       },
       "style": "IPY_MODEL_a519b8779005435fb7c3b5806040a0a5",
       "tooltip_source": "tooltip",
       "zoom": 3.74034078842197
      }
     },
     "df150674dde349492c80a5638a6d2289": {
      "model_module": "cytoscape-clj",
      "model_module_version": "^0.2.0",
      "model_name": "ElementModel",
      "state": {
       "_model_module_version": "^0.2.0",
       "_view_module_version": "^0.2.0",
       "data": {
        "source": "cat",
        "target": "bird"
       },
       "group": "edges"
      }
     },
     "e8ff6a46ae364d5b09ab79b14a4b9064": {
      "model_module": "cytoscape-clj",
      "model_module_version": "^0.2.0",
      "model_name": "CytoscapeModel",
      "state": {
       "_model_module_version": "^0.2.0",
       "_view_module_version": "^0.2.0",
       "box_selection_enabled": true,
       "desktop_tap_threshold": 4,
       "elements": [
        "IPY_MODEL_d0e3c76e31074b42515c9856d60f10ef",
        "IPY_MODEL_0e28cacb45e5498c3cad08f4a5dfd9ce",
        "IPY_MODEL_544f348aa95547d0e772415c9303ce16",
        "IPY_MODEL_696141b3e80e4b17abcb150e15d9c95f",
        "IPY_MODEL_5f6191bce4584ea61774806aa044dbb8",
        "IPY_MODEL_9b0d72a7ae7e4922815a533e37dfa690",
        "IPY_MODEL_98211395f942423a256132002bfd6ed5",
        "IPY_MODEL_09abab3cd407417456b8ee6c3a8aef11",
        "IPY_MODEL_df150674dde349492c80a5638a6d2289",
        "IPY_MODEL_b27a7272899446eeaf0c1d91b4750ea3",
        "IPY_MODEL_110bbc660a6a46a4f9546531a9b2680c",
        "IPY_MODEL_bb9c4a27234f4d4a67027f8fd61775f6",
        "IPY_MODEL_28c4c55e9eb34d3f111a0aff3e4d0090",
        "IPY_MODEL_6574b61c5cb84e299b7dab54b3bb2864",
        "IPY_MODEL_403eb46749054649ab5d103c7a5f9ecf"
       ],
       "graph_layouts": [
        "IPY_MODEL_12fb4d038edb4dddbacdbae953b6b88d"
       ],
       "layout": "IPY_MODEL_b65d9b1775324edc9c2aff38909796f4",
       "max_zoom": 9.999999999999999e+49,
       "min_zoom": 1.0000000000000001e-50,
       "pan": {
        "x": -291.6465517241379,
        "y": -141.9540229885058
       },
       "style": "IPY_MODEL_ab4bddf49411450b581e95618bb96b6e",
       "tooltip_source": "tooltip",
       "zoom": 1.4655172413793103
      }
     },
     "ff2e2d2e383f4b6cafe3e2564ddc44ab": {
      "model_module": "@jupyter-widgets/base",
      "model_module_version": "1.2.0",
      "model_name": "LayoutModel",
      "state": {}
     }
    },
    "version_major": 2,
    "version_minor": 0
   }
  }
 },
 "nbformat": 4,
 "nbformat_minor": 4
}
