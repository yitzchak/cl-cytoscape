{
 "cells": [
  {
   "cell_type": "code",
   "execution_count": null,
   "metadata": {},
   "outputs": [],
   "source": [
    "(ql:quickload :cytoscape-clj)"
   ]
  },
  {
   "cell_type": "code",
   "execution_count": null,
   "metadata": {},
   "outputs": [],
   "source": [
    "(defparameter o (make-instance 'jupyter-widgets:text-area))\n",
    "\n",
    "(defun on-selection (instance name type old-value new-value source)\n",
    "    (setf (jupyter-widgets:widget-value o)\n",
    "        (format nil \n",
    "                \"~A~&~:[Edge~;Node~] ~A ~:[deselected~;selected~].\" \n",
    "                (jupyter-widgets:widget-value o)\n",
    "                (string= \"nodes\" (cytoscape:group instance))\n",
    "                (cdr (assoc \"id\" (cytoscape:data instance) :test #'string=))\n",
    "                new-value)))\n",
    "\n",
    "(defparameter c (make-instance 'cytoscape:cytoscape-widget :graph-layouts (list (make-instance 'cytoscape:cose-layout))\n",
    "                         :elements (list (make-instance 'cytoscape:element :group \"nodes\" :data '((\"id\" . \"a\")))\n",
    "                                         (make-instance 'cytoscape:element :group \"nodes\" :data '((\"id\" . \"b\")))\n",
    "                                         (make-instance 'cytoscape:element :group \"edges\" :data '((\"id\" . \"ab\") (\"source\" . \"a\") (\"target\" . \"b\"))))))\n",
    "\n",
    "(dolist (instance (cytoscape:elements c))\n",
    "    (jupyter-widgets:observe instance :selected #'on-selection))\n",
    "\n",
    "c\n",
    "o"
   ]
  },
  {
   "cell_type": "code",
   "execution_count": null,
   "metadata": {},
   "outputs": [],
   "source": [
    "(cytoscape:elements c)"
   ]
  },
  {
   "cell_type": "code",
   "execution_count": null,
   "metadata": {},
   "outputs": [],
   "source": [
    "(cytoscape:layout c)"
   ]
  },
  {
   "cell_type": "code",
   "execution_count": null,
   "metadata": {},
   "outputs": [],
   "source": [
    "(make-instance 'cytoscape:cytoscape-widget\n",
    "               :graph-layouts (list (make-instance 'cytoscape:breadth-first-layout))\n",
    "               :elements (list (make-instance 'cytoscape:element :group \"nodes\" :data '((\"id\" . \"cat\")))\n",
    "                               (make-instance 'cytoscape:element :group \"nodes\" :data '((\"id\" . \"bird\")))\n",
    "                               (make-instance 'cytoscape:element :group \"nodes\" :data '((\"id\" . \"ladybug\")))\n",
    "                               (make-instance 'cytoscape:element :group \"nodes\" :data '((\"id\" . \"aphid\")))\n",
    "                               (make-instance 'cytoscape:element :group \"nodes\" :data '((\"id\" . \"rose\")))\n",
    "                               (make-instance 'cytoscape:element :group \"nodes\" :data '((\"id\" . \"grasshopper\")))\n",
    "                               (make-instance 'cytoscape:element :group \"nodes\" :data '((\"id\" . \"plant\")))\n",
    "                               (make-instance 'cytoscape:element :group \"nodes\" :data '((\"id\" . \"wheat\")))\n",
    "                               (make-instance 'cytoscape:element :group \"edges\" :data '((\"source\" . \"cat\") (\"target\" . \"bird\")))\n",
    "                               (make-instance 'cytoscape:element :group \"edges\" :data '((\"source\" . \"bird\") (\"target\" . \"ladybug\")))\n",
    "                               (make-instance 'cytoscape:element :group \"edges\" :data '((\"source\" . \"bird\") (\"target\" . \"grasshopper\")))\n",
    "                               (make-instance 'cytoscape:element :group \"edges\" :data '((\"source\" . \"grasshopper\") (\"target\" . \"plant\")))\n",
    "                               (make-instance 'cytoscape:element :group \"edges\" :data '((\"source\" . \"grasshopper\") (\"target\" . \"wheat\")))\n",
    "                               (make-instance 'cytoscape:element :group \"edges\" :data '((\"source\" . \"ladybug\") (\"target\" . \"aphid\")))\n",
    "                               (make-instance 'cytoscape:element :group \"edges\" :data '((\"source\" . \"aphid\") (\"target\" . \"rose\")))))\n"
   ]
  },
  {
   "cell_type": "code",
   "execution_count": null,
   "metadata": {},
   "outputs": [],
   "source": []
  }
 ],
 "metadata": {
  "kernelspec": {
   "display_name": "Common Lisp (SBCL)",
   "language": "common-lisp",
   "name": "common-lisp_sbcl"
  },
  "language_info": {
   "codemirror_mode": "text/x-common-lisp",
   "file_extension": ".lisp",
   "mimetype": "text/x-common-lisp",
   "name": "common-lisp",
   "pygments_lexer": "common-lisp",
   "version": "2.0.8"
  },
  "widgets": {
   "application/vnd.jupyter.widget-state+json": {
    "state": {
     "06cb22fdb99846c00f3ed395c07d6673": {
      "model_module": "@jupyter-widgets/base",
      "model_module_version": "1.2.0",
      "model_name": "LayoutModel",
      "state": {}
     },
     "091e0bb35505490ec139c0e90fed98ec": {
      "model_module": "@jupyter-widgets/base",
      "model_module_version": "1.2.0",
      "model_name": "LayoutModel",
      "state": {}
     },
     "2992612fab3741cf8e9c0f0919e2cb8c": {
      "model_module": "@jupyter-widgets/controls",
      "model_module_version": "1.5.0",
      "model_name": "TextareaModel",
      "state": {
       "layout": "IPY_MODEL_06cb22fdb99846c00f3ed395c07d6673",
       "style": "IPY_MODEL_30639a2b859849ad97e682e9d2eb82bd",
       "value": "Node b selected.\nNode b deselected.\nEdge ab selected.\nEdge ab deselected.\nNode a selected."
      }
     },
     "30639a2b859849ad97e682e9d2eb82bd": {
      "model_module": "@jupyter-widgets/controls",
      "model_module_version": "1.5.0",
      "model_name": "DescriptionStyleModel",
      "state": {}
     },
     "32f750a2399247ae95b318d0240f801c": {
      "model_module": "cytoscape-clj",
      "model_module_version": "^0.2.3",
      "model_name": "CoseLayoutModel",
      "state": {
       "_model_module_version": "^0.2.3",
       "_view_module_version": "^0.2.3",
       "animation_duration": 250,
       "refresh": 10
      }
     },
     "4bf8416943ac4eff3271ce41f47b2130": {
      "model_module": "cytoscape-clj",
      "model_module_version": "^0.2.3",
      "model_name": "ElementModel",
      "state": {
       "_model_module_version": "^0.2.3",
       "_view_module_version": "^0.2.3",
       "data": {
        "id": "ab",
        "source": "a",
        "target": "b"
       },
       "group": "edges"
      }
     },
     "8968f596fa934cb73e268a252d79f7c2": {
      "model_module": "cytoscape-clj",
      "model_module_version": "^0.2.3",
      "model_name": "CytoscapeModel",
      "state": {
       "_model_module_version": "^0.2.3",
       "_view_module_version": "^0.2.3",
       "box_selection_enabled": true,
       "desktop_tap_threshold": 4,
       "elements": [
        "IPY_MODEL_f8298b7b4dab483125fa9c114a47a30c",
        "IPY_MODEL_a66fd023463e458a0d9918385b6504c0",
        "IPY_MODEL_4bf8416943ac4eff3271ce41f47b2130"
       ],
       "graph_layouts": [
        "IPY_MODEL_32f750a2399247ae95b318d0240f801c"
       ],
       "layout": "IPY_MODEL_091e0bb35505490ec139c0e90fed98ec",
       "max_zoom": 9.999999999999999e+49,
       "min_zoom": 1.0000000000000001e-50,
       "pan": {
        "x": 249.29845955051528,
        "y": 33.645867395679545
       },
       "style": "IPY_MODEL_fa1d18fa51ae4efb7d07506dfe6604a3",
       "tooltip_source": "tooltip",
       "zoom": 3.64586739567953
      }
     },
     "a66fd023463e458a0d9918385b6504c0": {
      "model_module": "cytoscape-clj",
      "model_module_version": "^0.2.3",
      "model_name": "ElementModel",
      "state": {
       "_model_module_version": "^0.2.3",
       "_view_module_version": "^0.2.3",
       "data": {
        "id": "b"
       },
       "position": {
        "x": 15,
        "y": 15
       }
      }
     },
     "f8298b7b4dab483125fa9c114a47a30c": {
      "model_module": "cytoscape-clj",
      "model_module_version": "^0.2.3",
      "model_name": "ElementModel",
      "state": {
       "_model_module_version": "^0.2.3",
       "_view_module_version": "^0.2.3",
       "data": {
        "id": "a"
       },
       "position": {
        "x": 74.52686575649119,
        "y": 76.25627158105391
       },
       "selected": true
      }
     },
     "fa1d18fa51ae4efb7d07506dfe6604a3": {
      "model_module": "cytoscape-clj",
      "model_module_version": "^0.2.3",
      "model_name": "CytoscapeStyleModel",
      "state": {
       "_model_module_version": "^0.2.3"
      }
     }
    },
    "version_major": 2,
    "version_minor": 0
   }
  }
 },
 "nbformat": 4,
 "nbformat_minor": 4
}
