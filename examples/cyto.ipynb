{
 "cells": [
  {
   "cell_type": "code",
   "execution_count": 1,
   "metadata": {},
   "outputs": [
    {
     "name": "stdout",
     "output_type": "stream",
     "text": [
      "To load \"cl-cytoscape\":\n",
      "  Load 1 ASDF system:\n",
      "    cl-cytoscape\n"
     ]
    },
    {
     "data": {
      "text/plain": [
       "(:CL-CYTOSCAPE)"
      ]
     },
     "execution_count": 1,
     "metadata": {},
     "output_type": "execute_result"
    },
    {
     "name": "stdout",
     "output_type": "stream",
     "text": [
      "\n",
      "; Loading \"cl-cytoscape\"\n",
      "\n"
     ]
    }
   ],
   "source": [
    "(ql:quickload :cl-cytoscape)"
   ]
  },
  {
   "cell_type": "code",
   "execution_count": 2,
   "metadata": {},
   "outputs": [
    {
     "data": {
      "text/plain": [
       "O"
      ]
     },
     "execution_count": 2,
     "metadata": {},
     "output_type": "execute_result"
    },
    {
     "data": {
      "text/plain": [
       "ON-SELECTION"
      ]
     },
     "execution_count": 2,
     "metadata": {},
     "output_type": "execute_result"
    },
    {
     "data": {
      "text/plain": [
       "C"
      ]
     },
     "execution_count": 2,
     "metadata": {},
     "output_type": "execute_result"
    },
    {
     "data": {
      "text/plain": [
       "NIL"
      ]
     },
     "execution_count": 2,
     "metadata": {},
     "output_type": "execute_result"
    },
    {
     "data": {
      "application/vnd.jupyter.widget-view+json": {
       "model_id": "9c9d1a01a04f44a3c71401326e40107d",
       "version_major": 2,
       "version_minor": 0
      },
      "text/plain": [
       "A Jupyter Widget"
      ]
     },
     "metadata": {},
     "output_type": "display_data"
    },
    {
     "data": {
      "application/vnd.jupyter.widget-view+json": {
       "model_id": "44bab78a44c24ded123f095fd70dcba2",
       "version_major": 2,
       "version_minor": 0
      },
      "text/plain": [
       "A Jupyter Widget"
      ]
     },
     "metadata": {},
     "output_type": "display_data"
    }
   ],
   "source": [
    "(defparameter o (make-instance 'jupyter-widgets:text-area))\n",
    "\n",
    "(defun on-selection (instance name type old-value new-value source)\n",
    "    (setf (jupyter-widgets:widget-value o)\n",
    "        (format nil \n",
    "                \"~A~&~:[Edge~;Node~] ~A ~:[deselected~;selected~].\" \n",
    "                (jupyter-widgets:widget-value o)\n",
    "                (string= \"nodes\" (cytoscape:group instance))\n",
    "                (cdr (assoc \"id\" (cytoscape:data instance) :test #'string=))\n",
    "                new-value)))\n",
    "\n",
    "(defparameter c (make-instance 'cytoscape:cytoscape-widget :graph-layouts (list (make-instance 'cytoscape:cose-layout))\n",
    "                         :elements (list (make-instance 'cytoscape:element :group \"nodes\" :data '((\"id\" . \"a\")))\n",
    "                                         (make-instance 'cytoscape:element :group \"nodes\" :data '((\"id\" . \"b\")))\n",
    "                                         (make-instance 'cytoscape:element :group \"edges\" :data '((\"id\" . \"ab\") (\"source\" . \"a\") (\"target\" . \"b\"))))))\n",
    "\n",
    "(dolist (instance (cytoscape:elements c))\n",
    "    (jupyter-widgets:observe instance :selected #'on-selection))\n",
    "\n",
    "c\n",
    "o"
   ]
  },
  {
   "cell_type": "code",
   "execution_count": null,
   "metadata": {},
   "outputs": [],
   "source": []
  }
 ],
 "metadata": {
  "kernelspec": {
   "display_name": "Common Lisp (clasp)",
   "language": "common-lisp",
   "name": "common-lisp_clasp"
  },
  "language_info": {
   "codemirror_mode": "text/x-common-lisp",
   "file_extension": ".lisp",
   "mimetype": "text/x-common-lisp",
   "name": "common-lisp",
   "pygments_lexer": "common-lisp",
   "version": "cclasp-boehm-0.4.2-2722-gc7cf406d8-cst"
  },
  "widgets": {
   "application/vnd.jupyter.widget-state+json": {
    "state": {
     "0afb1b886e4c41b9c78f2a1f757e664d": {
      "model_module": "@jupyter-widgets/base",
      "model_module_version": "1.2.0",
      "model_name": "LayoutModel",
      "state": {}
     },
     "16bbadf39e334b01f1fedb9370f3cb6a": {
      "model_module": "cl-cytoscape",
      "model_module_version": "^0.1.96",
      "model_name": "CoseLayoutModel",
      "state": {
       "_model_module_version": "^0.1.96",
       "_view_module_version": "^0.1.96",
       "animation_duration": 250,
       "refresh": 10
      }
     },
     "1b47b6226a5a46b917cfcc090f6e1253": {
      "model_module": "@jupyter-widgets/controls",
      "model_module_version": "1.5.0",
      "model_name": "DescriptionStyleModel",
      "state": {}
     },
     "3ccd14b9875843d0dd2ea90f05c6d30c": {
      "model_module": "cl-cytoscape",
      "model_module_version": "^0.1.96",
      "model_name": "ElementModel",
      "state": {
       "_model_module_version": "^0.1.96",
       "_view_module_version": "^0.1.96",
       "data": {
        "id": "ab",
        "source": "a",
        "target": "b"
       },
       "group": "edges",
       "selected": true
      }
     },
     "3f21dc0202f640a32ea17918a5890827": {
      "model_module": "@jupyter-widgets/base",
      "model_module_version": "1.2.0",
      "model_name": "LayoutModel",
      "state": {}
     },
     "44bab78a44c24ded123f095fd70dcba2": {
      "model_module": "@jupyter-widgets/controls",
      "model_module_version": "1.5.0",
      "model_name": "TextareaModel",
      "state": {
       "layout": "IPY_MODEL_3f21dc0202f640a32ea17918a5890827",
       "style": "IPY_MODEL_1b47b6226a5a46b917cfcc090f6e1253",
       "value": "Node b selected.\nNode b deselected.\nEdge ab selected."
      }
     },
     "4cc4e14c7c6f4f345b3f7474d98eb534": {
      "model_module": "cl-cytoscape",
      "model_module_version": "^0.1.96",
      "model_name": "ElementModel",
      "state": {
       "_model_module_version": "^0.1.96",
       "_view_module_version": "^0.1.96",
       "data": {
        "id": "a"
       },
       "position": {
        "x": 67.22074325226168,
        "y": 76.02333507697506
       }
      }
     },
     "652eafe20f8a4a87c7afdabfcbb2e630": {
      "model_module": "cl-cytoscape",
      "model_module_version": "^0.1.96",
      "model_name": "ElementModel",
      "state": {
       "_model_module_version": "^0.1.96",
       "_view_module_version": "^0.1.96",
       "data": {
        "id": "b"
       },
       "position": {
        "x": 15,
        "y": 15
       }
      }
     },
     "8809b5cdb4114a0728a79767c7ebc619": {
      "model_module": "cl-cytoscape",
      "model_module_version": "^0.1.96",
      "model_name": "CytoscapeStyleModel",
      "state": {
       "_model_module_version": "^0.1.96"
      }
     },
     "9c9d1a01a04f44a3c71401326e40107d": {
      "model_module": "cl-cytoscape",
      "model_module_version": "^0.1.96",
      "model_name": "CytoscapeModel",
      "state": {
       "_model_module_version": "^0.1.96",
       "_view_module_version": "^0.1.96",
       "box_selection_enabled": true,
       "desktop_tap_threshold": 4,
       "elements": [
        "IPY_MODEL_4cc4e14c7c6f4f345b3f7474d98eb534",
        "IPY_MODEL_652eafe20f8a4a87c7afdabfcbb2e630",
        "IPY_MODEL_3ccd14b9875843d0dd2ea90f05c6d30c"
       ],
       "graph_layouts": [
        "IPY_MODEL_16bbadf39e334b01f1fedb9370f3cb6a"
       ],
       "layout": "IPY_MODEL_0afb1b886e4c41b9c78f2a1f757e664d",
       "max_zoom": 9.999999999999999e+49,
       "min_zoom": 1.0000000000000001e-50,
       "pan": {
        "x": 485.24171973818886,
        "y": 33.65499688565944
       },
       "style": "IPY_MODEL_8809b5cdb4114a0728a79767c7ebc619",
       "tooltip_source": "tooltip",
       "zoom": 3.6549968856594575
      }
     }
    },
    "version_major": 2,
    "version_minor": 0
   }
  }
 },
 "nbformat": 4,
 "nbformat_minor": 4
}
