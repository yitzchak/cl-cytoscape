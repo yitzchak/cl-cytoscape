{
 "cells": [
  {
   "cell_type": "code",
   "execution_count": 1,
   "metadata": {},
   "outputs": [
    {
     "name": "stdout",
     "output_type": "stream",
     "text": [
      "To load \"cl-cytoscape\":\n",
      "  Load 1 ASDF system:\n",
      "    cl-cytoscape\n"
     ]
    },
    {
     "data": {
      "text/plain": [
       "(:CL-CYTOSCAPE)"
      ]
     },
     "execution_count": 1,
     "metadata": {},
     "output_type": "execute_result"
    },
    {
     "name": "stdout",
     "output_type": "stream",
     "text": [
      "\n",
      "; Loading \"cl-cytoscape\"\n",
      "\n"
     ]
    }
   ],
   "source": [
    "(ql:quickload :cl-cytoscape)"
   ]
  },
  {
   "cell_type": "code",
   "execution_count": 5,
   "metadata": {},
   "outputs": [
    {
     "data": {
      "application/vnd.jupyter.widget-view+json": {
       "model_id": "132652b09bed48a9789b8bc25bd2514b",
       "version_major": 2,
       "version_minor": 0
      },
      "text/plain": [
       "A Jupyter Widget"
      ]
     },
     "metadata": {},
     "output_type": "display_data"
    }
   ],
   "source": [
    "(make-instance 'cytoscape:cytoscape-widget\n",
    "               :elements (list (make-instance 'cytoscape:element :group \"nodes\" :data '((\"label\" . \"top left\")) :classes '(\"top-left\"))\n",
    "                               (make-instance 'cytoscape:element :group \"nodes\" :data '((\"label\" . \"top center\")) :classes '(\"top-center\"))\n",
    "                               (make-instance 'cytoscape:element :group \"nodes\" :data '((\"label\" . \"top right\")) :classes '(\"top-right\"))                                            \n",
    "                               (make-instance 'cytoscape:element :group \"nodes\" :data '((\"label\" . \"center left\")) :classes '(\"center-left\"))      \n",
    "                               (make-instance 'cytoscape:element :group \"nodes\" :data '((\"label\" . \"center center\")) :classes '(\"center-center\"))            \n",
    "                               (make-instance 'cytoscape:element :group \"nodes\" :data '((\"label\" . \"center right\")) :classes '(\"center-right\"))                        \n",
    "                               (make-instance 'cytoscape:element :group \"nodes\" :data '((\"label\" . \"bottom left\")) :classes '(\"bottom-left\"))            \n",
    "                               (make-instance 'cytoscape:element :group \"nodes\" :data '((\"label\" . \"bottom center\")) :classes '(\"bottom-center\"))            \n",
    "                               (make-instance 'cytoscape:element :group \"nodes\" :data '((\"label\" . \"bottom right\")) :classes '(\"bottom-right\")))\n",
    "               :graph-layouts (list (make-instance 'cytoscape:grid-layout :spacing-factor :null))\n",
    "               :graph-style \"node[label] { font-family: helvetica; font-size: 20px; label: data(label); }\n",
    "                            .top-left { text-valign: top; text-halign: left; }\n",
    "                            .top-center { text-valign: top; text-halign: center; }\n",
    "                            .top-right { text-valign: top; text-halign: right; }\n",
    "                            .center-left { text-valign: center; text-halign: left; }\n",
    "                            .center-center { text-valign: center; text-halign: center; }\n",
    "                            .center-right { text-valign: center; text-halign: right; }\n",
    "                            .bottom-left { text-valign: bottom; text-halign: left; }\n",
    "                            .bottom-center { text-valign: bottom; text-halign: center; }\n",
    "                            .bottom-right { text-valign: bottom; text-halign: right; }\")"
   ]
  },
  {
   "cell_type": "code",
   "execution_count": null,
   "metadata": {},
   "outputs": [],
   "source": []
  }
 ],
 "metadata": {
  "kernelspec": {
   "display_name": "Common Lisp",
   "language": "common-lisp",
   "name": "common-lisp"
  },
  "language_info": {
   "codemirror_mode": "text/x-common-lisp",
   "file_extension": ".lisp",
   "mimetype": "text/x-common-lisp",
   "name": "common-lisp",
   "pygments_lexer": "common-lisp",
   "version": "2.0.4"
  },
  "widgets": {
   "application/vnd.jupyter.widget-state+json": {
    "state": {
     "00ebcd45fa774e29f093f01842c4f6c2": {
      "model_module": "cl-cytoscape",
      "model_module_version": "^0.1.96",
      "model_name": "CytoscapeStyleModel",
      "state": {
       "_model_module_version": "^0.1.96"
      }
     },
     "040a9f676d444ea841872e22473235c9": {
      "model_module": "cl-cytoscape",
      "model_module_version": "^0.1.96",
      "model_name": "ElementModel",
      "state": {
       "_model_module_version": "^0.1.96",
       "_view_module_version": "^0.1.96",
       "classes": [
        "bottom-left"
       ],
       "data": {
        "label": "bottom left"
       },
       "position": {
        "x": 842.0000000000001,
        "y": 200
       }
      }
     },
     "092ed6cd4d4444a5afb7ab4ca0e43868": {
      "model_module": "cl-cytoscape",
      "model_module_version": "^0.1.96",
      "model_name": "ElementModel",
      "state": {
       "_model_module_version": "^0.1.96",
       "_view_module_version": "^0.1.96",
       "classes": [
        "bottom-center"
       ],
       "data": {
        "label": "bottom center"
       },
       "position": {
        "x": 421,
        "y": 300
       }
      }
     },
     "0c6ed4ff65c24fa89eb7bed32a484ff8": {
      "model_module": "cl-cytoscape",
      "model_module_version": "^0.1.96",
      "model_name": "ElementModel",
      "state": {
       "_model_module_version": "^0.1.96",
       "_view_module_version": "^0.1.96",
       "classes": [
        "top-left"
       ],
       "data": {
        "label": "top left"
       },
       "position": {
        "x": 140.33333333333334,
        "y": 100
       }
      }
     },
     "132652b09bed48a9789b8bc25bd2514b": {
      "model_module": "cl-cytoscape",
      "model_module_version": "^0.1.96",
      "model_name": "CytoscapeModel",
      "state": {
       "_model_module_version": "^0.1.96",
       "_view_module_version": "^0.1.96",
       "box_selection_enabled": true,
       "desktop_tap_threshold": 4,
       "elements": [
        "IPY_MODEL_0c6ed4ff65c24fa89eb7bed32a484ff8",
        "IPY_MODEL_1ffb04b2afb74cbddac518de8b7db479",
        "IPY_MODEL_ab09d9f07a4b4219e63ae358c0026467",
        "IPY_MODEL_d8a1173e57a14dea8e4f6a21a46c6f74",
        "IPY_MODEL_72f8501b38864dbfe543413a2b81218e",
        "IPY_MODEL_dda9a5d3023d41053fdc9cbe444eed83",
        "IPY_MODEL_42e86c9e87d84e231e8990ca660d967a",
        "IPY_MODEL_092ed6cd4d4444a5afb7ab4ca0e43868",
        "IPY_MODEL_bd8a4075fc104551799bdaa947e9ab8e"
       ],
       "graph_layouts": [
        "IPY_MODEL_2a15f9d9753e4d3e22e088a3a52fceee"
       ],
       "graph_style": "node[label] { font-family: helvetica; font-size: 20px; label: data(label); }\n                            .top-left { text-valign: top; text-halign: left; }\n                            .top-center { text-valign: top; text-halign: center; }\n                            .top-right { text-valign: top; text-halign: right; }\n                            .center-left { text-valign: center; text-halign: left; }\n                            .center-center { text-valign: center; text-halign: center; }\n                            .center-right { text-valign: center; text-halign: right; }\n                            .bottom-left { text-valign: bottom; text-halign: left; }\n                            .bottom-center { text-valign: bottom; text-halign: center; }\n                            .bottom-right { text-valign: bottom; text-halign: right; }",
       "layout": "IPY_MODEL_a95020f715a04e5e764f5defc4753a62",
       "pan": {
        "x": 16.989785699980075,
        "y": 4.8467854996995925
       },
       "style": "IPY_MODEL_cf53109180b04e0493aa5194cfe62dbc",
       "tooltip_source": "tooltip",
       "zoom": 0.975766072501502
      }
     },
     "13e426b4a92848079859b56dcb50cbae": {
      "model_module": "@jupyter-widgets/base",
      "model_module_version": "1.2.0",
      "model_name": "LayoutModel",
      "state": {}
     },
     "1c9f04ddab9e40e9d4eedb8ae626c775": {
      "model_module": "cl-cytoscape",
      "model_module_version": "^0.1.96",
      "model_name": "ElementModel",
      "state": {
       "_model_module_version": "^0.1.96",
       "_view_module_version": "^0.1.96",
       "classes": [
        "bottom-right"
       ],
       "data": {
        "label": "bottom right"
       },
       "position": {
        "x": 842.0000000000001,
        "y": 200
       }
      }
     },
     "1ffb04b2afb74cbddac518de8b7db479": {
      "model_module": "cl-cytoscape",
      "model_module_version": "^0.1.96",
      "model_name": "ElementModel",
      "state": {
       "_model_module_version": "^0.1.96",
       "_view_module_version": "^0.1.96",
       "classes": [
        "top-center"
       ],
       "data": {
        "label": "top center"
       },
       "position": {
        "x": 421,
        "y": 100
       }
      }
     },
     "20f02ebe05d640bde0ef978feb725523": {
      "model_module": "cl-cytoscape",
      "model_module_version": "^0.1.96",
      "model_name": "CytoscapeStyleModel",
      "state": {
       "_model_module_version": "^0.1.96"
      }
     },
     "26b6bf6a9e744f9c21ea783f277462bb": {
      "model_module": "cl-cytoscape",
      "model_module_version": "^0.1.96",
      "model_name": "ElementModel",
      "state": {
       "_model_module_version": "^0.1.96",
       "_view_module_version": "^0.1.96",
       "classes": [
        "top-center"
       ],
       "data": {
        "label": "top center"
       },
       "position": {
        "x": 842.0000000000001,
        "y": 200
       }
      }
     },
     "291c6a717e0345e017a80626116e927f": {
      "model_module": "cl-cytoscape",
      "model_module_version": "^0.1.96",
      "model_name": "GridLayoutModel",
      "state": {
       "_model_module_version": "^0.1.96",
       "_view_module_version": "^0.1.96",
       "animation_duration": 250,
       "spacing_factor": []
      }
     },
     "2a15f9d9753e4d3e22e088a3a52fceee": {
      "model_module": "cl-cytoscape",
      "model_module_version": "^0.1.96",
      "model_name": "GridLayoutModel",
      "state": {
       "_model_module_version": "^0.1.96",
       "_view_module_version": "^0.1.96",
       "animate": true,
       "animation_duration": 250
      }
     },
     "2e83444055e94d4423ebbc596ccfdeb1": {
      "model_module": "cl-cytoscape",
      "model_module_version": "^0.1.96",
      "model_name": "CytoscapeModel",
      "state": {
       "_model_module_version": "^0.1.96",
       "_view_module_version": "^0.1.96",
       "box_selection_enabled": true,
       "desktop_tap_threshold": 4,
       "elements": [
        "IPY_MODEL_4d25b43456744f4b067645c9e7cce6fc",
        "IPY_MODEL_945386c457c548c311c5ea50ff5ae51c",
        "IPY_MODEL_db59ad3b55a441058def9fd87e20764b",
        "IPY_MODEL_a2d20fd67f8441a37b285e86d89a40af",
        "IPY_MODEL_7d1629f89fa2485288cbc679320858d1",
        "IPY_MODEL_646bffc9b10c4ac2512b9787c5e10083",
        "IPY_MODEL_040a9f676d444ea841872e22473235c9",
        "IPY_MODEL_7b033b5067bb4e8dd1040c8566fdb37b",
        "IPY_MODEL_1c9f04ddab9e40e9d4eedb8ae626c775"
       ],
       "graph_layouts": [
        "IPY_MODEL_6f6a3549683b46eeb00cc62de9226d7b"
       ],
       "graph_style": "node[label] { font-family: helvetica; font-size: 20px; label: data(label); }\n                            .top-left { text-valign: top; text-halign: left; }\n                            .top-center { text-valign: top; text-halign: center; }\n                            .top-right { text-valign: top; text-halign: right; }\n                            .center-left { text-valign: center; text-halign: left; }\n                            .center-center { text-valign: center; text-halign: center; }\n                            .center-right { text-valign: center; text-halign: right; }\n                            .bottom-left { text-valign: bottom; text-halign: left; }\n                            .bottom-center { text-valign: bottom; text-halign: center; }\n                            .bottom-right { text-valign: bottom; text-halign: right; }",
       "layout": "IPY_MODEL_a68156f4e64747640e3e93c83fbef99b",
       "pan": {
        "x": -3169.5277777777783,
        "y": -744.4444444444445
       },
       "style": "IPY_MODEL_20f02ebe05d640bde0ef978feb725523",
       "tooltip_source": "tooltip",
       "zoom": 4.722222222222222
      }
     },
     "42827f1e52e44d18375efe5095eca0f1": {
      "model_module": "cl-cytoscape",
      "model_module_version": "^0.1.96",
      "model_name": "ElementModel",
      "state": {
       "_model_module_version": "^0.1.96",
       "_view_module_version": "^0.1.96",
       "classes": [
        "bottom-right"
       ],
       "data": {
        "label": "bottom right"
       },
       "position": {
        "x": 842.0000000000001,
        "y": 200
       }
      }
     },
     "42e86c9e87d84e231e8990ca660d967a": {
      "model_module": "cl-cytoscape",
      "model_module_version": "^0.1.96",
      "model_name": "ElementModel",
      "state": {
       "_model_module_version": "^0.1.96",
       "_view_module_version": "^0.1.96",
       "classes": [
        "bottom-left"
       ],
       "data": {
        "label": "bottom left"
       },
       "position": {
        "x": 140.33333333333334,
        "y": 300
       }
      }
     },
     "44b9e2b2850d4438dbdc0f55e03bb199": {
      "model_module": "cl-cytoscape",
      "model_module_version": "^0.1.96",
      "model_name": "ElementModel",
      "state": {
       "_model_module_version": "^0.1.96",
       "_view_module_version": "^0.1.96",
       "classes": [
        "center-center"
       ],
       "data": {
        "label": "center center"
       },
       "position": {
        "x": 842.0000000000001,
        "y": 200
       }
      }
     },
     "4d25b43456744f4b067645c9e7cce6fc": {
      "model_module": "cl-cytoscape",
      "model_module_version": "^0.1.96",
      "model_name": "ElementModel",
      "state": {
       "_model_module_version": "^0.1.96",
       "_view_module_version": "^0.1.96",
       "classes": [
        "top-left"
       ],
       "data": {
        "label": "top left"
       },
       "position": {
        "x": 842.0000000000001,
        "y": 200
       }
      }
     },
     "5d921c00c3444f676eefb51af4122467": {
      "model_module": "cl-cytoscape",
      "model_module_version": "^0.1.96",
      "model_name": "ElementModel",
      "state": {
       "_model_module_version": "^0.1.96",
       "_view_module_version": "^0.1.96",
       "classes": [
        "center-center"
       ],
       "data": {
        "label": "center center"
       },
       "position": {
        "x": 842.0000000000001,
        "y": 200
       }
      }
     },
     "5ee64887bc80433abe40f400a503c5bd": {
      "model_module": "cl-cytoscape",
      "model_module_version": "^0.1.96",
      "model_name": "ElementModel",
      "state": {
       "_model_module_version": "^0.1.96",
       "_view_module_version": "^0.1.96",
       "classes": [
        "top-left"
       ],
       "data": {
        "label": "top left"
       },
       "position": {
        "x": 842.0000000000001,
        "y": 200
       }
      }
     },
     "5f4f2f5c8a99467a78a2bbbbb56a22d7": {
      "model_module": "cl-cytoscape",
      "model_module_version": "^0.1.96",
      "model_name": "GridLayoutModel",
      "state": {
       "_model_module_version": "^0.1.96",
       "_view_module_version": "^0.1.96",
       "animation_duration": 250,
       "spacing_factor": []
      }
     },
     "646bffc9b10c4ac2512b9787c5e10083": {
      "model_module": "cl-cytoscape",
      "model_module_version": "^0.1.96",
      "model_name": "ElementModel",
      "state": {
       "_model_module_version": "^0.1.96",
       "_view_module_version": "^0.1.96",
       "classes": [
        "center-right"
       ],
       "data": {
        "label": "center right"
       },
       "position": {
        "x": 842.0000000000001,
        "y": 200
       }
      }
     },
     "6f6a3549683b46eeb00cc62de9226d7b": {
      "model_module": "cl-cytoscape",
      "model_module_version": "^0.1.96",
      "model_name": "GridLayoutModel",
      "state": {
       "_model_module_version": "^0.1.96",
       "_view_module_version": "^0.1.96",
       "animate": true,
       "animation_duration": 250,
       "spacing_factor": []
      }
     },
     "72f8501b38864dbfe543413a2b81218e": {
      "model_module": "cl-cytoscape",
      "model_module_version": "^0.1.96",
      "model_name": "ElementModel",
      "state": {
       "_model_module_version": "^0.1.96",
       "_view_module_version": "^0.1.96",
       "classes": [
        "center-center"
       ],
       "data": {
        "label": "center center"
       },
       "position": {
        "x": 1263,
        "y": 100
       }
      }
     },
     "74d0620430fe4254cb5d45f02f39b478": {
      "model_module": "cl-cytoscape",
      "model_module_version": "^0.1.96",
      "model_name": "ElementModel",
      "state": {
       "_model_module_version": "^0.1.96",
       "_view_module_version": "^0.1.96",
       "classes": [
        "center-left"
       ],
       "data": {
        "label": "center left"
       },
       "position": {
        "x": 842.0000000000001,
        "y": 200
       }
      }
     },
     "78633975d348434d9c5c07aaba66e74a": {
      "model_module": "cl-cytoscape",
      "model_module_version": "^0.1.96",
      "model_name": "ElementModel",
      "state": {
       "_model_module_version": "^0.1.96",
       "_view_module_version": "^0.1.96",
       "classes": [
        "center-left"
       ],
       "data": {
        "label": "center left"
       },
       "position": {
        "x": 842.0000000000001,
        "y": 200
       }
      }
     },
     "7b033b5067bb4e8dd1040c8566fdb37b": {
      "model_module": "cl-cytoscape",
      "model_module_version": "^0.1.96",
      "model_name": "ElementModel",
      "state": {
       "_model_module_version": "^0.1.96",
       "_view_module_version": "^0.1.96",
       "classes": [
        "bottom-center"
       ],
       "data": {
        "label": "bottom center"
       },
       "position": {
        "x": 842.0000000000001,
        "y": 200
       }
      }
     },
     "7d1629f89fa2485288cbc679320858d1": {
      "model_module": "cl-cytoscape",
      "model_module_version": "^0.1.96",
      "model_name": "ElementModel",
      "state": {
       "_model_module_version": "^0.1.96",
       "_view_module_version": "^0.1.96",
       "classes": [
        "center-center"
       ],
       "data": {
        "label": "center center"
       },
       "position": {
        "x": 842.0000000000001,
        "y": 200
       }
      }
     },
     "945386c457c548c311c5ea50ff5ae51c": {
      "model_module": "cl-cytoscape",
      "model_module_version": "^0.1.96",
      "model_name": "ElementModel",
      "state": {
       "_model_module_version": "^0.1.96",
       "_view_module_version": "^0.1.96",
       "classes": [
        "top-center"
       ],
       "data": {
        "label": "top center"
       },
       "position": {
        "x": 842.0000000000001,
        "y": 200
       }
      }
     },
     "9a8c9b6a149d45bc181f6fe42ee55739": {
      "model_module": "cl-cytoscape",
      "model_module_version": "^0.1.96",
      "model_name": "ElementModel",
      "state": {
       "_model_module_version": "^0.1.96",
       "_view_module_version": "^0.1.96",
       "classes": [
        "center-right"
       ],
       "data": {
        "label": "center right"
       },
       "position": {
        "x": 842.0000000000001,
        "y": 200
       }
      }
     },
     "9c9e651f02c346f0c5ef245673735401": {
      "model_module": "cl-cytoscape",
      "model_module_version": "^0.1.96",
      "model_name": "ElementModel",
      "state": {
       "_model_module_version": "^0.1.96",
       "_view_module_version": "^0.1.96",
       "classes": [
        "bottom-center"
       ],
       "data": {
        "label": "bottom center"
       },
       "position": {
        "x": 842.0000000000001,
        "y": 200
       }
      }
     },
     "9d82aaa3e968442eb0de56d80ea8e3cc": {
      "model_module": "cl-cytoscape",
      "model_module_version": "^0.1.96",
      "model_name": "ElementModel",
      "state": {
       "_model_module_version": "^0.1.96",
       "_view_module_version": "^0.1.96",
       "classes": [
        "top-right"
       ],
       "data": {
        "label": "top right"
       },
       "position": {
        "x": 842.0000000000001,
        "y": 200
       }
      }
     },
     "9da5fd2348fe4278b98b497d91fa018b": {
      "model_module": "cl-cytoscape",
      "model_module_version": "^0.1.96",
      "model_name": "ElementModel",
      "state": {
       "_model_module_version": "^0.1.96",
       "_view_module_version": "^0.1.96",
       "classes": [
        "bottom-left"
       ],
       "data": {
        "label": "bottom left"
       },
       "position": {
        "x": 842.0000000000001,
        "y": 200
       }
      }
     },
     "a2d20fd67f8441a37b285e86d89a40af": {
      "model_module": "cl-cytoscape",
      "model_module_version": "^0.1.96",
      "model_name": "ElementModel",
      "state": {
       "_model_module_version": "^0.1.96",
       "_view_module_version": "^0.1.96",
       "classes": [
        "center-left"
       ],
       "data": {
        "label": "center left"
       },
       "position": {
        "x": 842.0000000000001,
        "y": 200
       }
      }
     },
     "a3c497ed88824cce3f7acb8069c1c00a": {
      "model_module": "@jupyter-widgets/base",
      "model_module_version": "1.2.0",
      "model_name": "LayoutModel",
      "state": {}
     },
     "a68156f4e64747640e3e93c83fbef99b": {
      "model_module": "@jupyter-widgets/base",
      "model_module_version": "1.2.0",
      "model_name": "LayoutModel",
      "state": {}
     },
     "a95020f715a04e5e764f5defc4753a62": {
      "model_module": "@jupyter-widgets/base",
      "model_module_version": "1.2.0",
      "model_name": "LayoutModel",
      "state": {}
     },
     "ab09d9f07a4b4219e63ae358c0026467": {
      "model_module": "cl-cytoscape",
      "model_module_version": "^0.1.96",
      "model_name": "ElementModel",
      "state": {
       "_model_module_version": "^0.1.96",
       "_view_module_version": "^0.1.96",
       "classes": [
        "top-right"
       ],
       "data": {
        "label": "top right"
       },
       "position": {
        "x": 701.6666666666667,
        "y": 100
       }
      }
     },
     "afcf00d8c0eb4bbb6a9aecadfbe5feb2": {
      "model_module": "cl-cytoscape",
      "model_module_version": "^0.1.96",
      "model_name": "ElementModel",
      "state": {
       "_model_module_version": "^0.1.96",
       "_view_module_version": "^0.1.96",
       "classes": [
        "top-center"
       ],
       "data": {
        "label": "top center"
       },
       "position": {
        "x": 842.0000000000001,
        "y": 200
       }
      }
     },
     "bd8a4075fc104551799bdaa947e9ab8e": {
      "model_module": "cl-cytoscape",
      "model_module_version": "^0.1.96",
      "model_name": "ElementModel",
      "state": {
       "_model_module_version": "^0.1.96",
       "_view_module_version": "^0.1.96",
       "classes": [
        "bottom-right"
       ],
       "data": {
        "label": "bottom right"
       },
       "position": {
        "x": 701.6666666666667,
        "y": 300
       }
      }
     },
     "c3894a7ffaaf427972986918e33d0b86": {
      "model_module": "cl-cytoscape",
      "model_module_version": "^0.1.96",
      "model_name": "ElementModel",
      "state": {
       "_model_module_version": "^0.1.96",
       "_view_module_version": "^0.1.96",
       "classes": [
        "center-right"
       ],
       "data": {
        "label": "center right"
       },
       "position": {
        "x": 842.0000000000001,
        "y": 200
       }
      }
     },
     "c78d6e90f3dc41b36696198a4488cfae": {
      "model_module": "cl-cytoscape",
      "model_module_version": "^0.1.96",
      "model_name": "ElementModel",
      "state": {
       "_model_module_version": "^0.1.96",
       "_view_module_version": "^0.1.96",
       "classes": [
        "top-left"
       ],
       "data": {
        "label": "top left"
       },
       "position": {
        "x": 842.0000000000001,
        "y": 200
       }
      }
     },
     "cf53109180b04e0493aa5194cfe62dbc": {
      "model_module": "cl-cytoscape",
      "model_module_version": "^0.1.96",
      "model_name": "CytoscapeStyleModel",
      "state": {
       "_model_module_version": "^0.1.96"
      }
     },
     "d64693852d8142e12ccefdface72da22": {
      "model_module": "cl-cytoscape",
      "model_module_version": "^0.1.96",
      "model_name": "ElementModel",
      "state": {
       "_model_module_version": "^0.1.96",
       "_view_module_version": "^0.1.96",
       "classes": [
        "top-right"
       ],
       "data": {
        "label": "top right"
       },
       "position": {
        "x": 842.0000000000001,
        "y": 200
       }
      }
     },
     "d8a1173e57a14dea8e4f6a21a46c6f74": {
      "model_module": "cl-cytoscape",
      "model_module_version": "^0.1.96",
      "model_name": "ElementModel",
      "state": {
       "_model_module_version": "^0.1.96",
       "_view_module_version": "^0.1.96",
       "classes": [
        "center-left"
       ],
       "data": {
        "label": "center left"
       },
       "position": {
        "x": 982.3333333333334,
        "y": 100
       }
      }
     },
     "db59ad3b55a441058def9fd87e20764b": {
      "model_module": "cl-cytoscape",
      "model_module_version": "^0.1.96",
      "model_name": "ElementModel",
      "state": {
       "_model_module_version": "^0.1.96",
       "_view_module_version": "^0.1.96",
       "classes": [
        "top-right"
       ],
       "data": {
        "label": "top right"
       },
       "position": {
        "x": 842.0000000000001,
        "y": 200
       }
      }
     },
     "dd912a956e5b4c8ef7a8de9c83071494": {
      "model_module": "cl-cytoscape",
      "model_module_version": "^0.1.96",
      "model_name": "ElementModel",
      "state": {
       "_model_module_version": "^0.1.96",
       "_view_module_version": "^0.1.96",
       "classes": [
        "bottom-left"
       ],
       "data": {
        "label": "bottom left"
       },
       "position": {
        "x": 842.0000000000001,
        "y": 200
       }
      }
     },
     "dda9a5d3023d41053fdc9cbe444eed83": {
      "model_module": "cl-cytoscape",
      "model_module_version": "^0.1.96",
      "model_name": "ElementModel",
      "state": {
       "_model_module_version": "^0.1.96",
       "_view_module_version": "^0.1.96",
       "classes": [
        "center-right"
       ],
       "data": {
        "label": "center right"
       },
       "position": {
        "x": 1543.6666666666667,
        "y": 100
       }
      }
     },
     "e0f626f40e9d4d369c1878412d85de31": {
      "model_module": "cl-cytoscape",
      "model_module_version": "^0.1.96",
      "model_name": "ElementModel",
      "state": {
       "_model_module_version": "^0.1.96",
       "_view_module_version": "^0.1.96",
       "classes": [
        "bottom-right"
       ],
       "data": {
        "label": "bottom right"
       },
       "position": {
        "x": 842.0000000000001,
        "y": 200
       }
      }
     },
     "e25d91126653494f07b98aa6730d7eb2": {
      "model_module": "cl-cytoscape",
      "model_module_version": "^0.1.96",
      "model_name": "CytoscapeStyleModel",
      "state": {
       "_model_module_version": "^0.1.96"
      }
     },
     "e2de376cc7d84f40cd6ec2c2521b3f76": {
      "model_module": "cl-cytoscape",
      "model_module_version": "^0.1.96",
      "model_name": "CytoscapeModel",
      "state": {
       "_model_module_version": "^0.1.96",
       "_view_module_version": "^0.1.96",
       "box_selection_enabled": true,
       "desktop_tap_threshold": 4,
       "elements": [
        "IPY_MODEL_c78d6e90f3dc41b36696198a4488cfae",
        "IPY_MODEL_26b6bf6a9e744f9c21ea783f277462bb",
        "IPY_MODEL_9d82aaa3e968442eb0de56d80ea8e3cc",
        "IPY_MODEL_74d0620430fe4254cb5d45f02f39b478",
        "IPY_MODEL_5d921c00c3444f676eefb51af4122467",
        "IPY_MODEL_c3894a7ffaaf427972986918e33d0b86",
        "IPY_MODEL_dd912a956e5b4c8ef7a8de9c83071494",
        "IPY_MODEL_9c9e651f02c346f0c5ef245673735401",
        "IPY_MODEL_42827f1e52e44d18375efe5095eca0f1"
       ],
       "graph_layouts": [
        "IPY_MODEL_291c6a717e0345e017a80626116e927f"
       ],
       "graph_style": "node[label] { font-family: helvetica; font-size: 20px; label: data(label); }\n                            .top-left { text-valign: top; text-halign: left; }\n                            .top-center { text-valign: top; text-halign: center; }\n                            .top-right { text-valign: top; text-halign: right; }\n                            .center-left { text-valign: center; text-halign: left; }\n                            .center-center { text-valign: center; text-halign: center; }\n                            .center-right { text-valign: center; text-halign: right; }\n                            .bottom-left { text-valign: bottom; text-halign: left; }\n                            .bottom-center { text-valign: bottom; text-halign: center; }\n                            .bottom-right { text-valign: bottom; text-halign: right; }",
       "layout": "IPY_MODEL_13e426b4a92848079859b56dcb50cbae",
       "pan": {
        "x": -3877.4444444444453,
        "y": -911.1111111111111
       },
       "style": "IPY_MODEL_00ebcd45fa774e29f093f01842c4f6c2",
       "tooltip_source": "tooltip",
       "zoom": 5.555555555555555
      }
     },
     "eb62a2c595a847be541984b28e02a0bc": {
      "model_module": "cl-cytoscape",
      "model_module_version": "^0.1.96",
      "model_name": "CytoscapeModel",
      "state": {
       "_model_module_version": "^0.1.96",
       "_view_module_version": "^0.1.96",
       "box_selection_enabled": true,
       "desktop_tap_threshold": 4,
       "elements": [
        "IPY_MODEL_5ee64887bc80433abe40f400a503c5bd",
        "IPY_MODEL_afcf00d8c0eb4bbb6a9aecadfbe5feb2",
        "IPY_MODEL_d64693852d8142e12ccefdface72da22",
        "IPY_MODEL_78633975d348434d9c5c07aaba66e74a",
        "IPY_MODEL_44b9e2b2850d4438dbdc0f55e03bb199",
        "IPY_MODEL_9a8c9b6a149d45bc181f6fe42ee55739",
        "IPY_MODEL_9da5fd2348fe4278b98b497d91fa018b",
        "IPY_MODEL_f1668d2522b8476ab82ec42d2116f5b3",
        "IPY_MODEL_e0f626f40e9d4d369c1878412d85de31"
       ],
       "graph_layouts": [
        "IPY_MODEL_5f4f2f5c8a99467a78a2bbbbb56a22d7"
       ],
       "graph_style": "node[label] { font-family: helvetica; font-size: 20px; label: data(label); }\n                            .top-left { text-valign: top; text-halign: left; }\n                            .top-center { text-valign: top; text-halign: center; }\n                            .top-right { text-valign: top; text-halign: right; }\n                            .center-left { text-valign: center; text-halign: left; }\n                            .center-center { text-valign: center; text-halign: center; }\n                            .center-right { text-valign: center; text-halign: right; }\n                            .bottom-left { text-valign: bottom; text-halign: left; }\n                            .bottom-center { text-valign: bottom; text-halign: center; }\n                            .bottom-right { text-valign: bottom; text-halign: right; }",
       "layout": "IPY_MODEL_a3c497ed88824cce3f7acb8069c1c00a",
       "pan": {
        "x": -3877.4444444444453,
        "y": -911.1111111111111
       },
       "style": "IPY_MODEL_e25d91126653494f07b98aa6730d7eb2",
       "tooltip_source": "tooltip",
       "zoom": 5.555555555555555
      }
     },
     "f1668d2522b8476ab82ec42d2116f5b3": {
      "model_module": "cl-cytoscape",
      "model_module_version": "^0.1.96",
      "model_name": "ElementModel",
      "state": {
       "_model_module_version": "^0.1.96",
       "_view_module_version": "^0.1.96",
       "classes": [
        "bottom-center"
       ],
       "data": {
        "label": "bottom center"
       },
       "position": {
        "x": 842.0000000000001,
        "y": 200
       }
      }
     }
    },
    "version_major": 2,
    "version_minor": 0
   }
  }
 },
 "nbformat": 4,
 "nbformat_minor": 4
}
