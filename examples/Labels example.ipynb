{
 "cells": [
  {
   "cell_type": "code",
   "execution_count": 1,
   "metadata": {},
   "outputs": [
    {
     "name": "stdout",
     "output_type": "stream",
     "text": [
      "To load \"cl-cytoscape\":\n",
      "  Load 1 ASDF system:\n",
      "    cl-cytoscape\n"
     ]
    },
    {
     "data": {
      "text/plain": [
       "(:CL-CYTOSCAPE)"
      ]
     },
     "execution_count": 1,
     "metadata": {},
     "output_type": "execute_result"
    },
    {
     "name": "stdout",
     "output_type": "stream",
     "text": [
      "\n",
      "; Loading \"cl-cytoscape\"\n",
      "\n"
     ]
    }
   ],
   "source": [
    "(ql:quickload :cl-cytoscape)"
   ]
  },
  {
   "cell_type": "code",
   "execution_count": 15,
   "metadata": {},
   "outputs": [
    {
     "data": {
      "text/plain": [
       "T"
      ]
     },
     "execution_count": 15,
     "metadata": {},
     "output_type": "execute_result"
    },
    {
     "data": {
      "text/plain": [
       "CYTO"
      ]
     },
     "execution_count": 15,
     "metadata": {},
     "output_type": "execute_result"
    },
    {
     "data": {
      "text/plain": [
       "(#<NODE {1002ED7753}> #<NODE {10030FD063}> #<NODE {100332AEC3}>\n",
       " #<NODE {1003521443}> #<NODE {1003737173}> #<NODE {1003A35B03}>\n",
       " #<NODE {1003C9C663}> #<NODE {1003EAB293}> #<NODE {10040AAF03}>)"
      ]
     },
     "execution_count": 15,
     "metadata": {},
     "output_type": "execute_result"
    }
   ],
   "source": [
    "(use-package :cytoscape)\n",
    "\n",
    "(defvar cyto (make-instance 'cytoscape-widget))\n",
    "\n",
    "(setf (nodes (graph cyto))\n",
    "      (list (make-instance 'node :data '((\"label\" . \"top left\")) :classes \"top-left\")\n",
    "            (make-instance 'node :data '((\"label\" . \"top center\")) :classes \"top-center\")\n",
    "            (make-instance 'node :data '((\"label\" . \"top right\")) :classes \"top-right\")\n",
    "            \n",
    "            (make-instance 'node :data '((\"label\" . \"center left\")) :classes \"center-left\")            \n",
    "            (make-instance 'node :data '((\"label\" . \"center center\")) :classes \"center-center\")            \n",
    "            (make-instance 'node :data '((\"label\" . \"center right\")) :classes \"center-right\")                        \n",
    "\n",
    "            (make-instance 'node :data '((\"label\" . \"bottom left\")) :classes \"bottom-left\")            \n",
    "            (make-instance 'node :data '((\"label\" . \"bottom center\")) :classes \"bottom-center\")            \n",
    "            (make-instance 'node :data '((\"label\" . \"bottom right\")) :classes \"bottom-right\")))              "
   ]
  },
  {
   "cell_type": "code",
   "execution_count": 5,
   "metadata": {},
   "outputs": [
    {
     "data": {
      "application/vnd.jupyter.widget-view+json": {
       "model_id": "b33e0ac99dd24326e6f0b6e0e1f0f35a",
       "version_major": 2,
       "version_minor": 0
      },
      "text/plain": [
       "A Jupyter Widget"
      ]
     },
     "metadata": {},
     "output_type": "display_data"
    }
   ],
   "source": [
    "cyto"
   ]
  },
  {
   "cell_type": "code",
   "execution_count": 14,
   "metadata": {},
   "outputs": [
    {
     "data": {
      "text/plain": [
       "((:OBJ (\"selector\" . \"node[label]\")\n",
       "  (\"style\" :OBJ (\"font-family\" . \"helvetica\") (\"font-size\" . \"20px\")\n",
       "   (\"label\" . \"data(label)\")))\n",
       " (:OBJ (\"selector\" . \".top-left\")\n",
       "  (\"style\" :OBJ (\"text-valign\" . \"top\") (\"text-halign\" . \"left\")))\n",
       " (:OBJ (\"selector\" . \".top-center\")\n",
       "  (\"style\" :OBJ (\"text-valign\" . \"top\") (\"text-halign\" . \"center\")))\n",
       " (:OBJ (\"selector\" . \".top-right\")\n",
       "  (\"style\" :OBJ (\"text-valign\" . \"top\") (\"text-halign\" . \"right\")))\n",
       " (:OBJ (\"selector\" . \".center-left\")\n",
       "  (\"style\" :OBJ (\"text-valign\" . \"center\") (\"text-halign\" . \"left\")))\n",
       " (:OBJ (\"selector\" . \".center-center\")\n",
       "  (\"style\" :OBJ (\"text-valign\" . \"center\") (\"text-halign\" . \"center\")))\n",
       " (:OBJ (\"selector\" . \".center-right\")\n",
       "  (\"style\" :OBJ (\"text-valign\" . \"center\") (\"text-halign\" . \"right\")))\n",
       " (:OBJ (\"selector\" . \".bottom-left\")\n",
       "  (\"style\" :OBJ (\"text-valign\" . \"bottom\") (\"text-halign\" . \"left\")))\n",
       " (:OBJ (\"selector\" . \".bottom-center\")\n",
       "  (\"style\" :OBJ (\"text-valign\" . \"bottom\") (\"text-halign\" . \"center\")))\n",
       " (:OBJ (\"selector\" . \".bottom-right\")\n",
       "  (\"style\" :OBJ (\"text-valign\" . \"bottom\") (\"text-halign\" . \"right\"))))"
      ]
     },
     "execution_count": 14,
     "metadata": {},
     "output_type": "execute_result"
    }
   ],
   "source": [
    "(setf (cytoscape:cytoscape-style cyto)\n",
    "      (list (jsown:new-js\n",
    "              (\"selector\" \"node[label]\")\n",
    "              (\"style\" (jsown:new-js (\"font-family\" \"helvetica\")\n",
    "                                     (\"font-size\" \"20px\")\n",
    "                                     (\"label\" \"data(label)\"))))\n",
    "            (jsown:new-js\n",
    "              (\"selector\" \".top-left\")\n",
    "              (\"style\" (jsown:new-js (\"text-valign\" \"top\")\n",
    "                                     (\"text-halign\" \"left\"))))\n",
    "            (jsown:new-js\n",
    "              (\"selector\" \".top-center\")\n",
    "              (\"style\" (jsown:new-js (\"text-valign\" \"top\")\n",
    "                                     (\"text-halign\" \"center\"))))\n",
    "            (jsown:new-js\n",
    "              (\"selector\" \".top-right\")\n",
    "              (\"style\" (jsown:new-js (\"text-valign\" \"top\")\n",
    "                                     (\"text-halign\" \"right\"))))\n",
    "            (jsown:new-js\n",
    "              (\"selector\" \".center-left\")\n",
    "              (\"style\" (jsown:new-js (\"text-valign\" \"center\")\n",
    "                                     (\"text-halign\" \"left\"))))\n",
    "            (jsown:new-js\n",
    "              (\"selector\" \".center-center\")\n",
    "              (\"style\" (jsown:new-js (\"text-valign\" \"center\")\n",
    "                                     (\"text-halign\" \"center\"))))\n",
    "            (jsown:new-js\n",
    "              (\"selector\" \".center-right\")\n",
    "              (\"style\" (jsown:new-js (\"text-valign\" \"center\")\n",
    "                                     (\"text-halign\" \"right\"))))\n",
    "            (jsown:new-js\n",
    "              (\"selector\" \".bottom-left\")\n",
    "              (\"style\" (jsown:new-js (\"text-valign\" \"bottom\")\n",
    "                                     (\"text-halign\" \"left\"))))\n",
    "            (jsown:new-js\n",
    "              (\"selector\" \".bottom-center\")\n",
    "              (\"style\" (jsown:new-js (\"text-valign\" \"bottom\")\n",
    "                                     (\"text-halign\" \"center\"))))\n",
    "            (jsown:new-js\n",
    "              (\"selector\" \".bottom-right\")\n",
    "              (\"style\" (jsown:new-js (\"text-valign\" \"bottom\")\n",
    "                                     (\"text-halign\" \"right\"))))))\n"
   ]
  },
  {
   "cell_type": "code",
   "execution_count": null,
   "metadata": {},
   "outputs": [],
   "source": []
  }
 ],
 "metadata": {
  "kernelspec": {
   "display_name": "Common Lisp",
   "language": "common-lisp",
   "name": "common-lisp"
  },
  "language_info": {
   "codemirror_mode": "text/x-common-lisp",
   "file_extension": ".lisp",
   "mimetype": "text/x-common-lisp",
   "name": "common-lisp",
   "pygments_lexer": "common-lisp",
   "version": "2.0.4"
  }
 },
 "nbformat": 4,
 "nbformat_minor": 4
}
