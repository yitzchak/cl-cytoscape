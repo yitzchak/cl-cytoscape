{
 "cells": [
  {
   "cell_type": "code",
   "execution_count": 1,
   "metadata": {},
   "outputs": [
    {
     "name": "stdout",
     "output_type": "stream",
     "text": [
      "To load \"cl-cytoscape\":\n",
      "  Load 1 ASDF system:\n",
      "    cl-cytoscape\n"
     ]
    },
    {
     "data": {
      "text/plain": [
       "(:CL-CYTOSCAPE)"
      ]
     },
     "execution_count": 1,
     "metadata": {},
     "output_type": "execute_result"
    },
    {
     "name": "stdout",
     "output_type": "stream",
     "text": [
      "\n",
      "; Loading \"cl-cytoscape\"\n",
      "\n"
     ]
    }
   ],
   "source": [
    "(ql:quickload :cl-cytoscape)"
   ]
  },
  {
   "cell_type": "code",
   "execution_count": 2,
   "metadata": {},
   "outputs": [
    {
     "data": {
      "application/vnd.jupyter.widget-view+json": {
       "model_id": "f2701db3ac1b422b963befc9bab33f11",
       "version_major": 2,
       "version_minor": 0
      },
      "text/plain": [
       "A Jupyter Widget"
      ]
     },
     "metadata": {},
     "output_type": "display_data"
    }
   ],
   "source": [
    "(make-instance 'cytoscape:cytoscape-widget\n",
    "               :elements (list (make-instance 'cytoscape:element :group \"nodes\" :data '((\"label\" . \"top left\")) :classes '(\"top-left\"))\n",
    "                               (make-instance 'cytoscape:element :group \"nodes\" :data '((\"label\" . \"top center\")) :classes '(\"top-center\"))\n",
    "                               (make-instance 'cytoscape:element :group \"nodes\" :data '((\"label\" . \"top right\")) :classes '(\"top-right\"))                                            \n",
    "                               (make-instance 'cytoscape:element :group \"nodes\" :data '((\"label\" . \"center left\")) :classes '(\"center-left\"))      \n",
    "                               (make-instance 'cytoscape:element :group \"nodes\" :data '((\"label\" . \"center center\")) :classes '(\"center-center\"))            \n",
    "                               (make-instance 'cytoscape:element :group \"nodes\" :data '((\"label\" . \"center right\")) :classes '(\"center-right\"))                        \n",
    "                               (make-instance 'cytoscape:element :group \"nodes\" :data '((\"label\" . \"bottom left\")) :classes '(\"bottom-left\"))            \n",
    "                               (make-instance 'cytoscape:element :group \"nodes\" :data '((\"label\" . \"bottom center\")) :classes '(\"bottom-center\"))            \n",
    "                               (make-instance 'cytoscape:element :group \"nodes\" :data '((\"label\" . \"bottom right\")) :classes '(\"bottom-right\")))\n",
    "               :graph-layouts (list (make-instance 'cytoscape:grid-layout))\n",
    "               :graph-style \"node[label] { font-family: helvetica; font-size: 20px; label: data(label); }\n",
    "                            .top-left { text-valign: top; text-halign: left; }\n",
    "                            .top-center { text-valign: top; text-halign: center; }\n",
    "                            .top-right { text-valign: top; text-halign: right; }\n",
    "                            .center-left { text-valign: center; text-halign: left; }\n",
    "                            .center-center { text-valign: center; text-halign: center; }\n",
    "                            .center-right { text-valign: center; text-halign: right; }\n",
    "                            .bottom-left { text-valign: bottom; text-halign: left; }\n",
    "                            .bottom-center { text-valign: bottom; text-halign: center; }\n",
    "                            .bottom-right { text-valign: bottom; text-halign: right; }\")"
   ]
  },
  {
   "cell_type": "code",
   "execution_count": null,
   "metadata": {},
   "outputs": [],
   "source": []
  }
 ],
 "metadata": {
  "kernelspec": {
   "display_name": "Common Lisp",
   "language": "common-lisp",
   "name": "common-lisp"
  },
  "language_info": {
   "codemirror_mode": "text/x-common-lisp",
   "file_extension": ".lisp",
   "mimetype": "text/x-common-lisp",
   "name": "common-lisp",
   "pygments_lexer": "common-lisp",
   "version": "2.0.4"
  },
  "widgets": {
   "application/vnd.jupyter.widget-state+json": {
    "state": {
     "101f55217cb74508c1319d7bf1047d69": {
      "model_module": "cl-cytoscape",
      "model_module_version": "^0.1.96",
      "model_name": "ElementModel",
      "state": {
       "_model_module_version": "^0.1.96",
       "_view_module_version": "^0.1.96",
       "classes": [
        "top-center"
       ],
       "data": {
        "label": "top center"
       },
       "position": {
        "x": 381.29999999999995,
        "y": 100
       }
      }
     },
     "106676d61fb045515ac472ae16e6d758": {
      "model_module": "cl-cytoscape",
      "model_module_version": "^0.1.96",
      "model_name": "ElementModel",
      "state": {
       "_model_module_version": "^0.1.96",
       "_view_module_version": "^0.1.96",
       "classes": [
        "top-left"
       ],
       "data": {
        "label": "top left"
       },
       "position": {
        "x": 127.1,
        "y": 100
       }
      }
     },
     "1786783a9227450c3ceaa00f22c5feb3": {
      "model_module": "cl-cytoscape",
      "model_module_version": "^0.1.96",
      "model_name": "ElementModel",
      "state": {
       "_model_module_version": "^0.1.96",
       "_view_module_version": "^0.1.96",
       "classes": [
        "center-left"
       ],
       "data": {
        "label": "center left"
       },
       "position": {
        "x": 889.6999999999999,
        "y": 100
       }
      }
     },
     "1f1966fe8e6b4c845621922fc53915f1": {
      "model_module": "@jupyter-widgets/base",
      "model_module_version": "1.2.0",
      "model_name": "LayoutModel",
      "state": {}
     },
     "2a38f5b13fe74abf0fec0e7a29d97905": {
      "model_module": "cl-cytoscape",
      "model_module_version": "^0.1.96",
      "model_name": "ElementModel",
      "state": {
       "_model_module_version": "^0.1.96",
       "_view_module_version": "^0.1.96",
       "classes": [
        "bottom-center"
       ],
       "data": {
        "label": "bottom center"
       },
       "position": {
        "x": 635.5,
        "y": 300
       }
      }
     },
     "2ae6c7b8e76d4a987ba5caaf60e3783e": {
      "model_module": "cl-cytoscape",
      "model_module_version": "^0.1.96",
      "model_name": "ElementModel",
      "state": {
       "_model_module_version": "^0.1.96",
       "_view_module_version": "^0.1.96",
       "classes": [
        "center-center"
       ],
       "data": {
        "label": "center center"
       },
       "position": {
        "x": 1143.8999999999999,
        "y": 100
       }
      }
     },
     "482e769d3b0c46501f01b3d9080600d4": {
      "model_module": "cl-cytoscape",
      "model_module_version": "^0.1.96",
      "model_name": "ElementModel",
      "state": {
       "_model_module_version": "^0.1.96",
       "_view_module_version": "^0.1.96",
       "classes": [
        "bottom-right"
       ],
       "data": {
        "label": "bottom right"
       },
       "position": {
        "x": 889.6999999999999,
        "y": 300
       }
      }
     },
     "6e24076aa8b94a8d18d36b6636528c91": {
      "model_module": "cl-cytoscape",
      "model_module_version": "^0.1.96",
      "model_name": "CytoscapeStyleModel",
      "state": {
       "_model_module_version": "^0.1.96"
      }
     },
     "730e8034904a4901e27e4c2bad36931e": {
      "model_module": "cl-cytoscape",
      "model_module_version": "^0.1.96",
      "model_name": "ElementModel",
      "state": {
       "_model_module_version": "^0.1.96",
       "_view_module_version": "^0.1.96",
       "classes": [
        "top-right"
       ],
       "data": {
        "label": "top right"
       },
       "position": {
        "x": 635.5,
        "y": 100
       }
      }
     },
     "996fe186c30741d5575443a53689c007": {
      "model_module": "cl-cytoscape",
      "model_module_version": "^0.1.96",
      "model_name": "ElementModel",
      "state": {
       "_model_module_version": "^0.1.96",
       "_view_module_version": "^0.1.96",
       "classes": [
        "center-right"
       ],
       "data": {
        "label": "center right"
       },
       "position": {
        "x": 127.1,
        "y": 300
       }
      }
     },
     "9e3af195cd4444a59b64e84b2bf32c7f": {
      "model_module": "cl-cytoscape",
      "model_module_version": "^0.1.96",
      "model_name": "ElementModel",
      "state": {
       "_model_module_version": "^0.1.96",
       "_view_module_version": "^0.1.96",
       "classes": [
        "bottom-left"
       ],
       "data": {
        "label": "bottom left"
       },
       "position": {
        "x": 381.29999999999995,
        "y": 300
       }
      }
     },
     "c1a28532c17f4d82881821f5e9ec92f7": {
      "model_module": "cl-cytoscape",
      "model_module_version": "^0.1.96",
      "model_name": "GridLayoutModel",
      "state": {
       "_model_module_version": "^0.1.96",
       "_view_module_version": "^0.1.96"
      }
     },
     "f2701db3ac1b422b963befc9bab33f11": {
      "model_module": "cl-cytoscape",
      "model_module_version": "^0.1.96",
      "model_name": "CytoscapeModel",
      "state": {
       "_model_module_version": "^0.1.96",
       "_view_module_version": "^0.1.96",
       "box_selection_enabled": true,
       "desktop_tap_threshold": 4,
       "elements": [
        "IPY_MODEL_106676d61fb045515ac472ae16e6d758",
        "IPY_MODEL_101f55217cb74508c1319d7bf1047d69",
        "IPY_MODEL_730e8034904a4901e27e4c2bad36931e",
        "IPY_MODEL_1786783a9227450c3ceaa00f22c5feb3",
        "IPY_MODEL_2ae6c7b8e76d4a987ba5caaf60e3783e",
        "IPY_MODEL_996fe186c30741d5575443a53689c007",
        "IPY_MODEL_9e3af195cd4444a59b64e84b2bf32c7f",
        "IPY_MODEL_2a38f5b13fe74abf0fec0e7a29d97905",
        "IPY_MODEL_482e769d3b0c46501f01b3d9080600d4"
       ],
       "graph_layouts": [
        "IPY_MODEL_c1a28532c17f4d82881821f5e9ec92f7"
       ],
       "graph_style": "node[label] { font-family: helvetica; font-size: 20px; label: data(label); }\n                            .top-left { text-valign: top; text-halign: left; }\n                            .top-center { text-valign: top; text-halign: center; }\n                            .top-right { text-valign: top; text-halign: right; }\n                            .center-left { text-valign: center; text-halign: left; }\n                            .center-center { text-valign: center; text-halign: center; }\n                            .center-right { text-valign: center; text-halign: right; }\n                            .bottom-left { text-valign: bottom; text-halign: left; }\n                            .bottom-center { text-valign: bottom; text-halign: center; }\n                            .bottom-right { text-valign: bottom; text-halign: right; }",
       "layout": "IPY_MODEL_1f1966fe8e6b4c845621922fc53915f1",
       "pan": {
        "x": -42.355833972555956,
        "y": -16.65388221256285
       },
       "style": "IPY_MODEL_6e24076aa8b94a8d18d36b6636528c91",
       "tooltip_source": "tooltip",
       "zoom": 1.0832694110628143
      }
     }
    },
    "version_major": 2,
    "version_minor": 0
   }
  }
 },
 "nbformat": 4,
 "nbformat_minor": 4
}
