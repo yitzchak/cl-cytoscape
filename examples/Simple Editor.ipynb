{
 "cells": [
  {
   "cell_type": "code",
   "execution_count": 1,
   "metadata": {},
   "outputs": [
    {
     "name": "stdout",
     "output_type": "stream",
     "text": [
      "To load \"cl-cytoscape\":\n",
      "  Load 1 ASDF system:\n",
      "    cl-cytoscape\n"
     ]
    },
    {
     "data": {
      "text/plain": [
       "(:CL-CYTOSCAPE)"
      ]
     },
     "execution_count": 1,
     "metadata": {},
     "output_type": "execute_result"
    },
    {
     "name": "stdout",
     "output_type": "stream",
     "text": [
      "\n",
      "; Loading \"cl-cytoscape\"\n",
      "\n"
     ]
    }
   ],
   "source": [
    "(ql:quickload :cl-cytoscape)"
   ]
  },
  {
   "cell_type": "code",
   "execution_count": 2,
   "metadata": {},
   "outputs": [
    {
     "data": {
      "text/plain": [
       "#<The STANDARD-CLASS COMMON-LISP-USER::EDITOR>"
      ]
     },
     "execution_count": 2,
     "metadata": {},
     "output_type": "execute_result"
    },
    {
     "data": {
      "text/plain": [
       "UPDATE-COMMANDS"
      ]
     },
     "execution_count": 2,
     "metadata": {},
     "output_type": "execute_result"
    },
    {
     "data": {
      "text/plain": [
       "UNDO"
      ]
     },
     "execution_count": 2,
     "metadata": {},
     "output_type": "execute_result"
    },
    {
     "data": {
      "text/plain": [
       "REDO"
      ]
     },
     "execution_count": 2,
     "metadata": {},
     "output_type": "execute_result"
    },
    {
     "data": {
      "text/plain": [
       "ADD-NODE"
      ]
     },
     "execution_count": 2,
     "metadata": {},
     "output_type": "execute_result"
    },
    {
     "data": {
      "text/plain": [
       "ADD-EDGE"
      ]
     },
     "execution_count": 2,
     "metadata": {},
     "output_type": "execute_result"
    },
    {
     "data": {
      "text/plain": [
       "DELETE-NODE"
      ]
     },
     "execution_count": 2,
     "metadata": {},
     "output_type": "execute_result"
    },
    {
     "data": {
      "text/plain": [
       "DELETE-EDGE"
      ]
     },
     "execution_count": 2,
     "metadata": {},
     "output_type": "execute_result"
    },
    {
     "data": {
      "text/plain": [
       "DELETE-ELEMENTS"
      ]
     },
     "execution_count": 2,
     "metadata": {},
     "output_type": "execute_result"
    },
    {
     "data": {
      "text/plain": [
       "REVERSE-EDGE"
      ]
     },
     "execution_count": 2,
     "metadata": {},
     "output_type": "execute_result"
    },
    {
     "data": {
      "text/plain": [
       "#<STANDARD-METHOD INITIALIZE-INSTANCE :AFTER (EDITOR)>"
      ]
     },
     "execution_count": 2,
     "metadata": {},
     "output_type": "execute_result"
    },
    {
     "data": {
      "text/plain": [
       "CE"
      ]
     },
     "execution_count": 2,
     "metadata": {},
     "output_type": "execute_result"
    },
    {
     "data": {
      "application/vnd.jupyter.widget-view+json": {
       "model_id": "403d316372654c4b5f1b4959016aa4c2",
       "version_major": 2,
       "version_minor": 0
      },
      "text/plain": [
       "A Jupyter Widget"
      ]
     },
     "metadata": {},
     "output_type": "display_data"
    }
   ],
   "source": [
    "(defclass editor ()\n",
    "  ((stack\n",
    "     :accessor stack\n",
    "     :initform (make-array 32 :adjustable t :fill-pointer 0))\n",
    "   (stack-index\n",
    "     :accessor stack-index\n",
    "     :initform 0)\n",
    "   (cyto\n",
    "     :accessor cyto\n",
    "     :initform (make-instance 'cytoscape:cytoscape-widget\n",
    "                              :graph-layouts (list (make-instance 'cytoscape:cose-layout))\n",
    "                              :graph-style \"edge { target-arrow-shape: triangle; curve-style: bezier; }\"))\n",
    "   (undo-command\n",
    "     :accessor undo-command\n",
    "     :initform (make-instance 'cytoscape:menu-command\n",
    "                              :content \"<span class='fa fa-undo fa-2x'></span>\"))\n",
    "   (redo-command\n",
    "     :accessor redo-command\n",
    "     :initform (make-instance 'cytoscape:menu-command\n",
    "                              :content \"<span class='fa fa-redo fa-2x'></span>\"))\n",
    "   (add-node-command\n",
    "     :accessor add-node-command\n",
    "     :initform (make-instance 'cytoscape:menu-command\n",
    "                              :content \"<span class='fa fa-plus-circle fa-2x'></span>\"))\n",
    "   (add-edge-command\n",
    "     :accessor add-edge-command\n",
    "     :initform (make-instance 'cytoscape:menu-command\n",
    "                              :content \"<span class='fa fa-arrow-right fa-2x'></span>\"))\n",
    "   (delete-node-command\n",
    "     :accessor delete-node-command\n",
    "     :initform (make-instance 'cytoscape:menu-command\n",
    "                              :content \"<span class='fa fa-trash fa-2x'></span>\"))\n",
    "   (delete-edge-command\n",
    "     :accessor delete-edge-command\n",
    "     :initform (make-instance 'cytoscape:menu-command\n",
    "                              :content \"<span class='fa fa-trash fa-2x'></span>\"))\n",
    "   (delete-elements-command\n",
    "     :accessor delete-elements-command\n",
    "     :initform (make-instance 'cytoscape:menu-command\n",
    "                              :content \"<span class='fa fa-trash fa-2x'></span>\"))\n",
    "   (reverse-edge-command\n",
    "     :accessor reverse-edge-command\n",
    "     :initform (make-instance 'cytoscape:menu-command\n",
    "                              :content \"<span class='fa fa-exchange-alt fa-2x'></span>\"))\n",
    "   (edge-source\n",
    "     :accessor edge-source\n",
    "     :initform nil)))\n",
    "\n",
    "\n",
    "(defun update-commands (instance)\n",
    "  (with-slots (delete-elements-command undo-command redo-command stack-index stack cyto)\n",
    "              instance\n",
    "    (setf (cytoscape:enabled delete-elements-command) (some (lambda (element) \n",
    "                                                              (and (cytoscape:selected element) \n",
    "                                                                   (not (cytoscape:removed element)))) \n",
    "                                                            (cytoscape:elements cyto)))\n",
    "    (setf (cytoscape:enabled undo-command) (< 0 stack-index))\n",
    "    (setf (cytoscape:enabled redo-command) (< stack-index (length stack)))))\n",
    "\n",
    "\n",
    "(defun undo (instance)\n",
    "  (with-slots (stack-index stack cyto)\n",
    "              instance\n",
    "    (when (< 0 stack-index)\n",
    "      (decf stack-index)\n",
    "      (dolist (element (cytoscape:elements cyto))\n",
    "        (let ((pair (assoc (cdr (assoc \"id\" (cytoscape:data element) :test #'string=)) (elt stack stack-index) :test #'string=)))\n",
    "          (when pair\n",
    "            (setf (cytoscape:removed element) (cdr pair)))))\n",
    "      (update-commands instance))))\n",
    "\n",
    "\n",
    "(defun redo (instance)\n",
    "  (with-slots (stack-index stack cyto)\n",
    "              instance\n",
    "    (when (< stack-index (length stack))\n",
    "      (dolist (element (cytoscape:elements cyto))\n",
    "        (let ((pair (assoc (cdr (assoc \"id\" (cytoscape:data element) :test #'string=)) (elt stack stack-index) :test #'string=)))\n",
    "          (when pair\n",
    "            (setf (cytoscape:removed element) (not (cdr pair))))))\n",
    "      (incf stack-index)\n",
    "      (update-commands instance))))\n",
    "\n",
    "\n",
    "(defun add-node (instance)\n",
    "  (with-slots (stack-index stack cyto)\n",
    "              instance\n",
    "    (let* ((new-id (jupyter:make-uuid))\n",
    "           (node (make-instance 'cytoscape:element \n",
    "                                :group \"nodes\" \n",
    "                                :data (list (cons \"id\" new-id)))))\n",
    "      (setf (fill-pointer stack) stack-index)\n",
    "      (vector-push-extend (list (cons new-id t)) stack)\n",
    "      (incf stack-index)\n",
    "      (jupyter-widgets:observe node :selected\n",
    "        (lambda (inst name type old-value new-value source)\n",
    "          (declare (ignore inst name type old-value new-value source))\n",
    "          (update-commands instance)))\n",
    "      (setf (cytoscape:elements cyto)\n",
    "            (append (cytoscape:elements cyto)\n",
    "                    (list node))))\n",
    "    (update-commands instance)))\n",
    "\n",
    "\n",
    "(defun add-edge (instance id)\n",
    "  (with-slots (stack-index stack cyto edge-source)\n",
    "              instance\n",
    "    (if edge-source\n",
    "      (let* ((new-id (jupyter:make-uuid))\n",
    "             (edge (make-instance 'cytoscape:element\n",
    "                                  :group \"edges\" \n",
    "                                  :data (list (cons \"id\" new-id)\n",
    "                                              (cons \"source\" edge-source)\n",
    "                                              (cons \"target\" id)))))\n",
    "        (setf (fill-pointer stack) stack-index)\n",
    "        (vector-push-extend (list (cons new-id t)) stack)\n",
    "        (incf stack-index)\n",
    "        (jupyter-widgets:observe edge :selected\n",
    "           (lambda (inst name type old-value new-value source)\n",
    "            (declare (ignore inst name type old-value new-value source))\n",
    "            (update-commands instance)))\n",
    "        (setf (cytoscape:elements cyto)\n",
    "              (append (cytoscape:elements cyto)\n",
    "                      (list edge)))\n",
    "        (setf edge-source nil)\n",
    "        (update-commands instance))\n",
    "      (setf edge-source id))))\n",
    "\n",
    "\n",
    "(defun delete-node (instance id)\n",
    "  (with-slots (stack-index stack cyto)\n",
    "              instance\n",
    "    (setf (fill-pointer stack) stack-index)\n",
    "    (incf stack-index)\n",
    "    (let (actions)\n",
    "      (dolist (element (cytoscape:elements cyto))\n",
    "        (when (or (equal id (cdr (assoc \"id\" (cytoscape:data element) :test #'string=)))\n",
    "                  (equal id (cdr (assoc \"source\" (cytoscape:data element) :test #'string=)))\n",
    "                  (equal id (cdr (assoc \"target\" (cytoscape:data element) :test #'string=))))\n",
    "          (push (cons (cdr (assoc \"id\" (cytoscape:data element) :test #'string=)) nil) actions)\n",
    "          (setf (cytoscape:removed element) t)))\n",
    "      (vector-push-extend actions stack)\n",
    "      (update-commands instance))))\n",
    "\n",
    "\n",
    "(defun delete-edge (instance id)\n",
    "  (with-slots (stack-index stack cyto)\n",
    "              instance\n",
    "    (setf (fill-pointer stack) stack-index)\n",
    "    (vector-push-extend (list (cons id nil)) stack)\n",
    "    (incf stack-index)\n",
    "    (dolist (element (cytoscape:elements cyto))\n",
    "      (when (equal id (cdr (assoc \"id\" (cytoscape:data element) :test #'string=)))\n",
    "        (setf (cytoscape:removed element) t)))\n",
    "    (update-commands instance)))\n",
    "\n",
    "\n",
    "(defun delete-elements (instance)\n",
    "  (with-slots (stack-index stack cyto)\n",
    "              instance\n",
    "    (setf (fill-pointer stack) stack-index)\n",
    "    (incf stack-index)\n",
    "    (let (actions nodes)\n",
    "      (dolist (element (cytoscape:elements cyto))\n",
    "        (when (cytoscape:selected element)\n",
    "          (push (cons (cdr (assoc \"id\" (cytoscape:data element) :test #'string=)) nil) actions)\n",
    "          (setf (cytoscape:removed element) t)\n",
    "          (when (equal \"nodes\" (cytoscape:group element))\n",
    "            (push (cdr (assoc \"id\" (cytoscape:data element) :test #'string=)) nodes))))\n",
    "      (dolist (element (cytoscape:elements cyto))\n",
    "        (when (or (member (cdr (assoc \"source\" (cytoscape:data element) :test #'string=)) nodes :test #'equal)\n",
    "                  (member (cdr (assoc \"target\" (cytoscape:data element) :test #'string=)) nodes :test #'equal))\n",
    "          (push (cons (cdr (assoc \"id\" (cytoscape:data element) :test #'string=)) nil) actions)\n",
    "          (setf (cytoscape:removed element) t)))\n",
    "      (vector-push-extend actions stack)\n",
    "      (update-commands instance))))\n",
    "\n",
    "\n",
    "(defun reverse-edge (instance id)\n",
    "  (with-slots (stack-index stack cyto)\n",
    "              instance\n",
    "    (let ((new-id (jupyter:make-uuid)))\n",
    "      (setf (fill-pointer stack) stack-index)\n",
    "      (vector-push-extend (list (cons id nil) (cons new-id t)) stack)\n",
    "      (incf stack-index)\n",
    "      (dolist (element (cytoscape:elements cyto))\n",
    "        (when (equal id (cdr (assoc \"id\" (cytoscape:data element) :test #'string=)))\n",
    "          (setf (cytoscape:removed element) nil)\n",
    "          (setf (cytoscape:elements cyto)\n",
    "                (append (cytoscape:elements cyto)\n",
    "                        (list (make-instance 'cytoscape:element :group \"edges\" :data (list (cons \"id\" new-id)\n",
    "                                                                                           (cons \"source\" (cdr (assoc \"target\" (cytoscape:data element) :test #'string=)))\n",
    "                                                                                           (cons \"target\" (cdr (assoc \"source\" (cytoscape:data element) :test #'string=))))))))))\n",
    "      (update-commands instance))))\n",
    "\n",
    "\n",
    "(defmethod initialize-instance :after ((instance editor) &rest initargs &key &allow-other-keys)\n",
    "  (declare (ignore initargs))\n",
    "  (with-slots (undo-command redo-command add-node-command add-edge-command delete-node-command\n",
    "               delete-edge-command delete-elements-command reverse-edge-command cyto)\n",
    "              instance\n",
    "    (cytoscape:on-menu-command-select undo-command\n",
    "                                      (lambda (command-instance id)\n",
    "                                        (declare (ignore command-instance id))\n",
    "                                        (undo instance)))\n",
    "    (cytoscape:on-menu-command-select redo-command\n",
    "                                      (lambda (command-instance id)\n",
    "                                        (declare (ignore command-instance id))\n",
    "                                        (redo instance)))\n",
    "    (cytoscape:on-menu-command-select add-node-command\n",
    "                                      (lambda (command-instance id)\n",
    "                                        (declare (ignore command-instance id))\n",
    "                                        (add-node instance)))\n",
    "    (cytoscape:on-menu-command-select add-edge-command\n",
    "                                      (lambda (command-instance id)\n",
    "                                        (declare (ignore command-instance))\n",
    "                                        (add-edge instance id)))\n",
    "    (cytoscape:on-menu-command-select delete-node-command\n",
    "                                      (lambda (command-instance id)\n",
    "                                        (declare (ignore command-instance))\n",
    "                                        (delete-node instance id)))\n",
    "    (cytoscape:on-menu-command-select delete-edge-command\n",
    "                                      (lambda (command-instance id)\n",
    "                                        (declare (ignore command-instance))\n",
    "                                        (delete-edge instance id)))\n",
    "    (cytoscape:on-menu-command-select delete-elements-command\n",
    "                                      (lambda (command-instance id)\n",
    "                                        (declare (ignore command-instance id))\n",
    "                                        (delete-elements instance)))\n",
    "    (cytoscape:on-menu-command-select reverse-edge-command\n",
    "                                      (lambda (command-instance id)\n",
    "                                        (declare (ignore command-instance))\n",
    "                                        (reverse-edge instance id)))\n",
    "    (setf (cytoscape:context-menus cyto)\n",
    "          (list (make-instance 'cytoscape:context-menu\n",
    "                               :selector \"core\"\n",
    "                               :commands (list undo-command redo-command delete-elements-command add-node-command))\n",
    "                (make-instance 'cytoscape:context-menu\n",
    "                               :selector \"node\"\n",
    "                               :commands (list undo-command redo-command delete-node-command add-node-command add-edge-command))\n",
    "                (make-instance 'cytoscape:context-menu\n",
    "                               :selector \"edge\"\n",
    "                               :commands (list undo-command redo-command delete-edge-command add-node-command reverse-edge-command))))))\n",
    "\n",
    "(defparameter ce (make-instance 'editor))\n",
    "\n",
    "(cyto ce)"
   ]
  },
  {
   "cell_type": "code",
   "execution_count": null,
   "metadata": {},
   "outputs": [],
   "source": []
  }
 ],
 "metadata": {
  "kernelspec": {
   "display_name": "Common Lisp (clasp)",
   "language": "common-lisp",
   "name": "common-lisp_clasp"
  },
  "language_info": {
   "codemirror_mode": "text/x-common-lisp",
   "file_extension": ".lisp",
   "mimetype": "text/x-common-lisp",
   "name": "common-lisp",
   "pygments_lexer": "common-lisp",
   "version": "cclasp-boehm-0.4.2-2722-gc7cf406d8-cst"
  },
  "widgets": {
   "application/vnd.jupyter.widget-state+json": {
    "state": {
     "01a3ef44cede49889f3c9cea4dab0e9c": {
      "model_module": "cl-cytoscape",
      "model_module_version": "^0.1.96",
      "model_name": "MenuCommandModel",
      "state": {
       "_model_module_version": "^0.1.96",
       "_view_module_version": "^0.1.96",
       "content": "<span class='fa fa-trash fa-2x'></span>",
       "fill_color": []
      }
     },
     "05f7986c24294a65ae6eb76e1866bf91": {
      "model_module": "cl-cytoscape",
      "model_module_version": "^0.1.96",
      "model_name": "ElementModel",
      "state": {
       "_model_module_version": "^0.1.96",
       "_view_module_version": "^0.1.96",
       "data": {
        "id": "a7cc5e2be3934ae445c224d1e16321c5",
        "source": "a5d63f7b34554c16ae2da5f8a37a25e9",
        "target": "c2446c845bc54579ae2f9327bd13d640"
       },
       "group": "edges"
      }
     },
     "21c6536a4cb04604493ea3021f34cfae": {
      "model_module": "cl-cytoscape",
      "model_module_version": "^0.1.96",
      "model_name": "ContextMenuModel",
      "state": {
       "_model_module_version": "^0.1.96",
       "_view_module_version": "^0.1.96",
       "commands": [
        "IPY_MODEL_a384e40499ee425a302c6820d1417c0c",
        "IPY_MODEL_d7aa781fc044434aac7734a36f30254a",
        "IPY_MODEL_bbfaeb33f0394da26fa013041d6c97de",
        "IPY_MODEL_dd4ea6c1816a413d601d973bf2b6fa74",
        "IPY_MODEL_62fd6260b49b4b6fe08f8b400c434e0d"
       ]
      }
     },
     "2742c41bdcd647bcf971cc848b99ed9c": {
      "model_module": "cl-cytoscape",
      "model_module_version": "^0.1.96",
      "model_name": "ElementModel",
      "state": {
       "_model_module_version": "^0.1.96",
       "_view_module_version": "^0.1.96",
       "data": {
        "id": "242ca8ab97cb469d1af68dbb002dabe5",
        "source": "57bd036fc1114de81f95ac390fb52e04",
        "target": "3c16d3d766f247a8d9957d13ad4e7fa1"
       },
       "group": "edges"
      }
     },
     "2a12a2c78dcd4988bb9b8a0b95c0624c": {
      "model_module": "cl-cytoscape",
      "model_module_version": "^0.1.96",
      "model_name": "CytoscapeStyleModel",
      "state": {
       "_model_module_version": "^0.1.96"
      }
     },
     "3b4a2eaf587f4dc7e23f2f3c6b48b83f": {
      "model_module": "cl-cytoscape",
      "model_module_version": "^0.1.96",
      "model_name": "ElementModel",
      "state": {
       "_model_module_version": "^0.1.96",
       "_view_module_version": "^0.1.96",
       "data": {
        "id": "7e3ce3fff8d547dc3dc206bece79c67a",
        "source": "17fb59d1d1d64489f001d8c357648b53",
        "target": "3c16d3d766f247a8d9957d13ad4e7fa1"
       },
       "group": "edges"
      }
     },
     "3d958eadfd774f0c77c2fbfcce49c16f": {
      "model_module": "cl-cytoscape",
      "model_module_version": "^0.1.96",
      "model_name": "ElementModel",
      "state": {
       "_model_module_version": "^0.1.96",
       "_view_module_version": "^0.1.96",
       "data": {
        "id": "3c16d3d766f247a8d9957d13ad4e7fa1"
       },
       "position": {
        "x": 106.98670682538398,
        "y": 50.00259868842409
       }
      }
     },
     "3eef6c47f3f34b01bff8b70a9cda8cc5": {
      "model_module": "cl-cytoscape",
      "model_module_version": "^0.1.96",
      "model_name": "MenuCommandModel",
      "state": {
       "_model_module_version": "^0.1.96",
       "_view_module_version": "^0.1.96",
       "content": "<span class='fa fa-exchange-alt fa-2x'></span>",
       "fill_color": []
      }
     },
     "403d316372654c4b5f1b4959016aa4c2": {
      "model_module": "cl-cytoscape",
      "model_module_version": "^0.1.96",
      "model_name": "CytoscapeModel",
      "state": {
       "_model_module_version": "^0.1.96",
       "_view_module_version": "^0.1.96",
       "box_selection_enabled": true,
       "context_menus": [
        "IPY_MODEL_efd48c0e01c54e5dbab186d2a7cd7869",
        "IPY_MODEL_21c6536a4cb04604493ea3021f34cfae",
        "IPY_MODEL_f347e9d287bf47eaaec21dac82e237dc"
       ],
       "desktop_tap_threshold": 4,
       "elements": [
        "IPY_MODEL_53ab4b22d2aa4af28877583da9b75993",
        "IPY_MODEL_3d958eadfd774f0c77c2fbfcce49c16f",
        "IPY_MODEL_591824944cde4aed815395dd8a4e27e0",
        "IPY_MODEL_8ab0c76a64c8467edebef9e40a8bb428",
        "IPY_MODEL_2742c41bdcd647bcf971cc848b99ed9c",
        "IPY_MODEL_df61e46e88c942c29c4824b1040e6299",
        "IPY_MODEL_b032267b8637428a0b46ae5183c4fbda",
        "IPY_MODEL_55b79c85a5bb4b4f5a38a9eeb8118404",
        "IPY_MODEL_6f36a0055ef74cd285aba97da5fd5890",
        "IPY_MODEL_83bcd73e44fb4109a8ae43074f4e857c",
        "IPY_MODEL_8871f17edcea4a7443f15e68f80d9b72",
        "IPY_MODEL_9a7d48221ea34d9f9c02a8f55309e410",
        "IPY_MODEL_3b4a2eaf587f4dc7e23f2f3c6b48b83f",
        "IPY_MODEL_b608dca0d3744088a7df3c8dc8fd789b",
        "IPY_MODEL_7ed01fd202d1480edcc6e6cd2bb2e930",
        "IPY_MODEL_7cdfb0de729542f97d3d44102d955946",
        "IPY_MODEL_05f7986c24294a65ae6eb76e1866bf91",
        "IPY_MODEL_5043e849388045508943fff31a90d3ec",
        "IPY_MODEL_ac470561e6cd4a067024be3635e7a6c5",
        "IPY_MODEL_7761583cea4f44b9f9f496cbb1450617",
        "IPY_MODEL_586b3bc274a8493c8bdf6bd465022f3f",
        "IPY_MODEL_9ac8408960f449e9913320259a97004a"
       ],
       "graph_layouts": [
        "IPY_MODEL_8fd224a9bd4d464e24b91e605a264abc"
       ],
       "graph_style": "edge { target-arrow-shape: triangle; curve-style: bezier; }",
       "layout": "IPY_MODEL_69b2987519dc4526c4d4b79c85dfd45d",
       "max_zoom": 9.999999999999999e+49,
       "min_zoom": 1.0000000000000001e-50,
       "pan": {
        "x": 465.52717056623175,
        "y": 32.05502398443903
       },
       "style": "IPY_MODEL_2a12a2c78dcd4988bb9b8a0b95c0624c",
       "tooltip_source": "tooltip",
       "zoom": 2.0550239844390172
      }
     },
     "5043e849388045508943fff31a90d3ec": {
      "model_module": "cl-cytoscape",
      "model_module_version": "^0.1.96",
      "model_name": "ElementModel",
      "state": {
       "_model_module_version": "^0.1.96",
       "_view_module_version": "^0.1.96",
       "data": {
        "id": "a6386fa1aa384c9aab50f90de08bf95b",
        "source": "17fb59d1d1d64489f001d8c357648b53",
        "target": "c6b7a6a245b246ebe6e04ad1a97ab814"
       },
       "group": "edges"
      }
     },
     "53ab4b22d2aa4af28877583da9b75993": {
      "model_module": "cl-cytoscape",
      "model_module_version": "^0.1.96",
      "model_name": "ElementModel",
      "state": {
       "_model_module_version": "^0.1.96",
       "_view_module_version": "^0.1.96",
       "data": {
        "id": "c6b7a6a245b246ebe6e04ad1a97ab814"
       },
       "position": {
        "x": 89.39803430036895,
        "y": 148.4481906656742
       }
      }
     },
     "55b79c85a5bb4b4f5a38a9eeb8118404": {
      "model_module": "cl-cytoscape",
      "model_module_version": "^0.1.96",
      "model_name": "ElementModel",
      "state": {
       "_model_module_version": "^0.1.96",
       "_view_module_version": "^0.1.96",
       "data": {
        "id": "30ff1e4070064d2057dc4c40164393e5"
       },
       "position": {
        "x": 45.877677525405005,
        "y": 15
       }
      }
     },
     "586b3bc274a8493c8bdf6bd465022f3f": {
      "model_module": "cl-cytoscape",
      "model_module_version": "^0.1.96",
      "model_name": "ElementModel",
      "state": {
       "_model_module_version": "^0.1.96",
       "_view_module_version": "^0.1.96",
       "data": {
        "id": "997cc97bd64e4ba8b3137caf7fc92f22",
        "source": "57bd036fc1114de81f95ac390fb52e04",
        "target": "c6b7a6a245b246ebe6e04ad1a97ab814"
       },
       "group": "edges"
      }
     },
     "591824944cde4aed815395dd8a4e27e0": {
      "model_module": "cl-cytoscape",
      "model_module_version": "^0.1.96",
      "model_name": "ElementModel",
      "state": {
       "_model_module_version": "^0.1.96",
       "_view_module_version": "^0.1.96",
       "data": {
        "id": "8906715b56c94278931ed8ed6e44b640",
        "source": "c6b7a6a245b246ebe6e04ad1a97ab814",
        "target": "3c16d3d766f247a8d9957d13ad4e7fa1"
       },
       "group": "edges"
      }
     },
     "62fd6260b49b4b6fe08f8b400c434e0d": {
      "model_module": "cl-cytoscape",
      "model_module_version": "^0.1.96",
      "model_name": "MenuCommandModel",
      "state": {
       "_model_module_version": "^0.1.96",
       "_view_module_version": "^0.1.96",
       "content": "<span class='fa fa-arrow-right fa-2x'></span>",
       "fill_color": []
      }
     },
     "69b2987519dc4526c4d4b79c85dfd45d": {
      "model_module": "@jupyter-widgets/base",
      "model_module_version": "1.2.0",
      "model_name": "LayoutModel",
      "state": {}
     },
     "6f36a0055ef74cd285aba97da5fd5890": {
      "model_module": "cl-cytoscape",
      "model_module_version": "^0.1.96",
      "model_name": "ElementModel",
      "state": {
       "_model_module_version": "^0.1.96",
       "_view_module_version": "^0.1.96",
       "data": {
        "id": "9ad4b2992c774ae2d85301a6dd5ee95f",
        "source": "30ff1e4070064d2057dc4c40164393e5",
        "target": "3c16d3d766f247a8d9957d13ad4e7fa1"
       },
       "group": "edges"
      }
     },
     "7761583cea4f44b9f9f496cbb1450617": {
      "model_module": "cl-cytoscape",
      "model_module_version": "^0.1.96",
      "model_name": "ElementModel",
      "state": {
       "_model_module_version": "^0.1.96",
       "_view_module_version": "^0.1.96",
       "data": {
        "id": "6b65a1128eda424d20199ac5db83303e",
        "source": "c2446c845bc54579ae2f9327bd13d640",
        "target": "57bd036fc1114de81f95ac390fb52e04"
       },
       "group": "edges"
      }
     },
     "7cdfb0de729542f97d3d44102d955946": {
      "model_module": "cl-cytoscape",
      "model_module_version": "^0.1.96",
      "model_name": "ElementModel",
      "state": {
       "_model_module_version": "^0.1.96",
       "_view_module_version": "^0.1.96",
       "data": {
        "id": "66bc78b1e6584cfcb5fd851cbaa76693",
        "source": "17fb59d1d1d64489f001d8c357648b53",
        "target": "57bd036fc1114de81f95ac390fb52e04"
       },
       "group": "edges"
      }
     },
     "7ed01fd202d1480edcc6e6cd2bb2e930": {
      "model_module": "cl-cytoscape",
      "model_module_version": "^0.1.96",
      "model_name": "ElementModel",
      "state": {
       "_model_module_version": "^0.1.96",
       "_view_module_version": "^0.1.96",
       "data": {
        "id": "9f2ac2f952b3485a1bef7c822daac2e3",
        "source": "30ff1e4070064d2057dc4c40164393e5",
        "target": "c2446c845bc54579ae2f9327bd13d640"
       },
       "group": "edges"
      }
     },
     "83bcd73e44fb4109a8ae43074f4e857c": {
      "model_module": "cl-cytoscape",
      "model_module_version": "^0.1.96",
      "model_name": "ElementModel",
      "state": {
       "_model_module_version": "^0.1.96",
       "_view_module_version": "^0.1.96",
       "data": {
        "id": "c2446c845bc54579ae2f9327bd13d640"
       },
       "position": {
        "x": 15,
        "y": 77.28313677965406
       }
      }
     },
     "8871f17edcea4a7443f15e68f80d9b72": {
      "model_module": "cl-cytoscape",
      "model_module_version": "^0.1.96",
      "model_name": "ElementModel",
      "state": {
       "_model_module_version": "^0.1.96",
       "_view_module_version": "^0.1.96",
       "data": {
        "id": "a32f92ce46b5422a31900ac8c71efa95",
        "source": "c2446c845bc54579ae2f9327bd13d640",
        "target": "3c16d3d766f247a8d9957d13ad4e7fa1"
       },
       "group": "edges"
      }
     },
     "8ab0c76a64c8467edebef9e40a8bb428": {
      "model_module": "cl-cytoscape",
      "model_module_version": "^0.1.96",
      "model_name": "ElementModel",
      "state": {
       "_model_module_version": "^0.1.96",
       "_view_module_version": "^0.1.96",
       "data": {
        "id": "57bd036fc1114de81f95ac390fb52e04"
       },
       "position": {
        "x": 76.23423709891432,
        "y": 88.64352064696067
       }
      }
     },
     "8fd224a9bd4d464e24b91e605a264abc": {
      "model_module": "cl-cytoscape",
      "model_module_version": "^0.1.96",
      "model_name": "CoseLayoutModel",
      "state": {
       "_model_module_version": "^0.1.96",
       "_view_module_version": "^0.1.96"
      }
     },
     "9a7d48221ea34d9f9c02a8f55309e410": {
      "model_module": "cl-cytoscape",
      "model_module_version": "^0.1.96",
      "model_name": "ElementModel",
      "state": {
       "_model_module_version": "^0.1.96",
       "_view_module_version": "^0.1.96",
       "data": {
        "id": "17fb59d1d1d64489f001d8c357648b53"
       },
       "position": {
        "x": 150.4217476008365,
        "y": 110.18199972778751
       }
      }
     },
     "9ac8408960f449e9913320259a97004a": {
      "model_module": "cl-cytoscape",
      "model_module_version": "^0.1.96",
      "model_name": "ElementModel",
      "state": {
       "_model_module_version": "^0.1.96",
       "_view_module_version": "^0.1.96",
       "data": {
        "id": "4c7682c08703432b48a9836a0d32cff9",
        "source": "c6b7a6a245b246ebe6e04ad1a97ab814",
        "target": "c2446c845bc54579ae2f9327bd13d640"
       },
       "group": "edges"
      }
     },
     "a384e40499ee425a302c6820d1417c0c": {
      "model_module": "cl-cytoscape",
      "model_module_version": "^0.1.96",
      "model_name": "MenuCommandModel",
      "state": {
       "_model_module_version": "^0.1.96",
       "_view_module_version": "^0.1.96",
       "content": "<span class='fa fa-undo fa-2x'></span>",
       "fill_color": []
      }
     },
     "ac470561e6cd4a067024be3635e7a6c5": {
      "model_module": "cl-cytoscape",
      "model_module_version": "^0.1.96",
      "model_name": "ElementModel",
      "state": {
       "_model_module_version": "^0.1.96",
       "_view_module_version": "^0.1.96",
       "data": {
        "id": "a27f86856bcb4e216cf5f5065d10b256",
        "source": "a5d63f7b34554c16ae2da5f8a37a25e9",
        "target": "c6b7a6a245b246ebe6e04ad1a97ab814"
       },
       "group": "edges"
      }
     },
     "b032267b8637428a0b46ae5183c4fbda": {
      "model_module": "cl-cytoscape",
      "model_module_version": "^0.1.96",
      "model_name": "ElementModel",
      "state": {
       "_model_module_version": "^0.1.96",
       "_view_module_version": "^0.1.96",
       "data": {
        "id": "1ab06dd1474a4fcc9a66363e7df01022",
        "source": "a5d63f7b34554c16ae2da5f8a37a25e9",
        "target": "3c16d3d766f247a8d9957d13ad4e7fa1"
       },
       "group": "edges"
      }
     },
     "b608dca0d3744088a7df3c8dc8fd789b": {
      "model_module": "cl-cytoscape",
      "model_module_version": "^0.1.96",
      "model_name": "ElementModel",
      "state": {
       "_model_module_version": "^0.1.96",
       "_view_module_version": "^0.1.96",
       "data": {
        "id": "c2f47146f31c49a5810637c089a5fd46",
        "source": "30ff1e4070064d2057dc4c40164393e5",
        "target": "57bd036fc1114de81f95ac390fb52e04"
       },
       "group": "edges"
      }
     },
     "bbfaeb33f0394da26fa013041d6c97de": {
      "model_module": "cl-cytoscape",
      "model_module_version": "^0.1.96",
      "model_name": "MenuCommandModel",
      "state": {
       "_model_module_version": "^0.1.96",
       "_view_module_version": "^0.1.96",
       "content": "<span class='fa fa-trash fa-2x'></span>",
       "fill_color": []
      }
     },
     "d7aa781fc044434aac7734a36f30254a": {
      "model_module": "cl-cytoscape",
      "model_module_version": "^0.1.96",
      "model_name": "MenuCommandModel",
      "state": {
       "_model_module_version": "^0.1.96",
       "_view_module_version": "^0.1.96",
       "content": "<span class='fa fa-redo fa-2x'></span>",
       "enabled": false,
       "fill_color": []
      }
     },
     "dd4ea6c1816a413d601d973bf2b6fa74": {
      "model_module": "cl-cytoscape",
      "model_module_version": "^0.1.96",
      "model_name": "MenuCommandModel",
      "state": {
       "_model_module_version": "^0.1.96",
       "_view_module_version": "^0.1.96",
       "content": "<span class='fa fa-plus-circle fa-2x'></span>",
       "fill_color": []
      }
     },
     "df61e46e88c942c29c4824b1040e6299": {
      "model_module": "cl-cytoscape",
      "model_module_version": "^0.1.96",
      "model_name": "ElementModel",
      "state": {
       "_model_module_version": "^0.1.96",
       "_view_module_version": "^0.1.96",
       "data": {
        "id": "a5d63f7b34554c16ae2da5f8a37a25e9"
       },
       "position": {
        "x": 25.990218877781444,
        "y": 138.15010281115673
       }
      }
     },
     "e9921f82e569417ca7a3890d6d286ac1": {
      "model_module": "cl-cytoscape",
      "model_module_version": "^0.1.96",
      "model_name": "MenuCommandModel",
      "state": {
       "_model_module_version": "^0.1.96",
       "_view_module_version": "^0.1.96",
       "content": "<span class='fa fa-trash fa-2x'></span>",
       "enabled": false,
       "fill_color": []
      }
     },
     "efd48c0e01c54e5dbab186d2a7cd7869": {
      "model_module": "cl-cytoscape",
      "model_module_version": "^0.1.96",
      "model_name": "ContextMenuModel",
      "state": {
       "_model_module_version": "^0.1.96",
       "_view_module_version": "^0.1.96",
       "commands": [
        "IPY_MODEL_a384e40499ee425a302c6820d1417c0c",
        "IPY_MODEL_d7aa781fc044434aac7734a36f30254a",
        "IPY_MODEL_e9921f82e569417ca7a3890d6d286ac1",
        "IPY_MODEL_dd4ea6c1816a413d601d973bf2b6fa74"
       ],
       "selector": "core"
      }
     },
     "f347e9d287bf47eaaec21dac82e237dc": {
      "model_module": "cl-cytoscape",
      "model_module_version": "^0.1.96",
      "model_name": "ContextMenuModel",
      "state": {
       "_model_module_version": "^0.1.96",
       "_view_module_version": "^0.1.96",
       "commands": [
        "IPY_MODEL_a384e40499ee425a302c6820d1417c0c",
        "IPY_MODEL_d7aa781fc044434aac7734a36f30254a",
        "IPY_MODEL_01a3ef44cede49889f3c9cea4dab0e9c",
        "IPY_MODEL_dd4ea6c1816a413d601d973bf2b6fa74",
        "IPY_MODEL_3eef6c47f3f34b01bff8b70a9cda8cc5"
       ],
       "selector": "edge"
      }
     }
    },
    "version_major": 2,
    "version_minor": 0
   }
  }
 },
 "nbformat": 4,
 "nbformat_minor": 4
}
