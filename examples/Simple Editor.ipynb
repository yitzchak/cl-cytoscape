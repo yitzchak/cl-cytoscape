{
 "cells": [
  {
   "cell_type": "code",
   "execution_count": 1,
   "metadata": {},
   "outputs": [
    {
     "name": "stdout",
     "output_type": "stream",
     "text": [
      "To load \"cytoscape-clj\":\n",
      "  Load 1 ASDF system:\n",
      "    cytoscape-clj\n"
     ]
    },
    {
     "data": {
      "text/plain": [
       "(:CYTOSCAPE-CLJ)"
      ]
     },
     "execution_count": 1,
     "metadata": {},
     "output_type": "execute_result"
    },
    {
     "name": "stdout",
     "output_type": "stream",
     "text": [
      "\n",
      "; Loading \"cytoscape-clj\"\n",
      "\n"
     ]
    }
   ],
   "source": [
    "(ql:quickload :cytoscape-clj)"
   ]
  },
  {
   "cell_type": "code",
   "execution_count": 2,
   "metadata": {},
   "outputs": [
    {
     "data": {
      "text/plain": [
       "#<The STANDARD-CLASS COMMON-LISP-USER::EDITOR>"
      ]
     },
     "execution_count": 2,
     "metadata": {},
     "output_type": "execute_result"
    },
    {
     "data": {
      "text/plain": [
       "UPDATE-COMMANDS"
      ]
     },
     "execution_count": 2,
     "metadata": {},
     "output_type": "execute_result"
    },
    {
     "data": {
      "text/plain": [
       "UNDO"
      ]
     },
     "execution_count": 2,
     "metadata": {},
     "output_type": "execute_result"
    },
    {
     "data": {
      "text/plain": [
       "REDO"
      ]
     },
     "execution_count": 2,
     "metadata": {},
     "output_type": "execute_result"
    },
    {
     "data": {
      "text/plain": [
       "ADD-NODE"
      ]
     },
     "execution_count": 2,
     "metadata": {},
     "output_type": "execute_result"
    },
    {
     "data": {
      "text/plain": [
       "ADD-EDGE"
      ]
     },
     "execution_count": 2,
     "metadata": {},
     "output_type": "execute_result"
    },
    {
     "data": {
      "text/plain": [
       "DELETE-NODE"
      ]
     },
     "execution_count": 2,
     "metadata": {},
     "output_type": "execute_result"
    },
    {
     "data": {
      "text/plain": [
       "DELETE-EDGE"
      ]
     },
     "execution_count": 2,
     "metadata": {},
     "output_type": "execute_result"
    },
    {
     "data": {
      "text/plain": [
       "DELETE-ELEMENTS"
      ]
     },
     "execution_count": 2,
     "metadata": {},
     "output_type": "execute_result"
    },
    {
     "data": {
      "text/plain": [
       "REVERSE-EDGE"
      ]
     },
     "execution_count": 2,
     "metadata": {},
     "output_type": "execute_result"
    },
    {
     "data": {
      "text/plain": [
       "#<STANDARD-METHOD INITIALIZE-INSTANCE :AFTER (EDITOR)>"
      ]
     },
     "execution_count": 2,
     "metadata": {},
     "output_type": "execute_result"
    },
    {
     "data": {
      "text/plain": [
       "CE"
      ]
     },
     "execution_count": 2,
     "metadata": {},
     "output_type": "execute_result"
    },
    {
     "data": {
      "application/vnd.jupyter.widget-view+json": {
       "model_id": "7f2273543b104843019164c86e4388ab",
       "version_major": 2,
       "version_minor": 0
      },
      "text/plain": [
       "A Jupyter Widget"
      ]
     },
     "metadata": {},
     "output_type": "display_data"
    }
   ],
   "source": [
    "(defclass editor ()\n",
    "  ((stack\n",
    "     :accessor stack\n",
    "     :initform (make-array 32 :adjustable t :fill-pointer 0))\n",
    "   (stack-index\n",
    "     :accessor stack-index\n",
    "     :initform 0)\n",
    "   (cyto\n",
    "     :accessor cyto\n",
    "     :initform (make-instance 'cytoscape:cytoscape-widget\n",
    "                              :graph-layouts (list (make-instance 'cytoscape:cose-layout))\n",
    "                              :graph-style \"edge { target-arrow-shape: triangle; curve-style: bezier; }\"))\n",
    "   (undo-command\n",
    "     :accessor undo-command\n",
    "     :initform (make-instance 'cytoscape:menu-command\n",
    "                              :content \"<span class='fa fa-undo fa-2x'></span>\"))\n",
    "   (redo-command\n",
    "     :accessor redo-command\n",
    "     :initform (make-instance 'cytoscape:menu-command\n",
    "                              :content \"<span class='fa fa-redo fa-2x'></span>\"))\n",
    "   (add-node-command\n",
    "     :accessor add-node-command\n",
    "     :initform (make-instance 'cytoscape:menu-command\n",
    "                              :content \"<span class='fa fa-plus-circle fa-2x'></span>\"))\n",
    "   (add-edge-command\n",
    "     :accessor add-edge-command\n",
    "     :initform (make-instance 'cytoscape:menu-command\n",
    "                              :content \"<span class='fa fa-arrow-right fa-2x'></span>\"))\n",
    "   (delete-node-command\n",
    "     :accessor delete-node-command\n",
    "     :initform (make-instance 'cytoscape:menu-command\n",
    "                              :content \"<span class='fa fa-trash fa-2x'></span>\"))\n",
    "   (delete-edge-command\n",
    "     :accessor delete-edge-command\n",
    "     :initform (make-instance 'cytoscape:menu-command\n",
    "                              :content \"<span class='fa fa-trash fa-2x'></span>\"))\n",
    "   (delete-elements-command\n",
    "     :accessor delete-elements-command\n",
    "     :initform (make-instance 'cytoscape:menu-command\n",
    "                              :content \"<span class='fa fa-trash fa-2x'></span>\"))\n",
    "   (reverse-edge-command\n",
    "     :accessor reverse-edge-command\n",
    "     :initform (make-instance 'cytoscape:menu-command\n",
    "                              :content \"<span class='fa fa-exchange-alt fa-2x'></span>\"))\n",
    "   (edge-source\n",
    "     :accessor edge-source\n",
    "     :initform nil)))\n",
    "\n",
    "\n",
    "(defun update-commands (instance)\n",
    "  (with-slots (delete-elements-command undo-command redo-command stack-index stack cyto)\n",
    "              instance\n",
    "    (setf (cytoscape:enabled delete-elements-command) (some (lambda (element) \n",
    "                                                              (and (cytoscape:selected element) \n",
    "                                                                   (not (cytoscape:removed element)))) \n",
    "                                                            (cytoscape:elements cyto)))\n",
    "    (setf (cytoscape:enabled undo-command) (< 0 stack-index))\n",
    "    (setf (cytoscape:enabled redo-command) (< stack-index (length stack)))))\n",
    "\n",
    "\n",
    "(defun undo (instance)\n",
    "  (with-slots (stack-index stack cyto)\n",
    "              instance\n",
    "    (when (< 0 stack-index)\n",
    "      (decf stack-index)\n",
    "      (dolist (element (cytoscape:elements cyto))\n",
    "        (let ((pair (assoc (cdr (assoc \"id\" (cytoscape:data element) :test #'string=)) (elt stack stack-index) :test #'string=)))\n",
    "          (when pair\n",
    "            (setf (cytoscape:removed element) (cdr pair)))))\n",
    "      (update-commands instance))))\n",
    "\n",
    "\n",
    "(defun redo (instance)\n",
    "  (with-slots (stack-index stack cyto)\n",
    "              instance\n",
    "    (when (< stack-index (length stack))\n",
    "      (dolist (element (cytoscape:elements cyto))\n",
    "        (let ((pair (assoc (cdr (assoc \"id\" (cytoscape:data element) :test #'string=)) (elt stack stack-index) :test #'string=)))\n",
    "          (when pair\n",
    "            (setf (cytoscape:removed element) (not (cdr pair))))))\n",
    "      (incf stack-index)\n",
    "      (update-commands instance))))\n",
    "\n",
    "\n",
    "(defun add-node (instance)\n",
    "  (with-slots (stack-index stack cyto)\n",
    "              instance\n",
    "    (let* ((new-id (jupyter:make-uuid))\n",
    "           (node (make-instance 'cytoscape:element \n",
    "                                :group \"nodes\" \n",
    "                                :data (list (cons \"id\" new-id)))))\n",
    "      (setf (fill-pointer stack) stack-index)\n",
    "      (vector-push-extend (list (cons new-id t)) stack)\n",
    "      (incf stack-index)\n",
    "      (jupyter-widgets:observe node :selected\n",
    "        (lambda (inst name type old-value new-value source)\n",
    "          (declare (ignore inst name type old-value new-value source))\n",
    "          (update-commands instance)))\n",
    "      (setf (cytoscape:elements cyto)\n",
    "            (append (cytoscape:elements cyto)\n",
    "                    (list node))))\n",
    "    (update-commands instance)))\n",
    "\n",
    "\n",
    "(defun add-edge (instance id)\n",
    "  (with-slots (stack-index stack cyto edge-source)\n",
    "              instance\n",
    "    (if edge-source\n",
    "      (let* ((new-id (jupyter:make-uuid))\n",
    "             (edge (make-instance 'cytoscape:element\n",
    "                                  :group \"edges\" \n",
    "                                  :data (list (cons \"id\" new-id)\n",
    "                                              (cons \"source\" edge-source)\n",
    "                                              (cons \"target\" id)))))\n",
    "        (setf (fill-pointer stack) stack-index)\n",
    "        (vector-push-extend (list (cons new-id t)) stack)\n",
    "        (incf stack-index)\n",
    "        (jupyter-widgets:observe edge :selected\n",
    "           (lambda (inst name type old-value new-value source)\n",
    "            (declare (ignore inst name type old-value new-value source))\n",
    "            (update-commands instance)))\n",
    "        (setf (cytoscape:elements cyto)\n",
    "              (append (cytoscape:elements cyto)\n",
    "                      (list edge)))\n",
    "        (setf edge-source nil)\n",
    "        (update-commands instance))\n",
    "      (setf edge-source id))))\n",
    "\n",
    "\n",
    "(defun delete-node (instance id)\n",
    "  (with-slots (stack-index stack cyto)\n",
    "              instance\n",
    "    (setf (fill-pointer stack) stack-index)\n",
    "    (incf stack-index)\n",
    "    (let (actions)\n",
    "      (dolist (element (cytoscape:elements cyto))\n",
    "        (when (or (equal id (cdr (assoc \"id\" (cytoscape:data element) :test #'string=)))\n",
    "                  (equal id (cdr (assoc \"source\" (cytoscape:data element) :test #'string=)))\n",
    "                  (equal id (cdr (assoc \"target\" (cytoscape:data element) :test #'string=))))\n",
    "          (push (cons (cdr (assoc \"id\" (cytoscape:data element) :test #'string=)) nil) actions)\n",
    "          (setf (cytoscape:removed element) t)))\n",
    "      (vector-push-extend actions stack)\n",
    "      (update-commands instance))))\n",
    "\n",
    "\n",
    "(defun delete-edge (instance id)\n",
    "  (with-slots (stack-index stack cyto)\n",
    "              instance\n",
    "    (setf (fill-pointer stack) stack-index)\n",
    "    (vector-push-extend (list (cons id nil)) stack)\n",
    "    (incf stack-index)\n",
    "    (dolist (element (cytoscape:elements cyto))\n",
    "      (when (equal id (cdr (assoc \"id\" (cytoscape:data element) :test #'string=)))\n",
    "        (setf (cytoscape:removed element) t)))\n",
    "    (update-commands instance)))\n",
    "\n",
    "\n",
    "(defun delete-elements (instance)\n",
    "  (with-slots (stack-index stack cyto)\n",
    "              instance\n",
    "    (setf (fill-pointer stack) stack-index)\n",
    "    (incf stack-index)\n",
    "    (let (actions nodes)\n",
    "      (dolist (element (cytoscape:elements cyto))\n",
    "        (when (cytoscape:selected element)\n",
    "          (push (cons (cdr (assoc \"id\" (cytoscape:data element) :test #'string=)) nil) actions)\n",
    "          (setf (cytoscape:removed element) t)\n",
    "          (when (equal \"nodes\" (cytoscape:group element))\n",
    "            (push (cdr (assoc \"id\" (cytoscape:data element) :test #'string=)) nodes))))\n",
    "      (dolist (element (cytoscape:elements cyto))\n",
    "        (when (or (member (cdr (assoc \"source\" (cytoscape:data element) :test #'string=)) nodes :test #'equal)\n",
    "                  (member (cdr (assoc \"target\" (cytoscape:data element) :test #'string=)) nodes :test #'equal))\n",
    "          (push (cons (cdr (assoc \"id\" (cytoscape:data element) :test #'string=)) nil) actions)\n",
    "          (setf (cytoscape:removed element) t)))\n",
    "      (vector-push-extend actions stack)\n",
    "      (update-commands instance))))\n",
    "\n",
    "\n",
    "(defun reverse-edge (instance id)\n",
    "  (with-slots (stack-index stack cyto)\n",
    "              instance\n",
    "    (let ((new-id (jupyter:make-uuid)))\n",
    "      (setf (fill-pointer stack) stack-index)\n",
    "      (vector-push-extend (list (cons id nil) (cons new-id t)) stack)\n",
    "      (incf stack-index)\n",
    "      (dolist (element (cytoscape:elements cyto))\n",
    "        (when (equal id (cdr (assoc \"id\" (cytoscape:data element) :test #'string=)))\n",
    "          (setf (cytoscape:removed element) nil)\n",
    "          (setf (cytoscape:elements cyto)\n",
    "                (append (cytoscape:elements cyto)\n",
    "                        (list (make-instance 'cytoscape:element :group \"edges\" :data (list (cons \"id\" new-id)\n",
    "                                                                                           (cons \"source\" (cdr (assoc \"target\" (cytoscape:data element) :test #'string=)))\n",
    "                                                                                           (cons \"target\" (cdr (assoc \"source\" (cytoscape:data element) :test #'string=))))))))))\n",
    "      (update-commands instance))))\n",
    "\n",
    "\n",
    "(defmethod initialize-instance :after ((instance editor) &rest initargs &key &allow-other-keys)\n",
    "  (declare (ignore initargs))\n",
    "  (with-slots (undo-command redo-command add-node-command add-edge-command delete-node-command\n",
    "               delete-edge-command delete-elements-command reverse-edge-command cyto)\n",
    "              instance\n",
    "    (cytoscape:on-menu-command-select undo-command\n",
    "                                      (lambda (command-instance id)\n",
    "                                        (declare (ignore command-instance id))\n",
    "                                        (undo instance)))\n",
    "    (cytoscape:on-menu-command-select redo-command\n",
    "                                      (lambda (command-instance id)\n",
    "                                        (declare (ignore command-instance id))\n",
    "                                        (redo instance)))\n",
    "    (cytoscape:on-menu-command-select add-node-command\n",
    "                                      (lambda (command-instance id)\n",
    "                                        (declare (ignore command-instance id))\n",
    "                                        (add-node instance)))\n",
    "    (cytoscape:on-menu-command-select add-edge-command\n",
    "                                      (lambda (command-instance id)\n",
    "                                        (declare (ignore command-instance))\n",
    "                                        (add-edge instance id)))\n",
    "    (cytoscape:on-menu-command-select delete-node-command\n",
    "                                      (lambda (command-instance id)\n",
    "                                        (declare (ignore command-instance))\n",
    "                                        (delete-node instance id)))\n",
    "    (cytoscape:on-menu-command-select delete-edge-command\n",
    "                                      (lambda (command-instance id)\n",
    "                                        (declare (ignore command-instance))\n",
    "                                        (delete-edge instance id)))\n",
    "    (cytoscape:on-menu-command-select delete-elements-command\n",
    "                                      (lambda (command-instance id)\n",
    "                                        (declare (ignore command-instance id))\n",
    "                                        (delete-elements instance)))\n",
    "    (cytoscape:on-menu-command-select reverse-edge-command\n",
    "                                      (lambda (command-instance id)\n",
    "                                        (declare (ignore command-instance))\n",
    "                                        (reverse-edge instance id)))\n",
    "    (setf (cytoscape:context-menus cyto)\n",
    "          (list (make-instance 'cytoscape:context-menu\n",
    "                               :selector \"core\"\n",
    "                               :commands (list undo-command redo-command delete-elements-command add-node-command))\n",
    "                (make-instance 'cytoscape:context-menu\n",
    "                               :selector \"node\"\n",
    "                               :commands (list undo-command redo-command delete-node-command add-node-command add-edge-command))\n",
    "                (make-instance 'cytoscape:context-menu\n",
    "                               :selector \"edge\"\n",
    "                               :commands (list undo-command redo-command delete-edge-command add-node-command reverse-edge-command))))))\n",
    "\n",
    "(defparameter ce (make-instance 'editor))\n",
    "\n",
    "(cyto ce)"
   ]
  },
  {
   "cell_type": "code",
   "execution_count": null,
   "metadata": {},
   "outputs": [],
   "source": []
  }
 ],
 "metadata": {
  "kernelspec": {
   "display_name": "Common Lisp (clasp)",
   "language": "common-lisp",
   "name": "common-lisp_clasp"
  },
  "language_info": {
   "codemirror_mode": "text/x-common-lisp",
   "file_extension": ".lisp",
   "mimetype": "text/x-common-lisp",
   "name": "common-lisp",
   "pygments_lexer": "common-lisp",
   "version": "cclasp-boehm-0.4.2-2722-gc7cf406d8-cst"
  },
  "widgets": {
   "application/vnd.jupyter.widget-state+json": {
    "state": {
     "12dc4e916ead41a36c5597af9b9b6f47": {
      "model_module": "cytoscape-clj",
      "model_module_version": "^0.2.0",
      "model_name": "ElementModel",
      "state": {
       "_model_module_version": "^0.2.0",
       "_view_module_version": "^0.2.0",
       "data": {
        "id": "25c79af3d0b94be998aeb0fb32da5067"
       },
       "position": {
        "x": 74.96854382156413,
        "y": 74.35121403338366
       }
      }
     },
     "3dfba15447514c3fb1bc33b0feb287d1": {
      "model_module": "cytoscape-clj",
      "model_module_version": "^0.2.0",
      "model_name": "CytoscapeStyleModel",
      "state": {
       "_model_module_version": "^0.2.0"
      }
     },
     "57c273e891814e96fd829de2a2326714": {
      "model_module": "cytoscape-clj",
      "model_module_version": "^0.2.0",
      "model_name": "ElementModel",
      "state": {
       "_model_module_version": "^0.2.0",
       "_view_module_version": "^0.2.0",
       "data": {
        "id": "c9b586dc2cd44cbab675f79b6788c9ea"
       },
       "position": {
        "x": 15,
        "y": 15
       }
      }
     },
     "5c45188d6b2f48e0fcf286fd15c1ec0d": {
      "model_module": "cytoscape-clj",
      "model_module_version": "^0.2.0",
      "model_name": "MenuCommandModel",
      "state": {
       "_model_module_version": "^0.2.0",
       "_view_module_version": "^0.2.0",
       "content": "<span class='fa fa-undo fa-2x'></span>",
       "fill_color": []
      }
     },
     "66f6859c9d1443b8aa6d578a75a6fe10": {
      "model_module": "cytoscape-clj",
      "model_module_version": "^0.2.0",
      "model_name": "ContextMenuModel",
      "state": {
       "_model_module_version": "^0.2.0",
       "_view_module_version": "^0.2.0",
       "commands": [
        "IPY_MODEL_5c45188d6b2f48e0fcf286fd15c1ec0d",
        "IPY_MODEL_6bc1263b9a8e43307bce0deaea7bd799",
        "IPY_MODEL_7b6d442fc394401e45c51f0d5f359b33",
        "IPY_MODEL_6ca843f2c84842cbdd819bdea290d59d",
        "IPY_MODEL_9ec5cfcc2a084c95e5de9c06b9cd0071"
       ]
      }
     },
     "6bc1263b9a8e43307bce0deaea7bd799": {
      "model_module": "cytoscape-clj",
      "model_module_version": "^0.2.0",
      "model_name": "MenuCommandModel",
      "state": {
       "_model_module_version": "^0.2.0",
       "_view_module_version": "^0.2.0",
       "content": "<span class='fa fa-redo fa-2x'></span>",
       "enabled": false,
       "fill_color": []
      }
     },
     "6ca843f2c84842cbdd819bdea290d59d": {
      "model_module": "cytoscape-clj",
      "model_module_version": "^0.2.0",
      "model_name": "MenuCommandModel",
      "state": {
       "_model_module_version": "^0.2.0",
       "_view_module_version": "^0.2.0",
       "content": "<span class='fa fa-plus-circle fa-2x'></span>",
       "fill_color": []
      }
     },
     "76347f122112471f0a9328bf40dac763": {
      "model_module": "cytoscape-clj",
      "model_module_version": "^0.2.0",
      "model_name": "ElementModel",
      "state": {
       "_model_module_version": "^0.2.0",
       "_view_module_version": "^0.2.0",
       "data": {
        "id": "ef6ada9f66734a496035ab3969fbd301"
       },
       "position": {
        "x": 65.39393054657559,
        "y": 146.01915155247772
       }
      }
     },
     "7b6d442fc394401e45c51f0d5f359b33": {
      "model_module": "cytoscape-clj",
      "model_module_version": "^0.2.0",
      "model_name": "MenuCommandModel",
      "state": {
       "_model_module_version": "^0.2.0",
       "_view_module_version": "^0.2.0",
       "content": "<span class='fa fa-trash fa-2x'></span>",
       "fill_color": []
      }
     },
     "7f2273543b104843019164c86e4388ab": {
      "model_module": "cytoscape-clj",
      "model_module_version": "^0.2.0",
      "model_name": "CytoscapeModel",
      "state": {
       "_model_module_version": "^0.2.0",
       "_view_module_version": "^0.2.0",
       "box_selection_enabled": true,
       "context_menus": [
        "IPY_MODEL_e18ee9f0d7794d4fb0b3d358bceb3850",
        "IPY_MODEL_66f6859c9d1443b8aa6d578a75a6fe10",
        "IPY_MODEL_b8a3fecd6dd242555e6e2a8a2149ce14"
       ],
       "desktop_tap_threshold": 4,
       "elements": [
        "IPY_MODEL_57c273e891814e96fd829de2a2326714",
        "IPY_MODEL_12dc4e916ead41a36c5597af9b9b6f47",
        "IPY_MODEL_c62447f79cc549ddb5750234011599e3",
        "IPY_MODEL_bfe2bfaed0bd407a767238a59ed1dce6",
        "IPY_MODEL_9596349db6dc46463738513b5129501b",
        "IPY_MODEL_76347f122112471f0a9328bf40dac763",
        "IPY_MODEL_d72a27c728f74ed634bfb3d8ee76111f"
       ],
       "graph_layouts": [
        "IPY_MODEL_e785b304f7f8493ebac8fdcd910fd03b"
       ],
       "graph_style": "edge { target-arrow-shape: triangle; curve-style: bezier; }",
       "layout": "IPY_MODEL_cbfac8bc415f48449bfe00eaaf6f956e",
       "max_zoom": 9.999999999999999e+49,
       "min_zoom": 1.0000000000000001e-50,
       "pan": {
        "x": 467.9843592389635,
        "y": 32.085644519445
       },
       "style": "IPY_MODEL_3dfba15447514c3fb1bc33b0feb287d1",
       "tooltip_source": "tooltip",
       "zoom": 2.085644519445006
      }
     },
     "9596349db6dc46463738513b5129501b": {
      "model_module": "cytoscape-clj",
      "model_module_version": "^0.2.0",
      "model_name": "ElementModel",
      "state": {
       "_model_module_version": "^0.2.0",
       "_view_module_version": "^0.2.0",
       "data": {
        "id": "19b3ff68528d4702df848dd0cb10975f",
        "source": "68c6bb4f30b5413f36ae0a156af29f0a",
        "target": "25c79af3d0b94be998aeb0fb32da5067"
       },
       "group": "edges"
      }
     },
     "96a75365809042e4407e9793827bd450": {
      "model_module": "cytoscape-clj",
      "model_module_version": "^0.2.0",
      "model_name": "MenuCommandModel",
      "state": {
       "_model_module_version": "^0.2.0",
       "_view_module_version": "^0.2.0",
       "content": "<span class='fa fa-trash fa-2x'></span>",
       "fill_color": []
      }
     },
     "9ec5cfcc2a084c95e5de9c06b9cd0071": {
      "model_module": "cytoscape-clj",
      "model_module_version": "^0.2.0",
      "model_name": "MenuCommandModel",
      "state": {
       "_model_module_version": "^0.2.0",
       "_view_module_version": "^0.2.0",
       "content": "<span class='fa fa-arrow-right fa-2x'></span>",
       "fill_color": []
      }
     },
     "aa10cb2a2ecc440bfd99b80a018b4adf": {
      "model_module": "cytoscape-clj",
      "model_module_version": "^0.2.0",
      "model_name": "MenuCommandModel",
      "state": {
       "_model_module_version": "^0.2.0",
       "_view_module_version": "^0.2.0",
       "content": "<span class='fa fa-trash fa-2x'></span>",
       "enabled": false,
       "fill_color": []
      }
     },
     "ae1c936919e9449c63f66387354b076c": {
      "model_module": "cytoscape-clj",
      "model_module_version": "^0.2.0",
      "model_name": "MenuCommandModel",
      "state": {
       "_model_module_version": "^0.2.0",
       "_view_module_version": "^0.2.0",
       "content": "<span class='fa fa-exchange-alt fa-2x'></span>",
       "fill_color": []
      }
     },
     "b8a3fecd6dd242555e6e2a8a2149ce14": {
      "model_module": "cytoscape-clj",
      "model_module_version": "^0.2.0",
      "model_name": "ContextMenuModel",
      "state": {
       "_model_module_version": "^0.2.0",
       "_view_module_version": "^0.2.0",
       "commands": [
        "IPY_MODEL_5c45188d6b2f48e0fcf286fd15c1ec0d",
        "IPY_MODEL_6bc1263b9a8e43307bce0deaea7bd799",
        "IPY_MODEL_96a75365809042e4407e9793827bd450",
        "IPY_MODEL_6ca843f2c84842cbdd819bdea290d59d",
        "IPY_MODEL_ae1c936919e9449c63f66387354b076c"
       ],
       "selector": "edge"
      }
     },
     "bfe2bfaed0bd407a767238a59ed1dce6": {
      "model_module": "cytoscape-clj",
      "model_module_version": "^0.2.0",
      "model_name": "ElementModel",
      "state": {
       "_model_module_version": "^0.2.0",
       "_view_module_version": "^0.2.0",
       "data": {
        "id": "68c6bb4f30b5413f36ae0a156af29f0a"
       },
       "position": {
        "x": 145.63680958019899,
        "y": 56.92110755522275
       }
      }
     },
     "c62447f79cc549ddb5750234011599e3": {
      "model_module": "cytoscape-clj",
      "model_module_version": "^0.2.0",
      "model_name": "ElementModel",
      "state": {
       "_model_module_version": "^0.2.0",
       "_view_module_version": "^0.2.0",
       "data": {
        "id": "fa15d360a3c542875bec9622890b0aae",
        "source": "c9b586dc2cd44cbab675f79b6788c9ea",
        "target": "25c79af3d0b94be998aeb0fb32da5067"
       },
       "group": "edges"
      }
     },
     "cbfac8bc415f48449bfe00eaaf6f956e": {
      "model_module": "@jupyter-widgets/base",
      "model_module_version": "1.2.0",
      "model_name": "LayoutModel",
      "state": {}
     },
     "d72a27c728f74ed634bfb3d8ee76111f": {
      "model_module": "cytoscape-clj",
      "model_module_version": "^0.2.0",
      "model_name": "ElementModel",
      "state": {
       "_model_module_version": "^0.2.0",
       "_view_module_version": "^0.2.0",
       "data": {
        "id": "88119f6669b2442ef2ed86ff7176858c",
        "source": "ef6ada9f66734a496035ab3969fbd301",
        "target": "25c79af3d0b94be998aeb0fb32da5067"
       },
       "group": "edges"
      }
     },
     "e18ee9f0d7794d4fb0b3d358bceb3850": {
      "model_module": "cytoscape-clj",
      "model_module_version": "^0.2.0",
      "model_name": "ContextMenuModel",
      "state": {
       "_model_module_version": "^0.2.0",
       "_view_module_version": "^0.2.0",
       "commands": [
        "IPY_MODEL_5c45188d6b2f48e0fcf286fd15c1ec0d",
        "IPY_MODEL_6bc1263b9a8e43307bce0deaea7bd799",
        "IPY_MODEL_aa10cb2a2ecc440bfd99b80a018b4adf",
        "IPY_MODEL_6ca843f2c84842cbdd819bdea290d59d"
       ],
       "selector": "core"
      }
     },
     "e785b304f7f8493ebac8fdcd910fd03b": {
      "model_module": "cytoscape-clj",
      "model_module_version": "^0.2.0",
      "model_name": "CoseLayoutModel",
      "state": {
       "_model_module_version": "^0.2.0",
       "_view_module_version": "^0.2.0",
       "animation_duration": 250,
       "refresh": 10
      }
     }
    },
    "version_major": 2,
    "version_minor": 0
   }
  }
 },
 "nbformat": 4,
 "nbformat_minor": 4
}
