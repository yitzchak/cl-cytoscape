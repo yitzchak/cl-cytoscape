{
 "cells": [
  {
   "cell_type": "code",
   "execution_count": 1,
   "metadata": {},
   "outputs": [
    {
     "name": "stdout",
     "output_type": "stream",
     "text": [
      "To load \"cl-cytoscape\":\n",
      "  Load 1 ASDF system:\n",
      "    cl-cytoscape\n"
     ]
    },
    {
     "data": {
      "text/plain": [
       "(:CL-CYTOSCAPE)"
      ]
     },
     "execution_count": 1,
     "metadata": {},
     "output_type": "execute_result"
    },
    {
     "name": "stdout",
     "output_type": "stream",
     "text": [
      "\n",
      "; Loading \"cl-cytoscape\"\n",
      "\n"
     ]
    }
   ],
   "source": [
    "(ql:quickload :cl-cytoscape)"
   ]
  },
  {
   "cell_type": "code",
   "execution_count": 2,
   "metadata": {},
   "outputs": [
    {
     "data": {
      "text/plain": [
       "#<The STANDARD-CLASS COMMON-LISP-USER::EDITOR>"
      ]
     },
     "execution_count": 2,
     "metadata": {},
     "output_type": "execute_result"
    },
    {
     "data": {
      "text/plain": [
       "UPDATE-COMMANDS"
      ]
     },
     "execution_count": 2,
     "metadata": {},
     "output_type": "execute_result"
    },
    {
     "data": {
      "text/plain": [
       "UNDO"
      ]
     },
     "execution_count": 2,
     "metadata": {},
     "output_type": "execute_result"
    },
    {
     "data": {
      "text/plain": [
       "REDO"
      ]
     },
     "execution_count": 2,
     "metadata": {},
     "output_type": "execute_result"
    },
    {
     "data": {
      "text/plain": [
       "ADD-NODE"
      ]
     },
     "execution_count": 2,
     "metadata": {},
     "output_type": "execute_result"
    },
    {
     "data": {
      "text/plain": [
       "ADD-EDGE"
      ]
     },
     "execution_count": 2,
     "metadata": {},
     "output_type": "execute_result"
    },
    {
     "data": {
      "text/plain": [
       "DELETE-NODE"
      ]
     },
     "execution_count": 2,
     "metadata": {},
     "output_type": "execute_result"
    },
    {
     "data": {
      "text/plain": [
       "DELETE-EDGE"
      ]
     },
     "execution_count": 2,
     "metadata": {},
     "output_type": "execute_result"
    },
    {
     "data": {
      "text/plain": [
       "DELETE-ELEMENTS"
      ]
     },
     "execution_count": 2,
     "metadata": {},
     "output_type": "execute_result"
    },
    {
     "data": {
      "text/plain": [
       "REVERSE-EDGE"
      ]
     },
     "execution_count": 2,
     "metadata": {},
     "output_type": "execute_result"
    },
    {
     "data": {
      "text/plain": [
       "#<STANDARD-METHOD INITIALIZE-INSTANCE :AFTER (EDITOR)>"
      ]
     },
     "execution_count": 2,
     "metadata": {},
     "output_type": "execute_result"
    },
    {
     "data": {
      "text/plain": [
       "CE"
      ]
     },
     "execution_count": 2,
     "metadata": {},
     "output_type": "execute_result"
    },
    {
     "data": {
      "application/vnd.jupyter.widget-view+json": {
       "model_id": "fb119a7bf5654e8c4ad3a77b002f7862",
       "version_major": 2,
       "version_minor": 0
      },
      "text/plain": [
       "A Jupyter Widget"
      ]
     },
     "metadata": {},
     "output_type": "display_data"
    }
   ],
   "source": [
    "(defclass editor ()\n",
    "  ((stack\n",
    "     :accessor stack\n",
    "     :initform (make-array 32 :adjustable t :fill-pointer 0))\n",
    "   (stack-index\n",
    "     :accessor stack-index\n",
    "     :initform 0)\n",
    "   (cyto\n",
    "     :accessor cyto\n",
    "     :initform (make-instance 'cytoscape:cytoscape-widget\n",
    "                              :graph-layouts (list (make-instance 'cytoscape:cose-layout))\n",
    "                              :graph-style \"edge { target-arrow-shape: triangle; curve-style: bezier; }\"))\n",
    "   (undo-command\n",
    "     :accessor undo-command\n",
    "     :initform (make-instance 'cytoscape:menu-command\n",
    "                              :content \"<span class='fa fa-undo fa-2x'></span>\"))\n",
    "   (redo-command\n",
    "     :accessor redo-command\n",
    "     :initform (make-instance 'cytoscape:menu-command\n",
    "                              :content \"<span class='fa fa-redo fa-2x'></span>\"))\n",
    "   (add-node-command\n",
    "     :accessor add-node-command\n",
    "     :initform (make-instance 'cytoscape:menu-command\n",
    "                              :content \"<span class='fa fa-plus-circle fa-2x'></span>\"))\n",
    "   (add-edge-command\n",
    "     :accessor add-edge-command\n",
    "     :initform (make-instance 'cytoscape:menu-command\n",
    "                              :content \"<span class='fa fa-arrow-right fa-2x'></span>\"))\n",
    "   (delete-node-command\n",
    "     :accessor delete-node-command\n",
    "     :initform (make-instance 'cytoscape:menu-command\n",
    "                              :content \"<span class='fa fa-trash fa-2x'></span>\"))\n",
    "   (delete-edge-command\n",
    "     :accessor delete-edge-command\n",
    "     :initform (make-instance 'cytoscape:menu-command\n",
    "                              :content \"<span class='fa fa-trash fa-2x'></span>\"))\n",
    "   (delete-elements-command\n",
    "     :accessor delete-elements-command\n",
    "     :initform (make-instance 'cytoscape:menu-command\n",
    "                              :content \"<span class='fa fa-trash fa-2x'></span>\"))\n",
    "   (reverse-edge-command\n",
    "     :accessor reverse-edge-command\n",
    "     :initform (make-instance 'cytoscape:menu-command\n",
    "                              :content \"<span class='fa fa-exchange-alt fa-2x'></span>\"))\n",
    "   (edge-source\n",
    "     :accessor edge-source\n",
    "     :initform nil)))\n",
    "\n",
    "\n",
    "(defun update-commands (instance)\n",
    "  (with-slots (delete-elements-command undo-command redo-command stack-index stack cyto)\n",
    "              instance\n",
    "    (setf (cytoscape:enabled delete-elements-command) (some (lambda (element) \n",
    "                                                              (and (cytoscape:selected element) \n",
    "                                                                   (not (cytoscape:removed element)))) \n",
    "                                                            (cytoscape:elements cyto)))\n",
    "    (setf (cytoscape:enabled undo-command) (< 0 stack-index))\n",
    "    (setf (cytoscape:enabled redo-command) (< stack-index (length stack)))))\n",
    "\n",
    "\n",
    "(defun undo (instance)\n",
    "  (with-slots (stack-index stack cyto)\n",
    "              instance\n",
    "    (when (< 0 stack-index)\n",
    "      (decf stack-index)\n",
    "      (dolist (element (cytoscape:elements cyto))\n",
    "        (let ((pair (assoc (cdr (assoc \"id\" (cytoscape:data element) :test #'string=)) (elt stack stack-index) :test #'string=)))\n",
    "          (when pair\n",
    "            (setf (cytoscape:removed element) (cdr pair)))))\n",
    "      (update-commands instance))))\n",
    "\n",
    "\n",
    "(defun redo (instance)\n",
    "  (with-slots (stack-index stack cyto)\n",
    "              instance\n",
    "    (when (< stack-index (length stack))\n",
    "      (dolist (element (cytoscape:elements cyto))\n",
    "        (let ((pair (assoc (cdr (assoc \"id\" (cytoscape:data element) :test #'string=)) (elt stack stack-index) :test #'string=)))\n",
    "          (when pair\n",
    "            (setf (cytoscape:removed element) (not (cdr pair))))))\n",
    "      (incf stack-index)\n",
    "      (update-commands instance))))\n",
    "\n",
    "\n",
    "(defun add-node (instance)\n",
    "  (with-slots (stack-index stack cyto)\n",
    "              instance\n",
    "    (let* ((new-id (jupyter:make-uuid))\n",
    "           (node (make-instance 'cytoscape:element \n",
    "                                :group \"nodes\" \n",
    "                                :data (list (cons \"id\" new-id)))))\n",
    "      (setf (fill-pointer stack) stack-index)\n",
    "      (vector-push-extend (list (cons new-id t)) stack)\n",
    "      (incf stack-index)\n",
    "      (jupyter-widgets:observe node :selected\n",
    "        (lambda (inst name type old-value new-value source)\n",
    "          (declare (ignore inst name type old-value new-value source))\n",
    "          (update-commands instance)))\n",
    "      (setf (cytoscape:elements cyto)\n",
    "            (append (cytoscape:elements cyto)\n",
    "                    (list node))))\n",
    "    (update-commands instance)))\n",
    "\n",
    "\n",
    "(defun add-edge (instance id)\n",
    "  (with-slots (stack-index stack cyto edge-source)\n",
    "              instance\n",
    "    (if edge-source\n",
    "      (let* ((new-id (jupyter:make-uuid))\n",
    "             (edge (make-instance 'cytoscape:element\n",
    "                                  :group \"edges\" \n",
    "                                  :data (list (cons \"id\" new-id)\n",
    "                                              (cons \"source\" edge-source)\n",
    "                                              (cons \"target\" id)))))\n",
    "        (setf (fill-pointer stack) stack-index)\n",
    "        (vector-push-extend (list (cons new-id t)) stack)\n",
    "        (incf stack-index)\n",
    "        (jupyter-widgets:observe edge :selected\n",
    "           (lambda (inst name type old-value new-value source)\n",
    "            (declare (ignore inst name type old-value new-value source))\n",
    "            (update-commands instance)))\n",
    "        (setf (cytoscape:elements cyto)\n",
    "              (append (cytoscape:elements cyto)\n",
    "                      (list edge)))\n",
    "        (setf edge-source nil)\n",
    "        (update-commands instance))\n",
    "      (setf edge-source id))))\n",
    "\n",
    "\n",
    "(defun delete-node (instance id)\n",
    "  (with-slots (stack-index stack cyto)\n",
    "              instance\n",
    "    (setf (fill-pointer stack) stack-index)\n",
    "    (incf stack-index)\n",
    "    (let (actions)\n",
    "      (dolist (element (cytoscape:elements cyto))\n",
    "        (when (or (equal id (cdr (assoc \"id\" (cytoscape:data element) :test #'string=)))\n",
    "                  (equal id (cdr (assoc \"source\" (cytoscape:data element) :test #'string=)))\n",
    "                  (equal id (cdr (assoc \"target\" (cytoscape:data element) :test #'string=))))\n",
    "          (push (cons (cdr (assoc \"id\" (cytoscape:data element) :test #'string=)) nil) actions)\n",
    "          (setf (cytoscape:removed element) t)))\n",
    "      (vector-push-extend actions stack)\n",
    "      (update-commands instance))))\n",
    "\n",
    "\n",
    "(defun delete-edge (instance id)\n",
    "  (with-slots (stack-index stack cyto)\n",
    "              instance\n",
    "    (setf (fill-pointer stack) stack-index)\n",
    "    (vector-push-extend (list (cons id nil)) stack)\n",
    "    (incf stack-index)\n",
    "    (dolist (element (cytoscape:elements cyto))\n",
    "      (when (equal id (cdr (assoc \"id\" (cytoscape:data element) :test #'string=)))\n",
    "        (setf (cytoscape:removed element) t)))\n",
    "    (update-commands instance)))\n",
    "\n",
    "\n",
    "(defun delete-elements (instance)\n",
    "  (with-slots (stack-index stack cyto)\n",
    "              instance\n",
    "    (setf (fill-pointer stack) stack-index)\n",
    "    (incf stack-index)\n",
    "    (let (actions nodes)\n",
    "      (dolist (element (cytoscape:elements cyto))\n",
    "        (when (cytoscape:selected element)\n",
    "          (push (cons (cdr (assoc \"id\" (cytoscape:data element) :test #'string=)) nil) actions)\n",
    "          (setf (cytoscape:removed element) t)\n",
    "          (when (equal \"nodes\" (cytoscape:group element))\n",
    "            (push (cdr (assoc \"id\" (cytoscape:data element) :test #'string=)) nodes))))\n",
    "      (dolist (element (cytoscape:elements cyto))\n",
    "        (when (or (member (cdr (assoc \"source\" (cytoscape:data element) :test #'string=)) nodes :test #'equal)\n",
    "                  (member (cdr (assoc \"target\" (cytoscape:data element) :test #'string=)) nodes :test #'equal))\n",
    "          (push (cons (cdr (assoc \"id\" (cytoscape:data element) :test #'string=)) nil) actions)\n",
    "          (setf (cytoscape:removed element) t)))\n",
    "      (vector-push-extend actions stack)\n",
    "      (update-commands instance))))\n",
    "\n",
    "\n",
    "(defun reverse-edge (instance id)\n",
    "  (with-slots (stack-index stack cyto)\n",
    "              instance\n",
    "    (let ((new-id (jupyter:make-uuid)))\n",
    "      (setf (fill-pointer stack) stack-index)\n",
    "      (vector-push-extend (list (cons id nil) (cons new-id t)) stack)\n",
    "      (incf stack-index)\n",
    "      (dolist (element (cytoscape:elements cyto))\n",
    "        (when (equal id (cdr (assoc \"id\" (cytoscape:data element) :test #'string=)))\n",
    "          (setf (cytoscape:removed element) nil)\n",
    "          (setf (cytoscape:elements cyto)\n",
    "                (append (cytoscape:elements cyto)\n",
    "                        (list (make-instance 'cytoscape:element :group \"edges\" :data (list (cons \"id\" new-id)\n",
    "                                                                                           (cons \"source\" (cdr (assoc \"target\" (cytoscape:data element) :test #'string=)))\n",
    "                                                                                           (cons \"target\" (cdr (assoc \"source\" (cytoscape:data element) :test #'string=))))))))))\n",
    "      (update-commands instance))))\n",
    "\n",
    "\n",
    "(defmethod initialize-instance :after ((instance editor) &rest initargs &key &allow-other-keys)\n",
    "  (declare (ignore initargs))\n",
    "  (with-slots (undo-command redo-command add-node-command add-edge-command delete-node-command\n",
    "               delete-edge-command delete-elements-command reverse-edge-command cyto)\n",
    "              instance\n",
    "    (cytoscape:on-menu-command-select undo-command\n",
    "                                      (lambda (command-instance id)\n",
    "                                        (declare (ignore command-instance id))\n",
    "                                        (undo instance)))\n",
    "    (cytoscape:on-menu-command-select redo-command\n",
    "                                      (lambda (command-instance id)\n",
    "                                        (declare (ignore command-instance id))\n",
    "                                        (redo instance)))\n",
    "    (cytoscape:on-menu-command-select add-node-command\n",
    "                                      (lambda (command-instance id)\n",
    "                                        (declare (ignore command-instance id))\n",
    "                                        (add-node instance)))\n",
    "    (cytoscape:on-menu-command-select add-edge-command\n",
    "                                      (lambda (command-instance id)\n",
    "                                        (declare (ignore command-instance))\n",
    "                                        (add-edge instance id)))\n",
    "    (cytoscape:on-menu-command-select delete-node-command\n",
    "                                      (lambda (command-instance id)\n",
    "                                        (declare (ignore command-instance))\n",
    "                                        (delete-node instance id)))\n",
    "    (cytoscape:on-menu-command-select delete-edge-command\n",
    "                                      (lambda (command-instance id)\n",
    "                                        (declare (ignore command-instance))\n",
    "                                        (delete-edge instance id)))\n",
    "    (cytoscape:on-menu-command-select delete-elements-command\n",
    "                                      (lambda (command-instance id)\n",
    "                                        (declare (ignore command-instance id))\n",
    "                                        (delete-elements instance)))\n",
    "    (cytoscape:on-menu-command-select reverse-edge-command\n",
    "                                      (lambda (command-instance id)\n",
    "                                        (declare (ignore command-instance))\n",
    "                                        (reverse-edge instance id)))\n",
    "    (setf (cytoscape:context-menus cyto)\n",
    "          (list (make-instance 'cytoscape:context-menu\n",
    "                               :selector \"core\"\n",
    "                               :commands (list undo-command redo-command delete-elements-command add-node-command))\n",
    "                (make-instance 'cytoscape:context-menu\n",
    "                               :selector \"node\"\n",
    "                               :commands (list undo-command redo-command delete-node-command add-node-command add-edge-command))\n",
    "                (make-instance 'cytoscape:context-menu\n",
    "                               :selector \"edge\"\n",
    "                               :commands (list undo-command redo-command delete-edge-command add-node-command reverse-edge-command))))))\n",
    "\n",
    "(defparameter ce (make-instance 'editor))\n",
    "\n",
    "(cyto ce)"
   ]
  },
  {
   "cell_type": "code",
   "execution_count": null,
   "metadata": {},
   "outputs": [],
   "source": []
  }
 ],
 "metadata": {
  "kernelspec": {
   "display_name": "Common Lisp (clasp)",
   "language": "common-lisp",
   "name": "common-lisp_clasp"
  },
  "language_info": {
   "codemirror_mode": "text/x-common-lisp",
   "file_extension": ".lisp",
   "mimetype": "text/x-common-lisp",
   "name": "common-lisp",
   "pygments_lexer": "common-lisp",
   "version": "cclasp-boehm-0.4.2-2722-gc7cf406d8-cst"
  },
  "widgets": {
   "application/vnd.jupyter.widget-state+json": {
    "state": {
     "1a2edd1d067647e3e22cb0613a815433": {
      "model_module": "cl-cytoscape",
      "model_module_version": "^0.1.96",
      "model_name": "ElementModel",
      "state": {
       "_model_module_version": "^0.1.96",
       "_view_module_version": "^0.1.96",
       "data": {
        "id": "4ccdd60e4d9a40fac8716b553212223d"
       },
       "position": {
        "x": 108.61305579959452,
        "y": 48.4835056112276
       }
      }
     },
     "1cb75fd5fac34eff8bcdad448a6769cc": {
      "model_module": "cl-cytoscape",
      "model_module_version": "^0.1.96",
      "model_name": "ElementModel",
      "state": {
       "_model_module_version": "^0.1.96",
       "_view_module_version": "^0.1.96",
       "data": {
        "id": "5250946b6f2f4ac9f67b21594d6bddee",
        "source": "dfe842abe8154246f503be719ee5779a",
        "target": "4ccdd60e4d9a40fac8716b553212223d"
       },
       "group": "edges"
      }
     },
     "27a4c003d9804d81b44c0a7de11e2be9": {
      "model_module": "cl-cytoscape",
      "model_module_version": "^0.1.96",
      "model_name": "ContextMenuModel",
      "state": {
       "_model_module_version": "^0.1.96",
       "_view_module_version": "^0.1.96",
       "commands": [
        "IPY_MODEL_b5eef4d61e8544c0515d55657e332a67",
        "IPY_MODEL_7409b82d760d4f40be6791994463e3ef",
        "IPY_MODEL_d0c74a6d052a49182e984beaa9ee17dc",
        "IPY_MODEL_432fcfba50a94a2c70a1a819b7049f7b"
       ],
       "selector": "core"
      }
     },
     "2b96246919fe4f58ac7984c888eb75c3": {
      "model_module": "cl-cytoscape",
      "model_module_version": "^0.1.96",
      "model_name": "ElementModel",
      "state": {
       "_model_module_version": "^0.1.96",
       "_view_module_version": "^0.1.96",
       "data": {
        "id": "a7f7063057d141457c33809830f2f133",
        "source": "12ec6d178c3e40712a4c108025860111",
        "target": "dfe842abe8154246f503be719ee5779a"
       },
       "group": "edges"
      }
     },
     "3227d2234a6445d1632bfa3b676e312a": {
      "model_module": "@jupyter-widgets/base",
      "model_module_version": "1.2.0",
      "model_name": "LayoutModel",
      "state": {}
     },
     "3c0ee0ce1ebe49f5e877a1b61bbb3c1a": {
      "model_module": "cl-cytoscape",
      "model_module_version": "^0.1.96",
      "model_name": "CoseLayoutModel",
      "state": {
       "_model_module_version": "^0.1.96",
       "_view_module_version": "^0.1.96",
       "animation_duration": 250,
       "refresh": 10
      }
     },
     "432fcfba50a94a2c70a1a819b7049f7b": {
      "model_module": "cl-cytoscape",
      "model_module_version": "^0.1.96",
      "model_name": "MenuCommandModel",
      "state": {
       "_model_module_version": "^0.1.96",
       "_view_module_version": "^0.1.96",
       "content": "<span class='fa fa-plus-circle fa-2x'></span>",
       "fill_color": []
      }
     },
     "52a7b515b3eb49e77f2afeff14b276a9": {
      "model_module": "cl-cytoscape",
      "model_module_version": "^0.1.96",
      "model_name": "ContextMenuModel",
      "state": {
       "_model_module_version": "^0.1.96",
       "_view_module_version": "^0.1.96",
       "commands": [
        "IPY_MODEL_b5eef4d61e8544c0515d55657e332a67",
        "IPY_MODEL_7409b82d760d4f40be6791994463e3ef",
        "IPY_MODEL_55b8c8ea722040770a7abc760ef06728",
        "IPY_MODEL_432fcfba50a94a2c70a1a819b7049f7b",
        "IPY_MODEL_7e1592a0630b430aa79b5e7fbf9a263d"
       ]
      }
     },
     "52de6459899b4cafadf4709854f59d61": {
      "model_module": "cl-cytoscape",
      "model_module_version": "^0.1.96",
      "model_name": "ElementModel",
      "state": {
       "_model_module_version": "^0.1.96",
       "_view_module_version": "^0.1.96",
       "data": {
        "id": "01e4881f9ea743f042ad8166bc9507b9",
        "source": "dfe842abe8154246f503be719ee5779a",
        "target": "e2602f98b26e40c7cefde3cfac4536f8"
       },
       "group": "edges"
      }
     },
     "55b8c8ea722040770a7abc760ef06728": {
      "model_module": "cl-cytoscape",
      "model_module_version": "^0.1.96",
      "model_name": "MenuCommandModel",
      "state": {
       "_model_module_version": "^0.1.96",
       "_view_module_version": "^0.1.96",
       "content": "<span class='fa fa-trash fa-2x'></span>",
       "fill_color": []
      }
     },
     "5a3886e1b9dc43ceebec14474eabb06f": {
      "model_module": "cl-cytoscape",
      "model_module_version": "^0.1.96",
      "model_name": "MenuCommandModel",
      "state": {
       "_model_module_version": "^0.1.96",
       "_view_module_version": "^0.1.96",
       "content": "<span class='fa fa-exchange-alt fa-2x'></span>",
       "fill_color": []
      }
     },
     "7409b82d760d4f40be6791994463e3ef": {
      "model_module": "cl-cytoscape",
      "model_module_version": "^0.1.96",
      "model_name": "MenuCommandModel",
      "state": {
       "_model_module_version": "^0.1.96",
       "_view_module_version": "^0.1.96",
       "content": "<span class='fa fa-redo fa-2x'></span>",
       "enabled": false,
       "fill_color": []
      }
     },
     "7e1592a0630b430aa79b5e7fbf9a263d": {
      "model_module": "cl-cytoscape",
      "model_module_version": "^0.1.96",
      "model_name": "MenuCommandModel",
      "state": {
       "_model_module_version": "^0.1.96",
       "_view_module_version": "^0.1.96",
       "content": "<span class='fa fa-arrow-right fa-2x'></span>",
       "fill_color": []
      }
     },
     "abe8f3f7f27648fd6916d6396b844b8b": {
      "model_module": "cl-cytoscape",
      "model_module_version": "^0.1.96",
      "model_name": "CytoscapeStyleModel",
      "state": {
       "_model_module_version": "^0.1.96"
      }
     },
     "b27cbb27ba3b4d26404f90a95e386ce4": {
      "model_module": "cl-cytoscape",
      "model_module_version": "^0.1.96",
      "model_name": "ElementModel",
      "state": {
       "_model_module_version": "^0.1.96",
       "_view_module_version": "^0.1.96",
       "data": {
        "id": "dfe842abe8154246f503be719ee5779a"
       },
       "position": {
        "x": 42.969357521202085,
        "y": 86.42122719216093
       }
      }
     },
     "b5eef4d61e8544c0515d55657e332a67": {
      "model_module": "cl-cytoscape",
      "model_module_version": "^0.1.96",
      "model_name": "MenuCommandModel",
      "state": {
       "_model_module_version": "^0.1.96",
       "_view_module_version": "^0.1.96",
       "content": "<span class='fa fa-undo fa-2x'></span>",
       "fill_color": []
      }
     },
     "c78aaaa7d15346970dc7b6784d70f3e3": {
      "model_module": "cl-cytoscape",
      "model_module_version": "^0.1.96",
      "model_name": "ElementModel",
      "state": {
       "_model_module_version": "^0.1.96",
       "_view_module_version": "^0.1.96",
       "data": {
        "id": "3e5edae52b754f7e19f4ea299ead53de",
        "source": "4ccdd60e4d9a40fac8716b553212223d",
        "target": "12ec6d178c3e40712a4c108025860111"
       },
       "group": "edges"
      }
     },
     "d0c74a6d052a49182e984beaa9ee17dc": {
      "model_module": "cl-cytoscape",
      "model_module_version": "^0.1.96",
      "model_name": "MenuCommandModel",
      "state": {
       "_model_module_version": "^0.1.96",
       "_view_module_version": "^0.1.96",
       "content": "<span class='fa fa-trash fa-2x'></span>",
       "enabled": false,
       "fill_color": []
      }
     },
     "dc0450423c6548703c498418d16d57b6": {
      "model_module": "cl-cytoscape",
      "model_module_version": "^0.1.96",
      "model_name": "ElementModel",
      "state": {
       "_model_module_version": "^0.1.96",
       "_view_module_version": "^0.1.96",
       "data": {
        "id": "12ec6d178c3e40712a4c108025860111"
       },
       "position": {
        "x": 42.35415672160656,
        "y": 15
       }
      }
     },
     "e60841b805624557deed4bc85474002f": {
      "model_module": "cl-cytoscape",
      "model_module_version": "^0.1.96",
      "model_name": "MenuCommandModel",
      "state": {
       "_model_module_version": "^0.1.96",
       "_view_module_version": "^0.1.96",
       "content": "<span class='fa fa-trash fa-2x'></span>",
       "fill_color": []
      }
     },
     "f2e58a0585b9425cd1cc95d6876cfe6c": {
      "model_module": "cl-cytoscape",
      "model_module_version": "^0.1.96",
      "model_name": "ContextMenuModel",
      "state": {
       "_model_module_version": "^0.1.96",
       "_view_module_version": "^0.1.96",
       "commands": [
        "IPY_MODEL_b5eef4d61e8544c0515d55657e332a67",
        "IPY_MODEL_7409b82d760d4f40be6791994463e3ef",
        "IPY_MODEL_e60841b805624557deed4bc85474002f",
        "IPY_MODEL_432fcfba50a94a2c70a1a819b7049f7b",
        "IPY_MODEL_5a3886e1b9dc43ceebec14474eabb06f"
       ],
       "selector": "edge"
      }
     },
     "fb119a7bf5654e8c4ad3a77b002f7862": {
      "model_module": "cl-cytoscape",
      "model_module_version": "^0.1.96",
      "model_name": "CytoscapeModel",
      "state": {
       "_model_module_version": "^0.1.96",
       "_view_module_version": "^0.1.96",
       "box_selection_enabled": true,
       "context_menus": [
        "IPY_MODEL_27a4c003d9804d81b44c0a7de11e2be9",
        "IPY_MODEL_52a7b515b3eb49e77f2afeff14b276a9",
        "IPY_MODEL_f2e58a0585b9425cd1cc95d6876cfe6c"
       ],
       "desktop_tap_threshold": 4,
       "elements": [
        "IPY_MODEL_b27cbb27ba3b4d26404f90a95e386ce4",
        "IPY_MODEL_fd8b94dc77d54ad31fcb3b599ee7648e",
        "IPY_MODEL_52de6459899b4cafadf4709854f59d61",
        "IPY_MODEL_dc0450423c6548703c498418d16d57b6",
        "IPY_MODEL_2b96246919fe4f58ac7984c888eb75c3",
        "IPY_MODEL_1a2edd1d067647e3e22cb0613a815433",
        "IPY_MODEL_c78aaaa7d15346970dc7b6784d70f3e3",
        "IPY_MODEL_1cb75fd5fac34eff8bcdad448a6769cc"
       ],
       "graph_layouts": [
        "IPY_MODEL_3c0ee0ce1ebe49f5e877a1b61bbb3c1a"
       ],
       "graph_style": "edge { target-arrow-shape: triangle; curve-style: bezier; }",
       "layout": "IPY_MODEL_3227d2234a6445d1632bfa3b676e312a",
       "max_zoom": 9.999999999999999e+49,
       "min_zoom": 1.0000000000000001e-50,
       "pan": {
        "x": 513.4547488263182,
        "y": 31.97463367253934
       },
       "style": "IPY_MODEL_abe8f3f7f27648fd6916d6396b844b8b",
       "tooltip_source": "tooltip",
       "zoom": 1.9746336725393396
      }
     },
     "fd8b94dc77d54ad31fcb3b599ee7648e": {
      "model_module": "cl-cytoscape",
      "model_module_version": "^0.1.96",
      "model_name": "ElementModel",
      "state": {
       "_model_module_version": "^0.1.96",
       "_view_module_version": "^0.1.96",
       "data": {
        "id": "e2602f98b26e40c7cefde3cfac4536f8"
       },
       "position": {
        "x": 15,
        "y": 155.18383578092576
       }
      }
     }
    },
    "version_major": 2,
    "version_minor": 0
   }
  }
 },
 "nbformat": 4,
 "nbformat_minor": 4
}
