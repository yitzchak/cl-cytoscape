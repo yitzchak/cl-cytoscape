{
 "cells": [
  {
   "cell_type": "code",
   "execution_count": 1,
   "metadata": {},
   "outputs": [
    {
     "name": "stdout",
     "output_type": "stream",
     "text": [
      "To load \"cl-cytoscape\":\n",
      "  Load 1 ASDF system:\n",
      "    cl-cytoscape\n"
     ]
    },
    {
     "data": {
      "text/plain": [
       "(:CL-CYTOSCAPE)"
      ]
     },
     "execution_count": 1,
     "metadata": {},
     "output_type": "execute_result"
    },
    {
     "name": "stdout",
     "output_type": "stream",
     "text": [
      "\n",
      "; Loading \"cl-cytoscape\"\n",
      "\n"
     ]
    }
   ],
   "source": [
    "(ql:quickload :cl-cytoscape)"
   ]
  },
  {
   "cell_type": "code",
   "execution_count": 2,
   "metadata": {},
   "outputs": [
    {
     "data": {
      "text/plain": [
       "#<The STANDARD-CLASS COMMON-LISP-USER::EDITOR>"
      ]
     },
     "execution_count": 2,
     "metadata": {},
     "output_type": "execute_result"
    },
    {
     "data": {
      "text/plain": [
       "UPDATE-COMMANDS"
      ]
     },
     "execution_count": 2,
     "metadata": {},
     "output_type": "execute_result"
    },
    {
     "data": {
      "text/plain": [
       "UNDO"
      ]
     },
     "execution_count": 2,
     "metadata": {},
     "output_type": "execute_result"
    },
    {
     "data": {
      "text/plain": [
       "REDO"
      ]
     },
     "execution_count": 2,
     "metadata": {},
     "output_type": "execute_result"
    },
    {
     "data": {
      "text/plain": [
       "ADD-NODE"
      ]
     },
     "execution_count": 2,
     "metadata": {},
     "output_type": "execute_result"
    },
    {
     "data": {
      "text/plain": [
       "ADD-EDGE"
      ]
     },
     "execution_count": 2,
     "metadata": {},
     "output_type": "execute_result"
    },
    {
     "data": {
      "text/plain": [
       "DELETE-NODE"
      ]
     },
     "execution_count": 2,
     "metadata": {},
     "output_type": "execute_result"
    },
    {
     "data": {
      "text/plain": [
       "DELETE-EDGE"
      ]
     },
     "execution_count": 2,
     "metadata": {},
     "output_type": "execute_result"
    },
    {
     "data": {
      "text/plain": [
       "DELETE-ELEMENTS"
      ]
     },
     "execution_count": 2,
     "metadata": {},
     "output_type": "execute_result"
    },
    {
     "data": {
      "text/plain": [
       "REVERSE-EDGE"
      ]
     },
     "execution_count": 2,
     "metadata": {},
     "output_type": "execute_result"
    },
    {
     "data": {
      "text/plain": [
       "#<STANDARD-METHOD INITIALIZE-INSTANCE :AFTER (EDITOR)>"
      ]
     },
     "execution_count": 2,
     "metadata": {},
     "output_type": "execute_result"
    },
    {
     "data": {
      "text/plain": [
       "CE"
      ]
     },
     "execution_count": 2,
     "metadata": {},
     "output_type": "execute_result"
    },
    {
     "data": {
      "application/vnd.jupyter.widget-view+json": {
       "model_id": "1015b1dac9a74be85758a6af735aca80",
       "version_major": 2,
       "version_minor": 0
      },
      "text/plain": [
       "A Jupyter Widget"
      ]
     },
     "metadata": {},
     "output_type": "display_data"
    }
   ],
   "source": [
    "(defclass editor ()\n",
    "  ((stack\n",
    "     :accessor stack\n",
    "     :initform (make-array 32 :adjustable t :fill-pointer 0))\n",
    "   (stack-index\n",
    "     :accessor stack-index\n",
    "     :initform 0)\n",
    "   (cyto\n",
    "     :accessor cyto\n",
    "     :initform (make-instance 'cytoscape:cytoscape-widget\n",
    "                              :graph-style \"edge { target-arrow-shape: triangle; curve-style: bezier; }\"))\n",
    "   (undo-command\n",
    "     :accessor undo-command\n",
    "     :initform (make-instance 'cytoscape:menu-command\n",
    "                              :content \"<span class='fa fa-undo fa-2x'></span>\"))\n",
    "   (redo-command\n",
    "     :accessor redo-command\n",
    "     :initform (make-instance 'cytoscape:menu-command\n",
    "                              :content \"<span class='fa fa-redo fa-2x'></span>\"))\n",
    "   (add-node-command\n",
    "     :accessor add-node-command\n",
    "     :initform (make-instance 'cytoscape:menu-command\n",
    "                              :content \"<span class='fa fa-plus-circle fa-2x'></span>\"))\n",
    "   (add-edge-command\n",
    "     :accessor add-edge-command\n",
    "     :initform (make-instance 'cytoscape:menu-command\n",
    "                              :content \"<span class='fa fa-arrow-right fa-2x'></span>\"))\n",
    "   (delete-node-command\n",
    "     :accessor delete-node-command\n",
    "     :initform (make-instance 'cytoscape:menu-command\n",
    "                              :content \"<span class='fa fa-trash fa-2x'></span>\"))\n",
    "   (delete-edge-command\n",
    "     :accessor delete-edge-command\n",
    "     :initform (make-instance 'cytoscape:menu-command\n",
    "                              :content \"<span class='fa fa-trash fa-2x'></span>\"))\n",
    "   (delete-elements-command\n",
    "     :accessor delete-elements-command\n",
    "     :initform (make-instance 'cytoscape:menu-command\n",
    "                              :content \"<span class='fa fa-trash fa-2x'></span>\"))\n",
    "   (reverse-edge-command\n",
    "     :accessor reverse-edge-command\n",
    "     :initform (make-instance 'cytoscape:menu-command\n",
    "                              :content \"<span class='fa fa-exchange-alt fa-2x'></span>\"))\n",
    "   (edge-source\n",
    "     :accessor edge-source\n",
    "     :initform nil)))\n",
    "\n",
    "\n",
    "(defun update-commands (instance)\n",
    "  (with-slots (delete-elements-command undo-command redo-command stack-index stack cyto)\n",
    "              instance\n",
    "    (setf (cytoscape:enabled delete-elements-command) (some (lambda (element) \n",
    "                                                              (and (cytoscape:selected element) \n",
    "                                                                   (not (cytoscape:removed element)))) \n",
    "                                                            (cytoscape:elements cyto)))\n",
    "    (setf (cytoscape:enabled undo-command) (< 0 stack-index))\n",
    "    (setf (cytoscape:enabled redo-command) (< stack-index (length stack)))))\n",
    "\n",
    "\n",
    "(defun undo (instance)\n",
    "  (with-slots (stack-index stack cyto)\n",
    "              instance\n",
    "    (when (< 0 stack-index)\n",
    "      (decf stack-index)\n",
    "      (dolist (element (cytoscape:elements cyto))\n",
    "        (let ((pair (assoc (cdr (assoc \"id\" (cytoscape:data element) :test #'string=)) (elt stack stack-index) :test #'string=)))\n",
    "          (when pair\n",
    "            (setf (cytoscape:removed element) (cdr pair)))))\n",
    "      (update-commands instance))))\n",
    "\n",
    "\n",
    "(defun redo (instance)\n",
    "  (with-slots (stack-index stack cyto)\n",
    "              instance\n",
    "    (when (< stack-index (length stack))\n",
    "      (dolist (element (cytoscape:elements cyto))\n",
    "        (let ((pair (assoc (cdr (assoc \"id\" (cytoscape:data element) :test #'string=)) (elt stack stack-index) :test #'string=)))\n",
    "          (when pair\n",
    "            (setf (cytoscape:removed element) (not (cdr pair))))))\n",
    "      (incf stack-index)\n",
    "      (update-commands instance))))\n",
    "\n",
    "\n",
    "(defun add-node (instance)\n",
    "  (with-slots (stack-index stack cyto)\n",
    "              instance\n",
    "    (let* ((new-id (jupyter:make-uuid))\n",
    "           (node (make-instance 'cytoscape:element \n",
    "                                :group \"nodes\" \n",
    "                                :data (list (cons \"id\" new-id)))))\n",
    "      (setf (fill-pointer stack) stack-index)\n",
    "      (vector-push-extend (list (cons new-id t)) stack)\n",
    "      (incf stack-index)\n",
    "      (jupyter-widgets:observe node :selected\n",
    "        (lambda (inst name type old-value new-value source)\n",
    "          (declare (ignore inst name type old-value new-value source))\n",
    "          (update-commands instance)))\n",
    "      (setf (cytoscape:elements cyto)\n",
    "            (append (cytoscape:elements cyto)\n",
    "                    (list node))))\n",
    "    (update-commands instance)))\n",
    "\n",
    "\n",
    "(defun add-edge (instance id)\n",
    "  (with-slots (stack-index stack cyto edge-source)\n",
    "              instance\n",
    "    (if edge-source\n",
    "      (let* ((new-id (jupyter:make-uuid))\n",
    "             (edge (make-instance 'cytoscape:element\n",
    "                                  :group \"edges\" \n",
    "                                  :data (list (cons \"id\" new-id)\n",
    "                                              (cons \"source\" edge-source)\n",
    "                                              (cons \"target\" id)))))\n",
    "        (setf (fill-pointer stack) stack-index)\n",
    "        (vector-push-extend (list (cons new-id t)) stack)\n",
    "        (incf stack-index)\n",
    "        (jupyter-widgets:observe edge :selected\n",
    "           (lambda (inst name type old-value new-value source)\n",
    "            (declare (ignore inst name type old-value new-value source))\n",
    "            (update-commands instance)))\n",
    "        (setf (cytoscape:elements cyto)\n",
    "              (append (cytoscape:elements cyto)\n",
    "                      (list edge)))\n",
    "        (setf edge-source nil)\n",
    "        (update-commands instance))\n",
    "      (setf edge-source id))))\n",
    "\n",
    "\n",
    "(defun delete-node (instance id)\n",
    "  (with-slots (stack-index stack cyto)\n",
    "              instance\n",
    "    (setf (fill-pointer stack) stack-index)\n",
    "    (incf stack-index)\n",
    "    (let (actions)\n",
    "      (dolist (element (cytoscape:elements cyto))\n",
    "        (when (or (equal id (cdr (assoc \"id\" (cytoscape:data element) :test #'string=)))\n",
    "                  (equal id (cdr (assoc \"source\" (cytoscape:data element) :test #'string=)))\n",
    "                  (equal id (cdr (assoc \"target\" (cytoscape:data element) :test #'string=))))\n",
    "          (push (cons (cdr (assoc \"id\" (cytoscape:data element) :test #'string=)) nil) actions)\n",
    "          (setf (cytoscape:removed element) t)))\n",
    "      (vector-push-extend actions stack)\n",
    "      (update-commands instance))))\n",
    "\n",
    "\n",
    "(defun delete-edge (instance id)\n",
    "  (with-slots (stack-index stack cyto)\n",
    "              instance\n",
    "    (setf (fill-pointer stack) stack-index)\n",
    "    (vector-push-extend (list (cons id nil)) stack)\n",
    "    (incf stack-index)\n",
    "    (dolist (element (cytoscape:elements cyto))\n",
    "      (when (equal id (cdr (assoc \"id\" (cytoscape:data element) :test #'string=)))\n",
    "        (setf (cytoscape:removed element) t)))\n",
    "    (update-commands instance)))\n",
    "\n",
    "\n",
    "(defun delete-elements (instance)\n",
    "  (with-slots (stack-index stack cyto)\n",
    "              instance\n",
    "    (setf (fill-pointer stack) stack-index)\n",
    "    (incf stack-index)\n",
    "    (let (actions nodes)\n",
    "      (dolist (element (cytoscape:elements cyto))\n",
    "        (when (cytoscape:selected element)\n",
    "          (push (cons (cdr (assoc \"id\" (cytoscape:data element) :test #'string=)) nil) actions)\n",
    "          (setf (cytoscape:removed element) t)\n",
    "          (when (equal \"nodes\" (cytoscape:group element))\n",
    "            (push (cdr (assoc \"id\" (cytoscape:data element) :test #'string=)) nodes))))\n",
    "      (dolist (element (cytoscape:elements cyto))\n",
    "        (when (or (member (cdr (assoc \"source\" (cytoscape:data element) :test #'string=)) nodes :test #'equal)\n",
    "                  (member (cdr (assoc \"target\" (cytoscape:data element) :test #'string=)) nodes :test #'equal))\n",
    "          (push (cons (cdr (assoc \"id\" (cytoscape:data element) :test #'string=)) nil) actions)\n",
    "          (setf (cytoscape:removed element) t)))\n",
    "      (vector-push-extend actions stack)\n",
    "      (update-commands instance))))\n",
    "\n",
    "\n",
    "(defun reverse-edge (instance id)\n",
    "  (with-slots (stack-index stack cyto)\n",
    "              instance\n",
    "    (let ((new-id (jupyter:make-uuid)))\n",
    "      (setf (fill-pointer stack) stack-index)\n",
    "      (vector-push-extend (list (cons id nil) (cons new-id t)) stack)\n",
    "      (incf stack-index)\n",
    "      (dolist (element (cytoscape:elements cyto))\n",
    "        (when (equal id (cdr (assoc \"id\" (cytoscape:data element) :test #'string=)))\n",
    "          (setf (cytoscape:removed element) nil)\n",
    "          (setf (cytoscape:elements cyto)\n",
    "                (append (cytoscape:elements cyto)\n",
    "                        (list (make-instance 'cytoscape:element :group \"edges\" :data (list (cons \"id\" new-id)\n",
    "                                                                                           (cons \"source\" (cdr (assoc \"target\" (cytoscape:data element) :test #'string=)))\n",
    "                                                                                           (cons \"target\" (cdr (assoc \"source\" (cytoscape:data element) :test #'string=))))))))))\n",
    "      (update-commands instance))))\n",
    "\n",
    "\n",
    "(defmethod initialize-instance :after ((instance editor) &rest initargs &key &allow-other-keys)\n",
    "  (declare (ignore initargs))\n",
    "  (with-slots (undo-command redo-command add-node-command add-edge-command delete-node-command\n",
    "               delete-edge-command delete-elements-command reverse-edge-command cyto)\n",
    "              instance\n",
    "    (cytoscape:on-menu-command-select undo-command\n",
    "                                      (lambda (command-instance id)\n",
    "                                        (declare (ignore command-instance id))\n",
    "                                        (undo instance)))\n",
    "    (cytoscape:on-menu-command-select redo-command\n",
    "                                      (lambda (command-instance id)\n",
    "                                        (declare (ignore command-instance id))\n",
    "                                        (redo instance)))\n",
    "    (cytoscape:on-menu-command-select add-node-command\n",
    "                                      (lambda (command-instance id)\n",
    "                                        (declare (ignore command-instance id))\n",
    "                                        (add-node instance)))\n",
    "    (cytoscape:on-menu-command-select add-edge-command\n",
    "                                      (lambda (command-instance id)\n",
    "                                        (declare (ignore command-instance))\n",
    "                                        (add-edge instance id)))\n",
    "    (cytoscape:on-menu-command-select delete-node-command\n",
    "                                      (lambda (command-instance id)\n",
    "                                        (declare (ignore command-instance))\n",
    "                                        (delete-node instance id)))\n",
    "    (cytoscape:on-menu-command-select delete-edge-command\n",
    "                                      (lambda (command-instance id)\n",
    "                                        (declare (ignore command-instance))\n",
    "                                        (delete-edge instance id)))\n",
    "    (cytoscape:on-menu-command-select delete-elements-command\n",
    "                                      (lambda (command-instance id)\n",
    "                                        (declare (ignore command-instance id))\n",
    "                                        (delete-elements instance)))\n",
    "    (cytoscape:on-menu-command-select reverse-edge-command\n",
    "                                      (lambda (command-instance id)\n",
    "                                        (declare (ignore command-instance))\n",
    "                                        (reverse-edge instance id)))\n",
    "    (setf (cytoscape:context-menus cyto)\n",
    "          (list (make-instance 'cytoscape:context-menu\n",
    "                               :selector \"core\"\n",
    "                               :commands (list undo-command redo-command delete-elements-command add-node-command))\n",
    "                (make-instance 'cytoscape:context-menu\n",
    "                               :selector \"node\"\n",
    "                               :commands (list undo-command redo-command delete-node-command add-node-command add-edge-command))\n",
    "                (make-instance 'cytoscape:context-menu\n",
    "                               :selector \"edge\"\n",
    "                               :commands (list undo-command redo-command delete-edge-command add-node-command reverse-edge-command))))))\n",
    "\n",
    "(defparameter ce (make-instance 'editor))\n",
    "\n",
    "(cyto ce)"
   ]
  },
  {
   "cell_type": "code",
   "execution_count": null,
   "metadata": {},
   "outputs": [],
   "source": []
  }
 ],
 "metadata": {
  "kernelspec": {
   "display_name": "Common Lisp (clasp)",
   "language": "common-lisp",
   "name": "common-lisp_clasp"
  },
  "language_info": {
   "codemirror_mode": "text/x-common-lisp",
   "file_extension": ".lisp",
   "mimetype": "text/x-common-lisp",
   "name": "common-lisp",
   "pygments_lexer": "common-lisp",
   "version": "cclasp-boehm-0.4.2-2694-g6630803ac-cst"
  }
 },
 "nbformat": 4,
 "nbformat_minor": 4
}
