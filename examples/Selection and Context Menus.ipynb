{
 "cells": [
  {
   "cell_type": "code",
   "execution_count": 1,
   "metadata": {},
   "outputs": [
    {
     "name": "stdout",
     "output_type": "stream",
     "text": [
      "To load \"cl-cytoscape\":\n",
      "  Load 1 ASDF system:\n",
      "    cl-cytoscape\n"
     ]
    },
    {
     "data": {
      "text/plain": [
       "(:CL-CYTOSCAPE)"
      ]
     },
     "execution_count": 1,
     "metadata": {},
     "output_type": "execute_result"
    },
    {
     "name": "stdout",
     "output_type": "stream",
     "text": [
      "\n",
      "; Loading \"cl-cytoscape\"\n",
      "\n"
     ]
    }
   ],
   "source": [
    "(ql:quickload :cl-cytoscape)"
   ]
  },
  {
   "cell_type": "code",
   "execution_count": 2,
   "metadata": {},
   "outputs": [
    {
     "data": {
      "text/plain": [
       "O"
      ]
     },
     "execution_count": 2,
     "metadata": {},
     "output_type": "execute_result"
    },
    {
     "data": {
      "text/plain": [
       "ON-SELECTION"
      ]
     },
     "execution_count": 2,
     "metadata": {},
     "output_type": "execute_result"
    },
    {
     "data": {
      "text/plain": [
       "C"
      ]
     },
     "execution_count": 2,
     "metadata": {},
     "output_type": "execute_result"
    },
    {
     "data": {
      "text/plain": [
       "NIL"
      ]
     },
     "execution_count": 2,
     "metadata": {},
     "output_type": "execute_result"
    },
    {
     "data": {
      "application/vnd.jupyter.widget-view+json": {
       "model_id": "c28ce3a0f6134d693d689176a23b13cb",
       "version_major": 2,
       "version_minor": 0
      },
      "text/plain": [
       "A Jupyter Widget"
      ]
     },
     "metadata": {},
     "output_type": "display_data"
    },
    {
     "data": {
      "application/vnd.jupyter.widget-view+json": {
       "model_id": "542881cf8fac4cceb9723bd7dc2f9812",
       "version_major": 2,
       "version_minor": 0
      },
      "text/plain": [
       "A Jupyter Widget"
      ]
     },
     "metadata": {},
     "output_type": "display_data"
    }
   ],
   "source": [
    "(defparameter o (make-instance 'jupyter-widgets:text-area :rows 16))\n",
    "\n",
    "(defun on-selection (instance name type old-value new-value source)\n",
    "    (setf (jupyter-widgets:widget-value o)\n",
    "        (format nil \n",
    "                \"~A~&~:[Edge~;Node~] ~A ~:[deselected~;selected~].\" \n",
    "                (jupyter-widgets:widget-value o)\n",
    "                (string= \"nodes\" (cytoscape:group instance))\n",
    "                (cdr (assoc \"id\" (cytoscape:data instance) :test #'string=))\n",
    "                new-value)))\n",
    "\n",
    "(defparameter c (make-instance 'cytoscape:cytoscape-widget :graph-layouts (list (make-instance 'cytoscape:cola-layout))\n",
    "                               :elements (list (make-instance 'cytoscape:element :group \"nodes\" :data '((\"id\" . \"a\")))                                         \n",
    "                                               (make-instance 'cytoscape:element :group \"nodes\" :data '((\"id\" . \"b\")))                                         \n",
    "                                               (make-instance 'cytoscape:element :group \"edges\" :data '((\"id\" . \"ab\") (\"source\" . \"a\") (\"target\" . \"b\"))))\n",
    "                               :context-menus (list (make-instance 'cytoscape:context-menu \n",
    "                                                                   :commands (list (make-instance 'cytoscape:menu-command :content \"fu\" :on-select (list (lambda (instance id) (setf (jupyter-widgets:widget-value o) (format nil \"~A~&fu on ~A\" (jupyter-widgets:widget-value o) id)))))\n",
    "                                                                                   (make-instance 'cytoscape:menu-command :content \"bar\" :on-select (list (lambda (instance id) (setf (jupyter-widgets:widget-value o) (format nil \"~A~&bar on ~A\" (jupyter-widgets:widget-value o) id)))))\n",
    "                                                                                   (make-instance 'cytoscape:menu-command :content \"<span class='fa fa-star fa-2x'></span>\" :on-select (list (lambda (instance id) (setf (jupyter-widgets:widget-value o) (format nil \"~A~&star on ~A\" (jupyter-widgets:widget-value o) id)))))))\n",
    "                                                    (make-instance 'cytoscape:context-menu \n",
    "                                                                   :selector \"edge\"\n",
    "                                                                   :commands (list (make-instance 'cytoscape:menu-command :content \"quux\" :on-select (list (lambda (instance id) (setf (jupyter-widgets:widget-value o) (format nil \"~A~&quux on ~A\" (jupyter-widgets:widget-value o) id)))))\n",
    "                                                                                   (make-instance 'cytoscape:menu-command :content \"<span class='fa fa-flash fa-2x'></span>\" :on-select (list (lambda (instance id) (setf (jupyter-widgets:widget-value o) (format nil \"~A~&flash on ~A\" (jupyter-widgets:widget-value o) id))))))))))\n",
    "\n",
    "(dolist (instance (cytoscape:elements c))\n",
    "    (jupyter-widgets:observe instance :selected #'on-selection))\n",
    "\n",
    "c\n",
    "o"
   ]
  },
  {
   "cell_type": "code",
   "execution_count": null,
   "metadata": {},
   "outputs": [],
   "source": []
  }
 ],
 "metadata": {
  "kernelspec": {
   "display_name": "Common Lisp (clasp)",
   "language": "common-lisp",
   "name": "common-lisp_clasp"
  },
  "language_info": {
   "codemirror_mode": "text/x-common-lisp",
   "file_extension": ".lisp",
   "mimetype": "text/x-common-lisp",
   "name": "common-lisp",
   "pygments_lexer": "common-lisp",
   "version": "cclasp-boehm-0.4.2-2722-gc7cf406d8-cst"
  },
  "widgets": {
   "application/vnd.jupyter.widget-state+json": {
    "state": {
     "07d9ad3c68df464583cea0906ff5ef09": {
      "model_module": "cl-cytoscape",
      "model_module_version": "^0.1.96",
      "model_name": "CytoscapeStyleModel",
      "state": {
       "_model_module_version": "^0.1.96"
      }
     },
     "0f3880cdb0e54af12eff4f4253a69cb0": {
      "model_module": "cl-cytoscape",
      "model_module_version": "^0.1.96",
      "model_name": "ColaLayoutModel",
      "state": {
       "_model_module_version": "^0.1.96",
       "_view_module_version": "^0.1.96"
      }
     },
     "12f91ac409fb4b4bc0d74cfcf0c61a4b": {
      "model_module": "cl-cytoscape",
      "model_module_version": "^0.1.96",
      "model_name": "ContextMenuModel",
      "state": {
       "_model_module_version": "^0.1.96",
       "_view_module_version": "^0.1.96",
       "commands": [
        "IPY_MODEL_c8644dc2acbc44f9e1bab8688b966a94",
        "IPY_MODEL_c20fde8da00e4d4860ebd02af30e0e69"
       ],
       "selector": "edge"
      }
     },
     "285a287e6d6c43944e84ff1ee4619d84": {
      "model_module": "cl-cytoscape",
      "model_module_version": "^0.1.96",
      "model_name": "ContextMenuModel",
      "state": {
       "_model_module_version": "^0.1.96",
       "_view_module_version": "^0.1.96",
       "commands": [
        "IPY_MODEL_f0c438f4112849ba87a6eeadf7872919",
        "IPY_MODEL_de1151e3124c49a7dbde58b0507c9d3f",
        "IPY_MODEL_32301ae712b24f2eec25b0139cc06ca8"
       ]
      }
     },
     "32301ae712b24f2eec25b0139cc06ca8": {
      "model_module": "cl-cytoscape",
      "model_module_version": "^0.1.96",
      "model_name": "MenuCommandModel",
      "state": {
       "_model_module_version": "^0.1.96",
       "_view_module_version": "^0.1.96",
       "content": "<span class='fa fa-star fa-2x'></span>",
       "fill_color": []
      }
     },
     "374b4bfa4908444faf335f5eebe59574": {
      "model_module": "@jupyter-widgets/base",
      "model_module_version": "1.2.0",
      "model_name": "LayoutModel",
      "state": {}
     },
     "542881cf8fac4cceb9723bd7dc2f9812": {
      "model_module": "@jupyter-widgets/controls",
      "model_module_version": "1.5.0",
      "model_name": "TextareaModel",
      "state": {
       "layout": "IPY_MODEL_c7db8df5fc04434df3e1277a59ee73e0",
       "rows": 16,
       "style": "IPY_MODEL_b23f7202617e4878fa0effe76895bc66"
      }
     },
     "81862e6842db44bd547b49ac4ddbcacf": {
      "model_module": "cl-cytoscape",
      "model_module_version": "^0.1.96",
      "model_name": "ElementModel",
      "state": {
       "_model_module_version": "^0.1.96",
       "_view_module_version": "^0.1.96",
       "data": {
        "id": "ab",
        "source": "a",
        "target": "b"
       },
       "group": "edges"
      }
     },
     "825af98644354d527787321ca8e8a8cc": {
      "model_module": "cl-cytoscape",
      "model_module_version": "^0.1.96",
      "model_name": "ElementModel",
      "state": {
       "_model_module_version": "^0.1.96",
       "_view_module_version": "^0.1.96",
       "data": {
        "id": "a"
       },
       "position": {
        "x": 660.5000005,
        "y": 199.93115025194754
       }
      }
     },
     "a618b67b3dcf463d1c5cc9d49c45a4e0": {
      "model_module": "cl-cytoscape",
      "model_module_version": "^0.1.96",
      "model_name": "ElementModel",
      "state": {
       "_model_module_version": "^0.1.96",
       "_view_module_version": "^0.1.96",
       "data": {
        "id": "b"
       },
       "position": {
        "x": 610.4999995,
        "y": 200.06884974805246
       }
      }
     },
     "b23f7202617e4878fa0effe76895bc66": {
      "model_module": "@jupyter-widgets/controls",
      "model_module_version": "1.5.0",
      "model_name": "DescriptionStyleModel",
      "state": {}
     },
     "c20fde8da00e4d4860ebd02af30e0e69": {
      "model_module": "cl-cytoscape",
      "model_module_version": "^0.1.96",
      "model_name": "MenuCommandModel",
      "state": {
       "_model_module_version": "^0.1.96",
       "_view_module_version": "^0.1.96",
       "content": "<span class='fa fa-flash fa-2x'></span>",
       "fill_color": []
      }
     },
     "c28ce3a0f6134d693d689176a23b13cb": {
      "model_module": "cl-cytoscape",
      "model_module_version": "^0.1.96",
      "model_name": "CytoscapeModel",
      "state": {
       "_model_module_version": "^0.1.96",
       "_view_module_version": "^0.1.96",
       "box_selection_enabled": true,
       "context_menus": [
        "IPY_MODEL_285a287e6d6c43944e84ff1ee4619d84",
        "IPY_MODEL_12f91ac409fb4b4bc0d74cfcf0c61a4b"
       ],
       "desktop_tap_threshold": 4,
       "elements": [
        "IPY_MODEL_825af98644354d527787321ca8e8a8cc",
        "IPY_MODEL_a618b67b3dcf463d1c5cc9d49c45a4e0",
        "IPY_MODEL_81862e6842db44bd547b49ac4ddbcacf"
       ],
       "graph_layouts": [
        "IPY_MODEL_0f3880cdb0e54af12eff4f4253a69cb0"
       ],
       "layout": "IPY_MODEL_374b4bfa4908444faf335f5eebe59574",
       "max_zoom": 9.999999999999999e+49,
       "min_zoom": 1.0000000000000001e-50,
       "pan": {
        "x": -6087.756592345312,
        "y": -1915.8950723352673
       },
       "style": "IPY_MODEL_07d9ad3c68df464583cea0906ff5ef09",
       "tooltip_source": "tooltip",
       "zoom": 10.579475361676337
      }
     },
     "c7db8df5fc04434df3e1277a59ee73e0": {
      "model_module": "@jupyter-widgets/base",
      "model_module_version": "1.2.0",
      "model_name": "LayoutModel",
      "state": {}
     },
     "c8644dc2acbc44f9e1bab8688b966a94": {
      "model_module": "cl-cytoscape",
      "model_module_version": "^0.1.96",
      "model_name": "MenuCommandModel",
      "state": {
       "_model_module_version": "^0.1.96",
       "_view_module_version": "^0.1.96",
       "content": "quux",
       "fill_color": []
      }
     },
     "de1151e3124c49a7dbde58b0507c9d3f": {
      "model_module": "cl-cytoscape",
      "model_module_version": "^0.1.96",
      "model_name": "MenuCommandModel",
      "state": {
       "_model_module_version": "^0.1.96",
       "_view_module_version": "^0.1.96",
       "content": "bar",
       "fill_color": []
      }
     },
     "f0c438f4112849ba87a6eeadf7872919": {
      "model_module": "cl-cytoscape",
      "model_module_version": "^0.1.96",
      "model_name": "MenuCommandModel",
      "state": {
       "_model_module_version": "^0.1.96",
       "_view_module_version": "^0.1.96",
       "content": "fu",
       "fill_color": []
      }
     }
    },
    "version_major": 2,
    "version_minor": 0
   }
  }
 },
 "nbformat": 4,
 "nbformat_minor": 4
}
