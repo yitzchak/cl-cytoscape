{
 "cells": [
  {
   "cell_type": "code",
   "execution_count": 1,
   "metadata": {},
   "outputs": [
    {
     "name": "stdout",
     "output_type": "stream",
     "text": [
      "To load \"cytoscape-clj\":\n",
      "  Load 1 ASDF system:\n",
      "    cytoscape-clj\n"
     ]
    },
    {
     "data": {
      "text/plain": [
       "(:CYTOSCAPE-CLJ)"
      ]
     },
     "execution_count": 1,
     "metadata": {},
     "output_type": "execute_result"
    },
    {
     "name": "stdout",
     "output_type": "stream",
     "text": [
      "\n",
      "; Loading \"cytoscape-clj\"\n",
      "\n"
     ]
    }
   ],
   "source": [
    "(ql:quickload :cytoscape-clj)"
   ]
  },
  {
   "cell_type": "code",
   "execution_count": 2,
   "metadata": {},
   "outputs": [
    {
     "data": {
      "text/plain": [
       "O"
      ]
     },
     "execution_count": 2,
     "metadata": {},
     "output_type": "execute_result"
    },
    {
     "data": {
      "text/plain": [
       "ON-SELECTION"
      ]
     },
     "execution_count": 2,
     "metadata": {},
     "output_type": "execute_result"
    },
    {
     "data": {
      "text/plain": [
       "C"
      ]
     },
     "execution_count": 2,
     "metadata": {},
     "output_type": "execute_result"
    },
    {
     "data": {
      "text/plain": [
       "NIL"
      ]
     },
     "execution_count": 2,
     "metadata": {},
     "output_type": "execute_result"
    },
    {
     "data": {
      "application/vnd.jupyter.widget-view+json": {
       "model_id": "7ecdefb1ab8d4c2fad70f55459b8ba3f",
       "version_major": 2,
       "version_minor": 0
      },
      "text/plain": [
       "A Jupyter Widget"
      ]
     },
     "metadata": {},
     "output_type": "display_data"
    },
    {
     "data": {
      "application/vnd.jupyter.widget-view+json": {
       "model_id": "ec15c74e24544f2edbf34f523ef02684",
       "version_major": 2,
       "version_minor": 0
      },
      "text/plain": [
       "A Jupyter Widget"
      ]
     },
     "metadata": {},
     "output_type": "display_data"
    }
   ],
   "source": [
    "(defparameter o (make-instance 'jupyter-widgets:text-area :rows 16))\n",
    "\n",
    "(defun on-selection (instance name type old-value new-value source)\n",
    "    (setf (jupyter-widgets:widget-value o)\n",
    "        (format nil \n",
    "                \"~A~&~:[Edge~;Node~] ~A ~:[deselected~;selected~].\" \n",
    "                (jupyter-widgets:widget-value o)\n",
    "                (string= \"nodes\" (cytoscape:group instance))\n",
    "                (cdr (assoc \"id\" (cytoscape:data instance) :test #'string=))\n",
    "                new-value)))\n",
    "\n",
    "(defparameter c (make-instance 'cytoscape:cytoscape-widget :graph-layouts (list (make-instance 'cytoscape:cola-layout))\n",
    "                               :elements (list (make-instance 'cytoscape:element :group \"nodes\" :data '((\"id\" . \"a\")))                                         \n",
    "                                               (make-instance 'cytoscape:element :group \"nodes\" :data '((\"id\" . \"b\")))                                         \n",
    "                                               (make-instance 'cytoscape:element :group \"edges\" :data '((\"id\" . \"ab\") (\"source\" . \"a\") (\"target\" . \"b\"))))\n",
    "                               :context-menus (list (make-instance 'cytoscape:context-menu \n",
    "                                                                   :commands (list (make-instance 'cytoscape:menu-command :content \"fu\" :on-select (list (lambda (instance id) (setf (jupyter-widgets:widget-value o) (format nil \"~A~&fu on ~A\" (jupyter-widgets:widget-value o) id)))))\n",
    "                                                                                   (make-instance 'cytoscape:menu-command :content \"bar\" :on-select (list (lambda (instance id) (setf (jupyter-widgets:widget-value o) (format nil \"~A~&bar on ~A\" (jupyter-widgets:widget-value o) id)))))\n",
    "                                                                                   (make-instance 'cytoscape:menu-command :content \"<span class='fa fa-star fa-2x'></span>\" :on-select (list (lambda (instance id) (setf (jupyter-widgets:widget-value o) (format nil \"~A~&star on ~A\" (jupyter-widgets:widget-value o) id)))))))\n",
    "                                                    (make-instance 'cytoscape:context-menu \n",
    "                                                                   :selector \"edge\"\n",
    "                                                                   :commands (list (make-instance 'cytoscape:menu-command :content \"quux\" :on-select (list (lambda (instance id) (setf (jupyter-widgets:widget-value o) (format nil \"~A~&quux on ~A\" (jupyter-widgets:widget-value o) id)))))\n",
    "                                                                                   (make-instance 'cytoscape:menu-command :content \"<span class='fa fa-flash fa-2x'></span>\" :on-select (list (lambda (instance id) (setf (jupyter-widgets:widget-value o) (format nil \"~A~&flash on ~A\" (jupyter-widgets:widget-value o) id))))))))))\n",
    "\n",
    "(dolist (instance (cytoscape:elements c))\n",
    "    (jupyter-widgets:observe instance :selected #'on-selection))\n",
    "\n",
    "c\n",
    "o"
   ]
  },
  {
   "cell_type": "code",
   "execution_count": null,
   "metadata": {},
   "outputs": [],
   "source": []
  }
 ],
 "metadata": {
  "kernelspec": {
   "display_name": "Common Lisp (clasp)",
   "language": "common-lisp",
   "name": "common-lisp_clasp"
  },
  "language_info": {
   "codemirror_mode": "text/x-common-lisp",
   "file_extension": ".lisp",
   "mimetype": "text/x-common-lisp",
   "name": "common-lisp",
   "pygments_lexer": "common-lisp",
   "version": "cclasp-boehm-0.4.2-2722-gc7cf406d8-cst"
  },
  "widgets": {
   "application/vnd.jupyter.widget-state+json": {
    "state": {
     "0b91f1e6793e40cb8f81f5aa566e663b": {
      "model_module": "cytoscape-clj",
      "model_module_version": "^0.2.0",
      "model_name": "ColaLayoutModel",
      "state": {
       "_model_module_version": "^0.2.0",
       "_view_module_version": "^0.2.0",
       "handle_disconnected": false,
       "unconst_iter": null,
       "ungrabify_while_simulating": false
      }
     },
     "1a1a18cde2994b4b73486c9374ec8b18": {
      "model_module": "cytoscape-clj",
      "model_module_version": "^0.2.0",
      "model_name": "ContextMenuModel",
      "state": {
       "_model_module_version": "^0.2.0",
       "_view_module_version": "^0.2.0",
       "commands": [
        "IPY_MODEL_2948c5d628fc442d3850a7adcbef03f9",
        "IPY_MODEL_c80f1aaf6070487ec1ccb59279a3582c"
       ],
       "selector": "edge"
      }
     },
     "1db43f852a1c4085f4f9bdda7e387aa7": {
      "model_module": "@jupyter-widgets/base",
      "model_module_version": "1.2.0",
      "model_name": "LayoutModel",
      "state": {}
     },
     "2948c5d628fc442d3850a7adcbef03f9": {
      "model_module": "cytoscape-clj",
      "model_module_version": "^0.2.0",
      "model_name": "MenuCommandModel",
      "state": {
       "_model_module_version": "^0.2.0",
       "_view_module_version": "^0.2.0",
       "content": "quux",
       "fill_color": []
      }
     },
     "583f08f054bf48b6cef91f24f675e53c": {
      "model_module": "cytoscape-clj",
      "model_module_version": "^0.2.0",
      "model_name": "ElementModel",
      "state": {
       "_model_module_version": "^0.2.0",
       "_view_module_version": "^0.2.0",
       "data": {
        "id": "b"
       },
       "position": {
        "x": -25.495237526274398,
        "y": 0.1376994961049538
       },
       "selected": true
      }
     },
     "59b34d03d71a403bab620d8036eae983": {
      "model_module": "cytoscape-clj",
      "model_module_version": "^0.2.0",
      "model_name": "ContextMenuModel",
      "state": {
       "_model_module_version": "^0.2.0",
       "_view_module_version": "^0.2.0",
       "commands": [
        "IPY_MODEL_88b8e2db37614e5c364bb3bda309aca3",
        "IPY_MODEL_f785271897f6445ff66ed918746ec4b2",
        "IPY_MODEL_8d7d39db569943eee2f47a47c20f4c0c"
       ]
      }
     },
     "768edde821a74af018996cce1bafc6e7": {
      "model_module": "cytoscape-clj",
      "model_module_version": "^0.2.0",
      "model_name": "ElementModel",
      "state": {
       "_model_module_version": "^0.2.0",
       "_view_module_version": "^0.2.0",
       "data": {
        "id": "ab",
        "source": "a",
        "target": "b"
       },
       "group": "edges"
      }
     },
     "7ecdefb1ab8d4c2fad70f55459b8ba3f": {
      "model_module": "cytoscape-clj",
      "model_module_version": "^0.2.0",
      "model_name": "CytoscapeModel",
      "state": {
       "_model_module_version": "^0.2.0",
       "_view_module_version": "^0.2.0",
       "box_selection_enabled": true,
       "context_menus": [
        "IPY_MODEL_59b34d03d71a403bab620d8036eae983",
        "IPY_MODEL_1a1a18cde2994b4b73486c9374ec8b18"
       ],
       "desktop_tap_threshold": 4,
       "elements": [
        "IPY_MODEL_e5881690236b4cd8ab5377bd5116450a",
        "IPY_MODEL_583f08f054bf48b6cef91f24f675e53c",
        "IPY_MODEL_768edde821a74af018996cce1bafc6e7"
       ],
       "graph_layouts": [
        "IPY_MODEL_0b91f1e6793e40cb8f81f5aa566e663b"
       ],
       "layout": "IPY_MODEL_e12ef6ca811b4534fae6c49e4493f41a",
       "max_zoom": 9.999999999999999e+49,
       "min_zoom": 1.0000000000000001e-50,
       "pan": {
        "x": 640.7393479176599,
        "y": 199.2716057868212
       },
       "style": "IPY_MODEL_d9514323acbe4fe95abaad93f8504c27",
       "tooltip_source": "tooltip",
       "zoom": 10.579475361676323
      }
     },
     "88b8e2db37614e5c364bb3bda309aca3": {
      "model_module": "cytoscape-clj",
      "model_module_version": "^0.2.0",
      "model_name": "MenuCommandModel",
      "state": {
       "_model_module_version": "^0.2.0",
       "_view_module_version": "^0.2.0",
       "content": "fu",
       "fill_color": []
      }
     },
     "8d7d39db569943eee2f47a47c20f4c0c": {
      "model_module": "cytoscape-clj",
      "model_module_version": "^0.2.0",
      "model_name": "MenuCommandModel",
      "state": {
       "_model_module_version": "^0.2.0",
       "_view_module_version": "^0.2.0",
       "content": "<span class='fa fa-star fa-2x'></span>",
       "fill_color": []
      }
     },
     "c80f1aaf6070487ec1ccb59279a3582c": {
      "model_module": "cytoscape-clj",
      "model_module_version": "^0.2.0",
      "model_name": "MenuCommandModel",
      "state": {
       "_model_module_version": "^0.2.0",
       "_view_module_version": "^0.2.0",
       "content": "<span class='fa fa-flash fa-2x'></span>",
       "fill_color": []
      }
     },
     "d9514323acbe4fe95abaad93f8504c27": {
      "model_module": "cytoscape-clj",
      "model_module_version": "^0.2.0",
      "model_name": "CytoscapeStyleModel",
      "state": {
       "_model_module_version": "^0.2.0"
      }
     },
     "e12ef6ca811b4534fae6c49e4493f41a": {
      "model_module": "@jupyter-widgets/base",
      "model_module_version": "1.2.0",
      "model_name": "LayoutModel",
      "state": {}
     },
     "e5881690236b4cd8ab5377bd5116450a": {
      "model_module": "cytoscape-clj",
      "model_module_version": "^0.2.0",
      "model_name": "ElementModel",
      "state": {
       "_model_module_version": "^0.2.0",
       "_view_module_version": "^0.2.0",
       "data": {
        "id": "a"
       },
       "position": {
        "x": 24.5047634737256,
        "y": 0
       }
      }
     },
     "ec15c74e24544f2edbf34f523ef02684": {
      "model_module": "@jupyter-widgets/controls",
      "model_module_version": "1.5.0",
      "model_name": "TextareaModel",
      "state": {
       "layout": "IPY_MODEL_1db43f852a1c4085f4f9bdda7e387aa7",
       "rows": 16,
       "style": "IPY_MODEL_fbcf63758261445b44fe29efb9c26ab3",
       "value": "Node b selected."
      }
     },
     "f785271897f6445ff66ed918746ec4b2": {
      "model_module": "cytoscape-clj",
      "model_module_version": "^0.2.0",
      "model_name": "MenuCommandModel",
      "state": {
       "_model_module_version": "^0.2.0",
       "_view_module_version": "^0.2.0",
       "content": "bar",
       "fill_color": []
      }
     },
     "fbcf63758261445b44fe29efb9c26ab3": {
      "model_module": "@jupyter-widgets/controls",
      "model_module_version": "1.5.0",
      "model_name": "DescriptionStyleModel",
      "state": {}
     }
    },
    "version_major": 2,
    "version_minor": 0
   }
  }
 },
 "nbformat": 4,
 "nbformat_minor": 4
}
