{
 "cells": [
  {
   "cell_type": "code",
   "execution_count": 1,
   "metadata": {},
   "outputs": [
    {
     "name": "stdout",
     "output_type": "stream",
     "text": [
      "To load \"cl-cytoscape\":\n",
      "  Load 1 ASDF system:\n",
      "    cl-cytoscape\n"
     ]
    },
    {
     "data": {
      "text/plain": [
       "(:CL-CYTOSCAPE)"
      ]
     },
     "execution_count": 1,
     "metadata": {},
     "output_type": "execute_result"
    },
    {
     "name": "stdout",
     "output_type": "stream",
     "text": [
      "\n",
      "; Loading \"cl-cytoscape\"\n",
      "\n"
     ]
    }
   ],
   "source": [
    "(ql:quickload :cl-cytoscape)"
   ]
  },
  {
   "cell_type": "code",
   "execution_count": 2,
   "metadata": {},
   "outputs": [
    {
     "data": {
      "text/plain": [
       "O"
      ]
     },
     "execution_count": 2,
     "metadata": {},
     "output_type": "execute_result"
    },
    {
     "data": {
      "text/plain": [
       "ON-SELECTION"
      ]
     },
     "execution_count": 2,
     "metadata": {},
     "output_type": "execute_result"
    },
    {
     "data": {
      "text/plain": [
       "C"
      ]
     },
     "execution_count": 2,
     "metadata": {},
     "output_type": "execute_result"
    },
    {
     "data": {
      "text/plain": [
       "NIL"
      ]
     },
     "execution_count": 2,
     "metadata": {},
     "output_type": "execute_result"
    },
    {
     "data": {
      "application/vnd.jupyter.widget-view+json": {
       "model_id": "24294b0aec3a4dd3f9b6312728d1eb41",
       "version_major": 2,
       "version_minor": 0
      },
      "text/plain": [
       "A Jupyter Widget"
      ]
     },
     "metadata": {},
     "output_type": "display_data"
    },
    {
     "data": {
      "application/vnd.jupyter.widget-view+json": {
       "model_id": "61a7eb13149d4cb533bf191d02e5b232",
       "version_major": 2,
       "version_minor": 0
      },
      "text/plain": [
       "A Jupyter Widget"
      ]
     },
     "metadata": {},
     "output_type": "display_data"
    }
   ],
   "source": [
    "(defparameter o (make-instance 'jupyter-widgets:text-area :rows 16))\n",
    "\n",
    "(defun on-selection (instance name type old-value new-value source)\n",
    "    (setf (jupyter-widgets:widget-value o)\n",
    "        (format nil \n",
    "                \"~A~&~:[Edge~;Node~] ~A ~:[deselected~;selected~].\" \n",
    "                (jupyter-widgets:widget-value o)\n",
    "                (string= \"nodes\" (cytoscape:group instance))\n",
    "                (cdr (assoc \"id\" (cytoscape:data instance) :test #'string=))\n",
    "                new-value)))\n",
    "\n",
    "(defparameter c (make-instance 'cytoscape:cytoscape-widget :graph-layouts (list (make-instance 'cytoscape:cola-layout))\n",
    "                               :elements (list (make-instance 'cytoscape:element :group \"nodes\" :data '((\"id\" . \"a\")))                                         \n",
    "                                               (make-instance 'cytoscape:element :group \"nodes\" :data '((\"id\" . \"b\")))                                         \n",
    "                                               (make-instance 'cytoscape:element :group \"edges\" :data '((\"id\" . \"ab\") (\"source\" . \"a\") (\"target\" . \"b\"))))\n",
    "                               :context-menus (list (make-instance 'cytoscape:context-menu \n",
    "                                                                   :commands (list (make-instance 'cytoscape:menu-command :content \"fu\" :on-select (list (lambda (instance id) (setf (jupyter-widgets:widget-value o) (format nil \"~A~&fu on ~A\" (jupyter-widgets:widget-value o) id)))))\n",
    "                                                                                   (make-instance 'cytoscape:menu-command :content \"bar\" :on-select (list (lambda (instance id) (setf (jupyter-widgets:widget-value o) (format nil \"~A~&bar on ~A\" (jupyter-widgets:widget-value o) id)))))\n",
    "                                                                                   (make-instance 'cytoscape:menu-command :content \"<span class='fa fa-star fa-2x'></span>\" :on-select (list (lambda (instance id) (setf (jupyter-widgets:widget-value o) (format nil \"~A~&star on ~A\" (jupyter-widgets:widget-value o) id)))))))\n",
    "                                                    (make-instance 'cytoscape:context-menu \n",
    "                                                                   :selector \"edge\"\n",
    "                                                                   :commands (list (make-instance 'cytoscape:menu-command :content \"quux\" :on-select (list (lambda (instance id) (setf (jupyter-widgets:widget-value o) (format nil \"~A~&quux on ~A\" (jupyter-widgets:widget-value o) id)))))\n",
    "                                                                                   (make-instance 'cytoscape:menu-command :content \"<span class='fa fa-flash fa-2x'></span>\" :on-select (list (lambda (instance id) (setf (jupyter-widgets:widget-value o) (format nil \"~A~&flash on ~A\" (jupyter-widgets:widget-value o) id))))))))))\n",
    "\n",
    "(dolist (instance (cytoscape:elements c))\n",
    "    (jupyter-widgets:observe instance :selected #'on-selection))\n",
    "\n",
    "c\n",
    "o"
   ]
  },
  {
   "cell_type": "code",
   "execution_count": null,
   "metadata": {},
   "outputs": [],
   "source": []
  }
 ],
 "metadata": {
  "kernelspec": {
   "display_name": "Common Lisp (clasp)",
   "language": "common-lisp",
   "name": "common-lisp_clasp"
  },
  "language_info": {
   "codemirror_mode": "text/x-common-lisp",
   "file_extension": ".lisp",
   "mimetype": "text/x-common-lisp",
   "name": "common-lisp",
   "pygments_lexer": "common-lisp",
   "version": "cclasp-boehm-0.4.2-2722-gc7cf406d8-cst"
  },
  "widgets": {
   "application/vnd.jupyter.widget-state+json": {
    "state": {
     "0d9c822586dc409e4bdd4e9feeab1caf": {
      "model_module": "cl-cytoscape",
      "model_module_version": "^0.1.96",
      "model_name": "MenuCommandModel",
      "state": {
       "_model_module_version": "^0.1.96",
       "_view_module_version": "^0.1.96",
       "content": "<span class='fa fa-flash fa-2x'></span>",
       "fill_color": []
      }
     },
     "11d8e9acc06e4fd3fe2eeb3841d3893d": {
      "model_module": "cl-cytoscape",
      "model_module_version": "^0.1.96",
      "model_name": "MenuCommandModel",
      "state": {
       "_model_module_version": "^0.1.96",
       "_view_module_version": "^0.1.96",
       "content": "quux",
       "fill_color": []
      }
     },
     "1c25b0df4f584e1b73cc9f8c46947866": {
      "model_module": "cl-cytoscape",
      "model_module_version": "^0.1.96",
      "model_name": "ElementModel",
      "state": {
       "_model_module_version": "^0.1.96",
       "_view_module_version": "^0.1.96",
       "data": {
        "id": "a"
       },
       "position": {
        "x": 24.5047634737256,
        "y": 0
       },
       "selected": true
      }
     },
     "24294b0aec3a4dd3f9b6312728d1eb41": {
      "model_module": "cl-cytoscape",
      "model_module_version": "^0.1.96",
      "model_name": "CytoscapeModel",
      "state": {
       "_model_module_version": "^0.1.96",
       "_view_module_version": "^0.1.96",
       "box_selection_enabled": true,
       "context_menus": [
        "IPY_MODEL_e638e5df7f804b0bd8316e789a5c0444",
        "IPY_MODEL_e294e8da6aa541c8e7c3970fd3220f3f"
       ],
       "desktop_tap_threshold": 4,
       "elements": [
        "IPY_MODEL_1c25b0df4f584e1b73cc9f8c46947866",
        "IPY_MODEL_797fc8563acc4fd43da40464e957a1db",
        "IPY_MODEL_98b31c138c974ac767b5564a1a52121c"
       ],
       "graph_layouts": [
        "IPY_MODEL_4a20a0a79e944c387e360ba2c96b05fb"
       ],
       "layout": "IPY_MODEL_db0ce6126c62498d383dee4ead6f6edc",
       "max_zoom": 9.999999999999999e+49,
       "min_zoom": 1.0000000000000001e-50,
       "pan": {
        "x": 640.7393479176599,
        "y": 199.2716057868212
       },
       "style": "IPY_MODEL_3382407c8cba43e1c934c4f5e4a9939b",
       "tooltip_source": "tooltip",
       "zoom": 10.579475361676323
      }
     },
     "3382407c8cba43e1c934c4f5e4a9939b": {
      "model_module": "cl-cytoscape",
      "model_module_version": "^0.1.96",
      "model_name": "CytoscapeStyleModel",
      "state": {
       "_model_module_version": "^0.1.96"
      }
     },
     "4a20a0a79e944c387e360ba2c96b05fb": {
      "model_module": "cl-cytoscape",
      "model_module_version": "^0.1.96",
      "model_name": "ColaLayoutModel",
      "state": {
       "_model_module_version": "^0.1.96",
       "_view_module_version": "^0.1.96",
       "handle_disconnected": false,
       "unconst_iter": null,
       "ungrabify_while_simulating": false
      }
     },
     "61a7eb13149d4cb533bf191d02e5b232": {
      "model_module": "@jupyter-widgets/controls",
      "model_module_version": "1.5.0",
      "model_name": "TextareaModel",
      "state": {
       "layout": "IPY_MODEL_8108e70a7f134d191f8c3d674095ea6d",
       "rows": 16,
       "style": "IPY_MODEL_aa88504a9f0c4d1c0b2dade1fb84e7f5",
       "value": "Node b selected.\nNode b deselected.\nEdge ab selected.\nEdge ab deselected.\nNode a selected."
      }
     },
     "6beace3d530a406c703ee153a15a6b01": {
      "model_module": "cl-cytoscape",
      "model_module_version": "^0.1.96",
      "model_name": "MenuCommandModel",
      "state": {
       "_model_module_version": "^0.1.96",
       "_view_module_version": "^0.1.96",
       "content": "<span class='fa fa-star fa-2x'></span>",
       "fill_color": []
      }
     },
     "797fc8563acc4fd43da40464e957a1db": {
      "model_module": "cl-cytoscape",
      "model_module_version": "^0.1.96",
      "model_name": "ElementModel",
      "state": {
       "_model_module_version": "^0.1.96",
       "_view_module_version": "^0.1.96",
       "data": {
        "id": "b"
       },
       "position": {
        "x": -25.495237526274398,
        "y": 0.1376994961049538
       }
      }
     },
     "8108e70a7f134d191f8c3d674095ea6d": {
      "model_module": "@jupyter-widgets/base",
      "model_module_version": "1.2.0",
      "model_name": "LayoutModel",
      "state": {}
     },
     "98b31c138c974ac767b5564a1a52121c": {
      "model_module": "cl-cytoscape",
      "model_module_version": "^0.1.96",
      "model_name": "ElementModel",
      "state": {
       "_model_module_version": "^0.1.96",
       "_view_module_version": "^0.1.96",
       "data": {
        "id": "ab",
        "source": "a",
        "target": "b"
       },
       "group": "edges"
      }
     },
     "aa88504a9f0c4d1c0b2dade1fb84e7f5": {
      "model_module": "@jupyter-widgets/controls",
      "model_module_version": "1.5.0",
      "model_name": "DescriptionStyleModel",
      "state": {}
     },
     "db0ce6126c62498d383dee4ead6f6edc": {
      "model_module": "@jupyter-widgets/base",
      "model_module_version": "1.2.0",
      "model_name": "LayoutModel",
      "state": {}
     },
     "e294e8da6aa541c8e7c3970fd3220f3f": {
      "model_module": "cl-cytoscape",
      "model_module_version": "^0.1.96",
      "model_name": "ContextMenuModel",
      "state": {
       "_model_module_version": "^0.1.96",
       "_view_module_version": "^0.1.96",
       "commands": [
        "IPY_MODEL_11d8e9acc06e4fd3fe2eeb3841d3893d",
        "IPY_MODEL_0d9c822586dc409e4bdd4e9feeab1caf"
       ],
       "selector": "edge"
      }
     },
     "e638e5df7f804b0bd8316e789a5c0444": {
      "model_module": "cl-cytoscape",
      "model_module_version": "^0.1.96",
      "model_name": "ContextMenuModel",
      "state": {
       "_model_module_version": "^0.1.96",
       "_view_module_version": "^0.1.96",
       "commands": [
        "IPY_MODEL_ecd49f37f8a247f6cd2234dd2e821d7e",
        "IPY_MODEL_ffe9fa4c7c8044884867fc50b930aac6",
        "IPY_MODEL_6beace3d530a406c703ee153a15a6b01"
       ]
      }
     },
     "ecd49f37f8a247f6cd2234dd2e821d7e": {
      "model_module": "cl-cytoscape",
      "model_module_version": "^0.1.96",
      "model_name": "MenuCommandModel",
      "state": {
       "_model_module_version": "^0.1.96",
       "_view_module_version": "^0.1.96",
       "content": "fu",
       "fill_color": []
      }
     },
     "ffe9fa4c7c8044884867fc50b930aac6": {
      "model_module": "cl-cytoscape",
      "model_module_version": "^0.1.96",
      "model_name": "MenuCommandModel",
      "state": {
       "_model_module_version": "^0.1.96",
       "_view_module_version": "^0.1.96",
       "content": "bar",
       "fill_color": []
      }
     }
    },
    "version_major": 2,
    "version_minor": 0
   }
  }
 },
 "nbformat": 4,
 "nbformat_minor": 4
}
